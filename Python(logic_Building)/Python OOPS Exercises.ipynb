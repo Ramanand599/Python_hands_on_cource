{
 "cells": [
  {
   "cell_type": "markdown",
   "id": "f2546431",
   "metadata": {},
   "source": [
    "### Get index in the list of objects by attribute in Python"
   ]
  },
  {
   "cell_type": "code",
   "execution_count": 6,
   "id": "3c80b0b2",
   "metadata": {},
   "outputs": [
    {
     "name": "stdout",
     "output_type": "stream",
     "text": [
      "0 1\n",
      "1 2\n",
      "2 3\n",
      "2\n"
     ]
    }
   ],
   "source": [
    "class X:\n",
    "    def __init__(self,val):\n",
    "        self.val = val\n",
    "        \n",
    "def getIndex(lst,target):\n",
    "    for idx,x in enumerate(lst):\n",
    "        print(idx,x.val)\n",
    "        if x.val == target:\n",
    "            return idx\n",
    "        \n",
    "lst = [1,2,3,4,5,6]\n",
    "a = list()\n",
    "for i in lst:\n",
    "    a.append(X(i))\n",
    "print(getIndex(a,3))\n",
    "        \n"
   ]
  },
  {
   "cell_type": "code",
   "execution_count": 9,
   "id": "f05371f3",
   "metadata": {},
   "outputs": [
    {
     "name": "stdout",
     "output_type": "stream",
     "text": [
      "0 1\n",
      "1 2\n",
      "2 3\n",
      "Index of 3 is :2\n"
     ]
    }
   ],
   "source": [
    "class X:\n",
    "    def __init__(self, val):\n",
    "        self.val = val\n",
    "\n",
    "def getIndex(lst, target):\n",
    "    for idx, x in enumerate(lst):\n",
    "        print(idx, x.val)\n",
    "        if x.val == target:\n",
    "            return idx\n",
    "\n",
    "lst = [1, 2, 3, 4, 5, 6]\n",
    "a = [X(i) for i in lst]\n",
    "\n",
    "# Example: Get the index of the target value (e.g., 3)\n",
    "target_value = 3\n",
    "index = getIndex(a, target_value)\n",
    "print(\"Index of {} is :{}\".format(target_value, index))\n"
   ]
  },
  {
   "cell_type": "markdown",
   "id": "147a1b94",
   "metadata": {},
   "source": [
    "### Python program to build flashcard using class in Python"
   ]
  },
  {
   "cell_type": "code",
   "execution_count": 12,
   "id": "c9298dd3",
   "metadata": {},
   "outputs": [
    {
     "name": "stdout",
     "output_type": "stream",
     "text": [
      "Welcome to the flashcard application\n",
      "enter the name you want to add to flashcard : ram\n",
      "enter the meaning of the word : sham\n",
      "enter 0 , if you want to add another flashcard : 0\n",
      "enter the name you want to add to flashcard : hari\n",
      "enter the meaning of the word : kam\n",
      "enter 0 , if you want to add another flashcard : 1\n",
      "\n",
      " Your Flashcard\n",
      "> ram(sham)\n",
      "> hari(kam)\n"
     ]
    }
   ],
   "source": [
    "class flashcard:\n",
    "    def __init__(self,word,meaning):\n",
    "        self.word = word\n",
    "        self.meaning = meaning\n",
    "    def __str__(self):\n",
    "        return self.word+\"(\"+self.meaning+\")\"\n",
    "    \n",
    "flash = []\n",
    "print(\"Welcome to the flashcard application\")\n",
    "while True:\n",
    "    word =input(\"enter the name you want to add to flashcard : \")\n",
    "    meaning = input(\"enter the meaning of the word : \")\n",
    "    flash.append(flashcard(word,meaning))\n",
    "    option = int(input(\"enter 0 , if you want to add another flashcard : \"))\n",
    "    if option !=0:\n",
    "        break\n",
    "print(\"\\n Your Flashcard\")\n",
    "for i in flash:\n",
    "    print(\">\",i)"
   ]
  },
  {
   "cell_type": "code",
   "execution_count": 13,
   "id": "2dcabe7c",
   "metadata": {},
   "outputs": [
    {
     "name": "stdout",
     "output_type": "stream",
     "text": [
      "Welcome to the flashcard application\n",
      "Enter the word you want to add to the flashcard: ram\n",
      "Enter the meaning of the word: as\n",
      "Enter 0 if you want to add another flashcard, else any other number: 0\n",
      "Enter the word you want to add to the flashcard: ram\n",
      "Enter the meaning of the word: kam\n",
      "Enter 0 if you want to add another flashcard, else any other number: 1\n",
      "\n",
      "Your Flashcards:\n",
      "> ram(as)\n",
      "> ram(kam)\n"
     ]
    }
   ],
   "source": [
    "class Flashcard:\n",
    "    def __init__(self, word, meaning):\n",
    "        self.word = word\n",
    "        self.meaning = meaning\n",
    "\n",
    "    def __str__(self):\n",
    "        return self.word + \"(\" + self.meaning + \")\"\n",
    "\n",
    "flashcards = []\n",
    "print(\"Welcome to the flashcard application\")\n",
    "\n",
    "while True:\n",
    "    word = input(\"Enter the word you want to add to the flashcard: \")\n",
    "    meaning = input(\"Enter the meaning of the word: \")\n",
    "    flashcards.append(Flashcard(word, meaning))\n",
    "    \n",
    "    option = int(input(\"Enter 0 if you want to add another flashcard, else any other number: \"))\n",
    "    if option != 0:\n",
    "        break\n",
    "\n",
    "print(\"\\nYour Flashcards:\")\n",
    "for card in flashcards:\n",
    "    print(\">\", card)\n"
   ]
  },
  {
   "cell_type": "code",
   "execution_count": 15,
   "id": "b32c0d58",
   "metadata": {},
   "outputs": [
    {
     "name": "stdout",
     "output_type": "stream",
     "text": [
      "Welcome to fruit quiz\n",
      "[INFO] What is the color of orange\n",
      "orange\n",
      "Correct answer\n",
      "Enter 0, if you want to play again or enter any number to exit the quiz game:0\n",
      "[INFO] What is the color of watermelon\n",
      "green\n",
      "Correct answer\n",
      "Enter 0, if you want to play again or enter any number to exit the quiz game:0\n",
      "[INFO] What is the color of watermelon\n",
      "red\n",
      "Incorrect Answer\n",
      "Enter 0, if you want to play again or enter any number to exit the quiz game:0\n",
      "[INFO] What is the color of banana\n",
      "Yellow\n",
      "Correct answer\n",
      "Enter 0, if you want to play again or enter any number to exit the quiz game:1\n"
     ]
    }
   ],
   "source": [
    "import random\n",
    "class flashcard:\n",
    "    def __init__(self):\n",
    "        self.fruits = {'apple':'red',\n",
    "                     'orange':'orange',\n",
    "                     'watermelon':'green',\n",
    "                     'banana':'yellow'}\n",
    "    def quiz(self):\n",
    "        while True:\n",
    "            fruit,color = random.choice(list(self.fruits.items()))\n",
    "            print(f\"[INFO] What is the color of {fruit}\")\n",
    "            user_answer = input()\n",
    "            if user_answer.lower() == color:\n",
    "                print(\"Correct answer\")\n",
    "            else:\n",
    "                print(\"Incorrect Answer\")\n",
    "                \n",
    "            option = int(input(\"Enter 0, if you want to play again or enter any number to exit the quiz game:\"))\n",
    "            if option != 0:\n",
    "                break\n",
    "print(\"Welcome to fruit quiz\")\n",
    "fc = flashcard()\n",
    "fc.quiz()"
   ]
  },
  {
   "cell_type": "markdown",
   "id": "3d5f8718",
   "metadata": {},
   "source": [
    "### How to count number of instances of a class in Python?"
   ]
  },
  {
   "cell_type": "code",
   "execution_count": 17,
   "id": "67708f82",
   "metadata": {},
   "outputs": [
    {
     "name": "stdout",
     "output_type": "stream",
     "text": [
      "2\n"
     ]
    }
   ],
   "source": [
    "class King:\n",
    "    counter = 0\n",
    "    def __init__(self):\n",
    "        King.counter += 1\n",
    "        \n",
    "g1 = King()\n",
    "#g2 = King()\n",
    "g3 = King()\n",
    "print(King.counter)"
   ]
  },
  {
   "cell_type": "markdown",
   "id": "3faf4335",
   "metadata": {},
   "source": [
    "### Shuffle a deck of card with OOPS in Python"
   ]
  },
  {
   "cell_type": "code",
   "execution_count": 19,
   "id": "89be6f9a",
   "metadata": {},
   "outputs": [
    {
     "name": "stdout",
     "output_type": "stream",
     "text": [
      "\n",
      " Player 1 Cards: \n",
      " ['A of Hearts', '2 of Hearts', '3 of Hearts', '4 of Hearts', '5 of Hearts', '6 of Hearts', '7 of Hearts', '8 of Hearts', '9 of Hearts', '10 of Hearts', 'J of Hearts', 'Q of Hearts', 'K of Hearts', 'A of Diamonds', '2 of Diamonds', '3 of Diamonds', '4 of Diamonds', '5 of Diamonds', '6 of Diamonds', '7 of Diamonds', '8 of Diamonds', '9 of Diamonds', '10 of Diamonds', 'J of Diamonds', 'Q of Diamonds', 'K of Diamonds', 'A of Clubs', '2 of Clubs', '3 of Clubs', '4 of Clubs', '5 of Clubs', '6 of Clubs', '7 of Clubs', '8 of Clubs', '9 of Clubs', '10 of Clubs', 'J of Clubs', 'Q of Clubs', 'K of Clubs', 'A of Spades', '2 of Spades', '3 of Spades', '4 of Spades', '5 of Spades', '6 of Spades', '7 of Spades', '8 of Spades', '9 of Spades', '10 of Spades', 'J of Spades', 'Q of Spades', 'K of Spades']\n",
      "\n",
      " Player 2 Cards: \n",
      " ['10 of Diamonds', '6 of Clubs', '5 of Diamonds', '2 of Spades', '6 of Diamonds', 'A of Hearts', 'J of Hearts', '10 of Hearts', '2 of Diamonds', 'J of Diamonds', '5 of Spades', 'J of Clubs', '7 of Diamonds', '9 of Spades', '2 of Hearts', '8 of Clubs', '8 of Diamonds', '9 of Hearts', 'J of Spades', '2 of Clubs', 'K of Clubs', '8 of Spades', 'K of Hearts', '5 of Clubs', '3 of Diamonds', '3 of Spades', '6 of Spades', '4 of Hearts', '10 of Clubs', '3 of Clubs', '4 of Spades', '9 of Diamonds', 'A of Clubs', '4 of Clubs', '7 of Clubs', 'A of Diamonds', '10 of Spades', '5 of Hearts', 'K of Spades', '9 of Clubs', 'Q of Hearts', '4 of Diamonds', '8 of Hearts', 'Q of Diamonds', '3 of Hearts', '7 of Spades', 'Q of Spades', '6 of Hearts', 'A of Spades', '7 of Hearts', 'K of Diamonds', 'Q of Clubs']\n",
      "\n",
      " Removing a card from the deck: Q of Clubs\n",
      "\n",
      " Removing another card from the deck: K of Diamonds\n"
     ]
    }
   ],
   "source": [
    "from random import shuffle\n",
    " \n",
    " \n",
    "# Define a class to create\n",
    "# all type of cards\n",
    "class Cards:\n",
    "    global suites, values\n",
    "    suites = ['Hearts', 'Diamonds', 'Clubs', 'Spades']\n",
    "    values = ['A', '2', '3', '4', '5', '6', '7', '8', '9', '10', 'J', 'Q', 'K']\n",
    " \n",
    "    def __init__(self):\n",
    "        pass\n",
    " \n",
    " \n",
    "# Define a class to categorize each card\n",
    "class Deck(Cards):\n",
    "    def __init__(self):\n",
    "        Cards.__init__(self)\n",
    "        self.mycardset = []\n",
    "        for n in suites:\n",
    "            for c in values:\n",
    "                self.mycardset.append((c)+\" \"+\"of\"+\" \"+n)\n",
    " \n",
    "    # Method to remove a card from the deck\n",
    "    def popCard(self):\n",
    "        if len(self.mycardset) == 0:\n",
    "            return \"NO CARDS CAN BE POPPED FURTHER\"\n",
    "        else:\n",
    "            cardpopped = self.mycardset.pop()\n",
    "            print(\"Card removed is\", cardpopped)\n",
    " \n",
    " \n",
    "# Define a class gto shuffle the deck of cards\n",
    "class ShuffleCards(Deck):\n",
    " \n",
    "    # Constructor\n",
    "    def __init__(self):\n",
    "        Deck.__init__(self)\n",
    " \n",
    "    # Method to shuffle cards\n",
    "    def shuffle(self):\n",
    "        if len(self.mycardset) < 52:\n",
    "            print(\"cannot shuffle the cards\")\n",
    "        else:\n",
    "            shuffle(self.mycardset)\n",
    "            return self.mycardset\n",
    " \n",
    "    # Method to remove a card from the deck\n",
    "    def popCard(self):\n",
    "        if len(self.mycardset) == 0:\n",
    "            return \"NO CARDS CAN BE POPPED FURTHER\"\n",
    "        else:\n",
    "            cardpopped = self.mycardset.pop()\n",
    "            return (cardpopped)\n",
    " \n",
    " \n",
    "# Driver Code\n",
    "# Creating objects\n",
    "objCards = Cards()\n",
    "objDeck = Deck()\n",
    " \n",
    "# Player 1\n",
    "player1Cards = objDeck.mycardset\n",
    "print('\\n Player 1 Cards: \\n', player1Cards)\n",
    " \n",
    "# Creating object\n",
    "objShuffleCards = ShuffleCards()\n",
    " \n",
    "# Player 2\n",
    "player2Cards = objShuffleCards.shuffle()\n",
    "print('\\n Player 2 Cards: \\n', player2Cards)\n",
    " \n",
    "# Remove some cards\n",
    "print('\\n Removing a card from the deck:', objShuffleCards.popCard())\n",
    "print('\\n Removing another card from the deck:', objShuffleCards.popCard())        "
   ]
  },
  {
   "cell_type": "markdown",
   "id": "787aa88c",
   "metadata": {},
   "source": [
    "### What is a clean, Pythonic way to have multiple constructors in Python?"
   ]
  },
  {
   "cell_type": "code",
   "execution_count": 2,
   "id": "29782b61",
   "metadata": {},
   "outputs": [
    {
     "name": "stdout",
     "output_type": "stream",
     "text": [
      "Three\n"
     ]
    }
   ],
   "source": [
    "class example:\n",
    "    def __init__(self):\n",
    "        print(\"One\")\n",
    "    def __init__(self):\n",
    "        print(\"Two\")\n",
    "    def __init__(self):\n",
    "        print(\"Three\")\n",
    "        \n",
    "e = example()"
   ]
  },
  {
   "cell_type": "code",
   "execution_count": 8,
   "id": "69d35ae6",
   "metadata": {},
   "outputs": [
    {
     "name": "stdout",
     "output_type": "stream",
     "text": [
      "Sum of list: 15\n",
      "Square : 25\n",
      "string: Hello KRC.\n"
     ]
    }
   ],
   "source": [
    "class sample:\n",
    "    def __init__(self,*args):\n",
    "        if len(args) > 1:\n",
    "            self.ans = 0\n",
    "            for i in args:\n",
    "                self.ans += i\n",
    "                \n",
    "        elif isinstance(args[0],str):\n",
    "            self.ans = \"Hello \"+args[0]+\".\"\n",
    "        elif isinstance(args[0],int):\n",
    "            self.ans = args[0]*args[0]\n",
    "            \n",
    "            \n",
    "s1 = sample(1,2,3,4,5)\n",
    "print(\"Sum of list:\",s1.ans)\n",
    "\n",
    "s2 = sample(5)\n",
    "print(\"Square :\",s2.ans)\n",
    "\n",
    "s3 = sample(\"KRC\")\n",
    "print(\"string:\",s3.ans)"
   ]
  },
  {
   "cell_type": "code",
   "execution_count": 10,
   "id": "f3cdb5a4",
   "metadata": {},
   "outputs": [
    {
     "name": "stdout",
     "output_type": "stream",
     "text": [
      "equation 2: 5\n",
      "equation 1: 2\n",
      "equation 3: 11.0\n"
     ]
    }
   ],
   "source": [
    "class eval_equations:\n",
    "    def __init__(self,*input):\n",
    "        \n",
    "        if len(input) == 2:\n",
    "            self.ans = self.eq2(input)\n",
    "            \n",
    "        elif len(input) == 3:\n",
    "            self.ans = self.eq1(input)\n",
    "            \n",
    "        else:\n",
    "            self.ans = self.eq3(input)\n",
    "            \n",
    "    def eq1(self,args):\n",
    "        x = (args[0]*args[0])+(args[1]*args[1])-args[2]\n",
    "        return x\n",
    "    def eq2(self,args):\n",
    "        y = (args[0]*args[0])+(args[1]*args[1])\n",
    "        return y\n",
    "    def eq3(self,args):\n",
    "        temp = 0\n",
    "        for i in range(0,len(args)):\n",
    "            temp += args[i]*args[i]\n",
    "        temp = temp/max(args)\n",
    "        z = temp\n",
    "        return z\n",
    "    \n",
    "n1 = eval_equations(1,2)\n",
    "n2 = eval_equations(1,2,3)\n",
    "n3 = eval_equations(1,2,3,4,5)\n",
    "print(\"equation 2:\",n1.ans)\n",
    "print(\"equation 1:\",n2.ans)\n",
    "print(\"equation 3:\",n3.ans)"
   ]
  },
  {
   "cell_type": "markdown",
   "id": "c80912ad",
   "metadata": {},
   "source": [
    "### How to Change a Dictionary Into a Class?"
   ]
  },
  {
   "cell_type": "code",
   "execution_count": 13,
   "id": "7b96139e",
   "metadata": {},
   "outputs": [
    {
     "name": "stdout",
     "output_type": "stream",
     "text": [
      "After converting Dictionary to class:\n",
      "Geeks 1223 Python\n",
      "<class '__main__.Dict2Class'>\n"
     ]
    }
   ],
   "source": [
    "class Dict2Class(object):\n",
    "    def __init__(self,my_dict):\n",
    "        for key in my_dict.keys():\n",
    "            setattr(self,key,my_dict[key])\n",
    "\n",
    "my_dict = {\"Name\": \"Geeks\", \n",
    "           \"Rank\": \"1223\", \n",
    "           \"Subject\": \"Python\"}  \n",
    "result = Dict2Class(my_dict)\n",
    "print(\"After converting Dictionary to class:\")\n",
    "print(result.Name,result.Rank,result.Subject)\n",
    "print(type(result))"
   ]
  },
  {
   "cell_type": "markdown",
   "id": "82dfef25",
   "metadata": {},
   "source": [
    "### How to create an empty class in Python?"
   ]
  },
  {
   "cell_type": "code",
   "execution_count": 15,
   "id": "df372d6d",
   "metadata": {},
   "outputs": [
    {
     "ename": "SyntaxError",
     "evalue": "incomplete input (193170114.py, line 3)",
     "output_type": "error",
     "traceback": [
      "\u001b[1;36m  Cell \u001b[1;32mIn[15], line 3\u001b[1;36m\u001b[0m\n\u001b[1;33m    class KRC: #This will return syntex error\u001b[0m\n\u001b[1;37m                                             ^\u001b[0m\n\u001b[1;31mSyntaxError\u001b[0m\u001b[1;31m:\u001b[0m incomplete input\n"
     ]
    }
   ],
   "source": [
    "# Incorrect empty class in  \n",
    "# Python\n",
    "class KRC: #This will return syntex error"
   ]
  },
  {
   "cell_type": "code",
   "execution_count": 18,
   "id": "337fe0a1",
   "metadata": {},
   "outputs": [
    {
     "name": "stdout",
     "output_type": "stream",
     "text": [
      "<__main__.KRC object at 0x0000017A624166D0>\n"
     ]
    }
   ],
   "source": [
    "class KRC:  # Empty Class\n",
    "    pass\n",
    "obj = KRC() # creating object\n",
    "print(obj)"
   ]
  },
  {
   "cell_type": "code",
   "execution_count": 20,
   "id": "91e4adf3",
   "metadata": {},
   "outputs": [
    {
     "name": "stdout",
     "output_type": "stream",
     "text": [
      "obj1 Details:\n",
      "Name: Nikhil\n",
      "Office: Bluereef\n",
      "\n",
      "obj2 Details:\n",
      "Name: Abhinav\n",
      "Office: infosys\n",
      "Phone: 123456789\n"
     ]
    }
   ],
   "source": [
    "class Employee:\n",
    "    pass\n",
    "\n",
    "# First Object Detail\n",
    "obj1 = Employee()\n",
    "obj1.name = \"Nikhil\"\n",
    "obj1.office = \"Bluereef\"\n",
    "print(\"obj1 Details:\") \n",
    "print(\"Name:\", obj1.name) \n",
    "print(\"Office:\", obj1.office) \n",
    "print() \n",
    "\n",
    "\n",
    "# Second object Detail\n",
    "obj2 = Employee()\n",
    "obj2.name = \"Abhinav\"\n",
    "obj2.office = \"infosys\"\n",
    "obj2.phone = 123456789\n",
    "print(\"obj2 Details:\") \n",
    "print(\"Name:\", obj2.name) \n",
    "print(\"Office:\", obj2.office) \n",
    "print(\"Phone:\", obj2.phone) "
   ]
  },
  {
   "cell_type": "markdown",
   "id": "e1d4f7d4",
   "metadata": {},
   "source": [
    "### Student management system in Python"
   ]
  },
  {
   "cell_type": "code",
   "execution_count": 22,
   "id": "0428b250",
   "metadata": {},
   "outputs": [
    {
     "name": "stdout",
     "output_type": "stream",
     "text": [
      "\n",
      " Operations used,\n",
      "\n",
      "1.Accept Student details\n",
      "2.Display student Detail\n",
      "3.SearchDetail of Student\n",
      "4.Delete Detail of Student\n",
      "5.update detail of student\n",
      "6.Exit\n",
      "\n",
      "\n",
      "\n",
      " List of Student\n",
      "\n",
      "Name: A\n",
      "Roll No: 1\n",
      "Marks: 100\n",
      "Marks: 100\n",
      "\n",
      "\n",
      "Name: B\n",
      "Roll No: 2\n",
      "Marks: 90\n",
      "Marks: 90\n",
      "\n",
      "\n",
      "Name: C\n",
      "Roll No: 3\n",
      "Marks: 80\n",
      "Marks: 80\n",
      "\n",
      "\n",
      "\n",
      " Student Found, \n",
      "Name: B\n",
      "Roll No: 2\n",
      "Marks: 90\n",
      "Marks: 90\n",
      "\n",
      "\n",
      "3\n",
      "List after updation\n",
      "Name: A\n",
      "Roll No: 1\n",
      "Marks: 100\n",
      "Marks: 100\n",
      "\n",
      "\n",
      "Name: B\n",
      "Roll No: 2\n",
      "Marks: 90\n",
      "Marks: 90\n",
      "\n",
      "\n",
      "Name: C\n",
      "Roll No: 2\n",
      "Marks: 80\n",
      "Marks: 80\n",
      "\n",
      "\n",
      "Thank You !\n"
     ]
    }
   ],
   "source": [
    "class student:\n",
    "    def __init__(self,name,rollno,m1,m2):\n",
    "        self.name = name\n",
    "        self.rollno = rollno\n",
    "        self.m1 = m1\n",
    "        self.m2 = m2\n",
    "        \n",
    "    def accept(self,Name,rollno,marks1,marks2):\n",
    "        ob = student(Name,rollno,marks1,marks2)\n",
    "        ls.append(ob)\n",
    "        \n",
    "        \n",
    "    def display(self,ob):\n",
    "        print(\"Name:\",ob.name)\n",
    "        print(\"Roll No:\",ob.rollno)\n",
    "        print(\"Marks:\",ob.m1)\n",
    "        print(\"Marks:\",ob.m2)\n",
    "        print(\"\\n\")\n",
    "        \n",
    "    def search(self,rn):\n",
    "        for i in range(ls.__len__()):\n",
    "            if(ls[i].rollno == rn):\n",
    "                return i\n",
    "            \n",
    "    def delete(self,rn):\n",
    "        i = obj.search(rn)\n",
    "        del ls[i]\n",
    "        \n",
    "    def update(self,rn,no):\n",
    "        i = obj.search(rn)\n",
    "        roll = no\n",
    "        ls[i].rollno = roll\n",
    "        \n",
    "ls = []\n",
    "obj = student(\"\",0,0,0)\n",
    "print(\"\\n Operations used,\")\n",
    "print(\"\\n1.Accept Student details\\n2.Display student Detail\\n3.SearchDetail of Student\\n4.Delete Detail of Student\\n5.update detail of student\\n6.Exit\")\n",
    "obj.accept(\"A\",1,100,100)\n",
    "obj.accept(\"B\",2,90,90)\n",
    "obj.accept(\"C\",3,80,80)\n",
    "print(\"\\n\")\n",
    "print(\"\\n List of Student\\n\")\n",
    "for i in range(ls.__len__()):\n",
    "    obj.display(ls[i])\n",
    " \n",
    "\n",
    "print(\"\\n Student Found, \")\n",
    "s = obj.search(2)\n",
    "obj.display(ls[s])\n",
    "obj.update(3, 2)\n",
    "print(ls.__len__())\n",
    "print(\"List after updation\")\n",
    "for i in range(ls.__len__()):\n",
    "    obj.display(ls[i])\n",
    " \n",
    "# else:\n",
    "print(\"Thank You !\")"
   ]
  },
  {
   "cell_type": "markdown",
   "id": "61d4de37",
   "metadata": {},
   "source": [
    "### How to create a list of object in Python class\n"
   ]
  },
  {
   "cell_type": "code",
   "execution_count": 24,
   "id": "bbf0ea56",
   "metadata": {},
   "outputs": [
    {
     "name": "stdout",
     "output_type": "stream",
     "text": [
      "Akash 2\n",
      "Dependra 40\n",
      "Reaper 44\n",
      "Vishal 67\n",
      "\n",
      "Akash\n",
      "Dependra\n",
      "Reaper\n",
      "Vishal\n"
     ]
    }
   ],
   "source": [
    "class KRC:\n",
    "    def __init__(self,name,roll):\n",
    "        self.name = name\n",
    "        self.roll = roll\n",
    "        \n",
    "lst = []\n",
    "lst.append(KRC(\"Akash\",2))\n",
    "lst.append(KRC(\"Dependra\",40))\n",
    "lst.append(KRC(\"Reaper\",44))\n",
    "lst.append(KRC(\"Vishal\",67))\n",
    "# print(lst)\n",
    "for obj in lst:\n",
    "    print(obj.name,obj.roll,sep = \" \")\n",
    "print(\"\")\n",
    "print(lst[0].name)\n",
    "print(lst[1].name)\n",
    "print(lst[2].name)\n",
    "print(lst[3].name)"
   ]
  },
  {
   "cell_type": "code",
   "execution_count": 28,
   "id": "20e071e0",
   "metadata": {},
   "outputs": [
    {
     "name": "stdout",
     "output_type": "stream",
     "text": [
      "5\n",
      "25\n",
      "55\n"
     ]
    }
   ],
   "source": [
    "class KRC:\n",
    "    def __init__(self,x,y):\n",
    "        self.x = x\n",
    "        self.y = y\n",
    "    def sum(self):\n",
    "        print(self.x + self.y)\n",
    "        \n",
    "lst = []\n",
    "lst.append(KRC(2,3))\n",
    "lst.append(KRC(12,13))\n",
    "lst.append(KRC(22,33))\n",
    "for obj in lst:\n",
    "    obj.sum()"
   ]
  },
  {
   "cell_type": "code",
   "execution_count": 30,
   "id": "2724fc61",
   "metadata": {},
   "outputs": [
    {
     "name": "stdout",
     "output_type": "stream",
     "text": [
      "ram 2\n",
      "sham 3\n",
      "shik 4\n"
     ]
    }
   ],
   "source": [
    "class krc:\n",
    "    def __init__(self,name,roll):\n",
    "        self.name = name\n",
    "        self.roll = roll\n",
    "lst = []\n",
    "lst += [krc(name,roll) for name,roll in [(\"ram\",2),(\"sham\",3),(\"shik\",4)]]\n",
    "for obj in lst:\n",
    "    print(obj.name,obj.roll,sep=\" \")"
   ]
  },
  {
   "cell_type": "code",
   "execution_count": null,
   "id": "b5527f85",
   "metadata": {},
   "outputs": [],
   "source": []
  }
 ],
 "metadata": {
  "kernelspec": {
   "display_name": "Python 3 (ipykernel)",
   "language": "python",
   "name": "python3"
  },
  "language_info": {
   "codemirror_mode": {
    "name": "ipython",
    "version": 3
   },
   "file_extension": ".py",
   "mimetype": "text/x-python",
   "name": "python",
   "nbconvert_exporter": "python",
   "pygments_lexer": "ipython3",
   "version": "3.11.5"
  }
 },
 "nbformat": 4,
 "nbformat_minor": 5
}
