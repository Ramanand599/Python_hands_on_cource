{
 "cells": [
  {
   "cell_type": "markdown",
   "id": "bf9dee7b",
   "metadata": {},
   "source": [
    "### Simple Diamond Pattern in Python"
   ]
  },
  {
   "cell_type": "markdown",
   "id": "f8304657",
   "metadata": {},
   "source": [
    "### Simple Diamond Pattern in Python"
   ]
  },
  {
   "cell_type": "code",
   "execution_count": 3,
   "id": "d76a1e25",
   "metadata": {},
   "outputs": [
    {
     "name": "stdout",
     "output_type": "stream",
     "text": [
      "  * * * * * *   \n",
      "* * * * * * * * \n",
      "  * * * * * *   \n",
      "    * * * *     \n",
      "      * *       \n",
      "                \n"
     ]
    }
   ],
   "source": [
    "size = 8 \n",
    "spaces = size\n",
    "for i in range(size//2+2):\n",
    "    for j in range(size):\n",
    "        if j < i-1:\n",
    "            print(\" \",end = \" \")\n",
    "        elif j > spaces:\n",
    "            print(\" \",end=\" \")\n",
    "        elif (i == 0 and j ==0)|(i==0 and j == size-1):\n",
    "            print(\" \",end=\" \")\n",
    "        else:\n",
    "            print(\"*\",end=\" \")\n",
    "    spaces -= 1\n",
    "    print()"
   ]
  },
  {
   "cell_type": "code",
   "execution_count": 14,
   "id": "1e1b1026",
   "metadata": {},
   "outputs": [
    {
     "name": "stdout",
     "output_type": "stream",
     "text": [
      "  * * * * * * * * *   \n",
      "* * * * * * * * * * * \n",
      "  * * * * * * * * *   \n",
      "    * * * * * * *     \n",
      "      * * * * *       \n",
      "        * * *         \n",
      "          *           \n"
     ]
    }
   ],
   "source": [
    "size = 11\n",
    "spaces = size\n",
    "for i in range(size//2+2):\n",
    "    for j in range(size):\n",
    "        if j < i-1:\n",
    "            print(\" \",end=\" \")\n",
    "        elif j >spaces:\n",
    "            print(\" \",end=\" \")\n",
    "        elif (i==0 and j==0)|(i == 0 and j == size -1):\n",
    "            print(\" \",end=\" \")\n",
    "        else:\n",
    "            print(\"*\",end=\" \")\n",
    "    spaces -= 1\n",
    "    print()"
   ]
  },
  {
   "cell_type": "markdown",
   "id": "11005ec1",
   "metadata": {},
   "source": [
    "### Print Heart Pattern"
   ]
  },
  {
   "cell_type": "code",
   "execution_count": 18,
   "id": "e42ca1f7",
   "metadata": {},
   "outputs": [
    {
     "name": "stdout",
     "output_type": "stream",
     "text": [
      "  *   *   *   *   \n",
      "*       *       * \n",
      "*               * \n",
      "*     R A R     * \n",
      "  *           *   \n",
      "    *       *     \n",
      "      *   *       \n",
      "        *         \n"
     ]
    }
   ],
   "source": [
    "n = 8\n",
    " \n",
    "# so this heart can be made n//2 part left,\n",
    "# n//2 part right, and one middle line\n",
    "# i.e; columns m = n + 1\n",
    "m = n+1\n",
    " \n",
    "# loops for upper part\n",
    "for i in range(n//2-1):\n",
    "    for j in range(m):\n",
    "         \n",
    "        # condition for printing stars to GFG upper line\n",
    "        if i == n//2-2 and (j == 0 or j == m-1):\n",
    "            print(\"*\", end=\" \")\n",
    "             \n",
    "        # condition for printing stars to left upper\n",
    "        elif j <= m//2 and ((i+j == n//2-3 and j <= m//4) \\\n",
    "                            or (j-i == m//2-n//2+3 and j > m//4)):\n",
    "            print(\"*\", end=\" \")\n",
    "             \n",
    "        # condition for printing stars to right upper\n",
    "        elif j > m//2 and ((i+j == n//2-3+m//2 and j < 3*m//4) \\\n",
    "                           or (j-i == m//2-n//2+3+m//2 and j >= 3*m//4)):\n",
    "            print(\"*\", end=\" \")\n",
    "             \n",
    "        # condition for printing spaces\n",
    "        else:\n",
    "            print(\" \", end=\" \")\n",
    "    print()\n",
    " \n",
    "# loops for lower part\n",
    "for i in range(n//2-1, n):\n",
    "    for j in range(m):\n",
    "         \n",
    "        # condition for printing stars\n",
    "        if (i-j == n//2-1) or (i+j == n-1+m//2):\n",
    "            print('*', end=\" \")\n",
    "             \n",
    "        # condition for printing GFG\n",
    "        elif i == n//2-1:\n",
    "             \n",
    "            if j == m//2-1 or j == m//2+1:\n",
    "                print('R', end=\" \")\n",
    "            elif j == m//2:\n",
    "                print('A', end=\" \")\n",
    "            else:\n",
    "                print(' ', end=\" \")\n",
    "                 \n",
    "        # condition for printing spaces\n",
    "        else:\n",
    "            print(' ', end=\" \")\n",
    "             \n",
    "    print()"
   ]
  },
  {
   "cell_type": "markdown",
   "id": "3412ffe0",
   "metadata": {},
   "source": [
    "### Python program to display half diamond pattern of numbers with star border"
   ]
  },
  {
   "cell_type": "code",
   "execution_count": 20,
   "id": "1fb1c703",
   "metadata": {},
   "outputs": [
    {
     "name": "stdout",
     "output_type": "stream",
     "text": [
      "\n",
      "For n = 5\n",
      "*\n",
      "*1*\n",
      "*121*\n",
      "*12321*\n",
      "*1234321*\n",
      "*123454321*\n",
      "*1234321*\n",
      "*12321*\n",
      "*121*\n",
      "*1*\n",
      "*\n",
      "\n",
      "For n = 3\n",
      "*\n",
      "*1*\n",
      "*121*\n",
      "*12321*\n",
      "*121*\n",
      "*1*\n",
      "*\n"
     ]
    }
   ],
   "source": [
    "def display(n):  \n",
    "   \n",
    "    print(\"*\")\n",
    "     \n",
    "    for i in range(1, n+1):\n",
    "        print(\"*\", end=\"\")\n",
    "         \n",
    "        # for loop to display number up to i\n",
    "        for j in range(1, i+1):  \n",
    "            print(j, end=\"\")\n",
    " \n",
    "        # for loop to display number in reverse direction    \n",
    "        for j in range(i-1, 0, -1):  \n",
    "            print(j, end=\"\")\n",
    " \n",
    "        print(\"*\", end=\"\")\n",
    "        print()\n",
    " \n",
    "    # for loop to display i in reverse direction\n",
    "    for i in range(n-1, 0, -1):\n",
    "        print(\"*\", end=\"\")\n",
    "        for j in range(1, i+1):\n",
    "            print(j, end=\"\")\n",
    " \n",
    "        for j in range(i-1, 0, -1):\n",
    "            print(j, end=\"\")\n",
    " \n",
    "        print(\"*\", end=\"\")\n",
    "        print()\n",
    " \n",
    "    print(\"*\")\n",
    " \n",
    " \n",
    "# driver code\n",
    "n = 5\n",
    "print('\\nFor n =', n)\n",
    "display(n)\n",
    " \n",
    "n = 3\n",
    "print('\\nFor n =', n)\n",
    "display(n)"
   ]
  },
  {
   "cell_type": "markdown",
   "id": "8f566c8b",
   "metadata": {},
   "source": [
    "### Python program to print Pascal’s Triangle"
   ]
  },
  {
   "cell_type": "code",
   "execution_count": 24,
   "id": "e859d451",
   "metadata": {},
   "outputs": [
    {
     "name": "stdout",
     "output_type": "stream",
     "text": [
      "      1 \n",
      "     1 1 \n",
      "    1 2 1 \n",
      "   1 3 3 1 \n",
      "  1 4 6 4 1 \n"
     ]
    }
   ],
   "source": [
    "from math import factorial\n",
    "n = 5\n",
    "for i in range(n):\n",
    "    for j in range(n-i+1):\n",
    "        print(end=\" \")\n",
    " \n",
    "    for j in range(i+1):\n",
    "        print(factorial(i)//(factorial(j)*factorial(i-j)), end=\" \")\n",
    "    print()    "
   ]
  },
  {
   "cell_type": "code",
   "execution_count": 26,
   "id": "a458dc30",
   "metadata": {},
   "outputs": [
    {
     "name": "stdout",
     "output_type": "stream",
     "text": [
      "      1\n",
      "     1 1\n",
      "    1 2 1\n",
      "   1 3 3 1\n",
      "  1 4 6 4 1\n"
     ]
    }
   ],
   "source": [
    "n = 5\n",
    "for i in range(1,n+1):\n",
    "    for j in range(0,n-i+1):\n",
    "        print(\" \",end=\"\")\n",
    "    c = 1\n",
    "    for j in range(1,i+1):\n",
    "        print(\" \",c,sep=\"\",end=\"\")\n",
    "        c = c*(i-j)//j\n",
    "    print()"
   ]
  },
  {
   "cell_type": "code",
   "execution_count": 7,
   "id": "cc669ab7",
   "metadata": {},
   "outputs": [
    {
     "name": "stdout",
     "output_type": "stream",
     "text": [
      "     1\n",
      "    1 1\n",
      "   1 2 1\n",
      "  1 3 3 1\n",
      " 1 4 6 4 1\n"
     ]
    }
   ],
   "source": [
    "n = 5\n",
    "for i in range(n):\n",
    "    print(' '*(n-i), end='')\n",
    "    print(' '.join(map(str, str(11**i))))"
   ]
  },
  {
   "cell_type": "code",
   "execution_count": null,
   "id": "2b570284",
   "metadata": {},
   "outputs": [],
   "source": []
  }
 ],
 "metadata": {
  "kernelspec": {
   "display_name": "Python 3 (ipykernel)",
   "language": "python",
   "name": "python3"
  },
  "language_info": {
   "codemirror_mode": {
    "name": "ipython",
    "version": 3
   },
   "file_extension": ".py",
   "mimetype": "text/x-python",
   "name": "python",
   "nbconvert_exporter": "python",
   "pygments_lexer": "ipython3",
   "version": "3.11.5"
  }
 },
 "nbformat": 4,
 "nbformat_minor": 5
}
