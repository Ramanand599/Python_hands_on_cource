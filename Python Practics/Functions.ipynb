{
 "cells": [
  {
   "cell_type": "code",
   "execution_count": 1,
   "metadata": {},
   "outputs": [
    {
     "name": "stdout",
     "output_type": "stream",
     "text": [
      "Hello World\n"
     ]
    }
   ],
   "source": [
    "# defining a function\n",
    "def greet():\n",
    "    print(\"Hello World\")\n",
    "greet()"
   ]
  },
  {
   "cell_type": "code",
   "execution_count": 2,
   "metadata": {},
   "outputs": [
    {
     "name": "stdout",
     "output_type": "stream",
     "text": [
      "Hello Jon.\n"
     ]
    }
   ],
   "source": [
    "# function with parameter\n",
    "def greet(name):\n",
    "    print(f\"Hello {name}.\")\n",
    "    \n",
    "greet(\"Jon\")"
   ]
  },
  {
   "cell_type": "code",
   "execution_count": 3,
   "metadata": {},
   "outputs": [
    {
     "name": "stdout",
     "output_type": "stream",
     "text": [
      "Hello Jon.\n"
     ]
    }
   ],
   "source": [
    "# function with default parameter\n",
    "def greet(name=\"Jon\"):\n",
    "    print(f\"Hello {name}.\")\n",
    "    \n",
    "greet()"
   ]
  },
  {
   "cell_type": "code",
   "execution_count": 4,
   "metadata": {},
   "outputs": [
    {
     "name": "stdout",
     "output_type": "stream",
     "text": [
      "Sum of two number: 11\n"
     ]
    }
   ],
   "source": [
    "## returning the value from function\n",
    "def add(a,b):\n",
    "    return a+b\n",
    "print(\"Sum of two number:\",add(5,6))"
   ]
  },
  {
   "cell_type": "code",
   "execution_count": 5,
   "metadata": {},
   "outputs": [
    {
     "name": "stdout",
     "output_type": "stream",
     "text": [
      "Multiplication of three number: 6000\n"
     ]
    }
   ],
   "source": [
    "# function with multiple parameter\n",
    "def multiply(a,b,c):\n",
    "    return a*b*c\n",
    "mul=multiply(10,20,30)\n",
    "print(\"Multiplication of three number:\",mul)"
   ]
  },
  {
   "cell_type": "code",
   "execution_count": 6,
   "metadata": {},
   "outputs": [
    {
     "name": "stdout",
     "output_type": "stream",
     "text": [
      "Sum of total number: 36\n"
     ]
    }
   ],
   "source": [
    "## function with variable name argument\n",
    "def add(*args):\n",
    "    total=0\n",
    "    for num in args:\n",
    "        total +=num\n",
    "    return total\n",
    "#result=add(1,2,3,4,5,6)\n",
    "print(\"Sum of total number:\",add(1,2,3,4,5,6,7,8))"
   ]
  },
  {
   "cell_type": "code",
   "execution_count": 7,
   "metadata": {},
   "outputs": [
    {
     "name": "stdout",
     "output_type": "stream",
     "text": [
      "Name:Jon\n",
      " Age:23\n",
      " City:mumbai\n"
     ]
    }
   ],
   "source": [
    "## function with key argument\n",
    "def personal_info(name,age,city):\n",
    "    print(f\"Name:{name}\\n Age:{age}\\n City:{city}\")\n",
    "    \n",
    "personal_info(name=\"Jon\",age=23,city=\"mumbai\")\n",
    "    "
   ]
  },
  {
   "cell_type": "code",
   "execution_count": 8,
   "metadata": {},
   "outputs": [
    {
     "name": "stdout",
     "output_type": "stream",
     "text": [
      "56\n"
     ]
    }
   ],
   "source": [
    "## Lambda function\n",
    "multiply=lambda x,y:x*y\n",
    "print(multiply(7,8))"
   ]
  },
  {
   "cell_type": "code",
   "execution_count": 9,
   "metadata": {},
   "outputs": [
    {
     "name": "stdout",
     "output_type": "stream",
     "text": [
      "9\n",
      "362880\n"
     ]
    }
   ],
   "source": [
    "## recursion\n",
    "def factorial(n):\n",
    "    if n==0:\n",
    "        return 1\n",
    "    else:\n",
    "        return n*factorial(n-1)\n",
    "print(factorial(int(input())))\n"
   ]
  },
  {
   "cell_type": "code",
   "execution_count": 10,
   "metadata": {},
   "outputs": [
    {
     "name": "stdout",
     "output_type": "stream",
     "text": [
      "10\n"
     ]
    }
   ],
   "source": [
    "# Global Variable\n",
    "x=10\n",
    "def print_x():\n",
    "    print(x)\n",
    "    \n",
    "print_x()"
   ]
  },
  {
   "cell_type": "code",
   "execution_count": 11,
   "metadata": {},
   "outputs": [
    {
     "name": "stdout",
     "output_type": "stream",
     "text": [
      "5\n"
     ]
    }
   ],
   "source": [
    "## Local Variable\n",
    "def print_x():\n",
    "    x=5\n",
    "    print(x)\n",
    "    \n",
    "#x=10\n",
    "print_x()"
   ]
  },
  {
   "cell_type": "code",
   "execution_count": 12,
   "metadata": {},
   "outputs": [
    {
     "name": "stdout",
     "output_type": "stream",
     "text": [
      "Local x: 5\n",
      "Global x: 10\n"
     ]
    }
   ],
   "source": [
    "#global and local variable with same name\n",
    "x=10\n",
    "def print_x():\n",
    "    x=5\n",
    "    print(\"Local x:\",x)\n",
    "    \n",
    "print_x()\n",
    "print(\"Global x:\",x)"
   ]
  },
  {
   "cell_type": "code",
   "execution_count": 13,
   "metadata": {},
   "outputs": [
    {
     "name": "stdout",
     "output_type": "stream",
     "text": [
      "15\n"
     ]
    }
   ],
   "source": [
    "#Global Variable inside the function\n",
    "x=10\n",
    "def update_x():\n",
    "    global x\n",
    "    x=x+5\n",
    "    \n",
    "update_x()\n",
    "print(x)"
   ]
  },
  {
   "cell_type": "code",
   "execution_count": 14,
   "metadata": {},
   "outputs": [
    {
     "name": "stdout",
     "output_type": "stream",
     "text": [
      "Outer Function\n",
      "Inner Function\n"
     ]
    }
   ],
   "source": [
    "#nested function \n",
    "def outer_function():\n",
    "    print(\"Outer Function\")\n",
    "    \n",
    "    def inner_function():\n",
    "        print(\"Inner Function\")\n",
    "    inner_function()\n",
    "    \n",
    "outer_function()\n",
    "    "
   ]
  },
  {
   "cell_type": "code",
   "execution_count": 15,
   "metadata": {},
   "outputs": [
    {
     "name": "stdout",
     "output_type": "stream",
     "text": [
      "10\n",
      "15\n"
     ]
    }
   ],
   "source": [
    "## returning A function\n",
    "def get_multiple(factor):\n",
    "    def multiplier(x):\n",
    "        return x*factor\n",
    "    return multiplier\n",
    "\n",
    "double=get_multiple(2)\n",
    "triple=get_multiple(3)\n",
    "\n",
    "print(double(5))\n",
    "print(triple(5))"
   ]
  },
  {
   "cell_type": "code",
   "execution_count": 16,
   "metadata": {},
   "outputs": [
    {
     "name": "stdout",
     "output_type": "stream",
     "text": [
      "8\n"
     ]
    }
   ],
   "source": [
    "# Function as an Argument\n",
    "def apply(func,x):\n",
    "    return func(x)\n",
    "\n",
    "def double(x):\n",
    "    return x*2\n",
    "result=apply(double,4)\n",
    "print(result)"
   ]
  },
  {
   "cell_type": "code",
   "execution_count": 17,
   "metadata": {},
   "outputs": [
    {
     "name": "stdout",
     "output_type": "stream",
     "text": [
      "Something is heppening before the function is called\n",
      "Hello\n",
      "Some thing is heppen after the function is called\n"
     ]
    }
   ],
   "source": [
    "#Function decorator\n",
    "def my_decorator(func):\n",
    "    def wrapper():\n",
    "        print(\"Something is heppening before the function is called\")\n",
    "        func()\n",
    "        print(\"Some thing is heppen after the function is called\")\n",
    "    return wrapper\n",
    "@my_decorator\n",
    "def say_hello():\n",
    "    print(\"Hello\")\n",
    "    \n",
    "say_hello()"
   ]
  },
  {
   "cell_type": "code",
   "execution_count": 18,
   "metadata": {},
   "outputs": [
    {
     "name": "stdout",
     "output_type": "stream",
     "text": [
      "<function greet at 0x000001DC2D846D38>\n"
     ]
    }
   ],
   "source": [
    "# function with Docstring\n",
    "def greet(name):\n",
    "    \"\"\"\n",
    "    this function greet the person in as a parameter\n",
    "    \"\"\"\n",
    "    print(f\"hello {name}\")\n",
    "print(greet)"
   ]
  },
  {
   "cell_type": "code",
   "execution_count": 19,
   "metadata": {},
   "outputs": [
    {
     "name": "stdout",
     "output_type": "stream",
     "text": [
      "Hello Jon\n",
      "Hello Sonak\n",
      "Hello Rahul\n"
     ]
    }
   ],
   "source": [
    "# function with default Argument value\n",
    "def greet(name=\"Jon\"):\n",
    "    print(f\"Hello {name}\")\n",
    "    \n",
    "greet()\n",
    "greet(\"Sonak\")\n",
    "greet(\"Rahul\")"
   ]
  },
  {
   "cell_type": "code",
   "execution_count": 20,
   "metadata": {},
   "outputs": [
    {
     "name": "stdout",
     "output_type": "stream",
     "text": [
      "name:jon\n",
      "age:23\n",
      "City:Mumbai\n"
     ]
    }
   ],
   "source": [
    "## function with keyword Arguments\n",
    "def personal_info(**kwargs):\n",
    "    for key,value in kwargs.items():\n",
    "        print(f\"{key}:{value}\")\n",
    "personal_info(name=\"jon\",age=23,City=\"Mumbai\")"
   ]
  },
  {
   "cell_type": "code",
   "execution_count": 21,
   "metadata": {},
   "outputs": [
    {
     "name": "stdout",
     "output_type": "stream",
     "text": [
      "28\n"
     ]
    }
   ],
   "source": [
    "# function with Arbitary positional Argument\n",
    "def add(*args):\n",
    "    total=0\n",
    "    for i in args:\n",
    "        total +=i\n",
    "    return total\n",
    "result=add(1,2,3,4,5,6,7)\n",
    "print(result)"
   ]
  },
  {
   "cell_type": "code",
   "execution_count": 22,
   "metadata": {},
   "outputs": [
    {
     "name": "stdout",
     "output_type": "stream",
     "text": [
      "name:Jon\n",
      "30\n",
      "New York\n",
      "123-456-7890\n"
     ]
    }
   ],
   "source": [
    "#function with default Argument And Arbitary Argument:\n",
    "def personal_info(name,*args):\n",
    "    print(f\"name:{name}\")\n",
    "    for i in args:\n",
    "        print(i)\n",
    "personal_info(\"Jon\",30,\"New York\",\"123-456-7890\")"
   ]
  },
  {
   "cell_type": "code",
   "execution_count": 23,
   "metadata": {},
   "outputs": [
    {
     "name": "stdout",
     "output_type": "stream",
     "text": [
      "name:Jon age:90\n"
     ]
    }
   ],
   "source": [
    "#returning multiple value\n",
    "def get_name_and_age():\n",
    "    return \"Jon\",90\n",
    "name,age=get_name_and_age()\n",
    "print(f\"name:{name} age:{age}\")"
   ]
  },
  {
   "cell_type": "code",
   "execution_count": 24,
   "metadata": {},
   "outputs": [
    {
     "name": "stdout",
     "output_type": "stream",
     "text": [
      "30\n"
     ]
    }
   ],
   "source": [
    "#Function with type Anootation\n",
    "def add(a:int,b:int) ->int:\n",
    "    return a+b\n",
    "result=add(10,20)\n",
    "print(result)\n"
   ]
  },
  {
   "cell_type": "code",
   "execution_count": 25,
   "metadata": {},
   "outputs": [
    {
     "name": "stdout",
     "output_type": "stream",
     "text": [
      "2\n",
      "4\n",
      "6\n",
      "8\n",
      "10\n"
     ]
    }
   ],
   "source": [
    "# function with a list as an Argument:\n",
    "def process_numbers(number):\n",
    "    for i in number:\n",
    "        print(i*2)\n",
    "my_numbers=[1,2,3,4,5]\n",
    "process_numbers(my_numbers)"
   ]
  },
  {
   "cell_type": "code",
   "execution_count": 26,
   "metadata": {},
   "outputs": [
    {
     "name": "stdout",
     "output_type": "stream",
     "text": [
      "Name: Alice, Age: 30\n"
     ]
    }
   ],
   "source": [
    "# function with Distionary as an Argument\n",
    "def process_person_info(person):\n",
    "    print(f\"Name: {person['name']}, Age: {person['age']}\")\n",
    "\n",
    "my_info = {\"name\": \"Alice\", \"age\": 30}\n",
    "process_person_info(my_info)"
   ]
  },
  {
   "cell_type": "code",
   "execution_count": 27,
   "metadata": {},
   "outputs": [
    {
     "name": "stdout",
     "output_type": "stream",
     "text": [
      "[1, 2, 3, 4, 5, 6]\n"
     ]
    }
   ],
   "source": [
    "# function that modifies a list\n",
    "def square_list(numbers):\n",
    "    for i in range(len(numbers)):\n",
    "        numbers[i]=numbers[i]**2\n",
    "        \n",
    "my_number=[1,2,3,4,5,6]\n",
    "square_list([1,2,3,4,5,6])\n",
    "print(my_number)"
   ]
  },
  {
   "cell_type": "code",
   "execution_count": 28,
   "metadata": {},
   "outputs": [
    {
     "name": "stdout",
     "output_type": "stream",
     "text": [
      "[4, 16]\n"
     ]
    }
   ],
   "source": [
    "# function that return a list\n",
    "def create_square_list(n):\n",
    "    return [i**2 for i in range(1,n+1) if i%2==0]\n",
    "square=create_square_list(4)\n",
    "print(square)"
   ]
  },
  {
   "cell_type": "code",
   "execution_count": 29,
   "metadata": {},
   "outputs": [
    {
     "name": "stdout",
     "output_type": "stream",
     "text": [
      "Local X: 5\n",
      "Global x: 10\n"
     ]
    }
   ],
   "source": [
    "# function with variable Scope\n",
    "x=10\n",
    "def update_x():\n",
    "    x=5\n",
    "    print(\"Local X:\",x)\n",
    "    \n",
    "update_x()\n",
    "print(\"Global x:\",x)"
   ]
  },
  {
   "cell_type": "code",
   "execution_count": 30,
   "metadata": {},
   "outputs": [
    {
     "name": "stdout",
     "output_type": "stream",
     "text": [
      "Global x: 20\n"
     ]
    }
   ],
   "source": [
    "# function with global variable modification\n",
    "x=10\n",
    "def update_global_x():\n",
    "    global x\n",
    "    x=20\n",
    "update_global_x()\n",
    "print(\"Global x:\",x)"
   ]
  },
  {
   "cell_type": "code",
   "execution_count": 31,
   "metadata": {},
   "outputs": [
    {
     "name": "stdout",
     "output_type": "stream",
     "text": [
      "[1, 2]\n"
     ]
    }
   ],
   "source": [
    "# function with default argument modification\n",
    "def append_to_list(value,my_list=[]):\n",
    "    my_list.append(value)\n",
    "    return my_list\n",
    "result1=append_to_list(1)\n",
    "result2=append_to_list(2)\n",
    "\n",
    "print(result1)\n",
    "#print(result2)"
   ]
  },
  {
   "cell_type": "code",
   "execution_count": 34,
   "metadata": {},
   "outputs": [
    {
     "data": {
      "text/plain": [
       "5"
      ]
     },
     "execution_count": 34,
     "metadata": {},
     "output_type": "execute_result"
    }
   ],
   "source": [
    "# Function to find the maximum of three numbers:\n",
    "def max_of_three(a,b,c):\n",
    "    return max(a,b,c)\n",
    "max_of_three(5,4,2)"
   ]
  },
  {
   "cell_type": "code",
   "execution_count": 35,
   "metadata": {},
   "outputs": [
    {
     "data": {
      "text/plain": [
       "30"
      ]
     },
     "execution_count": 35,
     "metadata": {},
     "output_type": "execute_result"
    }
   ],
   "source": [
    "# Function to calculate the area of a rectangle:\n",
    "def area_of_rect(l,b):\n",
    "    return l*b\n",
    "area_of_rect(6,5)"
   ]
  },
  {
   "cell_type": "code",
   "execution_count": 36,
   "metadata": {},
   "outputs": [
    {
     "data": {
      "text/plain": [
       "1"
      ]
     },
     "execution_count": 36,
     "metadata": {},
     "output_type": "execute_result"
    }
   ],
   "source": [
    "# Function to find the greatest common divisor (GCD) of two numbers:\n",
    "import math\n",
    "\n",
    "def gcd(a,b):\n",
    "    return math.gcd(a,b)\n",
    "gcd(7,8)"
   ]
  },
  {
   "cell_type": "code",
   "execution_count": 40,
   "metadata": {},
   "outputs": [
    {
     "name": "stdout",
     "output_type": "stream",
     "text": [
      "rar\n"
     ]
    },
    {
     "data": {
      "text/plain": [
       "True"
      ]
     },
     "execution_count": 40,
     "metadata": {},
     "output_type": "execute_result"
    }
   ],
   "source": [
    "# Function to check if a string is a palindrome:\n",
    "def is_palindrom(string):\n",
    "    return string==string[::-1]\n",
    "is_palindrom(input())"
   ]
  },
  {
   "cell_type": "code",
   "execution_count": 42,
   "metadata": {},
   "outputs": [
    {
     "name": "stdout",
     "output_type": "stream",
     "text": [
      "Number of vowels: 3\n"
     ]
    }
   ],
   "source": [
    "# Function to count the number of vowels in a string:\n",
    "def count_vowels(string):\n",
    "    vowels = \"AEIOUaeiou\"\n",
    "    count = 0\n",
    "    for char in string:\n",
    "        if char in vowels:\n",
    "            count += 1\n",
    "    return count\n",
    "\n",
    "result = count_vowels(\"Hello, World!\")\n",
    "print(\"Number of vowels:\", result)"
   ]
  },
  {
   "cell_type": "code",
   "execution_count": 44,
   "metadata": {},
   "outputs": [
    {
     "data": {
      "text/plain": [
       "3"
      ]
     },
     "execution_count": 44,
     "metadata": {},
     "output_type": "execute_result"
    }
   ],
   "source": [
    "# Function to calculate the square root of a number:\n",
    "import math\n",
    "def square(num):\n",
    "    return int(math.sqrt(num))\n",
    "square(9)"
   ]
  },
  {
   "cell_type": "code",
   "execution_count": 45,
   "metadata": {},
   "outputs": [
    {
     "data": {
      "text/plain": [
       "[5, 4, 3, 2, 1]"
      ]
     },
     "execution_count": 45,
     "metadata": {},
     "output_type": "execute_result"
    }
   ],
   "source": [
    "# Function to reverse a list:\n",
    "def reverce(lst):\n",
    "    return lst[::-1]\n",
    "reverce([1,2,3,4,5])"
   ]
  },
  {
   "cell_type": "code",
   "execution_count": 46,
   "metadata": {},
   "outputs": [
    {
     "data": {
      "text/plain": [
       "8"
      ]
     },
     "execution_count": 46,
     "metadata": {},
     "output_type": "execute_result"
    }
   ],
   "source": [
    "# Function to calculate the power of a number:\n",
    "def power(base,exponent):\n",
    "    return base**exponent\n",
    "power(2,3)"
   ]
  },
  {
   "cell_type": "code",
   "execution_count": 48,
   "metadata": {},
   "outputs": [
    {
     "data": {
      "text/plain": [
       "True"
      ]
     },
     "execution_count": 48,
     "metadata": {},
     "output_type": "execute_result"
    }
   ],
   "source": [
    "def is_palindrom(string):\n",
    "    string=string.lower()\n",
    "    return string==string[::-1]\n",
    "is_palindrom(\"rar\")"
   ]
  },
  {
   "cell_type": "code",
   "execution_count": 52,
   "metadata": {},
   "outputs": [
    {
     "name": "stdout",
     "output_type": "stream",
     "text": [
      "Fibonacci sequence: [0, 1, 1, 2, 3, 5, 8, 13, 21, 34]\n"
     ]
    }
   ],
   "source": [
    "def generate_fibonacci(n):\n",
    "    fib_sequence = [0, 1]\n",
    "    while len(fib_sequence) < n:\n",
    "        next_term = fib_sequence[-1] + fib_sequence[-2]\n",
    "        fib_sequence.append(next_term)\n",
    "    return fib_sequence\n",
    "\n",
    "result = generate_fibonacci(10)\n",
    "print(\"Fibonacci sequence:\", result)\n"
   ]
  },
  {
   "cell_type": "code",
   "execution_count": 54,
   "metadata": {},
   "outputs": [
    {
     "data": {
      "text/plain": [
       "[1, 2, 4, 5, 6]"
      ]
     },
     "execution_count": 54,
     "metadata": {},
     "output_type": "execute_result"
    }
   ],
   "source": [
    "#Function to remove duplicates from a list:\n",
    "def duplicate(lst):\n",
    "    return list(set(lst))\n",
    "duplicate([1,2,5,1,2,4,6,2])"
   ]
  },
  {
   "cell_type": "code",
   "execution_count": 58,
   "metadata": {},
   "outputs": [
    {
     "name": "stdout",
     "output_type": "stream",
     "text": [
      "6\n"
     ]
    },
    {
     "data": {
      "text/plain": [
       "113.09733552923255"
      ]
     },
     "execution_count": 58,
     "metadata": {},
     "output_type": "execute_result"
    }
   ],
   "source": [
    "# Function to calculate the area of a circle:\n",
    "import math\n",
    "def circle(r):\n",
    "    return math.pi*(r**2)\n",
    "circle(int(input()))"
   ]
  },
  {
   "cell_type": "code",
   "execution_count": 59,
   "metadata": {},
   "outputs": [
    {
     "data": {
      "text/plain": [
       "77.0"
      ]
     },
     "execution_count": 59,
     "metadata": {},
     "output_type": "execute_result"
    }
   ],
   "source": [
    "# Function to convert Celsius to Fahrenheit:\n",
    "def c_to_f(c):\n",
    "    return (c*9/5)+32\n",
    "c_to_f(25)"
   ]
  },
  {
   "cell_type": "code",
   "execution_count": 62,
   "metadata": {},
   "outputs": [
    {
     "data": {
      "text/plain": [
       "25.0"
      ]
     },
     "execution_count": 62,
     "metadata": {},
     "output_type": "execute_result"
    }
   ],
   "source": [
    "# Function to convert Fahrenheit to Celsius:\n",
    "def f_to_c(f):\n",
    "    return (f-32)*5/9\n",
    "f_to_c(77)"
   ]
  },
  {
   "cell_type": "code",
   "execution_count": null,
   "metadata": {},
   "outputs": [],
   "source": []
  }
 ],
 "metadata": {
  "kernelspec": {
   "display_name": "Python 3",
   "language": "python",
   "name": "python3"
  },
  "language_info": {
   "codemirror_mode": {
    "name": "ipython",
    "version": 3
   },
   "file_extension": ".py",
   "mimetype": "text/x-python",
   "name": "python",
   "nbconvert_exporter": "python",
   "pygments_lexer": "ipython3",
   "version": "3.7.6"
  }
 },
 "nbformat": 4,
 "nbformat_minor": 4
}
