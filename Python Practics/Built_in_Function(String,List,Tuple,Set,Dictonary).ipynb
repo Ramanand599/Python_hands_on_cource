{
 "cells": [
  {
   "cell_type": "code",
   "execution_count": 1,
   "metadata": {},
   "outputs": [
    {
     "name": "stdout",
     "output_type": "stream",
     "text": [
      "4\n"
     ]
    }
   ],
   "source": [
    "#len(): Get the length of a list.\n",
    "my_lst=[1,2,3,4]\n",
    "print(len(my_lst))"
   ]
  },
  {
   "cell_type": "code",
   "execution_count": 7,
   "metadata": {},
   "outputs": [
    {
     "name": "stdout",
     "output_type": "stream",
     "text": [
      "Minimum number in the list:2\n",
      "Maximum Number in the list:74\n"
     ]
    }
   ],
   "source": [
    "#max() and min(): Find the maximum and minimum values in a list.\n",
    "my_lst=[74,54,69,2,8,52]\n",
    "print(\"Minimum number in the list:\"+str(min(my_lst)))  #+str() that means we are concating the the element\n",
    "print(\"Maximum Number in the list:\"+str(max(my_lst)))"
   ]
  },
  {
   "cell_type": "code",
   "execution_count": 12,
   "metadata": {},
   "outputs": [
    {
     "name": "stdout",
     "output_type": "stream",
     "text": [
      "259\n"
     ]
    }
   ],
   "source": [
    "# sum(): Calculate the sum of elements in a list.\n",
    "my_lst=[74,54,69,2,8,52]\n",
    "print(sum(my_lst))"
   ]
  },
  {
   "cell_type": "code",
   "execution_count": 13,
   "metadata": {},
   "outputs": [
    {
     "name": "stdout",
     "output_type": "stream",
     "text": [
      "[2, 8, 52, 54, 69, 74]\n"
     ]
    }
   ],
   "source": [
    "# sorted(): Sort a list.\n",
    "my_lst=[74,54,69,2,8,52]\n",
    "print(sorted(my_lst))"
   ]
  },
  {
   "cell_type": "code",
   "execution_count": 14,
   "metadata": {},
   "outputs": [
    {
     "name": "stdout",
     "output_type": "stream",
     "text": [
      "10\n"
     ]
    }
   ],
   "source": [
    "#abs(): Get the absolute value of a number.\n",
    "num=-10\n",
    "print(abs(num))"
   ]
  },
  {
   "cell_type": "code",
   "execution_count": 15,
   "metadata": {},
   "outputs": [
    {
     "name": "stdout",
     "output_type": "stream",
     "text": [
      "42\n",
      "42\n"
     ]
    }
   ],
   "source": [
    "#str() and int(): Convert between strings and integers.\n",
    "num_str=\"42\"\n",
    "print(int(num_str))\n",
    "print(str(num_str))"
   ]
  },
  {
   "cell_type": "code",
   "execution_count": 16,
   "metadata": {},
   "outputs": [
    {
     "name": "stdout",
     "output_type": "stream",
     "text": [
      "<class 'str'>\n"
     ]
    }
   ],
   "source": [
    "#type(): Determine the data type of a variable.\n",
    "num_str=\"42\"\n",
    "print(type(num_str))"
   ]
  },
  {
   "cell_type": "code",
   "execution_count": 19,
   "metadata": {},
   "outputs": [
    {
     "name": "stdout",
     "output_type": "stream",
     "text": [
      "['Hello', ' World!']\n"
     ]
    }
   ],
   "source": [
    "#split(): Split a string into a list of substrings.\n",
    "text = \"Hello, World!\"\n",
    "print(text.split(\",\"))"
   ]
  },
  {
   "cell_type": "code",
   "execution_count": 21,
   "metadata": {},
   "outputs": [
    {
     "name": "stdout",
     "output_type": "stream",
     "text": [
      "Hello, World!\n"
     ]
    }
   ],
   "source": [
    "#join(): Join a list of strings into one string.\n",
    "text=['Hello', ' World!']\n",
    "print(\",\".join(text))"
   ]
  },
  {
   "cell_type": "code",
   "execution_count": 26,
   "metadata": {},
   "outputs": [
    {
     "name": "stdout",
     "output_type": "stream",
     "text": [
      "{'Alice': 85, 'Bob': 92, 'Charlie': 78}\n"
     ]
    }
   ],
   "source": [
    "names = ['Alice', 'Bob', 'Charlie']\n",
    "scores = [85, 92, 78]\n",
    "print(dict(zip(names,scores)))"
   ]
  },
  {
   "cell_type": "code",
   "execution_count": 27,
   "metadata": {},
   "outputs": [
    {
     "name": "stdout",
     "output_type": "stream",
     "text": [
      "Index 0:Apple\n",
      "Index 1:Banana\n",
      "Index 2:cherry\n"
     ]
    }
   ],
   "source": [
    "# enumerate(): Iterate through a list with both the index and value.\n",
    "fruits=[\"Apple\",\"Banana\",\"cherry\"]\n",
    "for index,fruit in enumerate(fruits):\n",
    "    print(f\"Index {index}:{fruit}\")"
   ]
  },
  {
   "cell_type": "code",
   "execution_count": 28,
   "metadata": {},
   "outputs": [
    {
     "name": "stdout",
     "output_type": "stream",
     "text": [
      "1\n",
      "2\n",
      "3\n",
      "4\n",
      "5\n",
      "6\n",
      "7\n",
      "8\n",
      "9\n",
      "10\n"
     ]
    }
   ],
   "source": [
    "## range(): Generate a sequence of numbers.\n",
    "for i in range(1,11):\n",
    "    print(i)"
   ]
  },
  {
   "cell_type": "code",
   "execution_count": 34,
   "metadata": {},
   "outputs": [
    {
     "name": "stdout",
     "output_type": "stream",
     "text": [
      "(1, 4, 9, 16, 25)\n"
     ]
    }
   ],
   "source": [
    "## map(): Apply a function to each element of a list.\n",
    "numbers = [1, 2, 3, 4, 5]\n",
    "print(tuple(map(lambda x:x**2,numbers)))"
   ]
  },
  {
   "cell_type": "code",
   "execution_count": 32,
   "metadata": {},
   "outputs": [
    {
     "name": "stdout",
     "output_type": "stream",
     "text": [
      "[2, 4]\n"
     ]
    }
   ],
   "source": [
    "# filter(): Filter elements based on a condition.\n",
    "numbers = [1, 2, 3, 4, 5]\n",
    "print(list(filter(lambda x:x%2==0,numbers)))"
   ]
  },
  {
   "cell_type": "code",
   "execution_count": 35,
   "metadata": {},
   "outputs": [
    {
     "name": "stdout",
     "output_type": "stream",
     "text": [
      "False\n",
      "True\n"
     ]
    }
   ],
   "source": [
    "#any() and all(): Check if any or all elements in a list meet a condition.\n",
    "numbers = [1, 2, 3, 4, 5]\n",
    "print(all(x%2==0 for x in numbers))\n",
    "print(any(x%2==0 for x in numbers))"
   ]
  },
  {
   "cell_type": "code",
   "execution_count": 36,
   "metadata": {},
   "outputs": [
    {
     "name": "stdout",
     "output_type": "stream",
     "text": [
      "[20, 30, 40]\n"
     ]
    }
   ],
   "source": [
    "#slice(): Create a subset of a list.\n",
    "my_list = [10, 20, 30, 40, 50]\n",
    "subset=my_list[1:4]\n",
    "print(subset)"
   ]
  },
  {
   "cell_type": "code",
   "execution_count": 38,
   "metadata": {},
   "outputs": [
    {
     "name": "stdout",
     "output_type": "stream",
     "text": [
      "2\n"
     ]
    }
   ],
   "source": [
    "#count(): Count occurrences of an element in a list.\n",
    "fruits = ['apple', 'banana', 'apple', 'cherry']\n",
    "print(fruits.count(\"apple\"))"
   ]
  },
  {
   "cell_type": "code",
   "execution_count": 39,
   "metadata": {},
   "outputs": [
    {
     "name": "stdout",
     "output_type": "stream",
     "text": [
      "{'a': 1, 'b': 2, 'c': 3}\n"
     ]
    }
   ],
   "source": [
    "#dict(): Create a dictionary from key-value pairs.\n",
    "pairs = [('a', 1), ('b', 2), ('c', 3)]\n",
    "print(dict(pairs))"
   ]
  },
  {
   "cell_type": "code",
   "execution_count": 42,
   "metadata": {},
   "outputs": [
    {
     "name": "stdout",
     "output_type": "stream",
     "text": [
      "18\n"
     ]
    }
   ],
   "source": [
    "#abs() and sum() with list comprehensions: Find the sum of absolute values of elements in a list.\n",
    "numbers = [-2, 3, -5, 7, -1]\n",
    "print(sum([abs(x) for x in numbers]))\n"
   ]
  },
  {
   "cell_type": "code",
   "execution_count": 43,
   "metadata": {},
   "outputs": [
    {
     "name": "stdout",
     "output_type": "stream",
     "text": [
      "Alice:[85, 92, 78]\n",
      "Bob:[85, 92, 78]\n",
      "Charlie:[85, 92, 78]\n"
     ]
    }
   ],
   "source": [
    "#zip() with unpacking: Unpack elements from zipped lists.\n",
    "names = ['Alice', 'Bob', 'Charlie']\n",
    "scores = [85, 92, 78]\n",
    "for name,score in zip(names,scores):\n",
    "    print(f\"{name}:{scores}\")"
   ]
  },
  {
   "cell_type": "markdown",
   "metadata": {},
   "source": [
    "### String Methods"
   ]
  },
  {
   "cell_type": "code",
   "execution_count": 45,
   "metadata": {},
   "outputs": [
    {
     "name": "stdout",
     "output_type": "stream",
     "text": [
      "HELLO, WORLD!\n",
      "hello, world!\n"
     ]
    }
   ],
   "source": [
    "#str.upper() and str.lower(): Convert a string to uppercase and lowercase.\n",
    "text = \"Hello, World!\"\n",
    "print(text.upper())\n",
    "print(text.lower())"
   ]
  },
  {
   "cell_type": "code",
   "execution_count": 46,
   "metadata": {},
   "outputs": [
    {
     "name": "stdout",
     "output_type": "stream",
     "text": [
      "['Hello', ' World!']\n"
     ]
    }
   ],
   "source": [
    "#str.split(): Split a string into a list of substrings.\n",
    "text = \"Hello, World!\"\n",
    "print(text.split(\",\"))"
   ]
  },
  {
   "cell_type": "code",
   "execution_count": 48,
   "metadata": {},
   "outputs": [
    {
     "name": "stdout",
     "output_type": "stream",
     "text": [
      "Some text with extra spaces\n"
     ]
    }
   ],
   "source": [
    "#str.strip(): Remove leading and trailing whitespace from a string.\n",
    "text = \"   Some text with extra spaces   \"\n",
    "print(text.strip())"
   ]
  },
  {
   "cell_type": "code",
   "execution_count": 49,
   "metadata": {},
   "outputs": [
    {
     "name": "stdout",
     "output_type": "stream",
     "text": [
      "Hello, Python!\n"
     ]
    }
   ],
   "source": [
    "#str.replace(): Replace a substring within a string.\n",
    "text = \"Hello, World!\"\n",
    "print(text.replace(\"World\",\"Python\"))"
   ]
  },
  {
   "cell_type": "code",
   "execution_count": 51,
   "metadata": {},
   "outputs": [
    {
     "name": "stdout",
     "output_type": "stream",
     "text": [
      "True\n",
      "False\n"
     ]
    }
   ],
   "source": [
    "#str.startswith() and str.endswith(): Check if a string starts or ends with a specific substring.\n",
    "text = \"Python is great\"\n",
    "print(text.startswith(\"Python\"))\n",
    "print(text.endswith(\"greet\"))"
   ]
  },
  {
   "cell_type": "code",
   "execution_count": 54,
   "metadata": {},
   "outputs": [
    {
     "name": "stdout",
     "output_type": "stream",
     "text": [
      "7\n",
      "7\n"
     ]
    }
   ],
   "source": [
    "#str.find() and str.index(): Find the index of a substring within a string.\n",
    "text = \"Python is easy and Python is fun\"\n",
    "print(text.find(\"is\"))\n",
    "print(text.index(\"is\"))"
   ]
  },
  {
   "cell_type": "code",
   "execution_count": 55,
   "metadata": {},
   "outputs": [
    {
     "name": "stdout",
     "output_type": "stream",
     "text": [
      "2\n"
     ]
    }
   ],
   "source": [
    "#str.count(): Count the occurrences of a substring in a string.\n",
    "text = \"Python is easy and Python is fun\"\n",
    "print(text.count(\"Python\"))"
   ]
  },
  {
   "cell_type": "code",
   "execution_count": 57,
   "metadata": {},
   "outputs": [
    {
     "name": "stdout",
     "output_type": "stream",
     "text": [
      "True\n",
      "True\n"
     ]
    }
   ],
   "source": [
    "#str.isnumeric() and str.isalpha(): Check if a string consists of numeric or alphabetic characters.\n",
    "numeric_string = \"12345\"\n",
    "alpha_string = \"Python\"\n",
    "print(numeric_string.isnumeric())\n",
    "print(alpha_string.isalpha())"
   ]
  },
  {
   "cell_type": "code",
   "execution_count": 60,
   "metadata": {},
   "outputs": [
    {
     "name": "stdout",
     "output_type": "stream",
     "text": [
      "Python is awesome\n"
     ]
    }
   ],
   "source": [
    "#str.join(): Join a list of strings with a separator.\n",
    "words = [\"Python\", \"is\", \"awesome\"]\n",
    "print(\" \".join(words))"
   ]
  },
  {
   "cell_type": "code",
   "execution_count": 62,
   "metadata": {},
   "outputs": [
    {
     "name": "stdout",
     "output_type": "stream",
     "text": [
      "Hello! My name is Alice and the age is 30.\n"
     ]
    }
   ],
   "source": [
    "#str.format(): Format a string with placeholders.\n",
    "name = \"Alice\"\n",
    "age = 30\n",
    "print(\"Hello! My name is {} and the age is {}.\".format(name,age))"
   ]
  },
  {
   "cell_type": "code",
   "execution_count": null,
   "metadata": {},
   "outputs": [],
   "source": [
    "#str.capitalize() and str.title(): Capitalize the first letter of a string or title-case words.\n",
    "text = \"this is a title\"\n",
    "print(text.capitalize())\n",
    "print(text.title())"
   ]
  },
  {
   "cell_type": "code",
   "execution_count": 66,
   "metadata": {},
   "outputs": [
    {
     "name": "stdout",
     "output_type": "stream",
     "text": [
      "True\n"
     ]
    }
   ],
   "source": [
    "#str.endswith() with multiple suffixes: Check if a string ends with any of several suffixes.\n",
    "filename = \"document.txt\"\n",
    "print(filename.endswith((\".txt\",\".doc\")))"
   ]
  },
  {
   "cell_type": "markdown",
   "metadata": {},
   "source": [
    "### List Methods"
   ]
  },
  {
   "cell_type": "code",
   "execution_count": null,
   "metadata": {},
   "outputs": [],
   "source": []
  },
  {
   "cell_type": "code",
   "execution_count": null,
   "metadata": {},
   "outputs": [],
   "source": []
  },
  {
   "cell_type": "code",
   "execution_count": null,
   "metadata": {},
   "outputs": [],
   "source": []
  }
 ],
 "metadata": {
  "kernelspec": {
   "display_name": "Python 3",
   "language": "python",
   "name": "python3"
  },
  "language_info": {
   "codemirror_mode": {
    "name": "ipython",
    "version": 3
   },
   "file_extension": ".py",
   "mimetype": "text/x-python",
   "name": "python",
   "nbconvert_exporter": "python",
   "pygments_lexer": "ipython3",
   "version": "3.7.6"
  }
 },
 "nbformat": 4,
 "nbformat_minor": 4
}
