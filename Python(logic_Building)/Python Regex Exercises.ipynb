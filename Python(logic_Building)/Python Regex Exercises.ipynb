{
 "cells": [
  {
   "cell_type": "markdown",
   "id": "29185ae4",
   "metadata": {},
   "source": [
    "### Validate an IP address using Python without using RegEx"
   ]
  },
  {
   "cell_type": "code",
   "execution_count": 1,
   "id": "bcbe908f",
   "metadata": {},
   "outputs": [
    {
     "name": "stdout",
     "output_type": "stream",
     "text": [
      "Invalid IP Address\n"
     ]
    }
   ],
   "source": [
    "def IsValidIP(s):\n",
    "    if s.count(\".\") != 3:\n",
    "        return \"Invalid IP Address\"\n",
    "    lst = list(map(str,s.split(\".\")))\n",
    "    for ele in lst:\n",
    "        if int(ele) < 0 or int(ele) > 255 or (ele[0]==\"0\" and len(ele)!=1):\n",
    "            return \"Invalid IP Address\"\n",
    "    return \"Valid IP Address\"\n",
    "print(IsValidIP(\"666.1.1.2\"))"
   ]
  },
  {
   "cell_type": "code",
   "execution_count": 4,
   "id": "781f223b",
   "metadata": {},
   "outputs": [
    {
     "name": "stdout",
     "output_type": "stream",
     "text": [
      "Valid Ip address\n"
     ]
    }
   ],
   "source": [
    "def isValidIP(s):\n",
    " \n",
    "    # initialize counter\n",
    "    counter = 0\n",
    " \n",
    "    # check if period is present\n",
    "    for i in range(0, len(s)):\n",
    "        if(s[i] == '.'):\n",
    "            counter = counter+1\n",
    "    if(counter != 3):\n",
    "        return 0\n",
    " \n",
    "    # check the range of numbers between periods\n",
    "    st = set()\n",
    "    for i in range(0, 256):\n",
    "        st.add(str(i))\n",
    "    counter = 0\n",
    "    temp = \"\"\n",
    "    for i in range(0, len(s)):\n",
    "        if(s[i] != '.'):\n",
    "            temp = temp+s[i]\n",
    "        else:\n",
    "            if(temp in st):\n",
    "                counter = counter+1\n",
    "            temp = \"\"\n",
    "    if(temp in st):\n",
    "        counter = counter+1\n",
    " \n",
    "    # verifying all conditions\n",
    "    if(counter == 4):\n",
    "        return 'Valid Ip address'\n",
    "    else:\n",
    "        return 'Invalid Ip address'\n",
    " \n",
    " \n",
    "# Driver Code\n",
    "print(isValidIP('110.234.52.124'))"
   ]
  },
  {
   "cell_type": "markdown",
   "id": "04b7a315",
   "metadata": {},
   "source": [
    "### Python program to find the type of IP Address using Regex"
   ]
  },
  {
   "cell_type": "code",
   "execution_count": 8,
   "id": "3b0473ff",
   "metadata": {},
   "outputs": [
    {
     "name": "stdout",
     "output_type": "stream",
     "text": [
      "IPv4\n",
      "IPv6\n",
      "Neither\n"
     ]
    }
   ],
   "source": [
    "import re\n",
    "ipv4 = '''^(25[0-5]|2[0-4][0-9]|[0-1]?[0-9][0-9]?)\\.( \n",
    "            25[0-5]|2[0-4][0-9]|[0-1]?[0-9][0-9]?)\\.( \n",
    "            25[0-5]|2[0-4][0-9]|[0-1]?[0-9][0-9]?)\\.( \n",
    "            25[0-5]|2[0-4][0-9]|[0-1]?[0-9][0-9]?)$'''\n",
    "ipv6 = '''(([0-9a-fA-F]{1,4}:){7,7}[0-9a-fA-F]{1,4}|\n",
    "        ([0-9a-fA-F]{1,4}:){1,7}:|([0-9a-fA-F]{1,4}:)\n",
    "        {1,6}:[0-9a-fA-F]{1,4}|([0-9a-fA-F]{1,4}:){1\n",
    "        ,5}(:[0-9a-fA-F]{1,4}){1,2}|([0-9a-fA-F]{1,4}\n",
    "        :){1,4}(:[0-9a-fA-F]{1,4}){1,3}|([0-9a-fA-F]{\n",
    "        1,4}:){1,3}(:[0-9a-fA-F]{1,4}){1,4}|([0-9a-fA\n",
    "        -F]{1,4}:){1,2}(:[0-9a-fA-F]{1,4}){1,5}|[0-9a\n",
    "        -fA-F]{1,4}:((:[0-9a-fA-F]{1,4}){1,6})|:((:[0\n",
    "        -9a-fA-F]{1,4}){1,7}|:)|fe80:(:[0-9a-fA-F]{0,\n",
    "        4}){0,4}%[0-9a-zA-Z]{1,}|::(ffff(:0{1,4}){0,1}\n",
    "        :){0,1}((25[0-5]|(2[0-4]|1{0,1}[0-9]){0,1}[0-9\n",
    "        ])\\.){3,3}(25[0-5]|(2[0-4]|1{0,1}[0-9]){0,1}[0\n",
    "        -9])|([0-9a-fA-F]{1,4}:){1,4}:((25[0-5]|(2[0-4]\n",
    "        |1{0,1}[0-9]){0,1}[0-9])\\.){3,3}(25[0-5]|(2[0-4]\n",
    "        |1{0,1}[0-9]){0,1}[0-9]))'''\n",
    "def find(IP):\n",
    "    if re.search(ipv4,IP):\n",
    "        print(\"IPv4\")\n",
    "    elif re.search(ipv6,IP):\n",
    "        print(\"IPv6\")\n",
    "    else:\n",
    "        print(\"Neither\")\n",
    "Ip = \"192.0.2.126\"\n",
    "find(Ip)\n",
    "Ip = \"3001:0da8:75a3:0000:0000:8a2e:0370:7334\"\n",
    "find(Ip)\n",
    "Ip = \"36.12.08.20.52\"\n",
    "find(Ip)"
   ]
  },
  {
   "cell_type": "markdown",
   "id": "c24f7c44",
   "metadata": {},
   "source": [
    "### Converting a 10 digit phone number to US format using Regex in Python"
   ]
  },
  {
   "cell_type": "code",
   "execution_count": 9,
   "id": "dc3a7606",
   "metadata": {},
   "outputs": [
    {
     "name": "stdout",
     "output_type": "stream",
     "text": [
      "call geek (321)963-0612\n"
     ]
    }
   ],
   "source": [
    "import re\n",
    "def convert_phone_number(phone):\n",
    "    num = re.sub(r\"(?<!\\S)(\\d{3})-\",r\"(\\1)\",phone)\n",
    "    return num\n",
    "print(convert_phone_number(\"call geek 321-963-0612\"))"
   ]
  },
  {
   "cell_type": "markdown",
   "id": "f9fe8187",
   "metadata": {},
   "source": [
    "### Python program to find Indices of Overlapping Substrings"
   ]
  },
  {
   "cell_type": "code",
   "execution_count": 13,
   "id": "ac9fc73d",
   "metadata": {},
   "outputs": [
    {
     "name": "stdout",
     "output_type": "stream",
     "text": [
      "[0]\n"
     ]
    }
   ],
   "source": [
    "import re\n",
    "\n",
    "def cntsubstr(pattern, string):\n",
    "    a = [m.start() for m in re.finditer(pattern, string)]\n",
    "    return a\n",
    "\n",
    "string = 'geeksforgeeksforgeeks'\n",
    "pattern = \"geeksforgeeks\"\n",
    "print(cntsubstr(pattern, string))\n"
   ]
  },
  {
   "cell_type": "code",
   "execution_count": 17,
   "id": "bbf55f2c",
   "metadata": {},
   "outputs": [
    {
     "name": "stdout",
     "output_type": "stream",
     "text": [
      "[0, 8]\n",
      "[3, 9, 15, 21]\n"
     ]
    }
   ],
   "source": [
    "import re\n",
    "def cntsubstr(pattern,string):\n",
    "    a = [m.start() for m in re.finditer(\n",
    "        '(?={0})'.format(re.escape(pattern)), string)]\n",
    "    return a\n",
    "string1 = 'geeksforgeeksforgeeks'\n",
    "pattern1 = 'geeksforgeeks'\n",
    " \n",
    "string2 = 'barfoobarfoobarfoobarfoobarfoo'\n",
    "pattern2 = 'foobarfoo'\n",
    "print(cntsubstr(pattern1, string1))\n",
    "print(cntsubstr(pattern2, string2))"
   ]
  },
  {
   "cell_type": "code",
   "execution_count": 19,
   "id": "720e089f",
   "metadata": {},
   "outputs": [
    {
     "name": "stdout",
     "output_type": "stream",
     "text": [
      "[0, 8]\n",
      "[3, 9, 15, 21]\n"
     ]
    }
   ],
   "source": [
    "def overlapping_substring(string,pattern):\n",
    "    result = []\n",
    "    for i in range(len(string) - len(pattern) + 1):\n",
    "        if string[i:i+len(pattern)] == pattern:\n",
    "            result.append(i)\n",
    "    return result\n",
    "string1 = 'geeksforgeeksforgeeks'\n",
    "pattern1 = 'geeksforgeeks'\n",
    " \n",
    "string2 = 'barfoobarfoobarfoobarfoobarfoo'\n",
    "pattern2 = 'foobarfoo'\n",
    " \n",
    "print(overlapping_substring(string1, pattern1))\n",
    "print(overlapping_substring(string2, pattern2))"
   ]
  },
  {
   "cell_type": "markdown",
   "id": "1be83436",
   "metadata": {},
   "source": [
    "### Python program to extract Strings between HTML Tags"
   ]
  },
  {
   "cell_type": "code",
   "execution_count": 20,
   "id": "ea9037e3",
   "metadata": {},
   "outputs": [
    {
     "name": "stdout",
     "output_type": "stream",
     "text": [
      "The original string is : <b>Gfg</b> is <b>Best</b>. I love <b>Reading CS</b> from it.\n",
      "The String extracted: ['Gfg', 'Best', 'Reading CS']\n"
     ]
    }
   ],
   "source": [
    "import re\n",
    "test_str = '<b>Gfg</b> is <b>Best</b>. I love <b>Reading CS</b> from it.'\n",
    "print(\"The original string is : \" + str(test_str))\n",
    "tag = \"b\"\n",
    "pattern = \"<\"+tag+\">(.*?)</\"+tag+\">\"\n",
    "result = re.findall(pattern,test_str)\n",
    "print(\"The String extracted:\",result)"
   ]
  },
  {
   "cell_type": "code",
   "execution_count": null,
   "id": "148139aa",
   "metadata": {},
   "outputs": [],
   "source": [
    "test_str = '<b>Gfg</b> is <b>Best</b>. I love <b>Reading CS</b> from it.'\n",
    "print(\"The original string is : \" + str(test_str))\n",
    "tag = \"b\"\n",
    "start_idx = test_str.find(\"<\"+tag+\">\")\n",
    "result = []\n",
    "while start_idx != -1:\n",
    "    end_idx = test_str.find(\"</\" + tag + \">\", start_idx)\n",
    "    if end_idx == -1:\n",
    "        break\n",
    "    result.append(test_str[start_idx+len(tag)+2:end_idx])\n",
    "    start_idx = test_str.find(\"<\" + tag + \">\", end_idx)\n",
    "print(\"The Strings extracted : \",result)"
   ]
  },
  {
   "cell_type": "code",
   "execution_count": 24,
   "id": "de8d0498",
   "metadata": {},
   "outputs": [
    {
     "name": "stdout",
     "output_type": "stream",
     "text": [
      "The Strings extracted : ['Gfg', 'Best', 'Reading CS']\n"
     ]
    }
   ],
   "source": [
    "test_str = '<b>Gfg</b> is <b>Best</b>. I love <b>Reading CS</b> from it.'\n",
    " \n",
    "# initializing tag\n",
    "tag = \"b\"\n",
    " \n",
    "# finding the index of the first occurrence of the opening tag\n",
    "start_idx = test_str.find(\"<\" + tag + \">\")\n",
    " \n",
    "# initializing an empty list to store the extracted strings\n",
    "res = []\n",
    " \n",
    "# extracting the strings between the tags\n",
    "while start_idx != -1:\n",
    "    end_idx = test_str.find(\"</\" + tag + \">\", start_idx)\n",
    "    if end_idx == -1:\n",
    "        break\n",
    "    res.append(test_str[start_idx+len(tag)+2:end_idx])\n",
    "    start_idx = test_str.find(\"<\" + tag + \">\", end_idx)\n",
    " \n",
    "# printing the extracted strings\n",
    "print(\"The Strings extracted : \" + str(res))"
   ]
  },
  {
   "cell_type": "markdown",
   "id": "b499453b",
   "metadata": {},
   "source": [
    "### Python – Check if String Contain Only Defined Characters using Regex"
   ]
  },
  {
   "cell_type": "code",
   "execution_count": 26,
   "id": "3a8caf41",
   "metadata": {},
   "outputs": [
    {
     "name": "stdout",
     "output_type": "stream",
     "text": [
      "Valid String\n",
      "Invalid String\n"
     ]
    }
   ],
   "source": [
    "import re \n",
    "def check(string,pattern):\n",
    "    if re.search(pattern,string):\n",
    "        print(\"Valid String\")\n",
    "    else:\n",
    "        print(\"Invalid String\")\n",
    "pattern = r\"^[1234]+$\"\n",
    "check(\"1234\",pattern)\n",
    "check(\"349\",pattern)"
   ]
  },
  {
   "cell_type": "markdown",
   "id": "237c28a1",
   "metadata": {},
   "source": [
    "### Python program to Count Uppercase, Lowercase, special character and numeric values using Regex"
   ]
  },
  {
   "cell_type": "code",
   "execution_count": 27,
   "id": "c3cc4c58",
   "metadata": {},
   "outputs": [
    {
     "name": "stdout",
     "output_type": "stream",
     "text": [
      "The no. of uppercase characters is 4\n",
      "The no. of lowercase characters is 15\n",
      "The no. of numerical characters is 3\n",
      "The no. of special characters is 4\n"
     ]
    }
   ],
   "source": [
    "string = \"ThisIsGeeksforGeeks !, 123\"\n",
    " \n",
    "# Creating separate lists using\n",
    "# the re.findall() method.\n",
    "uppercase_characters = re.findall(r\"[A-Z]\", string)\n",
    "lowercase_characters = re.findall(r\"[a-z]\", string)\n",
    "numerical_characters = re.findall(r\"[0-9]\", string)\n",
    "special_characters = re.findall(r\"[, .!?]\", string)\n",
    " \n",
    "print(\"The no. of uppercase characters is\", len(uppercase_characters))\n",
    "print(\"The no. of lowercase characters is\", len(lowercase_characters))\n",
    "print(\"The no. of numerical characters is\", len(numerical_characters))\n",
    "print(\"The no. of special characters is\", len(special_characters))"
   ]
  },
  {
   "cell_type": "code",
   "execution_count": 28,
   "id": "c509d815",
   "metadata": {},
   "outputs": [
    {
     "name": "stdout",
     "output_type": "stream",
     "text": [
      "Uppercase count: 2\n",
      "Lowercase count: 8\n",
      "Special character count: 1\n",
      "Numeric count: 3\n"
     ]
    }
   ],
   "source": [
    "import re\n",
    " \n",
    "def count_characters(input_string):\n",
    "    uppercase_count = len(re.findall(r'[A-Z]', input_string))\n",
    "    lowercase_count = len(re.findall(r'[a-z]', input_string))\n",
    "    special_char_count = len(re.findall(r'[!@#$%^&*()_+{}\\[\\]:;<>,.?\\\\/-]', input_string))\n",
    "    numeric_count = len(re.findall(r'[0-9]', input_string))\n",
    "     \n",
    "    return uppercase_count, lowercase_count, special_char_count, numeric_count\n",
    " \n",
    "test_string = \"Hello World! 123\"\n",
    "uppercase, lowercase, special_chars, numeric = count_characters(test_string)\n",
    " \n",
    "print(\"Uppercase count:\", uppercase)\n",
    "print(\"Lowercase count:\", lowercase)\n",
    "print(\"Special character count:\", special_chars)\n",
    "print(\"Numeric count:\", numeric)"
   ]
  },
  {
   "cell_type": "markdown",
   "id": "955e99c3",
   "metadata": {},
   "source": [
    "### The most occurring number in a string using Regex in python"
   ]
  },
  {
   "cell_type": "code",
   "execution_count": 30,
   "id": "c6bc25d1",
   "metadata": {},
   "outputs": [
    {
     "name": "stdout",
     "output_type": "stream",
     "text": [
      "55\n"
     ]
    }
   ],
   "source": [
    "import re\n",
    "from collections import Counter\n",
    "def most_occr_element(word):\n",
    "    arr = re.findall(r\"[0-9]+\",word)\n",
    "    maxm = 0\n",
    "    max_ele = 0\n",
    "    c = Counter(arr)\n",
    "    for x in list(c.keys()):\n",
    "        if c[x] >= maxm:\n",
    "            maxm = c[x]\n",
    "            max_ele = int(x)\n",
    "    return max_ele\n",
    "word = 'geek55of55gee4ksabc3dr2x'\n",
    "print(most_occr_element(word))"
   ]
  },
  {
   "cell_type": "markdown",
   "id": "15d9bd8a",
   "metadata": {},
   "source": [
    "### Python Regex to extract maximum numeric value from a string"
   ]
  },
  {
   "cell_type": "code",
   "execution_count": 31,
   "id": "7cfbbcbb",
   "metadata": {},
   "outputs": [
    {
     "data": {
      "text/plain": [
       "564"
      ]
     },
     "execution_count": 31,
     "metadata": {},
     "output_type": "execute_result"
    }
   ],
   "source": [
    "import re\n",
    "def extractMax(input):\n",
    "    number = re.findall(\"\\d+\",input)\n",
    "    number = map(int,number)\n",
    "    return max(number)\n",
    "input = '100klh564abc365bg'\n",
    "extractMax(input)"
   ]
  },
  {
   "cell_type": "markdown",
   "id": "352b4804",
   "metadata": {},
   "source": [
    "### Regex in Python to put spaces between words starting with capital letters"
   ]
  },
  {
   "cell_type": "code",
   "execution_count": 34,
   "id": "2baea1d2",
   "metadata": {},
   "outputs": [
    {
     "name": "stdout",
     "output_type": "stream",
     "text": [
      "bruce wayne is batman\n"
     ]
    }
   ],
   "source": [
    "import re \n",
    "   \n",
    "def putSpace(input): \n",
    "   \n",
    "    # regex [A-Z][a-z]* means any string starting  \n",
    "    # with capital character followed by many  \n",
    "    # lowercase letters  \n",
    "    words = re.findall('[A-Z][a-z]*', input) \n",
    "   \n",
    "    # Change first letter of each word into lower \n",
    "    # case \n",
    "    for i in range(0,len(words)):\n",
    "      words[i]=words[i][0].lower()+words[i][1:]\n",
    "    print(' '.join(words))\n",
    "        \n",
    "# Driver program \n",
    "if __name__ == \"__main__\": \n",
    "    input = 'BruceWayneIsBatman'\n",
    "    putSpace(input)"
   ]
  },
  {
   "cell_type": "markdown",
   "id": "8db8ff49",
   "metadata": {},
   "source": [
    "### Python – Check whether a string starts and ends with the same character or not (using Regular Expression)"
   ]
  },
  {
   "cell_type": "code",
   "execution_count": 35,
   "id": "8d3c83d9",
   "metadata": {},
   "outputs": [
    {
     "name": "stdout",
     "output_type": "stream",
     "text": [
      "Valid\n",
      "Valid\n",
      "Invalid\n"
     ]
    }
   ],
   "source": [
    "import re\n",
    "pattern = r\"^[a-z]$|^([a-z]).*\\1$\"\n",
    "def check(string):\n",
    "    if re.search(pattern,string):\n",
    "        print(\"Valid\")\n",
    "    else:\n",
    "        print(\"Invalid\")\n",
    "sample1 = \"abba\"\n",
    "sample2 = \"a\"\n",
    "sample3 = \"abcd\"\n",
    "check(sample1)\n",
    "check(sample2)\n",
    "check(sample3)"
   ]
  },
  {
   "cell_type": "code",
   "execution_count": null,
   "id": "875e2d02",
   "metadata": {},
   "outputs": [],
   "source": []
  }
 ],
 "metadata": {
  "kernelspec": {
   "display_name": "Python 3 (ipykernel)",
   "language": "python",
   "name": "python3"
  },
  "language_info": {
   "codemirror_mode": {
    "name": "ipython",
    "version": 3
   },
   "file_extension": ".py",
   "mimetype": "text/x-python",
   "name": "python",
   "nbconvert_exporter": "python",
   "pygments_lexer": "ipython3",
   "version": "3.11.5"
  }
 },
 "nbformat": 4,
 "nbformat_minor": 5
}
