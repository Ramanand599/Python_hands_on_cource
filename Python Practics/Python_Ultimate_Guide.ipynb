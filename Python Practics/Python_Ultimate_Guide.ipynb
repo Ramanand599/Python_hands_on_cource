{
 "cells": [
  {
   "cell_type": "markdown",
   "metadata": {},
   "source": [
    "## Fundamental"
   ]
  },
  {
   "cell_type": "code",
   "execution_count": 1,
   "metadata": {},
   "outputs": [
    {
     "name": "stdout",
     "output_type": "stream",
     "text": [
      "5\n"
     ]
    }
   ],
   "source": [
    "x=5 #Variable\n",
    "print(x) ## print"
   ]
  },
  {
   "cell_type": "code",
   "execution_count": 2,
   "metadata": {},
   "outputs": [
    {
     "data": {
      "text/plain": [
       "'\\nmulti-line Comment\\n'"
      ]
     },
     "execution_count": 2,
     "metadata": {},
     "output_type": "execute_result"
    }
   ],
   "source": [
    "#--single line Comment\n",
    "\"\"\"\n",
    "multi-line Comment\n",
    "\"\"\""
   ]
  },
  {
   "cell_type": "markdown",
   "metadata": {},
   "source": [
    "##  Data Type"
   ]
  },
  {
   "cell_type": "code",
   "execution_count": 3,
   "metadata": {},
   "outputs": [
    {
     "name": "stdout",
     "output_type": "stream",
     "text": [
      "<class 'str'>\n"
     ]
    }
   ],
   "source": [
    "print(type(\"Hello\")) #checking the string datatype"
   ]
  },
  {
   "cell_type": "code",
   "execution_count": 5,
   "metadata": {},
   "outputs": [
    {
     "name": "stdout",
     "output_type": "stream",
     "text": [
      "<class 'int'>\n"
     ]
    }
   ],
   "source": [
    "print(type(42)) #checking the integer datatype"
   ]
  },
  {
   "cell_type": "code",
   "execution_count": 6,
   "metadata": {},
   "outputs": [
    {
     "name": "stdout",
     "output_type": "stream",
     "text": [
      "<class 'float'>\n"
     ]
    }
   ],
   "source": [
    "print(type(4.2)) # checking the float datatype "
   ]
  },
  {
   "cell_type": "code",
   "execution_count": 7,
   "metadata": {},
   "outputs": [
    {
     "name": "stdout",
     "output_type": "stream",
     "text": [
      "<class 'bool'>\n"
     ]
    }
   ],
   "source": [
    "print(type(True)) #checking the boolean datatype"
   ]
  },
  {
   "cell_type": "markdown",
   "metadata": {},
   "source": [
    "## Data Structure"
   ]
  },
  {
   "cell_type": "markdown",
   "metadata": {},
   "source": [
    "### List"
   ]
  },
  {
   "cell_type": "code",
   "execution_count": 11,
   "metadata": {},
   "outputs": [
    {
     "name": "stdout",
     "output_type": "stream",
     "text": [
      "[1, 2, 3]\n",
      "<class 'list'>\n"
     ]
    }
   ],
   "source": [
    "#List\n",
    "lst=[1,2,3]\n",
    "print(lst)\n",
    "print(type(lst)) #data type list and it is represented by []"
   ]
  },
  {
   "cell_type": "markdown",
   "metadata": {},
   "source": [
    "### Tuple"
   ]
  },
  {
   "cell_type": "code",
   "execution_count": 12,
   "metadata": {},
   "outputs": [
    {
     "name": "stdout",
     "output_type": "stream",
     "text": [
      "(1, 2, 3)\n",
      "<class 'tuple'>\n"
     ]
    }
   ],
   "source": [
    "tp=(1,2,3)\n",
    "print(tp)\n",
    "print(type(tp))# data type tuple and it is represented by ()"
   ]
  },
  {
   "cell_type": "markdown",
   "metadata": {},
   "source": [
    "### Set"
   ]
  },
  {
   "cell_type": "code",
   "execution_count": 13,
   "metadata": {},
   "outputs": [
    {
     "name": "stdout",
     "output_type": "stream",
     "text": [
      "{1, 2, 3}\n",
      "<class 'set'>\n"
     ]
    }
   ],
   "source": [
    "st={1,2,3}\n",
    "print(st)\n",
    "print(type(st)) # data type set and it is represented by {}"
   ]
  },
  {
   "cell_type": "markdown",
   "metadata": {},
   "source": [
    "### Dictionary"
   ]
  },
  {
   "cell_type": "code",
   "execution_count": 14,
   "metadata": {},
   "outputs": [
    {
     "name": "stdout",
     "output_type": "stream",
     "text": [
      "{1: 'Ramanand', 2: 'Shanker', 3: 'Yadav'}\n",
      "<class 'dict'>\n"
     ]
    }
   ],
   "source": [
    "dt={1:\"Ramanand\",2:\"Shanker\",3:\"Yadav\"}\n",
    "print(dt)\n",
    "print(type(dt)) #data type dictionary and it is represented by {key:value}"
   ]
  },
  {
   "cell_type": "markdown",
   "metadata": {},
   "source": [
    "## Operators:"
   ]
  },
  {
   "cell_type": "code",
   "execution_count": 17,
   "metadata": {},
   "outputs": [
    {
     "name": "stdout",
     "output_type": "stream",
     "text": [
      "50\n",
      "-10\n",
      "600\n",
      "0.6666666666666666\n",
      "0\n",
      "20\n",
      "1073741824000000000000000000000000000000\n"
     ]
    }
   ],
   "source": [
    "#### Arithmetic:(+,-,*,/,//,%,**)\n",
    "a = 20\n",
    "b = 30\n",
    "\n",
    "# Addition\n",
    "print(a + b)  # Output: 50\n",
    "\n",
    "# Subtraction\n",
    "print(a - b)  # Output: -10\n",
    "\n",
    "# Multiplication\n",
    "print(a * b)  # Output: 600\n",
    "\n",
    "# Division\n",
    "print(a / b)  # Output: 0.6666666666666666 (approximately)\n",
    "\n",
    "# Floor Division\n",
    "print(a // b) # Output: 0\n",
    "\n",
    "# Modulus (Remainder)\n",
    "print(a % b)  # Output: 20\n",
    "\n",
    "# Exponentiation\n",
    "print(a ** b) # Output: 10737418240000000000000000000000000000000000000000000000000000000\n"
   ]
  },
  {
   "cell_type": "code",
   "execution_count": 19,
   "metadata": {},
   "outputs": [
    {
     "name": "stdout",
     "output_type": "stream",
     "text": [
      "False\n",
      "True\n",
      "True\n",
      "False\n",
      "True\n",
      "False\n"
     ]
    }
   ],
   "source": [
    "### Comparision:(==,!=,<,>,>=,<=) It return Output in term of True and False\n",
    "a=10\n",
    "b=20\n",
    "\n",
    "# Equal to\n",
    "print(a == b)  # Output: False\n",
    "\n",
    "# Not equal to\n",
    "print(a != b)  # Output: True\n",
    "\n",
    "# Less than\n",
    "print(a < b)   # Output: True\n",
    "\n",
    "# Greater than\n",
    "print(a > b)   # Output: False\n",
    "\n",
    "# Less than or equal to\n",
    "print(a <= b)  # Output: True\n",
    "\n",
    "# Greater than or equal to\n",
    "print(a >= b)  # Output: False"
   ]
  },
  {
   "cell_type": "code",
   "execution_count": 23,
   "metadata": {},
   "outputs": [
    {
     "name": "stdout",
     "output_type": "stream",
     "text": [
      "20\n",
      "10\n",
      "False\n"
     ]
    }
   ],
   "source": [
    "## Logical:(and,or,not)\n",
    "a = 10\n",
    "b = 20\n",
    "\n",
    "# Logical AND\n",
    "print(a and b)  # Output: 20\n",
    "\n",
    "# Logical OR\n",
    "print(a or b)   # Output: 10\n",
    "\n",
    "# Logical NOT (Note: You have a syntax error in this line, it should be \"not a\" or \"not b\")\n",
    "print(not a)     # Output: False\n"
   ]
  },
  {
   "cell_type": "code",
   "execution_count": 26,
   "metadata": {},
   "outputs": [
    {
     "name": "stdout",
     "output_type": "stream",
     "text": [
      "False\n",
      "True\n"
     ]
    }
   ],
   "source": [
    "## Membership:(in,not in)\n",
    "a=10\n",
    "b=[10,20,30]\n",
    "print(a in b)\n",
    "print(a not in b)"
   ]
  },
  {
   "cell_type": "code",
   "execution_count": 27,
   "metadata": {},
   "outputs": [
    {
     "name": "stdout",
     "output_type": "stream",
     "text": [
      "False\n",
      "True\n"
     ]
    }
   ],
   "source": [
    "a = 40\n",
    "b = [10, 20, 30]\n",
    "\n",
    "# Check if 'a' is in the list 'b'\n",
    "print(a in b)     # Output: True\n",
    "\n",
    "# Check if 'a' is not in the list 'b'\n",
    "print(a not in b) # Output: False"
   ]
  },
  {
   "cell_type": "code",
   "execution_count": 33,
   "metadata": {},
   "outputs": [
    {
     "name": "stdout",
     "output_type": "stream",
     "text": [
      "False\n",
      "True\n"
     ]
    }
   ],
   "source": [
    "# Identity:(is,is not)\n",
    "a=10\n",
    "b=20\n",
    "print(a is b)\n",
    "print(a is not b)"
   ]
  },
  {
   "cell_type": "code",
   "execution_count": 34,
   "metadata": {},
   "outputs": [
    {
     "name": "stdout",
     "output_type": "stream",
     "text": [
      "False\n",
      "True\n"
     ]
    }
   ],
   "source": [
    "a = 10\n",
    "b = [10, 20, 30]\n",
    "\n",
    "# Check if 'a' is the same object as 'b'\n",
    "print(a is b)     # Output: False\n",
    "\n",
    "# Check if 'a' is not the same object as 'b'\n",
    "print(a is not b) # Output: True\n"
   ]
  },
  {
   "cell_type": "markdown",
   "metadata": {},
   "source": [
    "## Conditional Statement"
   ]
  },
  {
   "cell_type": "code",
   "execution_count": 36,
   "metadata": {},
   "outputs": [
    {
     "name": "stdout",
     "output_type": "stream",
     "text": [
      "C is Greater then A and B\n"
     ]
    }
   ],
   "source": [
    "## Conditional Statement(if,elif,else)\n",
    "a=10\n",
    "b=10\n",
    "c=30\n",
    "if a>b:\n",
    "    print(\"A is Greater then B\")\n",
    "elif a>c:\n",
    "    print(\"A is greater then C\")\n",
    "elif b>c:\n",
    "    print(\"B is greater then C\")\n",
    "else:\n",
    "    print(\"C is Greater then A and B\")\n"
   ]
  },
  {
   "cell_type": "markdown",
   "metadata": {},
   "source": [
    "## Loops"
   ]
  },
  {
   "cell_type": "code",
   "execution_count": 40,
   "metadata": {},
   "outputs": [
    {
     "name": "stdout",
     "output_type": "stream",
     "text": [
      "1\n",
      "2\n",
      "3\n",
      "4\n",
      "5\n"
     ]
    }
   ],
   "source": [
    "## Loops:(for,while,Break,continue)\n",
    "# for loop\n",
    "for i in range(1,6):\n",
    "    print(i)"
   ]
  },
  {
   "cell_type": "code",
   "execution_count": 41,
   "metadata": {},
   "outputs": [
    {
     "name": "stdout",
     "output_type": "stream",
     "text": [
      "1\n",
      "2\n",
      "3\n",
      "4\n",
      "5\n"
     ]
    }
   ],
   "source": [
    "# while loop\n",
    "a=0\n",
    "while a<5:\n",
    "    a+=1\n",
    "    print(a)"
   ]
  },
  {
   "cell_type": "code",
   "execution_count": 42,
   "metadata": {},
   "outputs": [
    {
     "name": "stdout",
     "output_type": "stream",
     "text": [
      "1\n",
      "2\n",
      "3\n"
     ]
    }
   ],
   "source": [
    "# break\n",
    "for i in range(1,6):\n",
    "    if i==4:\n",
    "        break\n",
    "    print(i)"
   ]
  },
  {
   "cell_type": "code",
   "execution_count": 47,
   "metadata": {},
   "outputs": [
    {
     "name": "stdout",
     "output_type": "stream",
     "text": [
      "1\n",
      "2\n",
      "4\n",
      "5\n"
     ]
    }
   ],
   "source": [
    "# continue\n",
    "for i in range(1,6):\n",
    "    if i==3:\n",
    "        continue\n",
    "    print(i)"
   ]
  },
  {
   "cell_type": "markdown",
   "metadata": {},
   "source": [
    "## Functions"
   ]
  },
  {
   "cell_type": "code",
   "execution_count": 49,
   "metadata": {},
   "outputs": [
    {
     "name": "stdout",
     "output_type": "stream",
     "text": [
      "This is my First Function\n"
     ]
    }
   ],
   "source": [
    "# Function:\n",
    "# 1.Defining Function\n",
    "def my_function():\n",
    "    print(\"This is my First Function\")\n",
    "my_function()  # calling Function"
   ]
  },
  {
   "cell_type": "code",
   "execution_count": 54,
   "metadata": {},
   "outputs": [
    {
     "name": "stdout",
     "output_type": "stream",
     "text": [
      "X=: 10\n",
      "Y=: 20\n"
     ]
    }
   ],
   "source": [
    "# 2. Default Parameter\n",
    "def func(x,y):\n",
    "    print(\"X=:\",x)\n",
    "    print(\"Y=:\",y)\n",
    "#func(50)    Only 'x' is provided, 'y' will use its default value of 0 \n",
    "func(10,20) # Both x and y provided"
   ]
  },
  {
   "cell_type": "code",
   "execution_count": 64,
   "metadata": {},
   "outputs": [
    {
     "name": "stdout",
     "output_type": "stream",
     "text": [
      "Non-keywors arguments: (1, 2, 3, 4, 5)\n",
      "Keyword argument: {'name': 'Alice', 'age': 30}\n"
     ]
    }
   ],
   "source": [
    "#variable length Arguments\n",
    "def func(*args,**kwargs):\n",
    "    print(\"Non-keywors arguments:\",args)\n",
    "    print(\"Keyword argument:\",kwargs)\n",
    "    \n",
    "func(1,2,3,4,5,name=\"Alice\",age=30)"
   ]
  },
  {
   "cell_type": "markdown",
   "metadata": {},
   "source": [
    "### Classes & Objects:"
   ]
  },
  {
   "cell_type": "code",
   "execution_count": 62,
   "metadata": {},
   "outputs": [
    {
     "ename": "SyntaxError",
     "evalue": "unexpected EOF while parsing (<ipython-input-62-78b8e9ee3580>, line 2)",
     "output_type": "error",
     "traceback": [
      "\u001b[1;36m  File \u001b[1;32m\"<ipython-input-62-78b8e9ee3580>\"\u001b[1;36m, line \u001b[1;32m2\u001b[0m\n\u001b[1;33m    class MyClass:\u001b[0m\n\u001b[1;37m                  ^\u001b[0m\n\u001b[1;31mSyntaxError\u001b[0m\u001b[1;31m:\u001b[0m unexpected EOF while parsing\n"
     ]
    }
   ],
   "source": [
    "## Class Definition:\n",
    "class MyClass:"
   ]
  },
  {
   "cell_type": "code",
   "execution_count": 59,
   "metadata": {},
   "outputs": [],
   "source": [
    "# Constructor(__init__):\n",
    "class MyClass:\n",
    "    def __init__(self,name):\n",
    "        self.name=name"
   ]
  },
  {
   "cell_type": "code",
   "execution_count": 82,
   "metadata": {},
   "outputs": [],
   "source": [
    "## Instance Method:\n",
    "class MyClass:\n",
    "    def __init__(self,name):\n",
    "        self.name=name\n",
    "        \n",
    "    def greet(self):\n",
    "        print(f\"Hello,My name is {self.name}\")"
   ]
  },
  {
   "cell_type": "code",
   "execution_count": 83,
   "metadata": {},
   "outputs": [],
   "source": [
    "## Object Instantiation:\n",
    "my_object=MyClass(\"Alice\")"
   ]
  },
  {
   "cell_type": "code",
   "execution_count": 84,
   "metadata": {},
   "outputs": [
    {
     "name": "stdout",
     "output_type": "stream",
     "text": [
      "Hello,My name is Alice\n"
     ]
    }
   ],
   "source": [
    "my_object.greet()"
   ]
  },
  {
   "cell_type": "code",
   "execution_count": null,
   "metadata": {},
   "outputs": [],
   "source": [
    "## Class Variables:\n",
    "class MyClass:\n",
    "    class_var=0\n",
    "    \n",
    "    def __init__(self,name):\n",
    "        self.name=name"
   ]
  },
  {
   "cell_type": "markdown",
   "metadata": {},
   "source": [
    "## Inheritance"
   ]
  },
  {
   "cell_type": "code",
   "execution_count": 91,
   "metadata": {},
   "outputs": [
    {
     "name": "stdout",
     "output_type": "stream",
     "text": [
      "Base Class Method\n",
      "Sum of two number: 40\n"
     ]
    }
   ],
   "source": [
    "## Inheritance allows you to create a new class based on an existing class, inheriting its attributes and methods. The new class is called a derived class or subclass.\n",
    "class BaseClass:\n",
    "    def method(self):\n",
    "        print(\"Base Class Method\")\n",
    "\n",
    "class DerivedClass(BaseClass):\n",
    "    def sum(self,a,b):\n",
    "        self.a=a\n",
    "        self.b=b\n",
    "        return a+b\n",
    "derived_object=DerivedClass() #creating an instance\n",
    "derived_object.method() #call the method from base class using derived object\n",
    "result=derived_object.sum(10,30)\n",
    "print(\"Sum of two number:\",result)"
   ]
  },
  {
   "cell_type": "markdown",
   "metadata": {},
   "source": [
    "## Method Overriding:"
   ]
  },
  {
   "cell_type": "code",
   "execution_count": 93,
   "metadata": {},
   "outputs": [
    {
     "name": "stdout",
     "output_type": "stream",
     "text": [
      "Derived Class Method\n",
      "Subtraction: 10\n",
      "Addition: 30\n"
     ]
    }
   ],
   "source": [
    "## Method overriding allows a subclass to provide a specific implementation of a method that is already defined in its superclass.\n",
    "class BaseClass:\n",
    "    def method(self,a,b):\n",
    "        print(\"Base class method\")\n",
    "        self.a=a\n",
    "        self.b=b\n",
    "        return a+b\n",
    "        \n",
    "class DerivedClass(BaseClass):\n",
    "    def method(self,a,b):\n",
    "        print(\"Derived Class Method\")\n",
    "        self.a=a\n",
    "        self.b=b\n",
    "        return a-b\n",
    "    def addition(self,a,b):\n",
    "        return a+b\n",
    "derived_object=DerivedClass() # creating tnstance\n",
    "print(\"Subtraction:\",derived_object.method(20,10))\n",
    "print(\"Addition:\",derived_object.addition(20,10))"
   ]
  },
  {
   "cell_type": "markdown",
   "metadata": {},
   "source": [
    "### Error Handling (Try, Except, Raise, Finally):"
   ]
  },
  {
   "cell_type": "code",
   "execution_count": 94,
   "metadata": {},
   "outputs": [
    {
     "data": {
      "text/plain": [
       "'\\nError handling in Python is done using try, except, raise, and finally blocks.\\n\\ntry: This block contains code that may raise an exception.\\nexcept: This block handles exceptions that occur in the try block.\\nraise: This statement is used to raise exceptions explicitly.\\nfinally: This block contains code that will execute regardless of whether an exception is raised or not.\\n'"
      ]
     },
     "execution_count": 94,
     "metadata": {},
     "output_type": "execute_result"
    }
   ],
   "source": [
    "\"\"\"\n",
    "Error handling in Python is done using try, except, raise, and finally blocks.\n",
    "\n",
    "try: This block contains code that may raise an exception.\n",
    "except: This block handles exceptions that occur in the try block.\n",
    "raise: This statement is used to raise exceptions explicitly.\n",
    "finally: This block contains code that will execute regardless of whether an exception is raised or not.\n",
    "\"\"\""
   ]
  },
  {
   "cell_type": "code",
   "execution_count": null,
   "metadata": {},
   "outputs": [],
   "source": [
    "try:\n",
    "    # Code that may raise an exception\n",
    "except Exception as e:\n",
    "    # Handle the exception\n",
    "    print(f\"An error occurred: {e}\")\n",
    "finally:\n",
    "    # Code that runs regardless of exceptions\n"
   ]
  },
  {
   "cell_type": "code",
   "execution_count": 101,
   "metadata": {},
   "outputs": [
    {
     "name": "stdout",
     "output_type": "stream",
     "text": [
      "10\n",
      "20\n",
      "Result: 10\n"
     ]
    }
   ],
   "source": [
    "try:\n",
    "    a=int(input())\n",
    "    b=int(input())\n",
    "    result=\"\"\n",
    "    if a>b:\n",
    "        result=a+b\n",
    "    else:\n",
    "        result=b-a\n",
    "except Exception as e:\n",
    "    print(f\"An Error Occoured :{e}\")\n",
    "    result=None\n",
    "finally:\n",
    "    if \"result\" not in locals():\n",
    "        result=None\n",
    "    print(\"Result:\",result)"
   ]
  },
  {
   "cell_type": "markdown",
   "metadata": {},
   "source": [
    "### List Comprehensions "
   ]
  },
  {
   "cell_type": "code",
   "execution_count": 102,
   "metadata": {},
   "outputs": [
    {
     "data": {
      "text/plain": [
       "'\\nList comprehensions in Python are a concise and powerful way to create lists by applying an expression to each item in an iterable (e.g., a list, tuple, or range) while optionally filtering the items based on a condition. The syntax for list comprehensions is as follows:\\n[expression for item in iterable if condition]\\n\\n'"
      ]
     },
     "execution_count": 102,
     "metadata": {},
     "output_type": "execute_result"
    }
   ],
   "source": [
    "\"\"\"\n",
    "List comprehensions in Python are a concise and powerful way to create lists by applying an expression to each item in an iterable (e.g., a list, tuple, or range) while optionally filtering the items based on a condition. The syntax for list comprehensions is as follows:\n",
    "[expression for item in iterable if condition]\n",
    "\n",
    "\"\"\""
   ]
  },
  {
   "cell_type": "code",
   "execution_count": 103,
   "metadata": {},
   "outputs": [
    {
     "name": "stdout",
     "output_type": "stream",
     "text": [
      "list of squares of numbers from 0 to 9: [0, 1, 4, 9, 16, 25, 36, 49, 64, 81]\n"
     ]
    }
   ],
   "source": [
    "# 1.Create a list of squares of numbers from 0 to 9:\n",
    "print(\"list of squares of numbers from 0 to 9:\",[x**2 for x in range(0,10)])"
   ]
  },
  {
   "cell_type": "code",
   "execution_count": 104,
   "metadata": {},
   "outputs": [
    {
     "name": "stdout",
     "output_type": "stream",
     "text": [
      "Create a list of even numbers from 0 to 9: [0, 2, 4, 6, 8]\n"
     ]
    }
   ],
   "source": [
    "# 2.Create a list of even numbers from 0 to 9:\n",
    "print(\"Create a list of even numbers from 0 to 9:\",[x for x in range(0,10) if x%2==0])"
   ]
  },
  {
   "cell_type": "code",
   "execution_count": 106,
   "metadata": {},
   "outputs": [
    {
     "name": "stdout",
     "output_type": "stream",
     "text": [
      "ramanand\n",
      "list of uppercase letters from a string: ['R', 'A', 'M', 'A', 'N', 'A', 'N', 'D']\n"
     ]
    }
   ],
   "source": [
    "# 3.Generate a list of uppercase letters from a string:\n",
    "print(\"list of uppercase letters from a string:\",[x.upper() for x in input() if x.isalpha()])"
   ]
  },
  {
   "cell_type": "code",
   "execution_count": 114,
   "metadata": {},
   "outputs": [
    {
     "name": "stdout",
     "output_type": "stream",
     "text": [
      "10\n",
      "list of tuples containing both the original number and its square: [(0, 0), (1, 1), (2, 4), (3, 9), (4, 16), (5, 25), (6, 36), (7, 49), (8, 64), (9, 81)]\n"
     ]
    }
   ],
   "source": [
    "# 4.Create a list of tuples containing both the original number and its square:\n",
    "n=int(input())\n",
    "print(\"list of tuples containing both the original number and its square:\",[(x,x**2) for x in range(n)])"
   ]
  },
  {
   "cell_type": "markdown",
   "metadata": {},
   "source": [
    "### Lambda Functions "
   ]
  },
  {
   "cell_type": "code",
   "execution_count": 116,
   "metadata": {},
   "outputs": [
    {
     "data": {
      "text/plain": [
       "\"\\nLambda functions, also known as anonymous functions or lambda expressions, are small, anonymous functions in Python. They are defined using the lambda keyword and have a simple, one-line structure. Lambda functions are typically used when you need a small function for a short period of time and don't want to define a full function using def. The syntax for a lambda function is:\\nlambda arguments: expression\\n\\nLambda functions, also known as anonymous functions or lambda expressions, are small, anonymous functions in Python. They are defined using the lambda keyword and have a simple, one-line structure. Lambda functions are typically used when you need a small function for a short period of time and don't want to define a full function using def. The syntax for a lambda function is:\\n\\npython\\nCopy code\\nlambda arguments: expression\\nHere's a breakdown of the components:\\n\\nlambda: The keyword used to define a lambda function.\\narguments: The input parameters (arguments) that the lambda function takes. You can have multiple arguments separated by commas.\\nexpression: The single expression or operation that the lambda function performs. The result of this expression is implicitly returned.\\nLambda functions are often used in places where a small, inline function is required, such as in higher-order functions like map, filter, and sorted.\\n\""
      ]
     },
     "execution_count": 116,
     "metadata": {},
     "output_type": "execute_result"
    }
   ],
   "source": [
    "\"\"\"\n",
    "Lambda functions, also known as anonymous functions or lambda expressions, are small, anonymous functions in Python. They are defined using the lambda keyword and have a simple, one-line structure. Lambda functions are typically used when you need a small function for a short period of time and don't want to define a full function using def. The syntax for a lambda function is:\n",
    "lambda arguments: expression\n",
    "\n",
    "Lambda functions, also known as anonymous functions or lambda expressions, are small, anonymous functions in Python. They are defined using the lambda keyword and have a simple, one-line structure. Lambda functions are typically used when you need a small function for a short period of time and don't want to define a full function using def. The syntax for a lambda function is:\n",
    "\n",
    "python\n",
    "Copy code\n",
    "lambda arguments: expression\n",
    "Here's a breakdown of the components:\n",
    "\n",
    "lambda: The keyword used to define a lambda function.\n",
    "arguments: The input parameters (arguments) that the lambda function takes. You can have multiple arguments separated by commas.\n",
    "expression: The single expression or operation that the lambda function performs. The result of this expression is implicitly returned.\n",
    "Lambda functions are often used in places where a small, inline function is required, such as in higher-order functions like map, filter, and sorted.\n",
    "\"\"\""
   ]
  },
  {
   "cell_type": "code",
   "execution_count": 131,
   "metadata": {},
   "outputs": [
    {
     "name": "stdout",
     "output_type": "stream",
     "text": [
      "5\n",
      "ambda function that squares a number: 25\n"
     ]
    }
   ],
   "source": [
    "## 1.A lambda function that squares a number:\n",
    "x=int(input())\n",
    "square_number=lambda x:x**2\n",
    "print(\"ambda function that squares a number:\",square_number(x))"
   ]
  },
  {
   "cell_type": "code",
   "execution_count": 133,
   "metadata": {},
   "outputs": [
    {
     "name": "stdout",
     "output_type": "stream",
     "text": [
      "25\n"
     ]
    }
   ],
   "source": [
    "square=lambda x:x**2\n",
    "result=square(5)\n",
    "print(result)"
   ]
  },
  {
   "cell_type": "code",
   "execution_count": 135,
   "metadata": {},
   "outputs": [
    {
     "name": "stdout",
     "output_type": "stream",
     "text": [
      "[1, 2, 3, 45] [1, 4, 9, 2025]\n"
     ]
    }
   ],
   "source": [
    "# 2.Using a lambda function with map to square a list of numbers:\n",
    "n=[1,2,3,45]\n",
    "square_number=list(map(lambda x:x**2,n))\n",
    "print(n,square_number)"
   ]
  },
  {
   "cell_type": "code",
   "execution_count": 137,
   "metadata": {},
   "outputs": [
    {
     "name": "stdout",
     "output_type": "stream",
     "text": [
      "[(1, 5), (2, 8), (3, 10), (4, 3)]\n"
     ]
    }
   ],
   "source": [
    "# 3.Sorting a list of tuples based on the second element using a lambda function with sorted:\n",
    "data = [(3, 10), (1, 5), (2, 8), (4, 3)]\n",
    "sorted_data=sorted(data,key=lambda x:x[0])\n",
    "print(sorted_data)"
   ]
  },
  {
   "cell_type": "code",
   "execution_count": 138,
   "metadata": {},
   "outputs": [
    {
     "name": "stdout",
     "output_type": "stream",
     "text": [
      "[(4, 3), (1, 5), (2, 8), (3, 10)]\n"
     ]
    }
   ],
   "source": [
    "data = [(3, 10), (1, 5), (2, 8), (4, 3)]\n",
    "sorted_data=sorted(data,key=lambda x:x[1])\n",
    "print(sorted_data)"
   ]
  },
  {
   "cell_type": "code",
   "execution_count": 139,
   "metadata": {},
   "outputs": [
    {
     "data": {
      "text/plain": [
       "[2, 4, 6, 8, 10]"
      ]
     },
     "execution_count": 139,
     "metadata": {},
     "output_type": "execute_result"
    }
   ],
   "source": [
    "# 4.even number by using filter\n",
    "n=[1,2,3,4,5,6,7,8,9,10]\n",
    "even_num=list(filter(lambda x:x%2==0,n))\n",
    "even_num"
   ]
  },
  {
   "cell_type": "markdown",
   "metadata": {},
   "source": [
    "# Iterators & Generators"
   ]
  },
  {
   "cell_type": "markdown",
   "metadata": {},
   "source": [
    "# Iterators:\n",
    "An iterator is an object that represents a stream of data and can be iterated (looped) over one item at a time. In Python, you can create an iterator using the iter() function. You can then access the next item in the sequence using the next() function."
   ]
  },
  {
   "cell_type": "code",
   "execution_count": 15,
   "metadata": {},
   "outputs": [
    {
     "name": "stdout",
     "output_type": "stream",
     "text": [
      "1\n",
      "2\n"
     ]
    }
   ],
   "source": [
    "my_list=[1,2,3,4,5,6,7,8,9]\n",
    "my_iterator=iter(my_list)\n",
    "print(next(my_iterator)) # Output:1\n",
    "print(next(my_iterator)) # Output:2"
   ]
  },
  {
   "cell_type": "code",
   "execution_count": 16,
   "metadata": {},
   "outputs": [
    {
     "name": "stdout",
     "output_type": "stream",
     "text": [
      "3\n"
     ]
    }
   ],
   "source": [
    "print(next(my_iterator))"
   ]
  },
  {
   "cell_type": "markdown",
   "metadata": {},
   "source": [
    "# Generator Function:\n",
    "A generator function is a special type of function that uses the yield keyword to yield values one at a time when iterated. It allows you to create iterators in a more concise way. When a generator function is called, it doesn't execute the code inside the function immediately; instead, it returns a generator object."
   ]
  },
  {
   "cell_type": "code",
   "execution_count": 13,
   "metadata": {},
   "outputs": [
    {
     "name": "stdout",
     "output_type": "stream",
     "text": [
      "1\n",
      "2\n"
     ]
    }
   ],
   "source": [
    "def my_generator():\n",
    "    yield 1\n",
    "    yield 2\n",
    "    yield 3\n",
    "    \n",
    "gen=my_generator()\n",
    "\n",
    "# Accessing value at a time\n",
    "print(next(gen)) #Output:1\n",
    "print(next(gen)) #Output:2"
   ]
  },
  {
   "cell_type": "code",
   "execution_count": 14,
   "metadata": {},
   "outputs": [
    {
     "name": "stdout",
     "output_type": "stream",
     "text": [
      "3\n"
     ]
    }
   ],
   "source": [
    "print(next(gen))"
   ]
  },
  {
   "cell_type": "markdown",
   "metadata": {},
   "source": [
    "### Generator Expression:\n",
    "A generator expression is a concise way to create a generator. It's similar to a list comprehension but uses parentheses instead of square brackets. Generator expressions are memory-efficient because they generate values on-the-fly when iterated, rather than creating a full list in memory."
   ]
  },
  {
   "cell_type": "code",
   "execution_count": 164,
   "metadata": {},
   "outputs": [
    {
     "name": "stdout",
     "output_type": "stream",
     "text": [
      "1\n",
      "4\n"
     ]
    }
   ],
   "source": [
    "num=[1,2,3,4,5,6,7,8,9]\n",
    "gen_exp=(x**2 for x in num)\n",
    "\n",
    "print(next(gen_exp)) # output :1\n",
    "print(next(gen_exp)) #Output :4"
   ]
  },
  {
   "cell_type": "code",
   "execution_count": 165,
   "metadata": {},
   "outputs": [
    {
     "name": "stdout",
     "output_type": "stream",
     "text": [
      "9\n"
     ]
    }
   ],
   "source": [
    "print(next(gen_exp))"
   ]
  },
  {
   "cell_type": "code",
   "execution_count": null,
   "metadata": {},
   "outputs": [],
   "source": []
  },
  {
   "cell_type": "markdown",
   "metadata": {},
   "source": [
    "## Context manager\n",
    "\n",
    "Context managers in Python are objects that help manage resources and ensure that resources are properly acquired and released. They are commonly used for tasks such as opening and closing files, managing database connections, and acquiring and releasing locks. Context managers can be defined using the with statement, which ensures that the necessary setup and teardown actions are performed."
   ]
  },
  {
   "cell_type": "markdown",
   "metadata": {},
   "source": [
    "### Defining a Context Manager:\n",
    "To define a context manager, you need to create a class with two special methods: __enter__ and __exit__.\n",
    "\n",
    "__enter__(self): This method is called when entering the with block and is responsible for setting up any resources or performing any required setup actions. It can return an object that represents the resource being managed.\n",
    "\n",
    "__exit__(self, exc_type, exc_value, traceback): This method is called when exiting the with block, whether normally or due to an exception. It's responsible for releasing resources or performing cleanup actions. It receives information about any exception that occurred (if any) in the form of exc_type, exc_value, and traceback parameters."
   ]
  },
  {
   "cell_type": "code",
   "execution_count": 167,
   "metadata": {},
   "outputs": [
    {
     "name": "stdout",
     "output_type": "stream",
     "text": [
      "Entering the context\n",
      "Inside the Context\n",
      "Existing the context\n"
     ]
    }
   ],
   "source": [
    "## Defining the context manager\n",
    "class MyContext:\n",
    "    def __enter__(self):\n",
    "        print(\"Entering the context\")\n",
    "        return self # this can be run any resource you want to manage\n",
    "    def __exit__(self,exc_type,exc_value,traceback):\n",
    "        print(\"Existing the context\")\n",
    "        # prform cleanup actions here if needed\n",
    "        \n",
    "# using the context manager\n",
    "with MyContext() as my_context:\n",
    "    print(\"Inside the Context\")\n",
    "    #Exiting the context"
   ]
  },
  {
   "cell_type": "code",
   "execution_count": 168,
   "metadata": {},
   "outputs": [
    {
     "name": "stdout",
     "output_type": "stream",
     "text": [
      "Created temporary directory: C:\\Users\\raman\\AppData\\Local\\Temp\\tmpgkwl8oyf\n",
      "Removed temporary directory: C:\\Users\\raman\\AppData\\Local\\Temp\\tmpgkwl8oyf\n"
     ]
    }
   ],
   "source": [
    "import tempfile\n",
    "import shutil\n",
    "\n",
    "class TemporaryDirectoryManager:\n",
    "    def __enter__(self):\n",
    "        # Create a temporary directory\n",
    "        self.temp_dir = tempfile.mkdtemp()\n",
    "        print(f\"Created temporary directory: {self.temp_dir}\")\n",
    "        return self.temp_dir\n",
    "\n",
    "    def __exit__(self, exc_type, exc_value, traceback):\n",
    "        # Clean up and remove the temporary directory\n",
    "        shutil.rmtree(self.temp_dir)\n",
    "        print(f\"Removed temporary directory: {self.temp_dir}\")\n",
    "\n",
    "# Using the TemporaryDirectoryManager context manager\n",
    "with TemporaryDirectoryManager() as temp_dir:\n",
    "    # Inside the context, you can work with the temporary directory\n",
    "    with open(f\"{temp_dir}/example.txt\", \"w\") as file:\n",
    "        file.write(\"This is a temporary file.\")\n",
    "\n",
    "# The temporary directory is automatically removed when exiting the context\n"
   ]
  },
  {
   "cell_type": "markdown",
   "metadata": {},
   "source": [
    "## Built-in Function\n",
    "You've listed several built-in functions in Python. Here's a brief explanation of each of these functions:\n",
    "\n",
    "len(obj):   Returns the number of items (length) in an object, such as a string, list, tuple, or dictionary.\n",
    "\n",
    "sum(iterable[, start]):  Calculates the sum of elements in an iterable (e.g., list, tuple) with an optional starting value (start).\n",
    "\n",
    "max(iterable[, key]):  Returns the maximum element from an iterable, optionally using a key function to determine the maximum.\n",
    "\n",
    "min(iterable[, key]):  Returns the minimum element from an iterable, optionally using a key function to determine the minimum.\n",
    "\n",
    "sorted(iterable[, key][, reverse]):  Returns a sorted list of elements from an iterable, optionally using a key function for custom sorting and a reverse flag for reverse sorting.\n",
    "\n",
    "range(stop[, start][, step]):  Generates a sequence of numbers from start (default 0) up to, but not including, stop, with an optional step size.\n",
    "\n",
    "zip(*iterables):  Combines multiple iterables into an iterator of tuples, where the i-th tuple contains the i-th element from each of the input iterables.\n",
    "\n",
    "map(function, iterable):  Applies a specified function to each item in an iterable and returns an iterator of the results.\n",
    "\n",
    "filter(function, iterable):  Filters elements from an iterable based on whether they meet a specified condition defined by the function. It returns an iterator of elements that satisfy the condition.\n",
    "\n",
    "isinstance(obj, classinfo):  Checks if an object (obj) is an instance of a specified class or a tuple of classes (classinfo). It returns True if the object is an instance of the specified class, and False otherwise."
   ]
  },
  {
   "cell_type": "code",
   "execution_count": 170,
   "metadata": {},
   "outputs": [
    {
     "name": "stdout",
     "output_type": "stream",
     "text": [
      "length of a list 5\n"
     ]
    }
   ],
   "source": [
    "# 1.len(obj) : Return the lengeth of the object\n",
    "lst=[1,2,3,4,5]\n",
    "print(\"length of a list:\",len(lst))"
   ]
  },
  {
   "cell_type": "code",
   "execution_count": 171,
   "metadata": {},
   "outputs": [
    {
     "name": "stdout",
     "output_type": "stream",
     "text": [
      "Length of a string: 26\n"
     ]
    }
   ],
   "source": [
    "text=\"Hello Everyone How are you\"\n",
    "print(\"Length of a string:\",len(text)) # It also takes space while counting the sting/text"
   ]
  },
  {
   "cell_type": "code",
   "execution_count": 178,
   "metadata": {},
   "outputs": [
    {
     "name": "stdout",
     "output_type": "stream",
     "text": [
      "Additin of all number is: 21\n"
     ]
    }
   ],
   "source": [
    "# 2.sum(iterable[, start]): Calculates the sum of elements in an iterable.\n",
    "num=[1,2,4,5,6,3]\n",
    "print(\"Additin of all number is:\",sum(num))"
   ]
  },
  {
   "cell_type": "code",
   "execution_count": 179,
   "metadata": {},
   "outputs": [
    {
     "name": "stdout",
     "output_type": "stream",
     "text": [
      "Maximum value: 8\n"
     ]
    }
   ],
   "source": [
    "# 3.max(iterable[, key]): Returns the maximum element from an iterable\n",
    "numbers = [1, 8, 3, 6, 4]\n",
    "max_value = max(numbers)\n",
    "print(\"Maximum value:\", max_value)  # Output: 8"
   ]
  },
  {
   "cell_type": "code",
   "execution_count": 180,
   "metadata": {},
   "outputs": [
    {
     "name": "stdout",
     "output_type": "stream",
     "text": [
      "Minimum value: 1\n"
     ]
    }
   ],
   "source": [
    "# 4.min(iterable[, key]): Returns the minimum element from an iterable.\n",
    "numbers = [1, 8, 3, 6, 4]\n",
    "min_value = min(numbers)\n",
    "print(\"Minimum value:\", min_value)  # Output: 1\n"
   ]
  },
  {
   "cell_type": "code",
   "execution_count": 181,
   "metadata": {},
   "outputs": [
    {
     "name": "stdout",
     "output_type": "stream",
     "text": [
      "Sorted list: [1, 2, 3, 4, 5]\n"
     ]
    }
   ],
   "source": [
    "# 5.sorted(iterable[, key][, reverse]): Returns a sorted list of elements from an iterable.\n",
    "my_list = [4, 1, 3, 2, 5]\n",
    "sorted_list = sorted(my_list)\n",
    "print(\"Sorted list:\", sorted_list)  # Output: [1, 2, 3, 4, 5]\n"
   ]
  },
  {
   "cell_type": "code",
   "execution_count": 185,
   "metadata": {},
   "outputs": [
    {
     "name": "stdout",
     "output_type": "stream",
     "text": [
      "Generated Sequence: [0, 2, 4, 6, 8]\n"
     ]
    }
   ],
   "source": [
    "# 6.range(stop[, start][, step]): Generates a sequence of numbers.\n",
    "sequence=list(range(0,10,2))\n",
    "print(\"Generated Sequence:\",sequence)"
   ]
  },
  {
   "cell_type": "code",
   "execution_count": 186,
   "metadata": {},
   "outputs": [
    {
     "name": "stdout",
     "output_type": "stream",
     "text": [
      "Zipped data: [('Ramanand', 70), ('Shivanand', 80), ('Mahanand', 90), ('Nandani', 100)]\n"
     ]
    }
   ],
   "source": [
    "# 7.zip(*iterable):Combine multiple iterable into tuple\n",
    "name=[\"Ramanand\",\"Shivanand\",\"Mahanand\",\"Nandani\"]\n",
    "score=[70,80,90,100]\n",
    "zipped=list(zip(name,score))\n",
    "print(\"Zipped data:\",zipped)"
   ]
  },
  {
   "cell_type": "code",
   "execution_count": 189,
   "metadata": {},
   "outputs": [
    {
     "name": "stdout",
     "output_type": "stream",
     "text": [
      "Square of a numbers: {1, 4, 36, 9, 16, 25}\n"
     ]
    }
   ],
   "source": [
    "## 8.map(function, iterable): Applies a function to each item in an iterable.\n",
    "def square(x):\n",
    "    return x**2\n",
    "number=[1,2,3,4,5,6]\n",
    "Square_number=set(map(square,number))\n",
    "print(\"Square of a numbers:\",Square_number)"
   ]
  },
  {
   "cell_type": "code",
   "execution_count": 196,
   "metadata": {},
   "outputs": [
    {
     "name": "stdout",
     "output_type": "stream",
     "text": [
      "Even numbers are: (2, 4, 6, 8, 12)\n"
     ]
    }
   ],
   "source": [
    "# 9.filter(function, iterable): Filters elements based on a condition.\n",
    "def even(x):\n",
    "    return x%2==0\n",
    "number=[1,2,3,4,5,6,7,8,9,12]\n",
    "even_number=tuple(filter(even,number))\n",
    "print(\"Even numbers are:\",even_number)\n",
    "    "
   ]
  },
  {
   "cell_type": "code",
   "execution_count": 198,
   "metadata": {},
   "outputs": [
    {
     "name": "stdout",
     "output_type": "stream",
     "text": [
      "Is a List: True\n",
      "Is a Dict: False\n"
     ]
    }
   ],
   "source": [
    "# 10.isinstance(obj, classinfo): Checks if an object is an instance of a class.\n",
    "my_list=[1,2,3]\n",
    "is_list=isinstance(my_list,list)\n",
    "is_dict=isinstance(my_list,dict)\n",
    "print(\"Is a List:\",is_list)\n",
    "print(\"Is a Dict:\",is_dict)"
   ]
  },
  {
   "cell_type": "markdown",
   "metadata": {},
   "source": [
    "# String Methods"
   ]
  },
  {
   "cell_type": "code",
   "execution_count": 199,
   "metadata": {},
   "outputs": [
    {
     "data": {
      "text/plain": [
       "'hello world'"
      ]
     },
     "execution_count": 199,
     "metadata": {},
     "output_type": "execute_result"
    }
   ],
   "source": [
    "# 1.lower(): Returns a lowercase version of the string.\n",
    "text=\"Hello World\"\n",
    "text.lower()"
   ]
  },
  {
   "cell_type": "code",
   "execution_count": 200,
   "metadata": {},
   "outputs": [
    {
     "data": {
      "text/plain": [
       "'HELLO WORLD!'"
      ]
     },
     "execution_count": 200,
     "metadata": {},
     "output_type": "execute_result"
    }
   ],
   "source": [
    "# 2.upper(): Returns an uppercase version of the string.\n",
    "text=\"Hello World!\"\n",
    "text.upper()"
   ]
  },
  {
   "cell_type": "code",
   "execution_count": 201,
   "metadata": {},
   "outputs": [
    {
     "data": {
      "text/plain": [
       "'hello'"
      ]
     },
     "execution_count": 201,
     "metadata": {},
     "output_type": "execute_result"
    }
   ],
   "source": [
    "# 3.strip([chars]): Removes leading and trailing characters (whitespace by default).\n",
    "text=\"     hello     \"\n",
    "text.strip()"
   ]
  },
  {
   "cell_type": "code",
   "execution_count": 205,
   "metadata": {},
   "outputs": [
    {
     "data": {
      "text/plain": [
       "'**hello   world   Welcome**'"
      ]
     },
     "execution_count": 205,
     "metadata": {},
     "output_type": "execute_result"
    }
   ],
   "source": [
    "text=\" **hello   world   Welcome**\"\n",
    "text.strip()"
   ]
  },
  {
   "cell_type": "code",
   "execution_count": 209,
   "metadata": {},
   "outputs": [
    {
     "data": {
      "text/plain": [
       "['apple', 'banana', 'orange']"
      ]
     },
     "execution_count": 209,
     "metadata": {},
     "output_type": "execute_result"
    }
   ],
   "source": [
    "# 4.split([sep][, maxsplit]): Splits the string into a list of substrings based on a separator.\n",
    "text=\"apple,banana,orange\"\n",
    "text.split(\",\")"
   ]
  },
  {
   "cell_type": "code",
   "execution_count": 211,
   "metadata": {},
   "outputs": [
    {
     "data": {
      "text/plain": [
       "('Hello', 'World')"
      ]
     },
     "execution_count": 211,
     "metadata": {},
     "output_type": "execute_result"
    }
   ],
   "source": [
    "text=\"Hello World\"\n",
    "tuple(text.split())"
   ]
  },
  {
   "cell_type": "code",
   "execution_count": 212,
   "metadata": {},
   "outputs": [
    {
     "data": {
      "text/plain": [
       "'hii World'"
      ]
     },
     "execution_count": 212,
     "metadata": {},
     "output_type": "execute_result"
    }
   ],
   "source": [
    "# 5.replace(old, new[, count]): Replaces occurrences of a substring with another substring.\n",
    "text=\"Hello World\"\n",
    "text.replace(\"Hello\",\"hii\")\n",
    "    "
   ]
  },
  {
   "cell_type": "code",
   "execution_count": 214,
   "metadata": {},
   "outputs": [
    {
     "data": {
      "text/plain": [
       "'Two Two One'"
      ]
     },
     "execution_count": 214,
     "metadata": {},
     "output_type": "execute_result"
    }
   ],
   "source": [
    "text=\"One One One\"\n",
    "text.replace(\"One\",\"Two\",2)"
   ]
  },
  {
   "cell_type": "code",
   "execution_count": 215,
   "metadata": {},
   "outputs": [
    {
     "data": {
      "text/plain": [
       "7"
      ]
     },
     "execution_count": 215,
     "metadata": {},
     "output_type": "execute_result"
    }
   ],
   "source": [
    "# 6.find(sub[, start][, end]): Returns the index of the first occurrence of a substring, or -1 if not found.\n",
    "text=\"Hello, World\"\n",
    "text.find(\"World\") # it give the index position"
   ]
  },
  {
   "cell_type": "code",
   "execution_count": 216,
   "metadata": {},
   "outputs": [
    {
     "data": {
      "text/plain": [
       "-1"
      ]
     },
     "execution_count": 216,
     "metadata": {},
     "output_type": "execute_result"
    }
   ],
   "source": [
    "text=\"Hello, World\"\n",
    "text.find(\"Python\") # if the string is not there it will return -1 that is (not found)"
   ]
  },
  {
   "cell_type": "code",
   "execution_count": 218,
   "metadata": {},
   "outputs": [
    {
     "name": "stdout",
     "output_type": "stream",
     "text": [
      "My name is jon and age is 25.\n"
     ]
    }
   ],
   "source": [
    "# 7.find(sub[, start][, end]): Returns the index of the first occurrence of a substring, or -1 if not found.\n",
    "name=\"jon\"\n",
    "age=\"25\"\n",
    "print(\"My name is {} and age is {}.\".format(name,age))"
   ]
  },
  {
   "cell_type": "markdown",
   "metadata": {},
   "source": [
    "### List Method"
   ]
  },
  {
   "cell_type": "code",
   "execution_count": 4,
   "metadata": {},
   "outputs": [
    {
     "data": {
      "text/plain": [
       "[1, 2, 3, 4]"
      ]
     },
     "execution_count": 4,
     "metadata": {},
     "output_type": "execute_result"
    }
   ],
   "source": [
    "# 1.append(item): Adds an item to the end of the list.(Add a single element at the end of the list)\n",
    "my_list=[1,2,3]\n",
    "my_list.append(4)\n",
    "my_list"
   ]
  },
  {
   "cell_type": "code",
   "execution_count": 5,
   "metadata": {},
   "outputs": [
    {
     "data": {
      "text/plain": [
       "[1, 2, 3, 4, 5, 6]"
      ]
     },
     "execution_count": 5,
     "metadata": {},
     "output_type": "execute_result"
    }
   ],
   "source": [
    "# 2.extend(iterable): Extends the list by adding elements from an iterable.(Add multimple element at the end of the list)\n",
    "my_list=[1,2,3]\n",
    "my_list.extend([4,5,6])\n",
    "my_list"
   ]
  },
  {
   "cell_type": "code",
   "execution_count": 13,
   "metadata": {},
   "outputs": [
    {
     "data": {
      "text/plain": [
       "[1, 4, 5, 6]"
      ]
     },
     "execution_count": 13,
     "metadata": {},
     "output_type": "execute_result"
    }
   ],
   "source": [
    "# 3.insert(index, item): Inserts an item at a specific index.(Add tyhe element at the spesific position)\n",
    "my_list=[4,5,6]\n",
    "my_list.insert(0,1)\n",
    "my_list"
   ]
  },
  {
   "cell_type": "code",
   "execution_count": 14,
   "metadata": {},
   "outputs": [
    {
     "data": {
      "text/plain": [
       "[1, 3]"
      ]
     },
     "execution_count": 14,
     "metadata": {},
     "output_type": "execute_result"
    }
   ],
   "source": [
    "# 4.remove(item): Removes the first occurrence of an item from the list.\n",
    "my_list=[1,2,3]\n",
    "my_list.remove(2)\n",
    "my_list"
   ]
  },
  {
   "cell_type": "code",
   "execution_count": 16,
   "metadata": {},
   "outputs": [
    {
     "data": {
      "text/plain": [
       "[1, 2]"
      ]
     },
     "execution_count": 16,
     "metadata": {},
     "output_type": "execute_result"
    }
   ],
   "source": [
    "# 5.pop([index]): Removes and returns an item at a specific index (or the last item if index is not provided).(remove element by their index position)\n",
    "my_list=[1,2,3]\n",
    "my_list.pop(2)\n",
    "my_list"
   ]
  },
  {
   "cell_type": "code",
   "execution_count": 21,
   "metadata": {},
   "outputs": [
    {
     "name": "stdout",
     "output_type": "stream",
     "text": [
      "4\n"
     ]
    }
   ],
   "source": [
    "## 6.index(item[, start][, end]): Finds the index of the first occurrence of an item in the list.(how many times number or string repeated in list)\n",
    "my_list=[1,2,3,4,5,2]\n",
    "index=my_list.index(5)\n",
    "print(index)"
   ]
  },
  {
   "cell_type": "code",
   "execution_count": 22,
   "metadata": {},
   "outputs": [
    {
     "name": "stdout",
     "output_type": "stream",
     "text": [
      "3\n"
     ]
    }
   ],
   "source": [
    "# 7.count(item): Counts the number of occurrences of an item in the list.\n",
    "my_list=[1,2,3,4,52,1,6,1,4]\n",
    "count=my_list.count(1)\n",
    "print(count)"
   ]
  },
  {
   "cell_type": "code",
   "execution_count": 24,
   "metadata": {},
   "outputs": [
    {
     "data": {
      "text/plain": [
       "[1, 1, 2, 2, 3, 3, 5, 8, 9]"
      ]
     },
     "execution_count": 24,
     "metadata": {},
     "output_type": "execute_result"
    }
   ],
   "source": [
    "# 8.sort([key][, reverse]): Sorts the list in ascending order (or descending with reverse=True).\n",
    "my_list=[1,2,3,1,2,3,9,8,5]\n",
    "my_list.sort()\n",
    "my_list"
   ]
  },
  {
   "cell_type": "code",
   "execution_count": 26,
   "metadata": {},
   "outputs": [
    {
     "data": {
      "text/plain": [
       "[9, 8, 5, 3, 3, 2, 2, 1, 1]"
      ]
     },
     "execution_count": 26,
     "metadata": {},
     "output_type": "execute_result"
    }
   ],
   "source": [
    "my_list.sort(reverse=True)\n",
    "my_list"
   ]
  },
  {
   "cell_type": "code",
   "execution_count": 28,
   "metadata": {},
   "outputs": [
    {
     "data": {
      "text/plain": [
       "[9, 8, 7, 2, 6, 5, 3, 2, 1]"
      ]
     },
     "execution_count": 28,
     "metadata": {},
     "output_type": "execute_result"
    }
   ],
   "source": [
    "# 9.reverse(): Reverses the order of elements in the list.\n",
    "my_list=[1,2,3,5,6,2,7,8,9]\n",
    "my_list.reverse()\n",
    "my_list"
   ]
  },
  {
   "cell_type": "markdown",
   "metadata": {},
   "source": [
    "## Dictionary Methods "
   ]
  },
  {
   "cell_type": "code",
   "execution_count": 30,
   "metadata": {},
   "outputs": [
    {
     "name": "stdout",
     "output_type": "stream",
     "text": [
      "dict_keys(['a', 'b', 'c'])\n"
     ]
    }
   ],
   "source": [
    "# 1.keys(): Returns a view of the dictionary's keys.\n",
    "my_dict={\"a\":1,\"b\":2,\"c\":3}\n",
    "print(my_dict.keys())\n"
   ]
  },
  {
   "cell_type": "code",
   "execution_count": 31,
   "metadata": {},
   "outputs": [
    {
     "name": "stdout",
     "output_type": "stream",
     "text": [
      "dict_values([1, 2, 3])\n"
     ]
    }
   ],
   "source": [
    "# 2.values(): Returns a view of the dictionary's values.\n",
    "my_dict={\"a\":1,\"b\":2,\"c\":3}\n",
    "print(my_dict.values())"
   ]
  },
  {
   "cell_type": "code",
   "execution_count": 32,
   "metadata": {},
   "outputs": [
    {
     "name": "stdout",
     "output_type": "stream",
     "text": [
      "dict_items([('a', 1), ('b', 2), ('c', 3)])\n"
     ]
    }
   ],
   "source": [
    "# 3.items(): Returns a view of key-value pairs as tuples.\n",
    "my_dict={\"a\":1,\"b\":2,\"c\":3}\n",
    "print(my_dict.items())"
   ]
  },
  {
   "cell_type": "code",
   "execution_count": 35,
   "metadata": {},
   "outputs": [
    {
     "name": "stdout",
     "output_type": "stream",
     "text": [
      "2\n"
     ]
    }
   ],
   "source": [
    "# 4.get(key[, default]): Retrieves the value associated with the specified key. If the key is not found, it returns the default value (or None if no default is provided).\n",
    "my_dict={\"a\":1,\"b\":2,\"c\":3}\n",
    "print(my_dict.get(\"b\"))"
   ]
  },
  {
   "cell_type": "code",
   "execution_count": 39,
   "metadata": {},
   "outputs": [
    {
     "name": "stdout",
     "output_type": "stream",
     "text": [
      "0\n"
     ]
    }
   ],
   "source": [
    "#default value of 0 if \"x\" is not found\n",
    "print(my_dict.get(\"x\",0))"
   ]
  },
  {
   "cell_type": "code",
   "execution_count": 43,
   "metadata": {},
   "outputs": [
    {
     "name": "stdout",
     "output_type": "stream",
     "text": [
      "{'a': 1, 'b': 3, 'c': 4}\n"
     ]
    }
   ],
   "source": [
    "# 5.update([other]): Updates the dictionary with key-value pairs from another dictionary or an iterable of key-value pairs.\n",
    "my_dict = {'a': 1, 'b': 2}\n",
    "other_dict = {'b': 3, 'c': 4}\n",
    "my_dict.update(other_dict)\n",
    "print(my_dict)"
   ]
  },
  {
   "cell_type": "code",
   "execution_count": 44,
   "metadata": {},
   "outputs": [
    {
     "name": "stdout",
     "output_type": "stream",
     "text": [
      "2\n"
     ]
    }
   ],
   "source": [
    "# 6.pop(key[, default]): Removes and returns the value associated with the specified key. If the key is not found, it returns the default value (or raises a KeyError if no default is provided).\n",
    "my_dict = {'a': 1, 'b': 2, 'c': 3}\n",
    "print(my_dict.pop(\"b\"))"
   ]
  },
  {
   "cell_type": "code",
   "execution_count": 45,
   "metadata": {},
   "outputs": [
    {
     "data": {
      "text/plain": [
       "{'a': 1, 'c': 3}"
      ]
     },
     "execution_count": 45,
     "metadata": {},
     "output_type": "execute_result"
    }
   ],
   "source": [
    "my_dict"
   ]
  },
  {
   "cell_type": "code",
   "execution_count": 46,
   "metadata": {},
   "outputs": [
    {
     "name": "stdout",
     "output_type": "stream",
     "text": [
      "None\n"
     ]
    }
   ],
   "source": [
    "# 7.clear(): Removes all items from the dictionary, making it empty.\n",
    "my_dict = {'a': 1, 'b': 2, 'c': 3}\n",
    "print(my_dict.clear())"
   ]
  },
  {
   "cell_type": "code",
   "execution_count": 48,
   "metadata": {},
   "outputs": [
    {
     "data": {
      "text/plain": [
       "{}"
      ]
     },
     "execution_count": 48,
     "metadata": {},
     "output_type": "execute_result"
    }
   ],
   "source": [
    "my_dict"
   ]
  },
  {
   "cell_type": "markdown",
   "metadata": {},
   "source": [
    "## Set Method"
   ]
  },
  {
   "cell_type": "code",
   "execution_count": 52,
   "metadata": {},
   "outputs": [
    {
     "name": "stdout",
     "output_type": "stream",
     "text": [
      "{1, 2, 3, 4, 5, 6, 7}\n"
     ]
    }
   ],
   "source": [
    "# 1.add(item): Adds the specified item to the set.\n",
    "my_set={1,2,3,4,5,6}\n",
    "my_set.add(7)\n",
    "print(my_set)"
   ]
  },
  {
   "cell_type": "code",
   "execution_count": 53,
   "metadata": {},
   "outputs": [
    {
     "data": {
      "text/plain": [
       "{1, 2, 3, 4, 5, 6, 7, 8, 9}"
      ]
     },
     "execution_count": 53,
     "metadata": {},
     "output_type": "execute_result"
    }
   ],
   "source": [
    "# 2.update(iterable): Adds elements from an iterable (e.g., another set) to the set.\n",
    "my_set={1,2,3,4,5,6}\n",
    "my_set.update({7,8,9})\n",
    "my_set"
   ]
  },
  {
   "cell_type": "code",
   "execution_count": 56,
   "metadata": {},
   "outputs": [
    {
     "data": {
      "text/plain": [
       "{1, 2, 4, 5, 6}"
      ]
     },
     "execution_count": 56,
     "metadata": {},
     "output_type": "execute_result"
    }
   ],
   "source": [
    "# 3.discard(item): Removes the specified item from the set if it is present. It does nothing if the item is not in the set.\n",
    "my_set={1,2,3,4,5,6}\n",
    "my_set.discard(3)\n",
    "my_set"
   ]
  },
  {
   "cell_type": "code",
   "execution_count": 58,
   "metadata": {},
   "outputs": [
    {
     "data": {
      "text/plain": [
       "{1, 2, 4, 5, 6}"
      ]
     },
     "execution_count": 58,
     "metadata": {},
     "output_type": "execute_result"
    }
   ],
   "source": [
    "my_set.discard(9)\n",
    "my_set"
   ]
  },
  {
   "cell_type": "code",
   "execution_count": 59,
   "metadata": {},
   "outputs": [
    {
     "data": {
      "text/plain": [
       "{1, 3, 4, 5, 6}"
      ]
     },
     "execution_count": 59,
     "metadata": {},
     "output_type": "execute_result"
    }
   ],
   "source": [
    "# 4.remove(item): Removes the specified item from the set. If the item is not in the set, it raises a KeyError.\n",
    "my_set={1,2,3,4,5,6}\n",
    "my_set.remove(2)\n",
    "my_set"
   ]
  },
  {
   "cell_type": "code",
   "execution_count": 60,
   "metadata": {},
   "outputs": [
    {
     "ename": "KeyError",
     "evalue": "9",
     "output_type": "error",
     "traceback": [
      "\u001b[1;31m---------------------------------------------------------------------------\u001b[0m",
      "\u001b[1;31mKeyError\u001b[0m                                  Traceback (most recent call last)",
      "\u001b[1;32m<ipython-input-60-378c6041edb4>\u001b[0m in \u001b[0;36m<module>\u001b[1;34m\u001b[0m\n\u001b[1;32m----> 1\u001b[1;33m \u001b[0mmy_set\u001b[0m\u001b[1;33m.\u001b[0m\u001b[0mremove\u001b[0m\u001b[1;33m(\u001b[0m\u001b[1;36m9\u001b[0m\u001b[1;33m)\u001b[0m\u001b[1;33m\u001b[0m\u001b[1;33m\u001b[0m\u001b[0m\n\u001b[0m\u001b[0;32m      2\u001b[0m \u001b[0mmy_set\u001b[0m\u001b[1;33m\u001b[0m\u001b[1;33m\u001b[0m\u001b[0m\n",
      "\u001b[1;31mKeyError\u001b[0m: 9"
     ]
    }
   ],
   "source": [
    "my_set.remove(9)\n",
    "my_set"
   ]
  },
  {
   "cell_type": "code",
   "execution_count": 61,
   "metadata": {},
   "outputs": [
    {
     "data": {
      "text/plain": [
       "{2, 3, 4, 5, 6}"
      ]
     },
     "execution_count": 61,
     "metadata": {},
     "output_type": "execute_result"
    }
   ],
   "source": [
    "# 5.pop(): Removes and returns an arbitrary item from the set. Since sets are unordered, which item gets removed is not guaranteed.\n",
    "my_set={1,2,3,4,5,6}\n",
    "my_set.pop()\n",
    "my_set"
   ]
  },
  {
   "cell_type": "code",
   "execution_count": 64,
   "metadata": {},
   "outputs": [
    {
     "data": {
      "text/plain": [
       "3"
      ]
     },
     "execution_count": 64,
     "metadata": {},
     "output_type": "execute_result"
    }
   ],
   "source": [
    "item=my_set.pop()\n",
    "item"
   ]
  },
  {
   "cell_type": "code",
   "execution_count": 66,
   "metadata": {},
   "outputs": [
    {
     "name": "stdout",
     "output_type": "stream",
     "text": [
      "set()\n"
     ]
    }
   ],
   "source": [
    "# 6.clear(): Removes all items from the set, making it an empty set.\n",
    "my_set={1,2,3,4,5,6}\n",
    "my_set.clear()\n",
    "print(my_set)"
   ]
  },
  {
   "cell_type": "code",
   "execution_count": 67,
   "metadata": {},
   "outputs": [
    {
     "name": "stdout",
     "output_type": "stream",
     "text": [
      "{1, 2, 3, 4, 5}\n"
     ]
    }
   ],
   "source": [
    "# 7.union(*others): Returns a new set containing all unique elements from the current set and other sets.\n",
    "set1 = {1, 2, 3}\n",
    "set2 = {3, 4, 5}\n",
    "union_set=set1.union(set2)\n",
    "print(union_set)"
   ]
  },
  {
   "cell_type": "code",
   "execution_count": 68,
   "metadata": {},
   "outputs": [
    {
     "data": {
      "text/plain": [
       "{3}"
      ]
     },
     "execution_count": 68,
     "metadata": {},
     "output_type": "execute_result"
    }
   ],
   "source": [
    "# 8.intersection(*others): Returns a new set containing elements that are common to the current set and other sets.\n",
    "set1 = {1, 2, 3}\n",
    "set2 = {3, 4, 5}\n",
    "intersection_set=set1.intersection(set2)\n",
    "intersection_set"
   ]
  },
  {
   "cell_type": "code",
   "execution_count": 69,
   "metadata": {},
   "outputs": [
    {
     "data": {
      "text/plain": [
       "{1, 2}"
      ]
     },
     "execution_count": 69,
     "metadata": {},
     "output_type": "execute_result"
    }
   ],
   "source": [
    "## 9.difference(*others): Returns a new set containing elements that are in the current set but not in other sets.\n",
    "set1 = {1, 2, 3}\n",
    "set2 = {3, 4, 5}\n",
    "difference_set=set1.difference(set2)\n",
    "difference_set"
   ]
  },
  {
   "cell_type": "code",
   "execution_count": 70,
   "metadata": {},
   "outputs": [
    {
     "name": "stdout",
     "output_type": "stream",
     "text": [
      "True\n"
     ]
    }
   ],
   "source": [
    "# 10.issubset(other): Checks if the set is a subset of another set (i.e., all elements of the current set are in the other set).\n",
    "set1 = {1, 2, 3}\n",
    "set2 = {1,2,3,4}\n",
    "print(set1.issubset(set2))"
   ]
  },
  {
   "cell_type": "code",
   "execution_count": 71,
   "metadata": {},
   "outputs": [
    {
     "name": "stdout",
     "output_type": "stream",
     "text": [
      "True\n"
     ]
    }
   ],
   "source": [
    "# 11.issuperset(other): Checks if the set is a superset of another set (i.e., the other set is a subset of the current set).\n",
    "set1 = {1, 2, 3, 4}\n",
    "set2 = {1, 2}\n",
    "print(set1.issuperset(set2))"
   ]
  },
  {
   "cell_type": "markdown",
   "metadata": {},
   "source": [
    "# Regular Expressions\n",
    "#### import re\n",
    "- \\d: Matches any digit (0-9).\n",
    "- \\w: Matches any word character (letters, digits, or underscore).\n",
    "- \\s: Matches any whitespace character (spaces, tabs, newline, etc.).\n",
    "- .: Matches any character except a newline.\n",
    "- ^: Matches the start of the string.\n",
    "- $: Matches the end of the string.\n",
    "- *: Matches zero or more repetitions of the preceding element.\n",
    "- +: Matches one or more repetitions of the preceding element.\n",
    "- ?: Matches zero or one repetition of the preceding element.\n",
    "- {n}: Matches exactly n repetitions of the preceding element.\n",
    "- {n,}: Matches at least n repetitions of the preceding element.\n",
    "- {,m}: Matches at most m repetitions of the preceding element.\n",
    "- {n,m}: Matches between n and m repetitions (inclusive) of the preceding element."
   ]
  },
  {
   "cell_type": "code",
   "execution_count": 72,
   "metadata": {},
   "outputs": [
    {
     "name": "stdout",
     "output_type": "stream",
     "text": [
      "Digit Found: ['199', '99']\n"
     ]
    }
   ],
   "source": [
    "#1.Matching Digits (\\d):\n",
    "import re\n",
    "text = \"The price of the product is $199.99\"\n",
    "pattern=r\"\\d+\"\n",
    "matches=re.findall(pattern,text)\n",
    "print(\"Digit Found:\",matches)"
   ]
  },
  {
   "cell_type": "code",
   "execution_count": 78,
   "metadata": {},
   "outputs": [
    {
     "name": "stdout",
     "output_type": "stream",
     "text": [
      "Username Found: ['Usernames', 'alice123', 'bob_22', 'carol99']\n"
     ]
    }
   ],
   "source": [
    "# 2.Matching Word Characters (\\w):\n",
    "text = \"Usernames: alice123, bob_22, carol99\"\n",
    "pattern=r\"\\w+\"\n",
    "username=re.findall(pattern,text)\n",
    "print(\"Username Found:\",username)"
   ]
  },
  {
   "cell_type": "code",
   "execution_count": 76,
   "metadata": {},
   "outputs": [
    {
     "name": "stdout",
     "output_type": "stream",
     "text": [
      "Usernames found: ['Usernames', 'alice123', 'bob_22', 'carol99']\n"
     ]
    }
   ],
   "source": [
    "import re\n",
    "\n",
    "text = \"Usernames: alice123, bob_22, carol99\"\n",
    "pattern = r\"\\w+\"\n",
    "usernames = re.findall(pattern, text)\n",
    "print(\"Usernames found:\", usernames)  # Output: Usernames found: ['alice123', 'bob_22', 'carol99']\n"
   ]
  },
  {
   "cell_type": "code",
   "execution_count": 82,
   "metadata": {},
   "outputs": [
    {
     "name": "stdout",
     "output_type": "stream",
     "text": [
      "Space Found: [' ', ' ', ' ', '   ', ' ', '   ', ' ']\n"
     ]
    }
   ],
   "source": [
    "# 3.Matching Whitespace (\\s):\n",
    "text = \"This is a sample   text with   extra spaces.\"\n",
    "pattern=r\"\\s+\"\n",
    "space=re.findall(pattern,text)\n",
    "print(\"Space Found:\",space)"
   ]
  },
  {
   "cell_type": "code",
   "execution_count": 120,
   "metadata": {},
   "outputs": [
    {
     "name": "stdout",
     "output_type": "stream",
     "text": [
      "Words ending with at: ['cat', 'sat', 'mat', 'rat']\n"
     ]
    }
   ],
   "source": [
    "# 4.Matching Any Character (except newline) (.):\n",
    "text = \"The cat sat on the mat rat.\"\n",
    "pattern=r\".at\"\n",
    "matching=re.findall(pattern,text)\n",
    "print(\"Words ending with at:\",matching)"
   ]
  },
  {
   "cell_type": "code",
   "execution_count": 121,
   "metadata": {},
   "outputs": [
    {
     "name": "stdout",
     "output_type": "stream",
     "text": [
      "matched at the start\n"
     ]
    }
   ],
   "source": [
    "#5.Matching the Start of a String (^):\n",
    "text = \"Start the day with a smile.\"\n",
    "pattern=r\"^Start\"\n",
    "matching=re.match(pattern,text)\n",
    "if matching:\n",
    "    print(\"matched at the start\")\n",
    "else:\n",
    "    print(\"Pattern not found at the start\")"
   ]
  },
  {
   "cell_type": "code",
   "execution_count": 122,
   "metadata": {},
   "outputs": [
    {
     "name": "stdout",
     "output_type": "stream",
     "text": [
      "Pattern not found at the start\n"
     ]
    }
   ],
   "source": [
    "text = \"Start the day with a smile.\"\n",
    "pattern=r\"^the\"\n",
    "matching=re.match(pattern,text)\n",
    "if matching:\n",
    "    print(\"matched at the start\")\n",
    "else:\n",
    "    print(\"Pattern not found at the start\")"
   ]
  },
  {
   "cell_type": "code",
   "execution_count": 123,
   "metadata": {},
   "outputs": [
    {
     "name": "stdout",
     "output_type": "stream",
     "text": [
      "matched at the end\n"
     ]
    }
   ],
   "source": [
    "# 6.Matching the End of a String ($):\n",
    "text = \"The quick brown fox jumps over the lazy dog.\"\n",
    "pattern=r\"dog.$\"\n",
    "matching=re.search(pattern,text)\n",
    "if matching:\n",
    "    print(\"matched at the end\")\n",
    "else:\n",
    "    print(\"pattern not found at the end\")"
   ]
  },
  {
   "cell_type": "code",
   "execution_count": 124,
   "metadata": {},
   "outputs": [
    {
     "name": "stdout",
     "output_type": "stream",
     "text": [
      "pattern not found at the end\n"
     ]
    }
   ],
   "source": [
    "text = \"The quick brown fox jumps over the lazy dog.\"\n",
    "pattern=r\"dog$\" # be carefull --(.) you have to mentioned\n",
    "matching=re.search(pattern,text)\n",
    "if matching:\n",
    "    print(\"matched at the end\")\n",
    "else:\n",
    "    print(\"pattern not found at the end\")"
   ]
  },
  {
   "cell_type": "code",
   "execution_count": 125,
   "metadata": {},
   "outputs": [
    {
     "name": "stdout",
     "output_type": "stream",
     "text": [
      "pattern Found\n"
     ]
    }
   ],
   "source": [
    "#7.Matching Zero or More Repetitions (*):\n",
    "text = \"abbbbbc\"\n",
    "pattern=r\"abc*\"\n",
    "matching=re.search(pattern,text)\n",
    "if matching:\n",
    "    print(\"pattern Found\")\n",
    "    \n",
    "else:\n",
    "    print(\"pattern not found\")"
   ]
  },
  {
   "cell_type": "code",
   "execution_count": 126,
   "metadata": {},
   "outputs": [
    {
     "name": "stdout",
     "output_type": "stream",
     "text": [
      "pattern not found\n"
     ]
    }
   ],
   "source": [
    "text = \"abbbbbc\"\n",
    "pattern=r\"abcb*\"\n",
    "matching=re.search(pattern,text)\n",
    "if matching:\n",
    "    print(\"pattern Found\")\n",
    "    \n",
    "else:\n",
    "    print(\"pattern not found\")"
   ]
  },
  {
   "cell_type": "code",
   "execution_count": 113,
   "metadata": {},
   "outputs": [
    {
     "name": "stdout",
     "output_type": "stream",
     "text": [
      "pattern not found\n"
     ]
    }
   ],
   "source": [
    "text = \"abbbbbc\"\n",
    "pattern=r\"adb*\"\n",
    "matching=re.findall(pattern,text)\n",
    "if matching:\n",
    "    print(\"pattern Found\")\n",
    "    \n",
    "else:\n",
    "    print(\"pattern not found\")"
   ]
  },
  {
   "cell_type": "code",
   "execution_count": 127,
   "metadata": {},
   "outputs": [
    {
     "name": "stdout",
     "output_type": "stream",
     "text": [
      "pattern found\n"
     ]
    }
   ],
   "source": [
    "# 8.Matching One or More Repetitions (+):\n",
    "text = \"abbbbbc\"\n",
    "pattern=r\"ab+c\"\n",
    "matching=re.search(pattern,text)\n",
    "if matching:\n",
    "    print(\"pattern found\")\n",
    "else:\n",
    "    (\"pattern not Found\")"
   ]
  },
  {
   "cell_type": "code",
   "execution_count": 134,
   "metadata": {},
   "outputs": [
    {
     "name": "stdout",
     "output_type": "stream",
     "text": [
      "pattern found in text1\n",
      "pattern found in text2\n"
     ]
    }
   ],
   "source": [
    "# 9.Matching Zero or One Repetition (?):\n",
    "text1 = \"color\"\n",
    "text2 = \"colour\"\n",
    "pattern = r\"colou?r\"\n",
    "match1 = re.search(pattern, text1)\n",
    "match2 = re.search(pattern, text2)\n",
    "if match1:\n",
    "    print(\"pattern found in text1\")\n",
    "if match2:\n",
    "    print(\"pattern found in text2\")"
   ]
  },
  {
   "cell_type": "code",
   "execution_count": 132,
   "metadata": {},
   "outputs": [
    {
     "name": "stdout",
     "output_type": "stream",
     "text": [
      "Pattern found in text1\n"
     ]
    }
   ],
   "source": [
    "import re\n",
    "\n",
    "text1 = \"color\"\n",
    "text2 = \"colour\"\n",
    "pattern = r\"colo?r\"\n",
    "match1 = re.search(pattern, text1)\n",
    "match2 = re.search(pattern, text2)\n",
    "if match1:\n",
    "    print(\"Pattern found in text1\")  # Output: Pattern found in text1\n",
    "if match2:\n",
    "    print(\"Pattern found in text2\")  # Output: Pattern found in text2\n"
   ]
  },
  {
   "cell_type": "code",
   "execution_count": 145,
   "metadata": {},
   "outputs": [
    {
     "name": "stdout",
     "output_type": "stream",
     "text": [
      "Three digit found 199\n"
     ]
    }
   ],
   "source": [
    "# 10.Matching Exactly n Repetitions ({n}):\n",
    "text = \"The price is $199.99\"\n",
    "pattern= r\"\\d{3}\"\n",
    "match=re.search(pattern,text)\n",
    "if match:\n",
    "    print(\"Three digit found\",match.group())\n",
    "else:\n",
    "    print(\"Not found\")"
   ]
  },
  {
   "cell_type": "code",
   "execution_count": 147,
   "metadata": {},
   "outputs": [
    {
     "name": "stdout",
     "output_type": "stream",
     "text": [
      "Two digit found 199\n"
     ]
    }
   ],
   "source": [
    "# 11.Matching At Least n Repetitions ({n,}):\n",
    "text = \"The price is $199.99\"\n",
    "pattern= r\"\\d{2,}\"\n",
    "match=re.search(pattern,text)\n",
    "if match:\n",
    "    print(\"Two digit found\",match.group())\n",
    "else:\n",
    "    print(\"Not found\")"
   ]
  },
  {
   "cell_type": "code",
   "execution_count": 152,
   "metadata": {},
   "outputs": [
    {
     "name": "stdout",
     "output_type": "stream",
     "text": [
      "at most Three digit found \n"
     ]
    }
   ],
   "source": [
    "# 12.Matching At Most m Repetitions ({,m}):\n",
    "text = \"The maximum score is 1000 points.\"\n",
    "pattern= r\"\\d{,3}\"\n",
    "match=re.search(pattern,text)\n",
    "if match:\n",
    "    print(\"at most Three digit found\",match.group())\n",
    "else:\n",
    "    print(\"Not found\")"
   ]
  },
  {
   "cell_type": "code",
   "execution_count": 163,
   "metadata": {},
   "outputs": [
    {
     "name": "stdout",
     "output_type": "stream",
     "text": [
      "At most three digits found: 100\n"
     ]
    }
   ],
   "source": [
    "import re\n",
    "\n",
    "text = \"The maximum score is 1000 points.\"\n",
    "pattern = r\"\\d{1,3}\"\n",
    "match = re.search(pattern, text)\n",
    "if match:\n",
    "    print(\"At most three digits found:\", match.group())  # Output: At most three digits found: 100\n"
   ]
  },
  {
   "cell_type": "code",
   "execution_count": 162,
   "metadata": {},
   "outputs": [
    {
     "name": "stdout",
     "output_type": "stream",
     "text": [
      "At most three digits found: 199\n"
     ]
    }
   ],
   "source": [
    "# 13.Matching Between n and m Repetitions ({n,m}):\n",
    "text = \"The price is $199.99\"\n",
    "pattern = r\"\\d{2,3}\"\n",
    "match = re.search(pattern, text)\n",
    "if match:\n",
    "    print(\"At most three digits found:\", match.group())"
   ]
  },
  {
   "cell_type": "code",
   "execution_count": 172,
   "metadata": {},
   "outputs": [
    {
     "name": "stdout",
     "output_type": "stream",
     "text": [
      "Phone number found: ['123-456-7890']\n"
     ]
    }
   ],
   "source": [
    "### Some more examples\n",
    "text = \"Hello, my phone number is 123-456-7890 and my email is example@email.com.\"\n",
    "# finding the phone number\n",
    "pattern=r\"\\d{3}-\\d{3}-\\d{4}\"\n",
    "phone_match=re.findall(pattern,text)\n",
    "if phone_match:\n",
    "    print(\"Phone number found:\",phone_match)"
   ]
  },
  {
   "cell_type": "code",
   "execution_count": 173,
   "metadata": {},
   "outputs": [
    {
     "name": "stdout",
     "output_type": "stream",
     "text": [
      "Phone number found: 123-456-7890\n"
     ]
    }
   ],
   "source": [
    "### Some more examples\n",
    "text = \"Hello, my phone number is 123-456-7890 and my email is example@email.com.\"\n",
    "# finding the phone number\n",
    "pattern=r\"\\d{3}-\\d{3}-\\d{4}\"\n",
    "phone_match=re.search(pattern,text)\n",
    "if phone_match:\n",
    "    print(\"Phone number found:\",phone_match.group())"
   ]
  },
  {
   "cell_type": "code",
   "execution_count": 170,
   "metadata": {},
   "outputs": [
    {
     "name": "stdout",
     "output_type": "stream",
     "text": [
      "Email Address Found: ['example@email.com']\n"
     ]
    }
   ],
   "source": [
    "#finding the email address\n",
    "text = \"Hello, my phone number is 123-456-7890 and my email is example@email.com.\"\n",
    "pattern=r\"\\w+@\\w+\\.\\w+\"\n",
    "email_match=re.findall(pattern,text)\n",
    "if email_match:\n",
    "    print(\"Email Address Found:\",email_match)"
   ]
  },
  {
   "cell_type": "code",
   "execution_count": 174,
   "metadata": {},
   "outputs": [
    {
     "name": "stdout",
     "output_type": "stream",
     "text": [
      "Email Address Found: example@email.com\n"
     ]
    }
   ],
   "source": [
    "#finding the email address\n",
    "text = \"Hello, my phone number is 123-456-7890 and my email is example@email.com.\"\n",
    "pattern=r\"\\w+@\\w+\\.\\w+\"\n",
    "email_match=re.search(pattern,text)\n",
    "if email_match:\n",
    "    print(\"Email Address Found:\",email_match.group())"
   ]
  },
  {
   "cell_type": "code",
   "execution_count": 177,
   "metadata": {},
   "outputs": [
    {
     "name": "stdout",
     "output_type": "stream",
     "text": [
      "Found: fox\n",
      "Matched at the start: apple\n",
      "Matches: ['cat', 'hat', 'sat', 'mat']\n",
      "Modified text: Please-replace-all-the-spaces.\n",
      "Date found: 01-23-1990\n",
      "Email addresses: ['email@example.com', 'support@example.org']\n"
     ]
    }
   ],
   "source": [
    "import re\n",
    "\n",
    "# Example 1: Searching for a pattern using re.search()\n",
    "text = \"The quick brown fox jumps over the lazy dog\"\n",
    "pattern = r\"fox\"\n",
    "match = re.search(pattern, text)\n",
    "if match:\n",
    "    print(\"Found:\", match.group())  # Output: Found: fox\n",
    "else:\n",
    "    print(\"Pattern not found\")\n",
    "\n",
    "# Example 2: Matching at the beginning of a string using re.match()\n",
    "text = \"apple pie is delicious\"\n",
    "pattern = r\"apple\"\n",
    "match = re.match(pattern, text)\n",
    "if match:\n",
    "    print(\"Matched at the start:\", match.group())  # Output: Matched at the start: apple\n",
    "else:\n",
    "    print(\"Pattern not found at the start\")\n",
    "\n",
    "# Example 3: Finding all occurrences using re.findall()\n",
    "text = \"The cat and the hat sat on the mat.\"\n",
    "pattern = r\"\\b\\w+at\\b\"\n",
    "matches = re.findall(pattern, text)\n",
    "print(\"Matches:\", matches)  # Output: Matches: ['cat', 'hat', 'sat', 'mat']\n",
    "\n",
    "# Example 4: Replacing a pattern using re.sub()\n",
    "text = \"Please replace all the spaces.\"\n",
    "pattern = r\"\\s\"\n",
    "replacement = \"-\"\n",
    "new_text = re.sub(pattern, replacement, text)\n",
    "print(\"Modified text:\", new_text)  # Output: Modified text: Please-replace-all-the-spaces.\n",
    "\n",
    "# Example 5: Using special characters for more complex patterns\n",
    "text = \"Date of birth: 01-23-1990\"\n",
    "pattern = r\"\\d{2}-\\d{2}-\\d{4}\"\n",
    "date_match = re.search(pattern, text)\n",
    "if date_match:\n",
    "    print(\"Date found:\", date_match.group())  # Output: Date found: 01-23-1990\n",
    "\n",
    "# Example 6: Extracting email addresses from text\n",
    "text = \"Contact us at email@example.com or support@example.org for help.\"\n",
    "email_pattern = r\"\\w+@\\w+\\.\\w+\"\n",
    "email_addresses = re.findall(email_pattern, text)\n",
    "print(\"Email addresses:\", email_addresses)  # Output: Email addresses: ['email@example.com', 'support@example.org']\n"
   ]
  },
  {
   "cell_type": "markdown",
   "metadata": {},
   "source": [
    "## Decorators"
   ]
  },
  {
   "cell_type": "code",
   "execution_count": 2,
   "metadata": {},
   "outputs": [],
   "source": [
    "#Defining a Decorator Function:\n",
    "#To define a decorator, you create a regular Python function that takes another function as its argument. This inner function typically performs some additional actions before or after calling the original function.\n",
    "def my_decorator(func):\n",
    "    def wrapper():\n",
    "        print(\"Something ts happen before the function is called\")\n",
    "        func()\n",
    "        print(\"Something is happen after the function is called\")\n",
    "    return wrapper"
   ]
  },
  {
   "cell_type": "code",
   "execution_count": 6,
   "metadata": {},
   "outputs": [],
   "source": [
    "@my_decorator\n",
    "def say_hello():\n",
    "    print(\"Hello, world!\")\n",
    "    "
   ]
  },
  {
   "cell_type": "code",
   "execution_count": 7,
   "metadata": {},
   "outputs": [
    {
     "name": "stdout",
     "output_type": "stream",
     "text": [
      "Something is happening before the function is called.\n",
      "Hello, world!\n",
      "Something is happening after the function is called.\n"
     ]
    }
   ],
   "source": [
    "def my_decorator(func):\n",
    "    def wrapper():\n",
    "        print(\"Something is happening before the function is called.\")\n",
    "        func()\n",
    "        print(\"Something is happening after the function is called.\")\n",
    "    return wrapper\n",
    "\n",
    "@my_decorator\n",
    "def say_hello():\n",
    "    print(\"Hello, world!\")\n",
    "\n",
    "say_hello()\n"
   ]
  },
  {
   "cell_type": "code",
   "execution_count": 10,
   "metadata": {},
   "outputs": [
    {
     "name": "stdout",
     "output_type": "stream",
     "text": [
      "slow_function took 2.01 seconds to execute.\n",
      "fast_function took 0.00 seconds to execute.\n"
     ]
    }
   ],
   "source": [
    "## Example 2\n",
    "import time\n",
    "\n",
    "# Define a decorator for measuring execution time\n",
    "def measure_time(func):\n",
    "    def wrapper(*args, **kwargs):\n",
    "        start_time = time.time()  # Record the start time\n",
    "        result = func(*args, **kwargs)  # Call the original function\n",
    "        end_time = time.time()  # Record the end time\n",
    "        execution_time = end_time - start_time  # Calculate the execution time\n",
    "        print(f\"{func.__name__} took {execution_time:.2f} seconds to execute.\")\n",
    "        return result\n",
    "    return wrapper\n",
    "\n",
    "# Apply the decorator to a function\n",
    "@measure_time\n",
    "def slow_function():\n",
    "    time.sleep(2)  # Simulate a time-consuming task\n",
    "\n",
    "@measure_time\n",
    "def fast_function():\n",
    "    pass\n",
    "\n",
    "# Call the decorated functions\n",
    "slow_function()\n",
    "fast_function()\n"
   ]
  },
  {
   "cell_type": "code",
   "execution_count": 13,
   "metadata": {},
   "outputs": [],
   "source": [
    "## 1.Logging Decorators\n",
    "def log_function_call(func):\n",
    "    def wrapper(*args, **kwargs):\n",
    "        result = func(*args, **kwargs)\n",
    "        args_str = \", \".join([repr(arg) for arg in args])\n",
    "        kwargs_str = \", \".join([f\"{key}={value}\" for key, value in kwargs.items()])\n",
    "        print(f\"Calling {func.__name__}({args_str}, {kwargs_str})\")\n",
    "        print(f\"{func.__name__} returned {result}\")\n",
    "        return result\n",
    "    return wrapper\n"
   ]
  },
  {
   "cell_type": "code",
   "execution_count": 14,
   "metadata": {},
   "outputs": [],
   "source": [
    "## Authenticating Decorator\n",
    "def login_required(func):\n",
    "    def wrapper(request, *args, **kwargs):\n",
    "        if user_is_authenticated(request):\n",
    "            return func(request, *args, **kwargs)\n",
    "        else:\n",
    "            return \"Access denied. Please log in.\"\n",
    "    return wrapper"
   ]
  },
  {
   "cell_type": "code",
   "execution_count": 15,
   "metadata": {},
   "outputs": [],
   "source": [
    "## 3. Caching Decorator:\n",
    "import functools\n",
    "def cache_result(func):\n",
    "    cache={}\n",
    "    \n",
    "    @functools.wraps(func)\n",
    "    def wrapper(*args):\n",
    "        if args in cache:\n",
    "            return cache[args]\n",
    "        result=func(*args)\n",
    "        cache[args]=result\n",
    "        return result\n",
    "    return wrapper"
   ]
  },
  {
   "cell_type": "code",
   "execution_count": 16,
   "metadata": {},
   "outputs": [],
   "source": [
    "# 4.retry Decorator\n",
    "import time\n",
    "\n",
    "def retry(max_retries):\n",
    "    def decorator(func):\n",
    "        def wrapper(*args,**kwargs):\n",
    "            for _ in range(max_retries):\n",
    "                try:\n",
    "                    return func(*args,**kwargs)\n",
    "                except Exception as e:\n",
    "                    print(f\"Error : {e}\")\n",
    "                    time.sleep(2)\n",
    "            raise Exception(f\"Max Retries ({max_retries}) reached.\")\n",
    "        return wrapper\n",
    "    return decorator"
   ]
  },
  {
   "cell_type": "code",
   "execution_count": 17,
   "metadata": {},
   "outputs": [],
   "source": [
    "# 5.validation Decorator\n",
    "def validate_args(*arg_types, **kwarg_types):\n",
    "    def decorator(func):\n",
    "        def wrapper(*args, **kwargs):\n",
    "            for i, arg in enumerate(args):\n",
    "                if i < len(arg_types) and not isinstance(arg, arg_types[i]):\n",
    "                    raise TypeError(f\"Argument {i} must be of type {arg_types[i]}\")\n",
    "            for key, value in kwargs.items():\n",
    "                if key in kwarg_types and not isinstance(value, kwarg_types[key]):\n",
    "                    raise TypeError(f\"Keyword argument '{key}' must be of type {kwarg_types[key]}\")\n",
    "            return func(*args, **kwargs)\n",
    "        return wrapper\n",
    "    return decorator\n"
   ]
  },
  {
   "cell_type": "code",
   "execution_count": null,
   "metadata": {},
   "outputs": [],
   "source": []
  },
  {
   "cell_type": "markdown",
   "metadata": {},
   "source": [
    "### Module and Packages"
   ]
  },
  {
   "cell_type": "code",
   "execution_count": 18,
   "metadata": {},
   "outputs": [],
   "source": [
    "#1.Creating a Module (my_module.py):\n",
    "def greet(name):\n",
    "    return f\"Hello,{name}\""
   ]
  },
  {
   "cell_type": "code",
   "execution_count": 24,
   "metadata": {},
   "outputs": [],
   "source": [
    "#2.Creating a Package (my_package):\n",
    "\"\"\"\n",
    "Create a directory named my_package with an __init__.py file and another module module1.py inside it:\n",
    "my_package/\n",
    "├── __init__.py\n",
    "└── module1.py\n",
    "\"\"\"\n",
    "# my_package/module1.py\n",
    "\n",
    "def function1():\n",
    "    return \"Function 1 from module1\"\n"
   ]
  },
  {
   "cell_type": "code",
   "execution_count": 26,
   "metadata": {},
   "outputs": [
    {
     "data": {
      "text/plain": [
       "'\\n# main.py\\n\\n# Import the module\\nimport my_module\\n\\n# Import a function from the package\\'s module\\nfrom my_package import module1\\n\\n# Use the module\\nresult1 = my_module.greet(\"Alice\")\\nprint(result1)\\n\\n# Use the function from the package\\'s module\\nresult2 = module1.function1()\\nprint(result2)\\n'"
      ]
     },
     "execution_count": 26,
     "metadata": {},
     "output_type": "execute_result"
    }
   ],
   "source": [
    "\"\"\"\n",
    "# main.py\n",
    "\n",
    "# Import the module\n",
    "import my_module\n",
    "\n",
    "# Import a function from the package's module\n",
    "from my_package import module1\n",
    "\n",
    "# Use the module\n",
    "result1 = my_module.greet(\"Alice\")\n",
    "print(result1)\n",
    "\n",
    "# Use the function from the package's module\n",
    "result2 = module1.function1()\n",
    "print(result2)\n",
    "\"\"\""
   ]
  },
  {
   "cell_type": "markdown",
   "metadata": {},
   "source": [
    "### Package Management"
   ]
  },
  {
   "cell_type": "code",
   "execution_count": null,
   "metadata": {},
   "outputs": [],
   "source": [
    "#1.Install a Package:\n",
    "# You can use pip to install a Python package from the Python Package Index (PyPI) by running the following command:\n",
    "# pip install package_name\n",
    "# pip install requests\n",
    "\n",
    "\n",
    "# 2. Uninstall a Package:\n",
    "# pip uninstall package_name\n"
   ]
  },
  {
   "cell_type": "code",
   "execution_count": 27,
   "metadata": {},
   "outputs": [],
   "source": [
    "#3.Upgrade a Package:\n",
    "# pip install --upgrade package_name"
   ]
  },
  {
   "cell_type": "code",
   "execution_count": 28,
   "metadata": {},
   "outputs": [],
   "source": [
    "# 4. list installed package\n",
    "# pip list"
   ]
  },
  {
   "cell_type": "code",
   "execution_count": null,
   "metadata": {},
   "outputs": [],
   "source": [
    "# 5.Show Package Details:\n",
    "# pip snow package_name"
   ]
  },
  {
   "cell_type": "markdown",
   "metadata": {},
   "source": [
    "## Date and Time"
   ]
  },
  {
   "cell_type": "code",
   "execution_count": 30,
   "metadata": {},
   "outputs": [
    {
     "data": {
      "text/plain": [
       "datetime.datetime(2023, 10, 9, 16, 50, 59, 954324)"
      ]
     },
     "execution_count": 30,
     "metadata": {},
     "output_type": "execute_result"
    }
   ],
   "source": [
    "# 1. Import the datatime module\n",
    "import datetime\n",
    "\n",
    "# 2.Getting the current date and time:\n",
    "current_datetime=datetime.datetime.now()\n",
    "current_datetime"
   ]
  },
  {
   "cell_type": "code",
   "execution_count": 32,
   "metadata": {},
   "outputs": [
    {
     "data": {
      "text/plain": [
       "datetime.date(2023, 10, 9)"
      ]
     },
     "execution_count": 32,
     "metadata": {},
     "output_type": "execute_result"
    }
   ],
   "source": [
    "# 3. Create a dateobject\n",
    "spesific_date=datetime.date(2023,10,9) #year,month,day\n",
    "spesific_date"
   ]
  },
  {
   "cell_type": "code",
   "execution_count": 34,
   "metadata": {},
   "outputs": [
    {
     "data": {
      "text/plain": [
       "datetime.time(16, 53)"
      ]
     },
     "execution_count": 34,
     "metadata": {},
     "output_type": "execute_result"
    }
   ],
   "source": [
    "# 4. Create a timeobject\n",
    "spesific_time=datetime.time(16,53,0) #Hour,minute,second\n",
    "spesific_time"
   ]
  },
  {
   "cell_type": "code",
   "execution_count": 40,
   "metadata": {},
   "outputs": [
    {
     "name": "stdout",
     "output_type": "stream",
     "text": [
      "2023-10-09\n",
      "16-50-59\n"
     ]
    }
   ],
   "source": [
    "# 5.Formatting date and time\n",
    "formatted_date=current_datetime.strftime(\"%Y-%m-%d\")\n",
    "print(formatted_date)\n",
    "formatted_time=current_datetime.strftime(\"%H-%M-%S\")\n",
    "print(formatted_time)"
   ]
  },
  {
   "cell_type": "code",
   "execution_count": 42,
   "metadata": {},
   "outputs": [
    {
     "data": {
      "text/plain": [
       "'2023-10-09'"
      ]
     },
     "execution_count": 42,
     "metadata": {},
     "output_type": "execute_result"
    }
   ],
   "source": [
    "# 6.Praising Date and Time String\n",
    "date_string=\"2023-10-09\"\n",
    "presed_date=datetime.datetime.strptime(date_string,\"%Y-%m-%d\")\n",
    "date_string"
   ]
  },
  {
   "cell_type": "code",
   "execution_count": 47,
   "metadata": {},
   "outputs": [
    {
     "name": "stdout",
     "output_type": "stream",
     "text": [
      "Current Date and Time: 2023-10-09 17:09:09.054541\n",
      "Specific Date: 2023-10-09\n",
      "Specific Time: 16:50:00\n",
      "Formatted Date: 2023-10-09\n",
      "Formatted Time: 17-09-09\n",
      "Parsed Date: 2023-10-09 00:00:00\n"
     ]
    }
   ],
   "source": [
    "## Example of date and time\n",
    "import datetime\n",
    "#current date and time\n",
    "current_datetime=datetime.datetime.now()\n",
    "\n",
    "#creating the specific date and time\n",
    "specific_date=datetime.date(2023,10,9)\n",
    "specific_time=datetime.time(16,50,00)\n",
    "\n",
    "#formatting the date and time\n",
    "formatted_date=current_datetime.strftime(\"%Y-%m-%d\")\n",
    "formatted_time=current_datetime.strftime(\"%H-%M-%S\")\n",
    "\n",
    "#Prasing date from a sring\n",
    "date_string=\"2023-10-09\"\n",
    "parsed_date = datetime.datetime.strptime(date_string, \"%Y-%m-%d\")\n",
    "\n",
    "\n",
    "print(\"Current Date and Time:\", current_datetime)\n",
    "print(\"Specific Date:\", specific_date)\n",
    "print(\"Specific Time:\", specific_time)\n",
    "print(\"Formatted Date:\", formatted_date)\n",
    "print(\"Formatted Time:\", formatted_time)\n",
    "print(\"Parsed Date:\", parsed_date)"
   ]
  },
  {
   "cell_type": "code",
   "execution_count": null,
   "metadata": {},
   "outputs": [],
   "source": []
  },
  {
   "cell_type": "markdown",
   "metadata": {},
   "source": [
    "### JSON"
   ]
  },
  {
   "cell_type": "code",
   "execution_count": 52,
   "metadata": {},
   "outputs": [
    {
     "data": {
      "text/plain": [
       "{'name': 'John', 'age': 30, 'city': 'New York'}"
      ]
     },
     "execution_count": 52,
     "metadata": {},
     "output_type": "execute_result"
    }
   ],
   "source": [
    "# 1. import json module\n",
    "import json\n",
    "\n",
    "# 2. JASON to python\n",
    "json_string = '{\"name\": \"John\", \"age\": 30, \"city\": \"New York\"}'\n",
    "python_object=json.loads(json_string)\n",
    "python_object"
   ]
  },
  {
   "cell_type": "code",
   "execution_count": 55,
   "metadata": {},
   "outputs": [
    {
     "data": {
      "text/plain": [
       "'{\"name\": \"John\", \"age\": 30, \"city\": \"New York\"}'"
      ]
     },
     "execution_count": 55,
     "metadata": {},
     "output_type": "execute_result"
    }
   ],
   "source": [
    "# 3. python to Json\n",
    "python_object = {\"name\": \"John\", \"age\": 30, \"city\": \"New York\"}\n",
    "jon_string=json.dumps(python_object)\n",
    "json_string"
   ]
  },
  {
   "cell_type": "code",
   "execution_count": 56,
   "metadata": {},
   "outputs": [
    {
     "data": {
      "text/plain": [
       "'\\nwith open(\"data.json\", \"r\") as file:\\n    data = json.load(file)\\n'"
      ]
     },
     "execution_count": 56,
     "metadata": {},
     "output_type": "execute_result"
    }
   ],
   "source": [
    "# 4.Read Json from file\n",
    "\"\"\"\n",
    "with open(\"data.json\", \"r\") as file:\n",
    "    data = json.load(file)\n",
    "\"\"\""
   ]
  },
  {
   "cell_type": "code",
   "execution_count": null,
   "metadata": {},
   "outputs": [],
   "source": [
    "# 5.Write Json from file\n",
    "\"\"\"\n",
    "with open(\"data.json\", \"w\") as file:\n",
    "    json.load(data,file)\n",
    "\"\"\""
   ]
  },
  {
   "cell_type": "code",
   "execution_count": 59,
   "metadata": {},
   "outputs": [
    {
     "name": "stdout",
     "output_type": "stream",
     "text": [
      "Python Object: {'name': 'John', 'age': 30, 'city': 'New York'}\n",
      "JSON String: {\"name\": \"John\", \"age\": 30, \"city\": \"New York\"}\n"
     ]
    }
   ],
   "source": [
    "### Example\n",
    "import json\n",
    "\n",
    "# JSON to Python\n",
    "json_string = '{\"name\": \"John\", \"age\": 30, \"city\": \"New York\"}'\n",
    "python_object = json.loads(json_string)\n",
    "\n",
    "# Python to JSON\n",
    "python_object = {\"name\": \"John\", \"age\": 30, \"city\": \"New York\"}\n",
    "json_string = json.dumps(python_object)\n",
    "\"\"\"\n",
    "# Read JSON from a file\n",
    "with open(\"data.json\", \"r\") as file:\n",
    "    data = json.load(file)\n",
    "\n",
    "# Write JSON to a file\n",
    "data = {\"name\": \"John\", \"age\": 30, \"city\": \"New York\"}\n",
    "with open(\"data.json\", \"w\") as file:\n",
    "    json.dump(data, file)\n",
    "\"\"\"\n",
    "print(\"Python Object:\", python_object)\n",
    "print(\"JSON String:\", json_string)\n",
    "#print(\"Data from File:\", data)\n"
   ]
  },
  {
   "cell_type": "markdown",
   "metadata": {},
   "source": [
    "## Threading "
   ]
  },
  {
   "cell_type": "code",
   "execution_count": 62,
   "metadata": {},
   "outputs": [
    {
     "data": {
      "text/plain": [
       "'\\nimport threading\\n\\ndef my_function(arg1, arg2):\\n    # Your code here\\n\\nt = threading.Thread(target=my_function, args=(arg1, arg2))\\n'"
      ]
     },
     "execution_count": 62,
     "metadata": {},
     "output_type": "execute_result"
    }
   ],
   "source": [
    "\"\"\"\n",
    "import threading\n",
    "\n",
    "def my_function(arg1, arg2):\n",
    "    # Your code here\n",
    "\n",
    "t = threading.Thread(target=my_function, args=(arg1, arg2))\n",
    "\"\"\""
   ]
  },
  {
   "cell_type": "code",
   "execution_count": 60,
   "metadata": {},
   "outputs": [
    {
     "name": "stdout",
     "output_type": "stream",
     "text": [
      "Number 1\n",
      "Letter A\n",
      "Letter BNumber 2\n",
      "\n",
      "Letter CNumber 3\n",
      "\n",
      "Number 4Letter D\n",
      "\n",
      "Number 5Letter E\n",
      "\n",
      "Both threads have finished.\n"
     ]
    }
   ],
   "source": [
    "import threading\n",
    "import time\n",
    "\n",
    "# Define a function to be executed by the thread\n",
    "def print_numbers():\n",
    "    for i in range(1, 6):\n",
    "        print(f\"Number {i}\")\n",
    "        time.sleep(1)\n",
    "\n",
    "def print_letters():\n",
    "    for letter in \"ABCDE\":\n",
    "        print(f\"Letter {letter}\")\n",
    "        time.sleep(1)\n",
    "\n",
    "# Create two threads\n",
    "thread1 = threading.Thread(target=print_numbers)\n",
    "thread2 = threading.Thread(target=print_letters)\n",
    "\n",
    "# Start the threads\n",
    "thread1.start() #To start a thread and make it run concurrently, call the start() method on the thread object:\n",
    "thread2.start()\n",
    "\n",
    "# Wait for both threads to finish\n",
    "thread1.join() #If you want the main program to wait for a thread to finish its execution before proceeding, you can use the join() method:\n",
    "thread2.join()\n",
    "\n",
    "print(\"Both threads have finished.\")\n"
   ]
  },
  {
   "cell_type": "code",
   "execution_count": null,
   "metadata": {},
   "outputs": [],
   "source": []
  },
  {
   "cell_type": "markdown",
   "metadata": {},
   "source": [
    "## Multiprocessing"
   ]
  },
  {
   "cell_type": "code",
   "execution_count": 63,
   "metadata": {},
   "outputs": [
    {
     "data": {
      "text/plain": [
       "'\\nimport multiprocessing\\n\\ndef my_function(arg1, arg2):\\n    # Your code here\\n\\np = multiprocessing.Process(target=my_function, args=(arg1, arg2))\\n'"
      ]
     },
     "execution_count": 63,
     "metadata": {},
     "output_type": "execute_result"
    }
   ],
   "source": [
    "\"\"\"\n",
    "import multiprocessing\n",
    "\n",
    "def my_function(arg1, arg2):\n",
    "    # Your code here\n",
    "\n",
    "p = multiprocessing.Process(target=my_function, args=(arg1, arg2))\n",
    "\"\"\""
   ]
  },
  {
   "cell_type": "code",
   "execution_count": 64,
   "metadata": {},
   "outputs": [
    {
     "name": "stdout",
     "output_type": "stream",
     "text": [
      "Both processes have finished.\n"
     ]
    }
   ],
   "source": [
    "import multiprocessing\n",
    "import time\n",
    "\n",
    "# Define a function to be executed by the process\n",
    "def print_numbers():\n",
    "    for i in range(1, 6):\n",
    "        print(f\"Number {i}\")\n",
    "        time.sleep(1)\n",
    "\n",
    "def print_letters():\n",
    "    for letter in \"ABCDE\":\n",
    "        print(f\"Letter {letter}\")\n",
    "        time.sleep(1)\n",
    "\n",
    "# Create two processes\n",
    "process1 = multiprocessing.Process(target=print_numbers)\n",
    "process2 = multiprocessing.Process(target=print_letters)\n",
    "\n",
    "# Start the processes\n",
    "process1.start() #To start a process and make it run concurrently, call the start() method on the process object:\n",
    "process2.start()\n",
    "\n",
    "# Wait for both processes to finish\n",
    "process1.join()#If you want the main program to wait for a process to finish its execution before proceeding, you can use the join() method:\n",
    "process2.join()\n",
    "\n",
    "print(\"Both processes have finished.\")\n"
   ]
  },
  {
   "cell_type": "markdown",
   "metadata": {},
   "source": [
    "### Web Scraping (BeautifulSoup)"
   ]
  },
  {
   "cell_type": "code",
   "execution_count": 1,
   "metadata": {},
   "outputs": [
    {
     "data": {
      "text/plain": [
       "\"\\n┣    from bs4 import BeautifulSoup \\n┣    Create a BeautifulSoup object: soup = BeautifulSoup(html_content, 'html.parser') \\n┣    Find elements by tag: soup.find_all('tag_name') \\n┣    Access element attributes: element['attribute_name'] \\n┗    Get element text: element.text \\n\""
      ]
     },
     "execution_count": 1,
     "metadata": {},
     "output_type": "execute_result"
    }
   ],
   "source": [
    "\"\"\"\n",
    "┣    from bs4 import BeautifulSoup \n",
    "┣    Create a BeautifulSoup object: soup = BeautifulSoup(html_content, 'html.parser') \n",
    "┣    Find elements by tag: soup.find_all('tag_name') \n",
    "┣    Access element attributes: element['attribute_name'] \n",
    "┗    Get element text: element.text \n",
    "\"\"\""
   ]
  },
  {
   "cell_type": "code",
   "execution_count": 65,
   "metadata": {},
   "outputs": [
    {
     "name": "stdout",
     "output_type": "stream",
     "text": [
      "First Paragraph: This is a paragraph.\n",
      "Link Href: https://www.example.com\n"
     ]
    }
   ],
   "source": [
    "from bs4 import BeautifulSoup\n",
    "\n",
    "# Sample HTML content\n",
    "html_content = \"\"\"\n",
    "<html>\n",
    "<head>\n",
    "    <title>Example Page</title>\n",
    "</head>\n",
    "<body>\n",
    "    <h1>Welcome to BeautifulSoup</h1>\n",
    "    <p>This is a paragraph.</p>\n",
    "    <a href=\"https://www.example.com\">Visit Example.com</a>\n",
    "</body>\n",
    "</html>\n",
    "\"\"\"\n",
    "\n",
    "# Create a BeautifulSoup object\n",
    "soup = BeautifulSoup(html_content, 'html.parser')\n",
    "\n",
    "# Find all paragraphs in the HTML\n",
    "paragraphs = soup.find_all('p')\n",
    "\n",
    "# Access the text content of the first paragraph\n",
    "first_paragraph_text = paragraphs[0].text\n",
    "\n",
    "# Access the 'href' attribute of the link\n",
    "link_href = soup.find('a')['href']\n",
    "\n",
    "# Print the results\n",
    "print(\"First Paragraph:\", first_paragraph_text)\n",
    "print(\"Link Href:\", link_href)\n"
   ]
  },
  {
   "cell_type": "code",
   "execution_count": 5,
   "metadata": {},
   "outputs": [],
   "source": [
    "from bs4 import BeautifulSoup # importing the beautifulsoup"
   ]
  },
  {
   "cell_type": "code",
   "execution_count": 6,
   "metadata": {},
   "outputs": [],
   "source": [
    "# Sample HTML content\n",
    "html_content=\"\"\"\n",
    "<html>\n",
    "<head>\n",
    "<title>Sample Page</title>\n",
    "</head>\n",
    "<body>\n",
    "<h1>Welcome to web Scrapping with BeautifulSaup</h1>\n",
    "<p>This is a Paragraph.</p>\n",
    "<ul>\n",
    "<li><a href=\"https://www.example.com\">Visit Example.com</a></li>\n",
    "<li><a href=\"https://www.google.com\">Visit Google</a></li>\n",
    "</ul>\n",
    "</body>\n",
    "</html>\n",
    "\"\"\""
   ]
  },
  {
   "cell_type": "code",
   "execution_count": 11,
   "metadata": {},
   "outputs": [
    {
     "name": "stdout",
     "output_type": "stream",
     "text": [
      "Paragraphs:\n",
      "This is a Paragraph.\n",
      "\\Link:\n",
      "Text: Visit Example.com\n",
      "URL: https://www.example.com\n",
      "Text: Visit Google\n",
      "URL: https://www.google.com\n",
      "\n",
      " Heading Text: Welcome to web Scrapping with BeautifulSaup\n",
      "First Link Href: https://www.example.com\n"
     ]
    }
   ],
   "source": [
    "# creating beautifulSoup Object\n",
    "soup=BeautifulSoup(html_content,\"html.parser\")\n",
    "\n",
    "# finding all element with a specific tag\n",
    "paragraphs=soup.find_all(\"p\") #Find all paragraph\n",
    "links=soup.find_all(\"a\") #find all anchor (link) element\n",
    "\n",
    "#Access element attribute\n",
    "first_link=links[0] #get the first link\n",
    "first_link_href=first_link[\"href\"] #access the href attribute of the link\n",
    "\n",
    "#get element text\n",
    "heading_text=soup.h1.text #get the text content of the <h1> element\n",
    "\n",
    "#print the result\n",
    "print(\"Paragraphs:\")\n",
    "for paragraph in paragraphs:\n",
    "    print(paragraph.text)\n",
    "    \n",
    "print(\"\\Link:\")\n",
    "for link in links:\n",
    "    print(\"Text:\",link.text)\n",
    "    print(\"URL:\",link[\"href\"])\n",
    "    \n",
    "print(\"\\n Heading Text:\",heading_text)\n",
    "print(\"First Link Href:\",first_link_href)"
   ]
  },
  {
   "cell_type": "code",
   "execution_count": 14,
   "metadata": {},
   "outputs": [
    {
     "name": "stdout",
     "output_type": "stream",
     "text": [
      "Quote: “The world as we have created it is a process of our thinking. It cannot be changed without changing our thinking.”\n",
      "Author: Albert Einstein\n",
      "\n",
      "Quote: “It is our choices, Harry, that show what we truly are, far more than our abilities.”\n",
      "Author: J.K. Rowling\n",
      "\n",
      "Quote: “There are only two ways to live your life. One is as though nothing is a miracle. The other is as though everything is a miracle.”\n",
      "Author: Albert Einstein\n",
      "\n",
      "Quote: “The person, be it gentleman or lady, who has not pleasure in a good novel, must be intolerably stupid.”\n",
      "Author: Jane Austen\n",
      "\n",
      "Quote: “Imperfection is beauty, madness is genius and it's better to be absolutely ridiculous than absolutely boring.”\n",
      "Author: Marilyn Monroe\n",
      "\n",
      "Quote: “Try not to become a man of success. Rather become a man of value.”\n",
      "Author: Albert Einstein\n",
      "\n",
      "Quote: “It is better to be hated for what you are than to be loved for what you are not.”\n",
      "Author: André Gide\n",
      "\n",
      "Quote: “I have not failed. I've just found 10,000 ways that won't work.”\n",
      "Author: Thomas A. Edison\n",
      "\n",
      "Quote: “A woman is like a tea bag; you never know how strong it is until it's in hot water.”\n",
      "Author: Eleanor Roosevelt\n",
      "\n",
      "Quote: “A day without sunshine is like, you know, night.”\n",
      "Author: Steve Martin\n",
      "\n"
     ]
    }
   ],
   "source": [
    "# Example 1: Scraping Quotes from a Website\n",
    "import requests\n",
    "from bs4 import BeautifulSoup\n",
    "\n",
    "# Send an HTTP GET request to the website\n",
    "url = 'https://quotes.toscrape.com/'\n",
    "response = requests.get(url)\n",
    "\n",
    "# Parse the HTML content with BeautifulSoup\n",
    "soup = BeautifulSoup(response.text, 'html.parser')\n",
    "\n",
    "# Find and print quotes and authors\n",
    "quotes = soup.find_all('span', class_='text')\n",
    "authors = soup.find_all('small', class_='author')\n",
    "\n",
    "for i in range(len(quotes)):\n",
    "    print(f\"Quote: {quotes[i].text}\")\n",
    "    print(f\"Author: {authors[i].text}\")\n",
    "    print()\n"
   ]
  },
  {
   "cell_type": "code",
   "execution_count": 16,
   "metadata": {},
   "outputs": [],
   "source": [
    "# Example 2: Scraping News Headlines from a News Site\n",
    "import requests\n",
    "from bs4 import BeautifulSoup\n",
    "\n",
    "# Send an HTTP GET request to a news website\n",
    "url = 'https://news.ycombinator.com/'\n",
    "response = requests.get(url)\n",
    "\n",
    "# Parse the HTML content with BeautifulSoup\n",
    "soup = BeautifulSoup(response.text, 'html.parser')\n",
    "\n",
    "# Find and print news headlines\n",
    "headlines = soup.find_all('a', class_='storylink')\n",
    "\n",
    "for i, headline in enumerate(headlines, start=1):\n",
    "    print(f\"{i}. {headline.text}\")\n"
   ]
  },
  {
   "cell_type": "code",
   "execution_count": 17,
   "metadata": {},
   "outputs": [
    {
     "name": "stdout",
     "output_type": "stream",
     "text": [
      "Country: Asia, Population: Southern Asia\n",
      "Country: Asia, Population: Eastern Asia\n",
      "Country: North America, Population: Northern America\n",
      "Country: Asia, Population: Southeastern Asia\n",
      "Country: Asia, Population: Southern Asia\n",
      "Country: Africa, Population: Western Africa\n",
      "Country: South America, Population: Southern America\n",
      "Country: Asia, Population: Southern Asia\n",
      "Country: Europe, Population: Eastern Europe\n",
      "Country: North America, Population: Northern America\n",
      "Country: Africa, Population: Eastern Africa\n",
      "Country: Asia, Population: Eastern Asia\n",
      "Country: Asia, Population: Southeastern Asia\n",
      "Country: Africa, Population: Northern Africa\n",
      "Country: Africa, Population: Central Africa\n",
      "Country: Asia, Population: Southeastern Asia\n",
      "Country: Asia, Population: Southern Asia\n",
      "Country: Asia, Population: Western Asia\n",
      "Country: Europe, Population: Western Europe\n",
      "Country: Asia, Population: Southeastern Asia\n",
      "Country: Europe, Population: Northern Europe\n",
      "Country: Africa, Population: Eastern Africa\n",
      "Country: Europe, Population: Western Europe\n",
      "Country: Africa, Population: Southern Africa\n",
      "Country: Europe, Population: Southern Europe\n",
      "Country: Africa, Population: Eastern Africa\n",
      "Country: Asia, Population: Southeastern Asia\n",
      "Country: South America, Population: Southern America\n",
      "Country: Asia, Population: Eastern Asia\n",
      "Country: Africa, Population: Eastern Africa\n",
      "Country: Africa, Population: Northern Africa\n",
      "Country: Europe, Population: Southern Europe\n",
      "Country: South America, Population: Southern America\n",
      "Country: Africa, Population: Northern Africa\n",
      "Country: Asia, Population: Western Asia\n",
      "Country: Asia, Population: Southern Asia\n",
      "Country: Europe, Population: Eastern Europe\n",
      "Country: North America, Population: Northern America\n",
      "Country: Africa, Population: Northern Africa\n",
      "Country: Asia, Population: Western Asia\n",
      "Country: Europe, Population: Eastern Europe\n",
      "Country: Africa, Population: Central Africa\n",
      "Country: Asia, Population: Central Asia\n",
      "Country: Asia, Population: Western Asia\n",
      "Country: South America, Population: Southern America\n",
      "Country: Asia, Population: Southeastern Asia\n",
      "Country: Africa, Population: Western Africa\n",
      "Country: Africa, Population: Eastern Africa\n",
      "Country: Asia, Population: Southern Asia\n",
      "Country: Africa, Population: Eastern Africa\n",
      "Country: Africa, Population: Western Africa\n",
      "Country: Americas, Population: Southern America\n",
      "Country: Africa, Population: Central Africa\n",
      "Country: Africa, Population: Western Africa\n",
      "Country: Oceania, Population: Australasia\n",
      "Country: Asia, Population: Eastern Asia\n",
      "Country: Asia, Population: Eastern Asia\n",
      "Country: Africa, Population: Western Africa\n",
      "Country: Africa, Population: Western Africa\n",
      "Country: Asia, Population: Western Asia\n",
      "Country: Asia, Population: Southern Asia\n",
      "Country: Africa, Population: Eastern Africa\n",
      "Country: Africa, Population: Eastern Africa\n",
      "Country: Europe, Population: Eastern Europe\n",
      "Country: Americas, Population: Southern America\n",
      "Country: Asia, Population: Central Asia\n",
      "Country: Africa, Population: Central Africa\n",
      "Country: Americas, Population: Southern America\n",
      "Country: Africa, Population: Eastern Africa\n",
      "Country: Americas, Population: Central America\n",
      "Country: Africa, Population: Western Africa\n",
      "Country: Europe, Population: Western Europe\n",
      "Country: Asia, Population: Southeastern Asia\n",
      "Country: Africa, Population: Eastern Africa\n",
      "Country: Africa, Population: Western Africa\n",
      "Country: Africa, Population: Eastern Africa\n",
      "Country: Africa, Population: Western Africa\n",
      "Country: Africa, Population: Eastern Africa\n",
      "Country: Africa, Population: Northern Africa\n",
      "Country: Americas, Population: Southern America\n",
      "Country: Americas, Population: Caribbean\n",
      "Country: Europe, Population: Western Europe\n",
      "Country: Asia, Population: Western Asia\n",
      "Country: Americas, Population: Caribbean\n",
      "Country: Americas, Population: Caribbean\n",
      "Country: Africa, Population: Eastern Africa\n",
      "Country: Europe, Population: Northern Europe\n",
      "Country: Americas, Population: Central America\n",
      "Country: Europe, Population: Eastern Europe\n",
      "Country: Asia, Population: Western Asia\n",
      "Country: Europe, Population: Southern Europe\n",
      "Country: Oceania, Population: Melanesia\n",
      "Country: Europe, Population: Southern Europe\n",
      "Country: Europe, Population: Eastern Europe\n",
      "Country: Asia, Population: Central Asia\n",
      "Country: Asia, Population: Western Asia\n",
      "Country: Europe, Population: Eastern Europe\n",
      "Country: Asia, Population: Western Asia\n",
      "Country: Africa, Population: Western Africa\n",
      "Country: Europe, Population: Western Europe\n",
      "Country: Europe, Population: Western Europe\n",
      "Country: Africa, Population: Western Africa\n",
      "Country: Asia, Population: Southeastern Asia\n",
      "Country: Asia, Population: Eastern Asia\n",
      "Country: Europe, Population: Southern Europe\n",
      "Country: Americas, Population: Central America\n",
      "Country: Africa, Population: Northern Africa\n",
      "Country: Americas, Population: Southern America\n",
      "Country: Asia, Population: Central Asia\n",
      "Country: Europe, Population: Eastern Europe\n",
      "Country: Asia, Population: Central Asia\n",
      "Country: Americas, Population: Central America\n",
      "Country: Africa, Population: Central Africa\n",
      "Country: Asia, Population: Southeastern Asia\n",
      "Country: Europe, Population: Northern Europe\n",
      "Country: Europe, Population: Eastern Europe\n",
      "Country: Africa, Population: Central Africa\n",
      "Country: Europe, Population: Northern Europe\n",
      "Country: Europe, Population: Northern Europe\n",
      "Country: Africa, Population: Western Africa\n",
      "Country: Asia, Population: Western Asia\n",
      "Country: Asia, Population: Western Asia\n",
      "Country: Oceania, Population: Australasia\n",
      "Country: Americas, Population: Central America\n",
      "Country: Europe, Population: Northern Europe\n",
      "Country: Africa, Population: Western Africa\n",
      "Country: Asia, Population: Western Asia\n",
      "Country: Americas, Population: Central America\n",
      "Country: Asia, Population: Western Asia\n",
      "Country: Europe, Population: Southern Europe\n",
      "Country: Africa, Population: Eastern Africa\n",
      "Country: Asia, Population: Western Asia\n",
      "Country: Asia, Population: Eastern Asia\n",
      "Country: Europe, Population: Eastern Europe\n",
      "Country: Americas, Population: Southern America\n",
      "Country: Americas, Population: Caribbean\n",
      "Country: Europe, Population: Southern Europe\n",
      "Country: Europe, Population: Southern Europe\n",
      "Country: Americas, Population: Caribbean\n",
      "Country: Asia, Population: Western Asia\n",
      "Country: Africa, Population: Western Africa\n",
      "Country: Europe, Population: Northern Europe\n",
      "Country: Asia, Population: Western Asia\n",
      "Country: Africa, Population: Southern Africa\n",
      "Country: Africa, Population: Southern Africa\n",
      "Country: Africa, Population: Central Africa\n",
      "Country: Africa, Population: Southern Africa\n",
      "Country: Africa, Population: Western Africa\n",
      "Country: Europe, Population: Southern Europe\n",
      "Country: Europe, Population: Southern Europe\n",
      "Country: Europe, Population: Northern Europe\n",
      "Country: Africa, Population: Central Africa\n",
      "Country: Europe, Population: Southern Europe\n",
      "Country: Americas, Population: Caribbean\n",
      "Country: Asia, Population: Western Asia\n",
      "Country: Asia, Population: Southeastern Asia\n",
      "Country: Europe, Population: Northern Europe\n",
      "Country: Africa, Population: Eastern Africa\n",
      "Country: Asia, Population: Western Asia\n",
      "Country: Africa, Population: Southern Africa\n",
      "Country: Africa, Population: Eastern Africa\n",
      "Country: Africa, Population: Eastern Africa\n",
      "Country: Oceania, Population: Melanesia\n",
      "Country: Africa, Population: Eastern Africa\n",
      "Country: Americas, Population: Southern America\n",
      "Country: Asia, Population: Southern Asia\n",
      "Country: Oceania, Population: Melanesia\n",
      "Country: Asia, Population: Eastern Asia\n",
      "Country: Europe, Population: Western Europe\n",
      "Country: Europe, Population: Southern Europe\n",
      "Country: Americas, Population: Southern America\n",
      "Country: Africa, Population: Western Africa\n",
      "Country: Africa, Population: Northern Africa\n",
      "Country: Europe, Population: Southern Europe\n",
      "Country: Asia, Population: Southern Asia\n",
      "Country: Asia, Population: Southeastern Asia\n",
      "Country: Americas, Population: Caribbean\n",
      "Country: Americas, Population: Central America\n",
      "Country: Americas, Population: Caribbean\n",
      "Country: Europe, Population: Northern Europe\n",
      "Country: Americas, Population: Caribbean\n",
      "Country: Africa, Population: Eastern Africa\n",
      "Country: Oceania, Population: Melanesia\n",
      "Country: Americas, Population: Southern America\n",
      "Country: Oceania, Population: Polynesia\n",
      "Country: Oceania, Population: Melanesia\n",
      "Country: Americas, Population: Caribbean\n",
      "Country: Africa, Population: Central Africa\n",
      "Country: Oceania, Population: Polynesia\n",
      "Country: Americas, Population: Caribbean\n",
      "Country: Americas, Population: Caribbean\n",
      "Country: Oceania, Population: Micronesia\n",
      "Country: Oceania, Population: Micronesia\n",
      "Country: Americas, Population: Caribbean\n",
      "Country: Oceania, Population: Micronesia\n",
      "Country: Europe, Population: Northern Europe\n",
      "Country: Oceania, Population: Polynesia\n",
      "Country: Africa, Population: Eastern Africa\n",
      "Country: Americas, Population: Caribbean\n",
      "Country: Americas, Population: Caribbean\n",
      "Country: Americas, Population: Caribbean\n",
      "Country: Americas, Population: Caribbean\n",
      "Country: Europe, Population: Northern Europe\n",
      "Country: Europe, Population: Southern Europe\n",
      "Country: Americas, Population: Caribbean\n",
      "Country: Americas, Population: Caribbean\n",
      "Country: Americas, Population: Northern America\n",
      "Country: Europe, Population: Northern Europe\n",
      "Country: Americas, Population: Northern America\n",
      "Country: Europe, Population: Northern Europe\n",
      "Country: Oceania, Population: Micronesia\n",
      "Country: Americas, Population: Caribbean\n",
      "Country: Americas, Population: Caribbean\n",
      "Country: Americas, Population: Caribbean\n",
      "Country: Oceania, Population: Polynesia\n",
      "Country: Oceania, Population: Micronesia\n",
      "Country: Europe, Population: Western Europe\n",
      "Country: Europe, Population: Western Europe\n",
      "Country: Europe, Population: Southern Europe\n",
      "Country: Europe, Population: Southern Europe\n",
      "Country: Americas, Population: Caribbean\n",
      "Country: Americas, Population: Caribbean\n",
      "Country: Americas, Population: Caribbean\n",
      "Country: Oceania, Population: Micronesia\n",
      "Country: Oceania, Population: Polynesia\n",
      "Country: Americas, Population: Caribbean\n",
      "Country: Oceania, Population: Micronesia\n",
      "Country: Oceania, Population: Polynesia\n",
      "Country: Oceania, Population: Polynesia\n",
      "Country: Americas, Population: Caribbean\n",
      "Country: Americas, Population: Northern America\n",
      "Country: Africa, Population: Western Africa\n",
      "Country: Americas, Population: Caribbean\n",
      "Country: Americas, Population: Southern America\n",
      "Country: Oceania, Population: Polynesia\n",
      "Country: Oceania, Population: Polynesia\n"
     ]
    },
    {
     "ename": "IndexError",
     "evalue": "list index out of range",
     "output_type": "error",
     "traceback": [
      "\u001b[1;31m---------------------------------------------------------------------------\u001b[0m",
      "\u001b[1;31mIndexError\u001b[0m                                Traceback (most recent call last)",
      "\u001b[1;32m<ipython-input-17-8f993b976702>\u001b[0m in \u001b[0;36m<module>\u001b[1;34m\u001b[0m\n\u001b[0;32m     16\u001b[0m \u001b[1;32mfor\u001b[0m \u001b[0mrow\u001b[0m \u001b[1;32min\u001b[0m \u001b[0mrows\u001b[0m\u001b[1;33m[\u001b[0m\u001b[1;36m1\u001b[0m\u001b[1;33m:\u001b[0m\u001b[1;33m]\u001b[0m\u001b[1;33m:\u001b[0m  \u001b[1;31m# Skip the header row\u001b[0m\u001b[1;33m\u001b[0m\u001b[1;33m\u001b[0m\u001b[0m\n\u001b[0;32m     17\u001b[0m     \u001b[0mcolumns\u001b[0m \u001b[1;33m=\u001b[0m \u001b[0mrow\u001b[0m\u001b[1;33m.\u001b[0m\u001b[0mfind_all\u001b[0m\u001b[1;33m(\u001b[0m\u001b[1;34m'td'\u001b[0m\u001b[1;33m)\u001b[0m\u001b[1;33m\u001b[0m\u001b[1;33m\u001b[0m\u001b[0m\n\u001b[1;32m---> 18\u001b[1;33m     \u001b[0mcountry\u001b[0m \u001b[1;33m=\u001b[0m \u001b[0mcolumns\u001b[0m\u001b[1;33m[\u001b[0m\u001b[1;36m1\u001b[0m\u001b[1;33m]\u001b[0m\u001b[1;33m.\u001b[0m\u001b[0mtext\u001b[0m\u001b[1;33m.\u001b[0m\u001b[0mstrip\u001b[0m\u001b[1;33m(\u001b[0m\u001b[1;33m)\u001b[0m\u001b[1;33m\u001b[0m\u001b[1;33m\u001b[0m\u001b[0m\n\u001b[0m\u001b[0;32m     19\u001b[0m     \u001b[0mpopulation\u001b[0m \u001b[1;33m=\u001b[0m \u001b[0mcolumns\u001b[0m\u001b[1;33m[\u001b[0m\u001b[1;36m2\u001b[0m\u001b[1;33m]\u001b[0m\u001b[1;33m.\u001b[0m\u001b[0mtext\u001b[0m\u001b[1;33m.\u001b[0m\u001b[0mstrip\u001b[0m\u001b[1;33m(\u001b[0m\u001b[1;33m)\u001b[0m\u001b[1;33m\u001b[0m\u001b[1;33m\u001b[0m\u001b[0m\n\u001b[0;32m     20\u001b[0m     \u001b[0mprint\u001b[0m\u001b[1;33m(\u001b[0m\u001b[1;34mf\"Country: {country}, Population: {population}\"\u001b[0m\u001b[1;33m)\u001b[0m\u001b[1;33m\u001b[0m\u001b[1;33m\u001b[0m\u001b[0m\n",
      "\u001b[1;31mIndexError\u001b[0m: list index out of range"
     ]
    }
   ],
   "source": [
    "# Example 3: Scraping Data from a Table\n",
    "import requests\n",
    "from bs4 import BeautifulSoup\n",
    "\n",
    "# Send an HTTP GET request to a webpage with a table\n",
    "url = 'https://en.wikipedia.org/wiki/List_of_countries_by_population_(United_Nations)'\n",
    "response = requests.get(url)\n",
    "\n",
    "# Parse the HTML content with BeautifulSoup\n",
    "soup = BeautifulSoup(response.text, 'html.parser')\n",
    "\n",
    "# Find and print data from a specific table\n",
    "table = soup.find('table', class_='wikitable')\n",
    "rows = table.find_all('tr')\n",
    "\n",
    "for row in rows[1:]:  # Skip the header row\n",
    "    columns = row.find_all('td')\n",
    "    country = columns[1].text.strip()\n",
    "    population = columns[2].text.strip()\n",
    "    print(f\"Country: {country}, Population: {population}\")\n"
   ]
  },
  {
   "cell_type": "code",
   "execution_count": 20,
   "metadata": {},
   "outputs": [
    {
     "name": "stdout",
     "output_type": "stream",
     "text": [
      "Temperature not found on the page.\n"
     ]
    }
   ],
   "source": [
    "# Example 4: Scraping Weather Data\n",
    "import requests\n",
    "from bs4 import BeautifulSoup\n",
    "\n",
    "# Send an HTTP GET request to a weather website\n",
    "url = 'https://www.weather.com/weather/today/l/USCA0987:1:US'\n",
    "response = requests.get(url)\n",
    "\n",
    "# Parse the HTML content with BeautifulSoup\n",
    "soup = BeautifulSoup(response.text, 'html.parser')\n",
    "\n",
    "# Find and print the current temperature\n",
    "temperature = soup.find('span', class_='deg-feels')\n",
    "# Check if the element exists\n",
    "if temperature is not None:\n",
    "    # Access and print the temperature text\n",
    "    print(f\"Current Temperature: {temperature.text}\")\n",
    "else:\n",
    "    print(\"Temperature not found on the page.\")"
   ]
  },
  {
   "cell_type": "code",
   "execution_count": 19,
   "metadata": {
    "scrolled": true
   },
   "outputs": [
    {
     "ename": "ConnectionError",
     "evalue": "HTTPSConnectionPool(host='www.examplestore.com', port=443): Max retries exceeded with url: /products (Caused by NewConnectionError('<urllib3.connection.VerifiedHTTPSConnection object at 0x00000176DD8FD148>: Failed to establish a new connection: [WinError 10060] A connection attempt failed because the connected party did not properly respond after a period of time, or established connection failed because connected host has failed to respond'))",
     "output_type": "error",
     "traceback": [
      "\u001b[1;31m---------------------------------------------------------------------------\u001b[0m",
      "\u001b[1;31mTimeoutError\u001b[0m                              Traceback (most recent call last)",
      "\u001b[1;32mC:\\ProgramData\\Anaconda3\\lib\\site-packages\\urllib3\\connection.py\u001b[0m in \u001b[0;36m_new_conn\u001b[1;34m(self)\u001b[0m\n\u001b[0;32m    156\u001b[0m             conn = connection.create_connection(\n\u001b[1;32m--> 157\u001b[1;33m                 \u001b[1;33m(\u001b[0m\u001b[0mself\u001b[0m\u001b[1;33m.\u001b[0m\u001b[0m_dns_host\u001b[0m\u001b[1;33m,\u001b[0m \u001b[0mself\u001b[0m\u001b[1;33m.\u001b[0m\u001b[0mport\u001b[0m\u001b[1;33m)\u001b[0m\u001b[1;33m,\u001b[0m \u001b[0mself\u001b[0m\u001b[1;33m.\u001b[0m\u001b[0mtimeout\u001b[0m\u001b[1;33m,\u001b[0m \u001b[1;33m**\u001b[0m\u001b[0mextra_kw\u001b[0m\u001b[1;33m\u001b[0m\u001b[1;33m\u001b[0m\u001b[0m\n\u001b[0m\u001b[0;32m    158\u001b[0m             )\n",
      "\u001b[1;32mC:\\ProgramData\\Anaconda3\\lib\\site-packages\\urllib3\\util\\connection.py\u001b[0m in \u001b[0;36mcreate_connection\u001b[1;34m(address, timeout, source_address, socket_options)\u001b[0m\n\u001b[0;32m     83\u001b[0m     \u001b[1;32mif\u001b[0m \u001b[0merr\u001b[0m \u001b[1;32mis\u001b[0m \u001b[1;32mnot\u001b[0m \u001b[1;32mNone\u001b[0m\u001b[1;33m:\u001b[0m\u001b[1;33m\u001b[0m\u001b[1;33m\u001b[0m\u001b[0m\n\u001b[1;32m---> 84\u001b[1;33m         \u001b[1;32mraise\u001b[0m \u001b[0merr\u001b[0m\u001b[1;33m\u001b[0m\u001b[1;33m\u001b[0m\u001b[0m\n\u001b[0m\u001b[0;32m     85\u001b[0m \u001b[1;33m\u001b[0m\u001b[0m\n",
      "\u001b[1;32mC:\\ProgramData\\Anaconda3\\lib\\site-packages\\urllib3\\util\\connection.py\u001b[0m in \u001b[0;36mcreate_connection\u001b[1;34m(address, timeout, source_address, socket_options)\u001b[0m\n\u001b[0;32m     73\u001b[0m                 \u001b[0msock\u001b[0m\u001b[1;33m.\u001b[0m\u001b[0mbind\u001b[0m\u001b[1;33m(\u001b[0m\u001b[0msource_address\u001b[0m\u001b[1;33m)\u001b[0m\u001b[1;33m\u001b[0m\u001b[1;33m\u001b[0m\u001b[0m\n\u001b[1;32m---> 74\u001b[1;33m             \u001b[0msock\u001b[0m\u001b[1;33m.\u001b[0m\u001b[0mconnect\u001b[0m\u001b[1;33m(\u001b[0m\u001b[0msa\u001b[0m\u001b[1;33m)\u001b[0m\u001b[1;33m\u001b[0m\u001b[1;33m\u001b[0m\u001b[0m\n\u001b[0m\u001b[0;32m     75\u001b[0m             \u001b[1;32mreturn\u001b[0m \u001b[0msock\u001b[0m\u001b[1;33m\u001b[0m\u001b[1;33m\u001b[0m\u001b[0m\n",
      "\u001b[1;31mTimeoutError\u001b[0m: [WinError 10060] A connection attempt failed because the connected party did not properly respond after a period of time, or established connection failed because connected host has failed to respond",
      "\nDuring handling of the above exception, another exception occurred:\n",
      "\u001b[1;31mNewConnectionError\u001b[0m                        Traceback (most recent call last)",
      "\u001b[1;32mC:\\ProgramData\\Anaconda3\\lib\\site-packages\\urllib3\\connectionpool.py\u001b[0m in \u001b[0;36murlopen\u001b[1;34m(self, method, url, body, headers, retries, redirect, assert_same_host, timeout, pool_timeout, release_conn, chunked, body_pos, **response_kw)\u001b[0m\n\u001b[0;32m    671\u001b[0m                 \u001b[0mheaders\u001b[0m\u001b[1;33m=\u001b[0m\u001b[0mheaders\u001b[0m\u001b[1;33m,\u001b[0m\u001b[1;33m\u001b[0m\u001b[1;33m\u001b[0m\u001b[0m\n\u001b[1;32m--> 672\u001b[1;33m                 \u001b[0mchunked\u001b[0m\u001b[1;33m=\u001b[0m\u001b[0mchunked\u001b[0m\u001b[1;33m,\u001b[0m\u001b[1;33m\u001b[0m\u001b[1;33m\u001b[0m\u001b[0m\n\u001b[0m\u001b[0;32m    673\u001b[0m             )\n",
      "\u001b[1;32mC:\\ProgramData\\Anaconda3\\lib\\site-packages\\urllib3\\connectionpool.py\u001b[0m in \u001b[0;36m_make_request\u001b[1;34m(self, conn, method, url, timeout, chunked, **httplib_request_kw)\u001b[0m\n\u001b[0;32m    375\u001b[0m         \u001b[1;32mtry\u001b[0m\u001b[1;33m:\u001b[0m\u001b[1;33m\u001b[0m\u001b[1;33m\u001b[0m\u001b[0m\n\u001b[1;32m--> 376\u001b[1;33m             \u001b[0mself\u001b[0m\u001b[1;33m.\u001b[0m\u001b[0m_validate_conn\u001b[0m\u001b[1;33m(\u001b[0m\u001b[0mconn\u001b[0m\u001b[1;33m)\u001b[0m\u001b[1;33m\u001b[0m\u001b[1;33m\u001b[0m\u001b[0m\n\u001b[0m\u001b[0;32m    377\u001b[0m         \u001b[1;32mexcept\u001b[0m \u001b[1;33m(\u001b[0m\u001b[0mSocketTimeout\u001b[0m\u001b[1;33m,\u001b[0m \u001b[0mBaseSSLError\u001b[0m\u001b[1;33m)\u001b[0m \u001b[1;32mas\u001b[0m \u001b[0me\u001b[0m\u001b[1;33m:\u001b[0m\u001b[1;33m\u001b[0m\u001b[1;33m\u001b[0m\u001b[0m\n",
      "\u001b[1;32mC:\\ProgramData\\Anaconda3\\lib\\site-packages\\urllib3\\connectionpool.py\u001b[0m in \u001b[0;36m_validate_conn\u001b[1;34m(self, conn)\u001b[0m\n\u001b[0;32m    993\u001b[0m         \u001b[1;32mif\u001b[0m \u001b[1;32mnot\u001b[0m \u001b[0mgetattr\u001b[0m\u001b[1;33m(\u001b[0m\u001b[0mconn\u001b[0m\u001b[1;33m,\u001b[0m \u001b[1;34m\"sock\"\u001b[0m\u001b[1;33m,\u001b[0m \u001b[1;32mNone\u001b[0m\u001b[1;33m)\u001b[0m\u001b[1;33m:\u001b[0m  \u001b[1;31m# AppEngine might not have  `.sock`\u001b[0m\u001b[1;33m\u001b[0m\u001b[1;33m\u001b[0m\u001b[0m\n\u001b[1;32m--> 994\u001b[1;33m             \u001b[0mconn\u001b[0m\u001b[1;33m.\u001b[0m\u001b[0mconnect\u001b[0m\u001b[1;33m(\u001b[0m\u001b[1;33m)\u001b[0m\u001b[1;33m\u001b[0m\u001b[1;33m\u001b[0m\u001b[0m\n\u001b[0m\u001b[0;32m    995\u001b[0m \u001b[1;33m\u001b[0m\u001b[0m\n",
      "\u001b[1;32mC:\\ProgramData\\Anaconda3\\lib\\site-packages\\urllib3\\connection.py\u001b[0m in \u001b[0;36mconnect\u001b[1;34m(self)\u001b[0m\n\u001b[0;32m    299\u001b[0m         \u001b[1;31m# Add certificate verification\u001b[0m\u001b[1;33m\u001b[0m\u001b[1;33m\u001b[0m\u001b[1;33m\u001b[0m\u001b[0m\n\u001b[1;32m--> 300\u001b[1;33m         \u001b[0mconn\u001b[0m \u001b[1;33m=\u001b[0m \u001b[0mself\u001b[0m\u001b[1;33m.\u001b[0m\u001b[0m_new_conn\u001b[0m\u001b[1;33m(\u001b[0m\u001b[1;33m)\u001b[0m\u001b[1;33m\u001b[0m\u001b[1;33m\u001b[0m\u001b[0m\n\u001b[0m\u001b[0;32m    301\u001b[0m         \u001b[0mhostname\u001b[0m \u001b[1;33m=\u001b[0m \u001b[0mself\u001b[0m\u001b[1;33m.\u001b[0m\u001b[0mhost\u001b[0m\u001b[1;33m\u001b[0m\u001b[1;33m\u001b[0m\u001b[0m\n",
      "\u001b[1;32mC:\\ProgramData\\Anaconda3\\lib\\site-packages\\urllib3\\connection.py\u001b[0m in \u001b[0;36m_new_conn\u001b[1;34m(self)\u001b[0m\n\u001b[0;32m    168\u001b[0m             raise NewConnectionError(\n\u001b[1;32m--> 169\u001b[1;33m                 \u001b[0mself\u001b[0m\u001b[1;33m,\u001b[0m \u001b[1;34m\"Failed to establish a new connection: %s\"\u001b[0m \u001b[1;33m%\u001b[0m \u001b[0me\u001b[0m\u001b[1;33m\u001b[0m\u001b[1;33m\u001b[0m\u001b[0m\n\u001b[0m\u001b[0;32m    170\u001b[0m             )\n",
      "\u001b[1;31mNewConnectionError\u001b[0m: <urllib3.connection.VerifiedHTTPSConnection object at 0x00000176DD8FD148>: Failed to establish a new connection: [WinError 10060] A connection attempt failed because the connected party did not properly respond after a period of time, or established connection failed because connected host has failed to respond",
      "\nDuring handling of the above exception, another exception occurred:\n",
      "\u001b[1;31mMaxRetryError\u001b[0m                             Traceback (most recent call last)",
      "\u001b[1;32mC:\\ProgramData\\Anaconda3\\lib\\site-packages\\requests\\adapters.py\u001b[0m in \u001b[0;36msend\u001b[1;34m(self, request, stream, timeout, verify, cert, proxies)\u001b[0m\n\u001b[0;32m    448\u001b[0m                     \u001b[0mretries\u001b[0m\u001b[1;33m=\u001b[0m\u001b[0mself\u001b[0m\u001b[1;33m.\u001b[0m\u001b[0mmax_retries\u001b[0m\u001b[1;33m,\u001b[0m\u001b[1;33m\u001b[0m\u001b[1;33m\u001b[0m\u001b[0m\n\u001b[1;32m--> 449\u001b[1;33m                     \u001b[0mtimeout\u001b[0m\u001b[1;33m=\u001b[0m\u001b[0mtimeout\u001b[0m\u001b[1;33m\u001b[0m\u001b[1;33m\u001b[0m\u001b[0m\n\u001b[0m\u001b[0;32m    450\u001b[0m                 )\n",
      "\u001b[1;32mC:\\ProgramData\\Anaconda3\\lib\\site-packages\\urllib3\\connectionpool.py\u001b[0m in \u001b[0;36murlopen\u001b[1;34m(self, method, url, body, headers, retries, redirect, assert_same_host, timeout, pool_timeout, release_conn, chunked, body_pos, **response_kw)\u001b[0m\n\u001b[0;32m    719\u001b[0m             retries = retries.increment(\n\u001b[1;32m--> 720\u001b[1;33m                 \u001b[0mmethod\u001b[0m\u001b[1;33m,\u001b[0m \u001b[0murl\u001b[0m\u001b[1;33m,\u001b[0m \u001b[0merror\u001b[0m\u001b[1;33m=\u001b[0m\u001b[0me\u001b[0m\u001b[1;33m,\u001b[0m \u001b[0m_pool\u001b[0m\u001b[1;33m=\u001b[0m\u001b[0mself\u001b[0m\u001b[1;33m,\u001b[0m \u001b[0m_stacktrace\u001b[0m\u001b[1;33m=\u001b[0m\u001b[0msys\u001b[0m\u001b[1;33m.\u001b[0m\u001b[0mexc_info\u001b[0m\u001b[1;33m(\u001b[0m\u001b[1;33m)\u001b[0m\u001b[1;33m[\u001b[0m\u001b[1;36m2\u001b[0m\u001b[1;33m]\u001b[0m\u001b[1;33m\u001b[0m\u001b[1;33m\u001b[0m\u001b[0m\n\u001b[0m\u001b[0;32m    721\u001b[0m             )\n",
      "\u001b[1;32mC:\\ProgramData\\Anaconda3\\lib\\site-packages\\urllib3\\util\\retry.py\u001b[0m in \u001b[0;36mincrement\u001b[1;34m(self, method, url, response, error, _pool, _stacktrace)\u001b[0m\n\u001b[0;32m    435\u001b[0m         \u001b[1;32mif\u001b[0m \u001b[0mnew_retry\u001b[0m\u001b[1;33m.\u001b[0m\u001b[0mis_exhausted\u001b[0m\u001b[1;33m(\u001b[0m\u001b[1;33m)\u001b[0m\u001b[1;33m:\u001b[0m\u001b[1;33m\u001b[0m\u001b[1;33m\u001b[0m\u001b[0m\n\u001b[1;32m--> 436\u001b[1;33m             \u001b[1;32mraise\u001b[0m \u001b[0mMaxRetryError\u001b[0m\u001b[1;33m(\u001b[0m\u001b[0m_pool\u001b[0m\u001b[1;33m,\u001b[0m \u001b[0murl\u001b[0m\u001b[1;33m,\u001b[0m \u001b[0merror\u001b[0m \u001b[1;32mor\u001b[0m \u001b[0mResponseError\u001b[0m\u001b[1;33m(\u001b[0m\u001b[0mcause\u001b[0m\u001b[1;33m)\u001b[0m\u001b[1;33m)\u001b[0m\u001b[1;33m\u001b[0m\u001b[1;33m\u001b[0m\u001b[0m\n\u001b[0m\u001b[0;32m    437\u001b[0m \u001b[1;33m\u001b[0m\u001b[0m\n",
      "\u001b[1;31mMaxRetryError\u001b[0m: HTTPSConnectionPool(host='www.examplestore.com', port=443): Max retries exceeded with url: /products (Caused by NewConnectionError('<urllib3.connection.VerifiedHTTPSConnection object at 0x00000176DD8FD148>: Failed to establish a new connection: [WinError 10060] A connection attempt failed because the connected party did not properly respond after a period of time, or established connection failed because connected host has failed to respond'))",
      "\nDuring handling of the above exception, another exception occurred:\n",
      "\u001b[1;31mConnectionError\u001b[0m                           Traceback (most recent call last)",
      "\u001b[1;32m<ipython-input-19-25de541bbbf7>\u001b[0m in \u001b[0;36m<module>\u001b[1;34m\u001b[0m\n\u001b[0;32m      5\u001b[0m \u001b[1;31m# Send an HTTP GET request to an online store\u001b[0m\u001b[1;33m\u001b[0m\u001b[1;33m\u001b[0m\u001b[1;33m\u001b[0m\u001b[0m\n\u001b[0;32m      6\u001b[0m \u001b[0murl\u001b[0m \u001b[1;33m=\u001b[0m \u001b[1;34m'https://www.examplestore.com/products'\u001b[0m\u001b[1;33m\u001b[0m\u001b[1;33m\u001b[0m\u001b[0m\n\u001b[1;32m----> 7\u001b[1;33m \u001b[0mresponse\u001b[0m \u001b[1;33m=\u001b[0m \u001b[0mrequests\u001b[0m\u001b[1;33m.\u001b[0m\u001b[0mget\u001b[0m\u001b[1;33m(\u001b[0m\u001b[0murl\u001b[0m\u001b[1;33m)\u001b[0m\u001b[1;33m\u001b[0m\u001b[1;33m\u001b[0m\u001b[0m\n\u001b[0m\u001b[0;32m      8\u001b[0m \u001b[1;33m\u001b[0m\u001b[0m\n\u001b[0;32m      9\u001b[0m \u001b[1;31m# Parse the HTML content with BeautifulSoup\u001b[0m\u001b[1;33m\u001b[0m\u001b[1;33m\u001b[0m\u001b[1;33m\u001b[0m\u001b[0m\n",
      "\u001b[1;32mC:\\ProgramData\\Anaconda3\\lib\\site-packages\\requests\\api.py\u001b[0m in \u001b[0;36mget\u001b[1;34m(url, params, **kwargs)\u001b[0m\n\u001b[0;32m     73\u001b[0m \u001b[1;33m\u001b[0m\u001b[0m\n\u001b[0;32m     74\u001b[0m     \u001b[0mkwargs\u001b[0m\u001b[1;33m.\u001b[0m\u001b[0msetdefault\u001b[0m\u001b[1;33m(\u001b[0m\u001b[1;34m'allow_redirects'\u001b[0m\u001b[1;33m,\u001b[0m \u001b[1;32mTrue\u001b[0m\u001b[1;33m)\u001b[0m\u001b[1;33m\u001b[0m\u001b[1;33m\u001b[0m\u001b[0m\n\u001b[1;32m---> 75\u001b[1;33m     \u001b[1;32mreturn\u001b[0m \u001b[0mrequest\u001b[0m\u001b[1;33m(\u001b[0m\u001b[1;34m'get'\u001b[0m\u001b[1;33m,\u001b[0m \u001b[0murl\u001b[0m\u001b[1;33m,\u001b[0m \u001b[0mparams\u001b[0m\u001b[1;33m=\u001b[0m\u001b[0mparams\u001b[0m\u001b[1;33m,\u001b[0m \u001b[1;33m**\u001b[0m\u001b[0mkwargs\u001b[0m\u001b[1;33m)\u001b[0m\u001b[1;33m\u001b[0m\u001b[1;33m\u001b[0m\u001b[0m\n\u001b[0m\u001b[0;32m     76\u001b[0m \u001b[1;33m\u001b[0m\u001b[0m\n\u001b[0;32m     77\u001b[0m \u001b[1;33m\u001b[0m\u001b[0m\n",
      "\u001b[1;32mC:\\ProgramData\\Anaconda3\\lib\\site-packages\\requests\\api.py\u001b[0m in \u001b[0;36mrequest\u001b[1;34m(method, url, **kwargs)\u001b[0m\n\u001b[0;32m     58\u001b[0m     \u001b[1;31m# cases, and look like a memory leak in others.\u001b[0m\u001b[1;33m\u001b[0m\u001b[1;33m\u001b[0m\u001b[1;33m\u001b[0m\u001b[0m\n\u001b[0;32m     59\u001b[0m     \u001b[1;32mwith\u001b[0m \u001b[0msessions\u001b[0m\u001b[1;33m.\u001b[0m\u001b[0mSession\u001b[0m\u001b[1;33m(\u001b[0m\u001b[1;33m)\u001b[0m \u001b[1;32mas\u001b[0m \u001b[0msession\u001b[0m\u001b[1;33m:\u001b[0m\u001b[1;33m\u001b[0m\u001b[1;33m\u001b[0m\u001b[0m\n\u001b[1;32m---> 60\u001b[1;33m         \u001b[1;32mreturn\u001b[0m \u001b[0msession\u001b[0m\u001b[1;33m.\u001b[0m\u001b[0mrequest\u001b[0m\u001b[1;33m(\u001b[0m\u001b[0mmethod\u001b[0m\u001b[1;33m=\u001b[0m\u001b[0mmethod\u001b[0m\u001b[1;33m,\u001b[0m \u001b[0murl\u001b[0m\u001b[1;33m=\u001b[0m\u001b[0murl\u001b[0m\u001b[1;33m,\u001b[0m \u001b[1;33m**\u001b[0m\u001b[0mkwargs\u001b[0m\u001b[1;33m)\u001b[0m\u001b[1;33m\u001b[0m\u001b[1;33m\u001b[0m\u001b[0m\n\u001b[0m\u001b[0;32m     61\u001b[0m \u001b[1;33m\u001b[0m\u001b[0m\n\u001b[0;32m     62\u001b[0m \u001b[1;33m\u001b[0m\u001b[0m\n",
      "\u001b[1;32mC:\\ProgramData\\Anaconda3\\lib\\site-packages\\requests\\sessions.py\u001b[0m in \u001b[0;36mrequest\u001b[1;34m(self, method, url, params, data, headers, cookies, files, auth, timeout, allow_redirects, proxies, hooks, stream, verify, cert, json)\u001b[0m\n\u001b[0;32m    531\u001b[0m         }\n\u001b[0;32m    532\u001b[0m         \u001b[0msend_kwargs\u001b[0m\u001b[1;33m.\u001b[0m\u001b[0mupdate\u001b[0m\u001b[1;33m(\u001b[0m\u001b[0msettings\u001b[0m\u001b[1;33m)\u001b[0m\u001b[1;33m\u001b[0m\u001b[1;33m\u001b[0m\u001b[0m\n\u001b[1;32m--> 533\u001b[1;33m         \u001b[0mresp\u001b[0m \u001b[1;33m=\u001b[0m \u001b[0mself\u001b[0m\u001b[1;33m.\u001b[0m\u001b[0msend\u001b[0m\u001b[1;33m(\u001b[0m\u001b[0mprep\u001b[0m\u001b[1;33m,\u001b[0m \u001b[1;33m**\u001b[0m\u001b[0msend_kwargs\u001b[0m\u001b[1;33m)\u001b[0m\u001b[1;33m\u001b[0m\u001b[1;33m\u001b[0m\u001b[0m\n\u001b[0m\u001b[0;32m    534\u001b[0m \u001b[1;33m\u001b[0m\u001b[0m\n\u001b[0;32m    535\u001b[0m         \u001b[1;32mreturn\u001b[0m \u001b[0mresp\u001b[0m\u001b[1;33m\u001b[0m\u001b[1;33m\u001b[0m\u001b[0m\n",
      "\u001b[1;32mC:\\ProgramData\\Anaconda3\\lib\\site-packages\\requests\\sessions.py\u001b[0m in \u001b[0;36msend\u001b[1;34m(self, request, **kwargs)\u001b[0m\n\u001b[0;32m    644\u001b[0m \u001b[1;33m\u001b[0m\u001b[0m\n\u001b[0;32m    645\u001b[0m         \u001b[1;31m# Send the request\u001b[0m\u001b[1;33m\u001b[0m\u001b[1;33m\u001b[0m\u001b[1;33m\u001b[0m\u001b[0m\n\u001b[1;32m--> 646\u001b[1;33m         \u001b[0mr\u001b[0m \u001b[1;33m=\u001b[0m \u001b[0madapter\u001b[0m\u001b[1;33m.\u001b[0m\u001b[0msend\u001b[0m\u001b[1;33m(\u001b[0m\u001b[0mrequest\u001b[0m\u001b[1;33m,\u001b[0m \u001b[1;33m**\u001b[0m\u001b[0mkwargs\u001b[0m\u001b[1;33m)\u001b[0m\u001b[1;33m\u001b[0m\u001b[1;33m\u001b[0m\u001b[0m\n\u001b[0m\u001b[0;32m    647\u001b[0m \u001b[1;33m\u001b[0m\u001b[0m\n\u001b[0;32m    648\u001b[0m         \u001b[1;31m# Total elapsed time of the request (approximately)\u001b[0m\u001b[1;33m\u001b[0m\u001b[1;33m\u001b[0m\u001b[1;33m\u001b[0m\u001b[0m\n",
      "\u001b[1;32mC:\\ProgramData\\Anaconda3\\lib\\site-packages\\requests\\adapters.py\u001b[0m in \u001b[0;36msend\u001b[1;34m(self, request, stream, timeout, verify, cert, proxies)\u001b[0m\n\u001b[0;32m    514\u001b[0m                 \u001b[1;32mraise\u001b[0m \u001b[0mSSLError\u001b[0m\u001b[1;33m(\u001b[0m\u001b[0me\u001b[0m\u001b[1;33m,\u001b[0m \u001b[0mrequest\u001b[0m\u001b[1;33m=\u001b[0m\u001b[0mrequest\u001b[0m\u001b[1;33m)\u001b[0m\u001b[1;33m\u001b[0m\u001b[1;33m\u001b[0m\u001b[0m\n\u001b[0;32m    515\u001b[0m \u001b[1;33m\u001b[0m\u001b[0m\n\u001b[1;32m--> 516\u001b[1;33m             \u001b[1;32mraise\u001b[0m \u001b[0mConnectionError\u001b[0m\u001b[1;33m(\u001b[0m\u001b[0me\u001b[0m\u001b[1;33m,\u001b[0m \u001b[0mrequest\u001b[0m\u001b[1;33m=\u001b[0m\u001b[0mrequest\u001b[0m\u001b[1;33m)\u001b[0m\u001b[1;33m\u001b[0m\u001b[1;33m\u001b[0m\u001b[0m\n\u001b[0m\u001b[0;32m    517\u001b[0m \u001b[1;33m\u001b[0m\u001b[0m\n\u001b[0;32m    518\u001b[0m         \u001b[1;32mexcept\u001b[0m \u001b[0mClosedPoolError\u001b[0m \u001b[1;32mas\u001b[0m \u001b[0me\u001b[0m\u001b[1;33m:\u001b[0m\u001b[1;33m\u001b[0m\u001b[1;33m\u001b[0m\u001b[0m\n",
      "\u001b[1;31mConnectionError\u001b[0m: HTTPSConnectionPool(host='www.examplestore.com', port=443): Max retries exceeded with url: /products (Caused by NewConnectionError('<urllib3.connection.VerifiedHTTPSConnection object at 0x00000176DD8FD148>: Failed to establish a new connection: [WinError 10060] A connection attempt failed because the connected party did not properly respond after a period of time, or established connection failed because connected host has failed to respond'))"
     ]
    }
   ],
   "source": [
    "# Example 5: Scraping Product Prices from an Online Store\n",
    "import requests\n",
    "from bs4 import BeautifulSoup\n",
    "\n",
    "# Send an HTTP GET request to an online store\n",
    "url = 'https://www.examplestore.com/products'\n",
    "response = requests.get(url)\n",
    "\n",
    "# Parse the HTML content with BeautifulSoup\n",
    "soup = BeautifulSoup(response.text, 'html.parser')\n",
    "\n",
    "# Find and print product names and prices\n",
    "products = soup.find_all('div', class_='product')\n",
    "for product in products:\n",
    "    name = product.find('h2').text.strip()\n",
    "    price = product.find('span', class_='price').text.strip()\n",
    "    print(f\"Product: {name}, Price: {price}\")\n"
   ]
  },
  {
   "cell_type": "code",
   "execution_count": 21,
   "metadata": {},
   "outputs": [
    {
     "name": "stdout",
     "output_type": "stream",
     "text": [
      "An error occurred: HTTPSConnectionPool(host='www.examplestore.com', port=443): Max retries exceeded with url: /products (Caused by NewConnectionError('<urllib3.connection.VerifiedHTTPSConnection object at 0x00000176DD7EA048>: Failed to establish a new connection: [WinError 10060] A connection attempt failed because the connected party did not properly respond after a period of time, or established connection failed because connected host has failed to respond'))\n"
     ]
    }
   ],
   "source": [
    "import requests\n",
    "from bs4 import BeautifulSoup\n",
    "\n",
    "try:\n",
    "    # Send an HTTP GET request to a website\n",
    "    url = 'https://www.examplestore.com/products'\n",
    "    response = requests.get(url)\n",
    "\n",
    "    # Check the response status code\n",
    "    if response.status_code == 200:\n",
    "        # Parse the HTML content with BeautifulSoup\n",
    "        soup = BeautifulSoup(response.text, 'html.parser')\n",
    "\n",
    "        # Find and print product names and prices\n",
    "        products = soup.find_all('div', class_='product')\n",
    "        for product in products:\n",
    "            name = product.find('h2').text.strip()\n",
    "            price = product.find('span', class_='price').text.strip()\n",
    "            print(f\"Product: {name}, Price: {price}\")\n",
    "    else:\n",
    "        print(f\"HTTP Error: {response.status_code}\")\n",
    "except requests.exceptions.RequestException as e:\n",
    "    print(f\"An error occurred: {e}\")\n"
   ]
  },
  {
   "cell_type": "code",
   "execution_count": null,
   "metadata": {},
   "outputs": [],
   "source": [
    "# Example 6: Scraping Quotes with Pagination\n",
    "import requests\n",
    "from bs4 import BeautifulSoup\n",
    "\n",
    "# Define the base URL and send an initial request\n",
    "base_url = 'https://quotes.toscrape.com/page/'\n",
    "page_number = 1\n",
    "\n",
    "while True:\n",
    "    url = f'{base_url}{page_number}/'\n",
    "    response = requests.get(url)\n",
    "    if response.status_code != 200:\n",
    "        break  # No more pages to scrape\n",
    "\n",
    "    # Parse the HTML content with BeautifulSoup\n",
    "    soup = BeautifulSoup(response.text, 'html.parser')\n",
    "\n",
    "    # Find and print quotes and authors\n",
    "    quotes = soup.find_all('span', class_='text')\n",
    "    authors = soup.find_all('small', class_='author')\n",
    "\n",
    "    for i in range(len(quotes)):\n",
    "        print(f\"Quote: {quotes[i].text}\")\n",
    "        print(f\"Author: {authors[i].text}\")\n",
    "        print()\n",
    "\n",
    "    page_number += 1\n"
   ]
  },
  {
   "cell_type": "markdown",
   "metadata": {},
   "source": [
    "### Web Request\n"
   ]
  },
  {
   "cell_type": "code",
   "execution_count": 22,
   "metadata": {},
   "outputs": [
    {
     "data": {
      "text/plain": [
       "'\\n import requests \\n GET request: response = requests.get(url) \\n POST request: response = requests.post(url, data=payload) \\n┣    Response content: response.content \\n┣    JSON response: response.json() \\n┗    Response status code: response.status_code \\n'"
      ]
     },
     "execution_count": 22,
     "metadata": {},
     "output_type": "execute_result"
    }
   ],
   "source": [
    "\"\"\"\n",
    " import requests \n",
    " GET request: response = requests.get(url) \n",
    " POST request: response = requests.post(url, data=payload) \n",
    "┣    Response content: response.content \n",
    "┣    JSON response: response.json() \n",
    "┗    Response status code: response.status_code \n",
    "\"\"\""
   ]
  },
  {
   "cell_type": "code",
   "execution_count": 25,
   "metadata": {},
   "outputs": [
    {
     "ename": "ConnectionError",
     "evalue": "HTTPSConnectionPool(host='api.example.com', port=443): Max retries exceeded with url: /data (Caused by NewConnectionError('<urllib3.connection.VerifiedHTTPSConnection object at 0x00000176DD906308>: Failed to establish a new connection: [Errno 11001] getaddrinfo failed'))",
     "output_type": "error",
     "traceback": [
      "\u001b[1;31m---------------------------------------------------------------------------\u001b[0m",
      "\u001b[1;31mgaierror\u001b[0m                                  Traceback (most recent call last)",
      "\u001b[1;32mC:\\ProgramData\\Anaconda3\\lib\\site-packages\\urllib3\\connection.py\u001b[0m in \u001b[0;36m_new_conn\u001b[1;34m(self)\u001b[0m\n\u001b[0;32m    156\u001b[0m             conn = connection.create_connection(\n\u001b[1;32m--> 157\u001b[1;33m                 \u001b[1;33m(\u001b[0m\u001b[0mself\u001b[0m\u001b[1;33m.\u001b[0m\u001b[0m_dns_host\u001b[0m\u001b[1;33m,\u001b[0m \u001b[0mself\u001b[0m\u001b[1;33m.\u001b[0m\u001b[0mport\u001b[0m\u001b[1;33m)\u001b[0m\u001b[1;33m,\u001b[0m \u001b[0mself\u001b[0m\u001b[1;33m.\u001b[0m\u001b[0mtimeout\u001b[0m\u001b[1;33m,\u001b[0m \u001b[1;33m**\u001b[0m\u001b[0mextra_kw\u001b[0m\u001b[1;33m\u001b[0m\u001b[1;33m\u001b[0m\u001b[0m\n\u001b[0m\u001b[0;32m    158\u001b[0m             )\n",
      "\u001b[1;32mC:\\ProgramData\\Anaconda3\\lib\\site-packages\\urllib3\\util\\connection.py\u001b[0m in \u001b[0;36mcreate_connection\u001b[1;34m(address, timeout, source_address, socket_options)\u001b[0m\n\u001b[0;32m     60\u001b[0m \u001b[1;33m\u001b[0m\u001b[0m\n\u001b[1;32m---> 61\u001b[1;33m     \u001b[1;32mfor\u001b[0m \u001b[0mres\u001b[0m \u001b[1;32min\u001b[0m \u001b[0msocket\u001b[0m\u001b[1;33m.\u001b[0m\u001b[0mgetaddrinfo\u001b[0m\u001b[1;33m(\u001b[0m\u001b[0mhost\u001b[0m\u001b[1;33m,\u001b[0m \u001b[0mport\u001b[0m\u001b[1;33m,\u001b[0m \u001b[0mfamily\u001b[0m\u001b[1;33m,\u001b[0m \u001b[0msocket\u001b[0m\u001b[1;33m.\u001b[0m\u001b[0mSOCK_STREAM\u001b[0m\u001b[1;33m)\u001b[0m\u001b[1;33m:\u001b[0m\u001b[1;33m\u001b[0m\u001b[1;33m\u001b[0m\u001b[0m\n\u001b[0m\u001b[0;32m     62\u001b[0m         \u001b[0maf\u001b[0m\u001b[1;33m,\u001b[0m \u001b[0msocktype\u001b[0m\u001b[1;33m,\u001b[0m \u001b[0mproto\u001b[0m\u001b[1;33m,\u001b[0m \u001b[0mcanonname\u001b[0m\u001b[1;33m,\u001b[0m \u001b[0msa\u001b[0m \u001b[1;33m=\u001b[0m \u001b[0mres\u001b[0m\u001b[1;33m\u001b[0m\u001b[1;33m\u001b[0m\u001b[0m\n",
      "\u001b[1;32mC:\\ProgramData\\Anaconda3\\lib\\socket.py\u001b[0m in \u001b[0;36mgetaddrinfo\u001b[1;34m(host, port, family, type, proto, flags)\u001b[0m\n\u001b[0;32m    751\u001b[0m     \u001b[0maddrlist\u001b[0m \u001b[1;33m=\u001b[0m \u001b[1;33m[\u001b[0m\u001b[1;33m]\u001b[0m\u001b[1;33m\u001b[0m\u001b[1;33m\u001b[0m\u001b[0m\n\u001b[1;32m--> 752\u001b[1;33m     \u001b[1;32mfor\u001b[0m \u001b[0mres\u001b[0m \u001b[1;32min\u001b[0m \u001b[0m_socket\u001b[0m\u001b[1;33m.\u001b[0m\u001b[0mgetaddrinfo\u001b[0m\u001b[1;33m(\u001b[0m\u001b[0mhost\u001b[0m\u001b[1;33m,\u001b[0m \u001b[0mport\u001b[0m\u001b[1;33m,\u001b[0m \u001b[0mfamily\u001b[0m\u001b[1;33m,\u001b[0m \u001b[0mtype\u001b[0m\u001b[1;33m,\u001b[0m \u001b[0mproto\u001b[0m\u001b[1;33m,\u001b[0m \u001b[0mflags\u001b[0m\u001b[1;33m)\u001b[0m\u001b[1;33m:\u001b[0m\u001b[1;33m\u001b[0m\u001b[1;33m\u001b[0m\u001b[0m\n\u001b[0m\u001b[0;32m    753\u001b[0m         \u001b[0maf\u001b[0m\u001b[1;33m,\u001b[0m \u001b[0msocktype\u001b[0m\u001b[1;33m,\u001b[0m \u001b[0mproto\u001b[0m\u001b[1;33m,\u001b[0m \u001b[0mcanonname\u001b[0m\u001b[1;33m,\u001b[0m \u001b[0msa\u001b[0m \u001b[1;33m=\u001b[0m \u001b[0mres\u001b[0m\u001b[1;33m\u001b[0m\u001b[1;33m\u001b[0m\u001b[0m\n",
      "\u001b[1;31mgaierror\u001b[0m: [Errno 11001] getaddrinfo failed",
      "\nDuring handling of the above exception, another exception occurred:\n",
      "\u001b[1;31mNewConnectionError\u001b[0m                        Traceback (most recent call last)",
      "\u001b[1;32mC:\\ProgramData\\Anaconda3\\lib\\site-packages\\urllib3\\connectionpool.py\u001b[0m in \u001b[0;36murlopen\u001b[1;34m(self, method, url, body, headers, retries, redirect, assert_same_host, timeout, pool_timeout, release_conn, chunked, body_pos, **response_kw)\u001b[0m\n\u001b[0;32m    671\u001b[0m                 \u001b[0mheaders\u001b[0m\u001b[1;33m=\u001b[0m\u001b[0mheaders\u001b[0m\u001b[1;33m,\u001b[0m\u001b[1;33m\u001b[0m\u001b[1;33m\u001b[0m\u001b[0m\n\u001b[1;32m--> 672\u001b[1;33m                 \u001b[0mchunked\u001b[0m\u001b[1;33m=\u001b[0m\u001b[0mchunked\u001b[0m\u001b[1;33m,\u001b[0m\u001b[1;33m\u001b[0m\u001b[1;33m\u001b[0m\u001b[0m\n\u001b[0m\u001b[0;32m    673\u001b[0m             )\n",
      "\u001b[1;32mC:\\ProgramData\\Anaconda3\\lib\\site-packages\\urllib3\\connectionpool.py\u001b[0m in \u001b[0;36m_make_request\u001b[1;34m(self, conn, method, url, timeout, chunked, **httplib_request_kw)\u001b[0m\n\u001b[0;32m    375\u001b[0m         \u001b[1;32mtry\u001b[0m\u001b[1;33m:\u001b[0m\u001b[1;33m\u001b[0m\u001b[1;33m\u001b[0m\u001b[0m\n\u001b[1;32m--> 376\u001b[1;33m             \u001b[0mself\u001b[0m\u001b[1;33m.\u001b[0m\u001b[0m_validate_conn\u001b[0m\u001b[1;33m(\u001b[0m\u001b[0mconn\u001b[0m\u001b[1;33m)\u001b[0m\u001b[1;33m\u001b[0m\u001b[1;33m\u001b[0m\u001b[0m\n\u001b[0m\u001b[0;32m    377\u001b[0m         \u001b[1;32mexcept\u001b[0m \u001b[1;33m(\u001b[0m\u001b[0mSocketTimeout\u001b[0m\u001b[1;33m,\u001b[0m \u001b[0mBaseSSLError\u001b[0m\u001b[1;33m)\u001b[0m \u001b[1;32mas\u001b[0m \u001b[0me\u001b[0m\u001b[1;33m:\u001b[0m\u001b[1;33m\u001b[0m\u001b[1;33m\u001b[0m\u001b[0m\n",
      "\u001b[1;32mC:\\ProgramData\\Anaconda3\\lib\\site-packages\\urllib3\\connectionpool.py\u001b[0m in \u001b[0;36m_validate_conn\u001b[1;34m(self, conn)\u001b[0m\n\u001b[0;32m    993\u001b[0m         \u001b[1;32mif\u001b[0m \u001b[1;32mnot\u001b[0m \u001b[0mgetattr\u001b[0m\u001b[1;33m(\u001b[0m\u001b[0mconn\u001b[0m\u001b[1;33m,\u001b[0m \u001b[1;34m\"sock\"\u001b[0m\u001b[1;33m,\u001b[0m \u001b[1;32mNone\u001b[0m\u001b[1;33m)\u001b[0m\u001b[1;33m:\u001b[0m  \u001b[1;31m# AppEngine might not have  `.sock`\u001b[0m\u001b[1;33m\u001b[0m\u001b[1;33m\u001b[0m\u001b[0m\n\u001b[1;32m--> 994\u001b[1;33m             \u001b[0mconn\u001b[0m\u001b[1;33m.\u001b[0m\u001b[0mconnect\u001b[0m\u001b[1;33m(\u001b[0m\u001b[1;33m)\u001b[0m\u001b[1;33m\u001b[0m\u001b[1;33m\u001b[0m\u001b[0m\n\u001b[0m\u001b[0;32m    995\u001b[0m \u001b[1;33m\u001b[0m\u001b[0m\n",
      "\u001b[1;32mC:\\ProgramData\\Anaconda3\\lib\\site-packages\\urllib3\\connection.py\u001b[0m in \u001b[0;36mconnect\u001b[1;34m(self)\u001b[0m\n\u001b[0;32m    299\u001b[0m         \u001b[1;31m# Add certificate verification\u001b[0m\u001b[1;33m\u001b[0m\u001b[1;33m\u001b[0m\u001b[1;33m\u001b[0m\u001b[0m\n\u001b[1;32m--> 300\u001b[1;33m         \u001b[0mconn\u001b[0m \u001b[1;33m=\u001b[0m \u001b[0mself\u001b[0m\u001b[1;33m.\u001b[0m\u001b[0m_new_conn\u001b[0m\u001b[1;33m(\u001b[0m\u001b[1;33m)\u001b[0m\u001b[1;33m\u001b[0m\u001b[1;33m\u001b[0m\u001b[0m\n\u001b[0m\u001b[0;32m    301\u001b[0m         \u001b[0mhostname\u001b[0m \u001b[1;33m=\u001b[0m \u001b[0mself\u001b[0m\u001b[1;33m.\u001b[0m\u001b[0mhost\u001b[0m\u001b[1;33m\u001b[0m\u001b[1;33m\u001b[0m\u001b[0m\n",
      "\u001b[1;32mC:\\ProgramData\\Anaconda3\\lib\\site-packages\\urllib3\\connection.py\u001b[0m in \u001b[0;36m_new_conn\u001b[1;34m(self)\u001b[0m\n\u001b[0;32m    168\u001b[0m             raise NewConnectionError(\n\u001b[1;32m--> 169\u001b[1;33m                 \u001b[0mself\u001b[0m\u001b[1;33m,\u001b[0m \u001b[1;34m\"Failed to establish a new connection: %s\"\u001b[0m \u001b[1;33m%\u001b[0m \u001b[0me\u001b[0m\u001b[1;33m\u001b[0m\u001b[1;33m\u001b[0m\u001b[0m\n\u001b[0m\u001b[0;32m    170\u001b[0m             )\n",
      "\u001b[1;31mNewConnectionError\u001b[0m: <urllib3.connection.VerifiedHTTPSConnection object at 0x00000176DD906308>: Failed to establish a new connection: [Errno 11001] getaddrinfo failed",
      "\nDuring handling of the above exception, another exception occurred:\n",
      "\u001b[1;31mMaxRetryError\u001b[0m                             Traceback (most recent call last)",
      "\u001b[1;32mC:\\ProgramData\\Anaconda3\\lib\\site-packages\\requests\\adapters.py\u001b[0m in \u001b[0;36msend\u001b[1;34m(self, request, stream, timeout, verify, cert, proxies)\u001b[0m\n\u001b[0;32m    448\u001b[0m                     \u001b[0mretries\u001b[0m\u001b[1;33m=\u001b[0m\u001b[0mself\u001b[0m\u001b[1;33m.\u001b[0m\u001b[0mmax_retries\u001b[0m\u001b[1;33m,\u001b[0m\u001b[1;33m\u001b[0m\u001b[1;33m\u001b[0m\u001b[0m\n\u001b[1;32m--> 449\u001b[1;33m                     \u001b[0mtimeout\u001b[0m\u001b[1;33m=\u001b[0m\u001b[0mtimeout\u001b[0m\u001b[1;33m\u001b[0m\u001b[1;33m\u001b[0m\u001b[0m\n\u001b[0m\u001b[0;32m    450\u001b[0m                 )\n",
      "\u001b[1;32mC:\\ProgramData\\Anaconda3\\lib\\site-packages\\urllib3\\connectionpool.py\u001b[0m in \u001b[0;36murlopen\u001b[1;34m(self, method, url, body, headers, retries, redirect, assert_same_host, timeout, pool_timeout, release_conn, chunked, body_pos, **response_kw)\u001b[0m\n\u001b[0;32m    719\u001b[0m             retries = retries.increment(\n\u001b[1;32m--> 720\u001b[1;33m                 \u001b[0mmethod\u001b[0m\u001b[1;33m,\u001b[0m \u001b[0murl\u001b[0m\u001b[1;33m,\u001b[0m \u001b[0merror\u001b[0m\u001b[1;33m=\u001b[0m\u001b[0me\u001b[0m\u001b[1;33m,\u001b[0m \u001b[0m_pool\u001b[0m\u001b[1;33m=\u001b[0m\u001b[0mself\u001b[0m\u001b[1;33m,\u001b[0m \u001b[0m_stacktrace\u001b[0m\u001b[1;33m=\u001b[0m\u001b[0msys\u001b[0m\u001b[1;33m.\u001b[0m\u001b[0mexc_info\u001b[0m\u001b[1;33m(\u001b[0m\u001b[1;33m)\u001b[0m\u001b[1;33m[\u001b[0m\u001b[1;36m2\u001b[0m\u001b[1;33m]\u001b[0m\u001b[1;33m\u001b[0m\u001b[1;33m\u001b[0m\u001b[0m\n\u001b[0m\u001b[0;32m    721\u001b[0m             )\n",
      "\u001b[1;32mC:\\ProgramData\\Anaconda3\\lib\\site-packages\\urllib3\\util\\retry.py\u001b[0m in \u001b[0;36mincrement\u001b[1;34m(self, method, url, response, error, _pool, _stacktrace)\u001b[0m\n\u001b[0;32m    435\u001b[0m         \u001b[1;32mif\u001b[0m \u001b[0mnew_retry\u001b[0m\u001b[1;33m.\u001b[0m\u001b[0mis_exhausted\u001b[0m\u001b[1;33m(\u001b[0m\u001b[1;33m)\u001b[0m\u001b[1;33m:\u001b[0m\u001b[1;33m\u001b[0m\u001b[1;33m\u001b[0m\u001b[0m\n\u001b[1;32m--> 436\u001b[1;33m             \u001b[1;32mraise\u001b[0m \u001b[0mMaxRetryError\u001b[0m\u001b[1;33m(\u001b[0m\u001b[0m_pool\u001b[0m\u001b[1;33m,\u001b[0m \u001b[0murl\u001b[0m\u001b[1;33m,\u001b[0m \u001b[0merror\u001b[0m \u001b[1;32mor\u001b[0m \u001b[0mResponseError\u001b[0m\u001b[1;33m(\u001b[0m\u001b[0mcause\u001b[0m\u001b[1;33m)\u001b[0m\u001b[1;33m)\u001b[0m\u001b[1;33m\u001b[0m\u001b[1;33m\u001b[0m\u001b[0m\n\u001b[0m\u001b[0;32m    437\u001b[0m \u001b[1;33m\u001b[0m\u001b[0m\n",
      "\u001b[1;31mMaxRetryError\u001b[0m: HTTPSConnectionPool(host='api.example.com', port=443): Max retries exceeded with url: /data (Caused by NewConnectionError('<urllib3.connection.VerifiedHTTPSConnection object at 0x00000176DD906308>: Failed to establish a new connection: [Errno 11001] getaddrinfo failed'))",
      "\nDuring handling of the above exception, another exception occurred:\n",
      "\u001b[1;31mConnectionError\u001b[0m                           Traceback (most recent call last)",
      "\u001b[1;32m<ipython-input-25-0afbcb183146>\u001b[0m in \u001b[0;36m<module>\u001b[1;34m\u001b[0m\n\u001b[0;32m      2\u001b[0m \u001b[1;32mimport\u001b[0m \u001b[0mrequests\u001b[0m\u001b[1;33m\u001b[0m\u001b[1;33m\u001b[0m\u001b[0m\n\u001b[0;32m      3\u001b[0m \u001b[0murl\u001b[0m\u001b[1;33m=\u001b[0m\u001b[1;34m'https://api.example.com/data'\u001b[0m\u001b[1;33m\u001b[0m\u001b[1;33m\u001b[0m\u001b[0m\n\u001b[1;32m----> 4\u001b[1;33m \u001b[0mresponse\u001b[0m\u001b[1;33m=\u001b[0m\u001b[0mrequests\u001b[0m\u001b[1;33m.\u001b[0m\u001b[0mget\u001b[0m\u001b[1;33m(\u001b[0m\u001b[0murl\u001b[0m\u001b[1;33m)\u001b[0m\u001b[1;33m\u001b[0m\u001b[1;33m\u001b[0m\u001b[0m\n\u001b[0m\u001b[0;32m      5\u001b[0m \u001b[1;33m\u001b[0m\u001b[0m\n\u001b[0;32m      6\u001b[0m \u001b[1;31m#check the response status code\u001b[0m\u001b[1;33m\u001b[0m\u001b[1;33m\u001b[0m\u001b[1;33m\u001b[0m\u001b[0m\n",
      "\u001b[1;32mC:\\ProgramData\\Anaconda3\\lib\\site-packages\\requests\\api.py\u001b[0m in \u001b[0;36mget\u001b[1;34m(url, params, **kwargs)\u001b[0m\n\u001b[0;32m     73\u001b[0m \u001b[1;33m\u001b[0m\u001b[0m\n\u001b[0;32m     74\u001b[0m     \u001b[0mkwargs\u001b[0m\u001b[1;33m.\u001b[0m\u001b[0msetdefault\u001b[0m\u001b[1;33m(\u001b[0m\u001b[1;34m'allow_redirects'\u001b[0m\u001b[1;33m,\u001b[0m \u001b[1;32mTrue\u001b[0m\u001b[1;33m)\u001b[0m\u001b[1;33m\u001b[0m\u001b[1;33m\u001b[0m\u001b[0m\n\u001b[1;32m---> 75\u001b[1;33m     \u001b[1;32mreturn\u001b[0m \u001b[0mrequest\u001b[0m\u001b[1;33m(\u001b[0m\u001b[1;34m'get'\u001b[0m\u001b[1;33m,\u001b[0m \u001b[0murl\u001b[0m\u001b[1;33m,\u001b[0m \u001b[0mparams\u001b[0m\u001b[1;33m=\u001b[0m\u001b[0mparams\u001b[0m\u001b[1;33m,\u001b[0m \u001b[1;33m**\u001b[0m\u001b[0mkwargs\u001b[0m\u001b[1;33m)\u001b[0m\u001b[1;33m\u001b[0m\u001b[1;33m\u001b[0m\u001b[0m\n\u001b[0m\u001b[0;32m     76\u001b[0m \u001b[1;33m\u001b[0m\u001b[0m\n\u001b[0;32m     77\u001b[0m \u001b[1;33m\u001b[0m\u001b[0m\n",
      "\u001b[1;32mC:\\ProgramData\\Anaconda3\\lib\\site-packages\\requests\\api.py\u001b[0m in \u001b[0;36mrequest\u001b[1;34m(method, url, **kwargs)\u001b[0m\n\u001b[0;32m     58\u001b[0m     \u001b[1;31m# cases, and look like a memory leak in others.\u001b[0m\u001b[1;33m\u001b[0m\u001b[1;33m\u001b[0m\u001b[1;33m\u001b[0m\u001b[0m\n\u001b[0;32m     59\u001b[0m     \u001b[1;32mwith\u001b[0m \u001b[0msessions\u001b[0m\u001b[1;33m.\u001b[0m\u001b[0mSession\u001b[0m\u001b[1;33m(\u001b[0m\u001b[1;33m)\u001b[0m \u001b[1;32mas\u001b[0m \u001b[0msession\u001b[0m\u001b[1;33m:\u001b[0m\u001b[1;33m\u001b[0m\u001b[1;33m\u001b[0m\u001b[0m\n\u001b[1;32m---> 60\u001b[1;33m         \u001b[1;32mreturn\u001b[0m \u001b[0msession\u001b[0m\u001b[1;33m.\u001b[0m\u001b[0mrequest\u001b[0m\u001b[1;33m(\u001b[0m\u001b[0mmethod\u001b[0m\u001b[1;33m=\u001b[0m\u001b[0mmethod\u001b[0m\u001b[1;33m,\u001b[0m \u001b[0murl\u001b[0m\u001b[1;33m=\u001b[0m\u001b[0murl\u001b[0m\u001b[1;33m,\u001b[0m \u001b[1;33m**\u001b[0m\u001b[0mkwargs\u001b[0m\u001b[1;33m)\u001b[0m\u001b[1;33m\u001b[0m\u001b[1;33m\u001b[0m\u001b[0m\n\u001b[0m\u001b[0;32m     61\u001b[0m \u001b[1;33m\u001b[0m\u001b[0m\n\u001b[0;32m     62\u001b[0m \u001b[1;33m\u001b[0m\u001b[0m\n",
      "\u001b[1;32mC:\\ProgramData\\Anaconda3\\lib\\site-packages\\requests\\sessions.py\u001b[0m in \u001b[0;36mrequest\u001b[1;34m(self, method, url, params, data, headers, cookies, files, auth, timeout, allow_redirects, proxies, hooks, stream, verify, cert, json)\u001b[0m\n\u001b[0;32m    531\u001b[0m         }\n\u001b[0;32m    532\u001b[0m         \u001b[0msend_kwargs\u001b[0m\u001b[1;33m.\u001b[0m\u001b[0mupdate\u001b[0m\u001b[1;33m(\u001b[0m\u001b[0msettings\u001b[0m\u001b[1;33m)\u001b[0m\u001b[1;33m\u001b[0m\u001b[1;33m\u001b[0m\u001b[0m\n\u001b[1;32m--> 533\u001b[1;33m         \u001b[0mresp\u001b[0m \u001b[1;33m=\u001b[0m \u001b[0mself\u001b[0m\u001b[1;33m.\u001b[0m\u001b[0msend\u001b[0m\u001b[1;33m(\u001b[0m\u001b[0mprep\u001b[0m\u001b[1;33m,\u001b[0m \u001b[1;33m**\u001b[0m\u001b[0msend_kwargs\u001b[0m\u001b[1;33m)\u001b[0m\u001b[1;33m\u001b[0m\u001b[1;33m\u001b[0m\u001b[0m\n\u001b[0m\u001b[0;32m    534\u001b[0m \u001b[1;33m\u001b[0m\u001b[0m\n\u001b[0;32m    535\u001b[0m         \u001b[1;32mreturn\u001b[0m \u001b[0mresp\u001b[0m\u001b[1;33m\u001b[0m\u001b[1;33m\u001b[0m\u001b[0m\n",
      "\u001b[1;32mC:\\ProgramData\\Anaconda3\\lib\\site-packages\\requests\\sessions.py\u001b[0m in \u001b[0;36msend\u001b[1;34m(self, request, **kwargs)\u001b[0m\n\u001b[0;32m    644\u001b[0m \u001b[1;33m\u001b[0m\u001b[0m\n\u001b[0;32m    645\u001b[0m         \u001b[1;31m# Send the request\u001b[0m\u001b[1;33m\u001b[0m\u001b[1;33m\u001b[0m\u001b[1;33m\u001b[0m\u001b[0m\n\u001b[1;32m--> 646\u001b[1;33m         \u001b[0mr\u001b[0m \u001b[1;33m=\u001b[0m \u001b[0madapter\u001b[0m\u001b[1;33m.\u001b[0m\u001b[0msend\u001b[0m\u001b[1;33m(\u001b[0m\u001b[0mrequest\u001b[0m\u001b[1;33m,\u001b[0m \u001b[1;33m**\u001b[0m\u001b[0mkwargs\u001b[0m\u001b[1;33m)\u001b[0m\u001b[1;33m\u001b[0m\u001b[1;33m\u001b[0m\u001b[0m\n\u001b[0m\u001b[0;32m    647\u001b[0m \u001b[1;33m\u001b[0m\u001b[0m\n\u001b[0;32m    648\u001b[0m         \u001b[1;31m# Total elapsed time of the request (approximately)\u001b[0m\u001b[1;33m\u001b[0m\u001b[1;33m\u001b[0m\u001b[1;33m\u001b[0m\u001b[0m\n",
      "\u001b[1;32mC:\\ProgramData\\Anaconda3\\lib\\site-packages\\requests\\adapters.py\u001b[0m in \u001b[0;36msend\u001b[1;34m(self, request, stream, timeout, verify, cert, proxies)\u001b[0m\n\u001b[0;32m    514\u001b[0m                 \u001b[1;32mraise\u001b[0m \u001b[0mSSLError\u001b[0m\u001b[1;33m(\u001b[0m\u001b[0me\u001b[0m\u001b[1;33m,\u001b[0m \u001b[0mrequest\u001b[0m\u001b[1;33m=\u001b[0m\u001b[0mrequest\u001b[0m\u001b[1;33m)\u001b[0m\u001b[1;33m\u001b[0m\u001b[1;33m\u001b[0m\u001b[0m\n\u001b[0;32m    515\u001b[0m \u001b[1;33m\u001b[0m\u001b[0m\n\u001b[1;32m--> 516\u001b[1;33m             \u001b[1;32mraise\u001b[0m \u001b[0mConnectionError\u001b[0m\u001b[1;33m(\u001b[0m\u001b[0me\u001b[0m\u001b[1;33m,\u001b[0m \u001b[0mrequest\u001b[0m\u001b[1;33m=\u001b[0m\u001b[0mrequest\u001b[0m\u001b[1;33m)\u001b[0m\u001b[1;33m\u001b[0m\u001b[1;33m\u001b[0m\u001b[0m\n\u001b[0m\u001b[0;32m    517\u001b[0m \u001b[1;33m\u001b[0m\u001b[0m\n\u001b[0;32m    518\u001b[0m         \u001b[1;32mexcept\u001b[0m \u001b[0mClosedPoolError\u001b[0m \u001b[1;32mas\u001b[0m \u001b[0me\u001b[0m\u001b[1;33m:\u001b[0m\u001b[1;33m\u001b[0m\u001b[1;33m\u001b[0m\u001b[0m\n",
      "\u001b[1;31mConnectionError\u001b[0m: HTTPSConnectionPool(host='api.example.com', port=443): Max retries exceeded with url: /data (Caused by NewConnectionError('<urllib3.connection.VerifiedHTTPSConnection object at 0x00000176DD906308>: Failed to establish a new connection: [Errno 11001] getaddrinfo failed'))"
     ]
    }
   ],
   "source": [
    "# Making a GET Request:\n",
    "# importing the request Library\n",
    "import requests\n",
    "url='https://api.example.com/data'\n",
    "response=requests.get(url)\n",
    "\n",
    "#check the response status code\n",
    "if response.status_code==200:\n",
    "    # Access and print the response content\n",
    "    print(\"Response Content:\")\n",
    "    print(responce.content)\n",
    "    \n",
    "    \n",
    "    # Parse JSON response (if it's data)\n",
    "    data=response.json()\n",
    "    print(\"Parsed Json Data:\")\n",
    "    print(data)\n",
    "else:\n",
    "    print(f\"HTTP GET Error:{response.status_code}\")"
   ]
  },
  {
   "cell_type": "code",
   "execution_count": 26,
   "metadata": {},
   "outputs": [
    {
     "ename": "ConnectionError",
     "evalue": "HTTPSConnectionPool(host='api.example.com', port=443): Max retries exceeded with url: /data (Caused by NewConnectionError('<urllib3.connection.VerifiedHTTPSConnection object at 0x00000176DD914F88>: Failed to establish a new connection: [Errno 11001] getaddrinfo failed'))",
     "output_type": "error",
     "traceback": [
      "\u001b[1;31m---------------------------------------------------------------------------\u001b[0m",
      "\u001b[1;31mgaierror\u001b[0m                                  Traceback (most recent call last)",
      "\u001b[1;32mC:\\ProgramData\\Anaconda3\\lib\\site-packages\\urllib3\\connection.py\u001b[0m in \u001b[0;36m_new_conn\u001b[1;34m(self)\u001b[0m\n\u001b[0;32m    156\u001b[0m             conn = connection.create_connection(\n\u001b[1;32m--> 157\u001b[1;33m                 \u001b[1;33m(\u001b[0m\u001b[0mself\u001b[0m\u001b[1;33m.\u001b[0m\u001b[0m_dns_host\u001b[0m\u001b[1;33m,\u001b[0m \u001b[0mself\u001b[0m\u001b[1;33m.\u001b[0m\u001b[0mport\u001b[0m\u001b[1;33m)\u001b[0m\u001b[1;33m,\u001b[0m \u001b[0mself\u001b[0m\u001b[1;33m.\u001b[0m\u001b[0mtimeout\u001b[0m\u001b[1;33m,\u001b[0m \u001b[1;33m**\u001b[0m\u001b[0mextra_kw\u001b[0m\u001b[1;33m\u001b[0m\u001b[1;33m\u001b[0m\u001b[0m\n\u001b[0m\u001b[0;32m    158\u001b[0m             )\n",
      "\u001b[1;32mC:\\ProgramData\\Anaconda3\\lib\\site-packages\\urllib3\\util\\connection.py\u001b[0m in \u001b[0;36mcreate_connection\u001b[1;34m(address, timeout, source_address, socket_options)\u001b[0m\n\u001b[0;32m     60\u001b[0m \u001b[1;33m\u001b[0m\u001b[0m\n\u001b[1;32m---> 61\u001b[1;33m     \u001b[1;32mfor\u001b[0m \u001b[0mres\u001b[0m \u001b[1;32min\u001b[0m \u001b[0msocket\u001b[0m\u001b[1;33m.\u001b[0m\u001b[0mgetaddrinfo\u001b[0m\u001b[1;33m(\u001b[0m\u001b[0mhost\u001b[0m\u001b[1;33m,\u001b[0m \u001b[0mport\u001b[0m\u001b[1;33m,\u001b[0m \u001b[0mfamily\u001b[0m\u001b[1;33m,\u001b[0m \u001b[0msocket\u001b[0m\u001b[1;33m.\u001b[0m\u001b[0mSOCK_STREAM\u001b[0m\u001b[1;33m)\u001b[0m\u001b[1;33m:\u001b[0m\u001b[1;33m\u001b[0m\u001b[1;33m\u001b[0m\u001b[0m\n\u001b[0m\u001b[0;32m     62\u001b[0m         \u001b[0maf\u001b[0m\u001b[1;33m,\u001b[0m \u001b[0msocktype\u001b[0m\u001b[1;33m,\u001b[0m \u001b[0mproto\u001b[0m\u001b[1;33m,\u001b[0m \u001b[0mcanonname\u001b[0m\u001b[1;33m,\u001b[0m \u001b[0msa\u001b[0m \u001b[1;33m=\u001b[0m \u001b[0mres\u001b[0m\u001b[1;33m\u001b[0m\u001b[1;33m\u001b[0m\u001b[0m\n",
      "\u001b[1;32mC:\\ProgramData\\Anaconda3\\lib\\socket.py\u001b[0m in \u001b[0;36mgetaddrinfo\u001b[1;34m(host, port, family, type, proto, flags)\u001b[0m\n\u001b[0;32m    751\u001b[0m     \u001b[0maddrlist\u001b[0m \u001b[1;33m=\u001b[0m \u001b[1;33m[\u001b[0m\u001b[1;33m]\u001b[0m\u001b[1;33m\u001b[0m\u001b[1;33m\u001b[0m\u001b[0m\n\u001b[1;32m--> 752\u001b[1;33m     \u001b[1;32mfor\u001b[0m \u001b[0mres\u001b[0m \u001b[1;32min\u001b[0m \u001b[0m_socket\u001b[0m\u001b[1;33m.\u001b[0m\u001b[0mgetaddrinfo\u001b[0m\u001b[1;33m(\u001b[0m\u001b[0mhost\u001b[0m\u001b[1;33m,\u001b[0m \u001b[0mport\u001b[0m\u001b[1;33m,\u001b[0m \u001b[0mfamily\u001b[0m\u001b[1;33m,\u001b[0m \u001b[0mtype\u001b[0m\u001b[1;33m,\u001b[0m \u001b[0mproto\u001b[0m\u001b[1;33m,\u001b[0m \u001b[0mflags\u001b[0m\u001b[1;33m)\u001b[0m\u001b[1;33m:\u001b[0m\u001b[1;33m\u001b[0m\u001b[1;33m\u001b[0m\u001b[0m\n\u001b[0m\u001b[0;32m    753\u001b[0m         \u001b[0maf\u001b[0m\u001b[1;33m,\u001b[0m \u001b[0msocktype\u001b[0m\u001b[1;33m,\u001b[0m \u001b[0mproto\u001b[0m\u001b[1;33m,\u001b[0m \u001b[0mcanonname\u001b[0m\u001b[1;33m,\u001b[0m \u001b[0msa\u001b[0m \u001b[1;33m=\u001b[0m \u001b[0mres\u001b[0m\u001b[1;33m\u001b[0m\u001b[1;33m\u001b[0m\u001b[0m\n",
      "\u001b[1;31mgaierror\u001b[0m: [Errno 11001] getaddrinfo failed",
      "\nDuring handling of the above exception, another exception occurred:\n",
      "\u001b[1;31mNewConnectionError\u001b[0m                        Traceback (most recent call last)",
      "\u001b[1;32mC:\\ProgramData\\Anaconda3\\lib\\site-packages\\urllib3\\connectionpool.py\u001b[0m in \u001b[0;36murlopen\u001b[1;34m(self, method, url, body, headers, retries, redirect, assert_same_host, timeout, pool_timeout, release_conn, chunked, body_pos, **response_kw)\u001b[0m\n\u001b[0;32m    671\u001b[0m                 \u001b[0mheaders\u001b[0m\u001b[1;33m=\u001b[0m\u001b[0mheaders\u001b[0m\u001b[1;33m,\u001b[0m\u001b[1;33m\u001b[0m\u001b[1;33m\u001b[0m\u001b[0m\n\u001b[1;32m--> 672\u001b[1;33m                 \u001b[0mchunked\u001b[0m\u001b[1;33m=\u001b[0m\u001b[0mchunked\u001b[0m\u001b[1;33m,\u001b[0m\u001b[1;33m\u001b[0m\u001b[1;33m\u001b[0m\u001b[0m\n\u001b[0m\u001b[0;32m    673\u001b[0m             )\n",
      "\u001b[1;32mC:\\ProgramData\\Anaconda3\\lib\\site-packages\\urllib3\\connectionpool.py\u001b[0m in \u001b[0;36m_make_request\u001b[1;34m(self, conn, method, url, timeout, chunked, **httplib_request_kw)\u001b[0m\n\u001b[0;32m    375\u001b[0m         \u001b[1;32mtry\u001b[0m\u001b[1;33m:\u001b[0m\u001b[1;33m\u001b[0m\u001b[1;33m\u001b[0m\u001b[0m\n\u001b[1;32m--> 376\u001b[1;33m             \u001b[0mself\u001b[0m\u001b[1;33m.\u001b[0m\u001b[0m_validate_conn\u001b[0m\u001b[1;33m(\u001b[0m\u001b[0mconn\u001b[0m\u001b[1;33m)\u001b[0m\u001b[1;33m\u001b[0m\u001b[1;33m\u001b[0m\u001b[0m\n\u001b[0m\u001b[0;32m    377\u001b[0m         \u001b[1;32mexcept\u001b[0m \u001b[1;33m(\u001b[0m\u001b[0mSocketTimeout\u001b[0m\u001b[1;33m,\u001b[0m \u001b[0mBaseSSLError\u001b[0m\u001b[1;33m)\u001b[0m \u001b[1;32mas\u001b[0m \u001b[0me\u001b[0m\u001b[1;33m:\u001b[0m\u001b[1;33m\u001b[0m\u001b[1;33m\u001b[0m\u001b[0m\n",
      "\u001b[1;32mC:\\ProgramData\\Anaconda3\\lib\\site-packages\\urllib3\\connectionpool.py\u001b[0m in \u001b[0;36m_validate_conn\u001b[1;34m(self, conn)\u001b[0m\n\u001b[0;32m    993\u001b[0m         \u001b[1;32mif\u001b[0m \u001b[1;32mnot\u001b[0m \u001b[0mgetattr\u001b[0m\u001b[1;33m(\u001b[0m\u001b[0mconn\u001b[0m\u001b[1;33m,\u001b[0m \u001b[1;34m\"sock\"\u001b[0m\u001b[1;33m,\u001b[0m \u001b[1;32mNone\u001b[0m\u001b[1;33m)\u001b[0m\u001b[1;33m:\u001b[0m  \u001b[1;31m# AppEngine might not have  `.sock`\u001b[0m\u001b[1;33m\u001b[0m\u001b[1;33m\u001b[0m\u001b[0m\n\u001b[1;32m--> 994\u001b[1;33m             \u001b[0mconn\u001b[0m\u001b[1;33m.\u001b[0m\u001b[0mconnect\u001b[0m\u001b[1;33m(\u001b[0m\u001b[1;33m)\u001b[0m\u001b[1;33m\u001b[0m\u001b[1;33m\u001b[0m\u001b[0m\n\u001b[0m\u001b[0;32m    995\u001b[0m \u001b[1;33m\u001b[0m\u001b[0m\n",
      "\u001b[1;32mC:\\ProgramData\\Anaconda3\\lib\\site-packages\\urllib3\\connection.py\u001b[0m in \u001b[0;36mconnect\u001b[1;34m(self)\u001b[0m\n\u001b[0;32m    299\u001b[0m         \u001b[1;31m# Add certificate verification\u001b[0m\u001b[1;33m\u001b[0m\u001b[1;33m\u001b[0m\u001b[1;33m\u001b[0m\u001b[0m\n\u001b[1;32m--> 300\u001b[1;33m         \u001b[0mconn\u001b[0m \u001b[1;33m=\u001b[0m \u001b[0mself\u001b[0m\u001b[1;33m.\u001b[0m\u001b[0m_new_conn\u001b[0m\u001b[1;33m(\u001b[0m\u001b[1;33m)\u001b[0m\u001b[1;33m\u001b[0m\u001b[1;33m\u001b[0m\u001b[0m\n\u001b[0m\u001b[0;32m    301\u001b[0m         \u001b[0mhostname\u001b[0m \u001b[1;33m=\u001b[0m \u001b[0mself\u001b[0m\u001b[1;33m.\u001b[0m\u001b[0mhost\u001b[0m\u001b[1;33m\u001b[0m\u001b[1;33m\u001b[0m\u001b[0m\n",
      "\u001b[1;32mC:\\ProgramData\\Anaconda3\\lib\\site-packages\\urllib3\\connection.py\u001b[0m in \u001b[0;36m_new_conn\u001b[1;34m(self)\u001b[0m\n\u001b[0;32m    168\u001b[0m             raise NewConnectionError(\n\u001b[1;32m--> 169\u001b[1;33m                 \u001b[0mself\u001b[0m\u001b[1;33m,\u001b[0m \u001b[1;34m\"Failed to establish a new connection: %s\"\u001b[0m \u001b[1;33m%\u001b[0m \u001b[0me\u001b[0m\u001b[1;33m\u001b[0m\u001b[1;33m\u001b[0m\u001b[0m\n\u001b[0m\u001b[0;32m    170\u001b[0m             )\n",
      "\u001b[1;31mNewConnectionError\u001b[0m: <urllib3.connection.VerifiedHTTPSConnection object at 0x00000176DD914F88>: Failed to establish a new connection: [Errno 11001] getaddrinfo failed",
      "\nDuring handling of the above exception, another exception occurred:\n",
      "\u001b[1;31mMaxRetryError\u001b[0m                             Traceback (most recent call last)",
      "\u001b[1;32mC:\\ProgramData\\Anaconda3\\lib\\site-packages\\requests\\adapters.py\u001b[0m in \u001b[0;36msend\u001b[1;34m(self, request, stream, timeout, verify, cert, proxies)\u001b[0m\n\u001b[0;32m    448\u001b[0m                     \u001b[0mretries\u001b[0m\u001b[1;33m=\u001b[0m\u001b[0mself\u001b[0m\u001b[1;33m.\u001b[0m\u001b[0mmax_retries\u001b[0m\u001b[1;33m,\u001b[0m\u001b[1;33m\u001b[0m\u001b[1;33m\u001b[0m\u001b[0m\n\u001b[1;32m--> 449\u001b[1;33m                     \u001b[0mtimeout\u001b[0m\u001b[1;33m=\u001b[0m\u001b[0mtimeout\u001b[0m\u001b[1;33m\u001b[0m\u001b[1;33m\u001b[0m\u001b[0m\n\u001b[0m\u001b[0;32m    450\u001b[0m                 )\n",
      "\u001b[1;32mC:\\ProgramData\\Anaconda3\\lib\\site-packages\\urllib3\\connectionpool.py\u001b[0m in \u001b[0;36murlopen\u001b[1;34m(self, method, url, body, headers, retries, redirect, assert_same_host, timeout, pool_timeout, release_conn, chunked, body_pos, **response_kw)\u001b[0m\n\u001b[0;32m    719\u001b[0m             retries = retries.increment(\n\u001b[1;32m--> 720\u001b[1;33m                 \u001b[0mmethod\u001b[0m\u001b[1;33m,\u001b[0m \u001b[0murl\u001b[0m\u001b[1;33m,\u001b[0m \u001b[0merror\u001b[0m\u001b[1;33m=\u001b[0m\u001b[0me\u001b[0m\u001b[1;33m,\u001b[0m \u001b[0m_pool\u001b[0m\u001b[1;33m=\u001b[0m\u001b[0mself\u001b[0m\u001b[1;33m,\u001b[0m \u001b[0m_stacktrace\u001b[0m\u001b[1;33m=\u001b[0m\u001b[0msys\u001b[0m\u001b[1;33m.\u001b[0m\u001b[0mexc_info\u001b[0m\u001b[1;33m(\u001b[0m\u001b[1;33m)\u001b[0m\u001b[1;33m[\u001b[0m\u001b[1;36m2\u001b[0m\u001b[1;33m]\u001b[0m\u001b[1;33m\u001b[0m\u001b[1;33m\u001b[0m\u001b[0m\n\u001b[0m\u001b[0;32m    721\u001b[0m             )\n",
      "\u001b[1;32mC:\\ProgramData\\Anaconda3\\lib\\site-packages\\urllib3\\util\\retry.py\u001b[0m in \u001b[0;36mincrement\u001b[1;34m(self, method, url, response, error, _pool, _stacktrace)\u001b[0m\n\u001b[0;32m    435\u001b[0m         \u001b[1;32mif\u001b[0m \u001b[0mnew_retry\u001b[0m\u001b[1;33m.\u001b[0m\u001b[0mis_exhausted\u001b[0m\u001b[1;33m(\u001b[0m\u001b[1;33m)\u001b[0m\u001b[1;33m:\u001b[0m\u001b[1;33m\u001b[0m\u001b[1;33m\u001b[0m\u001b[0m\n\u001b[1;32m--> 436\u001b[1;33m             \u001b[1;32mraise\u001b[0m \u001b[0mMaxRetryError\u001b[0m\u001b[1;33m(\u001b[0m\u001b[0m_pool\u001b[0m\u001b[1;33m,\u001b[0m \u001b[0murl\u001b[0m\u001b[1;33m,\u001b[0m \u001b[0merror\u001b[0m \u001b[1;32mor\u001b[0m \u001b[0mResponseError\u001b[0m\u001b[1;33m(\u001b[0m\u001b[0mcause\u001b[0m\u001b[1;33m)\u001b[0m\u001b[1;33m)\u001b[0m\u001b[1;33m\u001b[0m\u001b[1;33m\u001b[0m\u001b[0m\n\u001b[0m\u001b[0;32m    437\u001b[0m \u001b[1;33m\u001b[0m\u001b[0m\n",
      "\u001b[1;31mMaxRetryError\u001b[0m: HTTPSConnectionPool(host='api.example.com', port=443): Max retries exceeded with url: /data (Caused by NewConnectionError('<urllib3.connection.VerifiedHTTPSConnection object at 0x00000176DD914F88>: Failed to establish a new connection: [Errno 11001] getaddrinfo failed'))",
      "\nDuring handling of the above exception, another exception occurred:\n",
      "\u001b[1;31mConnectionError\u001b[0m                           Traceback (most recent call last)",
      "\u001b[1;32m<ipython-input-26-a04ef9cd44b6>\u001b[0m in \u001b[0;36m<module>\u001b[1;34m\u001b[0m\n\u001b[0;32m      3\u001b[0m \u001b[1;33m\u001b[0m\u001b[0m\n\u001b[0;32m      4\u001b[0m \u001b[0murl\u001b[0m \u001b[1;33m=\u001b[0m \u001b[1;34m'https://api.example.com/data'\u001b[0m\u001b[1;33m\u001b[0m\u001b[1;33m\u001b[0m\u001b[0m\n\u001b[1;32m----> 5\u001b[1;33m \u001b[0mresponse\u001b[0m \u001b[1;33m=\u001b[0m \u001b[0mrequests\u001b[0m\u001b[1;33m.\u001b[0m\u001b[0mget\u001b[0m\u001b[1;33m(\u001b[0m\u001b[0murl\u001b[0m\u001b[1;33m)\u001b[0m\u001b[1;33m\u001b[0m\u001b[1;33m\u001b[0m\u001b[0m\n\u001b[0m\u001b[0;32m      6\u001b[0m \u001b[1;33m\u001b[0m\u001b[0m\n\u001b[0;32m      7\u001b[0m \u001b[1;31m# Check the response status code\u001b[0m\u001b[1;33m\u001b[0m\u001b[1;33m\u001b[0m\u001b[1;33m\u001b[0m\u001b[0m\n",
      "\u001b[1;32mC:\\ProgramData\\Anaconda3\\lib\\site-packages\\requests\\api.py\u001b[0m in \u001b[0;36mget\u001b[1;34m(url, params, **kwargs)\u001b[0m\n\u001b[0;32m     73\u001b[0m \u001b[1;33m\u001b[0m\u001b[0m\n\u001b[0;32m     74\u001b[0m     \u001b[0mkwargs\u001b[0m\u001b[1;33m.\u001b[0m\u001b[0msetdefault\u001b[0m\u001b[1;33m(\u001b[0m\u001b[1;34m'allow_redirects'\u001b[0m\u001b[1;33m,\u001b[0m \u001b[1;32mTrue\u001b[0m\u001b[1;33m)\u001b[0m\u001b[1;33m\u001b[0m\u001b[1;33m\u001b[0m\u001b[0m\n\u001b[1;32m---> 75\u001b[1;33m     \u001b[1;32mreturn\u001b[0m \u001b[0mrequest\u001b[0m\u001b[1;33m(\u001b[0m\u001b[1;34m'get'\u001b[0m\u001b[1;33m,\u001b[0m \u001b[0murl\u001b[0m\u001b[1;33m,\u001b[0m \u001b[0mparams\u001b[0m\u001b[1;33m=\u001b[0m\u001b[0mparams\u001b[0m\u001b[1;33m,\u001b[0m \u001b[1;33m**\u001b[0m\u001b[0mkwargs\u001b[0m\u001b[1;33m)\u001b[0m\u001b[1;33m\u001b[0m\u001b[1;33m\u001b[0m\u001b[0m\n\u001b[0m\u001b[0;32m     76\u001b[0m \u001b[1;33m\u001b[0m\u001b[0m\n\u001b[0;32m     77\u001b[0m \u001b[1;33m\u001b[0m\u001b[0m\n",
      "\u001b[1;32mC:\\ProgramData\\Anaconda3\\lib\\site-packages\\requests\\api.py\u001b[0m in \u001b[0;36mrequest\u001b[1;34m(method, url, **kwargs)\u001b[0m\n\u001b[0;32m     58\u001b[0m     \u001b[1;31m# cases, and look like a memory leak in others.\u001b[0m\u001b[1;33m\u001b[0m\u001b[1;33m\u001b[0m\u001b[1;33m\u001b[0m\u001b[0m\n\u001b[0;32m     59\u001b[0m     \u001b[1;32mwith\u001b[0m \u001b[0msessions\u001b[0m\u001b[1;33m.\u001b[0m\u001b[0mSession\u001b[0m\u001b[1;33m(\u001b[0m\u001b[1;33m)\u001b[0m \u001b[1;32mas\u001b[0m \u001b[0msession\u001b[0m\u001b[1;33m:\u001b[0m\u001b[1;33m\u001b[0m\u001b[1;33m\u001b[0m\u001b[0m\n\u001b[1;32m---> 60\u001b[1;33m         \u001b[1;32mreturn\u001b[0m \u001b[0msession\u001b[0m\u001b[1;33m.\u001b[0m\u001b[0mrequest\u001b[0m\u001b[1;33m(\u001b[0m\u001b[0mmethod\u001b[0m\u001b[1;33m=\u001b[0m\u001b[0mmethod\u001b[0m\u001b[1;33m,\u001b[0m \u001b[0murl\u001b[0m\u001b[1;33m=\u001b[0m\u001b[0murl\u001b[0m\u001b[1;33m,\u001b[0m \u001b[1;33m**\u001b[0m\u001b[0mkwargs\u001b[0m\u001b[1;33m)\u001b[0m\u001b[1;33m\u001b[0m\u001b[1;33m\u001b[0m\u001b[0m\n\u001b[0m\u001b[0;32m     61\u001b[0m \u001b[1;33m\u001b[0m\u001b[0m\n\u001b[0;32m     62\u001b[0m \u001b[1;33m\u001b[0m\u001b[0m\n",
      "\u001b[1;32mC:\\ProgramData\\Anaconda3\\lib\\site-packages\\requests\\sessions.py\u001b[0m in \u001b[0;36mrequest\u001b[1;34m(self, method, url, params, data, headers, cookies, files, auth, timeout, allow_redirects, proxies, hooks, stream, verify, cert, json)\u001b[0m\n\u001b[0;32m    531\u001b[0m         }\n\u001b[0;32m    532\u001b[0m         \u001b[0msend_kwargs\u001b[0m\u001b[1;33m.\u001b[0m\u001b[0mupdate\u001b[0m\u001b[1;33m(\u001b[0m\u001b[0msettings\u001b[0m\u001b[1;33m)\u001b[0m\u001b[1;33m\u001b[0m\u001b[1;33m\u001b[0m\u001b[0m\n\u001b[1;32m--> 533\u001b[1;33m         \u001b[0mresp\u001b[0m \u001b[1;33m=\u001b[0m \u001b[0mself\u001b[0m\u001b[1;33m.\u001b[0m\u001b[0msend\u001b[0m\u001b[1;33m(\u001b[0m\u001b[0mprep\u001b[0m\u001b[1;33m,\u001b[0m \u001b[1;33m**\u001b[0m\u001b[0msend_kwargs\u001b[0m\u001b[1;33m)\u001b[0m\u001b[1;33m\u001b[0m\u001b[1;33m\u001b[0m\u001b[0m\n\u001b[0m\u001b[0;32m    534\u001b[0m \u001b[1;33m\u001b[0m\u001b[0m\n\u001b[0;32m    535\u001b[0m         \u001b[1;32mreturn\u001b[0m \u001b[0mresp\u001b[0m\u001b[1;33m\u001b[0m\u001b[1;33m\u001b[0m\u001b[0m\n",
      "\u001b[1;32mC:\\ProgramData\\Anaconda3\\lib\\site-packages\\requests\\sessions.py\u001b[0m in \u001b[0;36msend\u001b[1;34m(self, request, **kwargs)\u001b[0m\n\u001b[0;32m    644\u001b[0m \u001b[1;33m\u001b[0m\u001b[0m\n\u001b[0;32m    645\u001b[0m         \u001b[1;31m# Send the request\u001b[0m\u001b[1;33m\u001b[0m\u001b[1;33m\u001b[0m\u001b[1;33m\u001b[0m\u001b[0m\n\u001b[1;32m--> 646\u001b[1;33m         \u001b[0mr\u001b[0m \u001b[1;33m=\u001b[0m \u001b[0madapter\u001b[0m\u001b[1;33m.\u001b[0m\u001b[0msend\u001b[0m\u001b[1;33m(\u001b[0m\u001b[0mrequest\u001b[0m\u001b[1;33m,\u001b[0m \u001b[1;33m**\u001b[0m\u001b[0mkwargs\u001b[0m\u001b[1;33m)\u001b[0m\u001b[1;33m\u001b[0m\u001b[1;33m\u001b[0m\u001b[0m\n\u001b[0m\u001b[0;32m    647\u001b[0m \u001b[1;33m\u001b[0m\u001b[0m\n\u001b[0;32m    648\u001b[0m         \u001b[1;31m# Total elapsed time of the request (approximately)\u001b[0m\u001b[1;33m\u001b[0m\u001b[1;33m\u001b[0m\u001b[1;33m\u001b[0m\u001b[0m\n",
      "\u001b[1;32mC:\\ProgramData\\Anaconda3\\lib\\site-packages\\requests\\adapters.py\u001b[0m in \u001b[0;36msend\u001b[1;34m(self, request, stream, timeout, verify, cert, proxies)\u001b[0m\n\u001b[0;32m    514\u001b[0m                 \u001b[1;32mraise\u001b[0m \u001b[0mSSLError\u001b[0m\u001b[1;33m(\u001b[0m\u001b[0me\u001b[0m\u001b[1;33m,\u001b[0m \u001b[0mrequest\u001b[0m\u001b[1;33m=\u001b[0m\u001b[0mrequest\u001b[0m\u001b[1;33m)\u001b[0m\u001b[1;33m\u001b[0m\u001b[1;33m\u001b[0m\u001b[0m\n\u001b[0;32m    515\u001b[0m \u001b[1;33m\u001b[0m\u001b[0m\n\u001b[1;32m--> 516\u001b[1;33m             \u001b[1;32mraise\u001b[0m \u001b[0mConnectionError\u001b[0m\u001b[1;33m(\u001b[0m\u001b[0me\u001b[0m\u001b[1;33m,\u001b[0m \u001b[0mrequest\u001b[0m\u001b[1;33m=\u001b[0m\u001b[0mrequest\u001b[0m\u001b[1;33m)\u001b[0m\u001b[1;33m\u001b[0m\u001b[1;33m\u001b[0m\u001b[0m\n\u001b[0m\u001b[0;32m    517\u001b[0m \u001b[1;33m\u001b[0m\u001b[0m\n\u001b[0;32m    518\u001b[0m         \u001b[1;32mexcept\u001b[0m \u001b[0mClosedPoolError\u001b[0m \u001b[1;32mas\u001b[0m \u001b[0me\u001b[0m\u001b[1;33m:\u001b[0m\u001b[1;33m\u001b[0m\u001b[1;33m\u001b[0m\u001b[0m\n",
      "\u001b[1;31mConnectionError\u001b[0m: HTTPSConnectionPool(host='api.example.com', port=443): Max retries exceeded with url: /data (Caused by NewConnectionError('<urllib3.connection.VerifiedHTTPSConnection object at 0x00000176DD914F88>: Failed to establish a new connection: [Errno 11001] getaddrinfo failed'))"
     ]
    }
   ],
   "source": [
    "### Making a POST Request:\n",
    "import requests\n",
    "\n",
    "url = 'https://api.example.com/data'\n",
    "response = requests.get(url)\n",
    "\n",
    "# Check the response status code\n",
    "if response.status_code == 200:\n",
    "    # Access and print the response content\n",
    "    print(\"Response Content:\")\n",
    "    print(response.content)\n",
    "\n",
    "    # Parse JSON response (if it's JSON data)\n",
    "    data = response.json()\n",
    "    print(\"Parsed JSON Data:\")\n",
    "    print(data)\n",
    "else:\n",
    "    print(f\"HTTP GET Error: {response.status_code}\")\n"
   ]
  },
  {
   "cell_type": "markdown",
   "metadata": {},
   "source": [
    "### Web Development (Flask) "
   ]
  },
  {
   "cell_type": "code",
   "execution_count": null,
   "metadata": {},
   "outputs": [],
   "source": [
    "'''\n",
    "┣    from flask import Flask, render_template, request, redirect, url_for \n",
    "┣    Create a Flask app: app = Flask(__name__) \n",
    "┣    Define a route: @app.route('/path', methods=['GET', 'POST']) \n",
    "┣    Run the app: app.run(debug=True) \n",
    "┣    Return a response: return \"Hello, World!\" \n",
    "┣    Render a template: return render_template('template.html', variable=value) \n",
    "┣    Access request data: request.form['input_name'] \n",
    "┗    Redirect to another route: return redirect(url_for('route_function')) \n",
    "'''"
   ]
  },
  {
   "cell_type": "code",
   "execution_count": 27,
   "metadata": {},
   "outputs": [
    {
     "name": "stdout",
     "output_type": "stream",
     "text": [
      " * Serving Flask app \"__main__\" (lazy loading)\n",
      " * Environment: production\n",
      "   WARNING: This is a development server. Do not use it in a production deployment.\n",
      "   Use a production WSGI server instead.\n",
      " * Debug mode: on\n"
     ]
    },
    {
     "name": "stderr",
     "output_type": "stream",
     "text": [
      " * Restarting with windowsapi reloader\n"
     ]
    },
    {
     "ename": "SystemExit",
     "evalue": "1",
     "output_type": "error",
     "traceback": [
      "An exception has occurred, use %tb to see the full traceback.\n",
      "\u001b[1;31mSystemExit\u001b[0m\u001b[1;31m:\u001b[0m 1\n"
     ]
    },
    {
     "name": "stderr",
     "output_type": "stream",
     "text": [
      "C:\\ProgramData\\Anaconda3\\lib\\site-packages\\IPython\\core\\interactiveshell.py:3339: UserWarning: To exit: use 'exit', 'quit', or Ctrl-D.\n",
      "  warn(\"To exit: use 'exit', 'quit', or Ctrl-D.\", stacklevel=1)\n"
     ]
    }
   ],
   "source": [
    "from flask import Flask, render_template, request, redirect, url_for\n",
    "\n",
    "# Create a Flask app\n",
    "app = Flask(__name__)\n",
    "\n",
    "# Define a route that accepts both GET and POST requests\n",
    "@app.route('/hello', methods=['GET', 'POST'])\n",
    "def hello():\n",
    "    if request.method == 'POST':\n",
    "        name = request.form['name']\n",
    "        return f\"Hello, {name}!\"\n",
    "    return \"Hello, World!\"\n",
    "\n",
    "# Define a route that renders an HTML template\n",
    "@app.route('/greet/<name>')\n",
    "def greet(name):\n",
    "    return render_template('greet.html', name=name)\n",
    "\n",
    "# Define a route for submitting data via a form\n",
    "@app.route('/submit', methods=['POST'])\n",
    "def submit():\n",
    "    username = request.form['username']\n",
    "    password = request.form['password']\n",
    "    # Process the data (e.g., authenticate user)\n",
    "    return f\"Received username: {username}\"\n",
    "\n",
    "# Define a route that redirects to another route\n",
    "@app.route('/old')\n",
    "def old_route():\n",
    "    return redirect(url_for('hello'))\n",
    "\n",
    "# Run the app in debug mode\n",
    "if __name__ == '__main__':\n",
    "    app.run(debug=True)\n"
   ]
  },
  {
   "cell_type": "markdown",
   "metadata": {},
   "source": [
    "###  Data Science Libraries"
   ]
  },
  {
   "cell_type": "code",
   "execution_count": 28,
   "metadata": {},
   "outputs": [
    {
     "data": {
      "text/plain": [
       "'\\n┣    NumPy: import numpy as np \\n┣    pandas: import pandas as pd \\n┣    Matplotlib: import matplotlib.pyplot as plt \\n┣    seaborn: import seaborn as sns \\n┣    scikit-learn: import sklearn \\n┣    TensorFlow: import tensorflow as tf \\n┣    Keras: from tensorflow import keras \\n┣    PyTorch: import torch \\n'"
      ]
     },
     "execution_count": 28,
     "metadata": {},
     "output_type": "execute_result"
    }
   ],
   "source": [
    "'''\n",
    "┣    NumPy: import numpy as np \n",
    "┣    pandas: import pandas as pd \n",
    "┣    Matplotlib: import matplotlib.pyplot as plt \n",
    "┣    seaborn: import seaborn as sns \n",
    "┣    scikit-learn: import sklearn \n",
    "┣    TensorFlow: import tensorflow as tf \n",
    "┣    Keras: from tensorflow import keras \n",
    "┣    PyTorch: import torch \n",
    "'''"
   ]
  },
  {
   "cell_type": "markdown",
   "metadata": {},
   "source": [
    "You've listed some essential libraries commonly used in data science and machine learning. Here's a brief overview of each library and how to import them:\n",
    "\n",
    "1. **NumPy (Numerical Python)**:\n",
    "   - NumPy is a library for numerical computations in Python.\n",
    "   - It provides support for arrays and matrices, along with a large collection of mathematical functions.\n",
    "   - Import as: `import numpy as np`\n",
    "\n",
    "2. **pandas**:\n",
    "   - pandas is a data manipulation and analysis library.\n",
    "   - It provides data structures like DataFrames and Series for handling structured data.\n",
    "   - Import as: `import pandas as pd`\n",
    "\n",
    "3. **Matplotlib**:\n",
    "   - Matplotlib is a popular data visualization library for creating static, animated, or interactive plots and charts.\n",
    "   - Import as: `import matplotlib.pyplot as plt`\n",
    "\n",
    "4. **seaborn**:\n",
    "   - seaborn is a high-level data visualization library based on Matplotlib.\n",
    "   - It provides a more visually appealing and convenient interface for creating statistical graphics.\n",
    "   - Import as: `import seaborn as sns`\n",
    "\n",
    "5. **scikit-learn (sklearn)**:\n",
    "   - scikit-learn is a machine learning library that provides tools for data analysis and modeling.\n",
    "   - It includes various algorithms for classification, regression, clustering, and more.\n",
    "   - Import as: `import sklearn`\n",
    "\n",
    "6. **TensorFlow**:\n",
    "   - TensorFlow is an open-source machine learning framework developed by Google.\n",
    "   - It allows you to build and train machine learning models, especially deep learning models.\n",
    "   - Import as: `import tensorflow as tf`\n",
    "\n",
    "7. **Keras**:\n",
    "   - Keras is an API that serves as a high-level interface for building and training deep learning models.\n",
    "   - It is integrated with TensorFlow and provides a more user-friendly interface.\n",
    "   - Import as: `from tensorflow import keras`\n",
    "\n",
    "8. **PyTorch**:\n",
    "   - PyTorch is an open-source machine learning library developed by Facebook's AI Research lab.\n",
    "   - It is known for its flexibility and dynamic computation graphs.\n",
    "   - Import as: `import torch`\n",
    "\n",
    "You can import these libraries into your Python scripts or Jupyter notebooks to perform various data analysis, manipulation, visualization, and machine learning tasks in the field of data science."
   ]
  },
  {
   "cell_type": "code",
   "execution_count": 29,
   "metadata": {},
   "outputs": [
    {
     "name": "stdout",
     "output_type": "stream",
     "text": [
      "Array: [1 2 3 4 5]\n",
      "Mean: 3.0\n",
      "Sum: 15\n"
     ]
    }
   ],
   "source": [
    "# 1.NumPy Example:\n",
    "import numpy as np\n",
    "\n",
    "# Create a NumPy array\n",
    "arr = np.array([1, 2, 3, 4, 5])\n",
    "\n",
    "# Perform operations on the array\n",
    "mean = np.mean(arr)\n",
    "sum = np.sum(arr)\n",
    "\n",
    "print(\"Array:\", arr)\n",
    "print(\"Mean:\", mean)\n",
    "print(\"Sum:\", sum)\n"
   ]
  },
  {
   "cell_type": "code",
   "execution_count": 30,
   "metadata": {},
   "outputs": [
    {
     "name": "stdout",
     "output_type": "stream",
     "text": [
      "      Name  Age\n",
      "0    Alice   25\n",
      "1      Bob   30\n",
      "2  Charlie   22\n",
      "Average Age: 25.666666666666668\n"
     ]
    }
   ],
   "source": [
    "# 2.pandas Example:\n",
    "import pandas as pd\n",
    "\n",
    "# Create a DataFrame\n",
    "data = {'Name': ['Alice', 'Bob', 'Charlie'],\n",
    "        'Age': [25, 30, 22]}\n",
    "df = pd.DataFrame(data)\n",
    "\n",
    "# Access and manipulate data in the DataFrame\n",
    "print(df)\n",
    "print(\"Average Age:\", df['Age'].mean())\n"
   ]
  },
  {
   "cell_type": "code",
   "execution_count": 31,
   "metadata": {},
   "outputs": [
    {
     "data": {
      "image/png": "[encoded data removed]",
      "text/plain": [
       "<Figure size 432x288 with 1 Axes>"
      ]
     },
     "metadata": {
      "needs_background": "light"
     },
     "output_type": "display_data"
    }
   ],
   "source": [
    "# 3.Matplotlib Example:\n",
    "import matplotlib.pyplot as plt\n",
    "\n",
    "# Create a simple line plot\n",
    "x = [1, 2, 3, 4, 5]\n",
    "y = [10, 15, 13, 18, 20]\n",
    "\n",
    "plt.plot(x, y)\n",
    "plt.xlabel('X-axis')\n",
    "plt.ylabel('Y-axis')\n",
    "plt.title('Line Plot')\n",
    "plt.show()\n"
   ]
  },
  {
   "cell_type": "code",
   "execution_count": 32,
   "metadata": {},
   "outputs": [
    {
     "data": {
      "image/png": "[encoded data removed]",
      "text/plain": [
       "<Figure size 432x288 with 1 Axes>"
      ]
     },
     "metadata": {
      "needs_background": "light"
     },
     "output_type": "display_data"
    }
   ],
   "source": [
    "# 4.seaborn Example:\n",
    "import seaborn as sns\n",
    "import matplotlib.pyplot as plt\n",
    "\n",
    "# Load a built-in dataset from seaborn\n",
    "tips = sns.load_dataset('tips')\n",
    "\n",
    "# Create a scatter plot\n",
    "sns.scatterplot(x='total_bill', y='tip', data=tips)\n",
    "plt.xlabel('Total Bill')\n",
    "plt.ylabel('Tip')\n",
    "plt.title('Scatter Plot')\n",
    "plt.show()\n"
   ]
  },
  {
   "cell_type": "code",
   "execution_count": 33,
   "metadata": {},
   "outputs": [
    {
     "name": "stdout",
     "output_type": "stream",
     "text": [
      "Accuracy: 1.0\n"
     ]
    }
   ],
   "source": [
    "# 5.scikit-learn Example:\n",
    "from sklearn.datasets import load_iris\n",
    "from sklearn.model_selection import train_test_split\n",
    "from sklearn.neighbors import KNeighborsClassifier\n",
    "\n",
    "# Load the Iris dataset\n",
    "data = load_iris()\n",
    "X = data.data\n",
    "y = data.target\n",
    "\n",
    "# Split the data into training and testing sets\n",
    "X_train, X_test, y_train, y_test = train_test_split(X, y, test_size=0.2, random_state=42)\n",
    "\n",
    "# Train a k-nearest neighbors classifier\n",
    "knn = KNeighborsClassifier(n_neighbors=3)\n",
    "knn.fit(X_train, y_train)\n",
    "\n",
    "# Evaluate the classifier\n",
    "accuracy = knn.score(X_test, y_test)\n",
    "print(\"Accuracy:\", accuracy)\n"
   ]
  },
  {
   "cell_type": "code",
   "execution_count": 34,
   "metadata": {},
   "outputs": [
    {
     "ename": "ModuleNotFoundError",
     "evalue": "No module named 'tensorflow'",
     "output_type": "error",
     "traceback": [
      "\u001b[1;31m---------------------------------------------------------------------------\u001b[0m",
      "\u001b[1;31mModuleNotFoundError\u001b[0m                       Traceback (most recent call last)",
      "\u001b[1;32m<ipython-input-34-13d42b199916>\u001b[0m in \u001b[0;36m<module>\u001b[1;34m\u001b[0m\n\u001b[0;32m      1\u001b[0m \u001b[1;31m# 6.TensorFlow and Keras Example:\u001b[0m\u001b[1;33m\u001b[0m\u001b[1;33m\u001b[0m\u001b[1;33m\u001b[0m\u001b[0m\n\u001b[1;32m----> 2\u001b[1;33m \u001b[1;32mimport\u001b[0m \u001b[0mtensorflow\u001b[0m \u001b[1;32mas\u001b[0m \u001b[0mtf\u001b[0m\u001b[1;33m\u001b[0m\u001b[1;33m\u001b[0m\u001b[0m\n\u001b[0m\u001b[0;32m      3\u001b[0m \u001b[1;32mfrom\u001b[0m \u001b[0mtensorflow\u001b[0m \u001b[1;32mimport\u001b[0m \u001b[0mkeras\u001b[0m\u001b[1;33m\u001b[0m\u001b[1;33m\u001b[0m\u001b[0m\n\u001b[0;32m      4\u001b[0m \u001b[1;33m\u001b[0m\u001b[0m\n\u001b[0;32m      5\u001b[0m \u001b[1;31m# Create a simple neural network model using Keras\u001b[0m\u001b[1;33m\u001b[0m\u001b[1;33m\u001b[0m\u001b[1;33m\u001b[0m\u001b[0m\n",
      "\u001b[1;31mModuleNotFoundError\u001b[0m: No module named 'tensorflow'"
     ]
    }
   ],
   "source": [
    "# 6.TensorFlow and Keras Example:\n",
    "import tensorflow as tf\n",
    "from tensorflow import keras\n",
    "\n",
    "# Create a simple neural network model using Keras\n",
    "model = keras.Sequential([\n",
    "    keras.layers.Dense(128, activation='relu', input_shape=(784,)),\n",
    "    keras.layers.Dropout(0.2),\n",
    "    keras.layers.Dense(10, activation='softmax')\n",
    "])\n",
    "\n",
    "# Compile the model\n",
    "model.compile(optimizer='adam',\n",
    "              loss='sparse_categorical_crossentropy',\n",
    "              metrics=['accuracy'])\n",
    "\n",
    "# Summary of the model architecture\n",
    "model.summary()\n",
    "# pip install tensorflow\n",
    "# pip install tensorflow==2.0.0\n"
   ]
  },
  {
   "cell_type": "code",
   "execution_count": 35,
   "metadata": {},
   "outputs": [
    {
     "ename": "ModuleNotFoundError",
     "evalue": "No module named 'torch'",
     "output_type": "error",
     "traceback": [
      "\u001b[1;31m---------------------------------------------------------------------------\u001b[0m",
      "\u001b[1;31mModuleNotFoundError\u001b[0m                       Traceback (most recent call last)",
      "\u001b[1;32m<ipython-input-35-0cb8c0d34147>\u001b[0m in \u001b[0;36m<module>\u001b[1;34m\u001b[0m\n\u001b[0;32m      1\u001b[0m \u001b[1;31m# 7.PyTorch Example:\u001b[0m\u001b[1;33m\u001b[0m\u001b[1;33m\u001b[0m\u001b[1;33m\u001b[0m\u001b[0m\n\u001b[1;32m----> 2\u001b[1;33m \u001b[1;32mimport\u001b[0m \u001b[0mtorch\u001b[0m\u001b[1;33m\u001b[0m\u001b[1;33m\u001b[0m\u001b[0m\n\u001b[0m\u001b[0;32m      3\u001b[0m \u001b[1;33m\u001b[0m\u001b[0m\n\u001b[0;32m      4\u001b[0m \u001b[1;31m# Create a PyTorch tensor\u001b[0m\u001b[1;33m\u001b[0m\u001b[1;33m\u001b[0m\u001b[1;33m\u001b[0m\u001b[0m\n\u001b[0;32m      5\u001b[0m \u001b[0mtensor\u001b[0m \u001b[1;33m=\u001b[0m \u001b[0mtorch\u001b[0m\u001b[1;33m.\u001b[0m\u001b[0mtensor\u001b[0m\u001b[1;33m(\u001b[0m\u001b[1;33m[\u001b[0m\u001b[1;36m1.0\u001b[0m\u001b[1;33m,\u001b[0m \u001b[1;36m2.0\u001b[0m\u001b[1;33m,\u001b[0m \u001b[1;36m3.0\u001b[0m\u001b[1;33m,\u001b[0m \u001b[1;36m4.0\u001b[0m\u001b[1;33m,\u001b[0m \u001b[1;36m5.0\u001b[0m\u001b[1;33m]\u001b[0m\u001b[1;33m)\u001b[0m\u001b[1;33m\u001b[0m\u001b[1;33m\u001b[0m\u001b[0m\n",
      "\u001b[1;31mModuleNotFoundError\u001b[0m: No module named 'torch'"
     ]
    }
   ],
   "source": [
    "# 7.PyTorch Example:\n",
    "import torch\n",
    "\n",
    "# Create a PyTorch tensor\n",
    "tensor = torch.tensor([1.0, 2.0, 3.0, 4.0, 5.0])\n",
    "\n",
    "# Perform operations on the tensor\n",
    "mean = torch.mean(tensor)\n",
    "sum = torch.sum(tensor)\n",
    "\n",
    "print(\"Tensor:\", tensor)\n",
    "print(\"Mean:\", mean)\n",
    "print(\"Sum:\", sum)\n",
    "# pip install torch==1.9.0+cpu torchvision==0.10.0+cpu torchaudio===0.9.0 -f https://download.pytorch.org/whl/torch_stable.html\n"
   ]
  },
  {
   "cell_type": "markdown",
   "metadata": {},
   "source": [
    "### Command Line Arguments (argparse)"
   ]
  },
  {
   "cell_type": "code",
   "execution_count": null,
   "metadata": {},
   "outputs": [],
   "source": [
    "# Using argparse for Command-Line Arguments:"
   ]
  },
  {
   "cell_type": "code",
   "execution_count": 36,
   "metadata": {},
   "outputs": [
    {
     "name": "stderr",
     "output_type": "stream",
     "text": [
      "usage: ipykernel_launcher.py [-h] [--arg_name ARG_NAME]\n",
      "ipykernel_launcher.py: error: unrecognized arguments: -f C:\\Users\\raman\\AppData\\Roaming\\jupyter\\runtime\\kernel-9296cbc0-393f-4cfe-a425-f813b7ae6fe2.json\n"
     ]
    },
    {
     "ename": "SystemExit",
     "evalue": "2",
     "output_type": "error",
     "traceback": [
      "An exception has occurred, use %tb to see the full traceback.\n",
      "\u001b[1;31mSystemExit\u001b[0m\u001b[1;31m:\u001b[0m 2\n"
     ]
    },
    {
     "name": "stderr",
     "output_type": "stream",
     "text": [
      "C:\\ProgramData\\Anaconda3\\lib\\site-packages\\IPython\\core\\interactiveshell.py:3339: UserWarning: To exit: use 'exit', 'quit', or Ctrl-D.\n",
      "  warn(\"To exit: use 'exit', 'quit', or Ctrl-D.\", stacklevel=1)\n"
     ]
    }
   ],
   "source": [
    "\n",
    "import argparse\n",
    "\n",
    "# Create an ArgumentParser\n",
    "parser = argparse.ArgumentParser(description='Description of your program')\n",
    "\n",
    "# Add arguments\n",
    "parser.add_argument('--arg_name', type=str, help='Description of the argument')\n",
    "\n",
    "# Parse arguments\n",
    "args = parser.parse_args()\n",
    "\n",
    "# Access argument values\n",
    "if args.arg_name:\n",
    "    print(\"Argument value:\", args.arg_name)\n",
    "else:\n",
    "    print(\"Argument not provided.\")\n"
   ]
  },
  {
   "cell_type": "code",
   "execution_count": 37,
   "metadata": {},
   "outputs": [
    {
     "name": "stderr",
     "output_type": "stream",
     "text": [
      "2023-10-10 17:02:25,737 - DEBUG - This is a debug message\n",
      "2023-10-10 17:02:25,739 - INFO - This is an info message\n",
      "2023-10-10 17:02:25,740 - WARNING - This is a warning message\n",
      "2023-10-10 17:02:25,742 - ERROR - This is an error message\n",
      "2023-10-10 17:02:25,743 - CRITICAL - This is a critical message\n"
     ]
    }
   ],
   "source": [
    "# Using logging for Logging:\n",
    "import logging\n",
    "\n",
    "# Basic configuration\n",
    "logging.basicConfig(level=logging.DEBUG, format='%(asctime)s - %(levelname)s - %(message)s')\n",
    "\n",
    "# Logging levels\n",
    "logging.debug(\"This is a debug message\")\n",
    "logging.info(\"This is an info message\")\n",
    "logging.warning(\"This is a warning message\")\n",
    "logging.error(\"This is an error message\")\n",
    "logging.critical(\"This is a critical message\")\n"
   ]
  },
  {
   "cell_type": "markdown",
   "metadata": {},
   "source": [
    "### Environment Variables "
   ]
  },
  {
   "cell_type": "code",
   "execution_count": 38,
   "metadata": {},
   "outputs": [
    {
     "data": {
      "text/plain": [
       "\"\\nEnvironment Variables \\n┣    import os \\n┣    Get an environment variable: os.environ.get('VAR_NAME') \\n┗    Set an environment variable: os.environ['VAR_NAME'] = 'value'  \\n\""
      ]
     },
     "execution_count": 38,
     "metadata": {},
     "output_type": "execute_result"
    }
   ],
   "source": [
    "'''\n",
    "Environment Variables \n",
    "┣    import os \n",
    "┣    Get an environment variable: os.environ.get('VAR_NAME') \n",
    "┗    Set an environment variable: os.environ['VAR_NAME'] = 'value'  \n",
    "'''"
   ]
  },
  {
   "cell_type": "code",
   "execution_count": 39,
   "metadata": {},
   "outputs": [
    {
     "name": "stdout",
     "output_type": "stream",
     "text": [
      "VAR_NAME is not set.\n"
     ]
    }
   ],
   "source": [
    "# 1.Getting an Environment Variable:\n",
    "import os\n",
    "\n",
    "# Get the value of an environment variable\n",
    "var_value = os.environ.get('VAR_NAME')\n",
    "\n",
    "if var_value:\n",
    "    print(f\"The value of VAR_NAME is: {var_value}\")\n",
    "else:\n",
    "    print(\"VAR_NAME is not set.\")\n"
   ]
  },
  {
   "cell_type": "code",
   "execution_count": 40,
   "metadata": {},
   "outputs": [
    {
     "name": "stdout",
     "output_type": "stream",
     "text": [
      "VAR_NAME is now set to: new_value\n"
     ]
    }
   ],
   "source": [
    "# 2.Setting an Environment Variable:\n",
    "import os\n",
    "\n",
    "# Set the value of an environment variable\n",
    "os.environ['VAR_NAME'] = 'new_value'\n",
    "\n",
    "# Verify that the variable has been set\n",
    "var_value = os.environ.get('VAR_NAME')\n",
    "\n",
    "if var_value:\n",
    "    print(f\"VAR_NAME is now set to: {var_value}\")\n",
    "else:\n",
    "    print(\"VAR_NAME is not set.\")\n"
   ]
  },
  {
   "cell_type": "code",
   "execution_count": null,
   "metadata": {},
   "outputs": [],
   "source": []
  },
  {
   "cell_type": "code",
   "execution_count": null,
   "metadata": {},
   "outputs": [],
   "source": []
  },
  {
   "cell_type": "code",
   "execution_count": null,
   "metadata": {},
   "outputs": [],
   "source": []
  },
  {
   "cell_type": "code",
   "execution_count": null,
   "metadata": {},
   "outputs": [],
   "source": []
  },
  {
   "cell_type": "code",
   "execution_count": null,
   "metadata": {},
   "outputs": [],
   "source": []
  },
  {
   "cell_type": "code",
   "execution_count": null,
   "metadata": {},
   "outputs": [],
   "source": []
  },
  {
   "cell_type": "code",
   "execution_count": null,
   "metadata": {},
   "outputs": [],
   "source": []
  },
  {
   "cell_type": "code",
   "execution_count": null,
   "metadata": {},
   "outputs": [],
   "source": []
  },
  {
   "cell_type": "code",
   "execution_count": null,
   "metadata": {},
   "outputs": [],
   "source": []
  },
  {
   "cell_type": "code",
   "execution_count": null,
   "metadata": {},
   "outputs": [],
   "source": []
  },
  {
   "cell_type": "code",
   "execution_count": null,
   "metadata": {},
   "outputs": [],
   "source": []
  },
  {
   "cell_type": "code",
   "execution_count": null,
   "metadata": {},
   "outputs": [],
   "source": []
  },
  {
   "cell_type": "code",
   "execution_count": null,
   "metadata": {},
   "outputs": [],
   "source": []
  },
  {
   "cell_type": "code",
   "execution_count": null,
   "metadata": {},
   "outputs": [],
   "source": []
  },
  {
   "cell_type": "code",
   "execution_count": null,
   "metadata": {},
   "outputs": [],
   "source": []
  },
  {
   "cell_type": "code",
   "execution_count": null,
   "metadata": {},
   "outputs": [],
   "source": []
  },
  {
   "cell_type": "code",
   "execution_count": null,
   "metadata": {},
   "outputs": [],
   "source": []
  },
  {
   "cell_type": "code",
   "execution_count": null,
   "metadata": {},
   "outputs": [],
   "source": []
  },
  {
   "cell_type": "code",
   "execution_count": null,
   "metadata": {},
   "outputs": [],
   "source": []
  },
  {
   "cell_type": "code",
   "execution_count": null,
   "metadata": {},
   "outputs": [],
   "source": []
  },
  {
   "cell_type": "code",
   "execution_count": null,
   "metadata": {},
   "outputs": [],
   "source": []
  },
  {
   "cell_type": "code",
   "execution_count": null,
   "metadata": {},
   "outputs": [],
   "source": []
  },
  {
   "cell_type": "code",
   "execution_count": null,
   "metadata": {},
   "outputs": [],
   "source": []
  },
  {
   "cell_type": "code",
   "execution_count": null,
   "metadata": {},
   "outputs": [],
   "source": []
  },
  {
   "cell_type": "code",
   "execution_count": null,
   "metadata": {},
   "outputs": [],
   "source": []
  },
  {
   "cell_type": "code",
   "execution_count": null,
   "metadata": {},
   "outputs": [],
   "source": []
  },
  {
   "cell_type": "code",
   "execution_count": null,
   "metadata": {},
   "outputs": [],
   "source": []
  },
  {
   "cell_type": "code",
   "execution_count": null,
   "metadata": {},
   "outputs": [],
   "source": []
  },
  {
   "cell_type": "code",
   "execution_count": null,
   "metadata": {},
   "outputs": [],
   "source": []
  },
  {
   "cell_type": "code",
   "execution_count": null,
   "metadata": {},
   "outputs": [],
   "source": []
  },
  {
   "cell_type": "code",
   "execution_count": null,
   "metadata": {},
   "outputs": [],
   "source": []
  },
  {
   "cell_type": "code",
   "execution_count": null,
   "metadata": {},
   "outputs": [],
   "source": []
  },
  {
   "cell_type": "code",
   "execution_count": null,
   "metadata": {},
   "outputs": [],
   "source": []
  },
  {
   "cell_type": "code",
   "execution_count": null,
   "metadata": {},
   "outputs": [],
   "source": []
  },
  {
   "cell_type": "code",
   "execution_count": null,
   "metadata": {},
   "outputs": [],
   "source": []
  },
  {
   "cell_type": "code",
   "execution_count": null,
   "metadata": {},
   "outputs": [],
   "source": []
  },
  {
   "cell_type": "code",
   "execution_count": null,
   "metadata": {},
   "outputs": [],
   "source": []
  },
  {
   "cell_type": "code",
   "execution_count": null,
   "metadata": {},
   "outputs": [],
   "source": []
  },
  {
   "cell_type": "code",
   "execution_count": null,
   "metadata": {},
   "outputs": [],
   "source": []
  },
  {
   "cell_type": "code",
   "execution_count": null,
   "metadata": {},
   "outputs": [],
   "source": []
  },
  {
   "cell_type": "code",
   "execution_count": null,
   "metadata": {},
   "outputs": [],
   "source": []
  },
  {
   "cell_type": "code",
   "execution_count": null,
   "metadata": {},
   "outputs": [],
   "source": []
  },
  {
   "cell_type": "code",
   "execution_count": null,
   "metadata": {},
   "outputs": [],
   "source": []
  },
  {
   "cell_type": "code",
   "execution_count": null,
   "metadata": {},
   "outputs": [],
   "source": []
  },
  {
   "cell_type": "code",
   "execution_count": null,
   "metadata": {},
   "outputs": [],
   "source": []
  },
  {
   "cell_type": "code",
   "execution_count": null,
   "metadata": {},
   "outputs": [],
   "source": []
  },
  {
   "cell_type": "code",
   "execution_count": null,
   "metadata": {},
   "outputs": [],
   "source": []
  },
  {
   "cell_type": "code",
   "execution_count": null,
   "metadata": {},
   "outputs": [],
   "source": []
  },
  {
   "cell_type": "code",
   "execution_count": null,
   "metadata": {},
   "outputs": [],
   "source": []
  },
  {
   "cell_type": "code",
   "execution_count": null,
   "metadata": {},
   "outputs": [],
   "source": []
  },
  {
   "cell_type": "code",
   "execution_count": null,
   "metadata": {},
   "outputs": [],
   "source": []
  },
  {
   "cell_type": "code",
   "execution_count": null,
   "metadata": {},
   "outputs": [],
   "source": []
  },
  {
   "cell_type": "code",
   "execution_count": null,
   "metadata": {},
   "outputs": [],
   "source": []
  },
  {
   "cell_type": "code",
   "execution_count": null,
   "metadata": {},
   "outputs": [],
   "source": []
  },
  {
   "cell_type": "code",
   "execution_count": null,
   "metadata": {},
   "outputs": [],
   "source": []
  },
  {
   "cell_type": "code",
   "execution_count": null,
   "metadata": {},
   "outputs": [],
   "source": []
  },
  {
   "cell_type": "code",
   "execution_count": null,
   "metadata": {},
   "outputs": [],
   "source": []
  },
  {
   "cell_type": "code",
   "execution_count": null,
   "metadata": {},
   "outputs": [],
   "source": []
  },
  {
   "cell_type": "code",
   "execution_count": null,
   "metadata": {},
   "outputs": [],
   "source": []
  },
  {
   "cell_type": "code",
   "execution_count": null,
   "metadata": {},
   "outputs": [],
   "source": []
  },
  {
   "cell_type": "code",
   "execution_count": null,
   "metadata": {},
   "outputs": [],
   "source": []
  },
  {
   "cell_type": "code",
   "execution_count": null,
   "metadata": {},
   "outputs": [],
   "source": []
  },
  {
   "cell_type": "code",
   "execution_count": null,
   "metadata": {},
   "outputs": [],
   "source": []
  },
  {
   "cell_type": "code",
   "execution_count": null,
   "metadata": {},
   "outputs": [],
   "source": []
  },
  {
   "cell_type": "code",
   "execution_count": null,
   "metadata": {},
   "outputs": [],
   "source": []
  },
  {
   "cell_type": "code",
   "execution_count": null,
   "metadata": {},
   "outputs": [],
   "source": []
  },
  {
   "cell_type": "code",
   "execution_count": null,
   "metadata": {},
   "outputs": [],
   "source": []
  },
  {
   "cell_type": "code",
   "execution_count": null,
   "metadata": {},
   "outputs": [],
   "source": []
  },
  {
   "cell_type": "code",
   "execution_count": null,
   "metadata": {},
   "outputs": [],
   "source": []
  },
  {
   "cell_type": "code",
   "execution_count": null,
   "metadata": {},
   "outputs": [],
   "source": []
  },
  {
   "cell_type": "code",
   "execution_count": null,
   "metadata": {},
   "outputs": [],
   "source": []
  },
  {
   "cell_type": "code",
   "execution_count": null,
   "metadata": {},
   "outputs": [],
   "source": []
  },
  {
   "cell_type": "code",
   "execution_count": null,
   "metadata": {},
   "outputs": [],
   "source": []
  },
  {
   "cell_type": "code",
   "execution_count": null,
   "metadata": {},
   "outputs": [],
   "source": []
  },
  {
   "cell_type": "code",
   "execution_count": null,
   "metadata": {},
   "outputs": [],
   "source": []
  },
  {
   "cell_type": "code",
   "execution_count": null,
   "metadata": {},
   "outputs": [],
   "source": []
  },
  {
   "cell_type": "code",
   "execution_count": null,
   "metadata": {},
   "outputs": [],
   "source": []
  },
  {
   "cell_type": "code",
   "execution_count": null,
   "metadata": {},
   "outputs": [],
   "source": []
  },
  {
   "cell_type": "code",
   "execution_count": null,
   "metadata": {},
   "outputs": [],
   "source": []
  },
  {
   "cell_type": "code",
   "execution_count": null,
   "metadata": {},
   "outputs": [],
   "source": []
  },
  {
   "cell_type": "code",
   "execution_count": null,
   "metadata": {},
   "outputs": [],
   "source": []
  },
  {
   "cell_type": "code",
   "execution_count": null,
   "metadata": {},
   "outputs": [],
   "source": []
  },
  {
   "cell_type": "code",
   "execution_count": null,
   "metadata": {},
   "outputs": [],
   "source": []
  }
 ],
 "metadata": {
  "kernelspec": {
   "display_name": "Python 3",
   "language": "python",
   "name": "python3"
  },
  "language_info": {
   "codemirror_mode": {
    "name": "ipython",
    "version": 3
   },
   "file_extension": ".py",
   "mimetype": "text/x-python",
   "name": "python",
   "nbconvert_exporter": "python",
   "pygments_lexer": "ipython3",
   "version": "3.7.6"
  }
 },
 "nbformat": 4,
 "nbformat_minor": 4
}
