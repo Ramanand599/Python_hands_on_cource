{
 "cells": [
  {
   "cell_type": "code",
   "execution_count": 1,
   "metadata": {},
   "outputs": [
    {
     "data": {
      "text/plain": [
       "25"
      ]
     },
     "execution_count": 1,
     "metadata": {},
     "output_type": "execute_result"
    }
   ],
   "source": [
    "# Square of a number\n",
    "square=lambda x:x**2\n",
    "square(5)"
   ]
  },
  {
   "cell_type": "code",
   "execution_count": 2,
   "metadata": {},
   "outputs": [
    {
     "data": {
      "text/plain": [
       "11"
      ]
     },
     "execution_count": 2,
     "metadata": {},
     "output_type": "execute_result"
    }
   ],
   "source": [
    "# Add two numbers:\n",
    "add=lambda x,y:x+y\n",
    "add(5,6)"
   ]
  },
  {
   "cell_type": "code",
   "execution_count": 3,
   "metadata": {},
   "outputs": [
    {
     "data": {
      "text/plain": [
       "False"
      ]
     },
     "execution_count": 3,
     "metadata": {},
     "output_type": "execute_result"
    }
   ],
   "source": [
    "# Check if a number is even:\n",
    "even=lambda x:x%2==0\n",
    "even(3)"
   ]
  },
  {
   "cell_type": "code",
   "execution_count": 4,
   "metadata": {},
   "outputs": [
    {
     "data": {
      "text/plain": [
       "5"
      ]
     },
     "execution_count": 4,
     "metadata": {},
     "output_type": "execute_result"
    }
   ],
   "source": [
    "# Find the maximum of two numbers:\n",
    "max=lambda x,y:x if x>y else y\n",
    "max(4,5)"
   ]
  },
  {
   "cell_type": "code",
   "execution_count": 5,
   "metadata": {},
   "outputs": [
    {
     "data": {
      "text/plain": [
       "'gniK'"
      ]
     },
     "execution_count": 5,
     "metadata": {},
     "output_type": "execute_result"
    }
   ],
   "source": [
    "#Reverse a string:\n",
    "reverce=lambda x:x[::-1]\n",
    "reverce(\"King\")"
   ]
  },
  {
   "cell_type": "code",
   "execution_count": 8,
   "metadata": {},
   "outputs": [
    {
     "data": {
      "text/plain": [
       "[9, 6, 5, 5, 5, 4, 3, 3, 2, 1, 1]"
      ]
     },
     "execution_count": 8,
     "metadata": {},
     "output_type": "execute_result"
    }
   ],
   "source": [
    "# Sort a list of numbers in descending order:\n",
    "numbers = [3, 1, 4, 1, 5, 9, 2, 6, 5, 3, 5]\n",
    "desc=sorted(numbers,key=lambda x:-x)\n",
    "desc"
   ]
  },
  {
   "cell_type": "code",
   "execution_count": 10,
   "metadata": {},
   "outputs": [
    {
     "name": "stdout",
     "output_type": "stream",
     "text": [
      "['date', 'apple', 'banana', 'cherry', 'elderberry']\n"
     ]
    }
   ],
   "source": [
    "# Sort a list of strings by their length:\n",
    "words = [\"apple\", \"banana\", \"cherry\", \"date\", \"elderberry\"]\n",
    "sorted_list=sorted(words,key=lambda word:len(word))\n",
    "print(sorted_list)"
   ]
  },
  {
   "cell_type": "code",
   "execution_count": 12,
   "metadata": {},
   "outputs": [
    {
     "data": {
      "text/plain": [
       "30"
      ]
     },
     "execution_count": 12,
     "metadata": {},
     "output_type": "execute_result"
    }
   ],
   "source": [
    "#Calculate the area of a rectangle:\n",
    "rect=lambda length,width:length*width\n",
    "rect(5,6)"
   ]
  },
  {
   "cell_type": "code",
   "execution_count": 14,
   "metadata": {},
   "outputs": [
    {
     "data": {
      "text/plain": [
       "[2, 4, 6, 8, 10]"
      ]
     },
     "execution_count": 14,
     "metadata": {},
     "output_type": "execute_result"
    }
   ],
   "source": [
    "#Filter out even numbers from a list:\n",
    "numbers = [1, 2, 3, 4, 5, 6, 7, 8, 9, 10]\n",
    "even=list(filter(lambda x:x%2==0,numbers))\n",
    "even"
   ]
  },
  {
   "cell_type": "code",
   "execution_count": 15,
   "metadata": {},
   "outputs": [
    {
     "name": "stdout",
     "output_type": "stream",
     "text": [
      "[2, 5, 10, 17, 26]\n"
     ]
    }
   ],
   "source": [
    "# Perform a custom operation on a list of numbers:\n",
    "number=[1,2,3,4,5]\n",
    "operation=lambda x:x**2+1\n",
    "print(list(map(operation,number)))"
   ]
  },
  {
   "cell_type": "code",
   "execution_count": 18,
   "metadata": {},
   "outputs": [
    {
     "name": "stdout",
     "output_type": "stream",
     "text": [
      "120\n"
     ]
    }
   ],
   "source": [
    "#Find the factorial of a number using a lambda function and functools.reduce (Python 3.x)\n",
    "from functools import reduce\n",
    "factorial=lambda n:reduce(lambda x,y:x*y,range(1,n+1)) if n>0 else 1\n",
    "print(factorial(5))"
   ]
  },
  {
   "cell_type": "code",
   "execution_count": 20,
   "metadata": {},
   "outputs": [
    {
     "name": "stdout",
     "output_type": "stream",
     "text": [
      "55\n"
     ]
    }
   ],
   "source": [
    "#Calculate the nth Fibonacci number using a lambda function and recursion:\n",
    "fibonacci = (lambda f: lambda x: x if x <= 1 else f(f)(x - 1) + f(f)(x - 2))(lambda f: lambda x: x if x <= 1 else f(f)(x - 1) + f(f)(x - 2))\n",
    "print(fibonacci(10)) "
   ]
  },
  {
   "cell_type": "code",
   "execution_count": 22,
   "metadata": {},
   "outputs": [
    {
     "name": "stdout",
     "output_type": "stream",
     "text": [
      "[(3, 8), (1, 5), (2, 3), (4, 1)]\n"
     ]
    }
   ],
   "source": [
    "# Sort a list of tuples by the second element in descending order:\n",
    "points = [(1, 5), (2, 3), (3, 8), (4, 1)]\n",
    "sorted_point=sorted(points,key=lambda x:-x[1])\n",
    "print(sorted_point)"
   ]
  },
  {
   "cell_type": "code",
   "execution_count": 26,
   "metadata": {},
   "outputs": [
    {
     "name": "stdout",
     "output_type": "stream",
     "text": [
      "Counter({'This': 2, 'is': 2, 'a': 2, 'sample': 2, 'text': 1, 'with': 1, 'some': 1, 'words.': 1, 'test.': 1})\n"
     ]
    }
   ],
   "source": [
    "# Count the occurrences of each word in a text using a lambda function and collections.Counter:\n",
    "import collections\n",
    "text = \"This is a sample text with some sample words. This is a test.\"\n",
    "word_count=lambda text:collections.Counter(text.split())\n",
    "count=word_count(text)\n",
    "print(count)"
   ]
  },
  {
   "cell_type": "code",
   "execution_count": 28,
   "metadata": {},
   "outputs": [
    {
     "name": "stdout",
     "output_type": "stream",
     "text": [
      "385\n"
     ]
    }
   ],
   "source": [
    "# Calculate the sum of even squares of numbers from 1 to 10 using sum and a lambda function:\n",
    "even_squares_sum = sum((lambda n: (n * n for n in range(1, 11)))(10))\n",
    "print(even_squares_sum) "
   ]
  },
  {
   "cell_type": "code",
   "execution_count": 29,
   "metadata": {},
   "outputs": [
    {
     "name": "stdout",
     "output_type": "stream",
     "text": [
      "[4, 5]\n"
     ]
    }
   ],
   "source": [
    "#Find the common elements between two lists using a lambda function and filter:\n",
    "list1 = [1, 2, 3, 4, 5]\n",
    "list2 = [4, 5, 6, 7, 8]\n",
    "common_elements=list(filter(lambda x:x in list1,list2))\n",
    "print(common_elements)"
   ]
  }
 ],
 "metadata": {
  "kernelspec": {
   "display_name": "Python 3",
   "language": "python",
   "name": "python3"
  },
  "language_info": {
   "codemirror_mode": {
    "name": "ipython",
    "version": 3
   },
   "file_extension": ".py",
   "mimetype": "text/x-python",
   "name": "python",
   "nbconvert_exporter": "python",
   "pygments_lexer": "ipython3",
   "version": "3.7.6"
  }
 },
 "nbformat": 4,
 "nbformat_minor": 4
}
