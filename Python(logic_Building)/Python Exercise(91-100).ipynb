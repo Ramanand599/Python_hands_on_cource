{
 "cells": [
  {
   "cell_type": "markdown",
   "metadata": {},
   "source": [
    "## Python Exercise"
   ]
  },
  {
   "cell_type": "markdown",
   "metadata": {},
   "source": [
    "### Question 91\n",
    "Please write a program which accepts a string from console and print it in reverse order.*\n",
    "\n",
    "Example:\n",
    "\n",
    "If the following string is given as input to the program:\n",
    "\n",
    "rise to vote sir\n",
    "\n",
    "Then, the output of the program should be:\n",
    "\n",
    "ris etov ot esir\n",
    "\n",
    "Hints\n",
    "\n",
    "Use list[::-1] to iterate a list in a reverse order."
   ]
  },
  {
   "cell_type": "code",
   "execution_count": 1,
   "metadata": {},
   "outputs": [
    {
     "name": "stdout",
     "output_type": "stream",
     "text": [
      "rise to vote sir\n"
     ]
    },
    {
     "data": {
      "text/plain": [
       "'ris etov ot esir'"
      ]
     },
     "execution_count": 1,
     "metadata": {},
     "output_type": "execute_result"
    }
   ],
   "source": [
    "s=input()\n",
    "s=\"\".join(reversed(s))\n",
    "s"
   ]
  },
  {
   "cell_type": "code",
   "execution_count": 2,
   "metadata": {},
   "outputs": [
    {
     "name": "stdout",
     "output_type": "stream",
     "text": [
      "rise to vote sir\n",
      "sir vote to rise\n"
     ]
    }
   ],
   "source": [
    "s=input()\n",
    "#lst=list(s.split(\" \"))\n",
    "lst_rev=[x[::-1] for x in s[::-1].split(\" \")]\n",
    "print(\" \".join(lst_rev))"
   ]
  },
  {
   "cell_type": "code",
   "execution_count": 3,
   "metadata": {},
   "outputs": [
    {
     "name": "stdout",
     "output_type": "stream",
     "text": [
      "rise to vote sir\n"
     ]
    },
    {
     "data": {
      "text/plain": [
       "'ris etov ot esir'"
      ]
     },
     "execution_count": 3,
     "metadata": {},
     "output_type": "execute_result"
    }
   ],
   "source": [
    "s=input()\n",
    "s=s[::-1]\n",
    "s"
   ]
  },
  {
   "cell_type": "markdown",
   "metadata": {},
   "source": [
    "### Question 92\n",
    "Please write a program which accepts a string from console and print the characters that have even indexes.\n",
    "\n",
    "Example:\n",
    "\n",
    "If the following string is given as input to the program:\n",
    "\n",
    "H1e2l3l4o5w6o7r8l9d\n",
    "\n",
    "Then, the output of the program should be:\n",
    "\n",
    "Helloworld\n",
    "\n",
    "Hints\n",
    "\n",
    "Use list[::2] to iterate a list by step 2."
   ]
  },
  {
   "cell_type": "code",
   "execution_count": 6,
   "metadata": {},
   "outputs": [
    {
     "name": "stdout",
     "output_type": "stream",
     "text": [
      "H1e2l3l4o5w6o7r8l9d\n"
     ]
    },
    {
     "data": {
      "text/plain": [
       "'Helloworld'"
      ]
     },
     "execution_count": 6,
     "metadata": {},
     "output_type": "execute_result"
    }
   ],
   "source": [
    "s=input()\n",
    "s=s[::2]\n",
    "s"
   ]
  },
  {
   "cell_type": "code",
   "execution_count": 8,
   "metadata": {},
   "outputs": [
    {
     "name": "stdout",
     "output_type": "stream",
     "text": [
      "Helloworld\n"
     ]
    }
   ],
   "source": [
    "s=\"H1e2l3l4o5w6o7r8l9d\"\n",
    "s=[x for (i,x) in enumerate(s) if i%2==0]\n",
    "print(\"\".join(s))"
   ]
  },
  {
   "cell_type": "markdown",
   "metadata": {},
   "source": [
    "### Question 93\n",
    "Please write a program which prints all permutations of [1,2,3]\n",
    "\n",
    "Hints\n",
    "\n",
    "Use itertools.permutations() to get permutations of list."
   ]
  },
  {
   "cell_type": "code",
   "execution_count": 13,
   "metadata": {},
   "outputs": [
    {
     "name": "stdout",
     "output_type": "stream",
     "text": [
      "{(3, 1, 2), (1, 3, 2), (3, 2, 1), (2, 3, 1), (1, 2, 3), (2, 1, 3)}\n"
     ]
    }
   ],
   "source": [
    "import itertools\n",
    "print(set(itertools.permutations([1,2,3])))"
   ]
  },
  {
   "cell_type": "markdown",
   "metadata": {},
   "source": [
    "### Question 94\n",
    "Write a program to solve a classic ancient Chinese puzzle:\n",
    "\n",
    "We count 35 heads and 94 legs among the chickens and rabbits in a farm. How many rabbits and how many chickens do we have?"
   ]
  },
  {
   "cell_type": "code",
   "execution_count": 14,
   "metadata": {},
   "outputs": [
    {
     "data": {
      "text/plain": [
       "(23, 12)"
      ]
     },
     "execution_count": 14,
     "metadata": {},
     "output_type": "execute_result"
    }
   ],
   "source": [
    "numheads=35\n",
    "numlegs=94\n",
    "def solve(numheads,numlegs):\n",
    "    ns=\"No Solution!\"\n",
    "    for i in range(numheads+1):\n",
    "        j=numheads-i\n",
    "        if 2*i+4*j==numlegs:\n",
    "            return i,j\n",
    "    return ns,ns\n",
    "\n",
    "solution=solve(numheads,numlegs)\n",
    "solution"
   ]
  },
  {
   "cell_type": "markdown",
   "metadata": {},
   "source": [
    "### Question 95\n",
    "Given the participants' score sheet for your University Sports Day, you are required to find the runner-up score. You are given scores. Store them in a list and find the score of the runner-up.\n",
    "\n",
    "If the following string is given as input to the program:\n",
    "\n",
    "5\n",
    "2 3 6 6 5\n",
    "\n",
    "Then, the output of the program should be:\n",
    "\n",
    "5\n",
    "\n",
    "Hints\n",
    "\n",
    "Make the scores unique and then find 2nd best number"
   ]
  },
  {
   "cell_type": "code",
   "execution_count": 18,
   "metadata": {},
   "outputs": [
    {
     "name": "stdout",
     "output_type": "stream",
     "text": [
      "5\n",
      "2 3 6 6 5\n"
     ]
    },
    {
     "data": {
      "text/plain": [
       "5"
      ]
     },
     "execution_count": 18,
     "metadata": {},
     "output_type": "execute_result"
    }
   ],
   "source": [
    "n=int(input())\n",
    "arr=map(int,input().split())\n",
    "arr=list(set(arr))\n",
    "sorted(arr)[-2]"
   ]
  },
  {
   "cell_type": "markdown",
   "metadata": {},
   "source": [
    "### Question 96\n",
    "You are given a string S and width W.\n",
    "\n",
    "Your task is to wrap the string into a paragraph of width.\n",
    "\n",
    "If the following string is given as input to the program:\n",
    "\n",
    "ABCDEFGHIJKLIMNOQRSTUVWXYZ\n",
    "\n",
    "4\n",
    "\n",
    "Then, the output of the program should be:\n",
    "\n",
    "ABCD\n",
    "EFGH\n",
    "IJKL\n",
    "IMNO\n",
    "QRST\n",
    "UVWX\n",
    "YZ\n",
    "Hints\n",
    "\n",
    "Use wrap function of textwrap module"
   ]
  },
  {
   "cell_type": "code",
   "execution_count": 22,
   "metadata": {},
   "outputs": [
    {
     "name": "stdout",
     "output_type": "stream",
     "text": [
      "ABCDEFGHIJKLIMNOQRSTUVWXYZ\n",
      "4\n",
      "ABCD\n",
      "EFGH\n",
      "IJKL\n",
      "IMNO\n",
      "QRST\n",
      "UVWX\n",
      "YZ\n"
     ]
    }
   ],
   "source": [
    "import textwrap\n",
    "def wrep(string,width):\n",
    "    string=textwrap.wrap(string,width)\n",
    "    string=\"\\n\".join(string)\n",
    "    return string\n",
    "if __name__==\"__main__\":\n",
    "    string,width=input(),int(input())\n",
    "    result=wrep(string,width)\n",
    "    print(result)"
   ]
  },
  {
   "cell_type": "code",
   "execution_count": 1,
   "metadata": {},
   "outputs": [
    {
     "name": "stdout",
     "output_type": "stream",
     "text": [
      "ABCDEFGHIJKLIMNOQRSTUVWXYZ\n",
      "4\n",
      "[('A', 'B', 'C', 'D'), ('E', 'F', 'G', 'H'), ('I', 'J', 'K', 'L'), ('I', 'M', 'N', 'O'), ('Q', 'R', 'S', 'T'), ('U', 'V', 'W', 'X'), ('Y', 'Z', None, None)]\n"
     ]
    }
   ],
   "source": [
    "import itertools as it\n",
    "\n",
    "def grouper(lst, n, fillvalue=None):\n",
    "    iters = [iter(lst)] * n\n",
    "    return it.zip_longest(*iters, fillvalue=fillvalue)  #  默认就是None\n",
    "string, max_width = input(), int(input())\n",
    "result = grouper(string, max_width)\n",
    "print(list(result))"
   ]
  },
  {
   "cell_type": "code",
   "execution_count": null,
   "metadata": {},
   "outputs": [],
   "source": []
  }
 ],
 "metadata": {
  "kernelspec": {
   "display_name": "Python 3",
   "language": "python",
   "name": "python3"
  },
  "language_info": {
   "codemirror_mode": {
    "name": "ipython",
    "version": 3
   },
   "file_extension": ".py",
   "mimetype": "text/x-python",
   "name": "python",
   "nbconvert_exporter": "python",
   "pygments_lexer": "ipython3",
   "version": "3.7.6"
  }
 },
 "nbformat": 4,
 "nbformat_minor": 4
}
