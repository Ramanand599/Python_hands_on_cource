{
 "cells": [
  {
   "cell_type": "markdown",
   "id": "b7d5854c",
   "metadata": {},
   "source": [
    "### check whether the string is Symmetrical or Palindrome"
   ]
  },
  {
   "cell_type": "code",
   "execution_count": 8,
   "id": "a9bacfa3",
   "metadata": {},
   "outputs": [
    {
     "name": "stdout",
     "output_type": "stream",
     "text": [
      "The string is not palindrom\n",
      "False\n",
      "The string is symmetrical\n",
      "True\n"
     ]
    }
   ],
   "source": [
    "def palindrom(string):\n",
    "    result=string == string[::-1]\n",
    "    if result==True:\n",
    "        print(\"The string is Palindrom\")\n",
    "    else:\n",
    "        print(\"The string is not palindrom\")\n",
    "    return result  \n",
    "\n",
    "def Symmetrical(string):\n",
    "    result= string==string\n",
    "    if result == True:\n",
    "        print(\"The string is symmetrical\")\n",
    "    else:\n",
    "        print(\"The string is not Symmetrical\")\n",
    "    return result\n",
    "\n",
    "string=\"chacha\"\n",
    "print(palindrom(string))\n",
    "print(Symmetrical(string))"
   ]
  },
  {
   "cell_type": "code",
   "execution_count": 9,
   "id": "d8058ef1",
   "metadata": {},
   "outputs": [
    {
     "name": "stdout",
     "output_type": "stream",
     "text": [
      "The sting is symmtric\n",
      "The sting is Palindrom\n"
     ]
    }
   ],
   "source": [
    "string=\"amaama\"\n",
    "half=int(len(string)/2)\n",
    "f_half=string[:half]\n",
    "s_half=string[half:]\n",
    "# Symmteric\n",
    "if f_half == s_half:\n",
    "    print(\"The sting is symmtric\")\n",
    "else:\n",
    "    print(\"The string is not Symmtric\")\n",
    "    \n",
    "    \n",
    "# Palindrom\n",
    "if f_half == s_half[::-1]:\n",
    "    print(\"The sting is Palindrom\")\n",
    "else:\n",
    "    print(\"The string is not Palindrom\")"
   ]
  },
  {
   "cell_type": "code",
   "execution_count": 12,
   "id": "e3fd3bc0",
   "metadata": {},
   "outputs": [
    {
     "name": "stdout",
     "output_type": "stream",
     "text": [
      "String is not palindrom\n"
     ]
    }
   ],
   "source": [
    "string=\"amaama\"\n",
    "if string==reversed(string):\n",
    "    print(\"string is palindrom\")\n",
    "else:\n",
    "    print(\"String is not palindrom\")"
   ]
  },
  {
   "cell_type": "markdown",
   "id": "92998af8",
   "metadata": {},
   "source": [
    "### Reverse Words in a Given String in Python"
   ]
  },
  {
   "cell_type": "code",
   "execution_count": 16,
   "id": "925d99e6",
   "metadata": {},
   "outputs": [
    {
     "name": "stdout",
     "output_type": "stream",
     "text": [
      "[INFO] Original String:geeks quiz practice code\n",
      "code practice quiz geeks\n"
     ]
    }
   ],
   "source": [
    "string = \"geeks quiz practice code\"\n",
    "print(f\"[INFO] Original String:{string}\")\n",
    "s=string.split()[::-1]\n",
    "l=[]\n",
    "for i in s:\n",
    "    l.append(i)\n",
    "print(\" \".join(l))"
   ]
  },
  {
   "cell_type": "code",
   "execution_count": 18,
   "id": "1b866050",
   "metadata": {},
   "outputs": [
    {
     "data": {
      "text/plain": [
       "'code practice quiz geeks'"
      ]
     },
     "execution_count": 18,
     "metadata": {},
     "output_type": "execute_result"
    }
   ],
   "source": [
    "def reverse_sentence(sentence):\n",
    "    word=sentence.split(\" \")\n",
    "    reverse_sentence=\" \".join(reversed(word))\n",
    "    return reverse_sentence\n",
    "\n",
    "sentence=\"geeks quiz practice code\"\n",
    "reverse_sentence(sentence)"
   ]
  },
  {
   "cell_type": "markdown",
   "id": "f877d996",
   "metadata": {},
   "source": [
    "### How to Remove Letters From a String in Python"
   ]
  },
  {
   "cell_type": "code",
   "execution_count": 23,
   "id": "8dd316eb",
   "metadata": {},
   "outputs": [
    {
     "name": "stdout",
     "output_type": "stream",
     "text": [
      "After replacing original string is: GksForGks\n",
      "the string after removal of ith charecter(works): GeekForGeeks\n"
     ]
    }
   ],
   "source": [
    "test_str=\"GeeksForGeeks\"\n",
    "new_str=test_str.replace(\"e\",\"\")\n",
    "print(\"After replacing original string is:\",new_str)\n",
    "\n",
    "new_str=test_str.replace(\"s\",\"\",1)\n",
    "print(\"the string after removal of ith charecter(works):\",new_str)"
   ]
  },
  {
   "cell_type": "code",
   "execution_count": 25,
   "id": "bf1cf9be",
   "metadata": {},
   "outputs": [
    {
     "name": "stdout",
     "output_type": "stream",
     "text": [
      "GeeksForGeeks\n"
     ]
    }
   ],
   "source": [
    "string='Geeks123For123Geeks'\n",
    "print(string.translate({ord(i):None for i in \"123\"}))"
   ]
  },
  {
   "cell_type": "code",
   "execution_count": 27,
   "id": "915166ef",
   "metadata": {},
   "outputs": [
    {
     "name": "stdout",
     "output_type": "stream",
     "text": [
      "GeksForGeeks\n"
     ]
    }
   ],
   "source": [
    "string='GeeksForGeeks'\n",
    "new_str=string[:2]+string[3:]\n",
    "print(new_str)"
   ]
  },
  {
   "cell_type": "code",
   "execution_count": 30,
   "id": "ada9b80a",
   "metadata": {},
   "outputs": [
    {
     "name": "stdout",
     "output_type": "stream",
     "text": [
      "GeksForGeeks\n"
     ]
    }
   ],
   "source": [
    "test_str = \"GeeksForGeeks\"\n",
    "new_str=\"\".join([test_str[i] for i in range(len(test_str)) if i!=2])\n",
    "print(new_str)"
   ]
  },
  {
   "cell_type": "code",
   "execution_count": 31,
   "id": "67dd3028",
   "metadata": {},
   "outputs": [
    {
     "name": "stdout",
     "output_type": "stream",
     "text": [
      "hell world\n"
     ]
    }
   ],
   "source": [
    "def remove_char(s,i):\n",
    "    b=bytearray(s,\"utf-8\")\n",
    "    del b[i]\n",
    "    return b.decode()\n",
    "\n",
    "s=\"hello world\"\n",
    "i=4\n",
    "s=remove_char(s,i)\n",
    "print(s)"
   ]
  },
  {
   "cell_type": "code",
   "execution_count": 33,
   "id": "90bea35b",
   "metadata": {},
   "outputs": [
    {
     "name": "stdout",
     "output_type": "stream",
     "text": [
      "eeksforGeeks\n",
      "GeeksorGeeks\n"
     ]
    }
   ],
   "source": [
    "s=\"GeeksforGeeks\"\n",
    "s1=s.removeprefix(\"G\")\n",
    "s2=s[:5]+s[5:].removeprefix(\"f\")\n",
    "print(s1)\n",
    "print(s2)"
   ]
  },
  {
   "cell_type": "code",
   "execution_count": 34,
   "id": "e0de0971",
   "metadata": {},
   "outputs": [
    {
     "name": "stdout",
     "output_type": "stream",
     "text": [
      "5\n"
     ]
    }
   ],
   "source": [
    "str = \"geeks\"\n",
    "print(len(str))"
   ]
  },
  {
   "cell_type": "code",
   "execution_count": 35,
   "id": "0b9341b8",
   "metadata": {},
   "outputs": [
    {
     "name": "stdout",
     "output_type": "stream",
     "text": [
      "5\n"
     ]
    }
   ],
   "source": [
    "def findlen(str):\n",
    "    counter=0\n",
    "    for i in str:\n",
    "        counter += 1\n",
    "    return counter\n",
    "\n",
    "str=\"geeks\"\n",
    "print(findlen(str))"
   ]
  },
  {
   "cell_type": "code",
   "execution_count": 36,
   "id": "b36c7b87",
   "metadata": {},
   "outputs": [
    {
     "name": "stdout",
     "output_type": "stream",
     "text": [
      "5\n"
     ]
    }
   ],
   "source": [
    "import functools\n",
    "def findlen(string):\n",
    "    return functools.reduce(lambda x,y:x+1,string,0)\n",
    "string=\"geeks\"\n",
    "print(findlen(string))"
   ]
  },
  {
   "cell_type": "code",
   "execution_count": 37,
   "id": "c9d04ccb",
   "metadata": {},
   "outputs": [
    {
     "data": {
      "text/plain": [
       "5"
      ]
     },
     "execution_count": 37,
     "metadata": {},
     "output_type": "execute_result"
    }
   ],
   "source": [
    "def findlen(string):\n",
    "    return sum(1 for i in string)\n",
    "findlen(\"geeks\")"
   ]
  },
  {
   "cell_type": "code",
   "execution_count": 38,
   "id": "179a48d4",
   "metadata": {},
   "outputs": [
    {
     "name": "stdout",
     "output_type": "stream",
     "text": [
      "7\n"
     ]
    }
   ],
   "source": [
    "# string using enumerate function\n",
    "string = \"gee@1ks\"\n",
    "s = 0\n",
    "for i,v in enumerate(string):\n",
    "    s += 1\n",
    "print(s)"
   ]
  },
  {
   "cell_type": "markdown",
   "id": "560c99e9",
   "metadata": {},
   "source": [
    "### Avoid Spaces in string length"
   ]
  },
  {
   "cell_type": "code",
   "execution_count": 41,
   "id": "d1853d35",
   "metadata": {},
   "outputs": [
    {
     "name": "stdout",
     "output_type": "stream",
     "text": [
      "[INFO] Original String is:geeksforgeeks 33 is   best\n",
      "[INFO] The frequency of charecter is:21\n"
     ]
    }
   ],
   "source": [
    "test_str = 'geeksforgeeks 33 is   best'\n",
    "print(f\"[INFO] Original String is:{test_str}\")\n",
    "result=sum(not i.isspace() for i in test_str)\n",
    "print(f\"[INFO] The frequency of charecter is:{result}\")"
   ]
  },
  {
   "cell_type": "code",
   "execution_count": 43,
   "id": "39fcee25",
   "metadata": {},
   "outputs": [
    {
     "name": "stdout",
     "output_type": "stream",
     "text": [
      "[INFO] Original String is:geeksforgeeks 33 is   best\n",
      "[INFO] The frequency of charecter is:21\n"
     ]
    }
   ],
   "source": [
    "test_str = 'geeksforgeeks 33 is   best'\n",
    "print(f\"[INFO] Original String is:{test_str}\")\n",
    "result=sum(map(len,test_str.split()))\n",
    "print(f\"[INFO] The frequency of charecter is:{result}\")"
   ]
  },
  {
   "cell_type": "code",
   "execution_count": 45,
   "id": "a7808d47",
   "metadata": {},
   "outputs": [
    {
     "name": "stdout",
     "output_type": "stream",
     "text": [
      "[INFO] Original String is:geeksforgeeks 33 is   best\n",
      "[INFO] The frequency of charecter is:21\n"
     ]
    }
   ],
   "source": [
    "test_str = 'geeksforgeeks 33 is   best'\n",
    "print(f\"[INFO] Original String is:{test_str}\")\n",
    "test_str=test_str.replace(\" \",\"\")\n",
    "result=len(test_str)\n",
    "print(f\"[INFO] The frequency of charecter is:{result}\")"
   ]
  },
  {
   "cell_type": "code",
   "execution_count": 46,
   "id": "98d6600d",
   "metadata": {},
   "outputs": [
    {
     "name": "stdout",
     "output_type": "stream",
     "text": [
      "[INFO] Original String is:geeksforgeeks 33 is   best\n",
      "[INFO] The frequency of charecter is:21\n"
     ]
    }
   ],
   "source": [
    "test_str = 'geeksforgeeks 33 is   best'\n",
    "print(f\"[INFO] Original String is:{test_str}\")\n",
    "count=0\n",
    "for i in test_str:\n",
    "    if i==\" \":\n",
    "        continue\n",
    "    count +=1\n",
    "print(f\"[INFO] The frequency of charecter is:{count}\")"
   ]
  },
  {
   "cell_type": "markdown",
   "id": "3d1cdb6c",
   "metadata": {},
   "source": [
    "### Python program to print even length words in a string"
   ]
  },
  {
   "cell_type": "code",
   "execution_count": 3,
   "id": "a3eb5638",
   "metadata": {},
   "outputs": [
    {
     "name": "stdout",
     "output_type": "stream",
     "text": [
      "[INFO] Original String is:This is a python language\n",
      "This is python language "
     ]
    }
   ],
   "source": [
    "n=\"This is a python language\"\n",
    "print(f\"[INFO] Original String is:{n}\")\n",
    "n=n.split(\" \")\n",
    "for i in n:\n",
    "    if len(i)%2==0:\n",
    "        print(i,end=\" \")"
   ]
  },
  {
   "cell_type": "code",
   "execution_count": 6,
   "id": "b0044d76",
   "metadata": {},
   "outputs": [
    {
     "name": "stdout",
     "output_type": "stream",
     "text": [
      "am ramanand "
     ]
    }
   ],
   "source": [
    "def print_even_words(n):\n",
    "    n=n.split(\" \")\n",
    "    for i in n:\n",
    "        if len(i)%2==0:\n",
    "            print(i,end=\" \")\n",
    "            \n",
    "n=\"i am ramanand\"\n",
    "print_even_words(n)"
   ]
  },
  {
   "cell_type": "code",
   "execution_count": 8,
   "id": "e849e60a",
   "metadata": {},
   "outputs": [
    {
     "name": "stdout",
     "output_type": "stream",
     "text": [
      "['geek']\n"
     ]
    }
   ],
   "source": [
    "n=\"geeks for geek\"\n",
    "s=n.split(\" \")\n",
    "lst=list(filter(lambda x:(len(x)%2==0),s))\n",
    "print(lst)"
   ]
  },
  {
   "cell_type": "code",
   "execution_count": 10,
   "id": "04c376f6",
   "metadata": {},
   "outputs": [
    {
     "name": "stdout",
     "output_type": "stream",
     "text": [
      "['geek']\n"
     ]
    }
   ],
   "source": [
    "n=\"geeks for geek\"\n",
    "s=n.split(\" \")\n",
    "print([x for x in s if len(x)%2==0])"
   ]
  },
  {
   "cell_type": "code",
   "execution_count": 11,
   "id": "425d4b95",
   "metadata": {},
   "outputs": [
    {
     "name": "stdout",
     "output_type": "stream",
     "text": [
      "['geek']\n"
     ]
    }
   ],
   "source": [
    "n=\"geeks for geek\"\n",
    "s=n.split(\" \")\n",
    "print([v for i,v in enumerate(s) if len(v)%2==0])"
   ]
  },
  {
   "cell_type": "markdown",
   "id": "f46fe6a7",
   "metadata": {},
   "source": [
    "### Uppercase Half String"
   ]
  },
  {
   "cell_type": "code",
   "execution_count": 17,
   "id": "58f629c9",
   "metadata": {},
   "outputs": [
    {
     "name": "stdout",
     "output_type": "stream",
     "text": [
      "[INFO] The original string is:geeksforgeeks\n",
      "[INFO] The resultent string is :geeksfORGEEKS\n"
     ]
    }
   ],
   "source": [
    "test_str='geeksforgeeks'\n",
    "print(f\"[INFO] The original string is:{test_str}\")\n",
    "half_idx=len(test_str)//2\n",
    "result=\"\"\n",
    "for idx in range(len(test_str)):\n",
    "    if idx>=half_idx:\n",
    "        result += test_str[idx].upper()\n",
    "    else:\n",
    "        result += test_str[idx]\n",
    "        \n",
    "print(f\"[INFO] The resultent string is :{result}\")"
   ]
  },
  {
   "cell_type": "code",
   "execution_count": 20,
   "id": "e3cfba40",
   "metadata": {},
   "outputs": [
    {
     "name": "stdout",
     "output_type": "stream",
     "text": [
      "[INFO] The original string is:geeksforgeeks\n",
      "[INFO] The resultent string is :GEEKSForgeeks\n"
     ]
    }
   ],
   "source": [
    "test_str='geeksforgeeks'\n",
    "print(f\"[INFO] The original string is:{test_str}\")\n",
    "half_idx=len(test_str)//2\n",
    "result=test_str[:half_idx].upper()+test_str[half_idx:]\n",
    "print(f\"[INFO] The resultent string is :{result}\")"
   ]
  },
  {
   "cell_type": "code",
   "execution_count": 21,
   "id": "ec21288d",
   "metadata": {},
   "outputs": [
    {
     "name": "stdout",
     "output_type": "stream",
     "text": [
      "[INFO] The original string is:geeksforgeeks\n",
      "[INFO] The resultent string is :geeksfORGEEKS\n"
     ]
    }
   ],
   "source": [
    "test_str='geeksforgeeks'\n",
    "print(f\"[INFO] The original string is:{test_str}\")\n",
    "x=len(test_str)//2\n",
    "a=test_str[x:]\n",
    "b=test_str[:x]\n",
    "cap = \"ABCDEFGHIJKLMNOPQRSTUVWXYZ\"\n",
    "sma = \"abcdefghijklmnopqrstuvwxyz\"\n",
    "result=\"\"\n",
    "for i in a:\n",
    "    result += cap[sma.index(i)]\n",
    "result = b+result\n",
    "\n",
    "print(f\"[INFO] The resultent string is :{result}\")"
   ]
  },
  {
   "cell_type": "markdown",
   "id": "27949539",
   "metadata": {},
   "source": [
    "### capitalize the first and last character of each word in a string"
   ]
  },
  {
   "cell_type": "code",
   "execution_count": 23,
   "id": "47967fae",
   "metadata": {},
   "outputs": [
    {
     "name": "stdout",
     "output_type": "stream",
     "text": [
      "String before: welcome to geeksforgeeks\n",
      "String after: WelcomE TO GeeksforgeekS\n"
     ]
    }
   ],
   "source": [
    "def word_both_cap(str):\n",
    "    return \" \".join(map(lambda s:s[:-1]+s[-1].upper(),s.title().split()))\n",
    "\n",
    "s = \"welcome to geeksforgeeks\"\n",
    "print(\"String before:\", s)\n",
    "print(\"String after:\", word_both_cap(s))"
   ]
  },
  {
   "cell_type": "code",
   "execution_count": null,
   "id": "f7a2aa19",
   "metadata": {},
   "outputs": [],
   "source": []
  },
  {
   "cell_type": "code",
   "execution_count": 27,
   "id": "4957f137",
   "metadata": {},
   "outputs": [
    {
     "name": "stdout",
     "output_type": "stream",
     "text": [
      "String before: welcome to geeksforgeeks\n",
      "String After:WelcomE TO GeeksforgeekS\n"
     ]
    }
   ],
   "source": [
    "s = \"welcome to geeksforgeeks\"\n",
    "print(\"String before:\", s)\n",
    "a=s.split()\n",
    "result=[]\n",
    "for i in a:\n",
    "    x=i[0].upper()+i[1:-1]+i[-1].upper()\n",
    "    result.append(x)\n",
    "result=\" \".join(result)\n",
    "print(\"String After:\"+str(result))"
   ]
  },
  {
   "cell_type": "code",
   "execution_count": 34,
   "id": "e79adb17",
   "metadata": {},
   "outputs": [
    {
     "name": "stdout",
     "output_type": "stream",
     "text": [
      "String before: welcome to geeksforgeeks\n",
      "String After:HellO WorlD \n"
     ]
    }
   ],
   "source": [
    "test_str = \"hello world\"\n",
    "print(\"String before:\", s)\n",
    "string=\"\"\n",
    "for i in test_str.title().split():\n",
    "    string += (i[:-1]+i[-1].upper())+\" \"\n",
    "    \n",
    "print(\"String After:\"+str(string))"
   ]
  },
  {
   "cell_type": "code",
   "execution_count": 35,
   "id": "60cd9b62",
   "metadata": {},
   "outputs": [
    {
     "data": {
      "text/plain": [
       "['Hello', 'World']"
      ]
     },
     "execution_count": 35,
     "metadata": {},
     "output_type": "execute_result"
    }
   ],
   "source": [
    "test_str = \"hello world\"\n",
    "test_str.title().split()"
   ]
  },
  {
   "cell_type": "markdown",
   "id": "216e0148",
   "metadata": {},
   "source": [
    "### Python program to check if a string has at least one letter and one number"
   ]
  },
  {
   "cell_type": "code",
   "execution_count": 36,
   "id": "effdff54",
   "metadata": {},
   "outputs": [
    {
     "name": "stdout",
     "output_type": "stream",
     "text": [
      "True\n",
      "False\n"
     ]
    }
   ],
   "source": [
    "def checkString(str):\n",
    "    flag_l=False\n",
    "    flag_n=False\n",
    "    \n",
    "    for i in str:\n",
    "        if i.isalpha():\n",
    "            flag_l=True\n",
    "        if i.isdigit():\n",
    "            flag_n=True\n",
    "    return flag_l and flag_n\n",
    "print(checkString('thishasboth29'))\n",
    "print(checkString('geeksforgeeks'))"
   ]
  },
  {
   "cell_type": "code",
   "execution_count": 37,
   "id": "e9b19763",
   "metadata": {},
   "outputs": [
    {
     "name": "stdout",
     "output_type": "stream",
     "text": [
      "True\n",
      "False\n"
     ]
    }
   ],
   "source": [
    "def checkString(str):\n",
    "    flag_l=False\n",
    "    flag_n=False\n",
    "    \n",
    "    for i in str:\n",
    "        if i in \"abcdefghijklmnopqrstuvwxyz\":\n",
    "            flag_l=True\n",
    "        if i in \"0123456789\":\n",
    "            flag_n=True\n",
    "    return flag_l and flag_n\n",
    "print(checkString('thishasboth29'))\n",
    "print(checkString('geeksforgeeks'))"
   ]
  },
  {
   "cell_type": "markdown",
   "id": "28970e03",
   "metadata": {},
   "source": [
    "### Python Program to Accept the Strings Which Contains all Vowels"
   ]
  },
  {
   "cell_type": "code",
   "execution_count": 40,
   "id": "e34973f6",
   "metadata": {},
   "outputs": [
    {
     "name": "stdout",
     "output_type": "stream",
     "text": [
      "Accepted\n"
     ]
    }
   ],
   "source": [
    "def check(string):\n",
    "    string=string.lower()\n",
    "    vowel=set(\"aeiou\")\n",
    "    s=set({})\n",
    "    for char in string:\n",
    "        if char in vowel:\n",
    "            s.add(char)\n",
    "        else:\n",
    "            pass\n",
    "        \n",
    "    if len(s)==len(vowel):\n",
    "        print(\"Accepted\")\n",
    "    else:\n",
    "        print(\"Not Accepted\")\n",
    "        \n",
    "        \n",
    "string=\"SEEquoiaL\"\n",
    "check(string)"
   ]
  },
  {
   "cell_type": "code",
   "execution_count": 42,
   "id": "df13425b",
   "metadata": {},
   "outputs": [
    {
     "name": "stdout",
     "output_type": "stream",
     "text": [
      "Accepted\n"
     ]
    }
   ],
   "source": [
    "def check(string):\n",
    "    string=string.replace(\" \",\"\")\n",
    "    string=string.lower()\n",
    "    vowel=[string.count(\"a\"),string.count(\"e\"),string.count(\"i\"),string.count(\"o\"),string.count(\"u\")]\n",
    "    if vowel.count(0)>0:\n",
    "        return(\"not Accepted\")\n",
    "    else:\n",
    "        return(\"Accepted\")\n",
    "    \n",
    "string= \"SEEquoiaL\"\n",
    "print(check(string))"
   ]
  },
  {
   "cell_type": "code",
   "execution_count": 45,
   "id": "da86563b",
   "metadata": {},
   "outputs": [
    {
     "data": {
      "text/plain": [
       "True"
      ]
     },
     "execution_count": 45,
     "metadata": {},
     "output_type": "execute_result"
    }
   ],
   "source": [
    "string= \"SEEquoiaL\"\n",
    "string=string.replace(\" \",\"\")\n",
    "string=string.lower()\n",
    "vowel=[string.count(\"a\"),string.count(\"e\"),string.count(\"i\"),string.count(\"o\"),string.count(\"u\")]\n",
    "vowel.count(2)>0  "
   ]
  },
  {
   "cell_type": "code",
   "execution_count": 49,
   "id": "7966e2d5",
   "metadata": {},
   "outputs": [
    {
     "name": "stdout",
     "output_type": "stream",
     "text": [
      "Not Accepted\n"
     ]
    }
   ],
   "source": [
    "def check(string):\n",
    "    if len(set(string.lower()).intersection(\"aeiou\"))>=5:\n",
    "           return (\"Accepted\")\n",
    "    else:\n",
    "           return (\"Not Accepted\")\n",
    "           \n",
    "string=\"geeksforgeeks\"\n",
    "print(check(string))"
   ]
  },
  {
   "cell_type": "markdown",
   "id": "bcc50e4c",
   "metadata": {},
   "source": [
    "### Count the Number of matching characters in a pair of string"
   ]
  },
  {
   "cell_type": "code",
   "execution_count": 1,
   "id": "c3e51ec4",
   "metadata": {},
   "outputs": [
    {
     "name": "stdout",
     "output_type": "stream",
     "text": [
      "5\n"
     ]
    }
   ],
   "source": [
    "def commonfunc(str1,str2):\n",
    "    return (len((set(str1)).intersection(set(str2))))\n",
    "\n",
    "string1=\"VISHAV\"\n",
    "string2=\"VANSHIKA\"\n",
    "no_of_common_char=commonfunc(string1.lower(),string2.lower())\n",
    "print(no_of_common_char)"
   ]
  },
  {
   "cell_type": "code",
   "execution_count": 1,
   "id": "369e0755",
   "metadata": {},
   "outputs": [
    {
     "name": "stdout",
     "output_type": "stream",
     "text": [
      "[INFO] No of matching charecter are:5\n"
     ]
    }
   ],
   "source": [
    "def count(str1,str2):\n",
    "    char_count={}\n",
    "    for char in str1:\n",
    "        if char in char_count:\n",
    "            char_count[char] += 1\n",
    "        else:\n",
    "            char_count[char] = 1\n",
    "            \n",
    "            \n",
    "    counter = 0\n",
    "    for char in str2:\n",
    "        if char in char_count and char_count[char] > 0:\n",
    "            counter += 1\n",
    "            char_count[char] -= 1\n",
    "    print(f\"[INFO] No of matching charecter are:{counter}\")\n",
    "    \n",
    "str1 = 'aabcddekll12@'\n",
    "str2 = 'bb2211@55k'\n",
    " \n",
    "# Call the count function with the two strings.\n",
    "count(str1, str2)"
   ]
  },
  {
   "cell_type": "markdown",
   "id": "fb63740c",
   "metadata": {},
   "source": [
    "### Python program to count number of vowels using sets in given string"
   ]
  },
  {
   "cell_type": "code",
   "execution_count": 2,
   "id": "4739e71c",
   "metadata": {},
   "outputs": [
    {
     "data": {
      "text/plain": [
       "5"
      ]
     },
     "execution_count": 2,
     "metadata": {},
     "output_type": "execute_result"
    }
   ],
   "source": [
    "string = \"GeekforGeeks!\"\n",
    "vowels = \"aeiouAEIOU\"\n",
    "count=sum(string.count(vowel) for vowel in vowels)\n",
    "count"
   ]
  },
  {
   "cell_type": "code",
   "execution_count": 5,
   "id": "5abe89e3",
   "metadata": {},
   "outputs": [
    {
     "name": "stdout",
     "output_type": "stream",
     "text": [
      "No. of Vowels: 5\n"
     ]
    }
   ],
   "source": [
    "def count_vowel(string):\n",
    "    count=0\n",
    "    vowel=set(\"aeiouAEIOU\")\n",
    "    for alphabate in string:\n",
    "        if alphabate in vowel:\n",
    "            count += 1\n",
    "        \n",
    "    print(\"No. of Vowels:\",count)\n",
    "    \n",
    "string=\"GeeksforGeeks\"\n",
    "count_vowel(string)"
   ]
  },
  {
   "cell_type": "code",
   "execution_count": 6,
   "id": "b290a723",
   "metadata": {},
   "outputs": [
    {
     "name": "stdout",
     "output_type": "stream",
     "text": [
      "No. of vowels: 5\n"
     ]
    }
   ],
   "source": [
    "def count_vowel(string):\n",
    "    vowels=\"aeiouAEIOU\"\n",
    "    count=[i for i in string if i in vowels]\n",
    "    print(\"No. of vowels:\",len(count))\n",
    "    \n",
    "string=\"GeeksforGeeks\"\n",
    "count_vowel(string)"
   ]
  },
  {
   "cell_type": "code",
   "execution_count": 8,
   "id": "bdbfd108",
   "metadata": {},
   "outputs": [
    {
     "data": {
      "text/plain": [
       "5"
      ]
     },
     "execution_count": 8,
     "metadata": {},
     "output_type": "execute_result"
    }
   ],
   "source": [
    "import re\n",
    "string = \"GeeksforGeeks\"\n",
    "vowels=r'[aeiouAEIOU]'\n",
    "count=re.findall(vowels,string)\n",
    "len(count)"
   ]
  },
  {
   "cell_type": "markdown",
   "id": "558c9710",
   "metadata": {},
   "source": [
    "### Remove all duplicates from a given string in Python"
   ]
  },
  {
   "cell_type": "code",
   "execution_count": 12,
   "id": "80337f54",
   "metadata": {},
   "outputs": [
    {
     "name": "stdout",
     "output_type": "stream",
     "text": [
      "kgsrfeo\n",
      "geksfor\n"
     ]
    }
   ],
   "source": [
    "from collections import OrderedDict\n",
    "def removeDuplicatewithoutOrder(string):\n",
    "    return \"\".join(set(string))\n",
    "\n",
    "def removeDuplicatewithOrder(string):\n",
    "    return \"\".join(OrderedDict.fromkeys(string))\n",
    "string = \"geeksforgeeks\"\n",
    "print(removeDuplicatewithoutOrder(string))\n",
    "print(removeDuplicatewithOrder(string))"
   ]
  },
  {
   "cell_type": "code",
   "execution_count": 21,
   "id": "2c9b2672",
   "metadata": {},
   "outputs": [
    {
     "name": "stdout",
     "output_type": "stream",
     "text": [
      "Without Order: kgsrfeo\n",
      "With Order: geksfor\n"
     ]
    }
   ],
   "source": [
    "def removeDuplicate(str): \n",
    "    s=set(str) \n",
    "    s=\"\".join(s) \n",
    "    print(\"Without Order:\",s) \n",
    "    t=\"\" \n",
    "    for i in str: \n",
    "        if(i in t): \n",
    "            pass\n",
    "        else: \n",
    "            t=t+i \n",
    "    print(\"With Order:\",t) \n",
    "     \n",
    "str=\"geeksforgeeks\"\n",
    "removeDuplicate(str)         "
   ]
  },
  {
   "cell_type": "code",
   "execution_count": 24,
   "id": "468b9813",
   "metadata": {},
   "outputs": [
    {
     "name": "stdout",
     "output_type": "stream",
     "text": [
      "{'a': 1, 'b': 2, 'c': 3, 'd': 4, 'e': 5}\n",
      "{'a': 1, 'b': 2, 'c': 3, 'd': 4, 'e': 5}\n"
     ]
    }
   ],
   "source": [
    "from collections import OrderedDict\n",
    "ordinary_dictionary={}\n",
    "ordinary_dictionary['a'] = 1\n",
    "ordinary_dictionary['b'] = 2\n",
    "ordinary_dictionary['c'] = 3\n",
    "ordinary_dictionary['d'] = 4\n",
    "ordinary_dictionary['e'] = 5\n",
    "print(ordinary_dictionary)\n",
    "\n",
    "ordered_dictionary=OrderedDict()\n",
    "ordered_dictionary['a'] = 1\n",
    "ordered_dictionary['b'] = 2\n",
    "ordered_dictionary['c'] = 3\n",
    "ordered_dictionary['d'] = 4\n",
    "ordered_dictionary['e'] = 5\n",
    "print(ordinary_dictionary)"
   ]
  },
  {
   "cell_type": "markdown",
   "id": "a5ce131d",
   "metadata": {},
   "source": [
    "### Least Frequent Character in String"
   ]
  },
  {
   "cell_type": "code",
   "execution_count": 27,
   "id": "0ca236d3",
   "metadata": {},
   "outputs": [
    {
     "name": "stdout",
     "output_type": "stream",
     "text": [
      "The original string is : GeeksforGeeks\n",
      "The minimum of all characters in GeeksforGeeks is :  f\n"
     ]
    }
   ],
   "source": [
    "# initializing string \n",
    "test_str = \"GeeksforGeeks\"\n",
    " \n",
    "# printing original string\n",
    "print (\"The original string is : \" + test_str)\n",
    "all_freq={}\n",
    "for i in test_str:\n",
    "    if i in all_freq:\n",
    "        all_freq[i] += 1\n",
    "    else:\n",
    "        all_freq[i] = 1\n",
    "result=min(all_freq,key=all_freq.get)\n",
    "print (\"The minimum of all characters in GeeksforGeeks is : \" ,result)\n"
   ]
  },
  {
   "cell_type": "code",
   "execution_count": 30,
   "id": "665d282d",
   "metadata": {},
   "outputs": [
    {
     "name": "stdout",
     "output_type": "stream",
     "text": [
      "The Original String is : GeeksforGeeks\n",
      "[INFO] The minimum of all charecter in GeeksforGeeks is:f\n"
     ]
    }
   ],
   "source": [
    "from collections import Counter\n",
    "test_str=\"GeeksforGeeks\"\n",
    "print(\"The Original String is :\",test_str)\n",
    "result=Counter(test_str)\n",
    "result=min(result,key=result.get)\n",
    "print(f\"[INFO] The minimum of all charecter in {test_str} is:{result}\")"
   ]
  },
  {
   "cell_type": "code",
   "execution_count": 32,
   "id": "2b9498b0",
   "metadata": {},
   "outputs": [
    {
     "name": "stdout",
     "output_type": "stream",
     "text": [
      "The original string is: GeeksforGeeks\n",
      "The minimum of all characters in GeeksforGeeks is: r\n"
     ]
    }
   ],
   "source": [
    "import numpy as np\n",
    "def least_frequent_char(string):\n",
    "    freq={char:string.count(char) for char in set(string)}\n",
    "    return list(freq.keys())[np.argmin(list(freq.values()))]\n",
    "\n",
    "input_string = \"GeeksforGeeks\"\n",
    "min_char = least_frequent_char(input_string)\n",
    "print(\"The original string is:\", input_string)\n",
    "print(\"The minimum of all characters in\", input_string, \"is:\", min_char)"
   ]
  },
  {
   "cell_type": "markdown",
   "id": "d430183c",
   "metadata": {},
   "source": [
    "### Maximum frequency character in String"
   ]
  },
  {
   "cell_type": "code",
   "execution_count": 35,
   "id": "b60c190e",
   "metadata": {},
   "outputs": [
    {
     "name": "stdout",
     "output_type": "stream",
     "text": [
      "The original string is : GeeksforGeeks\n",
      "The maximum of all characters in GeeksforGeeks is :  e\n"
     ]
    }
   ],
   "source": [
    "# initializing string \n",
    "test_str = \"GeeksforGeeks\"\n",
    " \n",
    "# printing original string\n",
    "print (\"The original string is : \" + test_str)\n",
    "all_freq={}\n",
    "for i in test_str:\n",
    "    if i in all_freq:\n",
    "        all_freq[i] += 1\n",
    "    else:\n",
    "        all_freq[i] = 1\n",
    "result=max(all_freq,key=all_freq.get)\n",
    "print (\"The maximum of all characters in GeeksforGeeks is : \",result)\n"
   ]
  },
  {
   "cell_type": "code",
   "execution_count": 36,
   "id": "a4f15c64",
   "metadata": {},
   "outputs": [
    {
     "name": "stdout",
     "output_type": "stream",
     "text": [
      "GeeksforGeeks\n",
      "The maximum of all characters in GeeksforGeeks is :  e\n"
     ]
    }
   ],
   "source": [
    "from collections import Counter\n",
    "test_str = \"GeeksforGeeks\"\n",
    "print(test_str)\n",
    "\n",
    "result=Counter(test_str)\n",
    "result=max(result,key=result.get)\n",
    "print (\"The maximum of all characters in GeeksforGeeks is : \",result)\n"
   ]
  },
  {
   "cell_type": "code",
   "execution_count": 38,
   "id": "eca0f394",
   "metadata": {},
   "outputs": [
    {
     "data": {
      "text/plain": [
       "'e'"
      ]
     },
     "execution_count": 38,
     "metadata": {},
     "output_type": "execute_result"
    }
   ],
   "source": [
    "test_str = \"GeeksforGeeks\"\n",
    "result=max(test_str,key=lambda x:test_str.count(x))\n",
    "result"
   ]
  },
  {
   "cell_type": "markdown",
   "id": "ed9074ba",
   "metadata": {},
   "source": [
    "###  Odd Frequency Characters"
   ]
  },
  {
   "cell_type": "code",
   "execution_count": 40,
   "id": "599a979b",
   "metadata": {},
   "outputs": [
    {
     "name": "stdout",
     "output_type": "stream",
     "text": [
      "The original string is :  geekforgeeks is best for geeks\n",
      "The Odd Frequency Characters are : ['g', 'e', 'k', 'i', 'b', 't']\n"
     ]
    }
   ],
   "source": [
    "from collections import defaultdict\n",
    "def hlper_fnc(test_str):\n",
    "    cntr=defaultdict(int)\n",
    "    for ele in test_str:\n",
    "        cntr[ele] += 1\n",
    "    return [val for val,chr in cntr.items() if chr%2!=0]\n",
    "test_str = 'geekforgeeks is best for geeks'\n",
    " \n",
    "# printing original string\n",
    "print(\"The original string is : \" ,test_str)\n",
    " \n",
    "# Odd Frequency Characters\n",
    "# Using list comprehension + defaultdict()\n",
    "res = hlper_fnc(test_str)\n",
    " \n",
    "# printing result \n",
    "print(\"The Odd Frequency Characters are :\",res)"
   ]
  },
  {
   "cell_type": "code",
   "execution_count": 42,
   "id": "58b7df5b",
   "metadata": {},
   "outputs": [
    {
     "name": "stdout",
     "output_type": "stream",
     "text": [
      "The Original string is: geekforgeeks is best for geeks\n",
      "The odd Frequency Charecter are: ['g', 'e', 'k', 'i', 'b', 't']\n"
     ]
    }
   ],
   "source": [
    "from collections import Counter\n",
    "test_str = 'geekforgeeks is best for geeks'\n",
    "print(\"The Original string is:\",test_str)\n",
    "\n",
    "result=[val for val,count in Counter(test_str).items() if count & 1 ]\n",
    "print(\"The odd Frequency Charecter are:\",result)"
   ]
  },
  {
   "cell_type": "code",
   "execution_count": 43,
   "id": "5b59d46a",
   "metadata": {},
   "outputs": [
    {
     "name": "stdout",
     "output_type": "stream",
     "text": [
      "The Original string is: geekforgeeks is best for geeks\n",
      "The Odd frequency charecter are: ['t', 'b', 'k', 'g', 'i', 'e']\n"
     ]
    }
   ],
   "source": [
    "test_str = 'geekforgeeks is best for geeks'\n",
    "print(\"The Original string is:\",test_str)\n",
    "x=set(test_str)\n",
    "result=[]\n",
    "for i in x:\n",
    "    if test_str.count(i)%2!=0:\n",
    "        result.append(i)\n",
    "        \n",
    "print(\"The Odd frequency charecter are:\",result)"
   ]
  },
  {
   "cell_type": "code",
   "execution_count": 45,
   "id": "a3421a47",
   "metadata": {},
   "outputs": [
    {
     "name": "stdout",
     "output_type": "stream",
     "text": [
      "The Original string is: geekforgeeks is best for geeks\n",
      "The Odd frequency charecter are: ['g', 'e', 'k', 'i', 'b', 't']\n"
     ]
    }
   ],
   "source": [
    "def odd_freq_chars(test_str):\n",
    "    char_counts={}\n",
    "    for char in test_str:\n",
    "        char_counts[char]=char_counts.get(char,0)+1\n",
    "    return [char for char,count in char_counts.items() if count & 1]\n",
    "\n",
    "test_str = 'geekforgeeks is best for geeks'\n",
    "print(\"The Original string is:\",test_str)\n",
    "result=odd_freq_chars(test_str)\n",
    "print(\"The Odd frequency charecter are:\",result)"
   ]
  },
  {
   "cell_type": "markdown",
   "id": "e53a6a4f",
   "metadata": {},
   "source": [
    "### Specific Characters Frequency in String List"
   ]
  },
  {
   "cell_type": "code",
   "execution_count": 49,
   "id": "e9746b64",
   "metadata": {},
   "outputs": [
    {
     "name": "stdout",
     "output_type": "stream",
     "text": [
      "The original list is : ['geeksforgeeks is best for geeks']\n",
      "Specific Charecters Frequency: {'g': 3, 'e': 7, 'b': 1}\n"
     ]
    }
   ],
   "source": [
    "from collections import Counter\n",
    "test_list = [\"geeksforgeeks is best for geeks\"]\n",
    "print(\"The original list is :\",test_list)\n",
    "char_list=[\"e\",\"b\",\"g\"]\n",
    "result={key:val for key,val in dict(Counter(\"\".join(test_list))).items() if key in char_list}\n",
    "print(\"Specific Charecters Frequency:\",result)"
   ]
  },
  {
   "cell_type": "code",
   "execution_count": 52,
   "id": "882babbb",
   "metadata": {},
   "outputs": [
    {
     "name": "stdout",
     "output_type": "stream",
     "text": [
      "The original list is : ['geeksforgeeks is best for geeks']\n",
      "Specific Charecters Frequency: {'g': 3, 'e': 7, 'b': 1}\n"
     ]
    }
   ],
   "source": [
    "from collections import Counter\n",
    "from itertools import chain\n",
    "test_list = [\"geeksforgeeks is best for geeks\"]\n",
    "print(\"The original list is :\",test_list)\n",
    "char_list=[\"e\",\"b\",\"g\"]\n",
    "result={key:val for key,val in dict(Counter(chain.from_iterable(test_list))).items() if key in char_list}\n",
    "print(\"Specific Charecters Frequency:\",result)"
   ]
  },
  {
   "cell_type": "code",
   "execution_count": 54,
   "id": "2457a29c",
   "metadata": {},
   "outputs": [
    {
     "name": "stdout",
     "output_type": "stream",
     "text": [
      "The original list is : ['geeksforgeeks is best for geeks']\n",
      "Specific Charecters Frequency: {'e': 7, 'b': 1, 'g': 3}\n"
     ]
    }
   ],
   "source": [
    "test_list = [\"geeksforgeeks is best for geeks\"]\n",
    "print(\"The original list is :\",test_list)\n",
    "char_list=[\"e\",\"b\",\"g\"]\n",
    "d=dict()\n",
    "for i in char_list:\n",
    "    d[i]=test_list[0].count(i)\n",
    "result=d\n",
    "print(\"Specific Charecters Frequency:\",result)"
   ]
  },
  {
   "cell_type": "code",
   "execution_count": 56,
   "id": "48b8e476",
   "metadata": {},
   "outputs": [
    {
     "name": "stdout",
     "output_type": "stream",
     "text": [
      "The original list is : ['geeksforgeeks is best for geeks']\n",
      "Specific Charecters Frequency: {'e': 7, 'b': 1, 'g': 3}\n"
     ]
    }
   ],
   "source": [
    "import operator as op \n",
    "test_list=[\"geeksforgeeks is best for geeks\"]\n",
    "print(\"The original list is :\",test_list)\n",
    "char_list=[\"e\",\"b\",\"g\"]\n",
    "d=dict()\n",
    "for i in char_list:\n",
    "    d[i]=op.countOf(test_list[0],i)\n",
    "result=d\n",
    "print(\"Specific Charecters Frequency:\",result)"
   ]
  },
  {
   "cell_type": "code",
   "execution_count": 58,
   "id": "3210ba19",
   "metadata": {},
   "outputs": [
    {
     "name": "stdout",
     "output_type": "stream",
     "text": [
      "The original list is : ['geeksforgeeks is best for geeks']\n",
      "Specific Characters Frequencies :  {'g': 3, 'e': 7, 'b': 1}\n"
     ]
    }
   ],
   "source": [
    "import operator as op \n",
    "test_list=[\"geeksforgeeks is best for geeks\"]\n",
    "print(\"The original list is :\",test_list)\n",
    "char_list=[\"e\",\"b\",\"g\"]\n",
    "result={}\n",
    "for char in \"\".join(test_list):\n",
    "    if char in char_list:\n",
    "        if char in result:\n",
    "            result[char] += 1\n",
    "        else:\n",
    "            result[char] = 1\n",
    "            \n",
    "print(\"Specific Characters Frequencies : \",result)\n"
   ]
  },
  {
   "cell_type": "markdown",
   "id": "aaab7909",
   "metadata": {},
   "source": [
    "### Frequency of numbers in String"
   ]
  },
  {
   "cell_type": "code",
   "execution_count": 59,
   "id": "e1fcae67",
   "metadata": {},
   "outputs": [
    {
     "name": "stdout",
     "output_type": "stream",
     "text": [
      "The Original string is: geeks4feeks is No. 1 4 geeks\n",
      "Count of numeric in string: 3\n"
     ]
    }
   ],
   "source": [
    "import re \n",
    "test_str= \"geeks4feeks is No. 1 4 geeks\"\n",
    "print(\"The Original string is:\",test_str)\n",
    "result=len(re.findall(r\"\\d+\",test_str))\n",
    "print(\"Count of numeric in string:\",result)"
   ]
  },
  {
   "cell_type": "code",
   "execution_count": 60,
   "id": "70fbc407",
   "metadata": {},
   "outputs": [
    {
     "name": "stdout",
     "output_type": "stream",
     "text": [
      "The Original string is: geeks4feeks is No. 1 4 geeks\n",
      "Count of numeric in string: 3\n"
     ]
    }
   ],
   "source": [
    "import re \n",
    "test_str= \"geeks4feeks is No. 1 4 geeks\"\n",
    "print(\"The Original string is:\",test_str)\n",
    "result=sum(1 for _ in re.findall(r\"\\d+\",test_str))\n",
    "print(\"Count of numeric in string:\",result)"
   ]
  },
  {
   "cell_type": "code",
   "execution_count": 61,
   "id": "f45aa08c",
   "metadata": {},
   "outputs": [
    {
     "name": "stdout",
     "output_type": "stream",
     "text": [
      "The Original string is: geeks4feeks is No. 1 4 geeks\n",
      "Count of numeric in string: 3\n"
     ]
    }
   ],
   "source": [
    "test_str= \"geeks4feeks is No. 1 4 geeks\"\n",
    "print(\"The Original string is:\",test_str)\n",
    "count=0\n",
    "for i in test_str:\n",
    "    if i.isdigit():\n",
    "        count += 1\n",
    "print(\"Count of numeric in string:\",count)"
   ]
  },
  {
   "cell_type": "code",
   "execution_count": 65,
   "id": "9842d3c6",
   "metadata": {},
   "outputs": [
    {
     "name": "stdout",
     "output_type": "stream",
     "text": [
      "The Original string is: geeks4feeks is No. 1 4 geeks\n",
      "Count of numeric in string: 3\n"
     ]
    }
   ],
   "source": [
    "test_str= \"geeks4feeks is No. 1 4 geeks\"\n",
    "print(\"The Original string is:\",test_str)\n",
    "res=0\n",
    "digits=\"0123456789\"\n",
    "for i in test_str:\n",
    "    if(i in digits):\n",
    "        res+=1\n",
    "        \n",
    "print(\"Count of numeric in string:\",res)"
   ]
  },
  {
   "cell_type": "code",
   "execution_count": 66,
   "id": "fb168bdf",
   "metadata": {},
   "outputs": [
    {
     "name": "stdout",
     "output_type": "stream",
     "text": [
      "The Original string is: geeks4feeks is No. 1 4 geeks\n",
      "Count of numeric in string: 3\n"
     ]
    }
   ],
   "source": [
    "test_str= \"geeks4feeks is No. 1 4 geeks\"\n",
    "print(\"The Original string is:\",test_str)\n",
    "result=len(list(filter(lambda x:x.isdigit(),test_str)))\n",
    "print(\"Count of numeric in string:\",res)"
   ]
  },
  {
   "cell_type": "markdown",
   "id": "8cff23e2",
   "metadata": {},
   "source": [
    "### Program to check if a string contains any special character"
   ]
  },
  {
   "cell_type": "code",
   "execution_count": 1,
   "id": "4bbafc18",
   "metadata": {},
   "outputs": [
    {
     "name": "stdout",
     "output_type": "stream",
     "text": [
      "String is not accepted\n",
      "string is accepted\n"
     ]
    }
   ],
   "source": [
    "import string\n",
    "def check_string(s):\n",
    "    for c in s:\n",
    "        if c in string.punctuation:\n",
    "            print(\"String is not accepted\")\n",
    "            return \n",
    "    print(\"string is accepted\")\n",
    "    \n",
    "    \n",
    "check_string(\"Geeks$For$Geeks\")\n",
    "check_string(\"Geeks For Geeks\")"
   ]
  },
  {
   "cell_type": "markdown",
   "id": "c5fcf4d7",
   "metadata": {},
   "source": [
    "### Generating random strings until a given string is generated"
   ]
  },
  {
   "cell_type": "code",
   "execution_count": 7,
   "id": "5bffa49a",
   "metadata": {},
   "outputs": [
    {
     "name": "stdout",
     "output_type": "stream",
     "text": [
      "WQeo\n",
      "9aeC\n",
      "?req\n",
      "77eN\n",
      "TJe9\n",
      " ce6\n",
      "V eA\n",
      "RWeG\n",
      "0Ce?\n",
      "l e \n",
      "1Cev\n",
      "RSep\n",
      "Xdei\n",
      "2je4\n",
      "eUei\n",
      "6pe8\n",
      "Uhec\n",
      "fPes\n",
      "1qek\n",
      "58ek\n",
      "o;ek\n",
      "3Iek\n",
      "lSek\n",
      "6Zek\n",
      "cDek\n",
      "AZek\n",
      "Qjek\n",
      " lek\n",
      "10ek\n",
      "Udek\n",
      "ddek\n",
      "p:ek\n",
      "gdek\n",
      "gWek\n",
      "g3ek\n",
      "gBek\n",
      "giek\n",
      "gIek\n",
      "gMek\n",
      "g7ek\n",
      "glek\n",
      "gHek\n",
      "gzek\n",
      "g9ek\n",
      "glek\n",
      "g9ek\n",
      "ghek\n",
      "giek\n",
      "gRek\n",
      "gtek\n",
      "g;ek\n",
      "gCek\n",
      "gZek\n",
      "g?ek\n",
      "g.ek\n",
      "gcek\n",
      "gdek\n",
      "g4ek\n",
      "g2ek\n",
      "gAek\n",
      "gnek\n",
      "gAek\n",
      "gZek\n",
      "g:ek\n",
      "gyek\n",
      "g3ek\n",
      "gTek\n",
      "glek\n",
      "g ek\n",
      "g3ek\n",
      "gwek\n",
      "glek\n",
      "giek\n",
      "gnek\n",
      "gCek\n",
      "gaek\n",
      "gEek\n",
      "gpek\n",
      "gJek\n",
      "g!ek\n",
      "gkek\n",
      "gAek\n",
      "gfek\n",
      "g4ek\n",
      "g3ek\n",
      "ggek\n",
      "g0ek\n",
      "g ek\n",
      "goek\n",
      "gDek\n",
      "gIek\n",
      "g ek\n",
      "g9ek\n",
      "gmek\n",
      "gHek\n",
      "g1ek\n",
      "g?ek\n",
      "gGek\n",
      "g,ek\n",
      "gfek\n",
      "gmek\n",
      "g2ek\n",
      "gGek\n",
      "gdek\n",
      "gpek\n",
      "gCek\n",
      "gJek\n",
      "gdek\n",
      "g?ek\n",
      "gMek\n",
      "gMek\n",
      "gCek\n",
      "gTek\n",
      "gaek\n",
      "gnek\n",
      "goek\n",
      "gQek\n",
      "gfek\n",
      "gdek\n",
      "gUek\n",
      "guek\n",
      "gJek\n",
      "gZek\n",
      "gOek\n",
      "gNek\n",
      "gIek\n",
      "grek\n",
      "g?ek\n",
      "g7ek\n",
      "gAek\n",
      "gGek\n",
      "gPek\n",
      "gPek\n",
      "gIek\n",
      "gIek\n",
      "gBek\n",
      "gEek\n",
      "g6ek\n",
      "gqek\n",
      "gPek\n",
      "gcek\n",
      "gyek\n",
      "gJek\n",
      "g3ek\n",
      "g4ek\n",
      "g4ek\n",
      "gbek\n",
      "geek\n",
      "Target matched after 148 iterations\n"
     ]
    }
   ],
   "source": [
    "import string \n",
    "import random \n",
    "import time \n",
    "  \n",
    "# all possible characters including  \n",
    "# lowercase, uppercase and special symbols \n",
    "possibleCharacters = string.ascii_lowercase + string.digits + string.ascii_uppercase + ' ., !?;:'\n",
    "  \n",
    "# string to be generated \n",
    "t = \"geek\"\n",
    "  \n",
    "# To take input from user \n",
    "# t = input(str(\"Enter your target text: \")) \n",
    "  \n",
    "attemptThis = ''.join(random.choice(possibleCharacters) \n",
    "                                for i in range(len(t))) \n",
    "attemptNext = '' \n",
    "  \n",
    "completed = False\n",
    "iteration = 0\n",
    "  \n",
    "# Iterate while completed is false \n",
    "while completed == False: \n",
    "    print(attemptThis) \n",
    "      \n",
    "    attemptNext = '' \n",
    "    completed = True\n",
    "      \n",
    "    # Fix the index if matches with  \n",
    "    # the strings to be generated \n",
    "    for i in range(len(t)): \n",
    "        if attemptThis[i] != t[i]: \n",
    "            completed = False\n",
    "            attemptNext += random.choice(possibleCharacters) \n",
    "        else: \n",
    "            attemptNext += t[i] \n",
    "              \n",
    "    # increment the iteration  \n",
    "    iteration += 1\n",
    "    attemptThis = attemptNext \n",
    "    time.sleep(0.1) \n",
    "  \n",
    "# Driver Code \n",
    "print(\"Target matched after \" +\n",
    "      str(iteration) + \" iterations\")"
   ]
  },
  {
   "cell_type": "markdown",
   "id": "91c245d6",
   "metadata": {},
   "source": [
    "### Find words which are greater than given length k"
   ]
  },
  {
   "cell_type": "code",
   "execution_count": 12,
   "id": "32cdd02f",
   "metadata": {},
   "outputs": [
    {
     "data": {
      "text/plain": [
       "['playing', 'Cricket']"
      ]
     },
     "execution_count": 12,
     "metadata": {},
     "output_type": "execute_result"
    }
   ],
   "source": [
    "def string_k(str,k):\n",
    "    string=[]\n",
    "    text=str.split(\" \")\n",
    "    for x in text:\n",
    "        if len(x)>k:\n",
    "            string.append(x)\n",
    "    return string\n",
    "\n",
    "string=\"Ram is playing Cricket\"\n",
    "k=3\n",
    "string_k(string,k)"
   ]
  },
  {
   "cell_type": "markdown",
   "id": "d2de2d1d",
   "metadata": {},
   "source": [
    "### Python program for removing i-th character from a string"
   ]
  },
  {
   "cell_type": "code",
   "execution_count": 1,
   "id": "890e790e",
   "metadata": {},
   "outputs": [
    {
     "data": {
      "text/plain": [
       "'Helloamanand'"
      ]
     },
     "execution_count": 1,
     "metadata": {},
     "output_type": "execute_result"
    }
   ],
   "source": [
    "def remove_char(string,i):\n",
    "    return string[:i] + string[i+1:]\n",
    "\n",
    "remove_char(\"HelloRamanand\",5)"
   ]
  },
  {
   "cell_type": "code",
   "execution_count": 3,
   "id": "6e5c0692",
   "metadata": {},
   "outputs": [
    {
     "data": {
      "text/plain": [
       "'Helloamanand'"
      ]
     },
     "execution_count": 3,
     "metadata": {},
     "output_type": "execute_result"
    }
   ],
   "source": [
    "def remove_char(string,i):\n",
    "    for j in range(len(string)):\n",
    "        if j==i:\n",
    "            string=string.replace(string[i],\"\",1)\n",
    "    return string\n",
    "remove_char(\"HelloRamanand\",5)"
   ]
  },
  {
   "cell_type": "code",
   "execution_count": 5,
   "id": "09ce7a9b",
   "metadata": {},
   "outputs": [
    {
     "data": {
      "text/plain": [
       "'Helloamanand'"
      ]
     },
     "execution_count": 5,
     "metadata": {},
     "output_type": "execute_result"
    }
   ],
   "source": [
    "def remove(string,i):\n",
    "    if i>len(string):\n",
    "        return string\n",
    "    a=list(string)\n",
    "    a.pop(i)\n",
    "    return \"\".join(a)\n",
    "\n",
    "remove(\"HelloRamanand\",5)"
   ]
  },
  {
   "cell_type": "code",
   "execution_count": 11,
   "id": "508f8ac8",
   "metadata": {},
   "outputs": [
    {
     "name": "stdout",
     "output_type": "stream",
     "text": [
      "e\n"
     ]
    }
   ],
   "source": [
    "def remove1(string,i):\n",
    "    result=[val for idx,val in enumerate(string) if idx==i]\n",
    "    return \"\".join(result)\n",
    "\n",
    "print(remove1(\"helloramanand\",1))"
   ]
  },
  {
   "cell_type": "code",
   "execution_count": 13,
   "id": "e5eeeeec",
   "metadata": {},
   "outputs": [
    {
     "data": {
      "text/plain": [
       "'Ramanad'"
      ]
     },
     "execution_count": 13,
     "metadata": {},
     "output_type": "execute_result"
    }
   ],
   "source": [
    "import re\n",
    "def remove(string,i):\n",
    "    pattern=f\"(^.{{{i}}}).(.)\"\n",
    "    return re.sub(pattern,r\"\\1\",string)\n",
    "\n",
    "remove(\"Ramananad\",6)"
   ]
  },
  {
   "cell_type": "markdown",
   "id": "ef12c9a8",
   "metadata": {},
   "source": [
    "### Python program to split and join a string"
   ]
  },
  {
   "cell_type": "code",
   "execution_count": 14,
   "id": "41ada1a2",
   "metadata": {},
   "outputs": [
    {
     "name": "stdout",
     "output_type": "stream",
     "text": [
      "['Geeks', 'for', 'Geeks']\n",
      "Geeks-for-Geeks\n"
     ]
    }
   ],
   "source": [
    "def split_string(string):\n",
    "    lst_string=string.split(\" \")\n",
    "    return lst_string\n",
    "\n",
    "def join_string(string):\n",
    "    string=\"-\".join(lst_string)\n",
    "    return string\n",
    "\n",
    "string='Geeks for Geeks'\n",
    "lst_string=split_string(string)\n",
    "print(lst_string)\n",
    "print(join_string(lst_string))"
   ]
  },
  {
   "cell_type": "code",
   "execution_count": 20,
   "id": "17f99918",
   "metadata": {},
   "outputs": [
    {
     "name": "stdout",
     "output_type": "stream",
     "text": [
      "['Geeks', 'for', 'Geeks']\n",
      "Geeks for Geeks\n"
     ]
    }
   ],
   "source": [
    "string = 'Geeks for Geeks'\n",
    "print(string.split(\" \"))\n",
    "print(\"\".join(string))"
   ]
  },
  {
   "cell_type": "code",
   "execution_count": 24,
   "id": "b2838e1e",
   "metadata": {},
   "outputs": [
    {
     "name": "stdout",
     "output_type": "stream",
     "text": [
      "['Geeks', 'for', 'Geeks']\n",
      "Geeks for Geeks\n"
     ]
    }
   ],
   "source": [
    "import re\n",
    "def split_and_join(string):\n",
    "    split_string=re.split(r\"[^a-zA-z]\",string)\n",
    "    joined_string=\"\"\n",
    "    for i,val in enumerate(string):\n",
    "        if i>0:\n",
    "            joined_string += \"\"\n",
    "        joined_string += val\n",
    "    return split_string,joined_string\n",
    "\n",
    "string = 'Geeks for Geeks'\n",
    "split_string,joined_string=split_and_join(string)\n",
    "print(split_string)\n",
    "print(joined_string)"
   ]
  },
  {
   "cell_type": "code",
   "execution_count": 25,
   "id": "9ee75777",
   "metadata": {},
   "outputs": [
    {
     "name": "stdout",
     "output_type": "stream",
     "text": [
      "['Geeks', 'for', 'Geeks']\n",
      "Geeks-for-Geeks\n"
     ]
    }
   ],
   "source": [
    "import re\n",
    "string=\"Geeks for Geeks\"\n",
    "print(re.findall(r\"[a-zA-z]+\",string))\n",
    "print(\"-\".join(re.findall(r\"[a-zA-Z]+\",string)))"
   ]
  },
  {
   "cell_type": "code",
   "execution_count": 29,
   "id": "6559365a",
   "metadata": {},
   "outputs": [
    {
     "name": "stdout",
     "output_type": "stream",
     "text": [
      "['Geeks', 'for', 'Geeks']\n",
      "Geeks-for-Geeks\n"
     ]
    }
   ],
   "source": [
    "import re\n",
    "import re\n",
    " \n",
    "def split_string(string):\n",
    "    list_string = re.split('\\s+', string)\n",
    "    return list_string\n",
    " \n",
    "def join_string(list_string):\n",
    "    new_string = '-'.join(list_string)\n",
    "    return new_string\n",
    "\n",
    "string=\"Geeks for Geeks\"\n",
    "list_string=split_string(string)\n",
    "print(list_string)\n",
    "new_string=join_string(list_string)\n",
    "print(new_string)"
   ]
  },
  {
   "cell_type": "markdown",
   "id": "a14ca3d0",
   "metadata": {},
   "source": [
    "### Check if a given string is binary string or not"
   ]
  },
  {
   "cell_type": "code",
   "execution_count": 31,
   "id": "43603df7",
   "metadata": {},
   "outputs": [
    {
     "name": "stdout",
     "output_type": "stream",
     "text": [
      "Yes\n"
     ]
    }
   ],
   "source": [
    "def check_binary(string):\n",
    "    p=set(string)\n",
    "    s={\"0\",\"1\"}\n",
    "    if s==p or p=={\"0\"} or p=={\"1\"}:\n",
    "        print(\"Yes\")\n",
    "    else:\n",
    "        print(\"No\")\n",
    "        \n",
    "        \n",
    "string=\"101010000111\"\n",
    "check_binary(string)"
   ]
  },
  {
   "cell_type": "code",
   "execution_count": 32,
   "id": "29363edc",
   "metadata": {},
   "outputs": [
    {
     "name": "stdout",
     "output_type": "stream",
     "text": [
      "Yes\n"
     ]
    }
   ],
   "source": [
    "import re\n",
    "sampleInput=\"1001010\"\n",
    "c=re.compile('[^01]')\n",
    "if len(c.findall(sampleInput)):\n",
    "    print(\"No\")\n",
    "else:\n",
    "    print(\"Yes\")"
   ]
  },
  {
   "cell_type": "code",
   "execution_count": 42,
   "id": "013c5625",
   "metadata": {},
   "outputs": [
    {
     "name": "stdout",
     "output_type": "stream",
     "text": [
      "Yes\n",
      "No\n"
     ]
    }
   ],
   "source": [
    "def check_binary1(string):\n",
    "    try:\n",
    "        int(string,2)\n",
    "    except ValueError:\n",
    "        return \"No\"\n",
    "    return \"Yes\"\n",
    "\n",
    "string1= \"101011000111\"\n",
    "string2= \"201000001\"\n",
    "print(check_binary1(string1))\n",
    "print(check_binary1(string2))"
   ]
  },
  {
   "cell_type": "code",
   "execution_count": 43,
   "id": "fd89359f",
   "metadata": {},
   "outputs": [
    {
     "name": "stdout",
     "output_type": "stream",
     "text": [
      "Yes\n"
     ]
    }
   ],
   "source": [
    "string = \"01010101010\"\n",
    "if (string.count(\"0\") + string.count(\"1\")) == len(string):\n",
    "    print(\"Yes\")\n",
    "else:\n",
    "    print(\"No\")"
   ]
  },
  {
   "cell_type": "code",
   "execution_count": 44,
   "id": "2eaf8e71",
   "metadata": {},
   "outputs": [
    {
     "name": "stdout",
     "output_type": "stream",
     "text": [
      "No\n",
      "Yes\n"
     ]
    }
   ],
   "source": [
    "def check(string):\n",
    "    if all((latter in \"01\") for latter in string):\n",
    "        return \"Yes\"\n",
    "    return \"No\"\n",
    "string1=\"021010101\"\n",
    "string2=\"0100101010\"\n",
    "print(check(string1))\n",
    "print(check(string2))"
   ]
  },
  {
   "cell_type": "code",
   "execution_count": 45,
   "id": "9eec65c6",
   "metadata": {},
   "outputs": [
    {
     "name": "stdout",
     "output_type": "stream",
     "text": [
      "False\n",
      "True\n"
     ]
    }
   ],
   "source": [
    "def is_binary(string):\n",
    "    unique_char=set(string)\n",
    "    return unique_char.issubset({\"0\",\"1\"})\n",
    "\n",
    "string1=\"021010101\"\n",
    "string2=\"0100101010\"\n",
    "print(is_binary(string1))\n",
    "print(is_binary(string2))"
   ]
  },
  {
   "cell_type": "code",
   "execution_count": 47,
   "id": "eef641db",
   "metadata": {},
   "outputs": [
    {
     "name": "stdout",
     "output_type": "stream",
     "text": [
      "False\n",
      "True\n"
     ]
    }
   ],
   "source": [
    "import re\n",
    "def is_binary_string(string):\n",
    "    regex=r\"[^01]\"\n",
    "    if re.search(regex,string):\n",
    "        return False\n",
    "    else:\n",
    "        return True\n",
    "    \n",
    "string1=\"021010101\"\n",
    "string2=\"0100101010\"\n",
    "print(is_binary_string(string1))\n",
    "print(is_binary_string(string2))    "
   ]
  },
  {
   "cell_type": "markdown",
   "id": "138198eb",
   "metadata": {},
   "source": [
    "###  Find all close matches of input string from a list"
   ]
  },
  {
   "cell_type": "code",
   "execution_count": 48,
   "id": "3c361211",
   "metadata": {},
   "outputs": [
    {
     "name": "stdout",
     "output_type": "stream",
     "text": [
      "['apple', 'ape']\n"
     ]
    }
   ],
   "source": [
    "from difflib import get_close_matches\n",
    "def closematches(pattern,word):\n",
    "    print(get_close_matches(word,pattern))\n",
    "    \n",
    "word=\"apple\"\n",
    "pattern=['ape', 'apple', 'peach', 'puppy']\n",
    "closematches(pattern,word)"
   ]
  },
  {
   "cell_type": "markdown",
   "id": "28453387",
   "metadata": {},
   "source": [
    "### program to find uncommon words from two Strings"
   ]
  },
  {
   "cell_type": "code",
   "execution_count": 49,
   "id": "a4df4502",
   "metadata": {},
   "outputs": [
    {
     "name": "stdout",
     "output_type": "stream",
     "text": [
      "['from', 'Learning']\n"
     ]
    }
   ],
   "source": [
    "def UncommonWords(A,B):\n",
    "    A=A.split()\n",
    "    B=B.split()\n",
    "    x=[]\n",
    "    for i in A:\n",
    "        if i not in B:\n",
    "            x.append(i)\n",
    "    for i in B:\n",
    "        if i not in A:\n",
    "            x.append(i)\n",
    "    x=list(set(x))\n",
    "    return x\n",
    "\n",
    "A = \"Geeks for Geeks\"\n",
    "B = \"Learning from Geeks for Geeks\"\n",
    "print(UncommonWords(A, B))"
   ]
  },
  {
   "cell_type": "code",
   "execution_count": 50,
   "id": "821f0dcc",
   "metadata": {},
   "outputs": [
    {
     "name": "stdout",
     "output_type": "stream",
     "text": [
      "['Learning', 'from']\n"
     ]
    }
   ],
   "source": [
    "from collections import Counter\n",
    "def UncommonWords(A,B):\n",
    "    A=A.split()\n",
    "    B=B.split()\n",
    "    freq_A=Counter(A)\n",
    "    freq_B=Counter(B)\n",
    "    result=[]\n",
    "    for i in freq_A:\n",
    "        if i not in freq_B:\n",
    "            result.append(i)\n",
    "    for i in freq_B:\n",
    "        if i not in freq_A:\n",
    "            result.append(i)\n",
    "    return result\n",
    "\n",
    "A = \"Geeks for Geeks\"\n",
    "B = \"Learning from Geeks for Geeks\"\n",
    "print(UncommonWords(A, B))"
   ]
  },
  {
   "cell_type": "code",
   "execution_count": 51,
   "id": "eb775e6e",
   "metadata": {},
   "outputs": [
    {
     "name": "stdout",
     "output_type": "stream",
     "text": [
      "['from', 'Learning']\n"
     ]
    }
   ],
   "source": [
    "def UncommonWords(A,B):\n",
    "    A=set(A.split())\n",
    "    B=set(B.split())\n",
    "    uncommonwords=A.difference(B).union(B.difference(A))\n",
    "    return list(uncommonwords)\n",
    "A = \"Geeks for Geeks\"\n",
    "B = \"Learning from Geeks for Geeks\"\n",
    "print(UncommonWords(A, B))"
   ]
  },
  {
   "cell_type": "markdown",
   "id": "57f144f6",
   "metadata": {},
   "source": [
    "### Swap commas and dots in a String"
   ]
  },
  {
   "cell_type": "code",
   "execution_count": 53,
   "id": "6e6a8ab5",
   "metadata": {},
   "outputs": [
    {
     "name": "stdout",
     "output_type": "stream",
     "text": [
      "14.625.498, 002\n"
     ]
    }
   ],
   "source": [
    "def replace(string):\n",
    "    maketrans=string.maketrans\n",
    "    final=string.translate(maketrans(\",.\",\".,\",\" \"))\n",
    "    return final.replace(\",\",\", \")\n",
    "\n",
    "string = \"14, 625, 498.002\"\n",
    "print(replace(string))"
   ]
  },
  {
   "cell_type": "code",
   "execution_count": 55,
   "id": "cf49bfd2",
   "metadata": {},
   "outputs": [
    {
     "name": "stdout",
     "output_type": "stream",
     "text": [
      "14.625.498,002\n"
     ]
    }
   ],
   "source": [
    "def replace(string):\n",
    "    string=string.replace(\", \",\"A\")\n",
    "    string=string.replace(\".\",\",\")\n",
    "    string=string.replace(\"A\",\".\")\n",
    "    return string\n",
    "string = \"14, 625, 498.002\"\n",
    "print(replace(string))"
   ]
  },
  {
   "cell_type": "code",
   "execution_count": 59,
   "id": "ddbb86af",
   "metadata": {},
   "outputs": [
    {
     "name": "stdout",
     "output_type": "stream",
     "text": [
      "14.625.498,002\n"
     ]
    }
   ],
   "source": [
    "import re\n",
    "txt=\"14, 625, 498.002\"\n",
    "x=re.sub(\", \",\"sub\",txt)\n",
    "x=re.sub(\"\\.\", \",\", x)\n",
    "x=re.sub(\"sub\", \".\", x)\n",
    "print(x)"
   ]
  },
  {
   "cell_type": "markdown",
   "id": "92162a54",
   "metadata": {},
   "source": [
    "###  Permutation of a given string using inbuilt function"
   ]
  },
  {
   "cell_type": "code",
   "execution_count": 61,
   "id": "0b48569a",
   "metadata": {},
   "outputs": [
    {
     "name": "stdout",
     "output_type": "stream",
     "text": [
      "ABC\n",
      "ACB\n",
      "BAC\n",
      "BCA\n",
      "CAB\n",
      "CBA\n"
     ]
    }
   ],
   "source": [
    "from itertools import permutations\n",
    "def allpermutation(string):\n",
    "    x=permutations(string)\n",
    "    for x in list(x):\n",
    "        print(\"\".join(x))\n",
    "string=\"ABC\"\n",
    "allpermutation(string)"
   ]
  },
  {
   "cell_type": "code",
   "execution_count": 67,
   "id": "ea9b5315",
   "metadata": {},
   "outputs": [
    {
     "name": "stdout",
     "output_type": "stream",
     "text": [
      "ABC\n",
      "ACB\n",
      "BAC\n",
      "BCA\n",
      "CAB\n",
      "CBA\n"
     ]
    }
   ],
   "source": [
    "string=\"ABC\"\n",
    "x=permutations(string)\n",
    "for i in list(x):\n",
    "    print(\"\".join(i))"
   ]
  },
  {
   "cell_type": "code",
   "execution_count": 70,
   "id": "d3f3429f",
   "metadata": {},
   "outputs": [
    {
     "name": "stdout",
     "output_type": "stream",
     "text": [
      "GEEK\n",
      "GEKE\n",
      "GKEE\n",
      "EGEK\n",
      "EGKE\n",
      "EEGK\n",
      "EEKG\n",
      "EKGE\n",
      "EKEG\n",
      "KGEE\n",
      "KEGE\n",
      "KEEG\n"
     ]
    }
   ],
   "source": [
    "from itertools import permutations\n",
    "import string\n",
    "s=\"GEEK\"\n",
    "a=string.ascii_letters\n",
    "p=permutations(s)\n",
    "d=[]\n",
    "for i  in list(p):\n",
    "    if i not in d:\n",
    "        d.append(i)\n",
    "        print(\"\".join(i))"
   ]
  },
  {
   "cell_type": "code",
   "execution_count": 73,
   "id": "74d32e41",
   "metadata": {},
   "outputs": [
    {
     "name": "stdout",
     "output_type": "stream",
     "text": [
      "EGEK\n",
      "GKEE\n",
      "EKEG\n",
      "KGEE\n",
      "KEGE\n",
      "EGKE\n",
      "EEKG\n",
      "KEEG\n",
      "GEKE\n",
      "GEEK\n",
      "EKGE\n",
      "EEGK\n"
     ]
    }
   ],
   "source": [
    "def generate_permutations(string):\n",
    "    if len(string)==1:\n",
    "        return string\n",
    "    permutations=[]\n",
    "    for i in range(len(string)):\n",
    "        fixed_char=string[i]\n",
    "        remaining_chars = string[:i] + string[i+1:]\n",
    "        for prem in generate_permutations(remaining_chars):\n",
    "            permutations.append(fixed_char + prem)\n",
    "            \n",
    "    return permutations\n",
    "\n",
    "string ='GEEK'\n",
    " \n",
    "permutations_list = generate_permutations(string)\n",
    "z=set(permutations_list)\n",
    " \n",
    "for perm in z:\n",
    "    print(perm)"
   ]
  },
  {
   "cell_type": "markdown",
   "id": "4f194531",
   "metadata": {},
   "source": [
    "###  Check for URL in a String"
   ]
  },
  {
   "cell_type": "code",
   "execution_count": 74,
   "id": "b0d927e3",
   "metadata": {},
   "outputs": [
    {
     "name": "stdout",
     "output_type": "stream",
     "text": [
      "Urls:  ['https://auth.geeksforgeeks.org/user/Chinmoy%20Lenka/articles', 'https://www.geeksforgeeks.org/']\n"
     ]
    }
   ],
   "source": [
    "import re\n",
    "def Find_URL(string):\n",
    "    regex = r\"(?i)\\b((?:https?://|www\\d{0,3}[.]|[a-z0-9.\\-]+[.][a-z]{2,4}/)(?:[^\\s()<>]+|\\(([^\\s()<>]+|(\\([^\\s()<>]+\\)))*\\))+(?:\\(([^\\s()<>]+|(\\([^\\s()<>]+\\)))*\\)|[^\\s`!()\\[\\]{};:'\\\".,<>?«»“”‘’]))\"\n",
    "    url=re.findall(regex,string)\n",
    "    return [i[0] for i in url]\n",
    "\n",
    "string = 'My Profile: https://auth.geeksforgeeks.org/user/Chinmoy%20Lenka/articles in the portal of https://www.geeksforgeeks.org/'\n",
    "print(\"Urls: \", Find_URL(string))\n"
   ]
  },
  {
   "cell_type": "code",
   "execution_count": 78,
   "id": "96f98c1b",
   "metadata": {},
   "outputs": [
    {
     "name": "stdout",
     "output_type": "stream",
     "text": [
      "https://auth.geeksforgeeks.org/user/Chinmoy%20Lenka/articles\n",
      "https://www.geeksforgeeks.org/\n"
     ]
    }
   ],
   "source": [
    "regex = r\"(?i)\\b((?:https?://|www\\d{0,3}[.]|[a-z0-9.\\-]+[.][a-z]{2,4}/)(?:[^\\s()<>]+|\\(([^\\s()<>]+|(\\([^\\s()<>]+\\)))*\\))+(?:\\(([^\\s()<>]+|(\\([^\\s()<>]+\\)))*\\)|[^\\s`!()\\[\\]{};:'\\\".,<>?«»“”‘’]))\"\n",
    "string = 'My Profile: https://auth.geeksforgeeks.org/user/Chinmoy%20Lenka/articles in the portal of https://www.geeksforgeeks.org/'\n",
    "url=re.findall(regex,string)\n",
    "for i in url:\n",
    "    print(i[0])"
   ]
  },
  {
   "cell_type": "code",
   "execution_count": 79,
   "id": "c9820eb9",
   "metadata": {},
   "outputs": [
    {
     "name": "stdout",
     "output_type": "stream",
     "text": [
      "Urls:  ['https://auth.geeksforgeeks.org/user/Chinmoy%20Lenka/articles', 'https://www.geeksforgeeks.org/']\n"
     ]
    }
   ],
   "source": [
    "def Find_URL(string):\n",
    "    x=string.split()\n",
    "    result=[]\n",
    "    for i in x:\n",
    "        if i.startswith(\"https:\") or i.startswith(\"http:\"):\n",
    "            result.append(i)\n",
    "    return result\n",
    "string = 'My Profile: https://auth.geeksforgeeks.org/user/Chinmoy%20Lenka/articles in the portal of https://www.geeksforgeeks.org/'\n",
    "print(\"Urls: \", Find_URL(string))"
   ]
  },
  {
   "cell_type": "code",
   "execution_count": 81,
   "id": "b49c01d9",
   "metadata": {},
   "outputs": [
    {
     "name": "stdout",
     "output_type": "stream",
     "text": [
      "Urls:  ['https://auth.geeksforgeeks.org/user/Chinmoy%20Lenka/articles', 'https://www.geeksforgeeks.org/']\n"
     ]
    }
   ],
   "source": [
    "def Find_URL(string):\n",
    "    x=string.split()\n",
    "    result=[]\n",
    "    for i in x:\n",
    "        if i.find(\"https:\")==0 or i.find(\"http:\")==0:\n",
    "            result.append(i)\n",
    "    return result\n",
    "string = 'My Profile: https://auth.geeksforgeeks.org/user/Chinmoy%20Lenka/articles in the portal of https://www.geeksforgeeks.org/'\n",
    "print(\"Urls: \", Find_URL(string))"
   ]
  },
  {
   "cell_type": "markdown",
   "id": "2f02cbfb",
   "metadata": {},
   "source": [
    "### Execute a String of Code in Python"
   ]
  },
  {
   "cell_type": "code",
   "execution_count": 83,
   "id": "d336411d",
   "metadata": {},
   "outputs": [
    {
     "name": "stdout",
     "output_type": "stream",
     "text": [
      "120\n"
     ]
    }
   ],
   "source": [
    "def exec_code():\n",
    "    LOC=\"\"\"\n",
    "def factorial(num):\n",
    "    fact=1\n",
    "    for i in range(1,num+1):\n",
    "        fact *= i\n",
    "    return fact\n",
    "print(factorial(5))\"\"\"\n",
    "    exec(LOC)\n",
    "    \n",
    "exec_code()"
   ]
  },
  {
   "cell_type": "code",
   "execution_count": 85,
   "id": "8f7edce7",
   "metadata": {},
   "outputs": [
    {
     "data": {
      "text/plain": [
       "11"
      ]
     },
     "execution_count": 85,
     "metadata": {},
     "output_type": "execute_result"
    }
   ],
   "source": [
    "code =\"6+5\"\n",
    "result=eval(code)\n",
    "result"
   ]
  },
  {
   "cell_type": "code",
   "execution_count": 87,
   "id": "bafd5177",
   "metadata": {},
   "outputs": [
    {
     "name": "stdout",
     "output_type": "stream",
     "text": [
      "hello world\n"
     ]
    }
   ],
   "source": [
    "code='\"hello\" +\" \" + \"world\"'\n",
    "result=eval(code)\n",
    "print(result)\n",
    "\n"
   ]
  },
  {
   "cell_type": "code",
   "execution_count": 88,
   "id": "e5c1043b",
   "metadata": {},
   "outputs": [
    {
     "name": "stdout",
     "output_type": "stream",
     "text": [
      "b\n"
     ]
    }
   ],
   "source": [
    "code='[\"a\",\"b\",\"c\"][1]'\n",
    "result=eval(code)\n",
    "print(result)"
   ]
  },
  {
   "cell_type": "code",
   "execution_count": 91,
   "id": "40b04245",
   "metadata": {},
   "outputs": [
    {
     "name": "stdout",
     "output_type": "stream",
     "text": [
      "11\n"
     ]
    }
   ],
   "source": [
    "import types\n",
    "code_string=\"a=5+6\"\n",
    "my_namespace=types.SimpleNamespace()\n",
    "exec(code_string,my_namespace.__dict__)\n",
    "print(my_namespace.a)"
   ]
  },
  {
   "cell_type": "markdown",
   "id": "949b6aa0",
   "metadata": {},
   "source": [
    "## Advance String Programs\n",
    "### Convert numeric words to numbers"
   ]
  },
  {
   "cell_type": "code",
   "execution_count": 93,
   "id": "cbccb401",
   "metadata": {},
   "outputs": [
    {
     "name": "stdout",
     "output_type": "stream",
     "text": [
      "The Original string is: zero four zero one\n",
      "Converted numeric words into number: 0401\n"
     ]
    }
   ],
   "source": [
    "help_dict={\n",
    "    \"one\":\"1\",\n",
    "    \"two\":\"2\",\n",
    "    \"three\":\"3\",\n",
    "    \"four\":\"4\",\n",
    "    \"five\":\"5\",\n",
    "    \"six\":\"6\",\n",
    "    \"seven\":\"7\",\n",
    "    \"eight\":\"8\",\n",
    "    \"nine\":\"9\",\n",
    "    \"zero\":\"0\"\n",
    "}\n",
    "test_str=\"zero four zero one\"\n",
    "print(\"The Original string is:\",test_str)\n",
    "result=\"\".join(help_dict[ele] for ele in test_str.split())\n",
    "print(\"Converted numeric words into number:\",result)"
   ]
  },
  {
   "cell_type": "code",
   "execution_count": 98,
   "id": "994a5e0f",
   "metadata": {},
   "outputs": [
    {
     "name": "stdout",
     "output_type": "stream",
     "text": [
      "The original string is : zero four zero one\n",
      "The string after performing replace : 1\n"
     ]
    }
   ],
   "source": [
    "from word2number import w2n\n",
    " \n",
    "# initializing string\n",
    "test_str = \"zero four zero one\"\n",
    " \n",
    "# printing original string\n",
    "print(\"The original string is : \" + test_str)\n",
    " \n",
    "# Convert numeric words to numbers\n",
    "# Using word2number\n",
    "res = w2n.word_to_num(test_str)\n",
    " \n",
    "# printing result\n",
    "print(\"The string after performing replace : \" + str(res))"
   ]
  },
  {
   "cell_type": "code",
   "execution_count": 95,
   "id": "c059282a",
   "metadata": {},
   "outputs": [
    {
     "name": "stdout",
     "output_type": "stream",
     "text": [
      "Defaulting to user installation because normal site-packages is not writeable\n",
      "Collecting word2number\n",
      "  Downloading word2number-1.1.zip (9.7 kB)\n",
      "  Preparing metadata (setup.py): started\n",
      "  Preparing metadata (setup.py): finished with status 'done'\n",
      "Building wheels for collected packages: word2number\n",
      "  Building wheel for word2number (setup.py): started\n",
      "  Building wheel for word2number (setup.py): finished with status 'done'\n",
      "  Created wheel for word2number: filename=word2number-1.1-py3-none-any.whl size=5590 sha256=e7813ebb615343d67b80c14c953dc6fa4082c4ec7a2df601a23be481b22db69b\n",
      "  Stored in directory: c:\\users\\kingr\\appdata\\local\\pip\\cache\\wheels\\cd\\ef\\ae\\073b491b14d25e2efafcffca9e16b2ee6d114ec5c643ba4f06\n",
      "Successfully built word2number\n",
      "Installing collected packages: word2number\n",
      "Successfully installed word2number-1.1\n"
     ]
    }
   ],
   "source": [
    "!pip install word2number"
   ]
  },
  {
   "cell_type": "markdown",
   "id": "310564e4",
   "metadata": {},
   "source": [
    "### Word location in String"
   ]
  },
  {
   "cell_type": "code",
   "execution_count": 101,
   "id": "e5523fd8",
   "metadata": {},
   "outputs": [
    {
     "name": "stdout",
     "output_type": "stream",
     "text": [
      "The original string is : geeksforgeeks is best for geeks\n",
      "The location of word is :  3\n"
     ]
    }
   ],
   "source": [
    "import re\n",
    "test_str = 'geeksforgeeks is best for geeks'\n",
    " \n",
    "# printing original string\n",
    "print(\"The original string is : \" + test_str)\n",
    "wrd=\"best\"\n",
    "test_str=test_str.split()\n",
    "result=-1\n",
    "for idx in test_str:\n",
    "    if len(re.findall(wrd,idx))>0:\n",
    "        result=test_str.index(idx) + 1\n",
    "        \n",
    "print(\"The location of word is : \" ,result) \n",
    "\n",
    "    "
   ]
  },
  {
   "cell_type": "code",
   "execution_count": 102,
   "id": "c8a2cd4c",
   "metadata": {},
   "outputs": [
    {
     "name": "stdout",
     "output_type": "stream",
     "text": [
      "The original string is : geeksforgeeks is best for geeks\n",
      "The location of word is :  3\n"
     ]
    }
   ],
   "source": [
    "test_str = 'geeksforgeeks is best for geeks'\n",
    " \n",
    "# printing original string\n",
    "print(\"The original string is : \" + test_str)\n",
    "word=\"best\"\n",
    "x=test_str.split()\n",
    "result=x.index(word) + 1\n",
    "print(\"The location of word is : \" ,result) \n"
   ]
  },
  {
   "cell_type": "code",
   "execution_count": 103,
   "id": "efa9fb7b",
   "metadata": {},
   "outputs": [
    {
     "name": "stdout",
     "output_type": "stream",
     "text": [
      "The original string is : geeksforgeeks is best for geeks\n",
      "The location of word is :  3\n"
     ]
    }
   ],
   "source": [
    "test_str = 'geeksforgeeks is best for geeks'\n",
    "wrd = 'best'\n",
    "# printing original string\n",
    "print(\"The original string is : \" + test_str)\n",
    "if wrd in test_str.split():\n",
    "    result=test_str.split().index(wrd) +1\n",
    "else:\n",
    "    result -= 1\n",
    "    \n",
    "print(\"The location of word is : \" ,result) \n"
   ]
  },
  {
   "cell_type": "code",
   "execution_count": 110,
   "id": "ea9e5c7a",
   "metadata": {},
   "outputs": [
    {
     "name": "stdout",
     "output_type": "stream",
     "text": [
      "The original string is : geeksforgeeks is best for geeks\n",
      "[3]\n",
      "The location of word is :  3\n"
     ]
    }
   ],
   "source": [
    "test_str = 'geeksforgeeks is best for geeks'\n",
    "wrd = 'best'\n",
    "# printing original string\n",
    "print(\"The original string is : \" + test_str)\n",
    "result=[i+1 for i,val in enumerate(test_str.split()) if val==wrd]\n",
    "print(result)\n",
    "if result:\n",
    "    result=result[0]\n",
    "else:\n",
    "    result = - 1\n",
    "print(\"The location of word is : \",result)"
   ]
  },
  {
   "cell_type": "code",
   "execution_count": 111,
   "id": "8b2f3100",
   "metadata": {},
   "outputs": [
    {
     "name": "stdout",
     "output_type": "stream",
     "text": [
      "The original string is : geeksforgeeks is best for geeks\n",
      "The location of word is :  3\n"
     ]
    }
   ],
   "source": [
    "test_str = 'geeksforgeeks is best for geeks'\n",
    "wrd = 'best'\n",
    "# printing original string\n",
    "print(\"The original string is : \" + test_str)\n",
    "for i, val in enumerate(test_str.split()):\n",
    "    if val==wrd:\n",
    "        result = i+1\n",
    "        break\n",
    "    else:\n",
    "        result = -1\n",
    "        \n",
    "print(\"The location of word is : \",result)"
   ]
  },
  {
   "cell_type": "markdown",
   "id": "dc7636a0",
   "metadata": {},
   "source": [
    "### Consecutive characters frequency"
   ]
  },
  {
   "cell_type": "code",
   "execution_count": 112,
   "id": "887df3df",
   "metadata": {},
   "outputs": [
    {
     "name": "stdout",
     "output_type": "stream",
     "text": [
      "The original string is : geekksforgggeeks\n",
      "The Consecutive characters frequency :  [1, 2, 2, 1, 1, 1, 1, 3, 2, 1, 1]\n"
     ]
    }
   ],
   "source": [
    "from itertools import groupby\n",
    "test_str = \"geekksforgggeeks\"\n",
    " \n",
    "# printing original string\n",
    "print(\"The original string is : \" + test_str)\n",
    "\n",
    "result=[len(list(j)) for i,j in groupby(test_str)]\n",
    "print(\"The Consecutive characters frequency : \" ,result)"
   ]
  },
  {
   "cell_type": "code",
   "execution_count": 113,
   "id": "a5880a2b",
   "metadata": {},
   "outputs": [
    {
     "name": "stdout",
     "output_type": "stream",
     "text": [
      "The original string is : geekksforgggeeks\n",
      "The Consecutive characters frequency :  [1, 2, 2, 1, 1, 1, 1, 3, 2, 1, 1]\n"
     ]
    }
   ],
   "source": [
    "from itertools import groupby\n",
    "test_str = \"geekksforgggeeks\"\n",
    " \n",
    "# printing original string\n",
    "print(\"The original string is : \" + test_str)\n",
    "result=[]\n",
    "count=1\n",
    "for i in range(len(test_str)-1):\n",
    "    if test_str[i]==test_str[i+1]:\n",
    "        count +=1\n",
    "    else:\n",
    "        result.append(count)\n",
    "        count=1\n",
    "result.append(count)\n",
    "print(\"The Consecutive characters frequency : \" ,result)"
   ]
  },
  {
   "cell_type": "code",
   "execution_count": 114,
   "id": "54293adb",
   "metadata": {},
   "outputs": [
    {
     "name": "stdout",
     "output_type": "stream",
     "text": [
      "The original string is : geekksforgggeeks\n",
      "The Consecutive characters frequency :  [1, 2, 2, 1, 1, 1, 1, 3, 2, 1, 1]\n"
     ]
    }
   ],
   "source": [
    "import re\n",
    "test_str = \"geekksforgggeeks\"\n",
    " \n",
    "# printing original string\n",
    "print(\"The original string is : \" + test_str)\n",
    "result=[len(sub.group()) for sub in re.finditer(r\"(.)\\1*\",test_str)]\n",
    "print(\"The Consecutive characters frequency : \" ,result)"
   ]
  },
  {
   "cell_type": "markdown",
   "id": "36f873a2",
   "metadata": {},
   "source": [
    "### String slicing in Python to Rotate a String"
   ]
  },
  {
   "cell_type": "code",
   "execution_count": 115,
   "id": "6c5faff7",
   "metadata": {},
   "outputs": [
    {
     "name": "stdout",
     "output_type": "stream",
     "text": [
      "Left Rotation: eksforGeeksGe\n",
      "Right Totation: ksGeeksforGee\n"
     ]
    }
   ],
   "source": [
    "def rotate(input,d):\n",
    "    l_first=input[:d]\n",
    "    l_second=input[d:]\n",
    "    r_first=input[:len(input)-d]\n",
    "    r_second=input[len(input)-d:]\n",
    "    print(\"Left Rotation:\",(l_second + l_first))\n",
    "    print(\"Right Totation:\",(r_second + r_first))\n",
    "    \n",
    "input='GeeksforGeeks'\n",
    "d=2\n",
    "rotate(input,d)"
   ]
  },
  {
   "cell_type": "code",
   "execution_count": 118,
   "id": "c97cbfbb",
   "metadata": {},
   "outputs": [
    {
     "name": "stdout",
     "output_type": "stream",
     "text": [
      "Left Rotation: ksGeeksforGee\n",
      "Right Rotation: ksGeeksforGee\n"
     ]
    }
   ],
   "source": [
    "def rotate(str1,n):\n",
    "    temp=str1 + str1\n",
    "    l1=len(str1)\n",
    "    l2=len(temp)\n",
    "    l_first=temp[n:l1+n]\n",
    "    l_first=temp[l1-n:l2-n]\n",
    "    print(\"Left Rotation:\",l_first)\n",
    "    print(\"Right Rotation:\",l_first)\n",
    "    \n",
    "input = 'GeeksforGeeks'\n",
    "d=2\n",
    "rotate(input,d)    "
   ]
  },
  {
   "cell_type": "markdown",
   "id": "fee8b3d1",
   "metadata": {},
   "source": [
    "### String slicing in Python to check if a string can become empty by recursive deletion"
   ]
  },
  {
   "cell_type": "code",
   "execution_count": 3,
   "id": "21a41dd9",
   "metadata": {},
   "outputs": [
    {
     "name": "stdout",
     "output_type": "stream",
     "text": [
      "true\n"
     ]
    }
   ],
   "source": [
    "def checkEmpty(input,pattern):\n",
    "    if len(input)==0 and len(pattern)==0:\n",
    "        return \"true\"\n",
    "    if len(pattern)==0:\n",
    "        return \"false\"\n",
    "    \n",
    "    while (len(input)!=0):\n",
    "        index=input.find(pattern)\n",
    "        if (index==(-1)):\n",
    "            return \"false\"\n",
    "        \n",
    "        input = input[0:index] + input[index + len(pattern):]\n",
    "    return \"true\"\n",
    "\n",
    "input ='GEEGEEKSKS'\n",
    "pattern ='GEEKS'\n",
    "print (checkEmpty(input, pattern))"
   ]
  },
  {
   "cell_type": "markdown",
   "id": "4ce3ae35",
   "metadata": {},
   "source": [
    "### Python Program to find minimum number of rotations to obtain actual string"
   ]
  },
  {
   "cell_type": "code",
   "execution_count": 7,
   "id": "b4ab39be",
   "metadata": {},
   "outputs": [
    {
     "name": "stdout",
     "output_type": "stream",
     "text": [
      "1\n"
     ]
    }
   ],
   "source": [
    "def findRotation(str1,str2):\n",
    "    x=0\n",
    "    y=0\n",
    "    m=str1\n",
    "    while True:\n",
    "        m=m[len(m)-1] + m[:len(m)-1]\n",
    "        if m==str2 :\n",
    "            x += 1\n",
    "            break\n",
    "        else:\n",
    "            x += 1\n",
    "            if x> len(str2):\n",
    "                break\n",
    "                \n",
    "    while True:\n",
    "        str1 = str1[1:len(str1)] + str1[0]\n",
    "        if (str1 == str2):\n",
    "            y += 1\n",
    "            break\n",
    "        else:\n",
    "            y += 1\n",
    "            if y>len(str2):\n",
    "                break\n",
    "    if x<len(str2):\n",
    "        print(min(x,y))\n",
    "        \n",
    "    else:\n",
    "        print(\"Given String are not of same kind\")\n",
    "        \n",
    "findRotation('sgeek', 'geeks')"
   ]
  },
  {
   "cell_type": "markdown",
   "id": "85792fac",
   "metadata": {},
   "source": [
    "### Words Frequency in String Shorthands"
   ]
  },
  {
   "cell_type": "code",
   "execution_count": 11,
   "id": "fcea0c76",
   "metadata": {},
   "outputs": [
    {
     "name": "stdout",
     "output_type": "stream",
     "text": [
      "[INFO] the original string is:Gfg is best . Geeks are good and Geeks like Gfg\n",
      "[INFO] The words frequency:{'Gfg': 2, 'is': 1, 'best': 1, '.': 1, 'Geeks': 2, 'are': 1, 'good': 1, 'and': 1, 'like': 1}\n"
     ]
    }
   ],
   "source": [
    "test_str=\"Gfg is best . Geeks are good and Geeks like Gfg\"\n",
    "print(f\"[INFO] the original string is:{test_str}\")\n",
    "result={key: test_str.count(key) for key in test_str.split()}\n",
    "print(f\"[INFO] The words frequency:{result}\")"
   ]
  },
  {
   "cell_type": "code",
   "execution_count": 12,
   "id": "ca67c29d",
   "metadata": {},
   "outputs": [
    {
     "name": "stdout",
     "output_type": "stream",
     "text": [
      "[INFO] the original string is:Gfg is best . Geeks are good and Geeks like Gfg\n",
      "[INFO] The words frequency:Counter({'Gfg': 2, 'Geeks': 2, 'is': 1, 'best': 1, '.': 1, 'are': 1, 'good': 1, 'and': 1, 'like': 1})\n"
     ]
    }
   ],
   "source": [
    "from collections import Counter\n",
    "test_str=\"Gfg is best . Geeks are good and Geeks like Gfg\"\n",
    "print(f\"[INFO] the original string is:{test_str}\")\n",
    "result=Counter(test_str.split())\n",
    "print(f\"[INFO] The words frequency:{result}\")"
   ]
  },
  {
   "cell_type": "code",
   "execution_count": 13,
   "id": "cc5805f0",
   "metadata": {},
   "outputs": [
    {
     "name": "stdout",
     "output_type": "stream",
     "text": [
      "[INFO] the original string is:Gfg is best . Geeks are good and Geeks like Gfg\n",
      "[INFO] The words frequency:{'Gfg': 2, 'is': 1, 'best': 1, '.': 1, 'Geeks': 2, 'are': 1, 'good': 1, 'and': 1, 'like': 1}\n"
     ]
    }
   ],
   "source": [
    "import operator as op\n",
    "test_str=\"Gfg is best . Geeks are good and Geeks like Gfg\"\n",
    "print(f\"[INFO] the original string is:{test_str}\")\n",
    "list_str=test_str.split()\n",
    "result={key:op.countOf(list_str,key) for key in list_str}\n",
    "print(f\"[INFO] The words frequency:{result}\")"
   ]
  },
  {
   "cell_type": "code",
   "execution_count": 14,
   "id": "c88ca3e0",
   "metadata": {},
   "outputs": [
    {
     "name": "stdout",
     "output_type": "stream",
     "text": [
      "[INFO] the original string is:Gfg is best . Geeks are good and Geeks like Gfg\n",
      "[INFO] The words frequency:{'like': 1, '.': 1, 'Gfg': 2, 'are': 1, 'good': 1, 'best': 1, 'and': 1, 'is': 1, 'Geeks': 2}\n"
     ]
    }
   ],
   "source": [
    "test_str=\"Gfg is best . Geeks are good and Geeks like Gfg\"\n",
    "print(f\"[INFO] the original string is:{test_str}\")\n",
    "list_str=test_str.split()\n",
    "result={key: list_str.count(key) for key in set(list_str)}\n",
    "print(f\"[INFO] The words frequency:{result}\")"
   ]
  },
  {
   "cell_type": "markdown",
   "id": "359f07e9",
   "metadata": {},
   "source": [
    "###  Successive Characters Frequency"
   ]
  },
  {
   "cell_type": "code",
   "execution_count": 17,
   "id": "0865c522",
   "metadata": {},
   "outputs": [
    {
     "name": "stdout",
     "output_type": "stream",
     "text": [
      "[INFO] the original string is:geeksforgeeks is best for geeks. A geek should take interest.\n",
      "[INFO] The Characters Frequency is :{'s': 3, ' ': 1}\n"
     ]
    }
   ],
   "source": [
    "import re\n",
    "test_str = 'geeksforgeeks is best for geeks. A geek should take interest.'\n",
    "print(f\"[INFO] the original string is:{test_str}\")\n",
    "que_word=\"geek\"\n",
    "\n",
    "temp=[]\n",
    "for sub in re.findall(que_word + \".\" , test_str):\n",
    "    temp.append(sub[-1])\n",
    "    \n",
    "result={que_word:temp.count(que_word) for que_word in temp}\n",
    "print(f\"[INFO] The Characters Frequency is :{result}\")"
   ]
  },
  {
   "cell_type": "code",
   "execution_count": 18,
   "id": "14e8fe22",
   "metadata": {},
   "outputs": [
    {
     "name": "stdout",
     "output_type": "stream",
     "text": [
      "[INFO] the original string is:geeksforgeeks is best for geeks. A geek should take interest.\n",
      "[INFO] The Characters Frequency is :{'s': 3, ' ': 1}\n"
     ]
    }
   ],
   "source": [
    "from collections import Counter\n",
    "import re\n",
    "test_str = 'geeksforgeeks is best for geeks. A geek should take interest.'\n",
    "print(f\"[INFO] the original string is:{test_str}\")\n",
    "que_word=\"geek\"\n",
    "\n",
    "result= dict(Counter(re.findall(f'{que_word}(.)',test_str,flags=re.IGNORECASE)))\n",
    "print(f\"[INFO] The Characters Frequency is :{result}\")"
   ]
  },
  {
   "cell_type": "code",
   "execution_count": 19,
   "id": "39712fd6",
   "metadata": {},
   "outputs": [
    {
     "name": "stdout",
     "output_type": "stream",
     "text": [
      "[INFO] the original string is:geeksforgeeks is best for geeks. A geek should take interest.\n",
      "[INFO] The Characters Frequency is :{'s': 3, ' ': 1}\n"
     ]
    }
   ],
   "source": [
    "import re\n",
    "import operator as op\n",
    "test_str = 'geeksforgeeks is best for geeks. A geek should take interest.'\n",
    "print(f\"[INFO] the original string is:{test_str}\")\n",
    "que_word=\"geek\"\n",
    "\n",
    "temp=[]\n",
    "for sub in re.findall(que_word + \".\",test_str):\n",
    "    temp.append(sub[-1])\n",
    "    \n",
    "result={que_word:op.countOf(temp,que_word) for que_word in temp}\n",
    "print(f\"[INFO] The Characters Frequency is :{result}\")"
   ]
  },
  {
   "cell_type": "code",
   "execution_count": 20,
   "id": "e5085d99",
   "metadata": {},
   "outputs": [
    {
     "name": "stdout",
     "output_type": "stream",
     "text": [
      "[INFO] the original string is:geeksforgeeks is best for geeks. A geek should take interest.\n",
      "[INFO] The Characters Frequency is :{'s': 3, ' ': 1}\n"
     ]
    }
   ],
   "source": [
    "test_str = 'geeksforgeeks is best for geeks. A geek should take interest.'\n",
    "print(f\"[INFO] the original string is:{test_str}\")\n",
    "que_word=\"geek\"\n",
    "\n",
    "freq_dict={}\n",
    "for i in range(len(test_str)-1):\n",
    "    if test_str[i:i+len(que_word)] == que_word:\n",
    "        char=test_str[i+len(que_word)]\n",
    "        if char in freq_dict:\n",
    "            freq_dict[char] += 1\n",
    "        else:\n",
    "            freq_dict[char] = 1\n",
    "print(f\"[INFO] The Characters Frequency is :{result}\")"
   ]
  },
  {
   "cell_type": "markdown",
   "id": "cae5242d",
   "metadata": {},
   "source": [
    "### Sort String list by K character frequency"
   ]
  },
  {
   "cell_type": "code",
   "execution_count": 24,
   "id": "f4829978",
   "metadata": {},
   "outputs": [
    {
     "name": "stdout",
     "output_type": "stream",
     "text": [
      "The original list is : ['geekforgeeks', 'is', 'best', 'for', 'geeks']\n",
      "Sorted String : ['geekforgeeks', 'geeks', 'best', 'is', 'for']\n"
     ]
    }
   ],
   "source": [
    "test_list = [\"geekforgeeks\", \"is\", \"best\", \"for\", \"geeks\"]\n",
    "print(\"The original list is : \" + str(test_list))\n",
    "k=\"e\"\n",
    "result=sorted(test_list,key=lambda ele: -ele.count(k))\n",
    "print(\"Sorted String : \" + str(result))"
   ]
  },
  {
   "cell_type": "code",
   "execution_count": 25,
   "id": "68eb8194",
   "metadata": {},
   "outputs": [
    {
     "name": "stdout",
     "output_type": "stream",
     "text": [
      "The original list is : ['geekforgeeks', 'is', 'best', 'for', 'geeks']\n",
      "Sorted String : ['geekforgeeks', 'geeks', 'best', 'is', 'for']\n"
     ]
    }
   ],
   "source": [
    "test_list = [\"geekforgeeks\", \"is\", \"best\", \"for\", \"geeks\"]\n",
    "print(\"The original list is : \" + str(test_list))\n",
    "k=\"e\"\n",
    "test_list.sort(key=lambda ele:-ele.count(k))\n",
    "print(\"Sorted String : \" + str(result))"
   ]
  },
  {
   "cell_type": "code",
   "execution_count": 26,
   "id": "95fd9978",
   "metadata": {},
   "outputs": [
    {
     "name": "stdout",
     "output_type": "stream",
     "text": [
      "The original list is : ['geekforgeeks', 'is', 'best', 'for', 'geeks']\n",
      "Sorted String:['geekforgeeks', 'geeks', 'best', 'is', 'for']\n"
     ]
    }
   ],
   "source": [
    "import operator as op\n",
    "test_list = [\"geekforgeeks\", \"is\", \"best\", \"for\", \"geeks\"]\n",
    "print(\"The original list is : \" + str(test_list))\n",
    "k=\"e\"\n",
    "result=sorted(test_list,key=lambda ele: -op.countOf(ele,k))\n",
    "print(\"Sorted String:\" +str(result))"
   ]
  },
  {
   "cell_type": "markdown",
   "id": "73aecd21",
   "metadata": {},
   "source": [
    "### Convert Snake case to Pascal case"
   ]
  },
  {
   "cell_type": "code",
   "execution_count": 29,
   "id": "8ff45605",
   "metadata": {},
   "outputs": [
    {
     "name": "stdout",
     "output_type": "stream",
     "text": [
      "The original string is : geeksforgeeks_is_best\n",
      "The String after changing case : GeeksforgeeksIsBest\n"
     ]
    }
   ],
   "source": [
    "test_str = 'geeksforgeeks_is_best'\n",
    " \n",
    "# printing original string\n",
    "print(\"The original string is : \" + test_str)\n",
    "result= test_str.replace(\"_\",\" \").title().replace(\" \",\"\")\n",
    "print(\"The String after changing case : \" + str(result)) "
   ]
  },
  {
   "cell_type": "code",
   "execution_count": 30,
   "id": "f90a918d",
   "metadata": {},
   "outputs": [
    {
     "name": "stdout",
     "output_type": "stream",
     "text": [
      "The original string is : geeksforgeeks_is_best\n",
      "The String after changing case : GeeksforgeeksIsBest\n"
     ]
    }
   ],
   "source": [
    "import string\n",
    "test_str = 'geeksforgeeks_is_best'\n",
    "print(\"The original string is : \" + test_str)\n",
    "res = string.capwords(test_str.replace(\"_\", \" \")).replace(\" \", \"\")\n",
    "print(\"The String after changing case : \" + str(res)) "
   ]
  },
  {
   "cell_type": "code",
   "execution_count": 32,
   "id": "08146735",
   "metadata": {},
   "outputs": [
    {
     "name": "stdout",
     "output_type": "stream",
     "text": [
      "The original string is : geeksforgeeks_is_best\n",
      "The String after changing case : GeeksforgeeksIsBest\n"
     ]
    }
   ],
   "source": [
    "test_str = 'geeksforgeeks_is_best'\n",
    "print(\"The original string is : \" + test_str)\n",
    "x=test_str.split(\"_\")\n",
    "result=[]\n",
    "for i in x:\n",
    "    i=i.title()\n",
    "    result.append(i)\n",
    "result=\"\".join(result)\n",
    "print(\"The String after changing case : \" + str(res))"
   ]
  },
  {
   "cell_type": "code",
   "execution_count": 34,
   "id": "5863a375",
   "metadata": {},
   "outputs": [
    {
     "name": "stdout",
     "output_type": "stream",
     "text": [
      "GeeksforgeeksIsBest\n"
     ]
    }
   ],
   "source": [
    "def snake_to_pascal_case_1(snake_str):\n",
    "    words=snake_str.split(\"_\")\n",
    "    pascal_str=\"\".join([word.capitalize() for word in words])\n",
    "    return pascal_str\n",
    "\n",
    "snake_str='geeksforgeeks_is_best'\n",
    "print(snake_to_pascal_case_1(snake_str))"
   ]
  },
  {
   "cell_type": "code",
   "execution_count": 35,
   "id": "9513d37f",
   "metadata": {},
   "outputs": [
    {
     "name": "stdout",
     "output_type": "stream",
     "text": [
      "GeeksforgeeksIsBest\n"
     ]
    }
   ],
   "source": [
    "string = 'geeksforgeeks_is_best'\n",
    "words=string.split(\"_\")\n",
    "capitalized_words=[word.title() for word in words]\n",
    "result=\"\".join(capitalized_words)\n",
    "print(result)"
   ]
  },
  {
   "cell_type": "code",
   "execution_count": 36,
   "id": "c43afde2",
   "metadata": {},
   "outputs": [
    {
     "name": "stdout",
     "output_type": "stream",
     "text": [
      "The original string is : geeksforgeeks_is_best\n",
      "The string after changing case: GeeksforgeeksIsBest\n"
     ]
    }
   ],
   "source": [
    "from functools import reduce\n",
    "test_str = 'geeksforgeeks_is_best'\n",
    "print(\"The original string is : \" + test_str)\n",
    "result=reduce(lambda a,b:a+b.title(),test_str.split(\"_\"),\"\")\n",
    "print(\"The string after changing case:\",result)"
   ]
  },
  {
   "cell_type": "code",
   "execution_count": 37,
   "id": "6114593e",
   "metadata": {},
   "outputs": [
    {
     "name": "stdout",
     "output_type": "stream",
     "text": [
      "GeeksForGeeks\n",
      "LeftIndex\n"
     ]
    }
   ],
   "source": [
    "def snake_to_pascal(input_str):\n",
    "    result=\"\"\n",
    "    capitalize_next_word = True\n",
    "    for char in input_str:\n",
    "        if char ==\"_\":\n",
    "            capitalize_next_word = True\n",
    "        elif capitalize_next_word:\n",
    "            result += char.upper()\n",
    "            capitalize_next_word= False\n",
    "        else:\n",
    "            result += char\n",
    "    return result\n",
    "\n",
    "\n",
    "print(snake_to_pascal(\"geeks_for_geeks\"))\n",
    "print(snake_to_pascal(\"left_index\"))"
   ]
  },
  {
   "cell_type": "markdown",
   "id": "1c937490",
   "metadata": {},
   "source": [
    "### Avoid Last occurrence of delimiter"
   ]
  },
  {
   "cell_type": "code",
   "execution_count": 39,
   "id": "442cc4d7",
   "metadata": {},
   "outputs": [
    {
     "name": "stdout",
     "output_type": "stream",
     "text": [
      "The original list is : [4, 7, 8, 3, 2, 1, 9]\n",
      "The joined string: 4$7$8$3$2$1$9\n"
     ]
    }
   ],
   "source": [
    "test_list = [4, 7, 8, 3, 2, 1, 9]\n",
    "print(\"The original list is : \" + str(test_list))\n",
    "delim = \"$\"\n",
    "result=\"\"\n",
    "for ele in test_list:\n",
    "    result += str(ele) + \"$\"\n",
    "    \n",
    "result=result[:len(result)-1]\n",
    "print(\"The joined string:\",result)"
   ]
  },
  {
   "cell_type": "code",
   "execution_count": 40,
   "id": "8884b905",
   "metadata": {},
   "outputs": [
    {
     "name": "stdout",
     "output_type": "stream",
     "text": [
      "The original list is : [4, 7, 8, 3, 2, 1, 9]\n",
      "The joined string: 4$7$8$3$2$1$9\n"
     ]
    }
   ],
   "source": [
    "test_list = [4, 7, 8, 3, 2, 1, 9]\n",
    "print(\"The original list is : \" + str(test_list))\n",
    "delim = \"$\"\n",
    "result=delim.join(map(str,test_list))\n",
    "print(\"The joined string:\",result)"
   ]
  },
  {
   "cell_type": "code",
   "execution_count": 41,
   "id": "370f8684",
   "metadata": {},
   "outputs": [
    {
     "name": "stdout",
     "output_type": "stream",
     "text": [
      "The original list is : [4, 7, 8, 3, 2, 1, 9]\n",
      "The joined string: 4$7$8$3$2$1$\n"
     ]
    }
   ],
   "source": [
    "test_list = [4, 7, 8, 3, 2, 1, 9]\n",
    "print(\"The original list is : \" + str(test_list))\n",
    "delim = \"$\"\n",
    "result=delim.join([str(ele) for ele in test_list])\n",
    "result=result[:-1]\n",
    "print(\"The joined string:\",result)"
   ]
  },
  {
   "cell_type": "code",
   "execution_count": 42,
   "id": "a36c31ce",
   "metadata": {},
   "outputs": [
    {
     "name": "stdout",
     "output_type": "stream",
     "text": [
      "The original list is : [4, 7, 8, 3, 2, 1, 9]\n",
      "The joined string: 4$7$8$3$2$1$9\n"
     ]
    }
   ],
   "source": [
    "from functools import reduce\n",
    "test_list = [4, 7, 8, 3, 2, 1, 9]\n",
    "print(\"The original list is : \" + str(test_list))\n",
    "delim=\"$\"\n",
    "result=reduce(lambda x,y:str(x) + delim + str(y),test_list)\n",
    "print(\"The joined string:\",result)"
   ]
  },
  {
   "cell_type": "code",
   "execution_count": 43,
   "id": "70e2b20c",
   "metadata": {},
   "outputs": [
    {
     "name": "stdout",
     "output_type": "stream",
     "text": [
      "The original list is : [4, 7, 8, 3, 2, 1, 9]\n",
      "The joined string: 4$7$8$3$2$1$9\n"
     ]
    }
   ],
   "source": [
    "from functools import reduce\n",
    "test_list = [4, 7, 8, 3, 2, 1, 9]\n",
    "print(\"The original list is : \" + str(test_list))\n",
    "delim=\"$\"\n",
    "result=delim.join(map(str,test_list))\n",
    "result=result.strip(delim)\n",
    "print(\"The joined string:\",result)"
   ]
  },
  {
   "cell_type": "markdown",
   "id": "1873e26d",
   "metadata": {},
   "source": [
    "### Python program to find the character position of Kth word from a list of strings"
   ]
  },
  {
   "cell_type": "code",
   "execution_count": 45,
   "id": "6837f337",
   "metadata": {},
   "outputs": [
    {
     "name": "stdout",
     "output_type": "stream",
     "text": [
      "The original list is : ['geekforgeeks', 'is', 'best', 'for', 'geeks']\n",
      "Index of charecter at kth position word: 2\n"
     ]
    }
   ],
   "source": [
    "test_list=[\"geekforgeeks\", \"is\", \"best\", \"for\", \"geeks\"]\n",
    "print(\"The original list is : \" + str(test_list))\n",
    " \n",
    "# initializing K\n",
    "K = 20\n",
    "result=[ele[0] for sub in enumerate(test_list) for ele in enumerate(sub[1])]\n",
    "result=result[K]\n",
    "print(\"Index of charecter at kth position word:\",result)"
   ]
  },
  {
   "cell_type": "code",
   "execution_count": 46,
   "id": "1116721c",
   "metadata": {},
   "outputs": [
    {
     "name": "stdout",
     "output_type": "stream",
     "text": [
      "The original list is : ['geekforgeeks', 'is', 'best', 'for', 'geeks']\n",
      "Index of charecter at kth position word: 2\n"
     ]
    }
   ],
   "source": [
    "from itertools import count\n",
    "test_list=[\"geekforgeeks\", \"is\", \"best\", \"for\", \"geeks\"]\n",
    "print(\"The original list is : \" + str(test_list))\n",
    "k=20\n",
    "cnt=count()\n",
    "result=next(j for sub in test_list for j,idx in zip(range(len(sub)),cnt) if idx==k)\n",
    "print(\"Index of charecter at kth position word:\",result)"
   ]
  },
  {
   "cell_type": "code",
   "execution_count": 47,
   "id": "b6392954",
   "metadata": {},
   "outputs": [
    {
     "name": "stdout",
     "output_type": "stream",
     "text": [
      "The original list is : ['geekforgeeks', 'is', 'best', 'for', 'geeks']\n",
      "Index of charecter at kth position word: 2\n"
     ]
    }
   ],
   "source": [
    "test_list=[\"geekforgeeks\", \"is\", \"best\", \"for\", \"geeks\"]\n",
    "print(\"The original list is : \" + str(test_list))\n",
    "k=20\n",
    "idx=0\n",
    "for word in test_list:\n",
    "    if idx + len(word)>k:\n",
    "        print(\"Index of charecter at kth position word:\",(k-idx))\n",
    "        break\n",
    "        \n",
    "    else:\n",
    "        idx += len(word)\n",
    "        \n",
    "else:\n",
    "    print(\"K th is beyond the end of the list\")"
   ]
  },
  {
   "cell_type": "markdown",
   "id": "966bbf4a",
   "metadata": {},
   "source": [
    "### Right and Left Shift characters in String"
   ]
  },
  {
   "cell_type": "code",
   "execution_count": 49,
   "id": "79b20b1c",
   "metadata": {},
   "outputs": [
    {
     "name": "stdout",
     "output_type": "stream",
     "text": [
      "The Original string is: geeksforgeeks\n",
      "The string after rotation is : sforgeeksgeek\n"
     ]
    }
   ],
   "source": [
    "test_str = 'geeksforgeeks'\n",
    "print(\"The Original string is:\",test_str)\n",
    "r_rot=7\n",
    "l_rot=3\n",
    "\n",
    "result=(test_str * 3)[len(test_str) + r_rot - l_rot:\n",
    "                     2*len(test_str) + r_rot - l_rot]\n",
    "print(\"The string after rotation is : \" + str(result))\n"
   ]
  },
  {
   "cell_type": "code",
   "execution_count": 1,
   "id": "a3fb5646",
   "metadata": {},
   "outputs": [
    {
     "name": "stdout",
     "output_type": "stream",
     "text": [
      "The Original string is: geeksforgeeks\n",
      "[INFO] The string after rotation is :sforgeeksgeek \n"
     ]
    }
   ],
   "source": [
    "test_str = 'geeksforgeeks'\n",
    "print(\"The Original string is:\",test_str)\n",
    "r_rot=7\n",
    "l_rot=3\n",
    "\n",
    "temp=(r_rot - l_rot)%len(test_str)\n",
    "result=test_str[temp:] + test_str[:temp]\n",
    "print(f\"[INFO] The string after rotation is :{result} \" )\n"
   ]
  },
  {
   "cell_type": "code",
   "execution_count": 5,
   "id": "b27c49e9",
   "metadata": {},
   "outputs": [
    {
     "name": "stdout",
     "output_type": "stream",
     "text": [
      "Original String: geeksforgeeks\n",
      "Left Rotate String: ksforgeeksgee\n",
      "Right Rotate String: eksgeeksforge\n"
     ]
    }
   ],
   "source": [
    "def left_shift_string(string,n):\n",
    "    char_list=list(string)\n",
    "    rotate_list=char_list[n:]+char_list[:n]\n",
    "    rotate_string=\"\".join(rotate_list)\n",
    "    return rotate_string\n",
    "def right_shift_string(string,n):\n",
    "    char_list=list(string)\n",
    "    rotate_list=char_list[-n:] + char_list[:-n]\n",
    "    rotate_string=\"\".join(rotate_list)\n",
    "    return rotate_string\n",
    "\n",
    "string=\"geeksforgeeks\"\n",
    "n=3\n",
    "print(\"Original String:\",string)\n",
    "print(\"Left Rotate String:\",left_shift_string(string,n))\n",
    "print(\"Right Rotate String:\",right_shift_string(string,n))"
   ]
  },
  {
   "cell_type": "code",
   "execution_count": 7,
   "id": "75a8694a",
   "metadata": {},
   "outputs": [
    {
     "name": "stdout",
     "output_type": "stream",
     "text": [
      "Original String: geeksforgeeks\n"
     ]
    },
    {
     "data": {
      "text/plain": [
       "'sforgeeksgeek'"
      ]
     },
     "execution_count": 7,
     "metadata": {},
     "output_type": "execute_result"
    }
   ],
   "source": [
    "test_str='geeksforgeeks'\n",
    "print(\"Original String:\",string)\n",
    "r_rot=7\n",
    "l_rot=3\n",
    "rotate = lambda s:(s*3)[len(s) + r_rot - l_rot: 2*len(s) + r_rot - l_rot]\n",
    "result=rotate(test_str)\n",
    "result"
   ]
  },
  {
   "cell_type": "markdown",
   "id": "0cab5294",
   "metadata": {},
   "source": [
    "### Exceptional Split in String"
   ]
  },
  {
   "cell_type": "code",
   "execution_count": 9,
   "id": "08fa63f7",
   "metadata": {},
   "outputs": [
    {
     "name": "stdout",
     "output_type": "stream",
     "text": [
      "The original string is : gfg, is, (best, for), geeks\n",
      "The string after exceptional split : ['gfg, is, (best, for), geeks']\n"
     ]
    }
   ],
   "source": [
    "test_str = \"gfg, is, (best, for), geeks\"\n",
    "print(\"The original string is : \" + test_str)\n",
    "temp=\"\"\n",
    "result=[]\n",
    "check=0\n",
    "for ele in test_str:\n",
    "    if ele ==\"(\":\n",
    "        check += 1\n",
    "    elif ele == \")\":\n",
    "        check -= 1\n",
    "    if ele == \", \" and check ==0:\n",
    "        if temp.strip():\n",
    "            result.append(temp)\n",
    "        temp=\"\"\n",
    "    else:\n",
    "        temp += ele\n",
    "        \n",
    "if temp.strip():\n",
    "    result.append(temp)\n",
    "    \n",
    "    \n",
    "print(\"The string after exceptional split : \" + str(result))\n",
    "    "
   ]
  },
  {
   "cell_type": "code",
   "execution_count": 12,
   "id": "d0f8d696",
   "metadata": {},
   "outputs": [
    {
     "name": "stdout",
     "output_type": "stream",
     "text": [
      "The original string is : gfg, is, (best, for), geeks\n",
      "The string after exceptional split : ['gfg', ' is', ' (best', ' for)', ' geeks']\n"
     ]
    }
   ],
   "source": [
    "import re\n",
    "test_str = \"gfg, is, (best, for), geeks\"\n",
    " \n",
    "# printing original string\n",
    "print(\"The original string is : \" + test_str)\n",
    "result=re.split(r\",(?!\\S\\)|\\()\",test_str)\n",
    "print(\"The string after exceptional split : \" + str(result))\n"
   ]
  },
  {
   "cell_type": "code",
   "execution_count": 16,
   "id": "d9aee1e9",
   "metadata": {},
   "outputs": [
    {
     "name": "stdout",
     "output_type": "stream",
     "text": [
      "The original string is : gfg, is, (best, for), geeks\n",
      "The string after exceptional split :  ['gfg', 'is', '(best', 'for)', 'geeks']\n"
     ]
    }
   ],
   "source": [
    "test_str=\"gfg, is, (best, for), geeks\"\n",
    "print(\"The original string is : \" + test_str)\n",
    "patterns = [', ', ', (' ]\n",
    "split_str = test_str.split(', ')\n",
    "res_list = [split_str[0]]\n",
    "for i in range(1, len(split_str)):\n",
    "    if any(split_str[i-1].endswith(p) for p in patterns):\n",
    "        res_list[-1] += ', ' + split_str[i]\n",
    "    else:\n",
    "        res_list.append(split_str[i])\n",
    " \n",
    "\n",
    "print(\"The string after exceptional split : \",res_list)\n"
   ]
  },
  {
   "cell_type": "markdown",
   "id": "d1a16e69",
   "metadata": {},
   "source": [
    "### Split String on vowels"
   ]
  },
  {
   "cell_type": "code",
   "execution_count": 17,
   "id": "b078a50d",
   "metadata": {},
   "outputs": [
    {
     "name": "stdout",
     "output_type": "stream",
     "text": [
      "['GFG', 'Bst', 'f', 'r', 'g', 'ks']\n"
     ]
    }
   ],
   "source": [
    "def split_on_vowels(test_str):\n",
    "    vowel=\"aeiouAEIOU\"\n",
    "    result =[]\n",
    "    temp = \"\"\n",
    "    for char in test_str:\n",
    "        if char in vowel:\n",
    "            if temp!=\"\":\n",
    "                result.append(temp)\n",
    "                temp = \"\"\n",
    "        else:\n",
    "            temp += char\n",
    "    if temp != \"\":\n",
    "        result.append(temp)\n",
    "    return result\n",
    "\n",
    "test_str = 'GFGaBstuforigeeks'\n",
    "print(split_on_vowels(test_str))"
   ]
  },
  {
   "cell_type": "code",
   "execution_count": 18,
   "id": "11a9e6cc",
   "metadata": {},
   "outputs": [
    {
     "name": "stdout",
     "output_type": "stream",
     "text": [
      "The original string is : gfgabste4ocs\n",
      "The splitted string: ['gfg', 'bst', '4', 'cs']\n"
     ]
    }
   ],
   "source": [
    "import re \n",
    "test_str = \"GFGaBste4oCS\"\n",
    "print(\"The original string is :\",test_str.lower())\n",
    "result=re.split(\"a|e|i|o|u\",test_str.lower())\n",
    "print(\"The splitted string:\",result)"
   ]
  },
  {
   "cell_type": "code",
   "execution_count": 19,
   "id": "fd2724b2",
   "metadata": {},
   "outputs": [
    {
     "name": "stdout",
     "output_type": "stream",
     "text": [
      "The original string is : gfgabste4ocs\n",
      "The splitted string: ['GFG', 'Bst', '4', 'CS']\n"
     ]
    }
   ],
   "source": [
    "test_str = \"GFGaBste4oCS\"\n",
    "print(\"The original string is :\",test_str.lower())\n",
    "vowel = \"aeiouAEIOU\"\n",
    "for i in test_str:\n",
    "    if i in vowel:\n",
    "        test_str = test_str.replace(i,\"*\")\n",
    "result=test_str.split(\"*\")\n",
    "print(\"The splitted string:\",result)"
   ]
  },
  {
   "cell_type": "code",
   "execution_count": 20,
   "id": "adcf8a0f",
   "metadata": {},
   "outputs": [
    {
     "name": "stdout",
     "output_type": "stream",
     "text": [
      "The original string is : gfgabste4ocs\n",
      "The splitted string: ['GFG', 'Bst', '4', 'CS']\n"
     ]
    }
   ],
   "source": [
    "test_str = \"GFGaBste4oCS\"\n",
    "print(\"The original string is :\",test_str.lower())\n",
    "x=[97, 101, 105, 111, 117, 65, 69, 73, 79, 85]\n",
    "for i in test_str:\n",
    "    if ord(i) in x:\n",
    "        test_str = test_str.replace(i,\"*\")\n",
    "result = test_str.split(\"*\")\n",
    "print(\"The splitted string:\",result)"
   ]
  },
  {
   "cell_type": "code",
   "execution_count": 21,
   "id": "f2c50c51",
   "metadata": {},
   "outputs": [
    {
     "name": "stdout",
     "output_type": "stream",
     "text": [
      "The original string is : void\n",
      "The mirror string: voib\n"
     ]
    }
   ],
   "source": [
    "test_str = \"void\"\n",
    "print(\"The original string is :\",test_str.lower())\n",
    "mir_dict = {'b':'d', 'd':'b', 'i':'i', 'o':'o', 'v':'v', 'w':'w', 'x':'x'}\n",
    "result = \"\"\n",
    "for ele in test_str:\n",
    "    if ele in mir_dict:\n",
    "        result += mir_dict[ele]\n",
    "    else:\n",
    "        result = \"Not Possible\"\n",
    "        break\n",
    "        \n",
    "print(\"The mirror string:\",result)"
   ]
  },
  {
   "cell_type": "code",
   "execution_count": 23,
   "id": "90ebf659",
   "metadata": {},
   "outputs": [
    {
     "name": "stdout",
     "output_type": "stream",
     "text": [
      "The original string is : void\n",
      "The mirror string : voib\n"
     ]
    }
   ],
   "source": [
    "test_str = \"void\"\n",
    "print(\"The original string is :\",test_str.lower())\n",
    "mir_dict = {'b':'d', 'd':'b', 'i':'i', 'o':'o', 'v':'v', 'w':'w', 'x':'x'}\n",
    "result = \"\"\n",
    "rev_str = test_str[::-1]\n",
    "for ele in rev_str:\n",
    "    if ele in mir_dict:\n",
    "        result += mir_dict[ele]\n",
    "    else:\n",
    "        result = \"Not Possible\"\n",
    "        \n",
    "mir_str=result[::-1]\n",
    "print(\"The mirror string : \" + str(mir_str))"
   ]
  },
  {
   "cell_type": "code",
   "execution_count": 26,
   "id": "751659e4",
   "metadata": {},
   "outputs": [
    {
     "name": "stdout",
     "output_type": "stream",
     "text": [
      "The original string is : Geeksforgeeks is best for geeks and CS\n",
      "String after multiple replace: Geeksforgeeks is gfg gfg geeks and gfg\n"
     ]
    }
   ],
   "source": [
    "test_str = 'Geeksforgeeks is best for geeks and CS'\n",
    "print(\"The original string is :\",test_str)\n",
    "word_list = [\"best\", 'CS', 'for'] \n",
    "repl_word = \"gfg\"\n",
    "result=\" \".join([repl_word if idx in word_list else idx for idx in test_str.split()])\n",
    "print(\"String after multiple replace:\",result)"
   ]
  },
  {
   "cell_type": "code",
   "execution_count": 27,
   "id": "c1a95ac8",
   "metadata": {},
   "outputs": [
    {
     "name": "stdout",
     "output_type": "stream",
     "text": [
      "The original string is : Geeksforgeeks is best for geeks and CS\n",
      "String after multiple replace: Geeksgfggeeks is gfg gfg geeks and gfg\n"
     ]
    }
   ],
   "source": [
    "test_str = 'Geeksforgeeks is best for geeks and CS'\n",
    "print(\"The original string is :\",test_str)\n",
    "word_list = [\"best\", 'CS', 'for'] \n",
    "repl_word = \"gfg\"\n",
    "result = re.sub(\"|\".join(sorted(word_list,key=len,reverse=True)),repl_word,test_str)\n",
    "print(\"String after multiple replace:\",result)"
   ]
  },
  {
   "cell_type": "code",
   "execution_count": 28,
   "id": "98e0ec57",
   "metadata": {},
   "outputs": [
    {
     "name": "stdout",
     "output_type": "stream",
     "text": [
      "The original string is : Geeksforgeeks is best for geeks and CS\n",
      "String after multiple replace: Geeksgfggeeks is gfg gfg geeks and gfg\n"
     ]
    }
   ],
   "source": [
    "test_str = 'Geeksforgeeks is best for geeks and CS'\n",
    "print(\"The original string is :\",test_str)\n",
    "word_list = [\"best\", 'CS', 'for'] \n",
    "repl_word = \"gfg\"\n",
    "for i in word_list:\n",
    "    test_str = test_str.replace(i,repl_word)\n",
    "    \n",
    "print(\"String after multiple replace:\",result)"
   ]
  },
  {
   "cell_type": "code",
   "execution_count": 29,
   "id": "be512025",
   "metadata": {},
   "outputs": [
    {
     "name": "stdout",
     "output_type": "stream",
     "text": [
      "String after multiple replace : Geeksgfggeeks is gfg gfg geeks and gfg\n"
     ]
    }
   ],
   "source": [
    "import re\n",
    "def multiple_replace(text,word_dict):\n",
    "    pattern = re.compile(\"|\".join(map(re.escape,word_dict.keys())))\n",
    "    return pattern.sub(lambda x:word_dict[x.group(0)],text)\n",
    "\n",
    "text = 'Geeksforgeeks is best for geeks and CS'\n",
    "word_dict = {\"best\": \"gfg\", \"CS\": \"gfg\", \"for\": \"gfg\"}\n",
    " \n",
    "#replace the words in the text using the dictionary\n",
    "result = multiple_replace(text, word_dict)\n",
    " \n",
    "print(\"String after multiple replace : \" + str(result))"
   ]
  },
  {
   "cell_type": "code",
   "execution_count": 30,
   "id": "ef5531b7",
   "metadata": {},
   "outputs": [
    {
     "name": "stdout",
     "output_type": "stream",
     "text": [
      "The original string is : Geeksforgeeks is best for geeks and CS\n",
      "String after multiple replace : Geeksgfggeeks is gfg gfg geeks and gfg\n"
     ]
    }
   ],
   "source": [
    "from functools import reduce\n",
    "test_str = 'Geeksforgeeks is best for geeks and CS'\n",
    "print(\"The original string is :\",test_str)\n",
    "word_list = [\"best\", 'CS', 'for'] \n",
    "repl_word = \"gfg\"\n",
    "replace_func =lambda s,w:s.replace(w,repl_word)\n",
    "result=reduce(replace_func,word_list,test_str)\n",
    "print(\"String after multiple replace : \" + str(result))"
   ]
  },
  {
   "cell_type": "markdown",
   "id": "0ac6b524",
   "metadata": {},
   "source": [
    "### Replace Different characters in String at Once"
   ]
  },
  {
   "cell_type": "code",
   "execution_count": 31,
   "id": "0e0c1aba",
   "metadata": {},
   "outputs": [
    {
     "name": "stdout",
     "output_type": "stream",
     "text": [
      "The original string is: geeksforgeeks is best\n",
      "The converted string :  g11ksforg11ks 4s 61st\n"
     ]
    }
   ],
   "source": [
    "test_str = \"geeksforgeeks is best\"\n",
    "print(\"The original string is:\",test_str)\n",
    "map_dict = {'e': '1', 'b': '6', 'i': '4'}\n",
    "result = \"\".join(idx if idx not in map_dict else map_dict[idx] for idx in test_str)\n",
    "print(\"The converted string : \",result)"
   ]
  },
  {
   "cell_type": "code",
   "execution_count": 35,
   "id": "45449cb2",
   "metadata": {},
   "outputs": [
    {
     "name": "stdout",
     "output_type": "stream",
     "text": [
      "The original string is: geeksforgeeks is best\n",
      "The converted string :  g11ksforg11ks 4s 61st\n"
     ]
    }
   ],
   "source": [
    "test_str = \"geeksforgeeks is best\"\n",
    "print(\"The original string is:\",test_str)\n",
    "map_dict = {'e': '1', 'b': '6', 'i': '4'}\n",
    "for i in test_str:\n",
    "    if i in map_dict.keys():\n",
    "        test_str = test_str.replace(i,map_dict[i])\n",
    "        \n",
    "print(\"The converted string : \",test_str)       "
   ]
  },
  {
   "cell_type": "code",
   "execution_count": 36,
   "id": "e4223297",
   "metadata": {},
   "outputs": [
    {
     "name": "stdout",
     "output_type": "stream",
     "text": [
      "The original string is: geeksforgeeks is best\n",
      "The converted string :  g11ksforg11ks 4s 61st\n"
     ]
    }
   ],
   "source": [
    "test_str = \"geeksforgeeks is best\"\n",
    "print(\"The original string is:\",test_str)\n",
    "map_dict = {'e': '1', 'b': '6', 'i': '4'}\n",
    "result= \"\".join([map_dict.get(char,char) for char in test_str])\n",
    "print(\"The converted string : \",result)"
   ]
  },
  {
   "cell_type": "code",
   "execution_count": 2,
   "id": "1eb500d3",
   "metadata": {},
   "outputs": [
    {
     "name": "stdout",
     "output_type": "stream",
     "text": [
      "The original string is: geeksforgeeks is best\n",
      "g11ksforg11ks 4s 61st\n"
     ]
    }
   ],
   "source": [
    "from functools import reduce\n",
    "test_str = \"geeksforgeeks is best\"\n",
    "print(\"The original string is:\",test_str)\n",
    "map_dict = {'e': '1', 'b': '6', 'i': '4'}\n",
    "result = reduce(lambda k,val:k.replace(val[0],val[1]) ,map_dict.items(),test_str)\n",
    "print(result)"
   ]
  },
  {
   "cell_type": "markdown",
   "id": "9591d65b",
   "metadata": {},
   "source": [
    "### Multiple indices Replace in String"
   ]
  },
  {
   "cell_type": "code",
   "execution_count": 6,
   "id": "4411e60a",
   "metadata": {},
   "outputs": [
    {
     "name": "stdout",
     "output_type": "stream",
     "text": [
      "[INFO] The original string is :geeksforgeeks is best\n",
      "[INFO] The string after performing replace:ge*k*fo*ge*ks is best\n"
     ]
    }
   ],
   "source": [
    "test_str = \"geeksforgeeks is best\"\n",
    "print(f\"[INFO] The original string is :{test_str}\")\n",
    "test_list = [2,4,7,10]\n",
    "replace_char = \"*\"\n",
    "temp = list(test_str)\n",
    "for idx in test_list:\n",
    "    temp[idx] = replace_char\n",
    "result = \"\".join(temp)\n",
    "print(f\"[INFO] The string after performing replace:{result}\")"
   ]
  },
  {
   "cell_type": "code",
   "execution_count": 9,
   "id": "91b24644",
   "metadata": {},
   "outputs": [
    {
     "name": "stdout",
     "output_type": "stream",
     "text": [
      "[INFO] The original string is :geeksforgeeks is best\n",
      "[INFO] The string after performing replace:ge*k*fo*ge*ks is best\n"
     ]
    }
   ],
   "source": [
    "test_str = \"geeksforgeeks is best\"\n",
    "print(f\"[INFO] The original string is :{test_str}\")\n",
    "test_list = [2,4,7,10]\n",
    "replace_char = \"*\"\n",
    "temp = list(test_str)\n",
    "result = [replace_char if idx in test_list else val for idx,val in enumerate(temp)]\n",
    "result=\"\".join(result)\n",
    "print(f\"[INFO] The string after performing replace:{result}\")"
   ]
  },
  {
   "cell_type": "code",
   "execution_count": 11,
   "id": "8baa2efd",
   "metadata": {},
   "outputs": [
    {
     "name": "stdout",
     "output_type": "stream",
     "text": [
      "[INFO] The original string is :geeksforgeeks is best\n",
      "[INFO] The string after performing replace:ge*k*fo*ge*ks is best\n"
     ]
    }
   ],
   "source": [
    "test_str = \"geeksforgeeks is best\"\n",
    "print(f\"[INFO] The original string is :{test_str}\")\n",
    "test_list = [2,4,7,10]\n",
    "replace_char = \"*\"\n",
    "temp = list(test_str)\n",
    "result = \"\".join(map(lambda x:replace_char if x[0] in test_list else x[1],enumerate(test_str)))\n",
    "print(f\"[INFO] The string after performing replace:{result}\")"
   ]
  },
  {
   "cell_type": "code",
   "execution_count": 12,
   "id": "26d4f53a",
   "metadata": {},
   "outputs": [
    {
     "name": "stdout",
     "output_type": "stream",
     "text": [
      "[INFO] The original string is :geeksforgeeks is best\n",
      "[INFO] The string after performing replace:ge*k*fo*ge*ks is best\n"
     ]
    }
   ],
   "source": [
    "test_str = \"geeksforgeeks is best\"\n",
    "print(f\"[INFO] The original string is :{test_str}\")\n",
    "test_list = [2,4,7,10]\n",
    "replace_char = \"*\"\n",
    "for i in test_list:\n",
    "    test_str = test_str[:i] + replace_char + test_str[i+1 :]\n",
    "    \n",
    "print(f\"[INFO] The string after performing replace:{result}\")"
   ]
  },
  {
   "cell_type": "markdown",
   "id": "10d557b2",
   "metadata": {},
   "source": [
    "### Remove punctuation from string"
   ]
  },
  {
   "cell_type": "code",
   "execution_count": 14,
   "id": "16c77e36",
   "metadata": {},
   "outputs": [
    {
     "name": "stdout",
     "output_type": "stream",
     "text": [
      "Gfg is best for  Geeks \n"
     ]
    }
   ],
   "source": [
    "import string\n",
    "test_str = 'Gfg, is best: for ! Geeks ;'\n",
    "test_str = test_str.translate(str.maketrans(\"\",\"\",string.punctuation))\n",
    "print(test_str)"
   ]
  },
  {
   "cell_type": "code",
   "execution_count": 16,
   "id": "bfb84836",
   "metadata": {},
   "outputs": [
    {
     "name": "stdout",
     "output_type": "stream",
     "text": [
      "[INFO] The Original String is:Gfg, is best: for ! Geeks ;\n",
      "[INFO] The String After punctuation filter:Gfg  is best  for   Geeks  \n"
     ]
    }
   ],
   "source": [
    "test_str = 'Gfg, is best: for ! Geeks ;'\n",
    "print(f\"[INFO] The Original String is:{test_str}\")\n",
    "punc = \"\"\" !()-[]{};:'\"\\,<>./?@#$%^&*_~\"\"\"\n",
    "for ele in test_str:\n",
    "    if ele in punc:\n",
    "        test_str = test_str.replace(ele,\" \")\n",
    "print(f\"[INFO] The String After punctuation filter:{test_str}\")"
   ]
  },
  {
   "cell_type": "code",
   "execution_count": 17,
   "id": "34ff4644",
   "metadata": {},
   "outputs": [
    {
     "name": "stdout",
     "output_type": "stream",
     "text": [
      "GFG is the best.\n"
     ]
    }
   ],
   "source": [
    "def remove_commas(string):\n",
    "    result = \"\"\n",
    "    for char in string:\n",
    "        if char != \",\":\n",
    "            result += char\n",
    "    return result\n",
    "input_string = \"GFG, is, the, best.\"\n",
    "output_string = remove_commas(input_string)\n",
    "print(output_string)"
   ]
  },
  {
   "cell_type": "code",
   "execution_count": 19,
   "id": "3464a22d",
   "metadata": {},
   "outputs": [
    {
     "name": "stdout",
     "output_type": "stream",
     "text": [
      "[INFO] The Original String is:Gfg, is best: for ! Geeks ;\n",
      "[INFO] The String After punctuation filter:Gfg is best for  Geeks \n"
     ]
    }
   ],
   "source": [
    "import re \n",
    "test_str = 'Gfg, is best: for ! Geeks ;'\n",
    "print(f\"[INFO] The Original String is:{test_str}\")\n",
    "result = re.sub(r'[^\\w\\s]',\"\",test_str)\n",
    "print(f\"[INFO] The String After punctuation filter:{result}\")"
   ]
  },
  {
   "cell_type": "code",
   "execution_count": 22,
   "id": "c6887949",
   "metadata": {},
   "outputs": [
    {
     "name": "stdout",
     "output_type": "stream",
     "text": [
      "[INFO] The Original String is: Gfg, is best : for ! Geeks ;\n",
      "[INFO] The String After punctuation filter:  Gfg is best  for  Geeks \n"
     ]
    }
   ],
   "source": [
    "test_str = \"Gfg, is best : for ! Geeks ;\"\n",
    "print(f\"[INFO] The Original String is: {test_str}\")\n",
    "punc = \"\"\"!()-[]{};:'\"\\,<>./?@#$%*_~\"\"\"\n",
    "result = \"\"\n",
    "for ele in test_str:\n",
    "    if ele not in punc:\n",
    "        result += ele\n",
    "print(f\"[INFO] The String After punctuation filter:  {result}\")"
   ]
  },
  {
   "cell_type": "code",
   "execution_count": 27,
   "id": "976db394",
   "metadata": {},
   "outputs": [
    {
     "name": "stdout",
     "output_type": "stream",
     "text": [
      "[INFO] The Original is : Gfg, is best : for ! Geeks ;\n",
      "[INFO] The String after punctions filter: Gfg is best  for  Geeks \n"
     ]
    }
   ],
   "source": [
    "def remove_punctuation(test_str):\n",
    "    print(f\"[INFO] The Original is : {test_str}\")\n",
    "    result = \"\".join(filter(lambda x:x.isalpha() or x.isdigit() or x.isspace(),test_str))\n",
    "    return result\n",
    "\n",
    "test_str = \"Gfg, is best : for ! Geeks ;\"\n",
    "result = remove_punctuation(test_str)\n",
    "print(f\"[INFO] The String after punctions filter: {result}\")"
   ]
  },
  {
   "cell_type": "code",
   "execution_count": null,
   "id": "cd6c7571",
   "metadata": {},
   "outputs": [],
   "source": []
  },
  {
   "cell_type": "code",
   "execution_count": 30,
   "id": "9e3ff7a4",
   "metadata": {},
   "outputs": [
    {
     "name": "stdout",
     "output_type": "stream",
     "text": [
      "The original string is : Gfg, is best : for ! Geeks ;\n",
      "The string after punctuation filter : Gfg is best  for  Geeks \n"
     ]
    }
   ],
   "source": [
    "import string\n",
    "test_str = \"Gfg, is best : for ! Geeks ;\"\n",
    "print(\"The original string is : \" + test_str)\n",
    "for punc in string.punctuation:\n",
    "    test_str = test_str.replace(punc,\"\")\n",
    "    \n",
    "print(\"The string after punctuation filter : \" + test_str)\n"
   ]
  },
  {
   "cell_type": "markdown",
   "id": "2c80a803",
   "metadata": {},
   "source": [
    "### Similar characters Strings comparison"
   ]
  },
  {
   "cell_type": "code",
   "execution_count": 32,
   "id": "a0d80e56",
   "metadata": {},
   "outputs": [
    {
     "name": "stdout",
     "output_type": "stream",
     "text": [
      "The original string 1 is : e:e:k:s:g\n",
      "The original string 2 is : g:e:e:k:s\n",
      "[INFO] String Similar: True\n"
     ]
    }
   ],
   "source": [
    "test_str1 = 'e:e:k:s:g'\n",
    "test_str2 = 'g:e:e:k:s'\n",
    " \n",
    "# printing original strings\n",
    "print(\"The original string 1 is : \" + str(test_str1))\n",
    "print(\"The original string 2 is : \" + str(test_str2))\n",
    "\n",
    "delim = \":\"\n",
    "result = sorted(test_str1.split(delim)) == sorted(test_str2.split(delim))\n",
    "print(f\"[INFO] String Similar: {result}\")"
   ]
  },
  {
   "cell_type": "code",
   "execution_count": 33,
   "id": "ed4b1e13",
   "metadata": {},
   "outputs": [
    {
     "name": "stdout",
     "output_type": "stream",
     "text": [
      "The original string 1 is : e:e:k:s:g\n",
      "The original string 2 is : g:e:e:k:s\n",
      "[INFO] String Similar: True\n"
     ]
    }
   ],
   "source": [
    "test_str1 = 'e:e:k:s:g'\n",
    "test_str2 = 'g:e:e:k:s'\n",
    " \n",
    "# printing original strings\n",
    "print(\"The original string 1 is : \" + str(test_str1))\n",
    "print(\"The original string 2 is : \" + str(test_str2))\n",
    "\n",
    "delim = \":\"\n",
    "result = set(test_str1.split(\":\")) == set(test_str2.split(\":\"))\n",
    "print(f\"[INFO] String Similar: {result}\")"
   ]
  },
  {
   "cell_type": "code",
   "execution_count": 34,
   "id": "b9356730",
   "metadata": {},
   "outputs": [
    {
     "name": "stdout",
     "output_type": "stream",
     "text": [
      "The original string 1 is : e:e:k:s:g\n",
      "The original string 2 is : g:e:e:k:s\n",
      "Are String similar: True\n"
     ]
    }
   ],
   "source": [
    "test_str1 = 'e:e:k:s:g'\n",
    "test_str2 = 'g:e:e:k:s'\n",
    " \n",
    "# printing original strings\n",
    "print(\"The original string 1 is : \" + str(test_str1))\n",
    "print(\"The original string 2 is : \" + str(test_str2))\n",
    "\n",
    "delim = \":\"\n",
    "dict1 = {}\n",
    "dict2 = {}\n",
    "for char in test_str1.split(delim):\n",
    "    if char in dict1:\n",
    "        dict1[char] += 1\n",
    "    else:\n",
    "        dict1[char] = 1\n",
    "        \n",
    "for char in test_str2.split(delim):\n",
    "    if char in dict2:\n",
    "        dict2[char] += 1\n",
    "    else:\n",
    "        dict2[char] = 1\n",
    "\n",
    "        \n",
    "result = True\n",
    "for i in dict1:\n",
    "    if i in dict2 and dict1[i] == dict1[i]:\n",
    "        continue\n",
    "    else:\n",
    "        result = False\n",
    "        break\n",
    "        \n",
    "print(\"Are String similar:\",result)"
   ]
  },
  {
   "cell_type": "code",
   "execution_count": 35,
   "id": "f353563d",
   "metadata": {},
   "outputs": [
    {
     "name": "stdout",
     "output_type": "stream",
     "text": [
      "The original string 1 is : e:e:k:s:g\n",
      "The original string 2 is : g:e:e:k:s\n",
      "[INFO] After string similar: True\n"
     ]
    }
   ],
   "source": [
    "from collections import Counter\n",
    "test_str1 = 'e:e:k:s:g'\n",
    "test_str2 = 'g:e:e:k:s'\n",
    " \n",
    "# printing original strings\n",
    "print(\"The original string 1 is : \" + str(test_str1))\n",
    "print(\"The original string 2 is : \" + str(test_str2))\n",
    "dict1 = {}\n",
    "dict2 = {}\n",
    "dict1 = Counter(test_str1)\n",
    "dict2 = Counter(test_str2)\n",
    "result = dict1 == dict2\n",
    "print(f\"[INFO] After string similar: {result}\")"
   ]
  },
  {
   "cell_type": "code",
   "execution_count": 36,
   "id": "44b9eb8e",
   "metadata": {},
   "outputs": [
    {
     "name": "stdout",
     "output_type": "stream",
     "text": [
      "[INFO] Are String similar: True\n"
     ]
    }
   ],
   "source": [
    "test_str1 = 'e:k:s:g'\n",
    "test_str2 = 'g:e:k:s'\n",
    "delim = \":\"\n",
    "list1 = test_str1.split(delim)\n",
    "list2 = test_str2.split(delim)\n",
    "result = all(char in list2 for char in list1) and all(char in list1 for char in list2)\n",
    "\n",
    "print(f\"[INFO] Are String similar: {result}\")"
   ]
  },
  {
   "cell_type": "markdown",
   "id": "14a036cb",
   "metadata": {},
   "source": [
    "### Remove K length Duplicates from String"
   ]
  },
  {
   "cell_type": "code",
   "execution_count": 40,
   "id": "782cb1a2",
   "metadata": {},
   "outputs": [
    {
     "name": "stdout",
     "output_type": "stream",
     "text": [
      "The original string 1 is : geeksforfreeksfo\n",
      "[INFO] The modified String: geeksforfree\n"
     ]
    }
   ],
   "source": [
    "test_str = 'geeksforfreeksfo'\n",
    "print(\"The original string 1 is : \" + str(test_str))\n",
    "k=3\n",
    "memo = set()\n",
    "result = []\n",
    "for idx in range(0,len(test_str)-k):\n",
    "    sub = test_str[idx : idx + k]\n",
    "    if sub not in memo:\n",
    "        memo.add(sub)\n",
    "        result.append(sub)\n",
    "        \n",
    "result = \"\".join(result[ele] for ele in range(0,len(result),k))\n",
    "print(f\"[INFO] The modified String: {result}\")"
   ]
  },
  {
   "cell_type": "markdown",
   "id": "6c3f1700",
   "metadata": {},
   "source": [
    "### Remove suffix from string list"
   ]
  },
  {
   "cell_type": "code",
   "execution_count": 41,
   "id": "b8f8e537",
   "metadata": {},
   "outputs": [
    {
     "name": "stdout",
     "output_type": "stream",
     "text": [
      "The Original list: ['allx', 'lovex', 'gfg', 'xit', 'is', 'bestx']\n",
      "List after removal of suffix elements : ['gfg', 'xit', 'is']\n"
     ]
    }
   ],
   "source": [
    "test_list = ['allx', 'lovex', 'gfg', 'xit', 'is', 'bestx']\n",
    "print(\"The Original list:\",test_list)\n",
    "suff = \"x\"\n",
    "\n",
    "for word in test_list[:]:\n",
    "    if word.endswith(suff):\n",
    "        test_list.remove(word)\n",
    "        \n",
    "print(\"List after removal of suffix elements : \"+ str(test_list))\n",
    "        "
   ]
  },
  {
   "cell_type": "code",
   "execution_count": 45,
   "id": "f74730e9",
   "metadata": {},
   "outputs": [
    {
     "name": "stdout",
     "output_type": "stream",
     "text": [
      "The Original list: ['allx', 'lovex', 'gfg', 'xit', 'is', 'bestx']\n",
      "List after removal of suffix element: ['gfg', 'xit', 'is']\n"
     ]
    }
   ],
   "source": [
    "test_list = ['allx', 'lovex', 'gfg', 'xit', 'is', 'bestx']\n",
    "print(\"The Original list:\",test_list)\n",
    "suff = \"x\"\n",
    "result = [ele for ele in test_list if not ele.endswith(suff)]\n",
    "print(\"List after removal of suffix element:\",result)"
   ]
  },
  {
   "cell_type": "code",
   "execution_count": 46,
   "id": "1b20eeb2",
   "metadata": {},
   "outputs": [
    {
     "name": "stdout",
     "output_type": "stream",
     "text": [
      "The Original list: ['allx', 'lovex', 'gfg', 'xit', 'is', 'bestx']\n",
      "List after removal of suffix element: ['gfg', 'xit', 'is']\n"
     ]
    }
   ],
   "source": [
    "suff = \"x\"\n",
    "def eva(x):\n",
    "    return not x.endswith(suff)\n",
    "\n",
    "test_list = ['allx', 'lovex', 'gfg', 'xit', 'is', 'bestx']\n",
    "print(\"The Original list:\",test_list)\n",
    "result = list(filter(eva,test_list))\n",
    "print(\"List after removal of suffix element:\",result)"
   ]
  },
  {
   "cell_type": "code",
   "execution_count": 47,
   "id": "f6f9a2e2",
   "metadata": {},
   "outputs": [
    {
     "name": "stdout",
     "output_type": "stream",
     "text": [
      "The Original list: ['allx', 'lovex', 'gfg', 'xit', 'is', 'bestx']\n",
      "List after removal of suffix element: ['gfg', 'xit', 'is']\n"
     ]
    }
   ],
   "source": [
    "test_list = ['allx', 'lovex', 'gfg', 'xit', 'is', 'bestx']\n",
    "print(\"The Original list:\",test_list)\n",
    "suff = \"x\"\n",
    "result = []\n",
    "for i in test_list:\n",
    "    if (i[-1] != suff) :\n",
    "        result.append(i)\n",
    "        \n",
    "print(\"List after removal of suffix element:\",result)\n",
    "        "
   ]
  },
  {
   "cell_type": "code",
   "execution_count": 48,
   "id": "45a23ca3",
   "metadata": {},
   "outputs": [
    {
     "name": "stdout",
     "output_type": "stream",
     "text": [
      "The Original list: ['allx', 'lovex', 'gfg', 'xit', 'is', 'bestx']\n",
      "List after removal of suffix element: ['gfg', 'xit', 'is']\n"
     ]
    }
   ],
   "source": [
    "test_list = ['allx', 'lovex', 'gfg', 'xit', 'is', 'bestx']\n",
    "print(\"The Original list:\",test_list)\n",
    "suff = \"x\"\n",
    "\n",
    "result = list(filter(lambda x:x[-1] != suff,test_list))\n",
    "print(\"List after removal of suffix element:\",result)\n"
   ]
  },
  {
   "cell_type": "code",
   "execution_count": 49,
   "id": "d577ef4d",
   "metadata": {},
   "outputs": [
    {
     "name": "stdout",
     "output_type": "stream",
     "text": [
      "The Original list: ['allx', 'lovex', 'gfg', 'xit', 'is', 'bestx']\n",
      "List after removal of suffix element: ['allx', 'lovex', 'xit', 'bestx']\n"
     ]
    }
   ],
   "source": [
    "import re \n",
    "test_list = ['allx', 'lovex', 'gfg', 'xit', 'is', 'bestx']\n",
    "print(\"The Original list:\",test_list)\n",
    "suff = \"x\"\n",
    "result = [x for x in test_list if re.search(suff,x)]\n",
    "print(\"List after removal of suffix element:\",result)\n"
   ]
  },
  {
   "cell_type": "markdown",
   "id": "874832d5",
   "metadata": {},
   "source": [
    "###  Find all duplicate characters in string"
   ]
  },
  {
   "cell_type": "code",
   "execution_count": 54,
   "id": "a6822162",
   "metadata": {},
   "outputs": [
    {
     "name": "stdout",
     "output_type": "stream",
     "text": [
      "['g', 'e', 'k', 's']\n"
     ]
    }
   ],
   "source": [
    "def duplicate_charecters(string):\n",
    "    chars ={}\n",
    "    for char in string:\n",
    "        if char not in chars:\n",
    "            chars[char] = 1\n",
    "        else:\n",
    "            chars[char] += 1\n",
    "    duplicate =[]\n",
    "    for char,count in chars.items():\n",
    "        if count > 1:\n",
    "            duplicate.append(char)\n",
    "    return duplicate\n",
    "\n",
    "\n",
    "print(duplicate_charecters(\"geeksforgeeks\"))"
   ]
  },
  {
   "cell_type": "code",
   "execution_count": 63,
   "id": "9af8ce02",
   "metadata": {},
   "outputs": [
    {
     "name": "stdout",
     "output_type": "stream",
     "text": [
      "g\n",
      "e\n",
      "k\n",
      "s\n",
      "None\n"
     ]
    }
   ],
   "source": [
    "from collections import Counter\n",
    "def find_dup_char(input):\n",
    "    word_count = Counter(input)\n",
    "    for letter,count in word_count.items():\n",
    "        if (count > 1):\n",
    "            print(letter)\n",
    "    \n",
    "if __name__ ==\"__main__\":            \n",
    "    input = \"geeksforgeeks\"\n",
    "    print(find_dup_char(input))"
   ]
  },
  {
   "cell_type": "code",
   "execution_count": 66,
   "id": "a4f75fe1",
   "metadata": {},
   "outputs": [
    {
     "name": "stdout",
     "output_type": "stream",
     "text": [
      "g\n",
      "e\n",
      "k\n",
      "s\n"
     ]
    }
   ],
   "source": [
    "def finf_dup_char(input):\n",
    "    x=[]\n",
    "    for i in input:\n",
    "        if i not in x and input.count(i)>1:\n",
    "            x.append(i)\n",
    "    print(\"\".join(x))\n",
    "        \n",
    "input = 'geeksforgeeks'\n",
    "find_dup_char(input)"
   ]
  },
  {
   "cell_type": "code",
   "execution_count": 67,
   "id": "76960e76",
   "metadata": {},
   "outputs": [
    {
     "name": "stdout",
     "output_type": "stream",
     "text": [
      "g\n",
      "e\n",
      "k\n",
      "s\n"
     ]
    }
   ],
   "source": [
    "def finf_dup_char(input):\n",
    "    x=filter(lambda x:input.count(x) >1,input)\n",
    "    print(\" \".join(set(x)))\n",
    "    \n",
    "input = 'geeksforgeeks'\n",
    "find_dup_char(input)"
   ]
  },
  {
   "cell_type": "markdown",
   "id": "3807516e",
   "metadata": {},
   "source": [
    "### Replace duplicate Occurrence in String"
   ]
  },
  {
   "cell_type": "code",
   "execution_count": 71,
   "id": "e2943250",
   "metadata": {},
   "outputs": [
    {
     "name": "stdout",
     "output_type": "stream",
     "text": [
      "The original string is : Gfg is best . Gfg also has Classes now. Classes help understand better . \n",
      "The string after replacing : Gfg is best . It also has Classes now. They help understand better . \n"
     ]
    }
   ],
   "source": [
    "test_str = 'Gfg is best . Gfg also has Classes now. Classes help understand better . ' \n",
    "print(\"The original string is : \" + str(test_str)) \n",
    "repl_dict = {'Gfg' : 'It', 'Classes' : 'They' } \n",
    "test_list = test_str.split(\" \")\n",
    "result = set()\n",
    "for idx,ele in enumerate(test_list):\n",
    "    if ele in repl_dict:\n",
    "        if ele in result:\n",
    "            test_list[idx] = repl_dict[ele]\n",
    "        else:\n",
    "            result.add(ele)\n",
    "result = \" \".join(test_list)\n",
    "print(\"The string after replacing :\",result)\n"
   ]
  },
  {
   "cell_type": "markdown",
   "id": "785b75e8",
   "metadata": {},
   "source": [
    "### Ways to convert string to dictionary"
   ]
  },
  {
   "cell_type": "code",
   "execution_count": 73,
   "id": "bdceefb1",
   "metadata": {},
   "outputs": [
    {
     "name": "stdout",
     "output_type": "stream",
     "text": [
      "{' Jan ': ' January', ' Feb ': ' February', ' Mar ': ' March'}\n"
     ]
    }
   ],
   "source": [
    "string = \" Jan = January; Feb = February; Mar = March\"\n",
    "dictionary = dict(substring.split(\"=\") for substring in string.split(\";\"))\n",
    "print(dictionary)"
   ]
  },
  {
   "cell_type": "code",
   "execution_count": 74,
   "id": "419983aa",
   "metadata": {},
   "outputs": [
    {
     "name": "stdout",
     "output_type": "stream",
     "text": [
      "{'Jan': 'January ', 'Feb': ' February ', 'March': ' March'}\n"
     ]
    }
   ],
   "source": [
    "str1 = \"Jan, Feb, March\"\n",
    "str2 = \"January | February | March\"\n",
    "keys = str1.split(\", \")\n",
    "values = str2.split(\"|\")\n",
    "dictionary = {}\n",
    "for i in range(len(keys)):\n",
    "    dictionary[keys[i]] = values[i]\n",
    "    \n",
    "print(dictionary)\n"
   ]
  },
  {
   "cell_type": "code",
   "execution_count": 75,
   "id": "65ddf45e",
   "metadata": {},
   "outputs": [
    {
     "name": "stdout",
     "output_type": "stream",
     "text": [
      "{'Jan': 'January ', 'Feb': ' February ', 'March': ' March'}\n"
     ]
    }
   ],
   "source": [
    "str1 = \"Jan, Feb, March\"\n",
    "str2 = \"January | February | March\"\n",
    "keys = str1.split(\", \")\n",
    "values = str2.split(\"|\")\n",
    "dictionary = {}\n",
    "dictionary = dict(zip(keys,values))\n",
    "print(dictionary)"
   ]
  },
  {
   "cell_type": "code",
   "execution_count": 76,
   "id": "c0d3886c",
   "metadata": {},
   "outputs": [
    {
     "name": "stdout",
     "output_type": "stream",
     "text": [
      "{' Jan ': ' January', ' Feb ': ' February', ' Mar ': ' March'}\n"
     ]
    }
   ],
   "source": [
    "string = \" Jan = January; Feb = February; Mar = March\"\n",
    "result = dict()\n",
    "x=string.split(\";\")\n",
    "for i in x:\n",
    "    a = i[:i.index(\"=\")]\n",
    "    b = i[i.index(\"=\")+1:]\n",
    "    result[a] = b\n",
    "print(result)"
   ]
  },
  {
   "cell_type": "markdown",
   "id": "99874a28",
   "metadata": {},
   "source": [
    "### Check if two strings are Rotationally Equivalent"
   ]
  },
  {
   "cell_type": "code",
   "execution_count": 79,
   "id": "ccdbbf73",
   "metadata": {},
   "outputs": [
    {
     "name": "stdout",
     "output_type": "stream",
     "text": [
      "The original string 1 is : geeks\n",
      "The original string 2 is : eksge\n",
      "Are two strings Rotationally equal ? :  True\n"
     ]
    }
   ],
   "source": [
    "test_str1 = 'geeks'\n",
    "test_str2 = 'eksge'\n",
    "print(\"The original string 1 is : \" + str(test_str1)) \n",
    "print(\"The original string 2 is : \" + str(test_str2)) \n",
    "result = False\n",
    "for idx in range(len(test_str1)):\n",
    "    if test_str1[idx:] + test_str1[:idx] == test_str2:\n",
    "        result = True\n",
    "        break\n",
    "        \n",
    "print(\"Are two strings Rotationally equal ? : \",result) \n"
   ]
  },
  {
   "cell_type": "code",
   "execution_count": 80,
   "id": "b6519449",
   "metadata": {},
   "outputs": [
    {
     "name": "stdout",
     "output_type": "stream",
     "text": [
      "The original string 1 is : geeks\n",
      "The original string 2 is : eksge\n",
      "Are two strings Rotationally equal ? :  True\n"
     ]
    }
   ],
   "source": [
    "test_str1 = 'geeks'\n",
    "test_str2 = 'eksge'\n",
    "print(\"The original string 1 is : \" + str(test_str1)) \n",
    "print(\"The original string 2 is : \" + str(test_str2))\n",
    "result = test_str2 in (test_str1 + test_str1)\n",
    "print(\"Are two strings Rotationally equal ? : \",result) \n"
   ]
  },
  {
   "cell_type": "markdown",
   "id": "ac8ed22e",
   "metadata": {},
   "source": [
    "### Python | Test if string is subset of another"
   ]
  },
  {
   "cell_type": "code",
   "execution_count": 81,
   "id": "187cd328",
   "metadata": {},
   "outputs": [
    {
     "name": "stdout",
     "output_type": "stream",
     "text": [
      "The original string is :  geeksforgeeks\n",
      "Does string contains all the characters of other list? :  True\n"
     ]
    }
   ],
   "source": [
    "test_str1 = \"geeksforgeeks\"\n",
    "test_str2 = \"gfks\"\n",
    "print(\"The original string is : \",test_str1)\n",
    "result = all(ele in test_str1 for ele in test_str2)\n",
    "print(\"Does string contains all the characters of other list? : \",result)\n"
   ]
  },
  {
   "cell_type": "code",
   "execution_count": 82,
   "id": "d6b03a0c",
   "metadata": {},
   "outputs": [
    {
     "name": "stdout",
     "output_type": "stream",
     "text": [
      "The original string is :  geeksforgeeks\n",
      "Does string contains all the characters of other list? :  True\n"
     ]
    }
   ],
   "source": [
    "test_str1 = \"geeksforgeeks\"\n",
    "test_str2 = \"gfks\"\n",
    "print(\"The original string is : \",test_str1)\n",
    "result = set(test_str2).issubset(test_str1)\n",
    "print(\"Does string contains all the characters of other list? : \",result)"
   ]
  },
  {
   "cell_type": "code",
   "execution_count": 83,
   "id": "f459f8dc",
   "metadata": {},
   "outputs": [
    {
     "name": "stdout",
     "output_type": "stream",
     "text": [
      "The original string is :  geeksforgeeks\n",
      "Does string contains all the characters of other list? :  True\n"
     ]
    }
   ],
   "source": [
    "test_str1 = \"geeksforgeeks\"\n",
    "test_str2 = \"gfks\"\n",
    "print(\"The original string is : \",test_str1)\n",
    "result = len(test_str2) == len(list(filter(lambda c:c in test_str1,test_str2)))\n",
    "print(\"Does string contains all the characters of other list? : \",result)"
   ]
  },
  {
   "cell_type": "code",
   "execution_count": 85,
   "id": "ed0dc496",
   "metadata": {},
   "outputs": [
    {
     "name": "stdout",
     "output_type": "stream",
     "text": [
      "The Original String is: geeksforgeeks\n",
      "True\n"
     ]
    }
   ],
   "source": [
    "from functools import reduce\n",
    "def is_subset(str1,str2):\n",
    "    return reduce(lambda a,b:a and b,map(lambda c:c in str1,str2))\n",
    "\n",
    "test_str1 = \"geeksforgeeks\"\n",
    "test_str2 = \"gfks\"\n",
    "print(\"The Original String is:\",test_str1)\n",
    "print(is_subset(test_str1,test_str2))"
   ]
  },
  {
   "cell_type": "markdown",
   "id": "229e6229",
   "metadata": {},
   "source": [
    "### Program to Generate Random binary string"
   ]
  },
  {
   "cell_type": "code",
   "execution_count": 89,
   "id": "6a2fcb69",
   "metadata": {},
   "outputs": [
    {
     "name": "stdout",
     "output_type": "stream",
     "text": [
      "Desired length random binary string is:  1011100\n"
     ]
    }
   ],
   "source": [
    "import random\n",
    "def rand_key(p):\n",
    "    key1 = \"\"\n",
    "    for i in range(p):\n",
    "        temp = str(random.randint(0,1))\n",
    "        key1 += temp\n",
    "    return key1\n",
    "n=7\n",
    "str1 = rand_key(n)\n",
    "print(\"Desired length random binary string is: \", str1)\n"
   ]
  },
  {
   "cell_type": "code",
   "execution_count": 91,
   "id": "132815cf",
   "metadata": {},
   "outputs": [
    {
     "name": "stdout",
     "output_type": "stream",
     "text": [
      "Random binary string of length 7: 110100\n"
     ]
    }
   ],
   "source": [
    "import random \n",
    "def generate_binary_string(n):\n",
    "    number = random.getrandbits(n)\n",
    "    binary_string = format(number,\"0b\")\n",
    "    return binary_string\n",
    "\n",
    "\n",
    "n=7\n",
    "print(\"Random binary string of length {}: {}\".format(n,generate_binary_string(n)))"
   ]
  },
  {
   "cell_type": "markdown",
   "id": "1c7d9d93",
   "metadata": {},
   "source": [
    "### Convert binary to string using Python"
   ]
  },
  {
   "cell_type": "code",
   "execution_count": 93,
   "id": "a0109ae5",
   "metadata": {},
   "outputs": [
    {
     "name": "stdout",
     "output_type": "stream",
     "text": [
      "The binary values is : 10001111100101110010111010111110011\n",
      "The Binary value after string conversion is:  Geeks\n"
     ]
    }
   ],
   "source": [
    "def BinaryToDecimal(binary):\n",
    "    binary1 = binary\n",
    "    decimal,i,n =0,0,0\n",
    "    while(binary != 0):\n",
    "        dec = binary % 10\n",
    "        decimal = decimal + dec * pow(2,i)\n",
    "        binary = binary//10\n",
    "        i += 1\n",
    "    return decimal\n",
    "\n",
    "bin_data ='10001111100101110010111010111110011'\n",
    "print(\"The binary values is :\",bin_data)\n",
    "str_data = \" \"\n",
    "for i in range(0,len(bin_data),7):\n",
    "    temp_data = int(bin_data[i:i+7])\n",
    "    decimal_data = BinaryToDecimal(temp_data)\n",
    "    str_data = str_data + chr(decimal_data)\n",
    "    \n",
    "print(\"The Binary value after string conversion is:\",str_data)"
   ]
  },
  {
   "cell_type": "code",
   "execution_count": 95,
   "id": "a64e6840",
   "metadata": {},
   "outputs": [
    {
     "name": "stdout",
     "output_type": "stream",
     "text": [
      "The binary values is : 10001111100101110010111010111110011\n",
      "The Binary value after string conversion is:  Geeks\n"
     ]
    }
   ],
   "source": [
    "def BinaryToDecimal(binary):\n",
    "    string = int(binary,2)\n",
    "    return string\n",
    "\n",
    "bin_data ='10001111100101110010111010111110011'\n",
    "print(\"The binary values is :\",bin_data)\n",
    "str_data = \" \"\n",
    "for i in range(0, len(bin_data), 7):\n",
    "    temp_data = bin_data[i:i + 7]\n",
    "    decimal_data = BinaryToDecimal(temp_data)\n",
    "    str_data = str_data + chr(decimal_data)\n",
    "    \n",
    "print(\"The Binary value after string conversion is:\",str_data)    "
   ]
  },
  {
   "cell_type": "markdown",
   "id": "2a5ec47c",
   "metadata": {},
   "source": [
    "### Reverse Sort a String"
   ]
  },
  {
   "cell_type": "code",
   "execution_count": 98,
   "id": "3275f074",
   "metadata": {},
   "outputs": [
    {
     "name": "stdout",
     "output_type": "stream",
     "text": [
      "The binary values is : geekforgeeks\n",
      "String after reverse sorting :  srokkggfeeee\n"
     ]
    }
   ],
   "source": [
    "test_string = \"geekforgeeks\"\n",
    "print(\"The binary values is :\",test_string)\n",
    "result =\"\".join(sorted(test_string, reverse=True))\n",
    "\n",
    "print(\"String after reverse sorting : \", result) "
   ]
  },
  {
   "cell_type": "code",
   "execution_count": 97,
   "id": "421dd55f",
   "metadata": {},
   "outputs": [
    {
     "name": "stdout",
     "output_type": "stream",
     "text": [
      "The binary values is : geekforgeeks\n",
      "String after reverse sorting: srokkggfeeee\n"
     ]
    }
   ],
   "source": [
    "test_string = \"geekforgeeks\"\n",
    "print(\"The binary values is :\",test_string)\n",
    "result = reduce(lambda x,y: x+y,sorted(test_string,reverse = True))\n",
    "print(\"String after reverse sorting:\",result)"
   ]
  },
  {
   "cell_type": "code",
   "execution_count": 100,
   "id": "1f940a1e",
   "metadata": {},
   "outputs": [
    {
     "name": "stdout",
     "output_type": "stream",
     "text": [
      "The binary values is : geekforgeeks\n",
      "String after reverse sorting :  srokkggfeeee\n"
     ]
    }
   ],
   "source": [
    "test_string = \"geekforgeeks\"\n",
    "print(\"The binary values is :\",test_string)\n",
    "temp = list(test_string)\n",
    "temp.sort(reverse = True)\n",
    "result = \"\".join(temp)\n",
    "print(\"String after reverse sorting : \", result)\n"
   ]
  },
  {
   "cell_type": "code",
   "execution_count": 101,
   "id": "4b5b67df",
   "metadata": {},
   "outputs": [
    {
     "name": "stdout",
     "output_type": "stream",
     "text": [
      "Original List: ['4', 'kg', 'butter', 'for', '40', 'bucks']\n",
      "Modified List: ['1', 'kg', 'butter', 'for', '10', 'bucks']\n"
     ]
    }
   ],
   "source": [
    "test_list = ['4', 'kg', 'butter', 'for', '40', 'bucks']\n",
    "print(\"Original List:\",test_list)\n",
    "result = list(map(lambda x:x.replace(\"4\",\"1\"),test_list))\n",
    "print(\"Modified List:\",result)"
   ]
  },
  {
   "cell_type": "code",
   "execution_count": 102,
   "id": "e9a48b05",
   "metadata": {},
   "outputs": [
    {
     "name": "stdout",
     "output_type": "stream",
     "text": [
      "Original List: ['4', 'kg', 'butter', 'for', '40', 'bucks']\n",
      "Modified List: ['1', 'kg', 'butter', 'for', '10', 'bucks']\n"
     ]
    }
   ],
   "source": [
    "test_list = ['4', 'kg', 'butter', 'for', '40', 'bucks']\n",
    "print(\"Original List:\",test_list)\n",
    "for i in range(len(test_list)):\n",
    "    test_list[i] = test_list[i].replace(\"4\",\"1\")\n",
    "print(\"Modified List:\",result)"
   ]
  },
  {
   "cell_type": "code",
   "execution_count": 104,
   "id": "9ed82601",
   "metadata": {},
   "outputs": [
    {
     "name": "stdout",
     "output_type": "stream",
     "text": [
      "Modified List: ['1', 'kg', 'butter', 'for', '10', 'bucks']\n"
     ]
    }
   ],
   "source": [
    "test_list = ['4', 'kg', 'butter', 'for', '40', 'bucks']\n",
    "modified_list = [ele.replace(\"4\",\"1\") for ele in test_list]\n",
    "print(\"Modified List:\",modified_list)"
   ]
  },
  {
   "cell_type": "markdown",
   "id": "c4a2a801",
   "metadata": {},
   "source": [
    "### Check if String Contains Substring in Python"
   ]
  },
  {
   "cell_type": "code",
   "execution_count": 105,
   "id": "1b34ddf2",
   "metadata": {},
   "outputs": [
    {
     "name": "stdout",
     "output_type": "stream",
     "text": [
      "Yes! it is present in the string\n"
     ]
    }
   ],
   "source": [
    "MyString1 = \"A geek in need is a geek indeed\"\n",
    "if \"need\" in MyString1:\n",
    "    print(\"Yes! it is present in the string\")\n",
    "else:\n",
    "    print(\"No! it is not present\")"
   ]
  },
  {
   "cell_type": "code",
   "execution_count": 106,
   "id": "a00f52d6",
   "metadata": {},
   "outputs": [
    {
     "name": "stdout",
     "output_type": "stream",
     "text": [
      "String found!\n",
      "Substring not found!\n"
     ]
    }
   ],
   "source": [
    "text = \"Geeks welcome to the Geek Kingdom!\"\n",
    "if \"Geek\" in text:\n",
    "    print(\"String found!\")\n",
    "else:\n",
    "    print(\"Substring not found!\")\n",
    "    \n",
    "if \"For\" in text:\n",
    "    print(\"Substring found!\")\n",
    "else:\n",
    "    print(\"Substring not found!\")"
   ]
  },
  {
   "cell_type": "code",
   "execution_count": 107,
   "id": "c8158c75",
   "metadata": {},
   "outputs": [
    {
     "name": "stdout",
     "output_type": "stream",
     "text": [
      "yes\n"
     ]
    }
   ],
   "source": [
    "string = \"geeks for geeks\" \n",
    "substring = \"geeks\"\n",
    "s=string.split()\n",
    "\n",
    "if substring in s:\n",
    "    print(\"yes\")\n",
    "else:\n",
    "    print(\"no\")"
   ]
  },
  {
   "cell_type": "code",
   "execution_count": 108,
   "id": "31f0a379",
   "metadata": {},
   "outputs": [
    {
     "name": "stdout",
     "output_type": "stream",
     "text": [
      "Yes\n"
     ]
    }
   ],
   "source": [
    "def check(string,sub_str):\n",
    "    if (string.find(sub_str) == -1):\n",
    "        print(\"No\")\n",
    "    else:\n",
    "        print(\"Yes\")\n",
    "        \n",
    "string = \"geeks for geeks\"\n",
    "sub_str = \"geek\"\n",
    "check(string, sub_str)"
   ]
  },
  {
   "cell_type": "code",
   "execution_count": 109,
   "id": "b0609223",
   "metadata": {},
   "outputs": [
    {
     "name": "stdout",
     "output_type": "stream",
     "text": [
      "No\n"
     ]
    }
   ],
   "source": [
    "def check(s2,s1):\n",
    "    if (s2.count(s1)>0):\n",
    "        print(\"Yes\")\n",
    "    else:\n",
    "        print(\"No\")\n",
    "        \n",
    "s2 = \"A geek in need is a geek indeed\"\n",
    "s1 = \"geeks\"\n",
    "check(s2,s1)"
   ]
  },
  {
   "cell_type": "code",
   "execution_count": 110,
   "id": "c3ea3fa6",
   "metadata": {},
   "outputs": [
    {
     "name": "stdout",
     "output_type": "stream",
     "text": [
      "16\n"
     ]
    }
   ],
   "source": [
    "any_string = \"Geeks for Geeks substring \"\n",
    "start = 0\n",
    "end = 1000\n",
    "print(any_string.index(\"substring\",start,end))"
   ]
  },
  {
   "cell_type": "code",
   "execution_count": 111,
   "id": "66272d96",
   "metadata": {},
   "outputs": [
    {
     "name": "stdout",
     "output_type": "stream",
     "text": [
      "['yes']\n"
     ]
    }
   ],
   "source": [
    "s=\"geeks for geeks\"\n",
    "s2=\"geeks\"\n",
    "print([\"yes\" if s2 in s else \"no\"])"
   ]
  },
  {
   "cell_type": "code",
   "execution_count": 112,
   "id": "87edc1e2",
   "metadata": {},
   "outputs": [
    {
     "name": "stdout",
     "output_type": "stream",
     "text": [
      "['yes']\n"
     ]
    }
   ],
   "source": [
    "s=\"geeks for geeks\"\n",
    "s2=\"geeks\"\n",
    "x = list(filter(lambda x: (s2 in s),s.split()))\n",
    "print([\"yes\" if x else \"no\"])"
   ]
  },
  {
   "cell_type": "code",
   "execution_count": 113,
   "id": "163c853b",
   "metadata": {},
   "outputs": [
    {
     "name": "stdout",
     "output_type": "stream",
     "text": [
      "Yes! Geeks-13 is containing.\n",
      "Yes! Geeks-78 is containing.\n"
     ]
    }
   ],
   "source": [
    "a = ['Geeks-13', 'for-56', 'Geeks-78', 'xyz-46']\n",
    "for i in a:\n",
    "    if i.__contains__(\"Geeks\"):\n",
    "        print(f\"Yes! {i} is containing.\")"
   ]
  },
  {
   "cell_type": "code",
   "execution_count": 117,
   "id": "7ab116ab",
   "metadata": {},
   "outputs": [
    {
     "name": "stdout",
     "output_type": "stream",
     "text": [
      "True\n"
     ]
    }
   ],
   "source": [
    "def is_substring(string, substring):\n",
    "    for i in range(len(string) - len(substring)+1):\n",
    "        if string[i:i+len(substring)] == substring:\n",
    "            return True\n",
    "    return False\n",
    "string = \"A geeks in need is a geek indeed\"\n",
    "substring = \"geeks\"\n",
    "print(is_substring(string,substring))"
   ]
  },
  {
   "cell_type": "code",
   "execution_count": 118,
   "id": "273c0a9f",
   "metadata": {},
   "outputs": [
    {
     "name": "stdout",
     "output_type": "stream",
     "text": [
      "Yes! it is present in the string\n"
     ]
    }
   ],
   "source": [
    "import re\n",
    "mystring = \"A geek in need is a geek indeed\"\n",
    "if re.search(\"need\",mystring):\n",
    "    print(\"Yes! it is present in the string\")\n",
    "else:\n",
    "    print(\"No! it is not present\")"
   ]
  },
  {
   "cell_type": "code",
   "execution_count": 2,
   "id": "1d513b42",
   "metadata": {},
   "outputs": [
    {
     "name": "stdout",
     "output_type": "stream",
     "text": [
      "yes\n"
     ]
    }
   ],
   "source": [
    "import operator as op\n",
    "s=\"geeks for geeks\"\n",
    "s2=\"geeks\"\n",
    "if(op.contains(s,s2)):\n",
    "    print(\"yes\")\n",
    "else:\n",
    "    print(\"No\")"
   ]
  },
  {
   "cell_type": "markdown",
   "id": "aee78ee3",
   "metadata": {},
   "source": [
    "###  Substring presence in Strings List"
   ]
  },
  {
   "cell_type": "code",
   "execution_count": 5,
   "id": "112a81a8",
   "metadata": {},
   "outputs": [
    {
     "name": "stdout",
     "output_type": "stream",
     "text": [
      "The original list 1 : ['Gfg', 'is', 'Best']\n",
      "The original list 2 : ['I love Gfg', 'Its Best for Geeks', 'Gfg means CS']\n",
      "The match list is: [True, False, True]\n"
     ]
    }
   ],
   "source": [
    "test_list1 = [\"Gfg\", \"is\", \"Best\"]\n",
    "test_list2 = [\"I love Gfg\", \"Its Best for Geeks\", \"Gfg means CS\"]\n",
    "print(\"The original list 1 : \" + str(test_list1))\n",
    "print(\"The original list 2 : \" + str(test_list2))\n",
    "\n",
    "result =[]\n",
    "for ele in test_list1:\n",
    "    temp = False\n",
    "    for sub in test_list2:\n",
    "        if ele in sub:\n",
    "            temp = True\n",
    "    result.append(temp)\n",
    "            \n",
    "print(\"The match list is:\",result)"
   ]
  },
  {
   "cell_type": "code",
   "execution_count": 9,
   "id": "26646e92",
   "metadata": {},
   "outputs": [
    {
     "name": "stdout",
     "output_type": "stream",
     "text": [
      "The original list 1 : ['Gfg', 'is', 'Best']\n",
      "The original list 2 : ['I love Gfg', 'Its Best for Geeks', 'Gfg means CS']\n",
      "The match list is: [True, False, True]\n"
     ]
    }
   ],
   "source": [
    "test_list1 = [\"Gfg\", \"is\", \"Best\"]\n",
    "test_list2 = [\"I love Gfg\", \"Its Best for Geeks\", \"Gfg means CS\"]\n",
    "print(\"The original list 1 : \" + str(test_list1))\n",
    "print(\"The original list 2 : \" + str(test_list2))\n",
    "result = [True if any(sub in ele for ele in test_list2) else False for sub in test_list1]\n",
    "print(\"The match list is:\",result)"
   ]
  },
  {
   "cell_type": "code",
   "execution_count": 19,
   "id": "c261d71d",
   "metadata": {},
   "outputs": [
    {
     "name": "stdout",
     "output_type": "stream",
     "text": [
      "The original list 1 : ['Gfg', 'is', 'Best']\n",
      "The original list 2 : ['I love Gfg', 'Its Best for Geeks', 'Gfg means CS']\n",
      "{'Best', 'is', 'Gfg'}\n",
      "{'CS', 'Its', 'means', 'Geeks', 'love', 'Best', 'for', 'I', 'Gfg'}\n",
      "The match list is: [True, False, True]\n"
     ]
    }
   ],
   "source": [
    "test_list1 = [\"Gfg\", \"is\", \"Best\"]\n",
    "test_list2 = [\"I love Gfg\", \"Its Best for Geeks\", \"Gfg means CS\"]\n",
    "print(\"The original list 1 : \" + str(test_list1))\n",
    "print(\"The original list 2 : \" + str(test_list2))\n",
    "set1 = set(test_list1)\n",
    "set2 = set(\" \".join(test_list2).split())\n",
    "print(set1)\n",
    "print(set2)\n",
    "intersection = set1.intersection(set2)\n",
    "intersection_list = list(intersection)\n",
    "\n",
    "result =[]\n",
    "for string in test_list1:\n",
    "    if string in intersection_list:\n",
    "        result.append(True)\n",
    "    else:\n",
    "        result.append(False)\n",
    "        \n",
    "print(\"The match list is:\",result)"
   ]
  },
  {
   "cell_type": "code",
   "execution_count": 20,
   "id": "7d79d02b",
   "metadata": {},
   "outputs": [
    {
     "name": "stdout",
     "output_type": "stream",
     "text": [
      "The original list 1 : ['Gfg', 'is', 'Best']\n",
      "The original list 2 : ['I love Gfg', 'Its Best for Geeks', 'Gfg means CS']\n",
      "The match list is: [ True False  True]\n"
     ]
    }
   ],
   "source": [
    "test_list1 = [\"Gfg\", \"is\", \"Best\"]\n",
    "test_list2 = [\"I love Gfg\", \"Its Best for Geeks\", \"Gfg means CS\"]\n",
    "print(\"The original list 1 : \" + str(test_list1))\n",
    "print(\"The original list 2 : \" + str(test_list2))\n",
    "import numpy as np\n",
    "arr1 = np.array(test_list1)\n",
    "arr2 = np.array(test_list2)\n",
    "result = np.array([any(np.char.find(arr2,i)!= -1) for i in arr1])\n",
    "print(\"The match list is:\",result)"
   ]
  },
  {
   "cell_type": "markdown",
   "id": "0ace6bbd",
   "metadata": {},
   "source": [
    "### All substrings Frequency in String"
   ]
  },
  {
   "cell_type": "code",
   "execution_count": 23,
   "id": "89586347",
   "metadata": {},
   "outputs": [
    {
     "data": {
      "text/plain": [
       "Counter({'a': 4, 'b': 3})"
      ]
     },
     "execution_count": 23,
     "metadata": {},
     "output_type": "execute_result"
    }
   ],
   "source": [
    "test_str = \"abababa\"\n",
    "from collections import Counter\n",
    "count1 = Counter(test_str)\n",
    "count1"
   ]
  },
  {
   "cell_type": "code",
   "execution_count": 25,
   "id": "7b061403",
   "metadata": {},
   "outputs": [
    {
     "name": "stdout",
     "output_type": "stream",
     "text": [
      "the original string is : abababa\n",
      "Extract frequency dictionary: {'a': 4, 'ab': 3, 'aba': 2, 'abab': 1, 'ababa': 1, 'ababab': 1, 'abababa': 1, 'b': 3, 'ba': 3, 'bab': 1, 'baba': 1, 'babab': 1, 'bababa': 1}\n"
     ]
    }
   ],
   "source": [
    "test_str = \"abababa\"\n",
    "print(\"the original string is :\",test_str)\n",
    "temp = [test_str[idx: j] for idx in range(len(test_str)) for j in range(idx +1,len(test_str)+1)]\n",
    "d = dict()\n",
    "for i in temp:\n",
    "    d[i] = test_str.count(i)\n",
    "print(\"Extract frequency dictionary:\",d)"
   ]
  },
  {
   "cell_type": "code",
   "execution_count": 26,
   "id": "a3b0b5ff",
   "metadata": {},
   "outputs": [
    {
     "name": "stdout",
     "output_type": "stream",
     "text": [
      "the original string is : abababa\n",
      "Extract frequency dictionary: {'a': 4, 'ab': 3, 'aba': 3, 'abab': 2, 'ababa': 2, 'ababab': 1, 'abababa': 1, 'b': 3, 'ba': 3, 'bab': 2, 'baba': 2, 'babab': 1, 'bababa': 1}\n"
     ]
    }
   ],
   "source": [
    "test_str = \"abababa\"\n",
    "print(\"the original string is :\",test_str)\n",
    "temp = [test_str[idx : j] for idx in range(len(test_str)) for j in range(idx+1,len(test_str)+1)]\n",
    "result = {}\n",
    "for idx in temp:\n",
    "    if idx not in result.keys():\n",
    "        result[idx] = 1\n",
    "    else:\n",
    "        result[idx] += 1\n",
    "        \n",
    "print(\"Extract frequency dictionary:\",result)"
   ]
  },
  {
   "cell_type": "markdown",
   "id": "46c33e1e",
   "metadata": {},
   "source": [
    "###  Maximum Consecutive Substring Occurrence"
   ]
  },
  {
   "cell_type": "code",
   "execution_count": 29,
   "id": "0bbabfd3",
   "metadata": {},
   "outputs": [
    {
     "name": "stdout",
     "output_type": "stream",
     "text": [
      "The original string is : geeksgeeks are geeks for all geeksgeeksgeeks\n",
      "Maximum run of string: geeksgeeksgeeks\n"
     ]
    }
   ],
   "source": [
    "import re\n",
    "test_str = 'geeksgeeks are geeks for all geeksgeeksgeeks'\n",
    "print(\"The original string is :\",test_str)\n",
    "sub_str = \"geeks\"\n",
    "result = max(re.findall('((?:' + re.escape(sub_str) + ')*)', test_str), key=len)\n",
    "print(\"Maximum run of string:\",result)"
   ]
  },
  {
   "cell_type": "code",
   "execution_count": 30,
   "id": "9abb95fa",
   "metadata": {},
   "outputs": [
    {
     "name": "stdout",
     "output_type": "stream",
     "text": [
      "The original string is : geeksgeeks are geeks for all geeksgeeksgeeks\n",
      "Maximum run of string: geeksgeeksgeeks\n"
     ]
    }
   ],
   "source": [
    "test_str = 'geeksgeeks are geeks for all geeksgeeksgeeks'\n",
    "print(\"The original string is :\",test_str)\n",
    "sub_str = \"geeks\"\n",
    "result = max([sub_str * n for n in range(len(test_str)//len(sub_str)+1) if sub_str * n in test_str],key=len)\n",
    "print(\"Maximum run of string:\",result)"
   ]
  },
  {
   "cell_type": "code",
   "execution_count": 31,
   "id": "ef02b9e6",
   "metadata": {},
   "outputs": [
    {
     "name": "stdout",
     "output_type": "stream",
     "text": [
      "The original string is : geeksgeeks are geeks for all geeksgeeksgeeks\n",
      "Maximum run of string: geeksgeeksgeeks\n"
     ]
    }
   ],
   "source": [
    "import re\n",
    "test_str = 'geeksgeeks are geeks for all geeksgeeksgeeks'\n",
    "print(\"The original string is :\",test_str)\n",
    "sub_str = \"geeks\"\n",
    "result = lambda s,sub:max(re.findall('((?:' + re.escape(sub) + ')*)',s),key=len)\n",
    "result = result(test_str,sub_str)\n",
    "print(\"Maximum run of string:\",result)"
   ]
  },
  {
   "cell_type": "code",
   "execution_count": 32,
   "id": "887897f5",
   "metadata": {},
   "outputs": [
    {
     "name": "stdout",
     "output_type": "stream",
     "text": [
      "The original string is : geeksgeeks are geeks for all geeksgeeksgeeks\n",
      "Maximum run of string: geeksgeeksgeeks\n"
     ]
    }
   ],
   "source": [
    "test_str = 'geeksgeeks are geeks for all geeksgeeksgeeks'\n",
    "print(\"The original string is :\",test_str)\n",
    "sub_str = \"geeks\"\n",
    "max_count = 0\n",
    "max_sub = \"\"\n",
    "words = test_str.split()\n",
    "for word in words:\n",
    "    count = word.count(sub_str)\n",
    "    if count >= max_count:\n",
    "        max_count = count\n",
    "        max_sub = sub_str*max_count\n",
    "        \n",
    "print(\"Maximum run of string:\",result)"
   ]
  },
  {
   "cell_type": "markdown",
   "id": "fd7437c0",
   "metadata": {},
   "source": [
    "### Maximum occurring Substring from list"
   ]
  },
  {
   "cell_type": "code",
   "execution_count": 34,
   "id": "7d8fceba",
   "metadata": {},
   "outputs": [
    {
     "name": "stdout",
     "output_type": "stream",
     "text": [
      "The original string is : gfghsisbjknlmkesbestgfgsdcngfgcsdjnisdjnlbestdjsklgfgcdsbestbnjdsgfgdbhisbhsbestdkgfgb\n",
      "the original list is: ['gfg', 'is', 'best']\n",
      "The frequency subdtring is : ('gfg', 2)\n"
     ]
    }
   ],
   "source": [
    "import re\n",
    "import itertools\n",
    "test_str = \"gfghsisbjknlmkesbestgfgsdcngfgcsdjnisdjnlbestdjsklgfgcdsbestbnjdsgfgdbhisbhsbestdkgfgb\"\n",
    "test_list = ['gfg', 'is', 'best']\n",
    "print(\"The original string is :\",test_str)\n",
    "print(\"the original list is:\",test_list)\n",
    "\n",
    "seqs = re.findall(str.join(\"|\",test_list),test_str)\n",
    "grps = [(key,len(list(j))) for key,j in itertools.groupby(seqs)]\n",
    "result = max(grps,key=lambda ele:ele[1])\n",
    "print(\"The frequency subdtring is :\",result)"
   ]
  },
  {
   "cell_type": "code",
   "execution_count": 37,
   "id": "2ef9dde6",
   "metadata": {},
   "outputs": [
    {
     "name": "stdout",
     "output_type": "stream",
     "text": [
      "The original string is : gfghsisbjknlmkesbestgfgsdcngfgcsdjnisdjnlbestdjsklgfgcdsbestbnjdsgfgdbhisbhsbestdkgfgb\n",
      "the original list is: ['gfg', 'is', 'best']\n",
      "The frequency subdtring is : gfg\n"
     ]
    }
   ],
   "source": [
    "test_str = \"gfghsisbjknlmkesbestgfgsdcngfgcsdjnisdjnlbestdjsklgfgcdsbestbnjdsgfgdbhisbhsbestdkgfgb\"\n",
    "test_list = ['gfg', 'is', 'best']\n",
    "print(\"The original string is :\",test_str)\n",
    "print(\"the original list is:\",test_list)\n",
    "result = []\n",
    "\n",
    "for i in test_list:\n",
    "    result.append(test_str.count(i))\n",
    "    \n",
    "x = max(result)\n",
    "result = test_list[result.index(x)]\n",
    "print(\"The frequency subdtring is :\",result)"
   ]
  },
  {
   "cell_type": "code",
   "execution_count": 41,
   "id": "a587a7e4",
   "metadata": {},
   "outputs": [
    {
     "name": "stdout",
     "output_type": "stream",
     "text": [
      "The original string is : gfghsisbjknlmkesbestgfgsdcngfgcsdjnisdjnlbestdjsklgfgcdsbestbnjdsgfgdbhisbhsbestdkgfgb\n",
      "the original list is: ['gfg', 'is', 'best']\n",
      "The frequency subdtring is : gfg\n"
     ]
    }
   ],
   "source": [
    "from collections import Counter\n",
    "test_str = \"gfghsisbjknlmkesbestgfgsdcngfgcsdjnisdjnlbestdjsklgfgcdsbestbnjdsgfgdbhisbhsbestdkgfgb\"\n",
    "test_list = ['gfg', 'is', 'best']\n",
    "print(\"The original string is :\",test_str)\n",
    "print(\"the original list is:\",test_list)\n",
    "seqs = re.findall(str.join(\"|\",test_list),test_str)\n",
    "result = Counter(seqs).most_common(1)[0][0]\n",
    "print(\"The frequency subdtring is :\",result)"
   ]
  },
  {
   "cell_type": "code",
   "execution_count": 42,
   "id": "cbf06e96",
   "metadata": {},
   "outputs": [
    {
     "name": "stdout",
     "output_type": "stream",
     "text": [
      "The original string is : gfghsisbjknlmkesbestgfgsdcngfgcsdjnisdjnlbestdjsklgfgcdsbestbnjdsgfgdbhisbhsbestdkgfgb\n",
      "the original list is: ['gfg', 'is', 'best']\n",
      "The frequency subdtring is : gfg\n"
     ]
    }
   ],
   "source": [
    "test_str = \"gfghsisbjknlmkesbestgfgsdcngfgcsdjnisdjnlbestdjsklgfgcdsbestbnjdsgfgdbhisbhsbestdkgfgb\"\n",
    "test_list = ['gfg', 'is', 'best']\n",
    "print(\"The original string is :\",test_str)\n",
    "print(\"the original list is:\",test_list)\n",
    "result = []\n",
    "for i in test_list:\n",
    "    import operator\n",
    "    result.append(operator.countOf(test_str,i))\n",
    "x= max(result)\n",
    "result = test_list[result.index(x)]\n",
    "print(\"The frequency subdtring is :\",result)"
   ]
  },
  {
   "cell_type": "code",
   "execution_count": 43,
   "id": "911ab8f8",
   "metadata": {},
   "outputs": [
    {
     "name": "stdout",
     "output_type": "stream",
     "text": [
      "The original string is : gfghsisbjknlmkesbestgfgsdcngfgcsdjnisdjnlbestdjsklgfgcdsbestbnjdsgfgdbhisbhsbestdkgfgb\n",
      "the original list is: ['gfg', 'is', 'best']\n",
      "The frequency subdtring is : gfg\n"
     ]
    }
   ],
   "source": [
    "test_str = \"gfghsisbjknlmkesbestgfgsdcngfgcsdjnisdjnlbestdjsklgfgcdsbestbnjdsgfgdbhisbhsbestdkgfgb\"\n",
    "test_list = ['gfg', 'is', 'best']\n",
    "print(\"The original string is :\",test_str)\n",
    "print(\"the original list is:\",test_list)\n",
    "count_dict = {}\n",
    "for sub in test_list:\n",
    "    count_dict[sub] = test_str.count(sub)\n",
    "result = max(count_dict,key=count_dict.get)\n",
    "print(\"The frequency subdtring is :\",result)"
   ]
  },
  {
   "cell_type": "markdown",
   "id": "2cb8cb97",
   "metadata": {},
   "source": [
    "###  Possible Substring count from String"
   ]
  },
  {
   "cell_type": "code",
   "execution_count": 44,
   "id": "ec014c89",
   "metadata": {},
   "outputs": [
    {
     "name": "stdout",
     "output_type": "stream",
     "text": [
      "The original string is : gekseforgeeks\n",
      "Tha possible count is : 2\n"
     ]
    }
   ],
   "source": [
    "test_str = \"gekseforgeeks\"\n",
    "print(\"The original string is : \" + str(test_str))\n",
    "arg_str = \"geeks\"\n",
    "result = min(test_str.count(char)//arg_str.count(char) for char in set(arg_str))\n",
    "print(\"Tha possible count is :\",result)"
   ]
  },
  {
   "cell_type": "code",
   "execution_count": 45,
   "id": "643ee588",
   "metadata": {},
   "outputs": [
    {
     "name": "stdout",
     "output_type": "stream",
     "text": [
      "The original string is : gekseforgeeks\n",
      "Tha possible count is : 2\n"
     ]
    }
   ],
   "source": [
    "from collections import Counter\n",
    "test_str = \"gekseforgeeks\"\n",
    "print(\"The original string is : \" + str(test_str))\n",
    "arg_str = \"geeks\"\n",
    "temp1 = Counter(test_str)\n",
    "temp2 = Counter(arg_str)\n",
    "result = min(temp1[char]//temp2[char] for char in temp2.keys())\n",
    "print(\"Tha possible count is :\",result)"
   ]
  },
  {
   "cell_type": "code",
   "execution_count": 47,
   "id": "858e804f",
   "metadata": {},
   "outputs": [
    {
     "name": "stdout",
     "output_type": "stream",
     "text": [
      "The original string is : gekseforgeeks\n",
      "Tha possible count is : 2\n"
     ]
    }
   ],
   "source": [
    "import operator as op\n",
    "test_str = \"gekseforgeeks\"\n",
    "print(\"The original string is : \" + str(test_str))\n",
    "arg_str = \"geeks\"\n",
    "temp1 = Counter(test_str)\n",
    "temp2 = Counter(arg_str)\n",
    "res = min(op.countOf(test_str, char) // op.countOf(arg_str, char)\n",
    "          for char in set(arg_str))\n",
    "print(\"Tha possible count is :\",result)"
   ]
  },
  {
   "cell_type": "code",
   "execution_count": 48,
   "id": "05fe420c",
   "metadata": {},
   "outputs": [
    {
     "data": {
      "text/plain": [
       "{'e', 'g', 'k', 's'}"
      ]
     },
     "execution_count": 48,
     "metadata": {},
     "output_type": "execute_result"
    }
   ],
   "source": [
    "arg_str = \"geeks\"\n",
    "arg_str=set(arg_str)\n",
    "arg_str"
   ]
  },
  {
   "cell_type": "code",
   "execution_count": 49,
   "id": "2a66d14c",
   "metadata": {},
   "outputs": [
    {
     "name": "stdout",
     "output_type": "stream",
     "text": [
      "The original string is : gekseforgeeks\n",
      "The possible substring is: 2\n"
     ]
    }
   ],
   "source": [
    "test_str = \"gekseforgeeks\"\n",
    "print(\"The original string is : \" + str(test_str))\n",
    "arg_str = \"geeks\"\n",
    "arg_str = set(arg_str)\n",
    "cnt = 10000\n",
    "for i in arg_str:\n",
    "    m_cnt = test_str.count(i)\n",
    "    if m_cnt < cnt:\n",
    "        cnt = m_cnt\n",
    "print(\"The possible substring is:\",cnt)        "
   ]
  },
  {
   "cell_type": "markdown",
   "id": "92614087",
   "metadata": {},
   "source": [
    "### Replace all occurrences of a substring in a string"
   ]
  },
  {
   "cell_type": "code",
   "execution_count": 50,
   "id": "7f8d6f8d",
   "metadata": {},
   "outputs": [
    {
     "name": "stdout",
     "output_type": "stream",
     "text": [
      "After Replacing input string is : abcdforabcd\n"
     ]
    }
   ],
   "source": [
    "input_string = \"geeksforgeeks\"\n",
    "s1 = \"geeks\"\n",
    "s2 = \"abcd\"\n",
    "result = input_string.replace(s1,s2)\n",
    "print(\"After Replacing input string is :\",result)"
   ]
  },
  {
   "cell_type": "code",
   "execution_count": 51,
   "id": "8ee67ce9",
   "metadata": {},
   "outputs": [
    {
     "name": "stdout",
     "output_type": "stream",
     "text": [
      "After replacing test string is: abcdforabcd\n"
     ]
    }
   ],
   "source": [
    "test_string = \"geeksforgeeks\"\n",
    "s1 = \"geeks\"\n",
    "s2 = \"abcd\"\n",
    "s = test_string.split(s1)\n",
    "new_str = \"\"\n",
    "for i in s:\n",
    "    if i == \"\" :\n",
    "        new_str += s2\n",
    "    else:\n",
    "        new_str += i\n",
    "        \n",
    "print(\"After replacing test string is:\",new_str)"
   ]
  },
  {
   "cell_type": "code",
   "execution_count": 52,
   "id": "5eb2a749",
   "metadata": {},
   "outputs": [
    {
     "data": {
      "text/plain": [
       "['', 'for', '']"
      ]
     },
     "execution_count": 52,
     "metadata": {},
     "output_type": "execute_result"
    }
   ],
   "source": [
    "test_string = \"geeksforgeeks\"\n",
    "s1 = \"geeks\"\n",
    "s = test_string.split(s1)\n",
    "s"
   ]
  },
  {
   "cell_type": "code",
   "execution_count": 54,
   "id": "49684e65",
   "metadata": {},
   "outputs": [
    {
     "data": {
      "text/plain": [
       "'abcdforabcd'"
      ]
     },
     "execution_count": 54,
     "metadata": {},
     "output_type": "execute_result"
    }
   ],
   "source": [
    "import re\n",
    "def replace_substring(test_str,s1,s2):\n",
    "    test_str = re.sub(s1,s2,test_str)\n",
    "    return test_str\n",
    "\n",
    "test_string = \"geeksforgeeks\"\n",
    "s1 = \"geeks\"\n",
    "s2 = \"abcd\"\n",
    "replace_substring(test_string,s1,s2)"
   ]
  },
  {
   "cell_type": "markdown",
   "id": "c335a937",
   "metadata": {},
   "source": [
    "###  Longest Substring Length of K"
   ]
  },
  {
   "cell_type": "code",
   "execution_count": 55,
   "id": "feb374b5",
   "metadata": {},
   "outputs": [
    {
     "name": "stdout",
     "output_type": "stream",
     "text": [
      "The original string is : abcaaaacbbaa\n",
      "The longest substring Length: 4\n"
     ]
    }
   ],
   "source": [
    "test_str = 'abcaaaacbbaa'\n",
    " \n",
    "# printing original String\n",
    "print(\"The original string is : \" + str(test_str))\n",
    "k = \"a\"\n",
    "cnt = 0\n",
    "result = 0\n",
    "for idx in range(len(test_str)):\n",
    "    if test_str[idx] == \"a\":\n",
    "        cnt += 1\n",
    "    else:\n",
    "        cnt = 0\n",
    "    result = max(result,cnt)\n",
    "print(\"The longest substring Length:\",result)"
   ]
  },
  {
   "cell_type": "code",
   "execution_count": 56,
   "id": "f0d78889",
   "metadata": {},
   "outputs": [
    {
     "name": "stdout",
     "output_type": "stream",
     "text": [
      "The original string is : abcaaaacbbaa\n",
      "The longest substring Length: 4\n"
     ]
    }
   ],
   "source": [
    "test_str = 'abcaaaacbbaa'\n",
    " \n",
    "# printing original String\n",
    "print(\"The original string is : \" + str(test_str))\n",
    "k = \"a\"\n",
    "matches = re.findall(k + \"+\",test_str)\n",
    "result = len(max(matches,key=len))\n",
    "print(\"The longest substring Length:\",result)"
   ]
  },
  {
   "cell_type": "markdown",
   "id": "b88e0190",
   "metadata": {},
   "source": [
    "### Extract Indices of substring matches"
   ]
  },
  {
   "cell_type": "code",
   "execution_count": 57,
   "id": "cd3ea8ab",
   "metadata": {},
   "outputs": [
    {
     "name": "stdout",
     "output_type": "stream",
     "text": [
      "The original string is : abcaaaacbbaa\n",
      "The Indices of substring matches: [0, 2]\n"
     ]
    }
   ],
   "source": [
    "test_list = [\"Gfg is good\", \"for Geeks\", \"I love Gfg\", \"Its useful\"]\n",
    "k = \"Gfg\"\n",
    "print(\"The original string is : \" + str(test_str))\n",
    "result = []\n",
    "for idx,val in enumerate(test_list):\n",
    "    if k in val:\n",
    "        result.append(idx)\n",
    "print(\"The Indices of substring matches:\",result)"
   ]
  },
  {
   "cell_type": "code",
   "execution_count": 58,
   "id": "081a3dfa",
   "metadata": {},
   "outputs": [
    {
     "name": "stdout",
     "output_type": "stream",
     "text": [
      "The original string is : abcaaaacbbaa\n",
      "The Indices of substring matches: [0, 2]\n"
     ]
    }
   ],
   "source": [
    "test_list = [\"Gfg is good\", \"for Geeks\", \"I love Gfg\", \"Its useful\"]\n",
    "k = \"Gfg\"\n",
    "print(\"The original string is : \" + str(test_str))\n",
    "result = [idx for idx,val in enumerate(test_list) if k in val]\n",
    "print(\"The Indices of substring matches:\",result)"
   ]
  },
  {
   "cell_type": "markdown",
   "id": "a0e74659",
   "metadata": {},
   "source": [
    "### Split by repeating substring"
   ]
  },
  {
   "cell_type": "code",
   "execution_count": 59,
   "id": "6886771a",
   "metadata": {},
   "outputs": [
    {
     "name": "stdout",
     "output_type": "stream",
     "text": [
      "The original string is : gfggfggfggfggfggfggfggfg\n",
      "The Split String is: ['gfg', 'gfg', 'gfg', 'gfg', 'gfg', 'gfg', 'gfg', 'gfg']\n"
     ]
    }
   ],
   "source": [
    "test_str = \"gfggfggfggfggfggfggfggfg\"\n",
    " \n",
    "# printing original string\n",
    "print(\"The original string is : \" + test_str)\n",
    " \n",
    "# initializing target\n",
    "K = 'gfg'\n",
    "temp = len(test_str)//len(K)\n",
    "result = [K] * temp\n",
    "print(\"The Split String is:\",result)"
   ]
  },
  {
   "cell_type": "code",
   "execution_count": 60,
   "id": "ff042e60",
   "metadata": {},
   "outputs": [
    {
     "data": {
      "text/plain": [
       "8"
      ]
     },
     "execution_count": 60,
     "metadata": {},
     "output_type": "execute_result"
    }
   ],
   "source": [
    " len(test_str)//len(K)"
   ]
  },
  {
   "cell_type": "code",
   "execution_count": 61,
   "id": "768bbc5c",
   "metadata": {},
   "outputs": [
    {
     "name": "stdout",
     "output_type": "stream",
     "text": [
      "The original string is : gfggfggfggfggfggfggfggfg\n",
      "The Split String is: ['gfg', 'gfg', 'gfg', 'gfg', 'gfg', 'gfg', 'gfg', 'gfg']\n"
     ]
    }
   ],
   "source": [
    "test_str = \"gfggfggfggfggfggfggfggfg\"\n",
    " \n",
    "# printing original string\n",
    "print(\"The original string is : \" + test_str)\n",
    " \n",
    "# initializing target\n",
    "K = 'gfg'\n",
    "result = re.findall(K,test_str)\n",
    "print(\"The Split String is:\",result)"
   ]
  },
  {
   "cell_type": "code",
   "execution_count": 62,
   "id": "8441d104",
   "metadata": {},
   "outputs": [
    {
     "name": "stdout",
     "output_type": "stream",
     "text": [
      "The original string is : gfggfggfggfggfggfggfggfg\n",
      "The Split String is: ['gfg', 'gfg', 'gfg', 'gfg', 'gfg', 'gfg', 'gfg', 'gfg']\n"
     ]
    }
   ],
   "source": [
    "test_str = \"gfggfggfggfggfggfggfggfg\"\n",
    " \n",
    "# printing original string\n",
    "print(\"The original string is : \" + test_str)\n",
    " \n",
    "# initializing target\n",
    "K = 'gfg'\n",
    "re = test_str.count(K)\n",
    "result = [K] * re\n",
    "print(\"The Split String is:\",result)"
   ]
  },
  {
   "cell_type": "markdown",
   "id": "faf478ff",
   "metadata": {},
   "source": [
    "### Remove substring list from String"
   ]
  },
  {
   "cell_type": "code",
   "execution_count": 66,
   "id": "6e04828c",
   "metadata": {},
   "outputs": [
    {
     "name": "stdout",
     "output_type": "stream",
     "text": [
      "The original string is : gfg is best for all geeks\n",
      "The string after substring removal: gfg is for geeks\n"
     ]
    }
   ],
   "source": [
    "test_str = \"gfg is best for all geeks\"\n",
    " \n",
    "# printing original string\n",
    "print(\"The original string is : \" + test_str)\n",
    " \n",
    "# initializing sub list\n",
    "sub_list = [\"best\", \"all\"]\n",
    "for sub in sub_list:\n",
    "    test_str = test_str.replace(\" \" + sub + \" \",\" \")\n",
    "print(\"The string after substring removal:\",test_str)"
   ]
  },
  {
   "cell_type": "code",
   "execution_count": 67,
   "id": "bd92d338",
   "metadata": {},
   "outputs": [
    {
     "name": "stdout",
     "output_type": "stream",
     "text": [
      "The original string is : gfg is best for all geeks\n",
      "The string after substring removal: gfg is   for   geeks\n"
     ]
    }
   ],
   "source": [
    "test_str = \"gfg is best for all geeks\"\n",
    " \n",
    "# printing original string\n",
    "print(\"The original string is : \" + test_str)\n",
    " \n",
    "# initializing sub list\n",
    "sub_list = [\"best\", \"all\"]\n",
    "for sub in sub_list:\n",
    "    test_str = test_str.replace(sub,\" \")\n",
    "result = \" \".join(test_str.split())\n",
    "print(\"The string after substring removal:\",test_str)"
   ]
  },
  {
   "cell_type": "code",
   "execution_count": 70,
   "id": "85ba7eb4",
   "metadata": {},
   "outputs": [
    {
     "name": "stdout",
     "output_type": "stream",
     "text": [
      "The original string is : gfg is best for all geeks\n",
      "The string after substring removal: gfg is for geeks\n"
     ]
    }
   ],
   "source": [
    "test_str = \"gfg is best for all geeks\"\n",
    " \n",
    "# printing original string\n",
    "print(\"The original string is : \" + test_str)\n",
    " \n",
    "# initializing sub list\n",
    "sub_list = [\"best\", \"all\"]\n",
    "b = test_str.split()\n",
    "x =[]\n",
    "for i in b:\n",
    "    if i not in sub_list:\n",
    "        x.append(i)\n",
    "result = \" \".join(x)\n",
    "print(\"The string after substring removal:\",result)"
   ]
  },
  {
   "cell_type": "code",
   "execution_count": 72,
   "id": "d80056dd",
   "metadata": {},
   "outputs": [
    {
     "name": "stdout",
     "output_type": "stream",
     "text": [
      "The original string is : gfg is best for all geeks\n",
      "the String after substring removal: gfg is  for  geeks\n"
     ]
    }
   ],
   "source": [
    "from functools import reduce\n",
    "test_str = \"gfg is best for all geeks\"\n",
    " \n",
    "# printing original string\n",
    "print(\"The original string is : \" + test_str)\n",
    " \n",
    "# initializing sub list\n",
    "sub_list = [\"best\", \"all\"]\n",
    "result = reduce(lambda s,sub:s.replace(sub,\"\"),sub_list,test_str)\n",
    "print(\"the String after substring removal:\",result)"
   ]
  },
  {
   "cell_type": "markdown",
   "id": "107e67d9",
   "metadata": {},
   "source": [
    "### Remove after substring in String"
   ]
  },
  {
   "cell_type": "code",
   "execution_count": 79,
   "id": "c407b901",
   "metadata": {},
   "outputs": [
    {
     "name": "stdout",
     "output_type": "stream",
     "text": [
      "The original string is : geeksforgeeks is best for geeks\n",
      "The String After removal: geeksforgeeks is best\n"
     ]
    }
   ],
   "source": [
    "test_str = 'geeksforgeeks is best for geeks'\n",
    "print(\"The original string is : \" + str(test_str))\n",
    " \n",
    "# initializing sub string\n",
    "sub_str = \"best\"\n",
    "result = test_str[:test_str.index(sub_str) + len(sub_str)]\n",
    "print(\"The String After removal:\",result)"
   ]
  },
  {
   "cell_type": "code",
   "execution_count": 88,
   "id": "ac9ffb24",
   "metadata": {},
   "outputs": [
    {
     "name": "stdout",
     "output_type": "stream",
     "text": [
      "The original string is : geeksforgeeks is best for geeks\n",
      "The String After removal: geeksforgeeks is best\n"
     ]
    }
   ],
   "source": [
    "test_str = 'geeksforgeeks is best for geeks'\n",
    "print(\"The original string is : \" + str(test_str))\n",
    " \n",
    "# initializing sub string\n",
    "sub_str = \"best\"\n",
    "re = test_str.split(sub_str)\n",
    "result = re[0] + sub_str\n",
    "print(\"The String After removal:\",result)"
   ]
  },
  {
   "cell_type": "code",
   "execution_count": 86,
   "id": "d2b5115e",
   "metadata": {},
   "outputs": [
    {
     "data": {
      "text/plain": [
       "'geeksforgeeks is '"
      ]
     },
     "execution_count": 86,
     "metadata": {},
     "output_type": "execute_result"
    }
   ],
   "source": [
    "re =test_str.split(sub_str)\n",
    "re[0]"
   ]
  },
  {
   "cell_type": "code",
   "execution_count": 89,
   "id": "42d3fbb4",
   "metadata": {},
   "outputs": [
    {
     "name": "stdout",
     "output_type": "stream",
     "text": [
      "The original string is : geeksforgeeks is best for geeks\n",
      "The String After removal: geeksforgeeks is best\n"
     ]
    }
   ],
   "source": [
    "test_str = 'geeksforgeeks is best for geeks'\n",
    "print(\"The original string is : \" + str(test_str))\n",
    " \n",
    "# initializing sub string\n",
    "sub_str = \"best\"\n",
    "if sub_str in test_str:\n",
    "    result = test_str[:test_str.find(sub_str) + len(sub_str)]\n",
    "print(\"The String After removal:\",result)    \n",
    "    "
   ]
  },
  {
   "cell_type": "markdown",
   "id": "adbc954f",
   "metadata": {},
   "source": [
    "### Remove Redundant Substrings from Strings List"
   ]
  },
  {
   "cell_type": "code",
   "execution_count": 91,
   "id": "2424061f",
   "metadata": {},
   "outputs": [
    {
     "name": "stdout",
     "output_type": "stream",
     "text": [
      "the original string is: ['Gfg', 'Gfg is best', 'Geeks', 'Gfg is for Geeks']\n",
      "The filtered list is: ['Gfg is best', 'Gfg is for Geeks']\n"
     ]
    }
   ],
   "source": [
    "test_list = [\"Gfg\", \"Gfg is best\", \"Geeks\", \"Gfg is for Geeks\"]\n",
    "print(\"the original string is:\",test_list)\n",
    "test_list.sort(key=len)\n",
    "result = []\n",
    "for idx,val in enumerate(test_list):\n",
    "    if val not in \", \".join(test_list[idx + 1:]):\n",
    "        result.append(val)\n",
    "print(\"The filtered list is:\",result)"
   ]
  },
  {
   "cell_type": "code",
   "execution_count": 92,
   "id": "c74ad613",
   "metadata": {},
   "outputs": [
    {
     "name": "stdout",
     "output_type": "stream",
     "text": [
      "the original string is: ['Gfg', 'Gfg is best', 'Geeks', 'Gfg is for Geeks']\n",
      "The filtered list is: ['Gfg is best', 'Gfg is for Geeks']\n"
     ]
    }
   ],
   "source": [
    "test_list = [\"Gfg\", \"Gfg is best\", \"Geeks\", \"Gfg is for Geeks\"]\n",
    "print(\"the original string is:\",test_list)\n",
    "test_list.sort(key=len)\n",
    "result = [val for idx,val in enumerate(test_list) if val not in \", \".join(test_list[idx + 1:])]\n",
    "print(\"The filtered list is:\",result)"
   ]
  },
  {
   "cell_type": "code",
   "execution_count": 94,
   "id": "089d22bf",
   "metadata": {},
   "outputs": [
    {
     "name": "stdout",
     "output_type": "stream",
     "text": [
      "The original list : ['Gfg', 'Gfg is best', 'Geeks', 'Gfg is for Geeks']\n",
      "The filtered list : ['Gfg is for Geeks', 'Gfg is best']\n"
     ]
    }
   ],
   "source": [
    "def remove_redundent_substring(string):\n",
    "    if len(string)<=1:\n",
    "        return string\n",
    "    string.sort(key=len)\n",
    "    current_string = string.pop(0)\n",
    "    remaining_string = remove_redundent_substring(string)\n",
    "    \n",
    "    for string in remaining_string:\n",
    "        if current_string in string:\n",
    "            return remaining_string\n",
    "    remaining_string.append(current_string)\n",
    "    return remaining_string\n",
    "test_list = [\"Gfg\", \"Gfg is best\", \"Geeks\", \"Gfg is for Geeks\"]\n",
    "print(\"The original list : \" + str(test_list))\n",
    " \n",
    "res = remove_redundent_substring(test_list)\n",
    " \n",
    "print(\"The filtered list : \" + str(res))"
   ]
  },
  {
   "cell_type": "markdown",
   "id": "1403b373",
   "metadata": {},
   "source": [
    "### Test substring order"
   ]
  },
  {
   "cell_type": "code",
   "execution_count": 95,
   "id": "140b5b20",
   "metadata": {},
   "outputs": [
    {
     "name": "stdout",
     "output_type": "stream",
     "text": [
      "The original string is : geeksforgeeks\n",
      "True\n"
     ]
    }
   ],
   "source": [
    "test_str = 'geeksforgeeks'\n",
    " \n",
    "# printing original string\n",
    "print(\"The original string is : \" + str(test_str))\n",
    " \n",
    "# initializing substring\n",
    "K = 'seek'\n",
    "def temp(sub):\n",
    "    return \"\".join(char for char in sub if char in set(K))\n",
    "result = K in temp(test_str)\n",
    "print(result)"
   ]
  },
  {
   "cell_type": "code",
   "execution_count": 97,
   "id": "61bd06c9",
   "metadata": {},
   "outputs": [
    {
     "name": "stdout",
     "output_type": "stream",
     "text": [
      "The original string is : geeksforgeeks\n",
      "True\n"
     ]
    }
   ],
   "source": [
    "test_str = 'geeksforgeeks'\n",
    " \n",
    "# printing original string\n",
    "print(\"The original string is : \" + str(test_str))\n",
    " \n",
    "# initializing substring\n",
    "K = 'seek'\n",
    "ns = \"\"\n",
    "for i in test_str:\n",
    "    if i in K:\n",
    "        ns += i\n",
    "result = False\n",
    "if (ns.find(K)!= -1):\n",
    "    result = True\n",
    "print(result)"
   ]
  },
  {
   "cell_type": "markdown",
   "id": "459ce1fe",
   "metadata": {},
   "source": [
    "### String till Substring"
   ]
  },
  {
   "cell_type": "code",
   "execution_count": 102,
   "id": "1deb8820",
   "metadata": {},
   "outputs": [
    {
     "name": "stdout",
     "output_type": "stream",
     "text": [
      "The original string : GeeksforGeeks is best for geeks\n",
      "The split string : best\n",
      "String before the substring occurenc: GeeksforGeeks is \n"
     ]
    }
   ],
   "source": [
    "test_string = \"GeeksforGeeks is best for geeks\"\n",
    " \n",
    "# initializing split word\n",
    "spl_word = 'best'\n",
    " \n",
    "# printing original string\n",
    "print(\"The original string : \" + str(test_string))\n",
    " \n",
    "# printing split string\n",
    "print(\"The split string : \" + str(spl_word))\n",
    "result = test_string.partition(spl_word)[0]\n",
    "print(\"String before the substring occurenc:\",result)"
   ]
  },
  {
   "cell_type": "code",
   "execution_count": 103,
   "id": "0ade7041",
   "metadata": {},
   "outputs": [
    {
     "name": "stdout",
     "output_type": "stream",
     "text": [
      "The original string : GeeksforGeeks is best for geeks\n",
      "The split string : best\n",
      "String before the substring occurenc: GeeksforGeeks is \n"
     ]
    }
   ],
   "source": [
    "test_string = \"GeeksforGeeks is best for geeks\"\n",
    " \n",
    "# initializing split word\n",
    "spl_word = 'best'\n",
    " \n",
    "# printing original string\n",
    "print(\"The original string : \" + str(test_string))\n",
    " \n",
    "# printing split string\n",
    "print(\"The split string : \" + str(spl_word))\n",
    "result = test_string.split(spl_word)[0]\n",
    "print(\"String before the substring occurenc:\",result)"
   ]
  },
  {
   "cell_type": "code",
   "execution_count": 104,
   "id": "5608246b",
   "metadata": {},
   "outputs": [
    {
     "data": {
      "text/plain": [
       "'GeeksforGeeks is '"
      ]
     },
     "execution_count": 104,
     "metadata": {},
     "output_type": "execute_result"
    }
   ],
   "source": [
    "test_string.split(spl_word)[0]"
   ]
  },
  {
   "cell_type": "code",
   "execution_count": 105,
   "id": "0d350184",
   "metadata": {},
   "outputs": [
    {
     "name": "stdout",
     "output_type": "stream",
     "text": [
      "The original string : GeeksforGeeks is best for geeks\n",
      "The split string : best\n",
      "String before the substring occurenc: GeeksforGeeks is \n"
     ]
    }
   ],
   "source": [
    "test_string = \"GeeksforGeeks is best for geeks\"\n",
    " \n",
    "# initializing split word\n",
    "spl_word = 'best'\n",
    " \n",
    "# printing original string\n",
    "print(\"The original string : \" + str(test_string))\n",
    " \n",
    "# printing split string\n",
    "print(\"The split string : \" + str(spl_word))\n",
    "x = test_string.find(spl_word)\n",
    "result = test_string[:x]\n",
    "print(\"String before the substring occurenc:\",result)"
   ]
  },
  {
   "cell_type": "markdown",
   "id": "aa6fd513",
   "metadata": {},
   "source": [
    "### Filter Strings combination of K substrings"
   ]
  },
  {
   "cell_type": "code",
   "execution_count": 106,
   "id": "836c9302",
   "metadata": {},
   "outputs": [
    {
     "name": "stdout",
     "output_type": "stream",
     "text": [
      "The original list : ['geeks4u', 'allbest', 'abcdef']\n",
      "The string afte joins: ['geeks4u', 'allbest']\n"
     ]
    }
   ],
   "source": [
    "from itertools import permutations\n",
    "test_list = [\"geeks4u\", \"allbest\", \"abcdef\"]\n",
    " \n",
    "# printing string\n",
    "print(\"The original list : \" + str(test_list))\n",
    " \n",
    "# initializing substring list\n",
    "substr_list = [\"s4u\", \"est\", \"al\", \"ge\", \"ek\", \"def\", \"lb\"]\n",
    " \n",
    "# initializing K \n",
    "K = 3\n",
    "perms = list(set(map(\"\".join,permutations(substr_list,r=K))))\n",
    "result =[]\n",
    "for ele in perms:\n",
    "    if ele in test_list:\n",
    "        result.append(ele)\n",
    "        \n",
    "print(\"The string afte joins:\",result)"
   ]
  },
  {
   "cell_type": "code",
   "execution_count": 107,
   "id": "06e5c4e0",
   "metadata": {},
   "outputs": [
    {
     "name": "stdout",
     "output_type": "stream",
     "text": [
      "The original list : ['geeks4u', 'allbest', 'abcdef']\n",
      "The string afte joins: ['geeks4u', 'allbest']\n"
     ]
    }
   ],
   "source": [
    "from itertools import permutations\n",
    "test_list = [\"geeks4u\", \"allbest\", \"abcdef\"]\n",
    " \n",
    "# printing string\n",
    "print(\"The original list : \" + str(test_list))\n",
    " \n",
    "# initializing substring list\n",
    "substr_list = [\"s4u\", \"est\", \"al\", \"ge\", \"ek\", \"def\", \"lb\"]\n",
    " \n",
    "# initializing K \n",
    "K = 3\n",
    "perms = list(set(map(\"\".join,permutations(substr_list,r=K))))\n",
    "result = list(set(test_list).intersection(perms))\n",
    "        \n",
    "print(\"The string afte joins:\",result)"
   ]
  },
  {
   "cell_type": "code",
   "execution_count": 108,
   "id": "0d1f6f13",
   "metadata": {},
   "outputs": [
    {
     "name": "stdout",
     "output_type": "stream",
     "text": [
      "The original list : ['geeks4u', 'allbest', 'abcdef']\n",
      "String after joins: ['geeks4u', 'allbest']\n"
     ]
    }
   ],
   "source": [
    "from itertools import permutations\n",
    "test_list = [\"geeks4u\", \"allbest\", \"abcdef\"]\n",
    " \n",
    "# printing string\n",
    "print(\"The original list : \" + str(test_list))\n",
    " \n",
    "# initializing substring list\n",
    "substr_list = [\"s4u\", \"est\", \"al\", \"ge\", \"ek\", \"def\", \"lb\"]\n",
    " \n",
    "# initializing K \n",
    "K = 3\n",
    "result =[]\n",
    "for s in test_list:\n",
    "    for p in permutations(substr_list,K):\n",
    "        if \"\".join(p) in s:\n",
    "            result.append(s)\n",
    "            break\n",
    "print(\"String after joins:\",result)"
   ]
  },
  {
   "cell_type": "code",
   "execution_count": null,
   "id": "b7fb27c7",
   "metadata": {},
   "outputs": [],
   "source": []
  }
 ],
 "metadata": {
  "kernelspec": {
   "display_name": "Python 3 (ipykernel)",
   "language": "python",
   "name": "python3"
  },
  "language_info": {
   "codemirror_mode": {
    "name": "ipython",
    "version": 3
   },
   "file_extension": ".py",
   "mimetype": "text/x-python",
   "name": "python",
   "nbconvert_exporter": "python",
   "pygments_lexer": "ipython3",
   "version": "3.11.5"
  }
 },
 "nbformat": 4,
 "nbformat_minor": 5
}
