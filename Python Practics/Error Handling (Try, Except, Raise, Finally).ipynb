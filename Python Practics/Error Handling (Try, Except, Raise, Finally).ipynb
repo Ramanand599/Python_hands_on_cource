{
 "cells": [
  {
   "cell_type": "code",
   "execution_count": 1,
   "metadata": {},
   "outputs": [
    {
     "name": "stdout",
     "output_type": "stream",
     "text": [
      "Division by Zero is not allowed.\n"
     ]
    }
   ],
   "source": [
    "# Handling a Division by Zero error:\n",
    "try:\n",
    "    result=5/0\n",
    "except ZeroDivisionError:\n",
    "    print(\"Division by Zero is not allowed.\")"
   ]
  },
  {
   "cell_type": "code",
   "execution_count": 6,
   "metadata": {},
   "outputs": [
    {
     "name": "stdout",
     "output_type": "stream",
     "text": [
      "Enter A Number:0\n",
      "Division by Zero is not allowed.\n",
      "-10.0\n"
     ]
    }
   ],
   "source": [
    "# Handling multiple exceptions:\n",
    "try:\n",
    "    num=int(input(\"Enter A Number:\"))\n",
    "    result=10/num\n",
    "except ZeroDivisionError:\n",
    "    print(\"Division by Zero is not allowed.\")\n",
    "    \n",
    "except ValueError:\n",
    "    print(\"Invalid input.please enter a valid number\")\n",
    "print(result)"
   ]
  },
  {
   "cell_type": "code",
   "execution_count": 7,
   "metadata": {},
   "outputs": [
    {
     "name": "stdout",
     "output_type": "stream",
     "text": [
      "Enter a number:5\n",
      "result is:2.0\n"
     ]
    }
   ],
   "source": [
    "# using the else block\n",
    "try:\n",
    "    num=int(input(\"Enter a number:\"))\n",
    "    result=10/num\n",
    "    \n",
    "except ZeroDivisionError:\n",
    "    print(\"Division by Zero is not allowed\")\n",
    "except ValueError:\n",
    "    print(\"Invalid Input.Please Enter valid number.\")\n",
    "\n",
    "else:\n",
    "    print(f\"result is:{result}\")"
   ]
  },
  {
   "cell_type": "code",
   "execution_count": 8,
   "metadata": {},
   "outputs": [
    {
     "name": "stdout",
     "output_type": "stream",
     "text": [
      "File not found\n"
     ]
    }
   ],
   "source": [
    "# Using the finally block for cleanup:\n",
    "file= None\n",
    "try:\n",
    "    file=open(\"example.txt\",\"r\")\n",
    "    #perform file operation\n",
    "except FileNotFoundError:\n",
    "    print(\"File not found\")\n",
    "finally:\n",
    "    if file:\n",
    "        file.close()"
   ]
  },
  {
   "cell_type": "code",
   "execution_count": 9,
   "metadata": {},
   "outputs": [
    {
     "name": "stdout",
     "output_type": "stream",
     "text": [
      "Result is:10.0\n",
      "Result is:5.0\n",
      "Division by Zero is not allowed\n",
      "Result is:3.3333333333333335\n",
      "Result is:2.0\n",
      "Division by Zero is not allowed\n",
      "Result is:1.25\n"
     ]
    }
   ],
   "source": [
    "#Handling exceptions in a loop:\n",
    "number=[1,2,0,3,5,0,8]\n",
    "for i in number:\n",
    "    try:\n",
    "        result=10/i\n",
    "        print(f\"Result is:{result}\")\n",
    "    except ZeroDivisionError:\n",
    "        print(\"Division by Zero is not allowed\")"
   ]
  },
  {
   "cell_type": "code",
   "execution_count": 13,
   "metadata": {},
   "outputs": [
    {
     "name": "stdout",
     "output_type": "stream",
     "text": [
      "Enter a number or 'q' to quit:5\n",
      "2.0\n"
     ]
    }
   ],
   "source": [
    "# Catching multiple exceptions in one block:\n",
    "try:\n",
    "    value=int(input(\"Enter a number or 'q' to quit:\"))\n",
    "    if value==\"q\":\n",
    "        quit()\n",
    "    result=10/value\n",
    "except (ValueError,ZeroDivisionError):\n",
    "    print(\"Invalid input or Division by Zero\")\n",
    "    \n",
    "print(result)"
   ]
  },
  {
   "cell_type": "code",
   "execution_count": 14,
   "metadata": {},
   "outputs": [
    {
     "name": "stdout",
     "output_type": "stream",
     "text": [
      "Key not found in dictonary\n"
     ]
    }
   ],
   "source": [
    "# Handling a KeyError in a Dictionary:\n",
    "my_dict={\"name\":\"Jon\",\"age\":23}\n",
    "try:\n",
    "    print(my_dict[\"city\"])\n",
    "except KeyError:\n",
    "    print(\"Key not found in dictonary\")"
   ]
  },
  {
   "cell_type": "code",
   "execution_count": 15,
   "metadata": {},
   "outputs": [
    {
     "name": "stdout",
     "output_type": "stream",
     "text": [
      "Index out of range\n"
     ]
    }
   ],
   "source": [
    "#Handling an IndexError:\n",
    "my_lst=[1,2,3]\n",
    "try:\n",
    "    print(my_lst[5])\n",
    "except IndexError:\n",
    "    print(\"Index out of range\")"
   ]
  },
  {
   "cell_type": "code",
   "execution_count": 16,
   "metadata": {},
   "outputs": [
    {
     "name": "stdout",
     "output_type": "stream",
     "text": [
      "File not Found\n"
     ]
    }
   ],
   "source": [
    "#Handling a File I/O Error:\n",
    "try:\n",
    "    with open(\"non_exit_file.txt\",\"r\") as file:\n",
    "        content=file.read()\n",
    "except FileNotFoundError:\n",
    "    print(\"File not Found\")"
   ]
  },
  {
   "cell_type": "code",
   "execution_count": 17,
   "metadata": {},
   "outputs": [
    {
     "name": "stdout",
     "output_type": "stream",
     "text": [
      "An unexpected error Occurred: unsupported operand type(s) for /: 'int' and 'str'\n"
     ]
    }
   ],
   "source": [
    "#Using a generic Exception class for unexpected errors:\n",
    "try:\n",
    "    result=10/\"a\"\n",
    "except Exception as e:\n",
    "    print(f\"An unexpected error Occurred: {e}\")"
   ]
  },
  {
   "cell_type": "code",
   "execution_count": 22,
   "metadata": {},
   "outputs": [
    {
     "name": "stdout",
     "output_type": "stream",
     "text": [
      "Enter a Number:0\n",
      "Invalid input or division by Zero\n",
      "Attempts left:2\n",
      "Enter a Number:0\n",
      "Invalid input or division by Zero\n",
      "Attempts left:1\n",
      "Enter a Number:0\n",
      "Invalid input or division by Zero\n",
      "Attempts left:0\n"
     ]
    }
   ],
   "source": [
    "#Re-trying an operation with a limited number of attempts:\n",
    "attempts=3\n",
    "while attempts>0:\n",
    "    try:\n",
    "        value=int(input(\"Enter a Number:\"))\n",
    "        result=10/value\n",
    "        print(f\"Result is:{result}\")\n",
    "        break\n",
    "    except (ValueError,ZeroDivisionError):\n",
    "        print(\"Invalid input or division by Zero\")\n",
    "        attempts -=1\n",
    "    finally:\n",
    "        print(f\"Attempts left:{attempts}\")"
   ]
  },
  {
   "cell_type": "code",
   "execution_count": 23,
   "metadata": {},
   "outputs": [
    {
     "name": "stdout",
     "output_type": "stream",
     "text": [
      "Division by Zero is not allowed\n"
     ]
    }
   ],
   "source": [
    "# Handling exceptions in a function and returning a default value:\n",
    "def safe_divide(a,b):\n",
    "    try:\n",
    "        result=a/b\n",
    "    except ZeroDivisionError:\n",
    "        print(\"Division by Zero is not allowed\")\n",
    "        result=None\n",
    "    return result\n",
    "\n",
    "result=safe_divide(10,0)\n",
    "if result is not None:\n",
    "    print(f\"result:{result}\")\n",
    "        "
   ]
  },
  {
   "cell_type": "code",
   "execution_count": 24,
   "metadata": {},
   "outputs": [
    {
     "name": "stdout",
     "output_type": "stream",
     "text": [
      "Error:Cannot calculate square root of a negative number.\n"
     ]
    }
   ],
   "source": [
    "## Raising an exception with a custom message:\n",
    "def calculate_sqrt(num):\n",
    "    if num<0:\n",
    "        raise ValueError(\"Cannot calculate square root of a negative number.\")\n",
    "    return num**0.5\n",
    "try:\n",
    "    result=calculate_sqrt(-4)\n",
    "except ValueError as e:\n",
    "    print(f\"Error:{e}\")"
   ]
  },
  {
   "cell_type": "code",
   "execution_count": null,
   "metadata": {},
   "outputs": [],
   "source": []
  }
 ],
 "metadata": {
  "kernelspec": {
   "display_name": "Python 3",
   "language": "python",
   "name": "python3"
  },
  "language_info": {
   "codemirror_mode": {
    "name": "ipython",
    "version": 3
   },
   "file_extension": ".py",
   "mimetype": "text/x-python",
   "name": "python",
   "nbconvert_exporter": "python",
   "pygments_lexer": "ipython3",
   "version": "3.7.6"
  }
 },
 "nbformat": 4,
 "nbformat_minor": 4
}
