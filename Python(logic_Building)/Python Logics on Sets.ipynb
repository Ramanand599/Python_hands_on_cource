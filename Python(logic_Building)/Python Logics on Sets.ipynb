{
 "cells": [
  {
   "cell_type": "markdown",
   "id": "1649b3e5",
   "metadata": {},
   "source": [
    "### Basic Set Programs\n",
    "### Find the size of a Set in Python"
   ]
  },
  {
   "cell_type": "code",
   "execution_count": 3,
   "id": "7c05cd65",
   "metadata": {},
   "outputs": [
    {
     "name": "stdout",
     "output_type": "stream",
     "text": [
      "Size of set1: 472 bytes\n",
      "Size of set2: 472 bytes\n",
      "Size of set3: 216 bytes\n"
     ]
    }
   ],
   "source": [
    "import sys\n",
    "Set1 = {\"A\", 1, \"B\", 2, \"C\", 3}\n",
    "Set2 = {\"Geek1\", \"Raju\", \"Geek2\", \"Nikhil\", \"Geek3\", \"Deepanshu\"}\n",
    "Set3 = {(1, \"Lion\"), ( 2, \"Tiger\"), (3, \"Fox\")}\n",
    "print(\"Size of set1:\",sys.getsizeof(Set1),\"bytes\")\n",
    "print(\"Size of set2:\",sys.getsizeof(Set2),\"bytes\")\n",
    "print(\"Size of set3:\",sys.getsizeof(Set3),\"bytes\")"
   ]
  },
  {
   "cell_type": "code",
   "execution_count": 5,
   "id": "e3158e70",
   "metadata": {},
   "outputs": [
    {
     "data": {
      "text/plain": [
       "['__new__',\n",
       " '__repr__',\n",
       " '__hash__',\n",
       " '__getattribute__',\n",
       " '__lt__',\n",
       " '__le__',\n",
       " '__eq__',\n",
       " '__ne__',\n",
       " '__gt__',\n",
       " '__ge__',\n",
       " '__iter__',\n",
       " '__init__',\n",
       " '__sub__',\n",
       " '__rsub__',\n",
       " '__and__',\n",
       " '__rand__',\n",
       " '__xor__',\n",
       " '__rxor__',\n",
       " '__or__',\n",
       " '__ror__',\n",
       " '__isub__',\n",
       " '__iand__',\n",
       " '__ixor__',\n",
       " '__ior__',\n",
       " '__len__',\n",
       " '__contains__',\n",
       " 'add',\n",
       " 'clear',\n",
       " 'copy',\n",
       " 'discard',\n",
       " 'difference',\n",
       " 'difference_update',\n",
       " 'intersection',\n",
       " 'intersection_update',\n",
       " 'isdisjoint',\n",
       " 'issubset',\n",
       " 'issuperset',\n",
       " 'pop',\n",
       " '__reduce__',\n",
       " 'remove',\n",
       " '__sizeof__',\n",
       " 'symmetric_difference',\n",
       " 'symmetric_difference_update',\n",
       " 'union',\n",
       " 'update',\n",
       " '__class_getitem__',\n",
       " '__doc__',\n",
       " '__str__',\n",
       " '__setattr__',\n",
       " '__delattr__',\n",
       " '__reduce_ex__',\n",
       " '__getstate__',\n",
       " '__subclasshook__',\n",
       " '__init_subclass__',\n",
       " '__format__',\n",
       " '__dir__',\n",
       " '__class__']"
      ]
     },
     "execution_count": 5,
     "metadata": {},
     "output_type": "execute_result"
    }
   ],
   "source": [
    "Set1.__dir__()"
   ]
  },
  {
   "cell_type": "code",
   "execution_count": 6,
   "id": "5fa54600",
   "metadata": {},
   "outputs": [
    {
     "name": "stdout",
     "output_type": "stream",
     "text": [
      "Size of set1: 456 bytes\n",
      "Size of set2: 456 bytes\n",
      "Size of set3: 200 bytes\n"
     ]
    }
   ],
   "source": [
    "Set1 = {\"A\", 1, \"B\", 2, \"C\", 3}\n",
    "Set2 = {\"Geek1\", \"Raju\", \"Geek2\", \"Nikhil\", \"Geek3\", \"Deepanshu\"}\n",
    "Set3 = {(1, \"Lion\"), ( 2, \"Tiger\"), (3, \"Fox\")}\n",
    "print(\"Size of set1:\",Set1.__sizeof__(),\"bytes\")\n",
    "print(\"Size of set2:\",Set2.__sizeof__(),\"bytes\")\n",
    "print(\"Size of set3:\",Set3.__sizeof__(),\"bytes\")"
   ]
  },
  {
   "cell_type": "markdown",
   "id": "8b424abb",
   "metadata": {},
   "source": [
    "### Iterate over a set in Python"
   ]
  },
  {
   "cell_type": "code",
   "execution_count": 11,
   "id": "b14cbac6",
   "metadata": {},
   "outputs": [
    {
     "name": "stdout",
     "output_type": "stream",
     "text": [
      "S\n",
      "G\n",
      "E\n",
      "E\n",
      "K\n"
     ]
    }
   ],
   "source": [
    "test_set = set(\"geEks\")\n",
    "for val in test_set:\n",
    "    print(val.upper())"
   ]
  },
  {
   "cell_type": "code",
   "execution_count": 14,
   "id": "041bef02",
   "metadata": {},
   "outputs": [
    {
     "name": "stdout",
     "output_type": "stream",
     "text": [
      "0.07431900000665337\n",
      "0.07571540000208188\n",
      "0.0734424999973271\n",
      "0.07583439999143593\n",
      "0.07465789999696426\n"
     ]
    }
   ],
   "source": [
    "from timeit import default_timer as timer\n",
    "import itertools\n",
    "import random\n",
    "\n",
    "def test_func(test_set):\n",
    "    for val in test_set:\n",
    "        _ = val\n",
    "        \n",
    "random.seed(21)\n",
    "for _ in range(5):\n",
    "    test_set = set()\n",
    "    for ele in range(int(1e6)):\n",
    "        ele = random.random()\n",
    "        test_set.add(ele)\n",
    "        \n",
    "    start = timer()\n",
    "    test_func(test_set)\n",
    "    end = timer()\n",
    "    print(str(end - start))"
   ]
  },
  {
   "cell_type": "code",
   "execution_count": 12,
   "id": "0669cd66",
   "metadata": {},
   "outputs": [
    {
     "name": "stdout",
     "output_type": "stream",
     "text": [
      "0 S\n",
      "1 G\n",
      "2 E\n",
      "3 E\n",
      "4 K\n"
     ]
    }
   ],
   "source": [
    "test_set = set(\"geEks\")\n",
    "for i,val in enumerate(test_set):\n",
    "    print(i,val.upper())"
   ]
  },
  {
   "cell_type": "code",
   "execution_count": 18,
   "id": "c160e92a",
   "metadata": {},
   "outputs": [
    {
     "name": "stdout",
     "output_type": "stream",
     "text": [
      "['s', 'g', 'e', 'E', 'k']\n",
      "s\n",
      "g\n",
      "e\n",
      "E\n",
      "k\n"
     ]
    }
   ],
   "source": [
    "test_set = set(\"geEks\")\n",
    "test_list = list(test_set)\n",
    "print(test_list)\n",
    "for ele in range(len(test_list)):\n",
    "    print(test_list[ele])"
   ]
  },
  {
   "cell_type": "code",
   "execution_count": 21,
   "id": "607d6817",
   "metadata": {},
   "outputs": [
    {
     "name": "stdout",
     "output_type": "stream",
     "text": [
      "['s', 'g', 'e', 'E', 'k']\n"
     ]
    }
   ],
   "source": [
    "test_set = set(\"geEks\")\n",
    "result = list(val for val in test_set)\n",
    "print(result)"
   ]
  },
  {
   "cell_type": "code",
   "execution_count": 22,
   "id": "f7d64bc1",
   "metadata": {},
   "outputs": [
    {
     "name": "stdout",
     "output_type": "stream",
     "text": [
      "s g e E k\n"
     ]
    }
   ],
   "source": [
    "test_set = set(\"geEks\")\n",
    "result = list(val for val in test_set)\n",
    "print(*result)"
   ]
  },
  {
   "cell_type": "code",
   "execution_count": 24,
   "id": "a34a9cac",
   "metadata": {},
   "outputs": [
    {
     "name": "stdout",
     "output_type": "stream",
     "text": [
      "s\n",
      "g\n",
      "e\n",
      "E\n",
      "k\n"
     ]
    }
   ],
   "source": [
    "test_set = set(\"geEks\")\n",
    "result = [print(val) for val in test_set]"
   ]
  },
  {
   "cell_type": "code",
   "execution_count": 30,
   "id": "5d35f9ec",
   "metadata": {},
   "outputs": [
    {
     "name": "stdout",
     "output_type": "stream",
     "text": [
      "s\n",
      "g\n",
      "e\n",
      "E\n",
      "k\n"
     ]
    }
   ],
   "source": [
    "test_set = set(\"geEks\")\n",
    " \n",
    "iter_gen = iter(test_set)\n",
    "#print(list(iter_gen))\n",
    "while True:\n",
    "    try:\n",
    "        print(next(iter_gen))\n",
    "    except StopIteration:\n",
    "        break"
   ]
  },
  {
   "cell_type": "markdown",
   "id": "72b6a072",
   "metadata": {},
   "source": [
    "### Maximum and Minimum in a Set"
   ]
  },
  {
   "cell_type": "code",
   "execution_count": 31,
   "id": "8ddc183a",
   "metadata": {},
   "outputs": [
    {
     "name": "stdout",
     "output_type": "stream",
     "text": [
      "65\n"
     ]
    }
   ],
   "source": [
    "def MAX(sets):\n",
    "    return (max(sets))\n",
    "sets = set([8, 16, 24, 1, 25, 3, 10, 65, 55])\n",
    "print(MAX(sets))"
   ]
  },
  {
   "cell_type": "code",
   "execution_count": 32,
   "id": "76458b57",
   "metadata": {},
   "outputs": [
    {
     "name": "stdout",
     "output_type": "stream",
     "text": [
      "1\n"
     ]
    }
   ],
   "source": [
    "def MIN(sets):\n",
    "    return (min(sets))\n",
    "sets = set([8, 16, 24, 1, 25, 3, 10, 65, 55])\n",
    "print(MIN(sets))"
   ]
  },
  {
   "cell_type": "markdown",
   "id": "a67e4e90",
   "metadata": {},
   "source": [
    "### Remove items from Set"
   ]
  },
  {
   "cell_type": "code",
   "execution_count": 33,
   "id": "c8686ddb",
   "metadata": {},
   "outputs": [
    {
     "name": "stdout",
     "output_type": "stream",
     "text": [
      "{9, 10, 12, 13, 15}\n",
      "{10, 12, 13, 15}\n",
      "{12, 13, 15}\n",
      "{13, 15}\n",
      "{15}\n",
      "set()\n"
     ]
    }
   ],
   "source": [
    "def Remove(initial_set):\n",
    "    while initial_set:\n",
    "        initial_set.pop()\n",
    "        print(initial_set)\n",
    "initial_set = set([12, 10, 13, 15, 8, 9])\n",
    "Remove(initial_set)"
   ]
  },
  {
   "cell_type": "code",
   "execution_count": 34,
   "id": "dc55efdd",
   "metadata": {},
   "outputs": [
    {
     "name": "stdout",
     "output_type": "stream",
     "text": [
      "{8, 9, 10, 12, 13}\n",
      "{8, 9, 10, 12}\n",
      "{8, 9, 10}\n",
      "{8, 9}\n",
      "{8}\n",
      "set()\n"
     ]
    }
   ],
   "source": [
    "my_set = set([12, 10, 13, 15, 8, 9])\n",
    "while my_set:\n",
    "    my_set.discard(max(my_set))\n",
    "    print(my_set)"
   ]
  },
  {
   "cell_type": "code",
   "execution_count": 35,
   "id": "18d3fd95",
   "metadata": {},
   "outputs": [
    {
     "data": {
      "text/plain": [
       "['__new__',\n",
       " '__repr__',\n",
       " '__hash__',\n",
       " '__getattribute__',\n",
       " '__lt__',\n",
       " '__le__',\n",
       " '__eq__',\n",
       " '__ne__',\n",
       " '__gt__',\n",
       " '__ge__',\n",
       " '__iter__',\n",
       " '__init__',\n",
       " '__sub__',\n",
       " '__rsub__',\n",
       " '__and__',\n",
       " '__rand__',\n",
       " '__xor__',\n",
       " '__rxor__',\n",
       " '__or__',\n",
       " '__ror__',\n",
       " '__isub__',\n",
       " '__iand__',\n",
       " '__ixor__',\n",
       " '__ior__',\n",
       " '__len__',\n",
       " '__contains__',\n",
       " 'add',\n",
       " 'clear',\n",
       " 'copy',\n",
       " 'discard',\n",
       " 'difference',\n",
       " 'difference_update',\n",
       " 'intersection',\n",
       " 'intersection_update',\n",
       " 'isdisjoint',\n",
       " 'issubset',\n",
       " 'issuperset',\n",
       " 'pop',\n",
       " '__reduce__',\n",
       " 'remove',\n",
       " '__sizeof__',\n",
       " 'symmetric_difference',\n",
       " 'symmetric_difference_update',\n",
       " 'union',\n",
       " 'update',\n",
       " '__class_getitem__',\n",
       " '__doc__',\n",
       " '__str__',\n",
       " '__setattr__',\n",
       " '__delattr__',\n",
       " '__reduce_ex__',\n",
       " '__getstate__',\n",
       " '__subclasshook__',\n",
       " '__init_subclass__',\n",
       " '__format__',\n",
       " '__dir__',\n",
       " '__class__']"
      ]
     },
     "execution_count": 35,
     "metadata": {},
     "output_type": "execute_result"
    }
   ],
   "source": [
    "my_set.__dir__()"
   ]
  },
  {
   "cell_type": "code",
   "execution_count": 38,
   "id": "d1bc240d",
   "metadata": {},
   "outputs": [
    {
     "name": "stdout",
     "output_type": "stream",
     "text": [
      "{9, 10, 12, 13, 15}\n",
      "{10, 12, 13, 15}\n",
      "{12, 13, 15}\n",
      "{13, 15}\n",
      "{15}\n",
      "set()\n"
     ]
    }
   ],
   "source": [
    "my_set = set([12, 10, 13, 15, 8, 9])\n",
    " \n",
    "for i in range(len(my_set)):\n",
    "    my_set.remove(next(iter(my_set)))\n",
    "    print(my_set)"
   ]
  },
  {
   "cell_type": "markdown",
   "id": "24fec924",
   "metadata": {},
   "source": [
    "### Check if two lists have at-least one element common"
   ]
  },
  {
   "cell_type": "code",
   "execution_count": 43,
   "id": "06f097a5",
   "metadata": {},
   "outputs": [
    {
     "name": "stdout",
     "output_type": "stream",
     "text": [
      "True\n",
      "False\n"
     ]
    }
   ],
   "source": [
    "def common_data(list1,list2):\n",
    "    result = False\n",
    "    for x in list1:\n",
    "        for y in list2:\n",
    "            if x == y :\n",
    "                result = True\n",
    "                return result\n",
    "    return result\n",
    "a = [1, 2, 3, 4, 5]\n",
    "b = [5, 6, 7, 8, 9]\n",
    "print(common_data(a, b))\n",
    "\n",
    "a = [1, 2, 3, 4, 5]\n",
    "b = [6, 7, 8, 9]\n",
    "print(common_data(a, b))"
   ]
  },
  {
   "cell_type": "code",
   "execution_count": 45,
   "id": "7d4957fd",
   "metadata": {},
   "outputs": [
    {
     "name": "stdout",
     "output_type": "stream",
     "text": [
      "True\n",
      "False\n"
     ]
    }
   ],
   "source": [
    "def common_member(a,b):\n",
    "    set_a = set(a)\n",
    "    set_b = set(b)\n",
    "    if (set_a & set_b):\n",
    "        return True\n",
    "    else:\n",
    "        return False\n",
    "    \n",
    "a = [1, 2, 3, 4, 5]\n",
    "b = [5, 6, 7, 8, 9]\n",
    "print(common_member(a, b))\n",
    "\n",
    "a =[1, 2, 3, 4, 5]\n",
    "b =[6, 7, 8, 9]\n",
    "print(common_member(a, b))"
   ]
  },
  {
   "cell_type": "code",
   "execution_count": 47,
   "id": "c2caee59",
   "metadata": {},
   "outputs": [
    {
     "name": "stdout",
     "output_type": "stream",
     "text": [
      "True\n",
      "False\n"
     ]
    }
   ],
   "source": [
    "def common_member(a,b):\n",
    "    set_a = set(a)\n",
    "    set_b = set(b)\n",
    "    if len(set_a.intersection(set_b)) > 0:\n",
    "        return True\n",
    "    return False\n",
    "\n",
    "a = [1, 2, 3, 4, 5]\n",
    "b = [5, 6, 7, 8, 9]\n",
    "print(common_member(a, b))\n",
    "\n",
    "a =[1, 2, 3, 4, 5]\n",
    "b =[6, 7, 8, 9]\n",
    "print(common_member(a, b))"
   ]
  },
  {
   "cell_type": "code",
   "execution_count": 50,
   "id": "632e3d11",
   "metadata": {},
   "outputs": [
    {
     "name": "stdout",
     "output_type": "stream",
     "text": [
      "True\n",
      "False\n"
     ]
    }
   ],
   "source": [
    "from collections import Counter\n",
    "def have_common_element(list1,list2):\n",
    "    counter1 = Counter(list1)\n",
    "    counter2 = Counter(list2)\n",
    "    for ele,count in counter1.items():\n",
    "        if ele in counter2 and count>0:\n",
    "            return True\n",
    "    return False\n",
    "a = [1, 2, 3, 4, 5]\n",
    "b = [5, 6, 7, 8, 9]\n",
    "print(have_common_element(a, b))  \n",
    " \n",
    "a = [1, 2, 3, 4, 5]\n",
    "b = [6, 7, 8, 9]\n",
    "print(have_common_element(a, b))"
   ]
  },
  {
   "cell_type": "code",
   "execution_count": 51,
   "id": "77cb4db5",
   "metadata": {},
   "outputs": [
    {
     "name": "stdout",
     "output_type": "stream",
     "text": [
      "True\n"
     ]
    }
   ],
   "source": [
    "import operator as op\n",
    "list1 = [1, 3, 4, 55]\n",
    "list2 = [90, 1, 22]\n",
    " \n",
    "flag = 0\n",
    "for ele in list2:\n",
    "    if op.countOf(list1,ele) >0:\n",
    "        flag = 1\n",
    "if flag == 1:\n",
    "    print(\"True\")\n",
    "else:\n",
    "    print(\"False\")"
   ]
  },
  {
   "cell_type": "code",
   "execution_count": 55,
   "id": "a3e9765b",
   "metadata": {},
   "outputs": [
    {
     "name": "stdout",
     "output_type": "stream",
     "text": [
      "True\n",
      "False\n"
     ]
    }
   ],
   "source": [
    "def common_member(a,b):\n",
    "    return any(i in b for i in a)\n",
    "a = [1, 2, 3, 4, 5]\n",
    "b = [5, 6, 7, 8, 9]\n",
    "print(common_member(a, b))\n",
    "\n",
    "a =[1, 2, 3, 4, 5]\n",
    "b =[6, 7, 8, 9]\n",
    "print(common_member(a, b))"
   ]
  },
  {
   "cell_type": "markdown",
   "id": "1dc57076",
   "metadata": {},
   "source": [
    "### Python program to find common elements in three lists using sets"
   ]
  },
  {
   "cell_type": "code",
   "execution_count": 56,
   "id": "85aebf75",
   "metadata": {},
   "outputs": [
    {
     "name": "stdout",
     "output_type": "stream",
     "text": [
      "{80, 100, 20}\n"
     ]
    },
    {
     "data": {
      "text/plain": [
       "[80, 20]"
      ]
     },
     "execution_count": 56,
     "metadata": {},
     "output_type": "execute_result"
    }
   ],
   "source": [
    "def intersectsOfSets(arr1,arr2,arr3):\n",
    "    s1 = set(arr1)\n",
    "    s2 = set(arr2)\n",
    "    s3 = set(arr3)\n",
    "    \n",
    "    set1 = s1.intersection(s2)\n",
    "    print(set1)\n",
    "    result = set1.intersection(s3)\n",
    "    result = list(result)\n",
    "    return result\n",
    "arr1 = [1, 5, 10, 20, 40, 80, 100]\n",
    "arr2 = [6, 7, 20, 80, 100]\n",
    "arr3 = [3, 4, 15, 20, 30, 70, 80, 120]\n",
    "intersectsOfSets(arr1,arr2,arr3)"
   ]
  },
  {
   "cell_type": "code",
   "execution_count": 59,
   "id": "4ca23efd",
   "metadata": {},
   "outputs": [
    {
     "data": {
      "text/plain": [
       "{20, 80}"
      ]
     },
     "execution_count": 59,
     "metadata": {},
     "output_type": "execute_result"
    }
   ],
   "source": [
    "def find_common(arr1,arr2,arr3):\n",
    "    common = set()\n",
    "    for ele in arr1:\n",
    "        if ele in arr2 and ele in arr3:\n",
    "            common.add(ele)\n",
    "    return common\n",
    "        \n",
    "arr1 = [1, 5, 10, 20, 40, 80, 100]\n",
    "arr2 = [6, 7, 20, 80, 100]\n",
    "arr3 = [3, 4, 15, 20, 30, 70, 80, 120]\n",
    "find_common(arr1,arr2,arr3)"
   ]
  },
  {
   "cell_type": "code",
   "execution_count": 62,
   "id": "11deb383",
   "metadata": {},
   "outputs": [
    {
     "data": {
      "text/plain": [
       "{20, 80}"
      ]
     },
     "execution_count": 62,
     "metadata": {},
     "output_type": "execute_result"
    }
   ],
   "source": [
    "def find_common(arr1,arr2,arr3):\n",
    "    s1 = set(arr1)\n",
    "    s2 = set(arr2)\n",
    "    s3 = set(arr3)\n",
    "    return set([ele for ele in s1 if ele in s2 and ele in s3])\n",
    "\n",
    "arr1 = [1, 5, 10, 20, 40, 80, 100]\n",
    "arr2 = [6, 7, 20, 80, 100]\n",
    "arr3 = [3, 4, 15, 20, 30, 70, 80, 120]\n",
    "find_common(arr1,arr2,arr3)"
   ]
  },
  {
   "cell_type": "code",
   "execution_count": 67,
   "id": "158a2d21",
   "metadata": {},
   "outputs": [
    {
     "data": {
      "text/plain": [
       "{20, 80}"
      ]
     },
     "execution_count": 67,
     "metadata": {},
     "output_type": "execute_result"
    }
   ],
   "source": [
    "def find_common(arr1,arr2,arr3):\n",
    "    common = set(list(filter(lambda x:(x in arr2 and x in arr3),arr1)))\n",
    "    return common\n",
    "\n",
    "arr1 = [1, 5, 10, 20, 40, 80, 100]\n",
    "arr2 = [6, 7, 20, 80, 100]\n",
    "arr3 = [3, 4, 15, 20, 30, 70, 80, 120]\n",
    "find_common(arr1,arr2,arr3)"
   ]
  },
  {
   "cell_type": "markdown",
   "id": "27ab3a80",
   "metadata": {},
   "source": [
    "### Python | Find missing and additional values in two lists"
   ]
  },
  {
   "cell_type": "code",
   "execution_count": 69,
   "id": "68a3e710",
   "metadata": {},
   "outputs": [
    {
     "name": "stdout",
     "output_type": "stream",
     "text": [
      "Missing value in second list: {1, 2, 3}\n",
      "Additional value in second list: {8, 7}\n",
      "\r\n",
      "Missing value in first list: {8, 7}\n",
      "Additional value in first list: {1, 2, 3}\n"
     ]
    }
   ],
   "source": [
    "list1 = [1, 2, 3, 4, 5, 6]\n",
    "list2 = [4, 5, 6, 7, 8]\n",
    "s1 = set(list1)\n",
    "s2 = set(list2)\n",
    "print(\"Missing value in second list:\",(s1.difference(s2)))\n",
    "print(\"Additional value in second list:\",(s2.difference(s1)))\n",
    "print(\"\\r\")\n",
    "print(\"Missing value in first list:\",(s2.difference(s1)))\n",
    "print(\"Additional value in first list:\",(s1.difference(s2)))"
   ]
  },
  {
   "cell_type": "markdown",
   "id": "c876d4c3",
   "metadata": {},
   "source": [
    "### Difference between two lists"
   ]
  },
  {
   "cell_type": "code",
   "execution_count": 70,
   "id": "57af4e70",
   "metadata": {},
   "outputs": [
    {
     "name": "stdout",
     "output_type": "stream",
     "text": [
      "[10, 15, 20, 30]\n"
     ]
    }
   ],
   "source": [
    "list1 = [10, 15, 20, 25, 30, 35, 40]\n",
    "list2 = [25, 40, 35]\n",
    "result = []\n",
    "for ele in list1:\n",
    "    if ele not in list2:\n",
    "        result.append(ele)\n",
    "print(result)"
   ]
  },
  {
   "cell_type": "code",
   "execution_count": 71,
   "id": "344ae329",
   "metadata": {},
   "outputs": [
    {
     "name": "stdout",
     "output_type": "stream",
     "text": [
      "[10, 15, 20, 30]\n"
     ]
    }
   ],
   "source": [
    "list1 = [10, 15, 20, 25, 30, 35, 40]\n",
    "list2 = [25, 40, 35]\n",
    "result = [ele for ele in list1 if ele not in list2]\n",
    "print(result)"
   ]
  },
  {
   "cell_type": "code",
   "execution_count": 72,
   "id": "89ce87fa",
   "metadata": {},
   "outputs": [
    {
     "name": "stdout",
     "output_type": "stream",
     "text": [
      "[10, 15, 20, 30]\n"
     ]
    }
   ],
   "source": [
    "import numpy as np\n",
    "list1 = [10, 15, 20, 25, 30, 35, 40]\n",
    "list2 = [25, 40, 35]\n",
    "arr1 = np.array(list1)\n",
    "arr2 = np.array(list2)\n",
    "diff1 = np.setdiff1d(arr1,arr2)\n",
    "diff2 = np.setdiff1d(arr2,arr1)\n",
    "result = np.concatenate((diff1,diff2))\n",
    "print(list(result))"
   ]
  },
  {
   "cell_type": "code",
   "execution_count": 74,
   "id": "94463eda",
   "metadata": {},
   "outputs": [
    {
     "name": "stdout",
     "output_type": "stream",
     "text": [
      "False\n"
     ]
    }
   ],
   "source": [
    "list1 = [10, 15, 20, 25, 30, 35, 40]\n",
    "list2 = [25, 40, 35]\n",
    "result = [a == b for a,b in zip(list1,list2)]\n",
    "print(all(result))"
   ]
  },
  {
   "cell_type": "code",
   "execution_count": 75,
   "id": "0f0761d2",
   "metadata": {},
   "outputs": [
    {
     "name": "stdout",
     "output_type": "stream",
     "text": [
      "False\n"
     ]
    }
   ],
   "source": [
    "from collections import Counter\n",
    "list1 = [10, 15, 20, 25, 30, 35, 40]\n",
    "list2 = [25, 40, 35]\n",
    "counter1 = Counter(list1)\n",
    "counter2 = Counter(list2)\n",
    "result = counter1 == counter2\n",
    "print(result)"
   ]
  },
  {
   "cell_type": "markdown",
   "id": "3a243bb3",
   "metadata": {},
   "source": [
    "### Python Set difference to find lost element from a duplicated array"
   ]
  },
  {
   "cell_type": "code",
   "execution_count": 76,
   "id": "5e1da75e",
   "metadata": {},
   "outputs": [
    {
     "name": "stdout",
     "output_type": "stream",
     "text": [
      "[1]\n"
     ]
    }
   ],
   "source": [
    "def lostelement(A,B):\n",
    "    A = set(A)\n",
    "    B = set(B)\n",
    "    if len(A) > len(B):\n",
    "        print(list(A - B))\n",
    "    else:\n",
    "        print(list(B - A))\n",
    "        \n",
    "A = [1, 4, 5, 7, 9]\n",
    "B = [4, 5, 7, 9]\n",
    "lostelement(A,B)"
   ]
  },
  {
   "cell_type": "markdown",
   "id": "80e3d06a",
   "metadata": {},
   "source": [
    "### Python program to count number of vowels using sets in given string"
   ]
  },
  {
   "cell_type": "code",
   "execution_count": 78,
   "id": "23432af6",
   "metadata": {},
   "outputs": [
    {
     "name": "stdout",
     "output_type": "stream",
     "text": [
      "{'i', 'u', 'A', 'a', 'I', 'e', 'o', 'E', 'O', 'U'}\n",
      "5\n"
     ]
    }
   ],
   "source": [
    "string = \"GeekforGeeks!\"\n",
    "vowels = \"aeiouAEIOU\"\n",
    "s = set(vowels)\n",
    "print(s)\n",
    "result = sum(string.count(vowel) for vowel in vowels)\n",
    "print(result)"
   ]
  },
  {
   "cell_type": "code",
   "execution_count": 79,
   "id": "f73b0ff4",
   "metadata": {},
   "outputs": [
    {
     "name": "stdout",
     "output_type": "stream",
     "text": [
      "No. of vowels: 5\n"
     ]
    }
   ],
   "source": [
    "def count_vowel(string):\n",
    "    count = 0\n",
    "    vowel = set(\"aeiouAEIOU\")\n",
    "    for alpha in string:\n",
    "        if alpha in vowel:\n",
    "            count += 1\n",
    "    print(\"No. of vowels:\",count)\n",
    "    \n",
    "string = \"GeeksforGeeks\"\n",
    "count_vowel(string)"
   ]
  },
  {
   "cell_type": "code",
   "execution_count": 80,
   "id": "4952e7ac",
   "metadata": {},
   "outputs": [
    {
     "name": "stdout",
     "output_type": "stream",
     "text": [
      "No. of vowels: 5\n"
     ]
    }
   ],
   "source": [
    "def count_vowel(string):\n",
    "    vowels = \"aeiouAEIOU\"\n",
    "    count = len([alpha for alpha in string if alpha in vowels])\n",
    "    print(\"No. of vowels:\",count)\n",
    "    \n",
    "    \n",
    "string = \"GeeksforGeeks\"\n",
    "count_vowel(string)"
   ]
  },
  {
   "cell_type": "code",
   "execution_count": 81,
   "id": "967e8f8f",
   "metadata": {},
   "outputs": [
    {
     "name": "stdout",
     "output_type": "stream",
     "text": [
      "5\n"
     ]
    }
   ],
   "source": [
    "import re\n",
    "string = \"GeeksforGeeks\"\n",
    "vowels = r'[aeiouAEIOU]'\n",
    "count = len(re.findall(vowels,string))\n",
    "print(count)"
   ]
  },
  {
   "cell_type": "markdown",
   "id": "f5b0df56",
   "metadata": {},
   "source": [
    "### Concatenated string with uncommon characters in Python"
   ]
  },
  {
   "cell_type": "code",
   "execution_count": 86,
   "id": "d94d1101",
   "metadata": {},
   "outputs": [
    {
     "name": "stdout",
     "output_type": "stream",
     "text": [
      "['a', 'd']\n",
      "cbgf\n"
     ]
    }
   ],
   "source": [
    "str1 = 'aacdb'\n",
    "str2 = 'gafd'\n",
    "set1 = set(str1)\n",
    "set2 = set(str2)\n",
    "common = list(set1 & set2)\n",
    "print(common)\n",
    "result = [ch for ch in str1 if ch not in common] + [ch for ch in str2 if ch not in common]\n",
    "print(\"\".join(result))"
   ]
  },
  {
   "cell_type": "code",
   "execution_count": 88,
   "id": "4454ac7f",
   "metadata": {},
   "outputs": [
    {
     "name": "stdout",
     "output_type": "stream",
     "text": [
      "fcgb\n"
     ]
    }
   ],
   "source": [
    "str1 = 'aacdb'\n",
    "str2 = 'gafd'\n",
    "set1 = set(str1)\n",
    "set2 = set(str2)\n",
    "common = list(set1 ^ set2)\n",
    "print(\"\".join(common))\n"
   ]
  },
  {
   "cell_type": "markdown",
   "id": "6b8774e3",
   "metadata": {},
   "source": [
    "### Python Program to Accept the Strings Which Contains all Vowels"
   ]
  },
  {
   "cell_type": "code",
   "execution_count": 95,
   "id": "542d05f2",
   "metadata": {},
   "outputs": [
    {
     "name": "stdout",
     "output_type": "stream",
     "text": [
      "Not Accepted\n",
      "None\n",
      "\r\n",
      "Accepted\n",
      "None\n"
     ]
    }
   ],
   "source": [
    "def check(string):\n",
    "    string = string.lower()\n",
    "    vowels = set(\"aeiou\")\n",
    "    s = set()\n",
    "    for char in string:\n",
    "        if char in vowels:\n",
    "            s.add(char)\n",
    "        else:\n",
    "            pass\n",
    "        \n",
    "    if len(s) == len(vowels):\n",
    "        print(\"Accepted\")\n",
    "    else:\n",
    "        print(\"Not Accepted\")\n",
    "        \n",
    "string = \"SEEquiaL\"\n",
    "print(check(string))\n",
    "print(\"\\r\")\n",
    "string = \"SEEquoiaL\"\n",
    "print(check(string))"
   ]
  },
  {
   "cell_type": "code",
   "execution_count": 101,
   "id": "3db926f0",
   "metadata": {},
   "outputs": [
    {
     "name": "stdout",
     "output_type": "stream",
     "text": [
      "Accepted\n"
     ]
    }
   ],
   "source": [
    "def check(string):\n",
    "    string = string.strip()\n",
    "    string = string.lower()\n",
    "    vowels = \"aeiou\"\n",
    "    result = [string.count(vowel) for vowel in vowels]\n",
    "    if result.count(0) > 0:\n",
    "        return \"not accepted\"\n",
    "    return \"Accepted\"\n",
    "\n",
    "string = \"SEEquioaL\"\n",
    "print(check(string))"
   ]
  },
  {
   "cell_type": "code",
   "execution_count": 103,
   "id": "2171fea0",
   "metadata": {},
   "outputs": [
    {
     "name": "stdout",
     "output_type": "stream",
     "text": [
      "Not Accepted\n"
     ]
    }
   ],
   "source": [
    "def check(string):\n",
    "    if len(set(string.lower()).intersection(\"aeiou\")) >= 5:\n",
    "        return \"Accepted\"\n",
    "    return \"Not Accepted\"\n",
    "string = \"SEEquiaL\"\n",
    "print(check(string))"
   ]
  },
  {
   "cell_type": "code",
   "execution_count": 105,
   "id": "543e712d",
   "metadata": {},
   "outputs": [
    {
     "name": "stdout",
     "output_type": "stream",
     "text": [
      "Accepted\n"
     ]
    }
   ],
   "source": [
    "def check(string):\n",
    "    vowels = \"aeiou\"\n",
    "    vowels = set(vowels)\n",
    "    if vowels.issubset(set(string.lower())):\n",
    "        return \"Accepted\"\n",
    "    return \"Not Accepted\"\n",
    "string = \"SEEquoiaL\"\n",
    "print(check(string))"
   ]
  },
  {
   "cell_type": "code",
   "execution_count": 106,
   "id": "4ed9a2f6",
   "metadata": {},
   "outputs": [
    {
     "name": "stdout",
     "output_type": "stream",
     "text": [
      "Accepted\n"
     ]
    }
   ],
   "source": [
    "def check(string):\n",
    "    vowels =\"aeiou\"\n",
    "    if all(vowel in string.lower() for vowel in vowels):\n",
    "\n",
    "        return \"Accepted\"\n",
    "    return \"Not Accepted\"\n",
    "string = \"SEEquoiaL\"\n",
    "print(check(string))"
   ]
  },
  {
   "cell_type": "code",
   "execution_count": 107,
   "id": "edf31492",
   "metadata": {},
   "outputs": [
    {
     "name": "stdout",
     "output_type": "stream",
     "text": [
      "Accepted\n"
     ]
    }
   ],
   "source": [
    "def check(string):\n",
    "    vowels = \"aeiou\"\n",
    "    vowels = set(vowels)\n",
    "    if len(vowels.difference(set(string.lower())))==0:\n",
    "        return \"Accepted\"\n",
    "    return \"not Accepted\"\n",
    "string = \"SEEquoiaL\"\n",
    "print(check(string))"
   ]
  },
  {
   "cell_type": "markdown",
   "id": "da4d0760",
   "metadata": {},
   "source": [
    "### Check if a given string is binary string or not"
   ]
  },
  {
   "cell_type": "code",
   "execution_count": 110,
   "id": "fde90155",
   "metadata": {},
   "outputs": [
    {
     "name": "stdout",
     "output_type": "stream",
     "text": [
      "{'0', '1'}\n",
      "{'0', '1'}\n"
     ]
    },
    {
     "data": {
      "text/plain": [
       "'Yes'"
      ]
     },
     "execution_count": 110,
     "metadata": {},
     "output_type": "execute_result"
    }
   ],
   "source": [
    "def check(string):\n",
    "    s = set(string)\n",
    "    print(s)\n",
    "    b = set(\"01\")\n",
    "    print(b)\n",
    "    if s == b :\n",
    "        return \"Yes\"\n",
    "    return \"No\"\n",
    "string = \"101010000111\"\n",
    "check(string)"
   ]
  },
  {
   "cell_type": "code",
   "execution_count": 112,
   "id": "91e5c41f",
   "metadata": {},
   "outputs": [
    {
     "data": {
      "text/plain": [
       "'Yes'"
      ]
     },
     "execution_count": 112,
     "metadata": {},
     "output_type": "execute_result"
    }
   ],
   "source": [
    "def check(string):\n",
    "    b = \"01\"\n",
    "    for char in string:\n",
    "        if char not in b:\n",
    "            return \"No\"\n",
    "    return \"Yes\"\n",
    "\n",
    "string = \"101010000111\"\n",
    "check(string)"
   ]
  },
  {
   "cell_type": "code",
   "execution_count": 113,
   "id": "b4605a7a",
   "metadata": {},
   "outputs": [
    {
     "name": "stdout",
     "output_type": "stream",
     "text": [
      "Yes\n"
     ]
    }
   ],
   "source": [
    "import re\n",
    "string = \"101010000111\"\n",
    "pattern = re.compile(\"[^01]\")\n",
    "if (len(pattern.findall(string))):\n",
    "    print(\"No\")\n",
    "else:\n",
    "    print(\"Yes\")"
   ]
  },
  {
   "cell_type": "code",
   "execution_count": 115,
   "id": "fbee512e",
   "metadata": {},
   "outputs": [
    {
     "name": "stdout",
     "output_type": "stream",
     "text": [
      "Yes\n"
     ]
    }
   ],
   "source": [
    "import re\n",
    "string = \"101010000111\"\n",
    "pattern = r\"[^01]\"\n",
    "if re.findall(pattern,string):\n",
    "    print(\"No\")\n",
    "else:\n",
    "    print(\"Yes\")"
   ]
  },
  {
   "cell_type": "code",
   "execution_count": 116,
   "id": "71052bdf",
   "metadata": {},
   "outputs": [
    {
     "name": "stdout",
     "output_type": "stream",
     "text": [
      "Yes\n",
      "No\n"
     ]
    }
   ],
   "source": [
    "def check(string):\n",
    "    try:\n",
    "        int(string,2)\n",
    "    except ValueError:\n",
    "        return \"No\"\n",
    "    return \"Yes\"\n",
    "string1 = \"101011000111\"\n",
    "string2 = \"201000001\"\n",
    "print(check(string1))\n",
    "print(check(string2))"
   ]
  },
  {
   "cell_type": "markdown",
   "id": "4ba786f4",
   "metadata": {},
   "source": [
    "### Python set to check if string is pangram"
   ]
  },
  {
   "cell_type": "code",
   "execution_count": 117,
   "id": "cdfa0f68",
   "metadata": {},
   "outputs": [
    {
     "name": "stdout",
     "output_type": "stream",
     "text": [
      "The String is pangram\n"
     ]
    }
   ],
   "source": [
    "from string import ascii_lowercase as asc_lower\n",
    "def check(s):\n",
    "    return set(asc_lower) - set(s.lower()) == set([])\n",
    "string =\"The quick brown fox jumps over the lazy dog\"\n",
    "if check(string) == True:\n",
    "    print(\"The String is pangram\")\n",
    "else:\n",
    "    print(\"THe string is not pangram\")"
   ]
  },
  {
   "cell_type": "code",
   "execution_count": 121,
   "id": "a058423c",
   "metadata": {},
   "outputs": [
    {
     "name": "stdout",
     "output_type": "stream",
     "text": [
      " abcdefghijklmnopqrstuvwxyz\n",
      "The string is not pangram\n"
     ]
    }
   ],
   "source": [
    "string =\"The quick brown fox jumps over the lazy dog\"\n",
    "string = string.strip()\n",
    "string = string.lower()\n",
    "x = list(set(string))\n",
    "x.sort()\n",
    "print(\"\".join(x))\n",
    "alpha = \"abcdefghijklmnopqrstuvwxyz\"\n",
    "if x == alpha :\n",
    "    print(\"The string is pangram\")\n",
    "else:\n",
    "    print(\"The string is not pangram\")"
   ]
  },
  {
   "cell_type": "markdown",
   "id": "44d7dccd",
   "metadata": {},
   "source": [
    "### Pairs of complete strings in two sets"
   ]
  },
  {
   "cell_type": "code",
   "execution_count": 123,
   "id": "b6e8fe5f",
   "metadata": {},
   "outputs": [
    {
     "name": "stdout",
     "output_type": "stream",
     "text": [
      "7\n"
     ]
    }
   ],
   "source": [
    "def completepair(set1,set2):\n",
    "    count = 0\n",
    "    for str1 in set1:\n",
    "        for str2 in set2:\n",
    "            result = str1 + str2\n",
    "            tempset = set([char for char in result if (ord(char) >= ord(\"a\") and ord(char) <= ord(\"z\"))])\n",
    "            if len(tempset) == 26:\n",
    "                count += 1\n",
    "    print(count)\n",
    "set1 = ['abcdefgh', 'geeksforgeeks','lmnopqrst', 'abc'] \n",
    "set2 = ['ijklmnopqrstuvwxyz', 'abcdefghijklmnopqrstuvwxyz','defghijklmnopqrstuvwxyz'] \n",
    "completepair(set1,set2)"
   ]
  },
  {
   "cell_type": "markdown",
   "id": "fa528276",
   "metadata": {},
   "source": [
    "### Check whether a given string is Heterogram or not"
   ]
  },
  {
   "cell_type": "code",
   "execution_count": 125,
   "id": "cd7988fb",
   "metadata": {},
   "outputs": [
    {
     "name": "stdout",
     "output_type": "stream",
     "text": [
      "yes\n"
     ]
    }
   ],
   "source": [
    "def heterogram(string):\n",
    "    alpha = [char for char in string if ord(char) >= ord(\"a\") and ord(char) <= ord(\"z\")]\n",
    "    if len(set(alpha)) == len(alpha):\n",
    "        print(\"yes\")\n",
    "    else:\n",
    "        print(\"no\")\n",
    "        \n",
    "string = 'the big dwarf only jumps'\n",
    "heterogram(string)"
   ]
  },
  {
   "cell_type": "code",
   "execution_count": 129,
   "id": "e96dba96",
   "metadata": {},
   "outputs": [
    {
     "name": "stdout",
     "output_type": "stream",
     "text": [
      "{32, 97, 98, 100, 101, 102, 103, 104, 105, 106, 108, 109, 110, 111, 112, 114, 115, 116, 117, 119, 121}\n"
     ]
    }
   ],
   "source": [
    "string = 'the big dwarf only jumps'\n",
    "r = set()\n",
    "\n",
    "for char in string:\n",
    "    r.add(ord(char))\n",
    "\n",
    "print(r)\n"
   ]
  },
  {
   "cell_type": "markdown",
   "id": "e1cd5f96",
   "metadata": {},
   "source": [
    "### Conversion of Set Programs \n",
    "### Python program to convert Set into Tuple and Tuple into Set"
   ]
  },
  {
   "cell_type": "code",
   "execution_count": 6,
   "id": "ff238dde",
   "metadata": {},
   "outputs": [
    {
     "name": "stdout",
     "output_type": "stream",
     "text": [
      "<class 'set'>   {'d', 'a', 'c', 'e', 'b'}\n",
      "<class 'tuple'>   ('d', 'a', 'c', 'e', 'b')\n"
     ]
    }
   ],
   "source": [
    "s = {'a', 'b', 'c', 'd', 'e'}\n",
    "print(type(s),\" \",s)\n",
    "t = tuple(s)\n",
    "print(type(t),\" \",t)"
   ]
  },
  {
   "cell_type": "code",
   "execution_count": 7,
   "id": "a838feaa",
   "metadata": {},
   "outputs": [
    {
     "name": "stdout",
     "output_type": "stream",
     "text": [
      "('d', 'a', 'c', 'e', 'b')\n"
     ]
    }
   ],
   "source": [
    "s = {'a', 'b', 'c', 'd', 'e'}\n",
    "t = [i for i in s]\n",
    "print(tuple(t))"
   ]
  },
  {
   "cell_type": "code",
   "execution_count": 8,
   "id": "6091493b",
   "metadata": {},
   "outputs": [
    {
     "name": "stdout",
     "output_type": "stream",
     "text": [
      "['d', 'a', 'c', 'e', 'b']\n",
      "('d', 'a', 'c', 'e', 'b')\n"
     ]
    }
   ],
   "source": [
    "s = {'a', 'b', 'c', 'd', 'e'}\n",
    "x = [v for i,v in enumerate(s)]\n",
    "print(x)\n",
    "print(tuple(x))"
   ]
  },
  {
   "cell_type": "code",
   "execution_count": 11,
   "id": "69286161",
   "metadata": {},
   "outputs": [
    {
     "name": "stdout",
     "output_type": "stream",
     "text": [
      "('d', 'a', 'c', 'e', 'b')\n"
     ]
    }
   ],
   "source": [
    "s = {'a', 'b', 'c', 'd', 'e'}\n",
    "test_tuple = (*s,)\n",
    "print(test_tuple)"
   ]
  },
  {
   "cell_type": "code",
   "execution_count": 12,
   "id": "b10438dd",
   "metadata": {},
   "outputs": [
    {
     "name": "stdout",
     "output_type": "stream",
     "text": [
      "('d', 'a', 'c', 'e', 'b')\n"
     ]
    }
   ],
   "source": [
    "from itertools import chain\n",
    "s = {'a', 'b', 'c', 'd', 'e'}\n",
    "t = tuple(chain(s))\n",
    "print(t)"
   ]
  },
  {
   "cell_type": "markdown",
   "id": "5e28f8cc",
   "metadata": {},
   "source": [
    "### Convert set into a list"
   ]
  },
  {
   "cell_type": "code",
   "execution_count": 13,
   "id": "bdcfa05b",
   "metadata": {},
   "outputs": [
    {
     "name": "stdout",
     "output_type": "stream",
     "text": [
      "<class 'set'>\n",
      "<class 'list'>   ['geeks', 'for', 'Geeks']\n"
     ]
    }
   ],
   "source": [
    "my_set = {'Geeks', 'for', 'geeks'}\n",
    "print(type(my_set))\n",
    "lst = [val for val in my_set]\n",
    "print(type(lst),\" \",lst)"
   ]
  },
  {
   "cell_type": "code",
   "execution_count": 15,
   "id": "a0618714",
   "metadata": {},
   "outputs": [
    {
     "name": "stdout",
     "output_type": "stream",
     "text": [
      "<class 'set'>\n",
      "<class 'list'>\n"
     ]
    }
   ],
   "source": [
    "my_set = {'Geeks', 'for', 'geeks'}\n",
    "print(type(my_set))\n",
    "print(type(list(my_set)))"
   ]
  },
  {
   "cell_type": "code",
   "execution_count": 16,
   "id": "30215e51",
   "metadata": {},
   "outputs": [
    {
     "name": "stdout",
     "output_type": "stream",
     "text": [
      "[1, 2, 3]\n"
     ]
    }
   ],
   "source": [
    "def convert(set):\n",
    "    return sorted(set)\n",
    "my_set = {1, 2, 3}\n",
    "#s = convert(my_set)\n",
    "print(convert(my_set))"
   ]
  },
  {
   "cell_type": "code",
   "execution_count": 17,
   "id": "c872af8a",
   "metadata": {},
   "outputs": [
    {
     "name": "stdout",
     "output_type": "stream",
     "text": [
      "[1, 2, 3]\n"
     ]
    }
   ],
   "source": [
    "def convert(s):\n",
    "    return list(map(lambda x:x,s))\n",
    "my_set = {1, 2, 3}\n",
    "print(convert(my_set))"
   ]
  },
  {
   "cell_type": "code",
   "execution_count": 18,
   "id": "c3aea8a0",
   "metadata": {},
   "outputs": [
    {
     "name": "stdout",
     "output_type": "stream",
     "text": [
      "[1, 2, 3]\n"
     ]
    }
   ],
   "source": [
    "def convert(s):\n",
    "    return [*s,]\n",
    "my_set = {1, 2, 3}\n",
    "print(convert(my_set))"
   ]
  },
  {
   "cell_type": "code",
   "execution_count": 20,
   "id": "37a474e2",
   "metadata": {},
   "outputs": [
    {
     "name": "stdout",
     "output_type": "stream",
     "text": [
      "set()\n",
      "[6, 7, 8, 9, 10]\n"
     ]
    }
   ],
   "source": [
    "my_set = {6, 7, 8, 9, 10}\n",
    "my_lst = list(my_set.copy())\n",
    "my_set.clear()\n",
    "print(my_set)\n",
    "print(my_lst)"
   ]
  },
  {
   "cell_type": "markdown",
   "id": "66816242",
   "metadata": {},
   "source": [
    "### Convert Set to String in Python"
   ]
  },
  {
   "cell_type": "code",
   "execution_count": 26,
   "id": "18df7b7e",
   "metadata": {},
   "outputs": [
    {
     "name": "stdout",
     "output_type": "stream",
     "text": [
      "Initially: {'d', 'c', 'b', 'a'}\n",
      "The Datatype of s is: <class 'set'>\n",
      "\r\n",
      "\n",
      "After the conversion\n",
      "The datatype of s :  <class 'str'>\n",
      "Contents of s : {'d', 'c', 'b', 'a'}\n"
     ]
    }
   ],
   "source": [
    "s = {'a', 'b', 'c', 'd'}\n",
    "print(\"Initially:\",s)\n",
    "print(\"The Datatype of s is:\",type(s))\n",
    "print(\"\\r\")\n",
    "s = str(s)\n",
    "print(\"\\nAfter the conversion\")\n",
    "print(\"The datatype of s : \",type(s))\n",
    "print(\"Contents of s : \" + s)"
   ]
  },
  {
   "cell_type": "code",
   "execution_count": 27,
   "id": "a52777da",
   "metadata": {},
   "outputs": [
    {
     "name": "stdout",
     "output_type": "stream",
     "text": [
      "Initially: {'d', 'c', 'b', 'a'}\n",
      "The Datatype of s is: <class 'set'>\n",
      "\r\n",
      "\n",
      "After the conversion\n",
      "The datatype of s :  <class 'str'>\n",
      "Contents of s : d, c, b, a\n"
     ]
    }
   ],
   "source": [
    "s = {'a', 'b', 'c', 'd'}\n",
    "print(\"Initially:\",s)\n",
    "print(\"The Datatype of s is:\",type(s))\n",
    "print(\"\\r\")\n",
    "\n",
    "s = \", \".join(s)\n",
    "print(\"\\nAfter the conversion\")\n",
    "print(\"The datatype of s : \",type(s))\n",
    "print(\"Contents of s : \" + s)"
   ]
  },
  {
   "cell_type": "markdown",
   "id": "5895cc85",
   "metadata": {},
   "source": [
    "### Convert String to Set in Python"
   ]
  },
  {
   "cell_type": "code",
   "execution_count": 29,
   "id": "10f34ccf",
   "metadata": {},
   "outputs": [
    {
     "name": "stdout",
     "output_type": "stream",
     "text": [
      "Initially\n",
      "The Datatype of string: <class 'str'>\n",
      "Content of string: geeks\n",
      "\r\n",
      "After The cpnversion\n",
      "The Datatype of the string: <class 'set'>\n",
      "Content of string: {'s', 'k', 'e', 'g'}\n"
     ]
    }
   ],
   "source": [
    "string = \"geeks\"\n",
    "print(\"Initially\")\n",
    "print(\"The Datatype of string:\",type(string))\n",
    "print(\"Content of string:\",string)\n",
    "print(\"\\r\")\n",
    "s = set(string)\n",
    "print(\"After The cpnversion\")\n",
    "print(\"The Datatype of the string:\",type(s))\n",
    "print(\"Content of string:\",s)"
   ]
  },
  {
   "cell_type": "code",
   "execution_count": 30,
   "id": "c9525559",
   "metadata": {},
   "outputs": [
    {
     "name": "stdout",
     "output_type": "stream",
     "text": [
      "Initially\n",
      "The Datatype of string: <class 'str'>\n",
      "Content of string: geeks\n",
      "\r\n",
      "After The cpnversion\n",
      "The Datatype of the string: <class 'set'>\n",
      "Content of string: {'s', 'k', 'e', 'g'}\n"
     ]
    }
   ],
   "source": [
    "string = \"geeks\"\n",
    "print(\"Initially\")\n",
    "print(\"The Datatype of string:\",type(string))\n",
    "print(\"Content of string:\",string)\n",
    "print(\"\\r\")\n",
    "s = {*string}\n",
    "print(\"After The cpnversion\")\n",
    "print(\"The Datatype of the string:\",type(s))\n",
    "print(\"Content of string:\",s)"
   ]
  },
  {
   "cell_type": "markdown",
   "id": "d22137b8",
   "metadata": {},
   "source": [
    "### Convert a set into dictionary"
   ]
  },
  {
   "cell_type": "code",
   "execution_count": 31,
   "id": "ea345c5b",
   "metadata": {},
   "outputs": [
    {
     "name": "stdout",
     "output_type": "stream",
     "text": [
      "Initial String: {1, 2, 3, 4, 5}\n",
      "<class 'set'>\n",
      "Final list: {1: 0, 2: 0, 3: 0, 4: 0, 5: 0}\n",
      "<class 'dict'>\n"
     ]
    }
   ],
   "source": [
    "ini_set = {1, 2, 3, 4, 5}\n",
    "print(\"Initial String:\",ini_set)\n",
    "print(type(ini_set))\n",
    "\n",
    "d = dict.fromkeys(ini_set,0)\n",
    "print(\"Final list:\",d)\n",
    "print(type(d))"
   ]
  },
  {
   "cell_type": "code",
   "execution_count": 33,
   "id": "3b9e6c13",
   "metadata": {},
   "outputs": [
    {
     "name": "stdout",
     "output_type": "stream",
     "text": [
      "Initial String: {1, 2, 3, 4, 5}\n",
      "<class 'set'>\n",
      "Final list: {1: 'Geekfg', 2: 'Geekfg', 3: 'Geekfg', 4: 'Geekfg', 5: 'Geekfg'}\n",
      "<class 'dict'>\n"
     ]
    }
   ],
   "source": [
    "ini_set = {1, 2, 3, 4, 5}\n",
    "print(\"Initial String:\",ini_set)\n",
    "print(type(ini_set))\n",
    "str = \"fg\"\n",
    "d = {element:\"Geek\"+str for element in ini_set}\n",
    "print(\"Final list:\",d)\n",
    "print(type(d))"
   ]
  },
  {
   "cell_type": "code",
   "execution_count": 34,
   "id": "7f33efbc",
   "metadata": {},
   "outputs": [
    {
     "name": "stdout",
     "output_type": "stream",
     "text": [
      "{1: None, 2: None, 3: None}\n"
     ]
    }
   ],
   "source": [
    "def set_to_dict(s):\n",
    "    keys = list(s)\n",
    "    values = [None] *len(s)\n",
    "    return {k:v for k,v in zip(keys,values)}\n",
    "s = {1,2,3}\n",
    "print(set_to_dict(s))"
   ]
  },
  {
   "cell_type": "markdown",
   "id": "a0fca2e8",
   "metadata": {},
   "source": [
    "### Advance Set Programs"
   ]
  },
  {
   "cell_type": "markdown",
   "id": "45192798",
   "metadata": {},
   "source": [
    "### Set update() in Python to do union of n arrays"
   ]
  },
  {
   "cell_type": "code",
   "execution_count": 35,
   "id": "126fac1e",
   "metadata": {},
   "outputs": [
    {
     "name": "stdout",
     "output_type": "stream",
     "text": [
      "[1, 2, 3, 4, 5, 6, 7, 9]\n"
     ]
    }
   ],
   "source": [
    "def combineAll(input):\n",
    "    result = set(input[0])\n",
    "    for array in input[1:]:\n",
    "        result.update(array)\n",
    "    return list(result)\n",
    "input = [[1, 2, 2, 4, 3, 6],\n",
    "            [5, 1, 3, 4],\n",
    "            [9, 5, 7, 1],\n",
    "            [2, 4, 1, 3]]\n",
    "print(combineAll(input))"
   ]
  },
  {
   "cell_type": "markdown",
   "id": "55ab3812",
   "metadata": {},
   "source": [
    "### Intersection of two lists"
   ]
  },
  {
   "cell_type": "code",
   "execution_count": 36,
   "id": "9847ac39",
   "metadata": {},
   "outputs": [
    {
     "name": "stdout",
     "output_type": "stream",
     "text": [
      "[9, 11, 26, 28]\n"
     ]
    }
   ],
   "source": [
    "def intersection(lst1,lst2):\n",
    "    lst3 = [val for val in lst1 if val in lst2]\n",
    "    return lst3\n",
    "lst1 = [4, 9, 1, 17, 11, 26, 28, 54, 69]\n",
    "lst2 = [9, 9, 74, 21, 45, 11, 63, 28, 26]\n",
    "print(intersection(lst1,lst2))"
   ]
  },
  {
   "cell_type": "code",
   "execution_count": 38,
   "id": "59e331c8",
   "metadata": {},
   "outputs": [
    {
     "name": "stdout",
     "output_type": "stream",
     "text": [
      "[9, 10, 4, 5]\n"
     ]
    }
   ],
   "source": [
    "def intersection(lst1, lst2):\n",
    "    return list(set(lst1) & set(lst2))\n",
    " \n",
    "# Driver Code\n",
    "lst1 = [15, 9, 10, 56, 23, 78, 5, 4, 9]\n",
    "lst2 = [9, 4, 5, 36, 47, 26, 10, 45, 87]\n",
    "print(intersection(lst1, lst2))"
   ]
  },
  {
   "cell_type": "code",
   "execution_count": 42,
   "id": "e4fa9e4e",
   "metadata": {},
   "outputs": [
    {
     "name": "stdout",
     "output_type": "stream",
     "text": [
      "{9, 10, 4, 5}\n"
     ]
    }
   ],
   "source": [
    "def intersection(lst1, lst2):\n",
    "    return set(lst1).intersection(lst2)\n",
    " \n",
    "# Driver Code\n",
    "lst1 = [15, 9, 10, 56, 23, 78, 5, 4, 9]\n",
    "lst2 = [9, 4, 5, 36, 47, 26, 10, 45, 87]\n",
    "print(intersection(lst1, lst2))"
   ]
  },
  {
   "cell_type": "markdown",
   "id": "20e45a03",
   "metadata": {},
   "source": [
    "### Python program to get all subsets of given size of a set"
   ]
  },
  {
   "cell_type": "code",
   "execution_count": 44,
   "id": "21234709",
   "metadata": {},
   "outputs": [
    {
     "name": "stdout",
     "output_type": "stream",
     "text": [
      "[(1, 2), (1, 3), (2, 3)]\n"
     ]
    }
   ],
   "source": [
    "from itertools import combinations\n",
    "def findsubset(s,n):\n",
    "    return list(combinations(s,n))\n",
    "s = {1, 2, 3}\n",
    "n = 2\n",
    "print(findsubset(s,n))"
   ]
  },
  {
   "cell_type": "code",
   "execution_count": 45,
   "id": "5e0810df",
   "metadata": {},
   "outputs": [
    {
     "name": "stdout",
     "output_type": "stream",
     "text": [
      "[{1, 2}, {1, 3}, {2, 3}]\n"
     ]
    }
   ],
   "source": [
    "def findsubset(s,n):\n",
    "    return list(map(set,combinations(s,n)))\n",
    "s = {1, 2, 3}\n",
    "n = 2\n",
    "print(findsubset(s,n))"
   ]
  },
  {
   "cell_type": "markdown",
   "id": "ad0a68b5",
   "metadata": {},
   "source": [
    "### Minimum number of subsets with distinct elements using Counter"
   ]
  },
  {
   "cell_type": "code",
   "execution_count": 47,
   "id": "aed59f8a",
   "metadata": {},
   "outputs": [
    {
     "name": "stdout",
     "output_type": "stream",
     "text": [
      "2\n"
     ]
    }
   ],
   "source": [
    "from collections import Counter\n",
    "def minsubsets(input):\n",
    "    freqDict = Counter(input)\n",
    "    return (max(freqDict.values()))\n",
    "input = [1, 2, 3, 3]\n",
    "print(minsubsets(input))"
   ]
  },
  {
   "cell_type": "markdown",
   "id": "6cda720a",
   "metadata": {},
   "source": [
    "### Python dictionary, set and counter to check if frequencies can become same"
   ]
  },
  {
   "cell_type": "code",
   "execution_count": 49,
   "id": "005b4f2a",
   "metadata": {},
   "outputs": [
    {
     "name": "stdout",
     "output_type": "stream",
     "text": [
      "Counter({'x': 3, 'y': 2, 'z': 2, 't': 1})\n",
      "No\n"
     ]
    }
   ],
   "source": [
    "from collections import Counter\n",
    "def allsame(input):\n",
    "    dct = Counter(input)\n",
    "    print(dct)\n",
    "    same = list(set(dct.values()))\n",
    "    if len(same) > 2:\n",
    "        print(\"No\")\n",
    "    elif len(same) == 2 and same[1] - same[0] >1:\n",
    "        print(\"No\")\n",
    "    else:\n",
    "        print(\"Yes\")\n",
    "input = 'xxxyyzzt'\n",
    "allsame(input) "
   ]
  },
  {
   "cell_type": "code",
   "execution_count": null,
   "id": "66f48c99",
   "metadata": {},
   "outputs": [],
   "source": []
  }
 ],
 "metadata": {
  "kernelspec": {
   "display_name": "Python 3 (ipykernel)",
   "language": "python",
   "name": "python3"
  },
  "language_info": {
   "codemirror_mode": {
    "name": "ipython",
    "version": 3
   },
   "file_extension": ".py",
   "mimetype": "text/x-python",
   "name": "python",
   "nbconvert_exporter": "python",
   "pygments_lexer": "ipython3",
   "version": "3.11.5"
  }
 },
 "nbformat": 4,
 "nbformat_minor": 5
}
