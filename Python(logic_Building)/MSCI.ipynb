{
 "cells": [
  {
   "cell_type": "markdown",
   "id": "66ef1976",
   "metadata": {},
   "source": [
    "### Round 1: Aptitude\n",
    "#### Graph-based question: Shortest path using Dijkstra's algorithm in Python."
   ]
  },
  {
   "cell_type": "code",
   "execution_count": 3,
   "id": "bcaa3ffb",
   "metadata": {},
   "outputs": [],
   "source": [
    "import heapq\n",
    "def dijkstra(graph,start):\n",
    "    distances = {node:float(\"inf\") for node in graph}\n",
    "    distances[start] = 0\n",
    "    queue = [(0,start)]\n",
    "    while queue:\n",
    "        current_distance,current_node = heapq.heappop(queue)\n",
    "        if current_distance > distances[current_node]:\n",
    "            continue\n",
    "        for neighbor, weight in graph[current_node].items():\n",
    "            distance = current_distance + weight\n",
    "            if distance < distances[neighbor]:\n",
    "                distances[neighbor] = distance\n",
    "                heapq.heappush(queue, (distance, neighbor))\n",
    "    \n",
    "    return distances"
   ]
  },
  {
   "cell_type": "code",
   "execution_count": 4,
   "id": "659b89f5",
   "metadata": {},
   "outputs": [
    {
     "name": "stdout",
     "output_type": "stream",
     "text": [
      "{'A': 0, 'B': 3, 'C': 1, 'D': 3}\n"
     ]
    }
   ],
   "source": [
    "graph = {\n",
    "    'A': {'B': 3, 'C': 1},\n",
    "    'B': {'A': 3, 'C': 7, 'D': 5},\n",
    "    'C': {'A': 1, 'B': 7, 'D': 2},\n",
    "    'D': {'B': 5, 'C': 2}\n",
    "}\n",
    "start_node = \"A\"\n",
    "shortest_distances = dijkstra(graph,start_node)\n",
    "print(shortest_distances)"
   ]
  },
  {
   "cell_type": "markdown",
   "id": "e5e07a8b",
   "metadata": {},
   "source": [
    "### Programming-based question: Binary search algorithm in Python."
   ]
  },
  {
   "cell_type": "code",
   "execution_count": 5,
   "id": "2bd18082",
   "metadata": {},
   "outputs": [
    {
     "name": "stdout",
     "output_type": "stream",
     "text": [
      "Index of 7 : 6\n"
     ]
    }
   ],
   "source": [
    "def binary_search(arr,target):\n",
    "    low = 0\n",
    "    high = len(arr) - 1\n",
    "    while low <= high:\n",
    "        mid = (low + high) // 2\n",
    "        if arr[mid] == target:\n",
    "            return mid\n",
    "        elif arr[mid] < target:\n",
    "            low = mid + 1\n",
    "        else:\n",
    "            high = mid - 1\n",
    "    return -1\n",
    "arr = [1, 2, 3, 4, 5, 6, 7, 8, 9, 10]\n",
    "target = 7\n",
    "print(\"Index of\", target, \":\", binary_search(arr, target))"
   ]
  },
  {
   "cell_type": "code",
   "execution_count": 8,
   "id": "6354a81d",
   "metadata": {},
   "outputs": [
    {
     "name": "stdout",
     "output_type": "stream",
     "text": [
      "Index of target 7: 6\n"
     ]
    }
   ],
   "source": [
    "arr = [1, 2, 3, 4, 5, 6, 7, 8, 9, 10]\n",
    "target = 7\n",
    "id = arr.index(7)\n",
    "print(f\"Index of target {target}: {id}\")"
   ]
  },
  {
   "cell_type": "markdown",
   "id": "504a2523",
   "metadata": {},
   "source": [
    "### Logical question: Check if A > C given A > B and B > C."
   ]
  },
  {
   "cell_type": "code",
   "execution_count": 10,
   "id": "e925b03d",
   "metadata": {},
   "outputs": [
    {
     "name": "stdout",
     "output_type": "stream",
     "text": [
      "Is A greater then C?: True\n"
     ]
    }
   ],
   "source": [
    "A = 5\n",
    "B = 3\n",
    "C = 1\n",
    "is_A_greater_then_C = A > C\n",
    "print(\"Is A greater then C?:\",is_A_greater_then_C)"
   ]
  },
  {
   "cell_type": "code",
   "execution_count": 11,
   "id": "a3e258d8",
   "metadata": {},
   "outputs": [
    {
     "name": "stdout",
     "output_type": "stream",
     "text": [
      "Time to travel 120 miles at 60 mph: 2.0 hours\n"
     ]
    }
   ],
   "source": [
    "distance = 120  # miles\n",
    "speed = 60      # miles per hour\n",
    "time = distance/speed\n",
    "print(\"Time to travel 120 miles at 60 mph:\", time, \"hours\")"
   ]
  },
  {
   "cell_type": "markdown",
   "id": "1c03af7e",
   "metadata": {},
   "source": [
    "### Round 2: Live Coding Round\n",
    "#### Python programming: Reverse a string."
   ]
  },
  {
   "cell_type": "code",
   "execution_count": 12,
   "id": "be427e8d",
   "metadata": {},
   "outputs": [
    {
     "name": "stdout",
     "output_type": "stream",
     "text": [
      "Original String: hellow\n",
      "Reverse String: wolleh\n"
     ]
    }
   ],
   "source": [
    "def reverse_string(string):\n",
    "    return string[::-1]\n",
    "original_string = \"hellow\"\n",
    "reverse_string = reverse_string(original_string)\n",
    "print(\"Original String:\",original_string)\n",
    "print(\"Reverse String:\",reverse_string)"
   ]
  },
  {
   "cell_type": "markdown",
   "id": "5a300464",
   "metadata": {},
   "source": [
    "### Python programming: Check if a number is prime."
   ]
  },
  {
   "cell_type": "code",
   "execution_count": 13,
   "id": "e5b9d570",
   "metadata": {},
   "outputs": [
    {
     "name": "stdout",
     "output_type": "stream",
     "text": [
      "17 is Prime\n"
     ]
    }
   ],
   "source": [
    "def is_prime(num):\n",
    "    if num <= 1:\n",
    "        return False\n",
    "    for i in range(2,int(num**0.5)+1):\n",
    "        if num%i==0:\n",
    "            return False\n",
    "    return True\n",
    "number = 17\n",
    "if is_prime(number):\n",
    "    print(number,\"is Prime\")\n",
    "else:\n",
    "    print(number,\"is not Prime\")"
   ]
  },
  {
   "cell_type": "code",
   "execution_count": 15,
   "id": "897fe820",
   "metadata": {},
   "outputs": [
    {
     "data": {
      "text/plain": [
       "5"
      ]
     },
     "execution_count": 15,
     "metadata": {},
     "output_type": "execute_result"
    }
   ],
   "source": [
    "int(17**0.5+1)"
   ]
  },
  {
   "cell_type": "code",
   "execution_count": 17,
   "id": "1ba2285f",
   "metadata": {},
   "outputs": [
    {
     "data": {
      "text/plain": [
       "False"
      ]
     },
     "execution_count": 17,
     "metadata": {},
     "output_type": "execute_result"
    }
   ],
   "source": [
    "17%5==0"
   ]
  },
  {
   "cell_type": "markdown",
   "id": "64c0b27b",
   "metadata": {},
   "source": [
    "### SQL: Query to find total sales for each product category."
   ]
  },
  {
   "cell_type": "code",
   "execution_count": 18,
   "id": "551e591a",
   "metadata": {},
   "outputs": [
    {
     "data": {
      "text/plain": [
       "'\\nSELECT PRODUCT_CATEGORY,SUM(SALES_AMOUNT) AS TOTAL_SALES\\nFROM SALES_TABLE\\nGROUPBY PRODUCT_CATEGORY\\n'"
      ]
     },
     "execution_count": 18,
     "metadata": {},
     "output_type": "execute_result"
    }
   ],
   "source": [
    "\"\"\"\n",
    "SELECT PRODUCT_CATEGORY,SUM(SALES_AMOUNT) AS TOTAL_SALES\n",
    "FROM SALES_TABLE\n",
    "GROUPBY PRODUCT_CATEGORY\n",
    "\"\"\""
   ]
  },
  {
   "cell_type": "markdown",
   "id": "c9a2c846",
   "metadata": {},
   "source": [
    "### Pandas dataframe: Calculate average grade for each subject."
   ]
  },
  {
   "cell_type": "code",
   "execution_count": 19,
   "id": "d662310e",
   "metadata": {},
   "outputs": [
    {
     "data": {
      "text/html": [
       "<div>\n",
       "<style scoped>\n",
       "    .dataframe tbody tr th:only-of-type {\n",
       "        vertical-align: middle;\n",
       "    }\n",
       "\n",
       "    .dataframe tbody tr th {\n",
       "        vertical-align: top;\n",
       "    }\n",
       "\n",
       "    .dataframe thead th {\n",
       "        text-align: right;\n",
       "    }\n",
       "</style>\n",
       "<table border=\"1\" class=\"dataframe\">\n",
       "  <thead>\n",
       "    <tr style=\"text-align: right;\">\n",
       "      <th></th>\n",
       "      <th>Student</th>\n",
       "      <th>Math</th>\n",
       "      <th>Science</th>\n",
       "      <th>History</th>\n",
       "    </tr>\n",
       "  </thead>\n",
       "  <tbody>\n",
       "    <tr>\n",
       "      <th>0</th>\n",
       "      <td>Alice</td>\n",
       "      <td>90</td>\n",
       "      <td>88</td>\n",
       "      <td>78</td>\n",
       "    </tr>\n",
       "    <tr>\n",
       "      <th>1</th>\n",
       "      <td>Bob</td>\n",
       "      <td>85</td>\n",
       "      <td>92</td>\n",
       "      <td>80</td>\n",
       "    </tr>\n",
       "    <tr>\n",
       "      <th>2</th>\n",
       "      <td>Charlie</td>\n",
       "      <td>95</td>\n",
       "      <td>85</td>\n",
       "      <td>85</td>\n",
       "    </tr>\n",
       "  </tbody>\n",
       "</table>\n",
       "</div>"
      ],
      "text/plain": [
       "   Student  Math  Science  History\n",
       "0    Alice    90       88       78\n",
       "1      Bob    85       92       80\n",
       "2  Charlie    95       85       85"
      ]
     },
     "execution_count": 19,
     "metadata": {},
     "output_type": "execute_result"
    }
   ],
   "source": [
    "import pandas as pd\n",
    "data = {\"Student\":[\"Alice\",\"Bob\",\"Charlie\"],\n",
    "       \"Math\":[90,85,95],\n",
    "        \"Science\":[88,92,85],\n",
    "        \"History\":[78,80,85]}\n",
    "df = pd.DataFrame(data)\n",
    "df.head()"
   ]
  },
  {
   "cell_type": "code",
   "execution_count": 22,
   "id": "a84b5c02",
   "metadata": {},
   "outputs": [
    {
     "name": "stdout",
     "output_type": "stream",
     "text": [
      "90\n"
     ]
    }
   ],
   "source": [
    "average = sum(df[\"Math\"])/len(df[\"Math\"])\n",
    "print(int(average))"
   ]
  },
  {
   "cell_type": "code",
   "execution_count": 25,
   "id": "c23b35b4",
   "metadata": {},
   "outputs": [
    {
     "name": "stdout",
     "output_type": "stream",
     "text": [
      "Average grade for each subject: Math       90.000000\n",
      "Science    88.333333\n",
      "History    81.000000\n",
      "dtype: float64\n"
     ]
    }
   ],
   "source": [
    "numeric_df = df.drop(columns=[\"Student\"])\n",
    "average = numeric_df.mean(axis=0)\n",
    "print(\"Average grade for each subject:\",average.head())"
   ]
  },
  {
   "cell_type": "markdown",
   "id": "efd10621",
   "metadata": {},
   "source": [
    "### Round 3: Live Case Study Round\n"
   ]
  },
  {
   "cell_type": "code",
   "execution_count": 26,
   "id": "ea70082b",
   "metadata": {},
   "outputs": [
    {
     "data": {
      "text/html": [
       "<div>\n",
       "<style scoped>\n",
       "    .dataframe tbody tr th:only-of-type {\n",
       "        vertical-align: middle;\n",
       "    }\n",
       "\n",
       "    .dataframe tbody tr th {\n",
       "        vertical-align: top;\n",
       "    }\n",
       "\n",
       "    .dataframe thead th {\n",
       "        text-align: right;\n",
       "    }\n",
       "</style>\n",
       "<table border=\"1\" class=\"dataframe\">\n",
       "  <thead>\n",
       "    <tr style=\"text-align: right;\">\n",
       "      <th></th>\n",
       "      <th>CustomerID</th>\n",
       "      <th>ProductID</th>\n",
       "      <th>Category</th>\n",
       "      <th>Quantity</th>\n",
       "      <th>Price</th>\n",
       "      <th>Timestamp</th>\n",
       "    </tr>\n",
       "  </thead>\n",
       "  <tbody>\n",
       "    <tr>\n",
       "      <th>0</th>\n",
       "      <td>1</td>\n",
       "      <td>101</td>\n",
       "      <td>Electronics</td>\n",
       "      <td>1</td>\n",
       "      <td>500</td>\n",
       "      <td>2024-02-01</td>\n",
       "    </tr>\n",
       "    <tr>\n",
       "      <th>1</th>\n",
       "      <td>2</td>\n",
       "      <td>102</td>\n",
       "      <td>Clothing</td>\n",
       "      <td>2</td>\n",
       "      <td>50</td>\n",
       "      <td>2024-02-01</td>\n",
       "    </tr>\n",
       "    <tr>\n",
       "      <th>2</th>\n",
       "      <td>1</td>\n",
       "      <td>103</td>\n",
       "      <td>Electronics</td>\n",
       "      <td>1</td>\n",
       "      <td>600</td>\n",
       "      <td>2024-02-02</td>\n",
       "    </tr>\n",
       "    <tr>\n",
       "      <th>3</th>\n",
       "      <td>3</td>\n",
       "      <td>104</td>\n",
       "      <td>Books</td>\n",
       "      <td>3</td>\n",
       "      <td>20</td>\n",
       "      <td>2024-02-02</td>\n",
       "    </tr>\n",
       "    <tr>\n",
       "      <th>4</th>\n",
       "      <td>2</td>\n",
       "      <td>101</td>\n",
       "      <td>Electronics</td>\n",
       "      <td>1</td>\n",
       "      <td>400</td>\n",
       "      <td>2024-02-03</td>\n",
       "    </tr>\n",
       "  </tbody>\n",
       "</table>\n",
       "</div>"
      ],
      "text/plain": [
       "   CustomerID  ProductID     Category  Quantity  Price   Timestamp\n",
       "0           1        101  Electronics         1    500  2024-02-01\n",
       "1           2        102     Clothing         2     50  2024-02-01\n",
       "2           1        103  Electronics         1    600  2024-02-02\n",
       "3           3        104        Books         3     20  2024-02-02\n",
       "4           2        101  Electronics         1    400  2024-02-03"
      ]
     },
     "execution_count": 26,
     "metadata": {},
     "output_type": "execute_result"
    }
   ],
   "source": [
    "import pandas as pd\n",
    "data = {\n",
    "    'CustomerID': [1, 2, 1, 3, 2],\n",
    "    'ProductID': [101, 102, 103, 104, 101],\n",
    "    'Category': ['Electronics', 'Clothing', 'Electronics', 'Books', 'Electronics'],\n",
    "    'Quantity': [1, 2, 1, 3, 1],\n",
    "    'Price': [500, 50, 600, 20, 400],\n",
    "    'Timestamp': ['2024-02-01', '2024-02-01', '2024-02-02', '2024-02-02', '2024-02-03']\n",
    "}\n",
    "df = pd.DataFrame(data)\n",
    "df.head()"
   ]
  },
  {
   "cell_type": "markdown",
   "id": "e42cb6df",
   "metadata": {},
   "source": [
    "#### What is the total revenue for the month of February?"
   ]
  },
  {
   "cell_type": "code",
   "execution_count": 28,
   "id": "2425e42f",
   "metadata": {},
   "outputs": [
    {
     "name": "stdout",
     "output_type": "stream",
     "text": [
      "   CustomerID  ProductID     Category  Quantity  Price  Timestamp\n",
      "0           1        101  Electronics         1    500 2024-02-01\n",
      "1           2        102     Clothing         2     50 2024-02-01\n",
      "2           1        103  Electronics         1    600 2024-02-02\n",
      "3           3        104        Books         3     20 2024-02-02\n",
      "4           2        101  Electronics         1    400 2024-02-03\n",
      "Total revenue for February: 1570\n"
     ]
    }
   ],
   "source": [
    "df[\"Timestamp\"] = pd.to_datetime(df[\"Timestamp\"])\n",
    "print(df.head())\n",
    "fabruary_revanue = df[df[\"Timestamp\"].dt.month == 2][\"Price\"].sum()\n",
    "print(\"Total revenue for February:\",fabruary_revanue)"
   ]
  },
  {
   "cell_type": "markdown",
   "id": "c93eac11",
   "metadata": {},
   "source": [
    "#### Which product category has the highest sales volume?"
   ]
  },
  {
   "cell_type": "code",
   "execution_count": 30,
   "id": "b0a3872b",
   "metadata": {},
   "outputs": [
    {
     "name": "stdout",
     "output_type": "stream",
     "text": [
      "Product category with the highest sales volume: Books\n"
     ]
    }
   ],
   "source": [
    "sales_by_category = df.groupby(\"Category\")[\"Quantity\"].sum()\n",
    "sales_by_category\n",
    "highest_sales_category = sales_by_category.idxmax()\n",
    "print(\"Product category with the highest sales volume:\", highest_sales_category)\n"
   ]
  },
  {
   "cell_type": "code",
   "execution_count": 32,
   "id": "101d9083",
   "metadata": {},
   "outputs": [
    {
     "data": {
      "image/png": "[encoded data removed]",
      "text/plain": [
       "<Figure size 640x480 with 1 Axes>"
      ]
     },
     "metadata": {},
     "output_type": "display_data"
    }
   ],
   "source": [
    "import matplotlib.pyplot as plt\n",
    "plt.plot(df['CustomerID'], df['Price'], marker='o')\n",
    "plt.xlabel('Customer ID')\n",
    "plt.ylabel('Price')\n",
    "plt.title('Total Spending Over Time')\n",
    "plt.show()\n"
   ]
  },
  {
   "cell_type": "markdown",
   "id": "842e8a65",
   "metadata": {},
   "source": [
    "#### Total Revenue by Category: Write an SQL query to calculate the total revenue generated by each product category."
   ]
  },
  {
   "cell_type": "code",
   "execution_count": 33,
   "id": "c786028d",
   "metadata": {},
   "outputs": [
    {
     "data": {
      "text/plain": [
       "'\\nSELECT CATEGORY,SUM(PRICE * QUANTITY) AS TOTALREVENUE\\nFROM SALES\\nGROUP BY CATEGORY\\n'"
      ]
     },
     "execution_count": 33,
     "metadata": {},
     "output_type": "execute_result"
    }
   ],
   "source": [
    "\"\"\"\n",
    "SELECT CATEGORY,SUM(PRICE * QUANTITY) AS TOTALREVENUE\n",
    "FROM SALES\n",
    "GROUP BY CATEGORY\n",
    "\"\"\""
   ]
  },
  {
   "cell_type": "markdown",
   "id": "7c9d6637",
   "metadata": {},
   "source": [
    "#### Most Popular Product: Write an SQL query to find the product that has been purchased the most."
   ]
  },
  {
   "cell_type": "code",
   "execution_count": 34,
   "id": "53d8053f",
   "metadata": {},
   "outputs": [
    {
     "data": {
      "text/plain": [
       "'\\nSELECT PRODUCTID,COUNT(*) AS PURCHESCOUNT\\nFROM SALES\\nGROUP BY PRODUCTID\\nORDER BY PURCHESID DESC\\nLIMIT 1\\n'"
      ]
     },
     "execution_count": 34,
     "metadata": {},
     "output_type": "execute_result"
    }
   ],
   "source": [
    "\"\"\"\n",
    "SELECT PRODUCTID,COUNT(*) AS PURCHESCOUNT\n",
    "FROM SALES\n",
    "GROUP BY PRODUCTID\n",
    "ORDER BY PURCHESID DESC\n",
    "LIMIT 1\n",
    "\"\"\""
   ]
  },
  {
   "cell_type": "markdown",
   "id": "e15d131c",
   "metadata": {},
   "source": [
    "#### Average Price per Product: Write an SQL query to calculate the average price for each product."
   ]
  },
  {
   "cell_type": "code",
   "execution_count": 35,
   "id": "41750320",
   "metadata": {},
   "outputs": [
    {
     "data": {
      "text/plain": [
       "'\\nSELECT PRODUCTID,AVG(PRICE) AS AVERAGEPRICE\\nFROM SALES\\nGROUP BY PRODUCTID\\n'"
      ]
     },
     "execution_count": 35,
     "metadata": {},
     "output_type": "execute_result"
    }
   ],
   "source": [
    "\"\"\"\n",
    "SELECT PRODUCTID,AVG(PRICE) AS AVERAGEPRICE\n",
    "FROM SALES\n",
    "GROUP BY PRODUCTID\n",
    "\"\"\""
   ]
  },
  {
   "cell_type": "markdown",
   "id": "dd716fd7",
   "metadata": {},
   "source": [
    "#### Daily Sales Trends: Write an SQL query to analyze the daily sales trends."
   ]
  },
  {
   "cell_type": "code",
   "execution_count": 36,
   "id": "f2684dd8",
   "metadata": {},
   "outputs": [
    {
     "data": {
      "text/plain": [
       "'\\nSELECT TIMESTAMP,SUM(PRICE * QUANTITY) AS DAILYSALES\\nFROM SALES\\nGROUP BY TIMESTAMP\\nORDER BY TIMESTAMP\\n'"
      ]
     },
     "execution_count": 36,
     "metadata": {},
     "output_type": "execute_result"
    }
   ],
   "source": [
    "\"\"\"\n",
    "SELECT TIMESTAMP,SUM(PRICE * QUANTITY) AS DAILYSALES\n",
    "FROM SALES\n",
    "GROUP BY TIMESTAMP\n",
    "ORDER BY TIMESTAMP\n",
    "\"\"\""
   ]
  },
  {
   "cell_type": "markdown",
   "id": "4d5a86df",
   "metadata": {},
   "source": [
    "#### Customers with High Spending: Write an SQL query to identify customers who have spent more than a certain threshold amount."
   ]
  },
  {
   "cell_type": "code",
   "execution_count": 37,
   "id": "958ae635",
   "metadata": {},
   "outputs": [
    {
     "data": {
      "text/plain": [
       "'\\nSELECT CustomerID, SUM(Price * Quantity) AS TotalSpending\\nFROM YourTableName\\nGROUP BY CustomerID\\nHAVING TotalSpending > YourThreshold;\\n'"
      ]
     },
     "execution_count": 37,
     "metadata": {},
     "output_type": "execute_result"
    }
   ],
   "source": [
    "\"\"\"\n",
    "SELECT CustomerID, SUM(Price * Quantity) AS TotalSpending\n",
    "FROM YourTableName\n",
    "GROUP BY CustomerID\n",
    "HAVING TotalSpending > YourThreshold;\n",
    "\"\"\""
   ]
  },
  {
   "cell_type": "code",
   "execution_count": null,
   "id": "f94e2092",
   "metadata": {},
   "outputs": [],
   "source": []
  }
 ],
 "metadata": {
  "kernelspec": {
   "display_name": "Python 3 (ipykernel)",
   "language": "python",
   "name": "python3"
  },
  "language_info": {
   "codemirror_mode": {
    "name": "ipython",
    "version": 3
   },
   "file_extension": ".py",
   "mimetype": "text/x-python",
   "name": "python",
   "nbconvert_exporter": "python",
   "pygments_lexer": "ipython3",
   "version": "3.11.5"
  }
 },
 "nbformat": 4,
 "nbformat_minor": 5
}
