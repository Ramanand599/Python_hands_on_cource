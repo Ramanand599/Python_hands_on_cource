{
 "cells": [
  {
   "cell_type": "markdown",
   "id": "6916d6a4",
   "metadata": {},
   "source": [
    "### Python program to a Sort Matrix by index-value equality count"
   ]
  },
  {
   "cell_type": "code",
   "execution_count": 2,
   "id": "a2c61f20",
   "metadata": {},
   "outputs": [
    {
     "name": "stdout",
     "output_type": "stream",
     "text": [
      "original list is: [[3, 1, 2, 5, 4], [0, 1, 2, 3, 4], [6, 5, 4, 3, 2], [0, 5, 4, 2]]\n",
      "Sorted list: [[6, 5, 4, 3, 2], [0, 5, 4, 2], [3, 1, 2, 5, 4], [0, 1, 2, 3, 4]]\n"
     ]
    }
   ],
   "source": [
    "def get_idx_ele_count(row):\n",
    "    return len([ele for i,ele in enumerate(row) if ele == i])\n",
    "test_list = [[3, 1, 2, 5, 4], [0, 1, 2, 3, 4], \n",
    "             [6, 5, 4, 3, 2], [0, 5, 4, 2]]\n",
    "print(\"original list is:\",test_list)\n",
    "test_list.sort(key = get_idx_ele_count)\n",
    "print(\"Sorted list:\",test_list)"
   ]
  },
  {
   "cell_type": "code",
   "execution_count": 3,
   "id": "b28e9bb3",
   "metadata": {},
   "outputs": [
    {
     "name": "stdout",
     "output_type": "stream",
     "text": [
      "original list is: [[3, 1, 2, 5, 4], [0, 1, 2, 3, 4], [6, 5, 4, 3, 2], [0, 5, 4, 2]]\n",
      "Sorted List is: [[6, 5, 4, 3, 2], [0, 5, 4, 2], [3, 1, 2, 5, 4], [0, 1, 2, 3, 4]]\n"
     ]
    }
   ],
   "source": [
    "test_list = [[3, 1, 2, 5, 4], [0, 1, 2, 3, 4], \n",
    "             [6, 5, 4, 3, 2], [0, 5, 4, 2]]\n",
    "print(\"original list is:\",test_list)\n",
    "result = sorted(test_list,key=lambda row:len([val for idx,val in enumerate(row) if val == idx]))\n",
    "print(\"Sorted List is:\",result)"
   ]
  },
  {
   "cell_type": "markdown",
   "id": "9c7b35c8",
   "metadata": {},
   "source": [
    "### Python Program to Reverse Every Kth row in a Matrix"
   ]
  },
  {
   "cell_type": "code",
   "execution_count": 7,
   "id": "82153f6d",
   "metadata": {},
   "outputs": [
    {
     "name": "stdout",
     "output_type": "stream",
     "text": [
      "original list is: [[5, 3, 2], [8, 6, 3], [3, 5, 2], [3, 6], [3, 7, 4], [2, 9]]\n",
      "After reversing every Kth row: [[2, 3, 5], [8, 6, 3], [3, 5, 2], [6, 3], [3, 7, 4], [2, 9]]\n"
     ]
    }
   ],
   "source": [
    "test_list = [[5, 3, 2], [8, 6, 3], [3, 5, 2],\n",
    "             [3, 6], [3, 7, 4], [2, 9]]\n",
    "print(\"original list is:\",test_list)\n",
    "K = 3\n",
    "result = []\n",
    "for idx,val in enumerate(test_list):\n",
    "    if (idx + 1)%K == 0:\n",
    "        result.append(list(reversed(val)))\n",
    "    else:\n",
    "        result.append(val)\n",
    "print(\"After reversing every Kth row:\",result)"
   ]
  },
  {
   "cell_type": "code",
   "execution_count": 9,
   "id": "8134cd8d",
   "metadata": {},
   "outputs": [
    {
     "name": "stdout",
     "output_type": "stream",
     "text": [
      "original list is: [[5, 3, 2], [8, 6, 3], [3, 5, 2], [3, 6], [3, 7, 4], [2, 9]]\n",
      "After reversing every Kth row: [[5, 3, 2], [8, 6, 3], [2, 5, 3], [3, 6], [3, 7, 4], [9, 2]]\n"
     ]
    }
   ],
   "source": [
    "test_list = [[5, 3, 2], [8, 6, 3], [3, 5, 2],\n",
    "             [3, 6], [3, 7, 4], [2, 9]]\n",
    "print(\"original list is:\",test_list)\n",
    "K = 3\n",
    "result = [val[::-1] if (idx + 1)%K==0 else val for idx,val in enumerate(test_list)]\n",
    "print(\"After reversing every Kth row:\",result)"
   ]
  },
  {
   "cell_type": "code",
   "execution_count": 10,
   "id": "dd145c8a",
   "metadata": {},
   "outputs": [
    {
     "name": "stdout",
     "output_type": "stream",
     "text": [
      "original list is: [[5, 3, 2], [8, 6, 3], [3, 5, 2], [3, 6], [3, 7, 4], [2, 9]]\n",
      "After reversing every Kth row: [[5, 3, 2], [8, 6, 3], [2, 5, 3], [3, 6], [3, 7, 4], [2, 9]]\n"
     ]
    }
   ],
   "source": [
    "test_list = [[5, 3, 2], [8, 6, 3], [3, 5, 2],\n",
    "             [3, 6], [3, 7, 4], [2, 9]]\n",
    "print(\"original list is:\",test_list)\n",
    "K = 3\n",
    "result = []\n",
    "for i in test_list:\n",
    "    if (test_list.index(i)== K - 1):\n",
    "        i.reverse()\n",
    "        result.append(i)\n",
    "    else:\n",
    "        result.append(i)\n",
    "print(\"After reversing every Kth row:\",result)"
   ]
  },
  {
   "cell_type": "code",
   "execution_count": 28,
   "id": "b832aad1",
   "metadata": {},
   "outputs": [
    {
     "name": "stdout",
     "output_type": "stream",
     "text": [
      "original list is: [[5, 3, 2], [8, 6, 3], [3, 5, 2], [3, 6], [3, 7, 4], [2, 9]]\n",
      "After reversing every Kth row: [[5, 3, 2], [8, 6, 3], [2, 5, 3], [3, 6], [3, 7, 4], [9, 2]]\n"
     ]
    }
   ],
   "source": [
    "test_list = [[5, 3, 2], [8, 6, 3], [3, 5, 2],\n",
    "             [3, 6], [3, 7, 4], [2, 9]]\n",
    "print(\"original list is:\",test_list)\n",
    "K = 3\n",
    "for i in range(K-1,len(test_list),K):\n",
    "    test_list[i] = test_list[i][::-1]\n",
    "print(\"After reversing every Kth row:\",test_list)"
   ]
  },
  {
   "cell_type": "markdown",
   "id": "8b278204",
   "metadata": {},
   "source": [
    "### Python Program to Convert String Matrix Representation to Matrix"
   ]
  },
  {
   "cell_type": "code",
   "execution_count": 31,
   "id": "951c274e",
   "metadata": {},
   "outputs": [
    {
     "name": "stdout",
     "output_type": "stream",
     "text": [
      "Original string is: [gfg,is],[best,for],[all,geeks]\n",
      "Resultent Matrix: [['gfg', 'is'], ['best', 'for'], ['all', 'geeks']]\n"
     ]
    }
   ],
   "source": [
    "import re\n",
    "test_str = \"[gfg,is],[best,for],[all,geeks]\"\n",
    "pattern = r\"\\[(.+?)\\]\"\n",
    "result = re.findall(pattern,test_str)\n",
    "result = [ele.split(\",\") for ele in result]\n",
    "print(\"Original string is:\",test_str)\n",
    "print(\"Resultent Matrix:\",result)"
   ]
  },
  {
   "cell_type": "code",
   "execution_count": 33,
   "id": "e682a365",
   "metadata": {},
   "outputs": [
    {
     "name": "stdout",
     "output_type": "stream",
     "text": [
      "Original string is: [[\"gfg\", \"is\"], [\"best\", \"for\"], [\"all\", \"geeks\"]]\n",
      "Resultent Matrix: [['gfg', 'is'], ['best', 'for'], ['all', 'geeks']]\n"
     ]
    }
   ],
   "source": [
    "import json\n",
    "test_str = '[[\"gfg\", \"is\"], [\"best\", \"for\"], [\"all\", \"geeks\"]]'\n",
    "print(\"Original string is:\",test_str)\n",
    "result = json.loads(test_str)\n",
    "print(\"Resultent Matrix:\",result)"
   ]
  },
  {
   "cell_type": "code",
   "execution_count": 37,
   "id": "c2f3b6d0",
   "metadata": {},
   "outputs": [
    {
     "name": "stdout",
     "output_type": "stream",
     "text": [
      "Original string is: [gfg,is],[best,for],[all,geeks]\n",
      "Resultent Matrix: [['gfg', 'is'], ['best', 'for'], ['all', 'geeks']]\n"
     ]
    }
   ],
   "source": [
    "test_str = \"[gfg,is],[best,for],[all,geeks]\"\n",
    "print(\"Original string is:\",test_str)\n",
    "rows = test_str[1:-1].split(\"],[\")\n",
    "result = [ele.split(\",\") for ele in rows]\n",
    "print(\"Resultent Matrix:\",result)"
   ]
  },
  {
   "cell_type": "code",
   "execution_count": 39,
   "id": "dbd483f3",
   "metadata": {},
   "outputs": [
    {
     "name": "stdout",
     "output_type": "stream",
     "text": [
      "Original string is: [gfg,is],[best,for],[all,geeks]\n",
      "Resultent Matrix: [['gfg', 'is'], ['best', 'for'], ['all', 'geeks']]\n"
     ]
    }
   ],
   "source": [
    "import re\n",
    "test_str = \"[gfg,is],[best,for],[all,geeks]\"\n",
    "print(\"Original string is:\",test_str)\n",
    "pattern = r'\\[([^]]+)\\]'\n",
    "result = re.findall(pattern,test_str)\n",
    "result = [sub.split(\",\") for sub in result]\n",
    "print(\"Resultent Matrix:\",result)"
   ]
  },
  {
   "cell_type": "markdown",
   "id": "13c40ff4",
   "metadata": {},
   "source": [
    "### Count the frequency of matrix row length"
   ]
  },
  {
   "cell_type": "code",
   "execution_count": 40,
   "id": "4094cd83",
   "metadata": {},
   "outputs": [
    {
     "name": "stdout",
     "output_type": "stream",
     "text": [
      "The Original list is: [[6, 3, 1], [8, 9], [2], [10, 12, 7], [4, 11]]\n",
      "row length frequency is : {3: 2, 2: 2, 1: 1}\n"
     ]
    }
   ],
   "source": [
    "test_list = [[6, 3, 1], [8, 9], [2],\n",
    "             [10, 12, 7], [4, 11]]\n",
    "print(\"The Original list is:\",test_list)\n",
    "result = dict()\n",
    "for sub in test_list:\n",
    "    if len(sub) not in result:\n",
    "        result[len(sub)] = 1\n",
    "    else:\n",
    "        result[len(sub)] += 1\n",
    "print(\"row length frequency is :\",result)"
   ]
  },
  {
   "cell_type": "code",
   "execution_count": 41,
   "id": "b9faaa5b",
   "metadata": {},
   "outputs": [
    {
     "name": "stdout",
     "output_type": "stream",
     "text": [
      "The Original list is: [[6, 3, 1], [8, 9], [2], [10, 12, 7], [4, 11]]\n",
      "row length frequency is : {3: 2, 2: 2, 1: 1}\n"
     ]
    }
   ],
   "source": [
    "from collections import Counter\n",
    "test_list = [[6, 3, 1], [8, 9], [2],\n",
    "             [10, 12, 7], [4, 11]]\n",
    "print(\"The Original list is:\",test_list)\n",
    "result = dict(Counter(map(len,test_list)))\n",
    "print(\"row length frequency is :\",result)"
   ]
  },
  {
   "cell_type": "code",
   "execution_count": 44,
   "id": "498da3da",
   "metadata": {},
   "outputs": [
    {
     "data": {
      "text/plain": [
       "{3: 2, 2: 2, 1: 1}"
      ]
     },
     "execution_count": 44,
     "metadata": {},
     "output_type": "execute_result"
    }
   ],
   "source": [
    "l = dict(Counter(map(len,test_list)))\n",
    "l"
   ]
  },
  {
   "cell_type": "code",
   "execution_count": 46,
   "id": "543338d0",
   "metadata": {},
   "outputs": [
    {
     "name": "stdout",
     "output_type": "stream",
     "text": [
      "The Original list is: [[6, 3, 1], [8, 9], [2], [10, 12, 7], [4, 11]]\n",
      "row length frequency is : {1: 1, 2: 2, 3: 2}\n"
     ]
    }
   ],
   "source": [
    "test_list = [[6, 3, 1], [8, 9], [2],\n",
    "             [10, 12, 7], [4, 11]]\n",
    "print(\"The Original list is:\",test_list)\n",
    "result = dict()\n",
    "x = []\n",
    "for sub in test_list:\n",
    "    x.append(len(sub))\n",
    "y = set(x)\n",
    "for i in y:\n",
    "    result[i] = x.count(i)\n",
    "print(\"row length frequency is :\",result)"
   ]
  },
  {
   "cell_type": "markdown",
   "id": "1ed96c5f",
   "metadata": {},
   "source": [
    "### Convert Integer Matrix to String Matrix"
   ]
  },
  {
   "cell_type": "code",
   "execution_count": 49,
   "id": "35a9052b",
   "metadata": {},
   "outputs": [
    {
     "name": "stdout",
     "output_type": "stream",
     "text": [
      "The original list : [[4, 5, 7], [10, 8, 3], [19, 4, 6], [9, 3, 6]]\n",
      "The Data type converted matrix: [['4', '5', '7'], ['10', '8', '3'], ['19', '4', '6'], ['9', '3', '6']]\n"
     ]
    }
   ],
   "source": [
    "test_list = [[4, 5, 7], [10, 8, 3], [19, 4, 6], [9, 3, 6]]\n",
    "print(\"The original list : \" + str(test_list))\n",
    "result = [[str(ele) for ele in lst] for lst in test_list]\n",
    "print(\"The Data type converted matrix:\",result)"
   ]
  },
  {
   "cell_type": "code",
   "execution_count": 50,
   "id": "165ea62d",
   "metadata": {},
   "outputs": [
    {
     "name": "stdout",
     "output_type": "stream",
     "text": [
      "The original list : [[4, 5, 7], [10, 8, 3], [19, 4, 6], [9, 3, 6]]\n",
      "The Data type converted matrix: [['4', '5', '7'], ['10', '8', '3'], ['19', '4', '6'], ['9', '3', '6']]\n"
     ]
    }
   ],
   "source": [
    "test_list = [[4, 5, 7], [10, 8, 3], [19, 4, 6], [9, 3, 6]]\n",
    "print(\"The original list : \" + str(test_list))\n",
    "result = [list(map(str,sub)) for sub in test_list]\n",
    "print(\"The Data type converted matrix:\",result)"
   ]
  },
  {
   "cell_type": "code",
   "execution_count": 53,
   "id": "94db21f6",
   "metadata": {},
   "outputs": [
    {
     "name": "stdout",
     "output_type": "stream",
     "text": [
      "The original list : [[4, 5, 7], [10, 8, 3], [19, 4, 6], [9, 3, 6]]\n",
      "[[ 4  5  7]\n",
      " [10  8  3]\n",
      " [19  4  6]\n",
      " [ 9  3  6]]\n",
      "The Data type converted matrix: [['4', '5', '7'], ['10', '8', '3'], ['19', '4', '6'], ['9', '3', '6']]\n"
     ]
    }
   ],
   "source": [
    "import numpy as np\n",
    "test_list = [[4, 5, 7], [10, 8, 3], [19, 4, 6], [9, 3, 6]]\n",
    "print(\"The original list : \" + str(test_list))\n",
    "matrix = np.array(test_list)\n",
    "print(matrix)\n",
    "result = np.char.mod(\"%s\",matrix).tolist()\n",
    "print(\"The Data type converted matrix:\",result)"
   ]
  },
  {
   "cell_type": "markdown",
   "id": "ec445e70",
   "metadata": {},
   "source": [
    "### Python Program to Convert Tuple Matrix to Tuple List"
   ]
  },
  {
   "cell_type": "code",
   "execution_count": 57,
   "id": "d5654174",
   "metadata": {},
   "outputs": [
    {
     "name": "stdout",
     "output_type": "stream",
     "text": [
      "The original list : [[(4, 5), (7, 8)], [(10, 13), (18, 17)], [(0, 4), (10, 1)]]\n",
      "The converted tuple list is: [(4, 7, 10, 18, 0, 10), (5, 8, 13, 17, 4, 1)]\n"
     ]
    }
   ],
   "source": [
    "test_list = [[(4, 5), (7, 8)], [(10, 13), (18, 17)], [(0, 4), (10, 1)]]\n",
    "print(\"The original list : \" + str(test_list))\n",
    "result = [ele for lst in test_list for ele in lst]\n",
    "result = list(zip(*result))\n",
    "print(\"The converted tuple list is:\",result)"
   ]
  },
  {
   "cell_type": "code",
   "execution_count": 59,
   "id": "5925adc8",
   "metadata": {},
   "outputs": [
    {
     "name": "stdout",
     "output_type": "stream",
     "text": [
      "The original list : [[(4, 5), (7, 8)], [(10, 13), (18, 17)], [(0, 4), (10, 1)]]\n",
      "The converted tuple list is: [(4, 7, 10, 18, 0, 10), (5, 8, 13, 17, 4, 1)]\n"
     ]
    }
   ],
   "source": [
    "from itertools import chain\n",
    "test_list = [[(4, 5), (7, 8)], [(10, 13), (18, 17)], [(0, 4), (10, 1)]]\n",
    "print(\"The original list : \" + str(test_list))\n",
    "result = list(zip(*chain.from_iterable(test_list)))\n",
    "print(\"The converted tuple list is:\",result)"
   ]
  },
  {
   "cell_type": "code",
   "execution_count": 61,
   "id": "58b10aba",
   "metadata": {},
   "outputs": [
    {
     "name": "stdout",
     "output_type": "stream",
     "text": [
      "The original list : [[(4, 5), (7, 8)], [(10, 13), (18, 17)], [(0, 4), (10, 1)]]\n",
      "The Converted tuple list is: [(4, 7, 10, 18, 0, 10), (5, 8, 13, 17, 4, 1)]\n"
     ]
    }
   ],
   "source": [
    "test_list = [[(4, 5), (7, 8)], [(10, 13), (18, 17)], [(0, 4), (10, 1)]]\n",
    "print(\"The original list : \" + str(test_list))\n",
    "x = []\n",
    "for i in test_list:\n",
    "    for j in i:\n",
    "        j = list(j)\n",
    "        x.extend(j)\n",
    "re1=[]\n",
    "re2=[]\n",
    "for i in range(0,len(x)):\n",
    "    if (i%2==0):\n",
    "        re1.append(x[i])\n",
    "    else:\n",
    "        re2.append(x[i])\n",
    "result = []\n",
    "result.append(tuple(re1))\n",
    "result.append(tuple(re2))\n",
    "print(\"The Converted tuple list is:\",result)"
   ]
  },
  {
   "cell_type": "code",
   "execution_count": 63,
   "id": "17a34bfa",
   "metadata": {},
   "outputs": [
    {
     "name": "stdout",
     "output_type": "stream",
     "text": [
      "The original list :  ((1, 2, 3), (4, 5, 6), (7, 8, 9))\n",
      "([1, 2, 3], [4, 5, 6], [7, 8, 9])\n"
     ]
    }
   ],
   "source": [
    "matrix = ((1, 2, 3), (4, 5, 6), (7, 8, 9))\n",
    "print(\"The original list : \",matrix)\n",
    "result = tuple(map(lambda x:list(x),matrix))\n",
    "print(result)"
   ]
  },
  {
   "cell_type": "code",
   "execution_count": 72,
   "id": "6e8cb19b",
   "metadata": {},
   "outputs": [
    {
     "name": "stdout",
     "output_type": "stream",
     "text": [
      "The original list : [[(4, 5), (7, 8)], [(10, 13), (18, 17)], [(0, 4), (10, 1)]]\n",
      "The Converted tuple list is: ((4, 7, 10, 18, 0, 10), (5, 8, 13, 17, 4, 1))\n"
     ]
    }
   ],
   "source": [
    "import numpy as np\n",
    "test_list = [[(4, 5), (7, 8)], [(10, 13), (18, 17)], [(0, 4), (10, 1)]]\n",
    "print(\"The original list : \" + str(test_list))\n",
    "array = np.array([ele for sub in test_list for ele in sub],np.int64)\n",
    "result = tuple(map(tuple,array.T))\n",
    "print(\"The Converted tuple list is:\",result)"
   ]
  },
  {
   "cell_type": "code",
   "execution_count": 75,
   "id": "ededeef1",
   "metadata": {},
   "outputs": [
    {
     "name": "stdout",
     "output_type": "stream",
     "text": [
      "The original list : [[(4, 5), (7, 8)], [(10, 13), (18, 17)], [(0, 4), (10, 1)]]\n",
      "The Converted tuple list is: [(4, 7, 10, 18, 0, 10), (5, 8, 13, 17, 4, 1)]\n"
     ]
    }
   ],
   "source": [
    "def flatten(lst):\n",
    "    if isinstance(lst,list):\n",
    "        return [ele for sub in lst for ele in sub]\n",
    "    else:\n",
    "        return [lst]\n",
    "test_list = [[(4, 5), (7, 8)], [(10, 13), (18, 17)], [(0, 4), (10, 1)]]\n",
    "print(\"The original list : \" + str(test_list))\n",
    "result = flatten(test_list)\n",
    "result = list(zip(*result))\n",
    "print(\"The Converted tuple list is:\",result)"
   ]
  },
  {
   "cell_type": "markdown",
   "id": "7ff2c1a7",
   "metadata": {},
   "source": [
    "### Group Elements in Matrix"
   ]
  },
  {
   "cell_type": "code",
   "execution_count": 1,
   "id": "2b0fe673",
   "metadata": {},
   "outputs": [
    {
     "name": "stdout",
     "output_type": "stream",
     "text": [
      "Original list: [[5, 8], [2, 0], [5, 4], [2, 3], [7, 9]]\n",
      "The Grouped matrix: {5: [8, 4], 2: [0, 3], 7: [9]}\n"
     ]
    }
   ],
   "source": [
    "test_list = [[5, 8], [2, 0], [5, 4], [2, 3], [7, 9]]\n",
    "print(\"Original list:\",test_list)\n",
    "result = {idx[0]: [] for idx in test_list}\n",
    "for idx in test_list:\n",
    "    result[idx[0]].append(idx[1])\n",
    "print(\"The Grouped matrix:\",result)"
   ]
  },
  {
   "cell_type": "code",
   "execution_count": 12,
   "id": "2a397675",
   "metadata": {},
   "outputs": [
    {
     "name": "stdout",
     "output_type": "stream",
     "text": [
      "Original list: [[5, 8], [2, 0], [5, 4], [2, 3], [7, 9]]\n",
      "defaultdict(<class 'list'>, {5: [8, 4], 2: [0, 3], 7: [9]})\n"
     ]
    }
   ],
   "source": [
    "from collections import defaultdict\n",
    "test_list = [[5, 8], [2, 0], [5, 4], [2, 3], [7, 9]]\n",
    "print(\"Original list:\",test_list)\n",
    "result = defaultdict(list)\n",
    "for idx in test_list:\n",
    "    result[idx[0]].append(idx[1])\n",
    "print(result)"
   ]
  },
  {
   "cell_type": "code",
   "execution_count": 13,
   "id": "4c234af9",
   "metadata": {},
   "outputs": [
    {
     "name": "stdout",
     "output_type": "stream",
     "text": [
      "Original list: [[5, 8], [2, 0], [5, 4], [2, 3], [7, 9]]\n",
      "The Grouped Matrix: {5: [8, 4], 2: [0, 3], 7: [9]}\n"
     ]
    }
   ],
   "source": [
    "test_list = [[5, 8], [2, 0], [5, 4], [2, 3], [7, 9]]\n",
    "print(\"Original list:\",test_list)\n",
    "result = dict()\n",
    "x = []\n",
    "for i in test_list:\n",
    "    if i[0] not in x:\n",
    "        x.append(i[0])\n",
    "for i in x:\n",
    "    v=[]\n",
    "    for j in test_list:\n",
    "        if j[0]==i:\n",
    "            v.append(j[1])\n",
    "    result[i] = v\n",
    "print(\"The Grouped Matrix:\",result)"
   ]
  },
  {
   "cell_type": "code",
   "execution_count": 16,
   "id": "616ec61f",
   "metadata": {},
   "outputs": [
    {
     "name": "stdout",
     "output_type": "stream",
     "text": [
      "Original list: [[5, 8], [2, 0], [5, 4], [2, 3], [7, 9]]\n",
      "The Grouped Matrix: {2: [0, 3], 5: [4, 8], 7: [9]}\n"
     ]
    }
   ],
   "source": [
    "from itertools import groupby\n",
    "test_list = [[5, 8], [2, 0], [5, 4], [2, 3], [7, 9]]\n",
    "print(\"Original list:\",test_list)\n",
    "test_list.sort()\n",
    "groups = groupby(test_list,lambda x:x[0])\n",
    "result = { k:[v[1] for v in group] for k,group in groups}\n",
    "print(\"The Grouped Matrix:\",result)"
   ]
  },
  {
   "cell_type": "markdown",
   "id": "dfe6351b",
   "metadata": {},
   "source": [
    "### Assigning Subsequent Rows to Matrix first row elements"
   ]
  },
  {
   "cell_type": "code",
   "execution_count": 17,
   "id": "6888e46d",
   "metadata": {},
   "outputs": [
    {
     "name": "stdout",
     "output_type": "stream",
     "text": [
      "Original list: [[5, 8, 9], [2, 0, 9], [5, 4, 2], [2, 3, 9]]\n",
      "The Assigned matrix is: {5: [2, 0, 9], 8: [5, 4, 2], 9: [2, 3, 9]}\n"
     ]
    }
   ],
   "source": [
    "test_list = [[5, 8, 9], [2, 0, 9], [5, 4, 2], [2, 3, 9]]\n",
    "print(\"Original list:\",test_list)\n",
    "result = {test_list[0][ele]:test_list[ele +1] for ele in range(len(test_list) - 1)}\n",
    "print(\"The Assigned matrix is:\",result)"
   ]
  },
  {
   "cell_type": "code",
   "execution_count": 18,
   "id": "6ef7200c",
   "metadata": {},
   "outputs": [
    {
     "name": "stdout",
     "output_type": "stream",
     "text": [
      "Original list: [[5, 8, 9], [2, 0, 9], [5, 4, 2], [2, 3, 9]]\n",
      "The Assigned matrix is: {5: [2, 0, 9], 8: [5, 4, 2], 9: [2, 3, 9]}\n"
     ]
    }
   ],
   "source": [
    "test_list = [[5, 8, 9], [2, 0, 9], [5, 4, 2], [2, 3, 9]]\n",
    "print(\"Original list:\",test_list)\n",
    "result = dict(zip(test_list[0],test_list[1:]))\n",
    "print(\"The Assigned matrix is:\",result)"
   ]
  },
  {
   "cell_type": "code",
   "execution_count": 21,
   "id": "6034a346",
   "metadata": {},
   "outputs": [
    {
     "name": "stdout",
     "output_type": "stream",
     "text": [
      "Original list: [[5, 8, 9], [2, 0, 9], [5, 4, 2], [2, 3, 9]]\n",
      "The Assigned matrix is: {5: [2, 0, 9], 8: [5, 4, 2], 9: [2, 3, 9]}\n"
     ]
    }
   ],
   "source": [
    "test_list = [[5, 8, 9], [2, 0, 9], [5, 4, 2], [2, 3, 9]]\n",
    "print(\"Original list:\",test_list)\n",
    "a = test_list[0]\n",
    "b = test_list[1:len(test_list)]\n",
    "d=dict()\n",
    "for i in range(0,len(a)):\n",
    "    d[a[i]] = b[i]\n",
    "print(\"The Assigned matrix is:\",d)"
   ]
  },
  {
   "cell_type": "markdown",
   "id": "71dedaa1",
   "metadata": {},
   "source": [
    "### Adding and Subtracting Matrices in Python"
   ]
  },
  {
   "cell_type": "code",
   "execution_count": 22,
   "id": "291ab879",
   "metadata": {},
   "outputs": [
    {
     "name": "stdout",
     "output_type": "stream",
     "text": [
      "Printing elements of first matrix\n",
      "[[1 2]\n",
      " [3 4]]\n",
      "Printing elements of second matrix\n",
      "[[4 5]\n",
      " [6 7]]\n",
      "Addition Of Two matrix:\n",
      "[[ 5  7]\n",
      " [ 9 11]]\n"
     ]
    }
   ],
   "source": [
    "import numpy as np\n",
    "A = np.array([[1, 2], [3, 4]])\n",
    "B = np.array([[4, 5], [6, 7]])\n",
    "print(\"Printing elements of first matrix\")\n",
    "print(A)\n",
    "print(\"Printing elements of second matrix\")\n",
    "print(B)\n",
    "print(\"Addition Of Two matrix:\")\n",
    "print(np.add(A,B))"
   ]
  },
  {
   "cell_type": "code",
   "execution_count": 23,
   "id": "640326c2",
   "metadata": {},
   "outputs": [
    {
     "name": "stdout",
     "output_type": "stream",
     "text": [
      "Printing elements of first matrix\n",
      "[[1 2]\n",
      " [3 4]]\n",
      "Printing elements of second matrix\n",
      "[[4 5]\n",
      " [6 7]]\n",
      "Subtraction Of Two matrix:\n",
      "[[-3 -3]\n",
      " [-3 -3]]\n"
     ]
    }
   ],
   "source": [
    "import numpy as np\n",
    "A = np.array([[1, 2], [3, 4]])\n",
    "B = np.array([[4, 5], [6, 7]])\n",
    "print(\"Printing elements of first matrix\")\n",
    "print(A)\n",
    "print(\"Printing elements of second matrix\")\n",
    "print(B)\n",
    "print(\"Subtraction Of Two matrix:\")\n",
    "print(np.subtract(A,B))"
   ]
  },
  {
   "cell_type": "code",
   "execution_count": 25,
   "id": "1c5c157b",
   "metadata": {},
   "outputs": [
    {
     "name": "stdout",
     "output_type": "stream",
     "text": [
      "Printing element of first matrix:\n",
      "1 2 \n",
      "3 4 \n",
      "Printing element of second matrix:\n",
      "4 5 \n",
      "6 7 \n",
      "Subtraction of two matrix:\n",
      "-3 -3 \n",
      "-3 -3 \n"
     ]
    }
   ],
   "source": [
    "matrix1 = [[1, 2], [3, 4]]\n",
    "matrix2 = [[4, 5], [6, 7]]\n",
    "print(\"Printing element of first matrix:\")\n",
    "for raw in matrix1:\n",
    "    for ele in raw:\n",
    "        print(ele,end=\" \")\n",
    "    print()\n",
    "    \n",
    "print(\"Printing element of second matrix:\")\n",
    "for raw in matrix2:\n",
    "    for ele in raw:\n",
    "        print(ele,end=\" \")\n",
    "    print()\n",
    "result = [[0,0],[0,0]]\n",
    "for i in range(len(matrix1)):\n",
    "    for j in range(len(matrix1[0])):\n",
    "        result[i][j] = matrix1[i][j] - matrix2[i][j]\n",
    "print(\"Subtraction of two matrix:\")\n",
    "for raw in result:\n",
    "    for ele in raw:\n",
    "        print(ele,end=\" \")\n",
    "    print()"
   ]
  },
  {
   "cell_type": "markdown",
   "id": "be7bf25d",
   "metadata": {},
   "source": [
    "### Convert Matrix to dictionary"
   ]
  },
  {
   "cell_type": "code",
   "execution_count": 26,
   "id": "ee6f9f0c",
   "metadata": {},
   "outputs": [
    {
     "name": "stdout",
     "output_type": "stream",
     "text": [
      "The Original list is: [[5, 6, 7], [8, 3, 2], [8, 2, 1]]\n",
      "The Constructed Dictionary: {1: [5, 6, 7], 2: [8, 3, 2], 3: [8, 2, 1]}\n"
     ]
    }
   ],
   "source": [
    "test_list = [[5, 6, 7], [8, 3, 2], [8, 2, 1]] \n",
    "print(\"The Original list is:\",test_list)\n",
    "result = {idx +1:test_list[idx] for idx in range(len(test_list))}\n",
    "print(\"The Constructed Dictionary:\",result)"
   ]
  },
  {
   "cell_type": "code",
   "execution_count": 28,
   "id": "d1f59d3b",
   "metadata": {},
   "outputs": [
    {
     "name": "stdout",
     "output_type": "stream",
     "text": [
      "The Original list is: [[5, 6, 7], [8, 3, 2], [8, 2, 1]]\n",
      "The Constructed Dictionary: {1: [5, 6, 7], 2: [8, 3, 2], 3: [8, 2, 1]}\n"
     ]
    }
   ],
   "source": [
    "test_list = [[5, 6, 7], [8, 3, 2], [8, 2, 1]] \n",
    "print(\"The Original list is:\",test_list)\n",
    "result = {idx:val for idx,val in enumerate(test_list,start=1)}\n",
    "print(\"The Constructed Dictionary:\",result)"
   ]
  },
  {
   "cell_type": "markdown",
   "id": "e57aeedd",
   "metadata": {},
   "source": [
    "### Convert Matrix to Custom Tuple Matrix"
   ]
  },
  {
   "cell_type": "code",
   "execution_count": 30,
   "id": "e3e15e4c",
   "metadata": {},
   "outputs": [
    {
     "name": "stdout",
     "output_type": "stream",
     "text": [
      "The Original list is: [[4, 5, 6], [6, 7, 3], [1, 3, 4]]\n",
      "Matrix after conversion: [('Gfg', 4), ('Gfg', 5), ('Gfg', 6), ('is', 6), ('is', 7), ('is', 3), ('best', 1), ('best', 3), ('best', 4)]\n"
     ]
    }
   ],
   "source": [
    "test_list = [[4, 5, 6], [6, 7, 3], [1, 3, 4]]\n",
    "print(\"The Original list is:\",test_list)\n",
    "add_list = ['Gfg', 'is', 'best']\n",
    "result = []\n",
    "for idx,ele in zip(add_list,test_list):\n",
    "    for val in ele:\n",
    "        result.append((idx,val))\n",
    "        \n",
    "print(\"Matrix after conversion:\",result)"
   ]
  },
  {
   "cell_type": "code",
   "execution_count": 31,
   "id": "0318c7ac",
   "metadata": {},
   "outputs": [
    {
     "name": "stdout",
     "output_type": "stream",
     "text": [
      "The Original list is: [[4, 5, 6], [6, 7, 3], [1, 3, 4]]\n",
      "Matrix after conversion: [('Gfg', 4), ('Gfg', 5), ('Gfg', 6), ('is', 6), ('is', 7), ('is', 3), ('best', 1), ('best', 3), ('best', 4)]\n"
     ]
    }
   ],
   "source": [
    "test_list = [[4, 5, 6], [6, 7, 3], [1, 3, 4]]\n",
    "print(\"The Original list is:\",test_list)\n",
    "add_list = ['Gfg', 'is', 'best']\n",
    "result = [(ele1,ele2) for ele1,sub in zip(add_list,test_list) for ele2 in sub]\n",
    "        \n",
    "print(\"Matrix after conversion:\",result)"
   ]
  },
  {
   "cell_type": "code",
   "execution_count": 33,
   "id": "7033ed60",
   "metadata": {},
   "outputs": [
    {
     "name": "stdout",
     "output_type": "stream",
     "text": [
      "The Original list is: [[4, 5, 6], [6, 7, 3], [1, 3, 4]]\n",
      "Matrix after conversion: [('Gfg', 4), ('Gfg', 5), ('Gfg', 6), ('is', 6), ('is', 7), ('is', 3), ('best', 1), ('best', 3), ('best', 4)]\n"
     ]
    }
   ],
   "source": [
    "test_list = [[4, 5, 6], [6, 7, 3], [1, 3, 4]]\n",
    "print(\"The Original list is:\",test_list)\n",
    "add_list = ['Gfg', 'is', 'best']\n",
    "result = []\n",
    "for i in range(0,len(add_list)):\n",
    "    for j in range(0,len(test_list)):\n",
    "        result.append((add_list[i],test_list[i][j]))\n",
    "        \n",
    "print(\"Matrix after conversion:\",result)"
   ]
  },
  {
   "cell_type": "markdown",
   "id": "f9692c62",
   "metadata": {},
   "source": [
    "### Matrix Row subset"
   ]
  },
  {
   "cell_type": "code",
   "execution_count": 34,
   "id": "57283457",
   "metadata": {},
   "outputs": [
    {
     "name": "stdout",
     "output_type": "stream",
     "text": [
      "The Original list is: [[4, 5, 7], [2, 3, 4], [9, 8, 0]]\n",
      "Matrix row subset: [[2, 3], [9, 0]]\n"
     ]
    }
   ],
   "source": [
    "test_list = [[4, 5, 7], [2, 3, 4], [9, 8, 0]]\n",
    "print(\"The Original list is:\",test_list)\n",
    "check_matr = [[2, 3], [1, 2], [9, 0]]\n",
    "result = [ele for ele in check_matr if any(all(a in sub for a in ele) for sub in test_list)]\n",
    "print(\"Matrix row subset:\",result)"
   ]
  },
  {
   "cell_type": "code",
   "execution_count": 35,
   "id": "363fc564",
   "metadata": {},
   "outputs": [
    {
     "name": "stdout",
     "output_type": "stream",
     "text": [
      "The Original list is: [[4, 5, 7], [2, 3, 4], [9, 8, 0]]\n",
      "Matrix row subset: [[2, 3], [9, 0]]\n"
     ]
    }
   ],
   "source": [
    "from itertools import product\n",
    "test_list = [[4, 5, 7], [2, 3, 4], [9, 8, 0]]\n",
    "print(\"The Original list is:\",test_list)\n",
    "check_matr = [[2, 3], [1, 2], [9, 0]]\n",
    "result = [a for a,b in product(check_matr,test_list) if set(a) <= set(b)]\n",
    "print(\"Matrix row subset:\",result)"
   ]
  },
  {
   "cell_type": "code",
   "execution_count": 36,
   "id": "77e210e2",
   "metadata": {},
   "outputs": [
    {
     "name": "stdout",
     "output_type": "stream",
     "text": [
      "The Original list is: [[4, 5, 7], [2, 3, 4], [9, 8, 0]]\n",
      "Matrix row subset: [[2, 3], [9, 0]]\n"
     ]
    }
   ],
   "source": [
    "test_list = [[4, 5, 7], [2, 3, 4], [9, 8, 0]]\n",
    "print(\"The Original list is:\",test_list)\n",
    "check_matr = [[2, 3], [1, 2], [9, 0]]\n",
    "result = []\n",
    "for row in check_matr:\n",
    "    for lst in test_list:\n",
    "        if set(row).issubset(set(lst)):\n",
    "            result.append(row)\n",
    "print(\"Matrix row subset:\",result)"
   ]
  },
  {
   "cell_type": "code",
   "execution_count": 38,
   "id": "e11f90c3",
   "metadata": {},
   "outputs": [
    {
     "name": "stdout",
     "output_type": "stream",
     "text": [
      "Matrix row subset: [[2, 3], [9, 0]]\n"
     ]
    }
   ],
   "source": [
    "test_list = [[4, 5, 7], [2, 3, 4], [9, 8, 0]]\n",
    "check_matr = [[2, 3], [1, 2], [9, 0]]\n",
    "def is_subset(a,b):\n",
    "    return set(a).issubset(set(b))\n",
    "result = [list(a) for a in check_matr if any(map(lambda b:is_subset(a,b),test_list))]\n",
    "print(\"Matrix row subset:\",result)"
   ]
  },
  {
   "cell_type": "markdown",
   "id": "d3a477b2",
   "metadata": {},
   "source": [
    "### Group similar elements into Matrix"
   ]
  },
  {
   "cell_type": "code",
   "execution_count": 39,
   "id": "68f833cb",
   "metadata": {},
   "outputs": [
    {
     "name": "stdout",
     "output_type": "stream",
     "text": [
      "The Original list is: [1, 3, 5, 1, 3, 2, 5, 4, 2]\n",
      "Matrix After grouping: [[1, 1], [2, 2], [3, 3], [4], [5, 5]]\n"
     ]
    }
   ],
   "source": [
    "from itertools import groupby\n",
    "test_list = [1, 3, 5, 1, 3, 2, 5, 4, 2]\n",
    "print(\"The Original list is:\",test_list)\n",
    "result = [list(val) for key,val in groupby(sorted(test_list))]\n",
    "print(\"Matrix After grouping:\",result)"
   ]
  },
  {
   "cell_type": "code",
   "execution_count": 45,
   "id": "0f9d884c",
   "metadata": {},
   "outputs": [
    {
     "name": "stdout",
     "output_type": "stream",
     "text": [
      "The Original list: [1, 3, 5, 1, 3, 2, 5, 4, 2]\n",
      "Matrix after grouping: [[1, 1], [2, 2], [3, 3], [4], [5, 5]]\n"
     ]
    }
   ],
   "source": [
    "from collections import Counter\n",
    "test_list = [1, 3, 5, 1, 3, 2, 5, 4, 2]\n",
    "print(\"The Original list:\",test_list)\n",
    "temp = Counter(sorted(test_list))\n",
    "result = [[key]*val for key,val in temp.items()]\n",
    "print(\"Matrix after grouping:\",result)"
   ]
  },
  {
   "cell_type": "code",
   "execution_count": 46,
   "id": "d8e8b1ce",
   "metadata": {},
   "outputs": [
    {
     "name": "stdout",
     "output_type": "stream",
     "text": [
      "The Original list: [1, 3, 5, 1, 3, 2, 5, 4, 2]\n",
      "Matrix after grouping: [[1, 1], [3, 3], [5, 5], [2, 2], [4]]\n"
     ]
    }
   ],
   "source": [
    "from collections import defaultdict\n",
    "test_list = [1, 3, 5, 1, 3, 2, 5, 4, 2]\n",
    "print(\"The Original list:\",test_list)\n",
    "d = defaultdict(list)\n",
    "for ele in test_list:\n",
    "    d[ele].append(ele)\n",
    "result = list(d.values())\n",
    "print(\"Matrix after grouping:\",result)"
   ]
  },
  {
   "cell_type": "code",
   "execution_count": 48,
   "id": "4d1b38be",
   "metadata": {},
   "outputs": [
    {
     "name": "stdout",
     "output_type": "stream",
     "text": [
      "Matrix after grouping: [[1, 1], [3, 3], [5, 5], [2, 2], [4]]\n"
     ]
    }
   ],
   "source": [
    "test_list = [1, 3, 5, 1, 3, 2, 5, 4, 2]\n",
    "group_dict = {}\n",
    "for ele in test_list:\n",
    "    if ele not in group_dict:\n",
    "        group_dict[ele] = [ele]\n",
    "    else:\n",
    "        group_dict[ele].append(ele)\n",
    "result = list(group_dict.values())\n",
    "print(\"Matrix after grouping:\",result)"
   ]
  },
  {
   "cell_type": "code",
   "execution_count": 50,
   "id": "5542eac5",
   "metadata": {},
   "outputs": [
    {
     "name": "stdout",
     "output_type": "stream",
     "text": [
      "Matrix after grouping: [[1, 1], [2, 2], [3, 3], [4], [5, 5]]\n"
     ]
    }
   ],
   "source": [
    "test_list = [1, 3, 5, 1, 3, 2, 5, 4, 2]\n",
    "grouped = []\n",
    "unique = set(test_list)\n",
    "for ele in unique:\n",
    "    sublist = [x for x in test_list if x == ele]\n",
    "    grouped.append(sublist)\n",
    "    \n",
    "print(\"Matrix after grouping:\",grouped)"
   ]
  },
  {
   "cell_type": "markdown",
   "id": "c5be0b82",
   "metadata": {},
   "source": [
    "### Row-wise element Addition in Tuple Matrix"
   ]
  },
  {
   "cell_type": "code",
   "execution_count": 53,
   "id": "198e9826",
   "metadata": {},
   "outputs": [
    {
     "name": "stdout",
     "output_type": "stream",
     "text": [
      "The original list is : [[('Gfg', 3), ('is', 3)], [('best', 1)], [('for', 5), ('geeks', 1)]]\n",
      "Matrix after raw element addition : [[('Gfg', 3, 6), ('is', 3, 6)], [('best', 1, 7)], [('for', 5, 8), ('geeks', 1, 8)]]\n"
     ]
    }
   ],
   "source": [
    "test_list = [[('Gfg', 3), ('is', 3)], [('best', 1)], [('for', 5), ('geeks', 1)]]\n",
    "print(\"The original list is : \" + str(test_list))\n",
    "cus_ele = [6, 7, 8]\n",
    "result = [[sub + (cus_ele[idx],) for sub in val] for idx,val in enumerate(test_list)]\n",
    "print(\"Matrix after raw element addition :\",result)"
   ]
  },
  {
   "cell_type": "code",
   "execution_count": 54,
   "id": "de82746a",
   "metadata": {},
   "outputs": [
    {
     "name": "stdout",
     "output_type": "stream",
     "text": [
      "The original list is : [[('Gfg', 3), ('is', 3)], [('best', 1)], [('for', 5), ('geeks', 1)]]\n",
      "Matrix after raw element addition : [[(('Gfg', 3), 6), (('is', 3), 6)], [(('best', 1), 7)], [(('for', 5), 8), (('geeks', 1), 8)]]\n"
     ]
    }
   ],
   "source": [
    "test_list = [[('Gfg', 3), ('is', 3)], [('best', 1)], [('for', 5), ('geeks', 1)]]\n",
    "print(\"The original list is : \" + str(test_list))\n",
    "cus_ele = [6, 7, 8]\n",
    "result = [[(idx,val) for idx in key] for key,val in zip(test_list,cus_ele)]\n",
    "print(\"Matrix after raw element addition :\",result)"
   ]
  },
  {
   "cell_type": "code",
   "execution_count": 55,
   "id": "88462cb0",
   "metadata": {},
   "outputs": [
    {
     "name": "stdout",
     "output_type": "stream",
     "text": [
      "The original list is : [[('Gfg', 3), ('is', 3)], [('best', 1)], [('for', 5), ('geeks', 1)]]\n",
      "Matrix after raw element addition : [[('Gfg', 3, 6), ('is', 3, 6)], [('best', 1, 7)], [('for', 5, 8), ('geeks', 1, 8)]]\n"
     ]
    }
   ],
   "source": [
    "test_list = [[('Gfg', 3), ('is', 3)], [('best', 1)], [('for', 5), ('geeks', 1)]]\n",
    "print(\"The original list is : \" + str(test_list))\n",
    "cus_ele = [6, 7, 8]\n",
    "result = []\n",
    "for idx,row in enumerate(test_list):\n",
    "    result.append(list(map(lambda x:x+(cus_ele[idx],),row)))\n",
    "print(\"Matrix after raw element addition :\",result)"
   ]
  },
  {
   "cell_type": "markdown",
   "id": "8e05ac1d",
   "metadata": {},
   "source": [
    "### Create an n x n square matrix, where all the sub-matrix have the sum of opposite corner elements as even"
   ]
  },
  {
   "cell_type": "code",
   "execution_count": 57,
   "id": "be1f7db4",
   "metadata": {},
   "outputs": [
    {
     "name": "stdout",
     "output_type": "stream",
     "text": [
      "[[1, 2, 3, 4], [5, 6, 7, 8], [9, 10, 11, 12], [13, 14, 15, 16]]\n",
      "1 2 3 4 \n",
      "8 7 6 5 \n",
      "9 10 11 12 \n",
      "16 15 14 13 \n"
     ]
    }
   ],
   "source": [
    "from itertools import count\n",
    "def sub_mat_even(n):\n",
    "    temp = count(1)\n",
    "    lst = [[next(temp) for i in range(n)] for i in range(n)]\n",
    "    print(lst)\n",
    "    if n%2==0:\n",
    "        for i in range(0,len(lst)):\n",
    "            if i%2 == 1:\n",
    "                lst[i][:] = lst[i][::-1]\n",
    "                \n",
    "    for i in range(n):\n",
    "        for j in range(n):\n",
    "            print(lst[i][j],end=\" \")\n",
    "        print()\n",
    "n = 4\n",
    "sub_mat_even(n)\n",
    "            "
   ]
  },
  {
   "cell_type": "code",
   "execution_count": null,
   "id": "3e5a6e07",
   "metadata": {},
   "outputs": [],
   "source": []
  },
  {
   "cell_type": "code",
   "execution_count": null,
   "id": "cbcfe77b",
   "metadata": {},
   "outputs": [],
   "source": []
  },
  {
   "cell_type": "code",
   "execution_count": null,
   "id": "41ddc7b5",
   "metadata": {},
   "outputs": [],
   "source": []
  },
  {
   "cell_type": "code",
   "execution_count": null,
   "id": "012a74dd",
   "metadata": {},
   "outputs": [],
   "source": []
  },
  {
   "cell_type": "code",
   "execution_count": null,
   "id": "301f5761",
   "metadata": {},
   "outputs": [],
   "source": []
  },
  {
   "cell_type": "code",
   "execution_count": null,
   "id": "97780e6d",
   "metadata": {},
   "outputs": [],
   "source": []
  },
  {
   "cell_type": "code",
   "execution_count": null,
   "id": "45f08c2b",
   "metadata": {},
   "outputs": [],
   "source": []
  },
  {
   "cell_type": "code",
   "execution_count": null,
   "id": "23b879e7",
   "metadata": {},
   "outputs": [],
   "source": []
  },
  {
   "cell_type": "code",
   "execution_count": null,
   "id": "207ef1da",
   "metadata": {},
   "outputs": [],
   "source": []
  },
  {
   "cell_type": "code",
   "execution_count": null,
   "id": "ba434224",
   "metadata": {},
   "outputs": [],
   "source": []
  },
  {
   "cell_type": "code",
   "execution_count": null,
   "id": "32c83243",
   "metadata": {},
   "outputs": [],
   "source": []
  },
  {
   "cell_type": "code",
   "execution_count": null,
   "id": "b751ea87",
   "metadata": {},
   "outputs": [],
   "source": []
  },
  {
   "cell_type": "code",
   "execution_count": null,
   "id": "2dd799da",
   "metadata": {},
   "outputs": [],
   "source": []
  }
 ],
 "metadata": {
  "kernelspec": {
   "display_name": "Python 3 (ipykernel)",
   "language": "python",
   "name": "python3"
  },
  "language_info": {
   "codemirror_mode": {
    "name": "ipython",
    "version": 3
   },
   "file_extension": ".py",
   "mimetype": "text/x-python",
   "name": "python",
   "nbconvert_exporter": "python",
   "pygments_lexer": "ipython3",
   "version": "3.11.5"
  }
 },
 "nbformat": 4,
 "nbformat_minor": 5
}
