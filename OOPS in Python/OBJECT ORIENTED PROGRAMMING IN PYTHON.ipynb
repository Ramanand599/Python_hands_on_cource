{
 "cells": [
  {
   "cell_type": "markdown",
   "id": "7e69aee1",
   "metadata": {},
   "source": [
    "### Type of programming in python\n",
    "1. Function Programming\n",
    "2. Procedure Oriented Programming\n",
    "3. Object Oriented Programming"
   ]
  },
  {
   "cell_type": "markdown",
   "id": "cd784e8d",
   "metadata": {},
   "source": [
    "### class and object in python"
   ]
  },
  {
   "cell_type": "code",
   "execution_count": 2,
   "id": "f7323275",
   "metadata": {},
   "outputs": [
    {
     "data": {
      "text/plain": [
       "'\\nclass - Design  --> Example: Building Mobile Design and their Blueprint\\nobject - instance --> Example : Based on blueprint we can manufature multiple phone.\\n'"
      ]
     },
     "execution_count": 2,
     "metadata": {},
     "output_type": "execute_result"
    }
   ],
   "source": [
    "\"\"\"\n",
    "class - Design  --> Example: Building Mobile Design and their Blueprint\n",
    "object - instance --> Example : Based on blueprint we can manufature multiple phone.\n",
    "\"\"\""
   ]
  },
  {
   "cell_type": "code",
   "execution_count": 3,
   "id": "d9075324",
   "metadata": {},
   "outputs": [],
   "source": [
    "class Customer:  # Attribute --> Variable and Behaviour --> Methods(function)\n",
    "    pass\n",
    "com1 = Customer()"
   ]
  },
  {
   "cell_type": "code",
   "execution_count": 5,
   "id": "a92bd043",
   "metadata": {},
   "outputs": [
    {
     "name": "stdout",
     "output_type": "stream",
     "text": [
      "i3,8GB,1TB\n",
      "i3,8GB,1TB\n"
     ]
    }
   ],
   "source": [
    "class Computer:\n",
    "    def config(self):\n",
    "       print(\"i3,8GB,1TB\")\n",
    "    \n",
    "com1 = Computer()\n",
    "com1.config()\n",
    "com2 = Computer()\n",
    "com2.config()"
   ]
  },
  {
   "cell_type": "markdown",
   "id": "b1e5c3cb",
   "metadata": {},
   "source": [
    "### \"__init__\" Method in python"
   ]
  },
  {
   "cell_type": "code",
   "execution_count": 6,
   "id": "0f1b9e06",
   "metadata": {},
   "outputs": [
    {
     "data": {
      "text/plain": [
       "'\\nSpecial- 1. Special Variable(__name__)\\n         2. Special Variable(__init__)\\n'"
      ]
     },
     "execution_count": 6,
     "metadata": {},
     "output_type": "execute_result"
    }
   ],
   "source": [
    "\"\"\"\n",
    "Special- 1. Special Variable(__name__)\n",
    "         2. Special Variable(__init__)\n",
    "\"\"\""
   ]
  },
  {
   "cell_type": "code",
   "execution_count": 8,
   "id": "60b40b94",
   "metadata": {},
   "outputs": [
    {
     "name": "stdout",
     "output_type": "stream",
     "text": [
      "<class '__main__.Computer'>\n",
      "Config is: i3 8gb\n",
      "Config is: i5 16gm\n"
     ]
    }
   ],
   "source": [
    "class Computer:\n",
    "    def __init__(self,cpu,ram):\n",
    "        self.cpu = cpu\n",
    "        self.ram = ram\n",
    "    \n",
    "    def config(self):\n",
    "        print(\"Config is:\",self.cpu,self.ram)\n",
    "\n",
    "\n",
    "\n",
    "com1 = Computer(\"i3\",\"8gb\")\n",
    "com2 = Computer(\"i5\",\"16gm\")\n",
    "print(type(com1))\n",
    "com1.config()\n",
    "com2.config()"
   ]
  },
  {
   "cell_type": "markdown",
   "id": "ccada6a4",
   "metadata": {},
   "source": [
    "Size of an Object?\n",
    "--> Depends on the number of variable and size of each variable\n",
    "\n",
    "Who allocates size of object?\n",
    "--> Constructor"
   ]
  },
  {
   "cell_type": "markdown",
   "id": "6c7ace9d",
   "metadata": {},
   "source": [
    "### Constructor, self and Comparing object in python"
   ]
  },
  {
   "cell_type": "code",
   "execution_count": 15,
   "id": "5ef7afc3",
   "metadata": {},
   "outputs": [
    {
     "name": "stdout",
     "output_type": "stream",
     "text": [
      "They are not same\n",
      "Navin 25\n",
      "Navin 30\n"
     ]
    }
   ],
   "source": [
    "class computer:\n",
    "    def __init__(self):\n",
    "        # Initialize default values for every new computer object\n",
    "        self.name = \"Navin\"  # Default name\n",
    "        self.age = 25        # Default age\n",
    "        \n",
    "    def compare(self, other):  # Here self take c1 first computer object and other is c2 second computer object.\n",
    "        # Method to compare ages of two computer objects\n",
    "        if self.age == other.age:  # If ages are the same\n",
    "            return True            # Return True\n",
    "        return False               # Otherwise, return False\n",
    "        \n",
    "c1 = computer()  # Create first computer object\n",
    "c2 = computer()  # Create second computer object\n",
    "c2.age = 30     # Change age of second computer object\n",
    "\n",
    "if c1.compare(c2):  # If ages of c1 and c2 are the same\n",
    "    print(\"They are same\")  # Print message indicating they are the same\n",
    "else:\n",
    "    print(\"They are not same\")  # Print message indicating they are not the same\n",
    "    \n",
    "# Print details of both computer objects\n",
    "print(c1.name, c1.age)  # Print name and age of first computer object\n",
    "print(c2.name, c2.age)  # Print name and age of second computer object\n"
   ]
  },
  {
   "cell_type": "markdown",
   "id": "9c607780",
   "metadata": {},
   "source": [
    "### Type of variable in python"
   ]
  },
  {
   "cell_type": "code",
   "execution_count": 17,
   "id": "9fc410f1",
   "metadata": {},
   "outputs": [
    {
     "data": {
      "text/plain": [
       "'\\nVariable are Two types:\\nVariable: 1. Instance Variable\\n          2. Class Variable  also known as static variable ---> It just for Variable not for method, In method its differet.\\n'"
      ]
     },
     "execution_count": 17,
     "metadata": {},
     "output_type": "execute_result"
    }
   ],
   "source": [
    "\"\"\"\n",
    "Variable are Two types:\n",
    "Variable: 1. Instance Variable\n",
    "          2. Class Variable  also known as static variable ---> It just for Variable not for method, In method its differet.\n",
    "\"\"\""
   ]
  },
  {
   "cell_type": "code",
   "execution_count": 20,
   "id": "3dc70a8a",
   "metadata": {},
   "outputs": [
    {
     "name": "stdout",
     "output_type": "stream",
     "text": [
      "10 BMW\n",
      "10 TOYOTA\n"
     ]
    }
   ],
   "source": [
    "# Define a class named Car\n",
    "class Car:\n",
    "    # Constructor method to initialize instance variables\n",
    "    def __init__(self):\n",
    "        self.miles = 10   # Instance variable 'miles' initialized to 10 for each Car object\n",
    "        self.brand = \"BMW\"   # Instance variable 'brand' initialized to \"BMW\" for each Car object\n",
    "\n",
    "# Create two instances of the Car class\n",
    "c1 = Car()  # Instance c1\n",
    "c2 = Car()  # Instance c2\n",
    "\n",
    "# Modify the brand of c2 to \"TOYOTA\"\n",
    "c2.brand = \"TOYOTA\"\n",
    "\n",
    "# Print the values of the miles and brand instance variables for both c1 and c2\n",
    "print(c1.miles, c1.brand)  # Print the miles and brand for c1\n",
    "print(c2.miles, c2.brand)  # Print the miles and brand for c2"
   ]
  },
  {
   "cell_type": "code",
   "execution_count": 26,
   "id": "ce988440",
   "metadata": {},
   "outputs": [
    {
     "name": "stdout",
     "output_type": "stream",
     "text": [
      "10 BMW 4\n",
      "10 TOYOTA 4\n"
     ]
    }
   ],
   "source": [
    "# Define a class named Car\n",
    "class Car:\n",
    "    wheels = 4  # Class Variable; it is shared among all instances and can't be changed during object creation and this is class namespace\n",
    "    # Constructor method to initialize instance variables\n",
    "    def __init__(self):\n",
    "        self.miles = 10   # Instance variable 'miles' initialized to 10 for each Car object and this is instance namespace\n",
    "        self.brand = \"BMW\"   # Instance variable 'brand' initialized to \"BMW\" for each Car object\n",
    "\n",
    "# Create two instances of the Car class\n",
    "c1 = Car()  # Instance c1\n",
    "c2 = Car()  # Instance c2\n",
    "\n",
    "# Modify the brand of c2 to \"TOYOTA\"\n",
    "c2.brand = \"TOYOTA\"\n",
    "\n",
    "# Print the values of the miles, brand, and wheels instance variables for both c1 and c2\n",
    "print(c1.miles, c1.brand, c1.wheels)  # Print the miles, brand, and wheels for c1\n",
    "print(c2.miles, c2.brand, c2.wheels)  # Print the miles, brand, and wheels for c2"
   ]
  },
  {
   "cell_type": "markdown",
   "id": "034a1749",
   "metadata": {},
   "source": [
    "Namespace is an area where you create and store objects/variable\n",
    "- class namespace\n",
    "- Obect/Instance namespace"
   ]
  },
  {
   "cell_type": "markdown",
   "id": "3337be03",
   "metadata": {},
   "source": [
    "### Types of methods in python"
   ]
  },
  {
   "cell_type": "code",
   "execution_count": 27,
   "id": "85b04648",
   "metadata": {},
   "outputs": [
    {
     "data": {
      "text/plain": [
       "'\\nTypes of Methods:\\nMethods  --> 1. Instance Methods\\n             2. Class Methods\\n             3. Static Methods\\n'"
      ]
     },
     "execution_count": 27,
     "metadata": {},
     "output_type": "execute_result"
    }
   ],
   "source": [
    "\"\"\"\n",
    "Types of Methods:\n",
    "Methods  --> 1. Instance Methods\n",
    "             2. Class Methods\n",
    "             3. Static Methods\n",
    "\"\"\""
   ]
  },
  {
   "cell_type": "code",
   "execution_count": 34,
   "id": "fdbdbfbc",
   "metadata": {
    "scrolled": true
   },
   "outputs": [
    {
     "name": "stdout",
     "output_type": "stream",
     "text": [
      "Dayanand\n",
      "Average of Student one: Dayanand : 53.0\n",
      "Average of Student Two: Dayanand : 85.0\n",
      "m1 of Student one: 36\n",
      "m1 of Student Two: 96\n",
      "Updated m1 of Student one: 50\n",
      "Updated m1 of Student Two: 60\n"
     ]
    }
   ],
   "source": [
    "# Instance Method\n",
    "class Student:\n",
    "    school = \"Dayanand\"  # Fixed the spelling of the school name\n",
    "    \n",
    "    def __init__(self, m1, m2, m3):\n",
    "        self.m1 = m1\n",
    "        self.m2 = m2\n",
    "        self.m3 = m3\n",
    "        \n",
    "    def avg(self):\n",
    "        return (self.m1 + self.m2 + self.m3) / 3\n",
    "    \n",
    "    def get_m1(self):\n",
    "        return self.m1\n",
    "    \n",
    "    def set_m1(self, value):\n",
    "        self.m1 = value  # Fixed the assignment of value to self.m1 instead of self.value\n",
    "\n",
    "print(Student.school)\n",
    "# Create instances of the Student class\n",
    "s1 = Student(36, 45, 78)\n",
    "s2 = Student(96, 85, 74)\n",
    "\n",
    "# Print the averages of both students\n",
    "print(\"Average of Student one:\",s1.school,\":\", s1.avg())\n",
    "print(\"Average of Student Two:\",s1.school,\":\", s2.avg())\n",
    "\n",
    "# Get and print the value of m1 for both students\n",
    "print(\"m1 of Student one:\", s1.get_m1())\n",
    "print(\"m1 of Student Two:\", s2.get_m1())\n",
    "\n",
    "# Set new values for m1 for both students\n",
    "s1.set_m1(50)\n",
    "s2.set_m1(60)\n",
    "\n",
    "# Print the new value of m1 for both students\n",
    "print(\"Updated m1 of Student one:\", s1.get_m1())\n",
    "print(\"Updated m1 of Student Two:\", s2.get_m1())\n"
   ]
  },
  {
   "cell_type": "code",
   "execution_count": 45,
   "id": "34d2e637",
   "metadata": {},
   "outputs": [
    {
     "name": "stdout",
     "output_type": "stream",
     "text": [
      "56.0\n",
      "85.0\n",
      "Dayanand\n",
      "Dayanand\n",
      "Dayanand\n"
     ]
    }
   ],
   "source": [
    "# Class Method\n",
    "class Student:\n",
    "    school = \"Dayanand\"  # Class variable\n",
    "    \n",
    "    def __init__(self, m1, m2, m3):\n",
    "        self.m1 = m1\n",
    "        self.m2 = m2\n",
    "        self.m3 = m3\n",
    "        \n",
    "    def avg(self):\n",
    "        return (self.m1 + self.m2 + self.m3) / 3\n",
    "    \n",
    "    @classmethod\n",
    "    def getschool(cls):\n",
    "        return cls.school  # Accessing the class variable using the class method\n",
    "\n",
    "# Create instances of the Student class\n",
    "s1 = Student(23, 56, 89)\n",
    "s2 = Student(96, 85, 74)\n",
    "\n",
    "# Print the averages of both students\n",
    "print(s1.avg())\n",
    "print(s2.avg())\n",
    "\n",
    "# Access and print the school name using class name and instance\n",
    "print(Student.school)  # Accessing class variable using class name\n",
    "print(s1.school)  # Accessing class variable using instance\n",
    "\n",
    "# Access and print the school name using the class method\n",
    "print(Student.getschool())  # Accessing class variable using class method\n"
   ]
  },
  {
   "cell_type": "code",
   "execution_count": 46,
   "id": "274dd3d6",
   "metadata": {},
   "outputs": [
    {
     "name": "stdout",
     "output_type": "stream",
     "text": [
      "56.0\n",
      "85.0\n",
      "Dayanand\n",
      "Dayanand\n",
      "Dayanand\n",
      "This is a Student class in abc module\n"
     ]
    }
   ],
   "source": [
    "# Static Method\n",
    "class Student:\n",
    "    school = \"Dayanand\"  # Class variable\n",
    "    \n",
    "    def __init__(self, m1, m2, m3):\n",
    "        self.m1 = m1\n",
    "        self.m2 = m2\n",
    "        self.m3 = m3\n",
    "        \n",
    "    def avg(self):\n",
    "        return (self.m1 + self.m2 + self.m3) / 3\n",
    "    \n",
    "    @classmethod\n",
    "    def getschool(cls):\n",
    "        return cls.school  # Accessing the class variable using the class method\n",
    "    \n",
    "    @staticmethod\n",
    "    def info():\n",
    "        print(\"This is a Student class in abc module\")\n",
    "\n",
    "# Create instances of the Student class\n",
    "s1 = Student(23, 56, 89)\n",
    "s2 = Student(96, 85, 74)\n",
    "\n",
    "# Print the averages of both students\n",
    "print(s1.avg())\n",
    "print(s2.avg())\n",
    "\n",
    "# Access and print the school name using class name and instance\n",
    "print(Student.school)  # Accessing class variable using class name\n",
    "print(s1.school)  # Accessing class variable using instance\n",
    "\n",
    "# Access and print the school name using the class method\n",
    "print(Student.getschool())  # Accessing class variable using class method\n",
    "\n",
    "# Call the static method to print information about the Student class\n",
    "Student.info()\n"
   ]
  },
  {
   "cell_type": "code",
   "execution_count": 47,
   "id": "6ded5ab7",
   "metadata": {},
   "outputs": [
    {
     "data": {
      "text/plain": [
       "'\\nClass has A Two Type:\\nClass --> 1. Variable\\n          2. Methods / Function\\n'"
      ]
     },
     "execution_count": 47,
     "metadata": {},
     "output_type": "execute_result"
    }
   ],
   "source": [
    "\"\"\"\n",
    "Class has A Two Type:\n",
    "Class --> 1. Variable\n",
    "          2. Methods / Function\n",
    "\"\"\""
   ]
  },
  {
   "cell_type": "markdown",
   "id": "dd1631e8",
   "metadata": {},
   "source": [
    "### Inner class in python"
   ]
  },
  {
   "cell_type": "code",
   "execution_count": 55,
   "id": "68eb8f3a",
   "metadata": {},
   "outputs": [
    {
     "name": "stdout",
     "output_type": "stream",
     "text": [
      "Name: Navin Roll No: 56\n",
      "Laptop Brand: HP CPU: i3 RAM: 8\n",
      "Name: Rajesh Roll No: 89\n",
      "Laptop Brand: HP CPU: i3 RAM: 8\n"
     ]
    }
   ],
   "source": [
    "class Student:\n",
    "    def __init__(self, name, rollno):\n",
    "        self.name = name\n",
    "        self.rollno = rollno\n",
    "        self.lap = self.Laptop()\n",
    "        \n",
    "    def show(self):\n",
    "        print(\"Name:\", self.name, \"Roll No:\", self.rollno)\n",
    "        self.lap.show()\n",
    "        \n",
    "    class Laptop:\n",
    "        def __init__(self):\n",
    "            self.brand = \"HP\"\n",
    "            self.cpu = \"i3\"\n",
    "            self.ram = 8\n",
    "        \n",
    "        def show(self):\n",
    "            print(\"Laptop Brand:\", self.brand, \"CPU:\", self.cpu, \"RAM:\", self.ram)\n",
    "            \n",
    "s1 = Student(\"Navin\", 56)\n",
    "s2 = Student(\"Rajesh\", 89)\n",
    "\n",
    "s1.show()\n",
    "s2.show()\n",
    "\n",
    "# l1 = s1.lap\n",
    "# l2 = s2.lap\n",
    "\n",
    "# print(\"Memory address of l1:\", id(l1))\n",
    "# print(\"Memory address of l2:\", id(l2))\n"
   ]
  },
  {
   "cell_type": "code",
   "execution_count": 56,
   "id": "b2638c36",
   "metadata": {},
   "outputs": [
    {
     "name": "stdout",
     "output_type": "stream",
     "text": [
      "Student: Navin Roll No: 56\n",
      "Laptop Brand: HP\n",
      "Laptop CPU: i3\n",
      "Laptop RAM: 8\n",
      "\n",
      "Student: Rajesh Roll No: 89\n",
      "Laptop Brand: HP\n",
      "Laptop CPU: i3\n",
      "Laptop RAM: 8\n",
      "1815048788752\n",
      "1815062739856\n"
     ]
    }
   ],
   "source": [
    "class Student:\n",
    "    def __init__(self, name, rollno):\n",
    "        self.name = name\n",
    "        self.rollno = rollno\n",
    "        self.lap = self.Laptop()  # Creating an instance of the Laptop class within the Student class\n",
    "\n",
    "    def show(self):\n",
    "        print(\"Student:\", self.name, \"Roll No:\", self.rollno)\n",
    "        print(\"Laptop Brand:\", self.lap.brand)\n",
    "        print(\"Laptop CPU:\", self.lap.cpu)\n",
    "        print(\"Laptop RAM:\", self.lap.ram)\n",
    "\n",
    "    class Laptop:\n",
    "        def __init__(self):\n",
    "            self.brand = \"HP\"\n",
    "            self.cpu = \"i3\"\n",
    "            self.ram = 8\n",
    "\n",
    "# Create instances of the Student class\n",
    "s1 = Student(\"Navin\", 56)\n",
    "s2 = Student(\"Rajesh\", 89)\n",
    "\n",
    "# Call the show method to display student information including laptop details\n",
    "s1.show()\n",
    "print()  # Print an empty line for clarity\n",
    "s2.show()\n",
    "l1 = s1.lap\n",
    "l2 = s2.lap\n",
    "print(id(l1))\n",
    "print(id(l2))"
   ]
  },
  {
   "cell_type": "markdown",
   "id": "2b877be0",
   "metadata": {},
   "source": [
    "### Inheritance in python"
   ]
  },
  {
   "cell_type": "code",
   "execution_count": 57,
   "id": "9dbee69c",
   "metadata": {},
   "outputs": [
    {
     "data": {
      "text/plain": [
       "'\\nType of Inhetitance:\\nInheritance --> 1. Single Level\\n                2. Multi Lavel\\n                3. Multiple\\n'"
      ]
     },
     "execution_count": 57,
     "metadata": {},
     "output_type": "execute_result"
    }
   ],
   "source": [
    "\"\"\"\n",
    "Type of Inhetitance:\n",
    "Inheritance --> 1. Single Level\n",
    "                2. Multi Lavel\n",
    "                3. Multiple\n",
    "\"\"\""
   ]
  },
  {
   "cell_type": "code",
   "execution_count": 63,
   "id": "e675b5a8",
   "metadata": {},
   "outputs": [
    {
     "name": "stdout",
     "output_type": "stream",
     "text": [
      "Feature 1 is Working\n",
      "Feature 2 is Working\n",
      "\r\n",
      "Feature 1 is Working\n",
      "Feature 2 is Working\n",
      "Feature 3 is Working\n",
      "Feature 4 is Working\n"
     ]
    }
   ],
   "source": [
    "# Single lavel\n",
    "class A:\n",
    "    def feature1(self):\n",
    "        print(\"Feature 1 is Working\")\n",
    "        \n",
    "    def feature2(self):\n",
    "        print(\"Feature 2 is Working\")\n",
    "        \n",
    "class B(A):\n",
    "    def feature3(self):\n",
    "        print(\"Feature 3 is Working\")\n",
    "        \n",
    "    def feature4(self):\n",
    "        print(\"Feature 4 is Working\")\n",
    "\n",
    "# Create an object of class A\n",
    "a1 = A()\n",
    "\n",
    "# Call methods from class A\n",
    "a1.feature1()\n",
    "a1.feature2()\n",
    "print(\"\\r\")\n",
    "b1 = B()\n",
    "b1.feature1()\n",
    "b1.feature2()\n",
    "b1.feature3()\n",
    "b1.feature4()"
   ]
  },
  {
   "cell_type": "code",
   "execution_count": 64,
   "id": "bf237e04",
   "metadata": {},
   "outputs": [
    {
     "name": "stdout",
     "output_type": "stream",
     "text": [
      "This is parent method\n",
      "This is child method\n"
     ]
    }
   ],
   "source": [
    "# Single-level inheritance\n",
    "class Parent:\n",
    "    def parent_method(self):\n",
    "        print(\"This is parent method\")\n",
    "\n",
    "class Child(Parent):\n",
    "    def child_method(self):\n",
    "        print(\"This is child method\")\n",
    "\n",
    "# Create an object of Child class\n",
    "child_obj = Child()\n",
    "\n",
    "# Access methods of both Parent and Child classes\n",
    "child_obj.parent_method()\n",
    "child_obj.child_method()\n"
   ]
  },
  {
   "cell_type": "code",
   "execution_count": 65,
   "id": "fe8a8873",
   "metadata": {},
   "outputs": [
    {
     "name": "stdout",
     "output_type": "stream",
     "text": [
      "This is grandparent method\n",
      "This is parent method\n",
      "This is child method\n"
     ]
    }
   ],
   "source": [
    "# Multi-level inheritance\n",
    "class Grandparent:\n",
    "    def grandparent_method(self):\n",
    "        print(\"This is grandparent method\")\n",
    "\n",
    "class Parent(Grandparent):\n",
    "    def parent_method(self):\n",
    "        print(\"This is parent method\")\n",
    "\n",
    "class Child(Parent):\n",
    "    def child_method(self):\n",
    "        print(\"This is child method\")\n",
    "\n",
    "# Create an object of Child class\n",
    "child_obj = Child()\n",
    "\n",
    "# Access methods of all three classes\n",
    "child_obj.grandparent_method()\n",
    "child_obj.parent_method()\n",
    "child_obj.child_method()\n"
   ]
  },
  {
   "cell_type": "code",
   "execution_count": 66,
   "id": "1fe20714",
   "metadata": {},
   "outputs": [
    {
     "name": "stdout",
     "output_type": "stream",
     "text": [
      "Method A from ClassA\n",
      "Method B from ClassB\n",
      "Method C from ClassC\n"
     ]
    }
   ],
   "source": [
    "# Multiple inheritance\n",
    "class ClassA:\n",
    "    def method_A(self):\n",
    "        print(\"Method A from ClassA\")\n",
    "\n",
    "class ClassB:\n",
    "    def method_B(self):\n",
    "        print(\"Method B from ClassB\")\n",
    "\n",
    "class ClassC(ClassA, ClassB):\n",
    "    def method_C(self):\n",
    "        print(\"Method C from ClassC\")\n",
    "\n",
    "# Create an object of ClassC\n",
    "obj_C = ClassC()\n",
    "\n",
    "# Access methods from all parent classes\n",
    "obj_C.method_A()\n",
    "obj_C.method_B()\n",
    "obj_C.method_C()\n"
   ]
  },
  {
   "cell_type": "markdown",
   "id": "457d9baa",
   "metadata": {},
   "source": [
    "### Constructor in inheritance Python"
   ]
  },
  {
   "cell_type": "markdown",
   "id": "a8a9688a",
   "metadata": {},
   "source": [
    "To represent Super class we use super method"
   ]
  },
  {
   "cell_type": "code",
   "execution_count": 67,
   "id": "338979e0",
   "metadata": {},
   "outputs": [
    {
     "name": "stdout",
     "output_type": "stream",
     "text": [
      "Parent constructor\n",
      "Child constructor\n"
     ]
    }
   ],
   "source": [
    "class Parent:\n",
    "    def __init__(self):\n",
    "        print(\"Parent constructor\")\n",
    "\n",
    "class Child(Parent):\n",
    "    def __init__(self):\n",
    "        super().__init__()  # Calling the constructor of the parent class\n",
    "        print(\"Child constructor\")\n",
    "\n",
    "# Creating an object of Child class\n",
    "child_obj = Child()\n"
   ]
  },
  {
   "cell_type": "code",
   "execution_count": 73,
   "id": "91e1107d",
   "metadata": {},
   "outputs": [
    {
     "name": "stdout",
     "output_type": "stream",
     "text": [
      "A Class\n",
      "B Class\n",
      "This is 1 Feature\n",
      "This is 2 Feature\n",
      "This is 3 Feature\n",
      "This is 4 Feature\n"
     ]
    }
   ],
   "source": [
    "class A:\n",
    "    def __init__(self):\n",
    "        print(\"A Class\")\n",
    "        \n",
    "    def feature1(self):\n",
    "        print(\"This is 1 Feature\")\n",
    "        \n",
    "    def feature2(self):\n",
    "        print(\"This is 2 Feature\")\n",
    "\n",
    "class B(A):\n",
    "    def __init__(self):\n",
    "        super().__init__()  # Call the constructor of the parent class A\n",
    "        print(\"B Class\")\n",
    "        \n",
    "    def feature3(self):\n",
    "        print(\"This is 3 Feature\")\n",
    "        \n",
    "    def feature4(self):\n",
    "        print(\"This is 4 Feature\")\n",
    "        \n",
    "a1 = B()  # Create an object of class B\n",
    "a1.feature1()  # Call method feature1 from class A\n",
    "a1.feature2()  # Call method feature2 from class A\n",
    "a1.feature3()  # Call method feature3 from class B\n",
    "a1.feature4()  # Call method feature4 from class B\n"
   ]
  },
  {
   "cell_type": "code",
   "execution_count": 77,
   "id": "2fd5b1b7",
   "metadata": {},
   "outputs": [
    {
     "name": "stdout",
     "output_type": "stream",
     "text": [
      "Method from class B\n",
      "(<class '__main__.D'>, <class '__main__.B'>, <class '__main__.C'>, <class '__main__.A'>, <class 'object'>)\n"
     ]
    }
   ],
   "source": [
    "# Method Resution Order (MRO)\n",
    "class A:\n",
    "    def method(self):\n",
    "        print(\"Method from class A\")\n",
    "\n",
    "class B(A):\n",
    "    def method(self):\n",
    "        print(\"Method from class B\")\n",
    "\n",
    "class C(A):\n",
    "    def method(self):\n",
    "        print(\"Method from class C\")\n",
    "\n",
    "class D(B, C):\n",
    "    pass\n",
    "a1 = D()\n",
    "a1.method()\n",
    "# Accessing the MRO\n",
    "print(D.__mro__)\n"
   ]
  },
  {
   "cell_type": "code",
   "execution_count": null,
   "id": "b9761bf3",
   "metadata": {},
   "outputs": [],
   "source": [
    "\"\"\"\n",
    "Type of Polymorphism:\n",
    "Polymorphism --> 1. Duck Typing\n",
    "                 2. Operator oberloading\n",
    "                 3. Method Overloading\n",
    "                 4. Method Overriding\n",
    "\"\"\""
   ]
  },
  {
   "cell_type": "markdown",
   "id": "516ac2cb",
   "metadata": {},
   "source": [
    "## Polymorphism in python\n",
    "### 1. Duck Typing in python\n",
    "If it looks like a duck,swims like a duck, and quacks like a duck then it probably is duck"
   ]
  },
  {
   "cell_type": "code",
   "execution_count": 78,
   "id": "72d32a9d",
   "metadata": {},
   "outputs": [
    {
     "name": "stdout",
     "output_type": "stream",
     "text": [
      "Woof\n",
      "Meow\n"
     ]
    }
   ],
   "source": [
    "class Dog:\n",
    "    def sound(self):\n",
    "        print(\"Woof\")\n",
    "\n",
    "class Cat:\n",
    "    def sound(self):\n",
    "        print(\"Meow\")\n",
    "\n",
    "def make_sound(animal):\n",
    "    animal.sound()\n",
    "\n",
    "dog = Dog()\n",
    "cat = Cat()\n",
    "\n",
    "make_sound(dog)  # Outputs: Woof\n",
    "make_sound(cat)  # Outputs: Meow\n"
   ]
  },
  {
   "cell_type": "markdown",
   "id": "a047e55f",
   "metadata": {},
   "source": [
    "### 2. Operator overloading in python | Polymorphism"
   ]
  },
  {
   "cell_type": "code",
   "execution_count": 79,
   "id": "3b1863bd",
   "metadata": {},
   "outputs": [
    {
     "name": "stdout",
     "output_type": "stream",
     "text": [
      "4 6\n"
     ]
    }
   ],
   "source": [
    "class Point:\n",
    "    def __init__(self, x, y):\n",
    "        self.x = x\n",
    "        self.y = y\n",
    "\n",
    "    def __add__(self, other):\n",
    "        return Point(self.x + other.x, self.y + other.y)\n",
    "\n",
    "p1 = Point(1, 2)\n",
    "p2 = Point(3, 4)\n",
    "p3 = p1 + p2\n",
    "print(p3.x, p3.y)  # Outputs: 4 6\n"
   ]
  },
  {
   "cell_type": "markdown",
   "id": "e1676d7d",
   "metadata": {},
   "source": [
    "### 3. Method Overloading And Method Overriding in python"
   ]
  },
  {
   "cell_type": "code",
   "execution_count": 81,
   "id": "c166681d",
   "metadata": {},
   "outputs": [
    {
     "name": "stdout",
     "output_type": "stream",
     "text": [
      "9\n"
     ]
    }
   ],
   "source": [
    "class Calculator:\n",
    "    def add(self, a, b):\n",
    "        return a + b\n",
    "\n",
    "    def add(self, a, b, c):\n",
    "        return a + b + c\n",
    "\n",
    "calc = Calculator()\n",
    "#print(calc.add(2, 3))     # This will raise an error\n",
    "print(calc.add(2, 3, 4))  # Outputs: 9\n"
   ]
  },
  {
   "cell_type": "code",
   "execution_count": 82,
   "id": "607bbe0d",
   "metadata": {},
   "outputs": [
    {
     "name": "stdout",
     "output_type": "stream",
     "text": [
      "Woof\n",
      "Meow\n"
     ]
    }
   ],
   "source": [
    "# method overriding\n",
    "class Animal:\n",
    "    def sound(self):\n",
    "        print(\"Generic animal sound\")\n",
    "\n",
    "class Dog(Animal):\n",
    "    def sound(self):\n",
    "        print(\"Woof\")\n",
    "\n",
    "class Cat(Animal):\n",
    "    def sound(self):\n",
    "        print(\"Meow\")\n",
    "\n",
    "dog = Dog()\n",
    "cat = Cat()\n",
    "\n",
    "dog.sound()  # Outputs: Woof\n",
    "cat.sound()  # Outputs: Meow\n"
   ]
  },
  {
   "cell_type": "code",
   "execution_count": null,
   "id": "1d05a03c",
   "metadata": {},
   "outputs": [],
   "source": []
  }
 ],
 "metadata": {
  "kernelspec": {
   "display_name": "Python 3 (ipykernel)",
   "language": "python",
   "name": "python3"
  },
  "language_info": {
   "codemirror_mode": {
    "name": "ipython",
    "version": 3
   },
   "file_extension": ".py",
   "mimetype": "text/x-python",
   "name": "python",
   "nbconvert_exporter": "python",
   "pygments_lexer": "ipython3",
   "version": "3.11.5"
  }
 },
 "nbformat": 4,
 "nbformat_minor": 5
}
