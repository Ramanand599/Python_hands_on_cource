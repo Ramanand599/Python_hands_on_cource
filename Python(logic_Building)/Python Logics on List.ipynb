{
 "cells": [
  {
   "cell_type": "markdown",
   "id": "9432c64c",
   "metadata": {},
   "source": [
    "### How to count unique values inside a list"
   ]
  },
  {
   "cell_type": "code",
   "execution_count": 2,
   "id": "5c9c40d1",
   "metadata": {},
   "outputs": [
    {
     "name": "stdout",
     "output_type": "stream",
     "text": [
      "[INFO] The unique values in list is:[1, 2, 5, 8, 4]\n"
     ]
    }
   ],
   "source": [
    "input_list = [1, 2, 2, 5, 8, 4, 4, 8]\n",
    "lst=[]\n",
    "count=0\n",
    "for i in input_list:\n",
    "    if i not in lst:\n",
    "        count += 1\n",
    "        lst.append(i)\n",
    "        \n",
    "print(f\"[INFO] The unique values in list is:{lst}\")"
   ]
  },
  {
   "cell_type": "code",
   "execution_count": 9,
   "id": "4366f95d",
   "metadata": {},
   "outputs": [
    {
     "name": "stdout",
     "output_type": "stream",
     "text": [
      "5\n"
     ]
    }
   ],
   "source": [
    "input_list = [1, 2, 2, 5, 8, 4, 4, 8]\n",
    "lst=set(input_list)\n",
    "print(len(lst))"
   ]
  },
  {
   "cell_type": "code",
   "execution_count": 7,
   "id": "f85b3994",
   "metadata": {},
   "outputs": [
    {
     "name": "stdout",
     "output_type": "stream",
     "text": [
      "[INFO] The unique values in list is:5\n"
     ]
    }
   ],
   "source": [
    "from collections import Counter\n",
    "input_list = [1, 2, 2, 5, 8, 4, 4, 8]\n",
    "result=Counter(input_list).keys()\n",
    "print(f\"[INFO] The unique values in list is:{len(result)}\")"
   ]
  },
  {
   "cell_type": "markdown",
   "id": "dd85f085",
   "metadata": {},
   "source": [
    "### List product excluding duplicates"
   ]
  },
  {
   "cell_type": "code",
   "execution_count": 15,
   "id": "5d094e50",
   "metadata": {},
   "outputs": [
    {
     "name": "stdout",
     "output_type": "stream",
     "text": [
      "The original list is : [1, 3, 5, 6, 3, 5, 6, 1]\n",
      "Duplication removal list product : 90\n"
     ]
    }
   ],
   "source": [
    "test_list = [1, 3, 5, 6, 3, 5, 6, 1]\n",
    "print(\"The original list is : \" + str(test_list))\n",
    "\n",
    "x = list(set(test_list))\n",
    "prod = 1\n",
    "for i in x:\n",
    "    prod *= i\n",
    "\n",
    "print(\"Duplication removal list product : \" + str(prod))"
   ]
  },
  {
   "cell_type": "code",
   "execution_count": 19,
   "id": "ed077d20",
   "metadata": {},
   "outputs": [
    {
     "data": {
      "text/plain": [
       "90"
      ]
     },
     "execution_count": 19,
     "metadata": {},
     "output_type": "execute_result"
    }
   ],
   "source": [
    "from functools import reduce\n",
    "test_list = [1, 3, 5, 6, 3, 5, 6, 1]\n",
    "result=reduce(lambda x,y:x*y,set(test_list),1)\n",
    "result"
   ]
  },
  {
   "cell_type": "code",
   "execution_count": 20,
   "id": "363d453c",
   "metadata": {},
   "outputs": [
    {
     "data": {
      "text/plain": [
       "90"
      ]
     },
     "execution_count": 20,
     "metadata": {},
     "output_type": "execute_result"
    }
   ],
   "source": [
    "import math\n",
    "def product(test_list):\n",
    "    lst=set(test_list)\n",
    "    return math.prod(lst)\n",
    "\n",
    "test_list = [1, 3, 5, 6, 3, 5, 6, 1]\n",
    "result=product(test_list)\n",
    "result"
   ]
  },
  {
   "cell_type": "code",
   "execution_count": 21,
   "id": "e209de7b",
   "metadata": {},
   "outputs": [
    {
     "data": {
      "text/plain": [
       "90"
      ]
     },
     "execution_count": 21,
     "metadata": {},
     "output_type": "execute_result"
    }
   ],
   "source": [
    "import numpy as np\n",
    "test_list = [1, 3, 5, 6, 3, 5, 6, 1]\n",
    "lst_array=np.unique(np.array(test_list))\n",
    "result=np.prod(lst_array)\n",
    "result"
   ]
  },
  {
   "cell_type": "markdown",
   "id": "cbdc3e65",
   "metadata": {},
   "source": [
    "### Extract elements with Frequency greater than K"
   ]
  },
  {
   "cell_type": "code",
   "execution_count": 23,
   "id": "edd4b704",
   "metadata": {},
   "outputs": [
    {
     "name": "stdout",
     "output_type": "stream",
     "text": [
      "[INFO]The frequency greater then 2 is:[4, 3]\n"
     ]
    }
   ],
   "source": [
    "test_list = [4, 6, 4, 3, 3, 4, 3, 7, 8, 8]\n",
    "k=2\n",
    "lst=[]\n",
    "for i in test_list:\n",
    "    freq=test_list.count(i)\n",
    "    if freq>k and i not in lst:\n",
    "        lst.append(i)\n",
    "        \n",
    "print(f\"[INFO]The frequency greater then {k} is:{lst}\")\n",
    "        "
   ]
  },
  {
   "cell_type": "code",
   "execution_count": 25,
   "id": "a7c34c81",
   "metadata": {},
   "outputs": [
    {
     "name": "stdout",
     "output_type": "stream",
     "text": [
      "[INFO]The frequency greater then 2 is:[4, 3]\n"
     ]
    }
   ],
   "source": [
    "from collections import Counter\n",
    "test_list = [4, 6, 4, 3, 3, 4, 3, 7, 8, 8]\n",
    "k=2\n",
    "result=[ele for ele,count in Counter(test_list).items() if count>k]\n",
    "print(f\"[INFO]The frequency greater then {k} is:{result}\")\n"
   ]
  },
  {
   "cell_type": "code",
   "execution_count": 27,
   "id": "6fe8e01a",
   "metadata": {},
   "outputs": [
    {
     "name": "stdout",
     "output_type": "stream",
     "text": [
      "Counter({4: 3, 3: 3, 8: 2, 6: 1, 7: 1})\n",
      "[INFO]The frequency greater then 2 is:[4, 3]\n"
     ]
    }
   ],
   "source": [
    "from collections import Counter\n",
    "test_list = [4, 6, 4, 3, 3, 4, 3, 7, 8, 8]\n",
    "k=2\n",
    "freq=Counter(test_list)\n",
    "print(freq)\n",
    "result=list(filter(lambda ele:freq[ele]>k,freq))\n",
    "print(f\"[INFO]The frequency greater then {k} is:{result}\")"
   ]
  },
  {
   "cell_type": "markdown",
   "id": "fbea917f",
   "metadata": {},
   "source": [
    "### Test if List contains elements in Range"
   ]
  },
  {
   "cell_type": "code",
   "execution_count": 34,
   "id": "6e32b029",
   "metadata": {},
   "outputs": [
    {
     "name": "stdout",
     "output_type": "stream",
     "text": [
      "Does list contain all elements in range : True\n"
     ]
    }
   ],
   "source": [
    "test_list = [4, 5, 6, 7, 3, 9]\n",
    "s,e=4,8\n",
    "result=False\n",
    "for ele in test_list:\n",
    "    if ele>s and ele<e:\n",
    "        result=True\n",
    "        break\n",
    "\n",
    "        \n",
    "print (\"Does list contain all elements in range : \" + str(result))"
   ]
  },
  {
   "cell_type": "code",
   "execution_count": 41,
   "id": "f0c8f787",
   "metadata": {},
   "outputs": [
    {
     "name": "stdout",
     "output_type": "stream",
     "text": [
      "Does list contain all elements in range : True\n"
     ]
    }
   ],
   "source": [
    "test_list = [4, 5, 6, 7, 3, 9]\n",
    "s=4\n",
    "e=10\n",
    "resul=all(i>s or i<e for i in test_list)\n",
    "print (\"Does list contain all elements in range : \" + str(resul))"
   ]
  },
  {
   "cell_type": "code",
   "execution_count": 46,
   "id": "6f29b449",
   "metadata": {},
   "outputs": [
    {
     "name": "stdout",
     "output_type": "stream",
     "text": [
      "True\n"
     ]
    }
   ],
   "source": [
    "test_list = [4, 5, 6, 7, 3, 9]\n",
    "s=4\n",
    "e=10\n",
    "result=[i for i in test_list if i<s and i>=e]\n",
    "result=len(result)==0\n",
    "print(result)"
   ]
  },
  {
   "cell_type": "code",
   "execution_count": 48,
   "id": "7320774e",
   "metadata": {},
   "outputs": [
    {
     "name": "stdout",
     "output_type": "stream",
     "text": [
      "Does list contain all elements in range : True\n"
     ]
    }
   ],
   "source": [
    "test_list = [4, 5, 6, 7, 3, 9]\n",
    "s=4\n",
    "e=10\n",
    "result1=any(s <= x <e for x in test_list)\n",
    "print (\"Does list contain all elements in range : \" + str(result1))"
   ]
  },
  {
   "cell_type": "code",
   "execution_count": 51,
   "id": "f85d4dda",
   "metadata": {},
   "outputs": [
    {
     "name": "stdout",
     "output_type": "stream",
     "text": [
      "Does list contain all elements in range : True\n"
     ]
    }
   ],
   "source": [
    "test_list = [4, 5, 6, 7, 3, 9]\n",
    "s=4\n",
    "e=10\n",
    "def in_range(test_list):\n",
    "    return s <= test_list < e\n",
    "\n",
    "result=bool(list(filter(in_range,test_list)))\n",
    "print (\"Does list contain all elements in range : \" + str(result1))"
   ]
  },
  {
   "cell_type": "markdown",
   "id": "2d81387e",
   "metadata": {},
   "source": [
    "### Python program to check if the list contains three consecutive common numbers in Python"
   ]
  },
  {
   "cell_type": "code",
   "execution_count": 52,
   "id": "62e66f3b",
   "metadata": {},
   "outputs": [
    {
     "name": "stdout",
     "output_type": "stream",
     "text": [
      "5\n"
     ]
    }
   ],
   "source": [
    "arr = [4, 5, 5, 5, 3, 8]\n",
    "size=len(arr)\n",
    "for i in range(size - 2):\n",
    "    if arr[i]==arr[i+1] and arr[i+1]==arr[i+2]:\n",
    "        print(arr[i])"
   ]
  },
  {
   "cell_type": "code",
   "execution_count": 53,
   "id": "c5d60a15",
   "metadata": {},
   "outputs": [
    {
     "name": "stdout",
     "output_type": "stream",
     "text": [
      "1\n",
      "22\n"
     ]
    }
   ],
   "source": [
    "arr = [1, 1, 1, 64, 23, 64, 22, 22, 22]\n",
    "size=len(arr)\n",
    "for i in range(size - 2):\n",
    "    if arr[i]==arr[i+1] and arr[i+1]==arr[i+2]:\n",
    "        print(arr[i])"
   ]
  },
  {
   "cell_type": "code",
   "execution_count": 54,
   "id": "4c474bae",
   "metadata": {},
   "outputs": [
    {
     "name": "stdout",
     "output_type": "stream",
     "text": [
      "1\n",
      "22\n"
     ]
    }
   ],
   "source": [
    "arr = [1, 1, 1, 64, 23, 64, 22, 22, 22]\n",
    " \n",
    "# size of the list\n",
    "size = len(arr)\n",
    "for i in range(size - 2):\n",
    "    element=set([arr[i],arr[i+1],arr[i+2]])\n",
    "    if len(element)==1:\n",
    "        print(arr[i])"
   ]
  },
  {
   "cell_type": "code",
   "execution_count": 56,
   "id": "a956f6d1",
   "metadata": {},
   "outputs": [
    {
     "name": "stdout",
     "output_type": "stream",
     "text": [
      "[1, 22]\n"
     ]
    }
   ],
   "source": [
    "import itertools\n",
    "arr=[1, 1, 1, 64, 23, 64, 22, 22, 22]\n",
    "triple=zip(arr,arr[1:],arr[2:])\n",
    "print([x for x,y,z in itertools.islice(triple,len(arr)-2) if x==y==z ])"
   ]
  },
  {
   "cell_type": "markdown",
   "id": "d12ae859",
   "metadata": {},
   "source": [
    "### Python program to find the Strongest Neighbour"
   ]
  },
  {
   "cell_type": "code",
   "execution_count": 60,
   "id": "0831c82f",
   "metadata": {},
   "outputs": [
    {
     "data": {
      "text/plain": [
       "[2, 2, 3, 4, 5]"
      ]
     },
     "execution_count": 60,
     "metadata": {},
     "output_type": "execute_result"
    }
   ],
   "source": [
    "def maximum_adj(arr,n):\n",
    "    arr2=[]\n",
    "    for i in range(1,n):\n",
    "        r=max(arr[i],arr[i-1])\n",
    "        arr2.append(r)\n",
    "    return arr2\n",
    "    #for ele in arr2:\n",
    "        #print(ele,end=\" \")\n",
    "        \n",
    "arr=[1,2,2,3,4,5]\n",
    "n=6\n",
    "maximum_adj(arr,n)"
   ]
  },
  {
   "cell_type": "markdown",
   "id": "2f99b914",
   "metadata": {},
   "source": [
    "### Python Program to print all Possible Combinations from the three Digits"
   ]
  },
  {
   "cell_type": "code",
   "execution_count": 67,
   "id": "66de6b64",
   "metadata": {},
   "outputs": [
    {
     "name": "stdout",
     "output_type": "stream",
     "text": [
      "5 6 7\n",
      "5 7 6\n",
      "6 5 7\n",
      "6 7 5\n",
      "7 5 6\n",
      "7 6 5\n"
     ]
    }
   ],
   "source": [
    "def three_combination(lst):\n",
    "    for i in range(3):\n",
    "        for j in range(3):\n",
    "            for k in range(3):\n",
    "                if (i!=j and j!=k and i!=k):\n",
    "                    print(lst[i],lst[j],lst[k])\n",
    "                    \n",
    "three_combination([5,6,7])            "
   ]
  },
  {
   "cell_type": "code",
   "execution_count": 74,
   "id": "ab45ca06",
   "metadata": {},
   "outputs": [
    {
     "name": "stdout",
     "output_type": "stream",
     "text": [
      "[1, 2, 3]\n",
      "[1, 3, 2]\n",
      "[2, 1, 3]\n",
      "[2, 3, 1]\n",
      "[3, 1, 2]\n",
      "[3, 2, 1]\n"
     ]
    }
   ],
   "source": [
    "from itertools import permutations\n",
    "comb=permutations([1,2,3])\n",
    "for i in comb:\n",
    "    print(list(i))"
   ]
  },
  {
   "cell_type": "markdown",
   "id": "a757190f",
   "metadata": {},
   "source": [
    "### Python program to find all the Combinations in the list with the given condition"
   ]
  },
  {
   "cell_type": "code",
   "execution_count": 79,
   "id": "3a5f72e7",
   "metadata": {},
   "outputs": [
    {
     "name": "stdout",
     "output_type": "stream",
     "text": [
      "Combination 1 : ('GFG', [5, 4])\n",
      "Combination 2 : ('GFG', 'is')\n",
      "Combination 3 : ('GFG', ['best', 'good', 'better', 'average'])\n",
      "Combination 4 : ([5, 4], 'is')\n",
      "Combination 5 : ([5, 4], ['best', 'good', 'better', 'average'])\n",
      "Combination 6 : ('is', ['best', 'good', 'better', 'average'])\n"
     ]
    }
   ],
   "source": [
    "from itertools import combinations\n",
    "# initializing list\n",
    "test_list = [\"GFG\", [5, 4], \"is\",\n",
    "            [\"best\", \"good\", \"better\", \"average\"]]\n",
    "\n",
    "idx=0\n",
    "temp=combinations(test_list,2)\n",
    "for i in list(temp):\n",
    "    idx += 1\n",
    "    print(\"Combination\",idx,\":\",i)"
   ]
  },
  {
   "cell_type": "code",
   "execution_count": 80,
   "id": "2f274b20",
   "metadata": {},
   "outputs": [
    {
     "name": "stdout",
     "output_type": "stream",
     "text": [
      "Combinations 1 : ('GFG', 'GFG')\n",
      "Combinations 2 : ('GFG', [5, 4])\n",
      "Combinations 3 : ('GFG', 'is')\n",
      "Combinations 4 : ('GFG', ['best', 'good', 'better', 'average'])\n",
      "Combinations 5 : ([5, 4], [5, 4])\n",
      "Combinations 6 : ([5, 4], 'is')\n",
      "Combinations 7 : ([5, 4], ['best', 'good', 'better', 'average'])\n",
      "Combinations 8 : ('is', 'is')\n",
      "Combinations 9 : ('is', ['best', 'good', 'better', 'average'])\n",
      "Combinations 10 : (['best', 'good', 'better', 'average'], ['best', 'good', 'better', 'average'])\n"
     ]
    }
   ],
   "source": [
    "from itertools import combinations_with_replacement\n",
    "# initializing list\n",
    "test_list = [\"GFG\", [5, 4], \"is\",\n",
    "            [\"best\", \"good\", \"better\", \"average\"]]\n",
    "\n",
    "idx=0\n",
    "temp=combinations_with_replacement(test_list,2)\n",
    "for i in list(temp):\n",
    "    idx += 1\n",
    "    print(\"Combinations\",idx,\":\",i)"
   ]
  },
  {
   "cell_type": "code",
   "execution_count": 81,
   "id": "35338637",
   "metadata": {},
   "outputs": [
    {
     "name": "stdout",
     "output_type": "stream",
     "text": [
      "(2, 3)\n",
      "(2, 1)\n",
      "(2, 6)\n",
      "(2, 4)\n",
      "(2, 7)\n",
      "(3, 1)\n",
      "(3, 6)\n",
      "(3, 4)\n",
      "(3, 7)\n",
      "(1, 6)\n",
      "(1, 4)\n",
      "(1, 7)\n",
      "(6, 4)\n",
      "(6, 7)\n",
      "(4, 7)\n"
     ]
    }
   ],
   "source": [
    "def combinations(iterable, r):\n",
    "    pool = tuple(iterable)\n",
    "    n = len(pool)\n",
    "    if r > n:\n",
    "        return\n",
    "    indx = list(range(r))\n",
    "    yield tuple(pool[i] for i in indx)\n",
    "    while True:\n",
    "        for i in reversed(range(r)):\n",
    "            if indx[i] != i + n - r:\n",
    "                break\n",
    "        else:\n",
    "            return\n",
    "        indx[i] += 1\n",
    "        for j in range(i+1, r):\n",
    "            indx[j] = indx[j-1] + 1\n",
    "        yield tuple(pool[i] for i in indx)\n",
    " \n",
    " \n",
    "x = [2, 3, 1, 6, 4, 7]\n",
    "for i in combinations(x, 2):\n",
    "    print(i)"
   ]
  },
  {
   "cell_type": "markdown",
   "id": "bca67ad2",
   "metadata": {},
   "source": [
    "### Python program to get all unique combinations of two Lists"
   ]
  },
  {
   "cell_type": "code",
   "execution_count": 84,
   "id": "6e2ec5e9",
   "metadata": {},
   "outputs": [
    {
     "name": "stdout",
     "output_type": "stream",
     "text": [
      "[[('a', 1), ('b', 4), ('c', 9)], [('a', 1), ('b', 4), ('d', 9)], [('a', 1), ('c', 4), ('b', 9)], [('a', 1), ('c', 4), ('d', 9)], [('a', 1), ('d', 4), ('b', 9)], [('a', 1), ('d', 4), ('c', 9)], [('b', 1), ('a', 4), ('c', 9)], [('b', 1), ('a', 4), ('d', 9)], [('b', 1), ('c', 4), ('a', 9)], [('b', 1), ('c', 4), ('d', 9)], [('b', 1), ('d', 4), ('a', 9)], [('b', 1), ('d', 4), ('c', 9)], [('c', 1), ('a', 4), ('b', 9)], [('c', 1), ('a', 4), ('d', 9)], [('c', 1), ('b', 4), ('a', 9)], [('c', 1), ('b', 4), ('d', 9)], [('c', 1), ('d', 4), ('a', 9)], [('c', 1), ('d', 4), ('b', 9)], [('d', 1), ('a', 4), ('b', 9)], [('d', 1), ('a', 4), ('c', 9)], [('d', 1), ('b', 4), ('a', 9)], [('d', 1), ('b', 4), ('c', 9)], [('d', 1), ('c', 4), ('a', 9)], [('d', 1), ('c', 4), ('b', 9)]]\n"
     ]
    }
   ],
   "source": [
    "from itertools import permutations\n",
    "list_1 = [\"a\", \"b\", \"c\",\"d\"]\n",
    "list_2 = [1,4,9]\n",
    "unique_comb=[]\n",
    "\n",
    "combs=permutations(list_1,len(list_2))\n",
    "for comb in combs:\n",
    "    zipped=zip(comb,list_2)\n",
    "    unique_comb.append(list(zipped))\n",
    "    \n",
    "print(unique_comb)"
   ]
  },
  {
   "cell_type": "code",
   "execution_count": 88,
   "id": "cbae9983",
   "metadata": {},
   "outputs": [
    {
     "name": "stdout",
     "output_type": "stream",
     "text": [
      "[[('b', 1), ('c', 1), ('d', 1)], [('b', 1), ('c', 1), ('d', 4)], [('b', 1), ('c', 1), ('d', 9)], [('b', 1), ('c', 4), ('d', 1)], [('b', 1), ('c', 4), ('d', 4)], [('b', 1), ('c', 4), ('d', 9)], [('b', 1), ('c', 9), ('d', 1)], [('b', 1), ('c', 9), ('d', 4)], [('b', 1), ('c', 9), ('d', 9)], [('b', 4), ('c', 1), ('d', 1)], [('b', 4), ('c', 1), ('d', 4)], [('b', 4), ('c', 1), ('d', 9)], [('b', 4), ('c', 4), ('d', 1)], [('b', 4), ('c', 4), ('d', 4)], [('b', 4), ('c', 4), ('d', 9)], [('b', 4), ('c', 9), ('d', 1)], [('b', 4), ('c', 9), ('d', 4)], [('b', 4), ('c', 9), ('d', 9)], [('b', 9), ('c', 1), ('d', 1)], [('b', 9), ('c', 1), ('d', 4)], [('b', 9), ('c', 1), ('d', 9)], [('b', 9), ('c', 4), ('d', 1)], [('b', 9), ('c', 4), ('d', 4)], [('b', 9), ('c', 4), ('d', 9)], [('b', 9), ('c', 9), ('d', 1)], [('b', 9), ('c', 9), ('d', 4)], [('b', 9), ('c', 9), ('d', 9)]]\n"
     ]
    }
   ],
   "source": [
    "from itertools import product \n",
    " \n",
    "# initialize lists\n",
    "list_1 = [\"b\",\"c\",\"d\"]\n",
    "list_2 = [1,4,9]\n",
    " \n",
    "# create empty list to store the combinations\n",
    "unique_combinations = []\n",
    " \n",
    "# Extract Combination Mapping in two lists \n",
    "# using zip() + product() \n",
    "unique_combinations = list(list(zip(list_1, element))\n",
    "                           for element in product(list_2, repeat = len(list_1)))\n",
    " \n",
    "# printing unique_combination list \n",
    "print(unique_combinations)"
   ]
  },
  {
   "cell_type": "code",
   "execution_count": 92,
   "id": "cf32fc85",
   "metadata": {},
   "outputs": [
    {
     "name": "stdout",
     "output_type": "stream",
     "text": [
      "['b', 1]\n",
      "['b', 4]\n",
      "['b', 9]\n",
      "['c', 1]\n",
      "['c', 4]\n",
      "['c', 9]\n",
      "['d', 1]\n",
      "['d', 4]\n",
      "['d', 9]\n"
     ]
    }
   ],
   "source": [
    "list_1 = [\"b\", \"c\", \"d\"]\n",
    "list_2 = [1, 4, 9]\n",
    "unique_combinations = []\n",
    "for i in range(len(list_1)):\n",
    "    for j in range(len(list_2)):\n",
    "        unique_combinations.append((list_1[i],list_2[j]))\n",
    "for i in unique_combinations:        \n",
    "    print(list(i))"
   ]
  },
  {
   "cell_type": "markdown",
   "id": "80c691e0",
   "metadata": {},
   "source": [
    "###  Remove all the occurrences of an element from a list in Python\n"
   ]
  },
  {
   "cell_type": "code",
   "execution_count": 94,
   "id": "77d55cc9",
   "metadata": {},
   "outputs": [
    {
     "name": "stdout",
     "output_type": "stream",
     "text": [
      "[INFO] The original List is:[1, 3, 4, 6, 5, 1]\n",
      "[INFO] After performing the remove operation is:[3, 4, 6, 5]\n"
     ]
    }
   ],
   "source": [
    "def remove_occ(lst,item):\n",
    "    return [ele for ele in lst if ele!=item]\n",
    "\n",
    "test_list = [1, 3, 4, 6, 5, 1] \n",
    "item = 1\n",
    "print(f\"[INFO] The original List is:{test_list}\")\n",
    "result=remove_occ(test_list,1)\n",
    "print(f\"[INFO] After performing the remove operation is:{result}\")"
   ]
  },
  {
   "cell_type": "code",
   "execution_count": 97,
   "id": "9d902e45",
   "metadata": {},
   "outputs": [
    {
     "name": "stdout",
     "output_type": "stream",
     "text": [
      "[INFO] The original List is:[1, 3, 4, 6, 5, 1]\n",
      "[INFO] After performing the remove operation is:[3, 4, 6, 5]\n"
     ]
    }
   ],
   "source": [
    "def remove_items(test_list,items):\n",
    "    return list(filter((items).__ne__,test_list))\n",
    "\n",
    "test_list = [1, 3, 4, 6, 5, 1] \n",
    "item = 1\n",
    "print(f\"[INFO] The original List is:{test_list}\")\n",
    "result=remove_items(test_list,1)\n",
    "print(f\"[INFO] After performing the remove operation is:{result}\")"
   ]
  },
  {
   "cell_type": "code",
   "execution_count": 98,
   "id": "07f5363b",
   "metadata": {},
   "outputs": [
    {
     "name": "stdout",
     "output_type": "stream",
     "text": [
      "[INFO] The original List is:[1, 3, 4, 6, 5, 1]\n",
      "[INFO] After performing the remove operation is:[3, 4, 6, 5]\n"
     ]
    }
   ],
   "source": [
    "def remove_items(test_list,items):\n",
    "    c=test_list.count(items)\n",
    "    for i in range(c):\n",
    "        test_list.remove(items)\n",
    "    return test_list\n",
    "\n",
    "test_list = [1, 3, 4, 6, 5, 1] \n",
    "item = 1\n",
    "print(f\"[INFO] The original List is:{test_list}\")\n",
    "result=remove_items(test_list,1)\n",
    "print(f\"[INFO] After performing the remove operation is:{result}\")"
   ]
  },
  {
   "cell_type": "code",
   "execution_count": 102,
   "id": "d66e632d",
   "metadata": {},
   "outputs": [
    {
     "data": {
      "text/plain": [
       "[3, 4, 6, 5]"
      ]
     },
     "execution_count": 102,
     "metadata": {},
     "output_type": "execute_result"
    }
   ],
   "source": [
    "test_list = [1, 3, 4, 6, 5, 1] \n",
    "ele = 1\n",
    "a=list(map(str,test_list))\n",
    "b=\" \".join(a)\n",
    "b=b.replace(str(ele),\"\")\n",
    "b=b.split()\n",
    "x=list(map(int,b))\n",
    "x"
   ]
  },
  {
   "cell_type": "code",
   "execution_count": 103,
   "id": "4c7d1afd",
   "metadata": {},
   "outputs": [
    {
     "data": {
      "text/plain": [
       "[3, 4, 6, 5]"
      ]
     },
     "execution_count": 103,
     "metadata": {},
     "output_type": "execute_result"
    }
   ],
   "source": [
    "test_list = [1, 3, 4, 6, 5, 1] \n",
    "ele=1\n",
    "result=[v for i,v in enumerate(test_list) if v!=ele]\n",
    "result"
   ]
  },
  {
   "cell_type": "markdown",
   "id": "8b1a15e3",
   "metadata": {},
   "source": [
    "### Remove Consecutive K element records"
   ]
  },
  {
   "cell_type": "code",
   "execution_count": 104,
   "id": "4cf1589e",
   "metadata": {},
   "outputs": [
    {
     "data": {
      "text/plain": [
       "[(4, 5, 6, 3), (1, 3, 5, 6)]"
      ]
     },
     "execution_count": 104,
     "metadata": {},
     "output_type": "execute_result"
    }
   ],
   "source": [
    "test_list = [(4, 5, 6, 3), (5, 6, 6, 9), (1, 3, 5, 6), (6, 6, 7, 8)]\n",
    "k=6\n",
    "result=[i for i in test_list if (k,k) not in zip(i,i[1:])]\n",
    "result"
   ]
  },
  {
   "cell_type": "code",
   "execution_count": 106,
   "id": "ec1a9613",
   "metadata": {},
   "outputs": [
    {
     "data": {
      "text/plain": [
       "[(4, 5, 6, 3), (1, 3, 5, 6)]"
      ]
     },
     "execution_count": 106,
     "metadata": {},
     "output_type": "execute_result"
    }
   ],
   "source": [
    "test_list = [(4, 5, 6, 3), (5, 6, 6, 9), (1, 3, 5, 6), (6, 6, 7, 8)]\n",
    "k=6\n",
    "result=[i for i in test_list if not any(i[j]==k and i[j+1]==k for j in range(len(i)-1))]\n",
    "result"
   ]
  },
  {
   "cell_type": "code",
   "execution_count": 107,
   "id": "2e2557cd",
   "metadata": {},
   "outputs": [
    {
     "data": {
      "text/plain": [
       "[(4, 5, 6, 3), (1, 3, 5, 6)]"
      ]
     },
     "execution_count": 107,
     "metadata": {},
     "output_type": "execute_result"
    }
   ],
   "source": [
    "test_list = [(4, 5, 6, 3), (5, 6, 6, 9), (1, 3, 5, 6), (6, 6, 7, 8)]\n",
    "k=6\n",
    "result=list(filter( lambda x: not any(i==j==k for i,j in zip(x,x[1:])),test_list))\n",
    "result"
   ]
  },
  {
   "cell_type": "code",
   "execution_count": 108,
   "id": "f403bc4b",
   "metadata": {},
   "outputs": [
    {
     "name": "stdout",
     "output_type": "stream",
     "text": [
      "[INFO] Original list1 is:['Gfg', 'is', 'best']\n",
      "[INFO] Original list2 is:[(4, 5, 6, 3), (5, 6, 6, 9), (1, 3, 5, 6), (6, 6, 7, 8)]\n",
      "[INFO] After index element replacement is:['Gfg', 'is', 'best', 'is', 'Gfg', 'Gfg', 'Gfg', 'best', 'is', 'is', 'best', 'Gfg']\n"
     ]
    }
   ],
   "source": [
    "test_list1 = ['Gfg', 'is', 'best']\n",
    "test_list2 = [0, 1, 2, 1, 0, 0, 0, 2, 1, 1, 2, 0]\n",
    "print(f\"[INFO] Original list1 is:{test_list1}\")\n",
    "print(f\"[INFO] Original list2 is:{test_list}\")\n",
    "\n",
    "result=[test_list1[i] for i in test_list2]\n",
    "print(f\"[INFO] After index element replacement is:{result}\")"
   ]
  },
  {
   "cell_type": "code",
   "execution_count": 112,
   "id": "5c986dd7",
   "metadata": {},
   "outputs": [
    {
     "name": "stdout",
     "output_type": "stream",
     "text": [
      "[INFO] Original list1 is:['Gfg', 'is', 'best']\n",
      "[INFO] Original list2 is:[(4, 5, 6, 3), (5, 6, 6, 9), (1, 3, 5, 6), (6, 6, 7, 8)]\n",
      "[INFO] After index element replacement is:['Gfg', 'is', 'best', 'is', 'Gfg', 'Gfg', 'Gfg', 'best', 'is', 'is', 'best', 'Gfg']\n"
     ]
    }
   ],
   "source": [
    "test_list1 = ['Gfg', 'is', 'best']\n",
    "test_list2 = [0, 1, 2, 1, 0, 0, 0, 2, 1, 1, 2, 0]\n",
    "print(f\"[INFO] Original list1 is:{test_list1}\")\n",
    "print(f\"[INFO] Original list2 is:{test_list}\")\n",
    "\n",
    "result=list(map(lambda i : test_list1[i],test_list2))\n",
    "print(f\"[INFO] After index element replacement is:{result}\")"
   ]
  },
  {
   "cell_type": "code",
   "execution_count": 113,
   "id": "a1f2e75e",
   "metadata": {},
   "outputs": [
    {
     "name": "stdout",
     "output_type": "stream",
     "text": [
      "[INFO] Original list1 is:['Gfg', 'is', 'best']\n",
      "[INFO] Original list2 is:[(4, 5, 6, 3), (5, 6, 6, 9), (1, 3, 5, 6), (6, 6, 7, 8)]\n",
      "[INFO] After index element replacement is:['Gfg' 'is' 'best' 'is' 'Gfg' 'Gfg' 'Gfg' 'best' 'is' 'is' 'best' 'Gfg']\n"
     ]
    }
   ],
   "source": [
    "import numpy as np\n",
    "test_list1 = ['Gfg', 'is', 'best']\n",
    "test_list2 = [0, 1, 2, 1, 0, 0, 0, 2, 1, 1, 2, 0]\n",
    "print(f\"[INFO] Original list1 is:{test_list1}\")\n",
    "print(f\"[INFO] Original list2 is:{test_list}\")\n",
    "\n",
    "result=np.take(test_list1,test_list2)\n",
    "print(f\"[INFO] After index element replacement is:{result}\")"
   ]
  },
  {
   "cell_type": "code",
   "execution_count": 114,
   "id": "5cfec21c",
   "metadata": {},
   "outputs": [
    {
     "name": "stdout",
     "output_type": "stream",
     "text": [
      "The original list 1 is : ['Gfg', 'is', 'best']\n",
      "The original list 2 is : [0, 1, 2, 1, 0, 0, 0, 2, 1, 1, 2, 0]\n",
      "[INFO] After index element replacement is:['Gfg', 'is', 'best', 'is', 'Gfg', 'Gfg', 'Gfg', 'best', 'is', 'is', 'best', 'Gfg']\n"
     ]
    }
   ],
   "source": [
    "test_list1 = ['Gfg', 'is', 'best']\n",
    "test_list2 = [0, 1, 2, 1, 0, 0, 0, 2, 1, 1, 2, 0]\n",
    " \n",
    "# printing original lists\n",
    "print(\"The original list 1 is : \" + str(test_list1))\n",
    "print(\"The original list 2 is : \" + str(test_list2))\n",
    "\n",
    "index_map={index:element for index,element in enumerate(test_list1)}\n",
    "result=[index_map[i] for i in test_list2]\n",
    "print(f\"[INFO] After index element replacement is:{result}\")"
   ]
  },
  {
   "cell_type": "markdown",
   "id": "e7b28aef",
   "metadata": {},
   "source": [
    "### Retain records with N occurrences of K"
   ]
  },
  {
   "cell_type": "code",
   "execution_count": 119,
   "id": "5329f03e",
   "metadata": {},
   "outputs": [
    {
     "name": "stdout",
     "output_type": "stream",
     "text": [
      "[INFO] Original list:[(4, 5, 6, 4, 4), (4, 4, 3), (4, 4, 4), (3, 4, 9)]\n"
     ]
    },
    {
     "data": {
      "text/plain": [
       "'[INFO] OUTPUT:[(4, 5, 6, 4, 4), (4, 4, 4)]'"
      ]
     },
     "execution_count": 119,
     "metadata": {},
     "output_type": "execute_result"
    }
   ],
   "source": [
    "def occur(lst,k,n):\n",
    "    print(f\"[INFO] Original list:{lst}\")\n",
    "    return f\"[INFO] OUTPUT:{[ele for ele in lst if ele.count(k)==n]}\"\n",
    "\n",
    "test_list = [(4, 5, 6, 4, 4), (4, 4, 3), (4, 4, 4), (3, 4, 9)]\n",
    "k=4\n",
    "n=3\n",
    "occur(test_list,k,n)"
   ]
  },
  {
   "cell_type": "code",
   "execution_count": 122,
   "id": "14d3a4a7",
   "metadata": {},
   "outputs": [
    {
     "name": "stdout",
     "output_type": "stream",
     "text": [
      "[INFO] Original list:[(4, 5, 6, 4, 4), (4, 4, 3), (4, 4, 4), (3, 4, 9)]\n",
      "[INFO] OUTPUT:[(4, 5, 6, 4, 4), (4, 4, 4)]\n"
     ]
    }
   ],
   "source": [
    "test_list = [(4, 5, 6, 4, 4), (4, 4, 3), (4, 4, 4), (3, 4, 9)]\n",
    "print(f\"[INFO] Original list:{test_list}\")\n",
    "k=4\n",
    "n=3\n",
    "result=list(filter(lambda x:x.count(k)==n,test_list))\n",
    "print(f\"[INFO] OUTPUT:{result}\")"
   ]
  },
  {
   "cell_type": "code",
   "execution_count": 123,
   "id": "8fc35423",
   "metadata": {},
   "outputs": [
    {
     "name": "stdout",
     "output_type": "stream",
     "text": [
      "[INFO] Original list:[(4, 5, 6, 4, 4), (4, 4, 3), (4, 4, 4), (3, 4, 9)]\n",
      "[INFO] OUTPUT:[(4, 5, 6, 4, 4), (4, 4, 4)]\n"
     ]
    }
   ],
   "source": [
    "test_list = [(4, 5, 6, 4, 4), (4, 4, 3), (4, 4, 4), (3, 4, 9)]\n",
    "print(f\"[INFO] Original list:{test_list}\")\n",
    "k=4\n",
    "n=3\n",
    "result=[]\n",
    "for tup in test_list:\n",
    "    if tup.count(k)==n:\n",
    "        result.append(tup)\n",
    "        \n",
    "print(f\"[INFO] OUTPUT:{result}\")"
   ]
  },
  {
   "cell_type": "markdown",
   "id": "ab4c3f86",
   "metadata": {},
   "source": [
    "### Python Program to Sort the list according to the column using lambda"
   ]
  },
  {
   "cell_type": "code",
   "execution_count": 127,
   "id": "d410683a",
   "metadata": {},
   "outputs": [
    {
     "name": "stdout",
     "output_type": "stream",
     "text": [
      "Sorted array specific to column 0, [['c++', 1983], ['java', 1995], ['python', 1989]]\n",
      "Sorted array specific to column 1, [['c++', 1983], ['python', 1989], ['java', 1995]]\n"
     ]
    }
   ],
   "source": [
    "def sortarray(array):\n",
    "    for i in range(len(array[0])):\n",
    "        sorted_column=sorted(array,key=lambda x:x[i])\n",
    "        print(\"Sorted array specific to column {}, {}\".format(i, sorted_column))\n",
    "        \n",
    "array = [['java', 1995], ['c++', 1983],\n",
    "             ['python', 1989]]\n",
    "     \n",
    "    # passing array in sortarray function\n",
    "sortarray(array)"
   ]
  },
  {
   "cell_type": "code",
   "execution_count": 128,
   "id": "d5f38e8b",
   "metadata": {},
   "outputs": [
    {
     "name": "stdout",
     "output_type": "stream",
     "text": [
      "0\n",
      "1\n"
     ]
    }
   ],
   "source": [
    "for i in range(2):\n",
    "    print(i)"
   ]
  },
  {
   "cell_type": "markdown",
   "id": "270bc79c",
   "metadata": {},
   "source": [
    "### Swap elements in String list"
   ]
  },
  {
   "cell_type": "code",
   "execution_count": 131,
   "id": "cc090bb8",
   "metadata": {},
   "outputs": [
    {
     "name": "stdout",
     "output_type": "stream",
     "text": [
      "[INFO] The original List is:['Gfg', 'is', 'best', 'for', 'Geeks']\n",
      "[INFO] After performing charecter swap:['efg', 'is', 'bGst', 'for', 'eGGks']\n"
     ]
    }
   ],
   "source": [
    "test_list = ['Gfg', 'is', 'best', 'for', 'Geeks']\n",
    "print(f\"[INFO] The original List is:{test_list}\")\n",
    "result=[sub.replace(\"G\",\"-\").replace(\"e\",\"G\").replace(\"-\",\"e\") for sub in test_list]\n",
    "print(f\"[INFO] After performing charecter swap:{result}\")"
   ]
  },
  {
   "cell_type": "markdown",
   "id": "96ba5da2",
   "metadata": {},
   "source": [
    "### Reverse All Strings in String List"
   ]
  },
  {
   "cell_type": "code",
   "execution_count": 132,
   "id": "f7d30c61",
   "metadata": {},
   "outputs": [
    {
     "name": "stdout",
     "output_type": "stream",
     "text": [
      "[INFO] The original List is:['geeks', 'for', 'geeks', 'is', 'best']\n",
      "[INFO] After performing reverse all String:['skeeg', 'rof', 'skeeg', 'si', 'tseb']\n"
     ]
    }
   ],
   "source": [
    "test_list = [\"geeks\", \"for\", \"geeks\", \"is\", \"best\"]\n",
    "print(f\"[INFO] The original List is:{test_list}\")\n",
    "result=[i[::-1] for i in test_list]\n",
    "print(f\"[INFO] After performing reverse all String:{result}\")"
   ]
  },
  {
   "cell_type": "code",
   "execution_count": 133,
   "id": "ebfb016e",
   "metadata": {},
   "outputs": [
    {
     "name": "stdout",
     "output_type": "stream",
     "text": [
      "[INFO] The original List is:['geeks', 'for', 'geeks', 'is', 'best']\n",
      "[INFO] After performing reverse all String:['skeeg', 'rof', 'skeeg', 'si', 'tseb']\n"
     ]
    }
   ],
   "source": [
    "test_list = [\"geeks\", \"for\", \"geeks\", \"is\", \"best\"]\n",
    "print(f\"[INFO] The original List is:{test_list}\")\n",
    "reverse=lambda i:i[::-1]\n",
    "result=list(map(reverse,test_list))\n",
    "print(f\"[INFO] After performing reverse all String:{result}\")"
   ]
  },
  {
   "cell_type": "code",
   "execution_count": 134,
   "id": "a4d88807",
   "metadata": {},
   "outputs": [
    {
     "name": "stdout",
     "output_type": "stream",
     "text": [
      "[INFO] The original List is:['geeks', 'for', 'geeks', 'is', 'best']\n",
      "[INFO] After performing reverse all String:['skeeg', 'rof', 'skeeg', 'si', 'tseb']\n"
     ]
    }
   ],
   "source": [
    "test_list = [\"geeks\", \"for\", \"geeks\", \"is\", \"best\"]\n",
    "print(f\"[INFO] The original List is:{test_list}\")\n",
    "result=[\"\".join(reversed(i)) for i in test_list]\n",
    "print(f\"[INFO] After performing reverse all String:{result}\")"
   ]
  },
  {
   "cell_type": "code",
   "execution_count": 135,
   "id": "04243f05",
   "metadata": {},
   "outputs": [
    {
     "name": "stdout",
     "output_type": "stream",
     "text": [
      "[INFO] The original List is:['geeks', 'for', 'geeks', 'is', 'best']\n",
      "[INFO] After performing reverse all String:['skeeg', 'rof', 'skeeg', 'si', 'tseb']\n"
     ]
    }
   ],
   "source": [
    "test_list = [\"geeks\", \"for\", \"geeks\", \"is\", \"best\"]\n",
    "print(f\"[INFO] The original List is:{test_list}\")\n",
    "result=[]\n",
    "for i in test_list:\n",
    "    result.append(i[::-1])\n",
    "    \n",
    "print(f\"[INFO] After performing reverse all String:{result}\")"
   ]
  },
  {
   "cell_type": "code",
   "execution_count": 136,
   "id": "d4efaf85",
   "metadata": {},
   "outputs": [
    {
     "name": "stdout",
     "output_type": "stream",
     "text": [
      "[INFO] The original List is:['geeks', 'for', 'geeks', 'is', 'best']\n",
      "[INFO] After performing reverse all String:['skeeg', 'rof', 'skeeg', 'si', 'tseb']\n"
     ]
    }
   ],
   "source": [
    "from functools import reduce\n",
    "def reverse_string(s):\n",
    "    return s[::-1]\n",
    "\n",
    "test_list = [\"geeks\", \"for\", \"geeks\", \"is\", \"best\"]\n",
    "print(f\"[INFO] The original List is:{test_list}\")\n",
    "result=reduce(lambda x,y:x+[reverse_string(y)],test_list,[])\n",
    "print(f\"[INFO] After performing reverse all String:{result}\")"
   ]
  },
  {
   "cell_type": "markdown",
   "id": "93546c1f",
   "metadata": {},
   "source": [
    "### Python program to find the character position of Kth word from a list of strings"
   ]
  },
  {
   "cell_type": "code",
   "execution_count": 137,
   "id": "a9491d95",
   "metadata": {},
   "outputs": [
    {
     "name": "stdout",
     "output_type": "stream",
     "text": [
      "[INFO] The original List is:['geekforgeeks', 'is', 'best', 'for', 'geeks']\n",
      "[INFO] Index of character at Kth position word:2\n"
     ]
    }
   ],
   "source": [
    "test_list = [\"geekforgeeks\", \"is\", \"best\", \"for\", \"geeks\"]\n",
    "print(f\"[INFO] The original List is:{test_list}\")\n",
    "k=20\n",
    "result=[ele[0] for sub in enumerate(test_list) for ele in enumerate(sub[1])]\n",
    "result=result[k]\n",
    "print(f\"[INFO] Index of character at Kth position word:{result}\")"
   ]
  },
  {
   "cell_type": "markdown",
   "id": "7f420aae",
   "metadata": {},
   "source": [
    "### Extract words starting with K in String List"
   ]
  },
  {
   "cell_type": "code",
   "execution_count": 140,
   "id": "d56d0629",
   "metadata": {},
   "outputs": [
    {
     "name": "stdout",
     "output_type": "stream",
     "text": [
      "[INFO] The original List is:['Gfg is best', 'Gfg is for geeks', 'I love G4G']\n",
      "[INFO] IThe filtered elements:['Gfg', 'Gfg', 'geeks', 'G4G']\n"
     ]
    }
   ],
   "source": [
    "test_list = [\"Gfg is best\", \"Gfg is for geeks\", \"I love G4G\"]\n",
    "print(f\"[INFO] The original List is:{test_list}\")\n",
    "k=\"g\"\n",
    "result=[]\n",
    "for sub in test_list:\n",
    "    temp=sub.split()\n",
    "    for ele in temp:\n",
    "        if ele[0].lower()==k.lower():\n",
    "            result.append(ele)\n",
    "print(f\"[INFO] IThe filtered elements:{result}\")          "
   ]
  },
  {
   "cell_type": "code",
   "execution_count": 141,
   "id": "83be2351",
   "metadata": {},
   "outputs": [
    {
     "name": "stdout",
     "output_type": "stream",
     "text": [
      "[INFO] The original List is:['Gfg is best', 'Gfg is for geeks', 'I love G4G']\n",
      "[INFO] IThe filtered elements:['Gfg', 'Gfg', 'geeks', 'G4G']\n"
     ]
    }
   ],
   "source": [
    "test_list = [\"Gfg is best\", \"Gfg is for geeks\", \"I love G4G\"]\n",
    "print(f\"[INFO] The original List is:{test_list}\")\n",
    "k=\"g\"\n",
    "result=[ele for temp in test_list for ele in temp.split() if ele[0].lower()==k.lower()]\n",
    "print(f\"[INFO] IThe filtered elements:{result}\")          "
   ]
  },
  {
   "cell_type": "markdown",
   "id": "f84167be",
   "metadata": {},
   "source": [
    "### Prefix frequency in string List"
   ]
  },
  {
   "cell_type": "code",
   "execution_count": 146,
   "id": "51db7938",
   "metadata": {},
   "outputs": [
    {
     "name": "stdout",
     "output_type": "stream",
     "text": [
      "[INFO] The original List is:['gfgisbest', 'geeks', 'gfgfreak', 'gfgCS', 'Gcourses']\n",
      "[INFO] Strings count with matching frequency :3\n"
     ]
    }
   ],
   "source": [
    "test_list = ['gfgisbest', 'geeks', 'gfgfreak', 'gfgCS', 'Gcourses']\n",
    "print(f\"[INFO] The original List is:{test_list}\")\n",
    "k=\"gfg\"\n",
    "result=0\n",
    "for ele in test_list:\n",
    "    if ele.startswith(k):\n",
    "        result += 1\n",
    "        \n",
    "print(f\"[INFO] Strings count with matching frequency :{result}\")          "
   ]
  },
  {
   "cell_type": "code",
   "execution_count": 147,
   "id": "8cdfc7e5",
   "metadata": {},
   "outputs": [
    {
     "name": "stdout",
     "output_type": "stream",
     "text": [
      "[INFO] The original List is:['gfgisbest', 'geeks', 'gfgfreak', 'gfgCS', 'Gcourses']\n",
      "[INFO] Strings count with matching frequency :3\n"
     ]
    }
   ],
   "source": [
    "test_list = ['gfgisbest', 'geeks', 'gfgfreak', 'gfgCS', 'Gcourses']\n",
    "print(f\"[INFO] The original List is:{test_list}\")\n",
    "k=\"gfg\"\n",
    "result=sum(sub.startswith(k) for sub in test_list)\n",
    "print(f\"[INFO] Strings count with matching frequency :{result}\")          "
   ]
  },
  {
   "cell_type": "code",
   "execution_count": 148,
   "id": "f99b66fc",
   "metadata": {},
   "outputs": [
    {
     "name": "stdout",
     "output_type": "stream",
     "text": [
      "[INFO] The original List is:['gfgisbest', 'geeks', 'gfgfreak', 'gfgCS', 'Gcourses']\n",
      "[INFO] Strings count with matching frequency :3\n"
     ]
    }
   ],
   "source": [
    "test_list = ['gfgisbest', 'geeks', 'gfgfreak', 'gfgCS', 'Gcourses']\n",
    "print(f\"[INFO] The original List is:{test_list}\")\n",
    "k=\"gfg\"\n",
    "result=0\n",
    "for ele in test_list:\n",
    "    if ele.find(k)==0:\n",
    "        result += 1\n",
    "        \n",
    "print(f\"[INFO] Strings count with matching frequency :{result}\")          "
   ]
  },
  {
   "cell_type": "code",
   "execution_count": 149,
   "id": "2038655f",
   "metadata": {},
   "outputs": [
    {
     "name": "stdout",
     "output_type": "stream",
     "text": [
      "[INFO] The original List is:['gfgisbest', 'geeks', 'gfgfreak', 'gfgCS', 'Gcourses']\n",
      "[INFO] Strings count with matching frequency :3\n"
     ]
    }
   ],
   "source": [
    "test_list = ['gfgisbest', 'geeks', 'gfgfreak', 'gfgCS', 'Gcourses']\n",
    "print(f\"[INFO] The original List is:{test_list}\")\n",
    "k=\"gfg\"\n",
    "new_list=filter(lambda element:element.startswith(k),test_list)\n",
    "result=len(list(new_list))\n",
    "print(f\"[INFO] Strings count with matching frequency :{result}\")          "
   ]
  },
  {
   "cell_type": "code",
   "execution_count": 154,
   "id": "c612d68b",
   "metadata": {},
   "outputs": [
    {
     "name": "stdout",
     "output_type": "stream",
     "text": [
      "[INFO] The extended list after split strings :['Gfg', 'is', 'best', 'for', 'Geeks', 'Preparing']\n"
     ]
    }
   ],
   "source": [
    "test_list = ['Gfg is best', 'for Geeks', 'Preparing']\n",
    "result=[]\n",
    "for ele in test_list:\n",
    "    sub=ele.split(\" \")\n",
    "    result.extend(sub)\n",
    "    \n",
    "print(f\"[INFO] The extended list after split strings :{result}\")          "
   ]
  },
  {
   "cell_type": "code",
   "execution_count": 155,
   "id": "32b5c61d",
   "metadata": {},
   "outputs": [
    {
     "name": "stdout",
     "output_type": "stream",
     "text": [
      "[INFO] The extended list after split strings :['Gfg', 'is', 'best', 'for', 'Geeks', 'Preparing']\n"
     ]
    }
   ],
   "source": [
    "test_list = ['Gfg is best', 'for Geeks', 'Preparing']\n",
    "result=\" \".join(test_list).split()\n",
    "print(f\"[INFO] The extended list after split strings :{result}\")          "
   ]
  },
  {
   "cell_type": "code",
   "execution_count": 2,
   "id": "d905ad21",
   "metadata": {},
   "outputs": [
    {
     "name": "stdout",
     "output_type": "stream",
     "text": [
      "[INFO] The extended list after split strings :['Gfg', 'is', 'best', 'for', 'Geeks', 'Preparing']\n"
     ]
    }
   ],
   "source": [
    "test_list = ['Gfg is best', 'for Geeks', 'Preparing']\n",
    "result=[word for par in test_list for word in par.split(\" \")]\n",
    "print(f\"[INFO] The extended list after split strings :{result}\")          "
   ]
  },
  {
   "cell_type": "markdown",
   "id": "973afbd4",
   "metadata": {},
   "source": [
    "### Split Strings on Prefix Occurrence"
   ]
  },
  {
   "cell_type": "code",
   "execution_count": 4,
   "id": "c57309f3",
   "metadata": {},
   "outputs": [
    {
     "name": "stdout",
     "output_type": "stream",
     "text": [
      "[INFO] The original List is:['geeksforgeeks', 'best', 'geeks', 'and', 'geeks', 'love', 'CS']\n",
      "[INFO] Prefix split list :[['geeksforgeeks', 'best'], ['geeks', 'and'], ['geeks', 'love', 'CS']]\n"
     ]
    }
   ],
   "source": [
    "test_list = [\"geeksforgeeks\", \"best\", \"geeks\", \"and\", \"geeks\", \"love\", \"CS\"]\n",
    "print(f\"[INFO] The original List is:{test_list}\")\n",
    "pre=\"geek\"\n",
    "result=[]\n",
    "for val in test_list:\n",
    "    if val.startswith(pre):\n",
    "        result.append([val])\n",
    "    else:\n",
    "        result[-1].append(val)\n",
    "        \n",
    "print(f\"[INFO] Prefix split list :{result}\")          "
   ]
  },
  {
   "cell_type": "code",
   "execution_count": 5,
   "id": "78908af8",
   "metadata": {},
   "outputs": [
    {
     "name": "stdout",
     "output_type": "stream",
     "text": [
      "[INFO] The original List is:['geeksforgeeks', 'best', 'geeks', 'and', 'geeks', 'love', 'CS']\n",
      "[INFO] Prefix split list :[['geeksforgeeks', 'best'], ['geeks', 'and'], ['geeks', 'love', 'CS']]\n"
     ]
    }
   ],
   "source": [
    "test_list = [\"geeksforgeeks\", \"best\", \"geeks\", \"and\", \"geeks\", \"love\", \"CS\"]\n",
    "print(f\"[INFO] The original List is:{test_list}\")\n",
    "pre=\"geek\"\n",
    "result=[]\n",
    "for val in test_list:\n",
    "    if val.find(pre)==0:\n",
    "        result.append([val])\n",
    "    else:\n",
    "        result[-1].append(val)\n",
    "        \n",
    "print(f\"[INFO] Prefix split list :{result}\")          "
   ]
  },
  {
   "cell_type": "code",
   "execution_count": 6,
   "id": "125dc2fa",
   "metadata": {},
   "outputs": [
    {
     "name": "stdout",
     "output_type": "stream",
     "text": [
      "[INFO] The original List is:['geeksforgeeks', 'best', 'geeks', 'and', 'geeks', 'love', 'CS']\n",
      "[INFO] Prefix split list :[['geeksforgeeks', 'best'], ['geeks', 'and'], ['geeks', 'love', 'CS']]\n"
     ]
    }
   ],
   "source": [
    "from functools import reduce\n",
    "test_list = [\"geeksforgeeks\", \"best\", \"geeks\", \"and\", \"geeks\", \"love\", \"CS\"]\n",
    "print(f\"[INFO] The original List is:{test_list}\")\n",
    "pre=\"geek\"\n",
    "def split_on_prefix(result,x):\n",
    "    if x.startswith(pre):\n",
    "        result.append([x])\n",
    "    else:\n",
    "        result[-1].append(x)\n",
    "    return result\n",
    "\n",
    "result=reduce(split_on_prefix,test_list,[])\n",
    "print(f\"[INFO] Prefix split list :{result}\")          "
   ]
  },
  {
   "cell_type": "markdown",
   "id": "3b13b2f0",
   "metadata": {},
   "source": [
    "### Python program to Replace all Characters of a List Except the given character"
   ]
  },
  {
   "cell_type": "code",
   "execution_count": 7,
   "id": "df7db697",
   "metadata": {},
   "outputs": [
    {
     "name": "stdout",
     "output_type": "stream",
     "text": [
      "[INFO] The original List is:['G', 'F', 'G', 'I', 'S', 'B', 'E', 'S', 'T']\n",
      "[INFO] List After replacement :['G', '*', 'G', '*', '*', '*', '*', '*', '*']\n"
     ]
    }
   ],
   "source": [
    "test_list = ['G', 'F', 'G', 'I', 'S', 'B', 'E', 'S', 'T']\n",
    "print(f\"[INFO] The original List is:{test_list}\")\n",
    "char=\"G\"\n",
    "replace=\"*\"\n",
    "result=[]\n",
    "for val in test_list:\n",
    "    if val == char:\n",
    "        result.append(val)\n",
    "    else:\n",
    "        result.append(replace)\n",
    "print(f\"[INFO] List After replacement :{result}\")          "
   ]
  },
  {
   "cell_type": "code",
   "execution_count": 9,
   "id": "5ccf88fb",
   "metadata": {},
   "outputs": [
    {
     "name": "stdout",
     "output_type": "stream",
     "text": [
      "[INFO] The original List is:['G', 'F', 'G', 'I', 'S', 'B', 'E', 'S', 'T']\n",
      "[INFO] List After replacement :['G', '*', 'G', '*', '*', '*', '*', '*', '*']\n"
     ]
    }
   ],
   "source": [
    "test_list = ['G', 'F', 'G', 'I', 'S', 'B', 'E', 'S', 'T']\n",
    "print(f\"[INFO] The original List is:{test_list}\")\n",
    "char=\"G\"\n",
    "replace=\"*\"\n",
    "result=[val if val==char else replace for val in test_list ]\n",
    "print(f\"[INFO] List After replacement :{result}\")          "
   ]
  },
  {
   "cell_type": "code",
   "execution_count": 13,
   "id": "6f2c0ef7",
   "metadata": {},
   "outputs": [
    {
     "name": "stdout",
     "output_type": "stream",
     "text": [
      "[INFO] The original List is:['G', 'F', 'G', 'I', 'S', 'B', 'E', 'S', 'T']\n",
      "[INFO] List After replacement :['G', '*', 'G', '*', '*', '*', '*', '*', '*']\n"
     ]
    }
   ],
   "source": [
    "test_list = ['G', 'F', 'G', 'I', 'S', 'B', 'E', 'S', 'T']\n",
    "print(f\"[INFO] The original List is:{test_list}\")\n",
    "char=\"G\"\n",
    "replace=\"*\"\n",
    "result=list(map(lambda ele:ele if ele==char else replace,test_list))\n",
    "print(f\"[INFO] List After replacement :{result}\")          "
   ]
  },
  {
   "cell_type": "markdown",
   "id": "19463a06",
   "metadata": {},
   "source": [
    "###  Remove words containing list characters"
   ]
  },
  {
   "cell_type": "code",
   "execution_count": 23,
   "id": "c73f036b",
   "metadata": {},
   "outputs": [
    {
     "name": "stdout",
     "output_type": "stream",
     "text": [
      "[INFO] The original List is:['gfg', 'is', 'best', 'for', 'geeks']\n",
      "[INFO] Char List is:['g', 'o']\n",
      "[INFO] List After replacement :['is', 'best', 'for']\n"
     ]
    }
   ],
   "source": [
    "test_list = ['gfg', 'is', 'best', 'for', 'geeks']\n",
    "print(f\"[INFO] The original List is:{test_list}\")\n",
    "char_list = ['g', 'o']\n",
    "print(f\"[INFO] Char List is:{char_list}\")\n",
    "\n",
    "result=[val for val in test_list if not any(val.startswith(ele) for ele in char_list)]\n",
    "print(f\"[INFO] List After replacement :{result}\")          "
   ]
  },
  {
   "cell_type": "code",
   "execution_count": 24,
   "id": "df96e2d7",
   "metadata": {},
   "outputs": [
    {
     "name": "stdout",
     "output_type": "stream",
     "text": [
      "[INFO] The original List is:['gfg', 'is', 'best', 'for', 'geeks']\n",
      "[INFO] Char List is:['g', 'o']\n",
      "[INFO] List After replacement :['is', 'best']\n"
     ]
    }
   ],
   "source": [
    "test_list = ['gfg', 'is', 'best', 'for', 'geeks']\n",
    "print(f\"[INFO] The original List is:{test_list}\")\n",
    "char_list = ['g', 'o']\n",
    "print(f\"[INFO] Char List is:{char_list}\")\n",
    "\n",
    "result=[val for val in test_list if all(ele not in val for ele in char_list)]\n",
    "print(f\"[INFO] List After replacement :{result}\")          "
   ]
  },
  {
   "cell_type": "code",
   "execution_count": 28,
   "id": "37041140",
   "metadata": {},
   "outputs": [
    {
     "name": "stdout",
     "output_type": "stream",
     "text": [
      "[INFO] The original List is:['gfg', 'is', 'best', 'for', 'geeks']\n",
      "[INFO] Char List is:['g', 'o']\n",
      "[INFO] The filter String is :['is', 'best']\n"
     ]
    }
   ],
   "source": [
    "test_list = ['gfg', 'is', 'best', 'for', 'geeks']\n",
    "print(f\"[INFO] The original List is:{test_list}\")\n",
    "char_list = ['g', 'o']\n",
    "print(f\"[INFO] Char List is:{char_list}\")\n",
    "\n",
    "result=[]\n",
    "flag=1\n",
    "for val in test_list:\n",
    "    for ele in char_list:\n",
    "        if ele not in val:\n",
    "            flag=1\n",
    "        else:\n",
    "            flag=0\n",
    "            break\n",
    "    if (flag==1):\n",
    "        result.append(val)\n",
    "        \n",
    "print(f\"[INFO] The filter String is :{result}\")                 "
   ]
  },
  {
   "cell_type": "code",
   "execution_count": 29,
   "id": "46a1b9f8",
   "metadata": {},
   "outputs": [
    {
     "name": "stdout",
     "output_type": "stream",
     "text": [
      "[INFO] The original List is:['gfg', 'is', 'best', 'for', 'geeks']\n",
      "[INFO] Char List is:['g', 'o']\n",
      "[INFO] The filter String is :['is', 'best']\n"
     ]
    }
   ],
   "source": [
    "test_list = ['gfg', 'is', 'best', 'for', 'geeks']\n",
    "print(f\"[INFO] The original List is:{test_list}\")\n",
    "char_list = ['g', 'o']\n",
    "print(f\"[INFO] Char List is:{char_list}\")\n",
    "result=list(filter(lambda x: not any(y in x for y in char_list),test_list))\n",
    "print(f\"[INFO] The filter String is :{result}\")                 "
   ]
  },
  {
   "cell_type": "code",
   "execution_count": 30,
   "id": "2e8024a3",
   "metadata": {},
   "outputs": [
    {
     "name": "stdout",
     "output_type": "stream",
     "text": [
      "[INFO] The original List is:['gfg', 'is', 'best', 'for', 'geeks']\n",
      "[INFO] Char List is:['g', 'o']\n",
      "[INFO] The filter String is :['is', 'best']\n"
     ]
    }
   ],
   "source": [
    "test_list = ['gfg', 'is', 'best', 'for', 'geeks']\n",
    "print(f\"[INFO] The original List is:{test_list}\")\n",
    "char_list = ['g', 'o']\n",
    "print(f\"[INFO] Char List is:{char_list}\")\n",
    "\n",
    "result=list(filter(lambda x : not set(x).intersection(char_list),test_list))\n",
    "print(f\"[INFO] The filter String is :{result}\")                 "
   ]
  },
  {
   "cell_type": "markdown",
   "id": "661373f9",
   "metadata": {},
   "source": [
    "###  Ways to remove multiple empty spaces from string List"
   ]
  },
  {
   "cell_type": "code",
   "execution_count": 31,
   "id": "6fbbee83",
   "metadata": {},
   "outputs": [
    {
     "name": "stdout",
     "output_type": "stream",
     "text": [
      "[INFO] The original List is:['gfg', ' ', ' ', 'is', '         ', 'best']\n",
      "[INFO] List After filterring non-empty string :['gfg', 'is', 'best']\n"
     ]
    }
   ],
   "source": [
    "test_list = ['gfg', ' ', ' ', 'is', '         ', 'best']\n",
    "print(f\"[INFO] The original List is:{test_list}\")\n",
    "\n",
    "result=[]\n",
    "for val in test_list:\n",
    "    if val.strip():\n",
    "        result.append(val)\n",
    "        \n",
    "print(f\"[INFO] List After filterring non-empty string :{result}\")                 "
   ]
  },
  {
   "cell_type": "code",
   "execution_count": 33,
   "id": "b7000f57",
   "metadata": {},
   "outputs": [
    {
     "name": "stdout",
     "output_type": "stream",
     "text": [
      "[INFO] The original List is:['gfg', ' ', ' ', 'is', '         ', 'best']\n",
      "[INFO] List After filterring non-empty string :['gfg', 'is', 'best']\n"
     ]
    }
   ],
   "source": [
    "test_list = ['gfg', ' ', ' ', 'is', '         ', 'best']\n",
    "print(f\"[INFO] The original List is:{test_list}\")\n",
    "result=[ele for ele in test_list if ele.strip()]\n",
    "print(f\"[INFO] List After filterring non-empty string :{result}\")                 "
   ]
  },
  {
   "cell_type": "code",
   "execution_count": 34,
   "id": "9b9004d7",
   "metadata": {},
   "outputs": [
    {
     "name": "stdout",
     "output_type": "stream",
     "text": [
      "[INFO] The original List is:['gfg', ' ', ' ', 'is', '         ', 'best']\n",
      "[INFO] List After filterring non-empty string :['gfg', 'is', 'best']\n"
     ]
    }
   ],
   "source": [
    "test_list = ['gfg', ' ', ' ', 'is', '         ', 'best']\n",
    "print(f\"[INFO] The original List is:{test_list}\")\n",
    "result=[ele for ele in test_list if ele.find(\" \")==-1]\n",
    "print(f\"[INFO] List After filterring non-empty string :{result}\") "
   ]
  },
  {
   "cell_type": "code",
   "execution_count": 35,
   "id": "35ca3171",
   "metadata": {},
   "outputs": [
    {
     "name": "stdout",
     "output_type": "stream",
     "text": [
      "[INFO] The original List is:['gfg', ' ', ' ', 'is', '         ', 'best']\n",
      "[INFO] List After filterring non-empty string :['gfg', 'is', 'best']\n"
     ]
    }
   ],
   "source": [
    "test_list = ['gfg', ' ', ' ', 'is', '         ', 'best']\n",
    "print(f\"[INFO] The original List is:{test_list}\")\n",
    "result=list(filter(lambda x:x[0].lower() != x[0].upper(),test_list))\n",
    "print(f\"[INFO] List After filterring non-empty string :{result}\") "
   ]
  },
  {
   "cell_type": "code",
   "execution_count": 37,
   "id": "47a93477",
   "metadata": {},
   "outputs": [
    {
     "name": "stdout",
     "output_type": "stream",
     "text": [
      "[INFO] The original List is:['gfg', ' ', ' ', 'is', '         ', 'best']\n",
      "[INFO] List After filterring non-empty string :['gfg', 'is', 'best']\n"
     ]
    }
   ],
   "source": [
    "test_list = ['gfg', ' ', ' ', 'is', '         ', 'best']\n",
    "print(f\"[INFO] The original List is:{test_list}\")\n",
    "result=[ele for ele in test_list if not ele.isspace()]\n",
    "print(f\"[INFO] List After filterring non-empty string :{result}\") "
   ]
  },
  {
   "cell_type": "code",
   "execution_count": 38,
   "id": "1bbe29ad",
   "metadata": {},
   "outputs": [
    {
     "name": "stdout",
     "output_type": "stream",
     "text": [
      "[INFO] The original List is:['gfg', ' ', ' ', 'is', '         ', 'best']\n",
      "[INFO] List After filterring non-empty string :['gfg', 'is', 'best']\n"
     ]
    }
   ],
   "source": [
    "import re \n",
    "test_list = ['gfg', ' ', ' ', 'is', '         ', 'best']\n",
    "print(f\"[INFO] The original List is:{test_list}\")\n",
    "string=\" \".join(test_list)\n",
    "result=re.findall(r'[a-zA-Z]+',string)\n",
    "print(f\"[INFO] List After filterring non-empty string :{result}\") "
   ]
  },
  {
   "cell_type": "markdown",
   "id": "3123d4c5",
   "metadata": {},
   "source": [
    "###  Add Space between Potential Words\n"
   ]
  },
  {
   "cell_type": "code",
   "execution_count": 39,
   "id": "8802e3f4",
   "metadata": {},
   "outputs": [
    {
     "name": "stdout",
     "output_type": "stream",
     "text": [
      "[INFO] The original List is:['gfgBest', 'forGeeks', 'andComputerScience']\n",
      "[INFO] The sapce added list if string :['gfg Best', 'for Geeks', 'and Computer Science']\n"
     ]
    }
   ],
   "source": [
    "test_list = [\"gfgBest\", \"forGeeks\", \"andComputerScience\"]\n",
    "print(f\"[INFO] The original List is:{test_list}\")\n",
    "result=[]\n",
    "for ele in test_list:\n",
    "    temp=[[]]\n",
    "    for char in ele:\n",
    "        if char.isupper():\n",
    "            temp.append([])\n",
    "        temp[-1].append(char)\n",
    "    result.append(\" \".join(\"\".join(ele) for ele in temp))\n",
    "    \n",
    "print(f\"[INFO] The sapce added list if string :{result}\") "
   ]
  },
  {
   "cell_type": "code",
   "execution_count": 40,
   "id": "7e9bd253",
   "metadata": {},
   "outputs": [
    {
     "name": "stdout",
     "output_type": "stream",
     "text": [
      "[INFO] The original List is:['gfgBest', 'forGeeks', 'andComputerScience']\n",
      "[INFO] The sapce added list if string :['gfg Best', 'for Geeks', 'and Computer Science']\n"
     ]
    }
   ],
   "source": [
    "import re\n",
    "test_list = [\"gfgBest\", \"forGeeks\", \"andComputerScience\"]\n",
    "print(f\"[INFO] The original List is:{test_list}\")\n",
    "result=[re.sub(r\"(\\w)([A-Z])\",r\"\\1 \\2\",ele) for ele in test_list]\n",
    "print(f\"[INFO] The sapce added list if string :{result}\") "
   ]
  },
  {
   "cell_type": "code",
   "execution_count": 41,
   "id": "54e93a5e",
   "metadata": {},
   "outputs": [
    {
     "name": "stdout",
     "output_type": "stream",
     "text": [
      "[INFO] The original List is:['gfgBest', 'forGeeks', 'andComputerScience']\n",
      "[INFO] The sapce added list if string :['gfg Best', 'for Geeks', 'and Computer Science']\n"
     ]
    }
   ],
   "source": [
    "test_list = [\"gfgBest\", \"forGeeks\", \"andComputerScience\"]\n",
    "print(f\"[INFO] The original List is:{test_list}\")\n",
    "result=[]\n",
    "for i in test_list:\n",
    "    for j in i:\n",
    "        if (j.isupper()):\n",
    "            i=i.replace(j,\" \"+j)\n",
    "    result.append(i)\n",
    "    \n",
    "print(f\"[INFO] The sapce added list if string :{result}\") "
   ]
  },
  {
   "cell_type": "markdown",
   "id": "e067290f",
   "metadata": {},
   "source": [
    "### Filter the List of String whose index in second List contains the given Substring"
   ]
  },
  {
   "cell_type": "code",
   "execution_count": 42,
   "id": "156e48ca",
   "metadata": {},
   "outputs": [
    {
     "name": "stdout",
     "output_type": "stream",
     "text": [
      "[INFO] The original List1 is:['Gfg', 'is', 'not', 'best', 'and', 'not', 'for', 'CS']\n",
      "[INFO] The original List2 is:['Its ok', 'all ok', 'wrong', 'looks ok', 'ok', 'wrong', 'ok', 'thats ok']\n",
      "[INFO] The Extracted list is :['Gfg', 'is', 'best', 'and', 'for', 'CS']\n"
     ]
    }
   ],
   "source": [
    "test_list1 = [\"Gfg\", \"is\", \"not\", \"best\", \"and\",\n",
    "              \"not\", \"for\", \"CS\"]\n",
    "test_list2 = [\"Its ok\", \"all ok\", \"wrong\", \"looks ok\",\n",
    "              \"ok\", \"wrong\", \"ok\", \"thats ok\"]\n",
    "print(f\"[INFO] The original List1 is:{test_list1}\")\n",
    "print(f\"[INFO] The original List2 is:{test_list2}\")\n",
    "\n",
    "sub_str=\"ok\"\n",
    "result=[]\n",
    "for ele1,ele2 in zip(test_list1,test_list2):\n",
    "    if sub_str in ele2:\n",
    "        result.append(ele1)\n",
    "        \n",
    "print(f\"[INFO] The Extracted list is :{result}\") "
   ]
  },
  {
   "cell_type": "code",
   "execution_count": 43,
   "id": "b3c00103",
   "metadata": {},
   "outputs": [
    {
     "name": "stdout",
     "output_type": "stream",
     "text": [
      "[INFO] The original List1 is:['Gfg', 'is', 'not', 'best', 'and', 'not', 'for', 'CS']\n",
      "[INFO] The original List2 is:['Its ok', 'all ok', 'wrong', 'looks ok', 'ok', 'wrong', 'ok', 'thats ok']\n",
      "[INFO] The Extracted list is :['Gfg', 'is', 'best', 'and', 'for', 'CS']\n"
     ]
    }
   ],
   "source": [
    "test_list1 = [\"Gfg\", \"is\", \"not\", \"best\", \"and\",\n",
    "              \"not\", \"for\", \"CS\"]\n",
    "test_list2 = [\"Its ok\", \"all ok\", \"wrong\", \"looks ok\",\n",
    "              \"ok\", \"wrong\", \"ok\", \"thats ok\"]\n",
    "print(f\"[INFO] The original List1 is:{test_list1}\")\n",
    "print(f\"[INFO] The original List2 is:{test_list2}\")\n",
    "\n",
    "sub_str=\"ok\"\n",
    "result=[ele1 for ele1,ele2 in zip(test_list1,test_list2) if sub_str in ele2]\n",
    "print(f\"[INFO] The Extracted list is :{result}\") "
   ]
  },
  {
   "cell_type": "markdown",
   "id": "c6ccb150",
   "metadata": {},
   "source": [
    "### Convert Character Matrix to single String"
   ]
  },
  {
   "cell_type": "code",
   "execution_count": 46,
   "id": "0ecab46a",
   "metadata": {},
   "outputs": [
    {
     "name": "stdout",
     "output_type": "stream",
     "text": [
      "[INFO] The original List is:[['g', 'f', 'g'], ['i', 's'], ['b', 'e', 's', 't']]\n",
      "[INFO] The String after join is :gfgisbest\n"
     ]
    }
   ],
   "source": [
    "test_list = [['g', 'f', 'g'], ['i', 's'], ['b', 'e', 's', 't']]\n",
    "print(f\"[INFO] The original List is:{test_list}\")\n",
    "result=\"\".join(val for ele in test_list for val in ele)\n",
    "print(f\"[INFO] The String after join is :{result}\") "
   ]
  },
  {
   "cell_type": "code",
   "execution_count": 47,
   "id": "bf17afa5",
   "metadata": {},
   "outputs": [
    {
     "name": "stdout",
     "output_type": "stream",
     "text": [
      "[INFO] The original List is:[['g', 'f', 'g'], ['i', 's'], ['b', 'e', 's', 't']]\n",
      "[INFO] The String after join is :gfgisbest\n"
     ]
    }
   ],
   "source": [
    "from itertools import chain\n",
    "test_list = [['g', 'f', 'g'], ['i', 's'], ['b', 'e', 's', 't']]\n",
    "print(f\"[INFO] The original List is:{test_list}\")\n",
    "result=\"\".join(chain(*test_list))\n",
    "print(f\"[INFO] The String after join is :{result}\") "
   ]
  },
  {
   "cell_type": "code",
   "execution_count": 48,
   "id": "6a2960b7",
   "metadata": {},
   "outputs": [
    {
     "name": "stdout",
     "output_type": "stream",
     "text": [
      "[INFO] The original List is:[['g', 'f', 'g'], ['i', 's'], ['b', 'e', 's', 't']]\n",
      "[INFO] The String after join is :gfgisbest\n"
     ]
    }
   ],
   "source": [
    "from itertools import chain\n",
    "test_list = [['g', 'f', 'g'], ['i', 's'], ['b', 'e', 's', 't']]\n",
    "print(f\"[INFO] The original List is:{test_list}\")\n",
    "result=\"\".join(sum(map(list,test_list),[]))\n",
    "print(f\"[INFO] The String after join is :{result}\") "
   ]
  },
  {
   "cell_type": "code",
   "execution_count": 49,
   "id": "2e71c187",
   "metadata": {},
   "outputs": [
    {
     "name": "stdout",
     "output_type": "stream",
     "text": [
      "[INFO] The original List is:[['g', 'f', 'g'], ['i', 's'], ['b', 'e', 's', 't']]\n",
      "[INFO] The String after join is :gfgisbest\n"
     ]
    }
   ],
   "source": [
    "from functools import reduce\n",
    "test_list = [['g', 'f', 'g'], ['i', 's'], ['b', 'e', 's', 't']]\n",
    "print(f\"[INFO] The original List is:{test_list}\")\n",
    "result=reduce(lambda x,y:x+y,[char for row in test_list for char in row])\n",
    "print(f\"[INFO] The String after join is :{result}\") "
   ]
  },
  {
   "cell_type": "markdown",
   "id": "36f202d5",
   "metadata": {},
   "source": [
    "### Count Strings with substring String List"
   ]
  },
  {
   "cell_type": "code",
   "execution_count": 52,
   "id": "110604fb",
   "metadata": {},
   "outputs": [
    {
     "name": "stdout",
     "output_type": "stream",
     "text": [
      "[INFO] The original List is:['GeeksforGeeks', 'Geeky', 'Computers', 'Algorithms']\n",
      "[INFO] All String count with given substring are :2\n"
     ]
    }
   ],
   "source": [
    "# initializing list \n",
    "test_list = ['GeeksforGeeks', 'Geeky', 'Computers', 'Algorithms']\n",
    "print(f\"[INFO] The original List is:{test_list}\")\n",
    "subs=\"Geek\"\n",
    "result=len([val for val in test_list if subs in val])\n",
    "print(f\"[INFO] All String count with given substring are :{result}\") "
   ]
  },
  {
   "cell_type": "code",
   "execution_count": 53,
   "id": "a84e54d7",
   "metadata": {},
   "outputs": [
    {
     "name": "stdout",
     "output_type": "stream",
     "text": [
      "[INFO] The original List is:['GeeksforGeeks', 'Geeky', 'Computers', 'Algorithms']\n",
      "[INFO] All String count with given substring are :2\n"
     ]
    }
   ],
   "source": [
    "test_list = ['GeeksforGeeks', 'Geeky', 'Computers', 'Algorithms']\n",
    "print(f\"[INFO] The original List is:{test_list}\")\n",
    "subs=\"Geek\"\n",
    "result=len(list(filter(lambda x: subs in x,test_list)))\n",
    "print(f\"[INFO] All String count with given substring are :{result}\")"
   ]
  },
  {
   "cell_type": "code",
   "execution_count": 54,
   "id": "19227464",
   "metadata": {},
   "outputs": [
    {
     "name": "stdout",
     "output_type": "stream",
     "text": [
      "[INFO] The original List is:['GeeksforGeeks', 'Geeky', 'Computers', 'Algorithms']\n",
      "[INFO] All String count with given substring are :2\n"
     ]
    }
   ],
   "source": [
    "test_list = ['GeeksforGeeks', 'Geeky', 'Computers', 'Algorithms']\n",
    "print(f\"[INFO] The original List is:{test_list}\")\n",
    "subs=\"Geek\"\n",
    "result=0\n",
    "for val in test_list:\n",
    "    if val.find(subs)!=-1:\n",
    "        result += 1\n",
    "print(f\"[INFO] All String count with given substring are :{result}\")"
   ]
  },
  {
   "cell_type": "code",
   "execution_count": 55,
   "id": "17bb4787",
   "metadata": {},
   "outputs": [
    {
     "name": "stdout",
     "output_type": "stream",
     "text": [
      "[INFO] The original List is:['GeeksforGeeks', 'Geeky', 'Computers', 'Algorithms']\n",
      "[INFO] All String count with given substring are :2\n"
     ]
    }
   ],
   "source": [
    "import operator as op\n",
    "test_list = ['GeeksforGeeks', 'Geeky', 'Computers', 'Algorithms']\n",
    "print(f\"[INFO] The original List is:{test_list}\")\n",
    "subs=\"Geek\"\n",
    "result=0\n",
    "for val in test_list:\n",
    "    if op.contains(val,subs):\n",
    "        result += 1\n",
    "print(f\"[INFO] All String count with given substring are :{result}\")"
   ]
  },
  {
   "cell_type": "code",
   "execution_count": 60,
   "id": "81258a6d",
   "metadata": {},
   "outputs": [
    {
     "name": "stdout",
     "output_type": "stream",
     "text": [
      "[INFO] The original List is:['GeeksforGeeks', 'Geeky', 'Computers', 'Algorithms']\n",
      "[INFO] All String count with given substring are :2\n"
     ]
    }
   ],
   "source": [
    "test_list = ['GeeksforGeeks', 'Geeky', 'Computers', 'Algorithms']\n",
    "print(f\"[INFO] The original List is:{test_list}\")\n",
    "subs=\"Geek\"\n",
    "result=sum(1 for _ in test_list if _.count(subs)>0)\n",
    "print(f\"[INFO] All String count with given substring are :{result}\")"
   ]
  },
  {
   "cell_type": "code",
   "execution_count": 61,
   "id": "8733e9c4",
   "metadata": {},
   "outputs": [
    {
     "name": "stdout",
     "output_type": "stream",
     "text": [
      "[INFO] The original List is:['GeeksforGeeks', 'Geeky', 'Computers', 'Algorithms']\n",
      "[INFO] All String count with given substring are :2\n"
     ]
    }
   ],
   "source": [
    "from functools import reduce\n",
    "test_list = ['GeeksforGeeks', 'Geeky', 'Computers', 'Algorithms']\n",
    "print(f\"[INFO] The original List is:{test_list}\")\n",
    "subs=\"Geek\"\n",
    "result=reduce(lambda x,y:x+1 if subs in y else x,test_list,0)\n",
    "print(f\"[INFO] All String count with given substring are :{result}\")"
   ]
  },
  {
   "cell_type": "markdown",
   "id": "8cdec19b",
   "metadata": {},
   "source": [
    "### Replace Substrings from String List"
   ]
  },
  {
   "cell_type": "code",
   "execution_count": 66,
   "id": "33bd5a89",
   "metadata": {},
   "outputs": [
    {
     "name": "stdout",
     "output_type": "stream",
     "text": [
      "[INFO] The original List1 is:['GeeksforGeeks', 'is', 'Best', 'For', 'Geeks', 'And', 'Computer Science']\n",
      "[INFO] The original List2 is:[['Geeks', 'Gks'], ['And', '&'], ['Computer', 'Comp']]\n",
      "[INFO] The list after replcement :['GksforGks', 'is', 'Best', 'For', 'Gks', '&', 'Comp Science']\n"
     ]
    }
   ],
   "source": [
    "test_list1 = ['GeeksforGeeks', 'is', 'Best', 'For', 'Geeks', 'And', 'Computer Science']\n",
    "test_list2 = [['Geeks', 'Gks'], ['And', '&'], ['Computer', 'Comp']]\n",
    "print(f\"[INFO] The original List1 is:{test_list1}\")\n",
    "print(f\"[INFO] The original List2 is:{test_list2}\")\n",
    "\n",
    "sub=dict(test_list2)\n",
    "for key,val in sub.items():\n",
    "    for i,string in enumerate(test_list1):\n",
    "        if key in string:\n",
    "            test_list1[i]=string.replace(key,val)\n",
    "            \n",
    "print(f\"[INFO] The list after replcement :{test_list1}\")"
   ]
  },
  {
   "cell_type": "code",
   "execution_count": 69,
   "id": "07ca5ce3",
   "metadata": {},
   "outputs": [
    {
     "name": "stdout",
     "output_type": "stream",
     "text": [
      "[INFO] The original List1 is:['GeeksforGeeks', 'is', 'Best', 'For', 'Geeks', 'And', 'Computer Science']\n",
      "[INFO] The original List2 is:[['Geeks', 'Gks'], ['And', '&'], ['Computer', 'Comp']]\n",
      "[INFO] The list after replcement :['GksforGks', 'Gks', '&', 'Comp Science']\n"
     ]
    }
   ],
   "source": [
    "test_list1 = ['GeeksforGeeks', 'is', 'Best', 'For', 'Geeks', 'And', 'Computer Science']\n",
    "test_list2 = [['Geeks', 'Gks'], ['And', '&'], ['Computer', 'Comp']]\n",
    "print(f\"[INFO] The original List1 is:{test_list1}\")\n",
    "print(f\"[INFO] The original List2 is:{test_list2}\")\n",
    "\n",
    "result = [sub.replace(sub2[0], sub2[1]) for sub in test_list1\n",
    "      for sub2 in test_list2 if sub2[0] in sub]\n",
    "print(f\"[INFO] The list after replcement :{result}\")"
   ]
  },
  {
   "cell_type": "code",
   "execution_count": 70,
   "id": "f15baa2b",
   "metadata": {},
   "outputs": [
    {
     "name": "stdout",
     "output_type": "stream",
     "text": [
      "[INFO] The original List1 is:['GeeksforGeeks', 'is', 'Best', 'For', 'Geeks', 'And', 'Computer Science']\n",
      "[INFO] The original List2 is:[['Geeks', 'Gks'], ['And', '&'], ['Computer', 'Comp']]\n",
      "[INFO] The list after replcement :['GksforGks', 'is', 'Best', 'For', 'Gks', '&', 'Comp Science']\n"
     ]
    }
   ],
   "source": [
    "import re\n",
    "test_list1 = ['GeeksforGeeks', 'is', 'Best', 'For', 'Geeks', 'And', 'Computer Science']\n",
    "test_list2 = [['Geeks', 'Gks'], ['And', '&'], ['Computer', 'Comp']]\n",
    "print(f\"[INFO] The original List1 is:{test_list1}\")\n",
    "print(f\"[INFO] The original List2 is:{test_list2}\")\n",
    "\n",
    "for sub in test_list2:\n",
    "    test_list1=[re.sub(sub[0],sub[1],ele) for ele in test_list1]\n",
    "\n",
    "    \n",
    "print(f\"[INFO] The list after replcement :{test_list1}\")"
   ]
  },
  {
   "cell_type": "code",
   "execution_count": 72,
   "id": "82b16366",
   "metadata": {},
   "outputs": [
    {
     "name": "stdout",
     "output_type": "stream",
     "text": [
      "[INFO] The original List1 is:['GeeksforGeeks', 'is', 'Best', 'For', 'Geeks', 'And', 'Computer Science']\n",
      "[INFO] The original List2 is:[['Geeks', 'Gks'], ['And', '&'], ['Computer', 'Comp']]\n",
      "[INFO] The list after replcement :['GksforGks', 'is', 'Best', 'For', 'Gks', '&', 'Comp Science']\n"
     ]
    }
   ],
   "source": [
    "from functools import reduce\n",
    "test_list1 = ['GeeksforGeeks', 'is', 'Best', 'For', 'Geeks', 'And', 'Computer Science']\n",
    "test_list2 = [['Geeks', 'Gks'], ['And', '&'], ['Computer', 'Comp']]\n",
    "print(f\"[INFO] The original List1 is:{test_list1}\")\n",
    "print(f\"[INFO] The original List2 is:{test_list2}\")\n",
    "sub=dict(test_list2)\n",
    "result=[reduce(lambda i,j:i.replace(*j),sub.items(),ele) for ele in test_list1]\n",
    "print(f\"[INFO] The list after replcement :{result}\")"
   ]
  },
  {
   "cell_type": "code",
   "execution_count": 74,
   "id": "ce1ff371",
   "metadata": {},
   "outputs": [
    {
     "name": "stdout",
     "output_type": "stream",
     "text": [
      "[INFO] The original List1 is:['GeeksforGeeks', 'is', 'Best', 'For', 'Geeks', 'And', 'Computer Science']\n",
      "[INFO] The original List2 is:[['Geeks', 'Gks'], ['And', '&'], ['Computer', 'Comp']]\n",
      "[INFO] The list after replcement :['GksforGks', 'is', 'Best', 'For', 'Gks', '&', 'Comp Science']\n"
     ]
    }
   ],
   "source": [
    "test_list1 = ['GeeksforGeeks', 'is', 'Best', 'For', 'Geeks', 'And', 'Computer Science']\n",
    "test_list2 = [['Geeks', 'Gks'], ['And', '&'], ['Computer', 'Comp']]\n",
    "print(f\"[INFO] The original List1 is:{test_list1}\")\n",
    "print(f\"[INFO] The original List2 is:{test_list2}\")\n",
    "sub={k:v for k,v in test_list2}\n",
    "result=[]\n",
    "for ele in test_list1:\n",
    "    for key in sub:\n",
    "        ele=ele.replace(key,sub[key])\n",
    "    result.append(ele)\n",
    "print(f\"[INFO] The list after replcement :{result}\")"
   ]
  },
  {
   "cell_type": "markdown",
   "id": "86b3016c",
   "metadata": {},
   "source": [
    "### Group Sublists by another List"
   ]
  },
  {
   "cell_type": "code",
   "execution_count": 75,
   "id": "98955288",
   "metadata": {},
   "outputs": [
    {
     "name": "stdout",
     "output_type": "stream",
     "text": [
      "The original list 1 is : [8, 5, 9, 11, 3, 7]\n",
      "The original list 2 is : [9, 11]\n",
      "The Grouped list is : [[8, 5], 9, 11, [3, 7]]\n"
     ]
    }
   ],
   "source": [
    "def grp_ele(test_list1,test_list2):\n",
    "    temp=[]\n",
    "    for i in test_list1:\n",
    "        if i in test_list2:\n",
    "            if temp:\n",
    "                yield temp\n",
    "                temp=[]\n",
    "            yield i\n",
    "        else:\n",
    "            temp.append(i)\n",
    "    if temp:\n",
    "        yield temp\n",
    "        \n",
    "test_list1 = [8, 5, 9, 11, 3, 7]\n",
    "test_list2 = [9, 11]\n",
    " \n",
    "# printing original lists\n",
    "print(\"The original list 1 is : \" + str(test_list1))\n",
    "print(\"The original list 2 is : \" + str(test_list2))\n",
    " \n",
    "# Group Sublists by another List\n",
    "# using loop + generator(yield)\n",
    "res = list(grp_ele(test_list1, test_list2))\n",
    " \n",
    "# printing result \n",
    "print (\"The Grouped list is : \" + str(res))        "
   ]
  },
  {
   "cell_type": "code",
   "execution_count": 76,
   "id": "50b41aa0",
   "metadata": {},
   "outputs": [
    {
     "name": "stdout",
     "output_type": "stream",
     "text": [
      "[INFO] The original List is:['Gfg', 'Gfg is best', 'Geeks', 'Gfg is for Geeks']\n",
      "[INFO] The filterd list is:['Gfg is best', 'Gfg is for Geeks']\n"
     ]
    }
   ],
   "source": [
    "test_list = [\"Gfg\", \"Gfg is best\", \"Geeks\", \"Gfg is for Geeks\"]\n",
    "print(f\"[INFO] The original List is:{test_list}\")\n",
    "test_list.sort(key=len)\n",
    "result=[]\n",
    "for i,val in enumerate(test_list):\n",
    "    if val not in \", \".join(test_list[i+1:]):\n",
    "        result.append(val)\n",
    "print(f\"[INFO] The filterd list is:{result}\")"
   ]
  },
  {
   "cell_type": "code",
   "execution_count": 77,
   "id": "83d85722",
   "metadata": {},
   "outputs": [
    {
     "name": "stdout",
     "output_type": "stream",
     "text": [
      "[INFO] The original List is:['Gfg', 'Gfg is best', 'Geeks', 'Gfg is for Geeks']\n",
      "[INFO] The filterd list is:['Gfg is best', 'Gfg is for Geeks']\n"
     ]
    }
   ],
   "source": [
    "test_list = [\"Gfg\", \"Gfg is best\", \"Geeks\", \"Gfg is for Geeks\"]\n",
    "print(f\"[INFO] The original List is:{test_list}\")\n",
    "test_list.sort(key=len)\n",
    "result=[v for i,v in enumerate(test_list) if v not in \", \".join(test_list[i+1:])]\n",
    "\n",
    "print(f\"[INFO] The filterd list is:{result}\")"
   ]
  },
  {
   "cell_type": "code",
   "execution_count": null,
   "id": "463ce3c2",
   "metadata": {},
   "outputs": [],
   "source": []
  },
  {
   "cell_type": "markdown",
   "id": "853d78e4",
   "metadata": {},
   "source": [
    "###  Sort String by Custom Integer Substrings"
   ]
  },
  {
   "cell_type": "code",
   "execution_count": 83,
   "id": "74d33f13",
   "metadata": {},
   "outputs": [
    {
     "name": "stdout",
     "output_type": "stream",
     "text": [
      "The original list : ['Good at 4', 'Wake at 7', 'Work till 6', 'Sleep at 11']\n",
      "The sorted list : ['Work till 6', 'Wake at 7', 'Good at 4', 'Sleep at 11']\n"
     ]
    }
   ],
   "source": [
    "import re\n",
    "test_list = [\"Good at 4\", \"Wake at 7\", \"Work till 6\", \"Sleep at 11\"]\n",
    "print(\"The original list : \" + str(test_list))\n",
    " \n",
    "# initializing substring list \n",
    "subord_list = [\"6\", \"7\", \"4\", \"11\"]\n",
    " \n",
    "# creating inverse mapping with index\n",
    "temp_dict = {val: key for key, val in enumerate(subord_list)}\n",
    " \n",
    "# custom sorting \n",
    "temp_list = sorted([[ele, temp_dict[re.search(\"(\\d+)$\", ele).group()]] \\\n",
    "                for ele in test_list], key = lambda x: x[1])\n",
    "# compiling result\n",
    "res = [ele for ele in list(zip(*temp_list))[0]]\n",
    "         \n",
    "# printing result \n",
    "print(\"The sorted list : \" + str(res))"
   ]
  },
  {
   "cell_type": "code",
   "execution_count": 86,
   "id": "a9f537c5",
   "metadata": {},
   "outputs": [
    {
     "name": "stdout",
     "output_type": "stream",
     "text": [
      "The original list : ['Good at 4', 'Wake at 7', 'Work till 6', 'Sleep at 11']\n",
      "The sorted list : ['Good at 4', 'Work till 6', 'Wake at 7', 'Sleep at 11']\n"
     ]
    }
   ],
   "source": [
    "import re\n",
    "def helper_func(ele):\n",
    "    temp=re.search(\"(\\d+)$\",ele).group()\n",
    "    return temp_dict[temp] if temp in temp_dict else int(temp)\n",
    "\n",
    "# initializing list\n",
    "test_list = [\"Good at 4\", \"Wake at 7\", \"Work till 6\", \"Sleep at 11\"]\n",
    " \n",
    "# printing original list\n",
    "print(\"The original list : \" + str(test_list))\n",
    " \n",
    "# initializing substring list \n",
    "subord_list = [\"6\", \"7\", \"4\", \"11\"]\n",
    " \n",
    "# creating inverse mapping with index\n",
    "temp_dict = {val: key for key, val in enumerate(test_list)}\n",
    " \n",
    "# sorting using comparator\n",
    "test_list.sort(key = lambda ele: helper_func(ele))\n",
    "         \n",
    "# printing result \n",
    "print(\"The sorted list : \" + str(test_list))"
   ]
  },
  {
   "cell_type": "markdown",
   "id": "3ec367a6",
   "metadata": {},
   "source": [
    "### Test if Substring occurs in specific position"
   ]
  },
  {
   "cell_type": "code",
   "execution_count": 90,
   "id": "5b0a1d74",
   "metadata": {},
   "outputs": [
    {
     "name": "stdout",
     "output_type": "stream",
     "text": [
      "[INFO] Original str is:Gfg is best\n",
      "Does String contain substring at required position?:True\n"
     ]
    }
   ],
   "source": [
    "test_str = \"Gfg is best\"\n",
    "print(f\"[INFO] Original str is:{test_str}\")\n",
    "i,j=7,11\n",
    "substr=\"best\"\n",
    "result=True\n",
    "k=0\n",
    "for idx in range(len(test_str)):\n",
    "    if idx>=i and idx<j:\n",
    "        if test_str[idx]!=substr[k]:\n",
    "            result=False\n",
    "            break\n",
    "        k=k+1\n",
    "print(\"Does String contain substring at required position?:\"+ str(result))"
   ]
  },
  {
   "cell_type": "code",
   "execution_count": 91,
   "id": "4f824241",
   "metadata": {},
   "outputs": [
    {
     "name": "stdout",
     "output_type": "stream",
     "text": [
      "[INFO] Original str is:Gfg is best\n",
      "Does String contain substring at required position?:True\n"
     ]
    }
   ],
   "source": [
    "test_str = \"Gfg is best\"\n",
    "print(f\"[INFO] Original str is:{test_str}\")\n",
    "i,j=7,11\n",
    "substr=\"best\"\n",
    "result= test_str[i:j]==substr\n",
    "print(\"Does String contain substring at required position?:\"+ str(result))"
   ]
  },
  {
   "cell_type": "code",
   "execution_count": 92,
   "id": "34c74ef6",
   "metadata": {},
   "outputs": [
    {
     "name": "stdout",
     "output_type": "stream",
     "text": [
      "[INFO] Original str is:Gfg is best\n",
      "Does String contain substring at required position?:True\n"
     ]
    }
   ],
   "source": [
    "test_str = \"Gfg is best\"\n",
    "print(f\"[INFO] Original str is:{test_str}\")\n",
    "i,j=7,11\n",
    "substr=\"best\"\n",
    "result=False\n",
    "if(test_str.find(substr)==i):\n",
    "    result=True\n",
    "    \n",
    "print(\"Does String contain substring at required position?:\"+ str(result))"
   ]
  },
  {
   "cell_type": "code",
   "execution_count": 1,
   "id": "4e61f979",
   "metadata": {},
   "outputs": [
    {
     "name": "stdout",
     "output_type": "stream",
     "text": [
      "The interpolated y-value for x=13 is: 33.5\n"
     ]
    }
   ],
   "source": [
    "def linear_interpolation(x, y, new_x):\n",
    "    # Find the two closest x-values\n",
    "    x1, x2 = None, None\n",
    "    for xi in x:\n",
    "        if xi <= new_x:\n",
    "            if x1 is None or abs(xi - new_x) < abs(x1 - new_x):\n",
    "                x1 = xi\n",
    "        else:\n",
    "            if x2 is None or abs(xi - new_x) < abs(x2 - new_x):\n",
    "                x2 = xi\n",
    "\n",
    "    # Perform linear interpolation\n",
    "    if x1 is not None and x2 is not None:\n",
    "        y1 = y[x.index(x1)]\n",
    "        y2 = y[x.index(x2)]\n",
    "\n",
    "        # Formula for linear interpolation\n",
    "        interpolated_y = y1 + (new_x - x1) * (y2 - y1) / (x2 - x1)\n",
    "        return interpolated_y\n",
    "    else:\n",
    "        return None\n",
    "\n",
    "# Given lists\n",
    "x = [2, 4, 6, 8, 10, 12, 14, 16, 18, 20]\n",
    "y = [4, 7, 11, 16, 22, 29, 38, 49, 63, 80]\n",
    "\n",
    "# New x-value\n",
    "new_x = 13\n",
    "\n",
    "# Perform linear interpolation\n",
    "interpolated_y = linear_interpolation(x, y, new_x)\n",
    "\n",
    "# Print the result\n",
    "print(f\"The interpolated y-value for x={new_x} is: {interpolated_y}\")\n"
   ]
  },
  {
   "cell_type": "code",
   "execution_count": null,
   "id": "ede4132e",
   "metadata": {},
   "outputs": [],
   "source": []
  }
 ],
 "metadata": {
  "kernelspec": {
   "display_name": "Python 3 (ipykernel)",
   "language": "python",
   "name": "python3"
  },
  "language_info": {
   "codemirror_mode": {
    "name": "ipython",
    "version": 3
   },
   "file_extension": ".py",
   "mimetype": "text/x-python",
   "name": "python",
   "nbconvert_exporter": "python",
   "pygments_lexer": "ipython3",
   "version": "3.11.5"
  }
 },
 "nbformat": 4,
 "nbformat_minor": 5
}
