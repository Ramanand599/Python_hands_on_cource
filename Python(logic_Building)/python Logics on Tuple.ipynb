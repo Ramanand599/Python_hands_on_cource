{
 "cells": [
  {
   "cell_type": "markdown",
   "id": "7a1592b6",
   "metadata": {},
   "source": [
    "### Find the size of a Tuple in Python"
   ]
  },
  {
   "cell_type": "code",
   "execution_count": 8,
   "id": "e4dde6ad",
   "metadata": {},
   "outputs": [
    {
     "name": "stdout",
     "output_type": "stream",
     "text": [
      "[INFO] Size of tuple 1 is:88 bytes\n",
      "[INFO] Size of tuple 2 is:88 bytes\n",
      "[INFO] Size of tuple 3 is:72 bytes\n"
     ]
    }
   ],
   "source": [
    "import sys\n",
    "Tuple1 = (\"A\", 1, \"B\", 2, \"C\", 3)\n",
    "Tuple2 = (\"Geek1\", \"Raju\", \"Geek2\", \"Nikhil\", \"Geek3\", \"Deepanshu\")\n",
    "Tuple3 = ((1, \"Lion\"), ( 2, \"Tiger\"), (3, \"Fox\"), (4, \"Wolf\"))\n",
    "print(f\"[INFO] Size of tuple 1 is:{sys.getsizeof(Tuple1)} bytes\")\n",
    "print(f\"[INFO] Size of tuple 2 is:{sys.getsizeof(Tuple2)} bytes\")\n",
    "print(f\"[INFO] Size of tuple 3 is:{sys.getsizeof(Tuple3)} bytes\")"
   ]
  },
  {
   "cell_type": "code",
   "execution_count": 12,
   "id": "7a8aa418",
   "metadata": {},
   "outputs": [
    {
     "data": {
      "text/plain": [
       "['__new__',\n",
       " '__repr__',\n",
       " '__hash__',\n",
       " '__getattribute__',\n",
       " '__lt__',\n",
       " '__le__',\n",
       " '__eq__',\n",
       " '__ne__',\n",
       " '__gt__',\n",
       " '__ge__',\n",
       " '__iter__',\n",
       " '__len__',\n",
       " '__getitem__',\n",
       " '__add__',\n",
       " '__mul__',\n",
       " '__rmul__',\n",
       " '__contains__',\n",
       " '__getnewargs__',\n",
       " 'index',\n",
       " 'count',\n",
       " '__class_getitem__',\n",
       " '__doc__',\n",
       " '__str__',\n",
       " '__setattr__',\n",
       " '__delattr__',\n",
       " '__init__',\n",
       " '__reduce_ex__',\n",
       " '__reduce__',\n",
       " '__getstate__',\n",
       " '__subclasshook__',\n",
       " '__init_subclass__',\n",
       " '__format__',\n",
       " '__sizeof__',\n",
       " '__dir__',\n",
       " '__class__']"
      ]
     },
     "execution_count": 12,
     "metadata": {},
     "output_type": "execute_result"
    }
   ],
   "source": [
    "Tuple1.__dir__()"
   ]
  },
  {
   "cell_type": "code",
   "execution_count": 13,
   "id": "49fa1b30",
   "metadata": {},
   "outputs": [
    {
     "name": "stdout",
     "output_type": "stream",
     "text": [
      "[INFO] Size of tuple 1 is:72 bytes\n",
      "[INFO] Size of tuple 2 is:72 bytes\n",
      "[INFO] Size of tuple 3 is:56 bytes\n"
     ]
    }
   ],
   "source": [
    "Tuple1 = (\"A\", 1, \"B\", 2, \"C\", 3)\n",
    "Tuple2 = (\"Geek1\", \"Raju\", \"Geek2\", \"Nikhil\", \"Geek3\", \"Deepanshu\")\n",
    "Tuple3 = ((1, \"Lion\"), ( 2, \"Tiger\"), (3, \"Fox\"), (4, \"Wolf\"))\n",
    "print(f\"[INFO] Size of tuple 1 is:{Tuple1.__sizeof__()} bytes\")\n",
    "print(f\"[INFO] Size of tuple 2 is:{Tuple2.__sizeof__()} bytes\")\n",
    "print(f\"[INFO] Size of tuple 3 is:{Tuple3.__sizeof__()} bytes\")"
   ]
  },
  {
   "cell_type": "markdown",
   "id": "fd20359f",
   "metadata": {},
   "source": [
    "###  Maximum and Minimum K elements in Tuple"
   ]
  },
  {
   "cell_type": "code",
   "execution_count": 16,
   "id": "26e6db51",
   "metadata": {},
   "outputs": [
    {
     "name": "stdout",
     "output_type": "stream",
     "text": [
      "The original tuple is : (5, 20, 3, 7, 6, 8)\n",
      "after sorting: [3, 5, 6, 7, 8, 20]\n",
      "The Extracted values is: (3, 5, 8, 20)\n"
     ]
    }
   ],
   "source": [
    "test_tup = (5, 20, 3, 7, 6, 8)\n",
    " \n",
    "# printing original tuple\n",
    "print(\"The original tuple is : \" + str(test_tup))\n",
    " \n",
    "# initializing K \n",
    "K = 2\n",
    "result = []\n",
    "test_tuple = list(sorted(test_tup))\n",
    "print(\"after sorting:\",test_tuple)\n",
    "for idx,val in enumerate(test_tuple):\n",
    "    if idx < K or idx >=len(test_tuple) - K:\n",
    "        result.append(val)\n",
    "result = tuple(result)\n",
    "print(\"The Extracted values is:\",result)"
   ]
  },
  {
   "cell_type": "code",
   "execution_count": 19,
   "id": "4a159a98",
   "metadata": {},
   "outputs": [
    {
     "name": "stdout",
     "output_type": "stream",
     "text": [
      "The original tuple is :  (5, 20, 3, 7, 6, 8)\n",
      "The Extracted Value is: (3, 5, 8, 20)\n"
     ]
    }
   ],
   "source": [
    "test_tup = (5, 20, 3, 7, 6, 8)\n",
    " \n",
    "# printing original tuple\n",
    "print(\"The original tuple is : \",test_tup)\n",
    " \n",
    "# initializing K \n",
    "K = 2\n",
    "test_tuple = list(sorted(test_tup))\n",
    "result = test_tuple[:K] + test_tuple[-K:]\n",
    "print(\"The Extracted Value is:\",tuple(result))"
   ]
  },
  {
   "cell_type": "code",
   "execution_count": 20,
   "id": "e771fea2",
   "metadata": {},
   "outputs": [
    {
     "name": "stdout",
     "output_type": "stream",
     "text": [
      "The original tuple is :  (5, 20, 3, 7, 6, 8)\n",
      "The Extracted Value is: (3, 5, 8, 20)\n"
     ]
    }
   ],
   "source": [
    "import heapq\n",
    "test_tup = (5, 20, 3, 7, 6, 8)\n",
    " \n",
    "# printing original tuple\n",
    "print(\"The original tuple is : \",test_tup)\n",
    " \n",
    "# initializing K \n",
    "K = 2\n",
    "smallest = heapq.nsmallest(K,test_tup)\n",
    "largest = heapq.nlargest(K,test_tup)\n",
    "result = tuple(sorted(smallest + largest))\n",
    "print(\"The Extracted Value is:\",tuple(result))"
   ]
  },
  {
   "cell_type": "markdown",
   "id": "fa6c9b15",
   "metadata": {},
   "source": [
    "### Python program to create a list of tuples from given list having number and its cube in each tuple"
   ]
  },
  {
   "cell_type": "code",
   "execution_count": 21,
   "id": "69490fea",
   "metadata": {},
   "outputs": [
    {
     "name": "stdout",
     "output_type": "stream",
     "text": [
      "[(1, 1), (2, 8), (5, 125), (6, 216)]\n"
     ]
    }
   ],
   "source": [
    "list1 = [1, 2, 5, 6]\n",
    "result = [(val,val **3) for val in list1]\n",
    "print(result)"
   ]
  },
  {
   "cell_type": "code",
   "execution_count": 22,
   "id": "129f926a",
   "metadata": {},
   "outputs": [
    {
     "name": "stdout",
     "output_type": "stream",
     "text": [
      "[(1, 1), (2, 8), (5, 125), (6, 216)]\n"
     ]
    }
   ],
   "source": [
    "list1 = [1, 2, 5, 6]\n",
    "result = [(val,pow(val,3)) for val in list1]\n",
    "print(result)"
   ]
  },
  {
   "cell_type": "code",
   "execution_count": 24,
   "id": "6515b94a",
   "metadata": {},
   "outputs": [
    {
     "name": "stdout",
     "output_type": "stream",
     "text": [
      "[(1, 1), (2, 8), (5, 125), (6, 216)]\n"
     ]
    }
   ],
   "source": [
    "list1 = [1, 2, 5, 6]\n",
    "result = list(map(lambda x:(x,pow(x,3)),list1))\n",
    "print(result)"
   ]
  },
  {
   "cell_type": "code",
   "execution_count": 25,
   "id": "7304daf1",
   "metadata": {},
   "outputs": [
    {
     "name": "stdout",
     "output_type": "stream",
     "text": [
      "[(1, 1), (2, 8), (5, 125), (6, 216)]\n"
     ]
    }
   ],
   "source": [
    "list1 = [1, 2, 5, 6]\n",
    "result = list(map(lambda x:(x,x**3),list1))\n",
    "print(result)"
   ]
  },
  {
   "cell_type": "code",
   "execution_count": 26,
   "id": "8c056121",
   "metadata": {},
   "outputs": [
    {
     "name": "stdout",
     "output_type": "stream",
     "text": [
      "[(1, 1), (2, 8), (5, 125), (6, 216)]\n"
     ]
    }
   ],
   "source": [
    "list1 = [1, 2, 5, 6]\n",
    "result = []\n",
    "for val in list1:\n",
    "    cube = (val,val**3)\n",
    "    result.append(cube)\n",
    "print(result)"
   ]
  },
  {
   "cell_type": "code",
   "execution_count": 28,
   "id": "548b44aa",
   "metadata": {},
   "outputs": [
    {
     "name": "stdout",
     "output_type": "stream",
     "text": [
      "[(1, 1), (2, 8), (5, 125), (6, 216)]\n"
     ]
    }
   ],
   "source": [
    "import re\n",
    "lst_str = \"1, 2, 5, 6\"\n",
    "lst = [int(num) for num in re.findall(r\"\\d+\",lst_str)]\n",
    "result = [(val,pow(val,3)) for val in lst]\n",
    "print(result)"
   ]
  },
  {
   "cell_type": "code",
   "execution_count": 31,
   "id": "94f6d46c",
   "metadata": {},
   "outputs": [
    {
     "name": "stdout",
     "output_type": "stream",
     "text": [
      "[(1, 1), (2, 8), (5, 125), (6, 216)]\n"
     ]
    }
   ],
   "source": [
    "lst_str = \"1, 2, 5, 6\"\n",
    "lst = list(map(int,lst_str.split(\", \")))\n",
    "result = [(val,pow(val,3)) for val in lst]\n",
    "print(result)"
   ]
  },
  {
   "cell_type": "markdown",
   "id": "6faf1d6c",
   "metadata": {},
   "source": [
    "###  Adding Tuple to List and vice – versa"
   ]
  },
  {
   "cell_type": "code",
   "execution_count": 32,
   "id": "e7f9c08f",
   "metadata": {},
   "outputs": [
    {
     "name": "stdout",
     "output_type": "stream",
     "text": [
      "Te original list is : [5, 6, 7]\n",
      "The container after addition: [5, 6, 7, 9, 10]\n"
     ]
    }
   ],
   "source": [
    "test_list = [5, 6, 7]\n",
    "print(\"Te original list is :\",test_list)\n",
    "test_tup = (9,10)\n",
    "test_list += test_tup\n",
    "print(\"The container after addition:\",test_list)"
   ]
  },
  {
   "cell_type": "code",
   "execution_count": 33,
   "id": "67e2e7ff",
   "metadata": {},
   "outputs": [
    {
     "name": "stdout",
     "output_type": "stream",
     "text": [
      "Te original list is : [5, 6, 7]\n",
      "The container after addition: (9, 10, 5, 6, 7)\n"
     ]
    }
   ],
   "source": [
    "test_list = [5, 6, 7]\n",
    "print(\"Te original list is :\",test_list)\n",
    "test_tup = (9,10)\n",
    "result = tuple(list(test_tup) + test_list)\n",
    "print(\"The container after addition:\",result)"
   ]
  },
  {
   "cell_type": "code",
   "execution_count": 34,
   "id": "96799199",
   "metadata": {},
   "outputs": [
    {
     "name": "stdout",
     "output_type": "stream",
     "text": [
      "The original list is : [5, 6, 7]\n",
      "The container after addition is: [5, 6, 7, 9, 10]\n"
     ]
    }
   ],
   "source": [
    "test_list = [5, 6, 7]\n",
    "print(\"The original list is :\",test_list)\n",
    "test_tup = (9,10)\n",
    "test_list.extend(list(test_tup))\n",
    "print(\"The container after addition is:\",test_list)"
   ]
  },
  {
   "cell_type": "code",
   "execution_count": 35,
   "id": "9170ddc8",
   "metadata": {},
   "outputs": [
    {
     "name": "stdout",
     "output_type": "stream",
     "text": [
      "The original list is : [5, 6, 7]\n",
      "The container after addition is: (5, 6, 7, 9, 10)\n"
     ]
    }
   ],
   "source": [
    "test_list = [5, 6, 7]\n",
    "print(\"The original list is :\",test_list)\n",
    "test_tup = (9,10)\n",
    "test_list.extend(list(test_tup))\n",
    "print(\"The container after addition is:\",tuple(test_list))"
   ]
  },
  {
   "cell_type": "code",
   "execution_count": 38,
   "id": "b7429fff",
   "metadata": {},
   "outputs": [
    {
     "name": "stdout",
     "output_type": "stream",
     "text": [
      "The original list is : [5, 6, 7]\n",
      "The container after addition is: [5, 6, 7, (9, 10)]\n"
     ]
    }
   ],
   "source": [
    "test_list = [5, 6, 7]\n",
    "print(\"The original list is :\",test_list)\n",
    "test_tup = (9,10)\n",
    "index = 3\n",
    "test_list.insert(index,test_tup)\n",
    "print(\"The container after addition is:\",test_list)"
   ]
  },
  {
   "cell_type": "markdown",
   "id": "1ad0421e",
   "metadata": {},
   "source": [
    "###  Sum of tuple elements"
   ]
  },
  {
   "cell_type": "code",
   "execution_count": 39,
   "id": "b8995312",
   "metadata": {},
   "outputs": [
    {
     "name": "stdout",
     "output_type": "stream",
     "text": [
      "49\n"
     ]
    }
   ],
   "source": [
    "def summation(test_tuple):\n",
    "    lst = list(test_tuple)\n",
    "    count = 0\n",
    "    for i in lst:\n",
    "        count = count + i\n",
    "    return count\n",
    "\n",
    "test_tup = (5, 20, 3, 7, 6, 8)\n",
    "print(summation(test_tup))"
   ]
  },
  {
   "cell_type": "code",
   "execution_count": 40,
   "id": "3812cc4f",
   "metadata": {},
   "outputs": [
    {
     "name": "stdout",
     "output_type": "stream",
     "text": [
      "The original tuple is: (5, 20, 3, 7, 6, 8)\n",
      "The addition of tuple is: 49\n"
     ]
    }
   ],
   "source": [
    "test_tup = (5, 20, 3, 7, 6, 8)\n",
    "print(\"The original tuple is:\",test_tup)\n",
    "result = sum(test_tup)\n",
    "print(\"The addition of tuple is:\",result)"
   ]
  },
  {
   "cell_type": "code",
   "execution_count": 44,
   "id": "1b989191",
   "metadata": {},
   "outputs": [
    {
     "name": "stdout",
     "output_type": "stream",
     "text": [
      "The original tuple is: ([7, 8], [9, 1], [10, 7])\n",
      "The addition of tuple is: 42\n"
     ]
    }
   ],
   "source": [
    "test_tup = ([7, 8], [9, 1], [10, 7])\n",
    "print(\"The original tuple is:\",test_tup)\n",
    "result = sum(list(map(sum, list(test_tup))))\n",
    "print(\"The addition of tuple is:\",result)"
   ]
  },
  {
   "cell_type": "code",
   "execution_count": 46,
   "id": "ee983894",
   "metadata": {},
   "outputs": [
    {
     "name": "stdout",
     "output_type": "stream",
     "text": [
      "49\n"
     ]
    }
   ],
   "source": [
    "def summation(test_tup):\n",
    "    result = [ x for x in test_tup]\n",
    "    return sum(result)\n",
    "test_tup = (5, 20, 3, 7, 6, 8)\n",
    "print(summation(test_tup))"
   ]
  },
  {
   "cell_type": "code",
   "execution_count": 47,
   "id": "802a9a29",
   "metadata": {},
   "outputs": [
    {
     "name": "stdout",
     "output_type": "stream",
     "text": [
      "The addition of tuple is: 49.0\n"
     ]
    }
   ],
   "source": [
    "import math\n",
    "test_tup = (5, 20, 3, 7, 6, 8)\n",
    "result = math.fsum(test_tup)\n",
    "print(\"The addition of tuple is:\",result)"
   ]
  },
  {
   "cell_type": "code",
   "execution_count": 54,
   "id": "ef4ebac2",
   "metadata": {},
   "outputs": [
    {
     "name": "stdout",
     "output_type": "stream",
     "text": [
      "(12, 15, 18)\n"
     ]
    }
   ],
   "source": [
    "tuple1 = (1, 2, 3)\n",
    "tuple2 = (4, 5, 6)\n",
    "tuple3 = (7, 8, 9)\n",
    "combined = zip(tuple1, tuple2, tuple3)\n",
    "result = tuple(map(sum, combined))\n",
    "print(result) "
   ]
  },
  {
   "cell_type": "code",
   "execution_count": 55,
   "id": "88f57213",
   "metadata": {},
   "outputs": [
    {
     "name": "stdout",
     "output_type": "stream",
     "text": [
      "49\n"
     ]
    }
   ],
   "source": [
    "import operator as op\n",
    "from functools import reduce\n",
    "def summation(test_tup):\n",
    "    return reduce(op.add,test_tup)\n",
    "\n",
    "test_tup = (5, 20, 3, 7, 6, 8)\n",
    "print(summation(test_tup))"
   ]
  },
  {
   "cell_type": "code",
   "execution_count": 56,
   "id": "887ee4ee",
   "metadata": {},
   "outputs": [
    {
     "name": "stdout",
     "output_type": "stream",
     "text": [
      "The original tuple is: (7, 8, 9, 1, 10, 7)\n",
      "After addition of array is: 42\n"
     ]
    }
   ],
   "source": [
    "import numpy as np\n",
    "test_tup = (7, 8, 9, 1, 10, 7)\n",
    "arr = np.array(test_tup)\n",
    "print(\"The original tuple is:\",test_tup)\n",
    "result = np.sum(arr)\n",
    "print(\"After addition of array is:\",result)"
   ]
  },
  {
   "cell_type": "markdown",
   "id": "5872cdb9",
   "metadata": {},
   "source": [
    "### "
   ]
  },
  {
   "cell_type": "markdown",
   "id": "e0488fa5",
   "metadata": {},
   "source": [
    "### Modulo of tuple elements"
   ]
  },
  {
   "cell_type": "code",
   "execution_count": 58,
   "id": "04b489a6",
   "metadata": {},
   "outputs": [
    {
     "name": "stdout",
     "output_type": "stream",
     "text": [
      "Tuple 1: (10, 4, 5, 6)\n",
      "Tuple 2: (5, 6, 7, 5)\n",
      "The Modulus of tuple is: (0, 4, 5, 1)\n"
     ]
    }
   ],
   "source": [
    "test_tup1 = (10, 4, 5, 6)\n",
    "test_tup2 = (5, 6, 7, 5)\n",
    "print(\"Tuple 1:\",test_tup1)\n",
    "print(\"Tuple 2:\",test_tup2)\n",
    "result = tuple(ele1 % ele2 for ele1,ele2 in zip(test_tup1,test_tup2))\n",
    "print(\"The Modulus of tuple is:\",result)"
   ]
  },
  {
   "cell_type": "code",
   "execution_count": 59,
   "id": "8fc5a7c6",
   "metadata": {},
   "outputs": [
    {
     "name": "stdout",
     "output_type": "stream",
     "text": [
      "Tuple 1: (10, 4, 5, 6)\n",
      "Tuple 2: (5, 6, 7, 5)\n",
      "The Modulus tuple is: (0, 4, 5, 1)\n"
     ]
    }
   ],
   "source": [
    "from operator import mod\n",
    "test_tup1 = (10, 4, 5, 6)\n",
    "test_tup2 = (5, 6, 7, 5)\n",
    "print(\"Tuple 1:\",test_tup1)\n",
    "print(\"Tuple 2:\",test_tup2)\n",
    "result = tuple(map(mod,test_tup1,test_tup2))\n",
    "print(\"The Modulus tuple is:\",result)"
   ]
  },
  {
   "cell_type": "code",
   "execution_count": 60,
   "id": "6b14724b",
   "metadata": {},
   "outputs": [
    {
     "name": "stdout",
     "output_type": "stream",
     "text": [
      "Tuple 1: (10, 4, 5, 6)\n",
      "Tuple 2: (5, 6, 7, 5)\n",
      "The Modulus tuple is: (0, 4, 5, 1)\n"
     ]
    }
   ],
   "source": [
    "test_tup1 = (10, 4, 5, 6)\n",
    "test_tup2 = (5, 6, 7, 5)\n",
    "print(\"Tuple 1:\",test_tup1)\n",
    "print(\"Tuple 2:\",test_tup2)\n",
    "result = []\n",
    "for i in range(0,len(test_tup1)):\n",
    "    result.append(test_tup1[i] % test_tup2[i])\n",
    "result = tuple(result)\n",
    "print(\"The Modulus tuple is:\",result)"
   ]
  },
  {
   "cell_type": "code",
   "execution_count": 61,
   "id": "94876fe5",
   "metadata": {},
   "outputs": [
    {
     "name": "stdout",
     "output_type": "stream",
     "text": [
      "Tuple 1: (10, 4, 5, 6)\n",
      "Tuple 2: (5, 6, 7, 5)\n",
      "The Modulus tuple is: (0, 4, 5, 1)\n"
     ]
    }
   ],
   "source": [
    "import numpy as np\n",
    "test_tup1 = (10, 4, 5, 6)\n",
    "test_tup2 = (5, 6, 7, 5)\n",
    "print(\"Tuple 1:\",test_tup1)\n",
    "print(\"Tuple 2:\",test_tup2)\n",
    "result = tuple(np.mod(test_tup1,test_tup2))\n",
    "print(\"The Modulus tuple is:\",result)"
   ]
  },
  {
   "cell_type": "code",
   "execution_count": 62,
   "id": "d9e14298",
   "metadata": {},
   "outputs": [
    {
     "name": "stdout",
     "output_type": "stream",
     "text": [
      "Tuple 1: (10, 4, 5, 6)\n",
      "Tuple 2: (5, 6, 7, 5)\n",
      "The Modulus tuple is: (0, 4, 5, 1)\n"
     ]
    }
   ],
   "source": [
    "import itertools \n",
    "test_tup1 = (10, 4, 5, 6)\n",
    "test_tup2 = (5, 6, 7, 5)\n",
    "print(\"Tuple 1:\",test_tup1)\n",
    "print(\"Tuple 2:\",test_tup2)\n",
    "result = tuple(itertools.starmap(lambda x,y: x%y,zip(test_tup1,test_tup2)))\n",
    "print(\"The Modulus tuple is:\",result)"
   ]
  },
  {
   "cell_type": "markdown",
   "id": "cf0f1c32",
   "metadata": {},
   "source": [
    "###  Row-wise element Addition in Tuple Matrix"
   ]
  },
  {
   "cell_type": "code",
   "execution_count": 64,
   "id": "6bb7f365",
   "metadata": {},
   "outputs": [
    {
     "name": "stdout",
     "output_type": "stream",
     "text": [
      "The original list is: [[('Gfg', 3), ('is', 3)], [('best', 1)], [('for', 5), ('geeks', 1)]]\n",
      "The matrix after row element addition is: [[('Gfg', 3, 6), ('is', 3, 6)], [('best', 1, 7)], [('for', 5, 8), ('geeks', 1, 8)]]\n"
     ]
    }
   ],
   "source": [
    "test_list = [[('Gfg', 3), ('is', 3)], [('best', 1)], [('for', 5), ('geeks', 1)]]\n",
    "print(\"The original list is:\",test_list)\n",
    "cus_ele = [6,7,8]\n",
    "result = [[sub + (cus_ele[idx],) for sub in val] for idx,val in enumerate(test_list)]\n",
    "print(\"The matrix after row element addition is:\",result)"
   ]
  },
  {
   "cell_type": "code",
   "execution_count": 66,
   "id": "78b9f589",
   "metadata": {},
   "outputs": [
    {
     "name": "stdout",
     "output_type": "stream",
     "text": [
      "The original list is: [[('Gfg', 3), ('is', 3)], [('best', 1)], [('for', 5), ('geeks', 1)]]\n",
      "The matrix after row element addition is: [[(('Gfg', 3), 6), (('is', 3), 6)], [(('best', 1), 7)], [(('for', 5), 8), (('geeks', 1), 8)]]\n"
     ]
    }
   ],
   "source": [
    "test_list = [[('Gfg', 3), ('is', 3)], [('best', 1)], [('for', 5), ('geeks', 1)]]\n",
    "print(\"The original list is:\",test_list)\n",
    "cus_ele = [6,7,8]\n",
    "result =  [[(idx,val) for idx in key]for key,val in zip(test_list,cus_ele)]\n",
    "print(\"The matrix after row element addition is:\",result)"
   ]
  },
  {
   "cell_type": "markdown",
   "id": "4b2f2d01",
   "metadata": {},
   "source": [
    "### Update each element in tuple list"
   ]
  },
  {
   "cell_type": "code",
   "execution_count": 67,
   "id": "e69a42a4",
   "metadata": {},
   "outputs": [
    {
     "name": "stdout",
     "output_type": "stream",
     "text": [
      "The original list is: [(1, 3, 4), (2, 4, 6), (3, 8, 1)]\n",
      "The list after bulk update: [(5, 7, 8), (6, 8, 10), (7, 12, 5)]\n"
     ]
    }
   ],
   "source": [
    "test_list = [(1, 3, 4), (2, 4, 6), (3, 8, 1)]\n",
    "print(\"The original list is:\",test_list)\n",
    "add_ele = 4\n",
    "result = [tuple(j + add_ele for j in sub) for sub in test_list]\n",
    "print(\"The list after bulk update:\",result)"
   ]
  },
  {
   "cell_type": "code",
   "execution_count": 73,
   "id": "42305c84",
   "metadata": {},
   "outputs": [
    {
     "name": "stdout",
     "output_type": "stream",
     "text": [
      "The original list is: [(1, 3, 4), (2, 4, 6), (3, 8, 1)]\n",
      "The list after bulk update: [(5, 7, 8), (6, 8, 10), (7, 12, 5)]\n"
     ]
    }
   ],
   "source": [
    "test_list = [(1, 3, 4), (2, 4, 6), (3, 8, 1)]\n",
    "print(\"The original list is:\",test_list)\n",
    "add_ele = 4\n",
    "result = [tuple(map(lambda ele:(ele + add_ele),sub)) for sub in test_list]\n",
    "print(\"The list after bulk update:\",result)"
   ]
  },
  {
   "cell_type": "code",
   "execution_count": 75,
   "id": "2268516a",
   "metadata": {},
   "outputs": [
    {
     "name": "stdout",
     "output_type": "stream",
     "text": [
      "The original list is: [(1, 3, 4), (2, 4, 6), (3, 8, 1)]\n",
      "List after using extend() method : [(1, 3, 4), (2, 4, 6), (3, 8, 1), (5, 7, 2), (6, 9, 3)]\n"
     ]
    }
   ],
   "source": [
    "test_list = [(1, 3, 4), (2, 4, 6), (3, 8, 1)]\n",
    "print(\"The original list is:\",test_list)\n",
    "new_elements = [(5, 7, 2), (6, 9, 3)]\n",
    "test_list.extend(new_elements)\n",
    "print(\"List after using extend() method :\",test_list)"
   ]
  },
  {
   "cell_type": "code",
   "execution_count": 76,
   "id": "757edcca",
   "metadata": {},
   "outputs": [
    {
     "name": "stdout",
     "output_type": "stream",
     "text": [
      "The original list is: [(1, 3, 4), (2, 4, 6), (3, 8, 1)]\n",
      "List after using sclicing and concatenation: [(1, 3, 4), (5, 7, 2), (3, 8, 1)]\n"
     ]
    }
   ],
   "source": [
    "test_list = [(1, 3, 4), (2, 4, 6), (3, 8, 1)]\n",
    "print(\"The original list is:\",test_list)\n",
    "new_elements = (5, 7, 2)\n",
    "\n",
    "index_to_update = 1\n",
    "test_list = test_list[:index_to_update] + [new_elements] + test_list[index_to_update +1:]\n",
    "print(\"List after using sclicing and concatenation:\",test_list)"
   ]
  },
  {
   "cell_type": "code",
   "execution_count": 78,
   "id": "a9653637",
   "metadata": {},
   "outputs": [
    {
     "name": "stdout",
     "output_type": "stream",
     "text": [
      "The original list is: [(1, 3, 4), (2, 4, 6), (3, 8, 1)]\n",
      "The updated list using enumertae() and tuple unpacking is: [(2, 4, 5), (3, 5, 7), (4, 9, 2)]\n"
     ]
    }
   ],
   "source": [
    "test_list = [(1, 3, 4), (2, 4, 6), (3, 8, 1)]\n",
    "print(\"The original list is:\",test_list)\n",
    "result = [(a+1,b+1,c+1) for idx, (a,b,c) in enumerate(test_list)]\n",
    "print(\"The updated list using enumertae() and tuple unpacking is:\",result)"
   ]
  },
  {
   "cell_type": "code",
   "execution_count": 79,
   "id": "8fcbc2a9",
   "metadata": {},
   "outputs": [
    {
     "name": "stdout",
     "output_type": "stream",
     "text": [
      "The original list is: [(1, 3, 4), (2, 4, 6), (3, 8, 1)]\n",
      "The updated list using zip() function: [(2, 4, 5), (3, 5, 7), (4, 9, 2)]\n"
     ]
    }
   ],
   "source": [
    "test_list = [(1, 3, 4), (2, 4, 6), (3, 8, 1)]\n",
    "print(\"The original list is:\",test_list)\n",
    "updated_list = [tuple(x+1 for x in ele) for ele in zip(*test_list)]\n",
    "print(\"The updated list using zip() function:\",result)"
   ]
  },
  {
   "cell_type": "code",
   "execution_count": 80,
   "id": "cbe8cc54",
   "metadata": {},
   "outputs": [
    {
     "name": "stdout",
     "output_type": "stream",
     "text": [
      "[(5, 56, 'M'), (5, 14, 'F'), (5, 43, 'F'), (5, 10, 'M')]\n"
     ]
    }
   ],
   "source": [
    "def update_tuple(tuples,new_val):\n",
    "    for i in range(len(tuples)):\n",
    "        x,y,z = tuples[i]\n",
    "        tuples[i] = (new_val,y,z)\n",
    "    return tuples\n",
    "tuples = [(1, 56, 'M'), (1, 14, 'F'), (2, 43, 'F'), (2, 10, 'M')]\n",
    "new_val = 5\n",
    "updated_tuples = update_tuple(tuples, new_val)\n",
    "print(updated_tuples)"
   ]
  },
  {
   "cell_type": "code",
   "execution_count": 83,
   "id": "68ccf4cc",
   "metadata": {},
   "outputs": [
    {
     "name": "stdout",
     "output_type": "stream",
     "text": [
      "Updated list : [(1, 5, 4), (2, 5, 6), (3, 5, 1)]\n"
     ]
    }
   ],
   "source": [
    "test_list = [(1, 3, 4), (2, 4, 6), (3, 8, 1)]\n",
    "index = 1\n",
    "value = 5\n",
    "new_list = []\n",
    "for i in test_list:\n",
    "    temp_list = list(i)\n",
    "    temp_list[index] = value\n",
    "    new_tup = tuple(temp_list)\n",
    "    new_list.append(new_tup)\n",
    "    \n",
    "print(\"Updated list :\",new_list)"
   ]
  },
  {
   "cell_type": "markdown",
   "id": "ca5deb15",
   "metadata": {},
   "source": [
    "### Multiply Adjacent elements"
   ]
  },
  {
   "cell_type": "code",
   "execution_count": 84,
   "id": "5f1da94e",
   "metadata": {},
   "outputs": [
    {
     "name": "stdout",
     "output_type": "stream",
     "text": [
      "The original tuple is: [3, 5, 6, 7, 8, 20]\n",
      "resultent tuple after multiplication: (5, 35, 56, 80)\n"
     ]
    }
   ],
   "source": [
    "test_tup = (1, 5, 7, 8, 10) \n",
    "print(\"The original tuple is:\",test_tuple)\n",
    "result = tuple(i*j for i,j in zip(test_tup,test_tup[1:]))\n",
    "print(\"resultent tuple after multiplication:\",result)"
   ]
  },
  {
   "cell_type": "code",
   "execution_count": 85,
   "id": "f1ab0894",
   "metadata": {},
   "outputs": [
    {
     "name": "stdout",
     "output_type": "stream",
     "text": [
      "The original tuple is: [3, 5, 6, 7, 8, 20]\n",
      "resultent tuple after multiplication: (5, 35, 56, 80)\n"
     ]
    }
   ],
   "source": [
    "test_tup = (1, 5, 7, 8, 10) \n",
    "print(\"The original tuple is:\",test_tuple)\n",
    "result = tuple(map(lambda i,j:i*j,test_tup[1:],test_tup[:-1]))\n",
    "print(\"resultent tuple after multiplication:\",result)"
   ]
  },
  {
   "cell_type": "code",
   "execution_count": 86,
   "id": "461098ae",
   "metadata": {},
   "outputs": [
    {
     "name": "stdout",
     "output_type": "stream",
     "text": [
      "The original tuple is: [3, 5, 6, 7, 8, 20]\n",
      "resultent tuple after multiplication: [ 5 35 56 80]\n"
     ]
    }
   ],
   "source": [
    "import numpy as np\n",
    "test_tup = (1, 5, 7, 8, 10)\n",
    "print(\"The original tuple is:\",test_tuple)\n",
    "result = np.multiply(test_tup[1:],test_tup[:-1])\n",
    "print(\"resultent tuple after multiplication:\",result)"
   ]
  },
  {
   "cell_type": "code",
   "execution_count": 87,
   "id": "ea8bab96",
   "metadata": {},
   "outputs": [
    {
     "name": "stdout",
     "output_type": "stream",
     "text": [
      "The original tuple is: [3, 5, 6, 7, 8, 20]\n",
      "resultent tuple after multiplication: [5, 35, 56, 80]\n"
     ]
    }
   ],
   "source": [
    "test_tup = (1, 5, 7, 8, 10)\n",
    "print(\"The original tuple is:\",test_tuple)\n",
    "result = []\n",
    "for i in range(len(test_tup)-1):\n",
    "    result.append(test_tup[i] * test_tup[i+1])\n",
    "print(\"resultent tuple after multiplication:\",result)    "
   ]
  },
  {
   "cell_type": "markdown",
   "id": "60893136",
   "metadata": {},
   "source": [
    "### Join Tuples if similar initial element"
   ]
  },
  {
   "cell_type": "code",
   "execution_count": 1,
   "id": "8c786c6f",
   "metadata": {},
   "outputs": [
    {
     "name": "stdout",
     "output_type": "stream",
     "text": [
      "The Original list is: [(5, 6), (5, 7), (6, 8), (6, 10), (7, 13)]\n",
      "The Extracted element: [(5, 6, 7), (6, 8, 10), (7, 13)]\n"
     ]
    }
   ],
   "source": [
    "test_list = [(5, 6), (5, 7), (6, 8), (6, 10), (7, 13)]\n",
    "print(\"The Original list is:\",test_list)\n",
    "result = []\n",
    "for sub in test_list:\n",
    "    if result and result[-1][0]==sub[0]:\n",
    "        result[-1].extend(sub[1:])\n",
    "    else:\n",
    "        result.append([ele for ele in sub])\n",
    "result = list(map(tuple,result))\n",
    "\n",
    "print(\"The Extracted element:\",result)"
   ]
  },
  {
   "cell_type": "code",
   "execution_count": 3,
   "id": "27cc63a2",
   "metadata": {},
   "outputs": [
    {
     "name": "stdout",
     "output_type": "stream",
     "text": [
      "The Original list is: [(5, 6), (5, 7), (6, 8), (6, 10), (7, 13)]\n",
      "The Extracted element: [(5, 6, 7), (6, 8, 10), (7, 13)]\n"
     ]
    }
   ],
   "source": [
    "from collections import defaultdict\n",
    "test_list = [(5, 6), (5, 7), (6, 8), (6, 10), (7, 13)]\n",
    "print(\"The Original list is:\",test_list)\n",
    "mapp = defaultdict(list)\n",
    "for key,val in test_list:\n",
    "    mapp[key].append(val)\n",
    "result = [(key,*val) for key,val in mapp.items()]\n",
    "print(\"The Extracted element:\",result)"
   ]
  },
  {
   "cell_type": "code",
   "execution_count": 4,
   "id": "e49f3f12",
   "metadata": {},
   "outputs": [
    {
     "name": "stdout",
     "output_type": "stream",
     "text": [
      "The Original list is: [(5, 6), (5, 7), (6, 8), (6, 10), (7, 13)]\n",
      "The Extracted element: [[5, 6, 7], [6, 8, 10], [7, 13]]\n"
     ]
    }
   ],
   "source": [
    "print(\"The Original list is:\",test_list)\n",
    "mapp = defaultdict(list)\n",
    "result = []\n",
    "x = []\n",
    "for i in test_list:\n",
    "    if i[0] not in x:\n",
    "        x.append(i[0])\n",
    "for i in x:\n",
    "    p=[]\n",
    "    p.append(i)\n",
    "    for j in test_list:\n",
    "        if i == j[0]:\n",
    "            p.append(j[1])\n",
    "    result.append(p)\n",
    "    \n",
    "print(\"The Extracted element:\",result)"
   ]
  },
  {
   "cell_type": "code",
   "execution_count": 5,
   "id": "db8679a7",
   "metadata": {},
   "outputs": [
    {
     "name": "stdout",
     "output_type": "stream",
     "text": [
      "The Original list is: [(5, 6), (5, 7), (6, 8), (6, 10), (7, 13)]\n",
      "The Extracted element: [(5, 6, 7), (6, 8, 10), (7, 13)]\n"
     ]
    }
   ],
   "source": [
    "test_list = [(5, 6), (5, 7), (6, 8), (6, 10), (7, 13)]\n",
    "print(\"The Original list is:\",test_list)\n",
    "temp_dict = {}\n",
    "for x in test_list:\n",
    "    temp_dict[x[0]] = temp_dict.get(x[0],[]) + list(x[1:])\n",
    "result = [(k,) + tuple(v) for k,v in temp_dict.items()]\n",
    "print(\"The Extracted element:\",result)"
   ]
  },
  {
   "cell_type": "code",
   "execution_count": 6,
   "id": "44816e50",
   "metadata": {},
   "outputs": [
    {
     "name": "stdout",
     "output_type": "stream",
     "text": [
      "The Original list is: [(5, 6), (5, 7), (6, 8), (6, 10), (7, 13)]\n",
      "The Extracted element: [(5, 6, 7), (6, 8, 10), (7, 13)]\n"
     ]
    }
   ],
   "source": [
    "from itertools import groupby\n",
    "test_list = [(5, 6), (5, 7), (6, 8), (6, 10), (7, 13)]\n",
    "print(\"The Original list is:\",test_list)\n",
    "result = []\n",
    "for k,g in groupby(test_list,key = lambda x:x[0]):\n",
    "    values = [v for _,v in g]\n",
    "    result.append((k,*values))\n",
    "    \n",
    "print(\"The Extracted element:\",result)"
   ]
  },
  {
   "cell_type": "code",
   "execution_count": 7,
   "id": "6f8cf374",
   "metadata": {},
   "outputs": [
    {
     "name": "stdout",
     "output_type": "stream",
     "text": [
      "The Original list is: [(5, 6), (5, 7), (6, 8), (6, 10), (7, 13)]\n",
      "The Extracted element: [(5, 6, 7), (6, 8, 10), (7, 13)]\n"
     ]
    }
   ],
   "source": [
    "import pandas as pd\n",
    "test_list = [(5, 6), (5, 7), (6, 8), (6, 10), (7, 13)]\n",
    "print(\"The Original list is:\",test_list)\n",
    "df = pd.DataFrame(test_list,columns = [\"A\",\"B\"])\n",
    "grouped = df.groupby(\"A\")[\"B\"].apply(list)\n",
    "result = [tuple([k] + v) for k,v in grouped.items()]\n",
    "print(\"The Extracted element:\",result)"
   ]
  },
  {
   "cell_type": "markdown",
   "id": "587c2ba2",
   "metadata": {},
   "source": [
    "###  All pair combinations of 2 tuples"
   ]
  },
  {
   "cell_type": "code",
   "execution_count": 9,
   "id": "c1f41054",
   "metadata": {},
   "outputs": [
    {
     "name": "stdout",
     "output_type": "stream",
     "text": [
      "The original Tuple 1 is: (4, 5)\n",
      "The original Tuple 2 is: (7, 8)\n",
      "The filtered tuple is: [(4, 7), (4, 8), (5, 7), (5, 8), (7, 4), (7, 5), (8, 4), (8, 5)]\n"
     ]
    }
   ],
   "source": [
    "test_tuple1 = (4, 5)\n",
    "test_tuple2 = (7, 8)\n",
    "print(\"The original Tuple 1 is:\",test_tuple1)\n",
    "print(\"The original Tuple 2 is:\",test_tuple2)\n",
    "\n",
    "result = [(a,b) for a in test_tuple1 for b in test_tuple2]\n",
    "result = result + [(a,b) for a in test_tuple2 for b in test_tuple1]\n",
    "print(\"The filtered tuple is:\",result)"
   ]
  },
  {
   "cell_type": "code",
   "execution_count": 10,
   "id": "055d92e0",
   "metadata": {},
   "outputs": [
    {
     "name": "stdout",
     "output_type": "stream",
     "text": [
      "The original Tuple 1 is: (4, 5)\n",
      "The original Tuple 2 is: (7, 8)\n",
      "The filtered tuple is: [(4, 7), (4, 8), (5, 7), (5, 8), (7, 4), (7, 5), (8, 4), (8, 5)]\n"
     ]
    }
   ],
   "source": [
    "from itertools import chain,product\n",
    "test_tuple1 = (4, 5)\n",
    "test_tuple2 = (7, 8)\n",
    "print(\"The original Tuple 1 is:\",test_tuple1)\n",
    "print(\"The original Tuple 2 is:\",test_tuple2)\n",
    "\n",
    "result = list(chain(product(test_tuple1,test_tuple2),product(test_tuple2,test_tuple1)))\n",
    "print(\"The filtered tuple is:\",result)"
   ]
  },
  {
   "cell_type": "code",
   "execution_count": 11,
   "id": "38f140a6",
   "metadata": {},
   "outputs": [
    {
     "name": "stdout",
     "output_type": "stream",
     "text": [
      "The original Tuple 1 is: (4, 5)\n",
      "The original Tuple 2 is: (7, 8)\n",
      "The filtered tuple is : [(4, 7), (7, 4), (4, 8), (8, 4), (5, 7), (7, 5), (5, 8), (8, 5)]\n"
     ]
    }
   ],
   "source": [
    "test_tuple1 = (4, 5)\n",
    "test_tuple2 = (7, 8)\n",
    "print(\"The original Tuple 1 is:\",test_tuple1)\n",
    "print(\"The original Tuple 2 is:\",test_tuple2)\n",
    "\n",
    "result = []\n",
    "for ele1 in test_tuple1:\n",
    "    for ele2 in test_tuple2:\n",
    "        result.append((ele1,ele2))\n",
    "        result.append((ele2,ele1))\n",
    "print(\"The filtered tuple is :\",result)"
   ]
  },
  {
   "cell_type": "markdown",
   "id": "11e1c28f",
   "metadata": {},
   "source": [
    "### Remove Tuples of Length K\n"
   ]
  },
  {
   "cell_type": "code",
   "execution_count": 12,
   "id": "5ce48ac8",
   "metadata": {},
   "outputs": [
    {
     "name": "stdout",
     "output_type": "stream",
     "text": [
      "The Original list is: [(4, 5), (4,), (8, 6, 7), (1,), (3, 4, 6, 7)]\n",
      "After removing tuple length K is: [(4, 5), (8, 6, 7), (3, 4, 6, 7)]\n"
     ]
    }
   ],
   "source": [
    "test_list = [(4, 5), (4, ), (8, 6, 7), (1, ), (3, 4, 6, 7)]\n",
    "print(\"The Original list is:\",test_list)\n",
    "K = 1\n",
    "result = [ele for ele in test_list if len(ele)!=1]\n",
    "print(\"After removing tuple length K is:\",result)"
   ]
  },
  {
   "cell_type": "code",
   "execution_count": 13,
   "id": "709a0455",
   "metadata": {},
   "outputs": [
    {
     "name": "stdout",
     "output_type": "stream",
     "text": [
      "The Original list is: [(4, 5), (4,), (8, 6, 7), (1,), (3, 4, 6, 7)]\n",
      "After removing tuple length K is: [(4, 5), (8, 6, 7), (3, 4, 6, 7)]\n"
     ]
    }
   ],
   "source": [
    "test_list = [(4, 5), (4, ), (8, 6, 7), (1, ), (3, 4, 6, 7)]\n",
    "print(\"The Original list is:\",test_list)\n",
    "K = 1\n",
    "result = list(filter(lambda x:len(x)!=K,test_list))\n",
    "print(\"After removing tuple length K is:\",result)"
   ]
  },
  {
   "cell_type": "code",
   "execution_count": 15,
   "id": "3b5dc575",
   "metadata": {},
   "outputs": [
    {
     "name": "stdout",
     "output_type": "stream",
     "text": [
      "The Original list is: [(4, 5), (4,), (8, 6, 7), (1,), (3, 4, 6, 7)]\n",
      "After removing tuple length K is: [(4, 5), (8, 6, 7), (3, 4, 6, 7)]\n"
     ]
    }
   ],
   "source": [
    "test_list = [(4, 5), (4, ), (8, 6, 7), (1, ), (3, 4, 6, 7)]\n",
    "print(\"The Original list is:\",test_list)\n",
    "K = 1\n",
    "result = list(map(lambda x:x,filter(lambda x:len(x)!=K,test_list)))\n",
    "print(\"After removing tuple length K is:\",result)"
   ]
  },
  {
   "cell_type": "markdown",
   "id": "4b26bc55",
   "metadata": {},
   "source": [
    "### Remove Tuples from the List having every element as None"
   ]
  },
  {
   "cell_type": "code",
   "execution_count": 16,
   "id": "4f73f80e",
   "metadata": {},
   "outputs": [
    {
     "name": "stdout",
     "output_type": "stream",
     "text": [
      "The Original list is: [(None, 2), (None, None), (3, 4), (12, 3), (None,)]\n",
      "After Removing None Tuple: [(None, 2), (3, 4), (12, 3)]\n"
     ]
    }
   ],
   "source": [
    "test_list = [(None, 2), (None, None), (3, 4), (12, 3), (None, )]\n",
    "print(\"The Original list is:\",test_list)\n",
    "result = [sub for sub in test_list if not all(ele == None for ele in sub)]\n",
    "print(\"After Removing None Tuple:\",result)"
   ]
  },
  {
   "cell_type": "code",
   "execution_count": 17,
   "id": "178dc37d",
   "metadata": {},
   "outputs": [
    {
     "name": "stdout",
     "output_type": "stream",
     "text": [
      "The Original list is: [(None, 2), (None, None), (3, 4), (12, 3), (None,)]\n",
      "After Removing None Tuple: [(3, 4), (12, 3)]\n"
     ]
    }
   ],
   "source": [
    "test_list = [(None, 2), (None, None), (3, 4), (12, 3), (None, )]\n",
    "print(\"The Original list is:\",test_list)\n",
    "result = list(filter(lambda sub: not any(ele == None for ele in sub),test_list))\n",
    "print(\"After Removing None Tuple:\",result)"
   ]
  },
  {
   "cell_type": "code",
   "execution_count": 18,
   "id": "fc418b4f",
   "metadata": {},
   "outputs": [
    {
     "name": "stdout",
     "output_type": "stream",
     "text": [
      "The Original list is: [(None, 2), (None, None), (3, 4), (12, 3), (None,)]\n",
      "After Removing None Tuple: [(None, 2), (3, 4), (12, 3)]\n"
     ]
    }
   ],
   "source": [
    "test_list = [(None, 2), (None, None), (3, 4), (12, 3), (None, )]\n",
    "print(\"The Original list is:\",test_list)\n",
    "result = []\n",
    "for i in test_list:\n",
    "    if not(i.count(None) == len(i)):\n",
    "        result.append(i)\n",
    "print(\"After Removing None Tuple:\",result)"
   ]
  },
  {
   "cell_type": "code",
   "execution_count": 19,
   "id": "25097bb7",
   "metadata": {},
   "outputs": [
    {
     "name": "stdout",
     "output_type": "stream",
     "text": [
      "The Original list is: [(None, 2), (None, None), (3, 4), (12, 3), (None,)]\n",
      "After Removing None Tuple: [(None, 2), (3, 4), (12, 3)]\n"
     ]
    }
   ],
   "source": [
    "test_list = [(None, 2), (None, None), (3, 4), (12, 3), (None, )]\n",
    "print(\"The Original list is:\",test_list)\n",
    "result = [val for idx,val in enumerate(test_list) if not all(ele == None for ele in val)]\n",
    "print(\"After Removing None Tuple:\",result)"
   ]
  },
  {
   "cell_type": "markdown",
   "id": "310dcad5",
   "metadata": {},
   "source": [
    "### Python program to sort a list of tuples by second Item"
   ]
  },
  {
   "cell_type": "code",
   "execution_count": 22,
   "id": "4775374e",
   "metadata": {},
   "outputs": [
    {
     "name": "stdout",
     "output_type": "stream",
     "text": [
      "Original Tuple: [('for', 24), ('is', 10), ('Geeks', 28), ('Geeksforgeeks', 5), ('portal', 20), ('a', 15)]\n",
      "[('Geeksforgeeks', 5), ('is', 10), ('a', 15), ('portal', 20), ('for', 24), ('Geeks', 28)]\n"
     ]
    }
   ],
   "source": [
    "def sort_tuple(tup):\n",
    "    lst = len(tup)\n",
    "    for i in range(0,lst):\n",
    "        for j in range(0,lst - i -1):\n",
    "            if (tup[j][1] > tup[j + 1][1]):\n",
    "                temp = tup[j]\n",
    "                tup[j] = tup[j+1]\n",
    "                tup[j + 1] = temp\n",
    "    return tup\n",
    "tup = [('for', 24), ('is', 10), ('Geeks', 28),\n",
    "       ('Geeksforgeeks', 5), ('portal', 20), ('a', 15)]\n",
    "print(\"Original Tuple:\",tup) \n",
    "print(sort_tuple(tup))"
   ]
  },
  {
   "cell_type": "code",
   "execution_count": 25,
   "id": "7eb75220",
   "metadata": {},
   "outputs": [
    {
     "name": "stdout",
     "output_type": "stream",
     "text": [
      "Original Tuple: [('rishav', 10), ('akash', 5), ('ram', 20), ('gaurav', 15)]\n",
      "[('akash', 5), ('rishav', 10), ('gaurav', 15), ('ram', 20)]\n"
     ]
    }
   ],
   "source": [
    "def sort_tuple(tup):\n",
    "    tup.sort(key=lambda x:x[1])\n",
    "    return tup\n",
    "tup = tup = [('rishav', 10), ('akash', 5), ('ram', 20), ('gaurav', 15)] \n",
    "\n",
    "print(\"Original Tuple:\",tup) \n",
    "print(sort_tuple(tup))"
   ]
  },
  {
   "cell_type": "code",
   "execution_count": 26,
   "id": "2cdaeedd",
   "metadata": {},
   "outputs": [
    {
     "name": "stdout",
     "output_type": "stream",
     "text": [
      "Original Tuple: [('rishav', 10), ('akash', 5), ('ram', 20), ('gaurav', 15)]\n",
      "[('akash', 5), ('rishav', 10), ('gaurav', 15), ('ram', 20)]\n"
     ]
    }
   ],
   "source": [
    "def sort_tuple(tup):\n",
    "    return (sorted(tup,key=lambda x:x[1]))\n",
    "tup = tup = [('rishav', 10), ('akash', 5), ('ram', 20), ('gaurav', 15)] \n",
    "\n",
    "print(\"Original Tuple:\",tup) \n",
    "print(sort_tuple(tup))"
   ]
  },
  {
   "cell_type": "code",
   "execution_count": 27,
   "id": "fb21dfb8",
   "metadata": {},
   "outputs": [
    {
     "name": "stdout",
     "output_type": "stream",
     "text": [
      "[('Geeks', 8), ('for', 24), ('Geeks', 30)]\n"
     ]
    }
   ],
   "source": [
    "from operator import itemgetter\n",
    "def sort_tuples(tuples):\n",
    "    return sorted(tuples,key=itemgetter(1))\n",
    "tuples = [('for', 24), ('Geeks', 8), ('Geeks', 30)]\n",
    "print(sort_tuples(tuples))"
   ]
  },
  {
   "cell_type": "markdown",
   "id": "e83b21d6",
   "metadata": {},
   "source": [
    "### Sort Tuples by Total digits"
   ]
  },
  {
   "cell_type": "code",
   "execution_count": 29,
   "id": "58677797",
   "metadata": {},
   "outputs": [
    {
     "name": "stdout",
     "output_type": "stream",
     "text": [
      "The original list is : [(3, 4, 6, 723), (1, 2), (12345,), (134, 234, 34)]\n",
      "Sorted tuples : [(1, 2), (12345,), (3, 4, 6, 723), (134, 234, 34)]\n"
     ]
    }
   ],
   "source": [
    "def count_digs(tup):\n",
    "    return sum([len(str(ele)) for ele in tup])\n",
    "\n",
    "test_list = [(3, 4, 6, 723), (1, 2), (12345,), (134, 234, 34)]\n",
    "print(\"The original list is : \" + str(test_list))\n",
    " \n",
    "# performing sort \n",
    "test_list.sort(key = count_digs)\n",
    " \n",
    "# printing result \n",
    "print(\"Sorted tuples : \" + str(test_list))"
   ]
  },
  {
   "cell_type": "code",
   "execution_count": 31,
   "id": "35f16f6a",
   "metadata": {},
   "outputs": [
    {
     "name": "stdout",
     "output_type": "stream",
     "text": [
      "The Original list is: [(3, 4, 6, 723), (1, 2), (12345,), (134, 234, 34)]\n",
      "Sorted Tuple: [(1, 2), (12345,), (3, 4, 6, 723), (134, 234, 34)]\n"
     ]
    }
   ],
   "source": [
    "test_list = [(3, 4, 6, 723), (1, 2), (12345,), (134, 234, 34)]\n",
    "print(\"The Original list is:\",test_list)\n",
    "result = sorted(test_list,key=lambda tup:sum([len(str(ele)) for ele in tup]))\n",
    "print(\"Sorted Tuple:\",result)"
   ]
  },
  {
   "cell_type": "markdown",
   "id": "d755a53d",
   "metadata": {},
   "source": [
    "### Element frequency in Tuple"
   ]
  },
  {
   "cell_type": "code",
   "execution_count": 32,
   "id": "f8934586",
   "metadata": {},
   "outputs": [
    {
     "name": "stdout",
     "output_type": "stream",
     "text": [
      "The Original tuple is: (4, 5, 4, 5, 6, 6, 5, 5, 4)\n",
      "Tuple element frequency is: {4: 3, 5: 4, 6: 2}\n"
     ]
    }
   ],
   "source": [
    "from collections import defaultdict\n",
    "test_tup = (4, 5, 4, 5, 6, 6, 5, 5, 4)\n",
    "print(\"The Original tuple is:\",test_tup)\n",
    "result = defaultdict(int)\n",
    "for ele in test_tup:\n",
    "    result[ele] += 1\n",
    "print(\"Tuple element frequency is:\",str(dict(result)))"
   ]
  },
  {
   "cell_type": "code",
   "execution_count": 33,
   "id": "4cabbf03",
   "metadata": {},
   "outputs": [
    {
     "name": "stdout",
     "output_type": "stream",
     "text": [
      "The Original tuple is: (4, 5, 4, 5, 6, 6, 5, 5, 4)\n",
      "Tuple element frequency is: {4: 3, 5: 4, 6: 2}\n"
     ]
    }
   ],
   "source": [
    "from collections import Counter\n",
    "test_tup = (4, 5, 4, 5, 6, 6, 5, 5, 4)\n",
    "print(\"The Original tuple is:\",test_tup)\n",
    "result = dict(Counter(test_tup))\n",
    "print(\"Tuple element frequency is:\",str(dict(result)))"
   ]
  },
  {
   "cell_type": "code",
   "execution_count": 34,
   "id": "c9cc0171",
   "metadata": {},
   "outputs": [
    {
     "name": "stdout",
     "output_type": "stream",
     "text": [
      "The Original tuple is: (4, 5, 4, 5, 6, 6, 5, 5, 4)\n",
      "Tuple element frequency is: {4: 3, 5: 4, 6: 2}\n"
     ]
    }
   ],
   "source": [
    "test_tup = (4, 5, 4, 5, 6, 6, 5, 5, 4)\n",
    "print(\"The Original tuple is:\",test_tup)\n",
    "result = {}\n",
    "x=list(test_tup)\n",
    "y=[]\n",
    "for i in x:\n",
    "    if i not in y:\n",
    "        y.append(i)\n",
    "for i in y:\n",
    "    result[i] = x.count(i)\n",
    "print(\"Tuple element frequency is:\",str(dict(result)))"
   ]
  },
  {
   "cell_type": "code",
   "execution_count": 35,
   "id": "4901683b",
   "metadata": {},
   "outputs": [
    {
     "name": "stdout",
     "output_type": "stream",
     "text": [
      "The Original tuple is: (4, 5, 4, 5, 6, 6, 5, 5, 4)\n",
      "Tuple element frequency is: {4: 3, 5: 4, 6: 2}\n"
     ]
    }
   ],
   "source": [
    "test_tup = (4, 5, 4, 5, 6, 6, 5, 5, 4)\n",
    "print(\"The Original tuple is:\",test_tup)\n",
    "result = {}\n",
    "for ele in test_tup:\n",
    "    if ele in result:\n",
    "        result[ele] += 1\n",
    "    else:\n",
    "        result[ele] =1\n",
    "        \n",
    "print(\"Tuple element frequency is:\",result)"
   ]
  },
  {
   "cell_type": "code",
   "execution_count": 38,
   "id": "96bfa213",
   "metadata": {},
   "outputs": [
    {
     "name": "stdout",
     "output_type": "stream",
     "text": [
      "The Original tuple is: (4, 5, 4, 5, 6, 6, 5, 5, 4)\n",
      "Tuple element frequency is: {4: 3, 5: 4, 6: 2}\n"
     ]
    }
   ],
   "source": [
    "test_tup = (4, 5, 4, 5, 6, 6, 5, 5, 4)\n",
    "print(\"The Original tuple is:\",test_tup)\n",
    "ele = set(test_tup)\n",
    "result = {elem:[x for x in test_tup].count(elem) for elem in ele}\n",
    "print(\"Tuple element frequency is:\",result)"
   ]
  },
  {
   "cell_type": "code",
   "execution_count": 39,
   "id": "7517bc07",
   "metadata": {},
   "outputs": [
    {
     "name": "stdout",
     "output_type": "stream",
     "text": [
      "The Original tuple is: (4, 5, 4, 5, 6, 6, 5, 5, 4)\n",
      "Tuple element frequency is: Counter({5: 4, 4: 3, 6: 2})\n"
     ]
    }
   ],
   "source": [
    "from collections import Counter\n",
    "from functools import reduce\n",
    "test_tup = (4, 5, 4, 5, 6, 6, 5, 5, 4)\n",
    "print(\"The Original tuple is:\",test_tup)\n",
    "\n",
    "result = reduce(lambda x,y:Counter(x) + Counter(y),[test_tup],Counter())\n",
    "print(\"Tuple element frequency is:\",result)"
   ]
  },
  {
   "cell_type": "code",
   "execution_count": 40,
   "id": "cf477a3b",
   "metadata": {},
   "outputs": [
    {
     "name": "stdout",
     "output_type": "stream",
     "text": [
      "The Original tuple is: (4, 5, 4, 5, 6, 6, 5, 5, 4)\n",
      "Tuple element frequency is: {4: 3, 5: 4, 6: 2}\n"
     ]
    }
   ],
   "source": [
    "import numpy as np\n",
    "test_tup = (4, 5, 4, 5, 6, 6, 5, 5, 4)\n",
    "print(\"The Original tuple is:\",test_tup)\n",
    "\n",
    "arr = np.array(test_tup)\n",
    "unique,count = np.unique(arr,return_counts = True)\n",
    "result = dict(zip(unique,count))\n",
    "print(\"Tuple element frequency is:\",result)"
   ]
  },
  {
   "cell_type": "markdown",
   "id": "00023b77",
   "metadata": {},
   "source": [
    "### Filter Range Length Tuples"
   ]
  },
  {
   "cell_type": "code",
   "execution_count": 41,
   "id": "8ea21e16",
   "metadata": {},
   "outputs": [
    {
     "name": "stdout",
     "output_type": "stream",
     "text": [
      "The Original tuple is: (4, 5, 4, 5, 6, 6, 5, 5, 4)\n",
      "The tuple list after filtering range records : [(5, 6), (2, 3, 5), (5, 9)]\n"
     ]
    }
   ],
   "source": [
    "test_list = [(4, ), (5, 6), (2, 3, 5), (5, 6, 8, 2), (5, 9)]\n",
    "print(\"The Original tuple is:\",test_tup)\n",
    "i,j=2,3\n",
    "result = [sub for sub in test_list if len(sub) >= i and len(sub)<=j]\n",
    "print(\"The tuple list after filtering range records :\",result)"
   ]
  },
  {
   "cell_type": "code",
   "execution_count": 42,
   "id": "90b3ffe2",
   "metadata": {},
   "outputs": [
    {
     "name": "stdout",
     "output_type": "stream",
     "text": [
      "The Original tuple is: (4, 5, 4, 5, 6, 6, 5, 5, 4)\n",
      "The tuple list after filtering range records : [(5, 6), (2, 3, 5), (5, 9)]\n"
     ]
    }
   ],
   "source": [
    "test_list = [(4, ), (5, 6), (2, 3, 5), (5, 6, 8, 2), (5, 9)]\n",
    "print(\"The Original tuple is:\",test_tup)\n",
    "i,j=2,3\n",
    "result = list(filter(lambda ele:len(ele)>=i and len(ele)<=j,test_list))\n",
    "print(\"The tuple list after filtering range records :\",result)"
   ]
  },
  {
   "cell_type": "code",
   "execution_count": 43,
   "id": "14bb83eb",
   "metadata": {},
   "outputs": [
    {
     "name": "stdout",
     "output_type": "stream",
     "text": [
      "[(5, 6), (2, 3, 5), (5, 9)]\n"
     ]
    }
   ],
   "source": [
    "def filter_tuples(tuple_list,min_length,max_length):\n",
    "    filter_list = []\n",
    "    for i in tuple_list:\n",
    "        if min_length <= len(t) <= max_length:\n",
    "            filter_list.append(i)\n",
    "    return filter_list\n",
    "\n",
    "original_list = [(4, ), (5, 6), (2, 3, 5), (5, 6, 8, 2), (5, 9)]\n",
    "filtered_list = [t for t in original_list if 2 <= len(t) <= 3]\n",
    "print(filtered_list)"
   ]
  },
  {
   "cell_type": "markdown",
   "id": "f368881e",
   "metadata": {},
   "source": [
    "###  Assign Frequency to Tuples"
   ]
  },
  {
   "cell_type": "code",
   "execution_count": 44,
   "id": "09a0c15c",
   "metadata": {},
   "outputs": [
    {
     "name": "stdout",
     "output_type": "stream",
     "text": [
      "The original list is :  [(6, 5, 8), (2, 7), (6, 5, 8), (6, 5, 8), (9,), (2, 7)]\n",
      "Frequency Tuple List: [(6, 5, 8, 3), (2, 7, 2), (9, 1)]\n"
     ]
    }
   ],
   "source": [
    "from collections import Counter\n",
    "test_list = [(6, 5, 8), (2, 7), (6, 5, 8), (6, 5, 8), (9, ), (2, 7)]\n",
    "print(\"The original list is : \",test_list)\n",
    "result = [(*key,val) for key,val in Counter(test_list).items()]\n",
    "print(\"Frequency Tuple List:\",result)"
   ]
  },
  {
   "cell_type": "code",
   "execution_count": 45,
   "id": "c49804b1",
   "metadata": {},
   "outputs": [
    {
     "name": "stdout",
     "output_type": "stream",
     "text": [
      "The original list is :  [(6, 5, 8), (2, 7), (6, 5, 8), (6, 5, 8), (9,), (2, 7)]\n",
      "Frequency Tuple List: [(6, 5, 8, 3), (2, 7, 2), (9, 1)]\n"
     ]
    }
   ],
   "source": [
    "from collections import Counter\n",
    "test_list = [(6, 5, 8), (2, 7), (6, 5, 8), (6, 5, 8), (9, ), (2, 7)]\n",
    "print(\"The original list is : \",test_list)\n",
    "result = [(*key,val) for key,val in Counter(test_list).most_common()]\n",
    "print(\"Frequency Tuple List:\",result)"
   ]
  },
  {
   "cell_type": "code",
   "execution_count": 46,
   "id": "eac7b027",
   "metadata": {},
   "outputs": [
    {
     "name": "stdout",
     "output_type": "stream",
     "text": [
      "The original list is :  [(6, 5, 8), (2, 7), (6, 5, 8), (6, 5, 8), (9,), (2, 7)]\n",
      "Frequency Tuple List: [(6, 5, 8), (2, 7), (9,)]\n"
     ]
    }
   ],
   "source": [
    "test_list = [(6, 5, 8), (2, 7), (6, 5, 8), (6, 5, 8), (9, ), (2, 7)]\n",
    "print(\"The original list is : \",test_list)\n",
    "result = []\n",
    "for i in test_list:\n",
    "    if i not in result:\n",
    "        result.append(i)\n",
    "result1=[]\n",
    "for i in result:\n",
    "    x = list(i)\n",
    "    x.append(test_list.count(i))\n",
    "    p=tuple(x)\n",
    "    result1.append(p)\n",
    "    \n",
    "print(\"Frequency Tuple List:\",result)"
   ]
  },
  {
   "cell_type": "markdown",
   "id": "e9c6a47c",
   "metadata": {},
   "source": [
    "###  Records with Value at K index"
   ]
  },
  {
   "cell_type": "code",
   "execution_count": 56,
   "id": "3d6abee2",
   "metadata": {},
   "outputs": [
    {
     "name": "stdout",
     "output_type": "stream",
     "text": [
      "The original list is : [(3, 1, 5), (1, 3, 6), (2, 5, 7), (5, 2, 8), (6, 3, 0)]\n",
      "The tuples of element at Kth position : [(1, 3, 6), (6, 3, 0)]\n"
     ]
    }
   ],
   "source": [
    "test_list = [(3, 1, 5), (1, 3, 6), (2, 5, 7), (5, 2, 8), (6, 3, 0)]\n",
    " \n",
    "# printing original list\n",
    "print(\"The original list is : \" + str(test_list))\n",
    " \n",
    "# initialize ele \n",
    "ele = 3\n",
    " \n",
    "# initialize K \n",
    "K = 1\n",
    "res = [b for a, b in enumerate(test_list) if b[K] == ele]\n",
    " \n",
    "# printing result\n",
    "print(\"The tuples of element at Kth position : \" + str(res))"
   ]
  },
  {
   "cell_type": "code",
   "execution_count": 57,
   "id": "c5b1b6e1",
   "metadata": {},
   "outputs": [
    {
     "name": "stdout",
     "output_type": "stream",
     "text": [
      "The original list is : [(3, 1, 5), (1, 3, 6), (2, 5, 7), (5, 2, 8), (6, 3, 0)]\n",
      "The tuples of element at Kth position : [(1, 3, 6), (6, 3, 0)]\n"
     ]
    }
   ],
   "source": [
    "test_list = [(3, 1, 5), (1, 3, 6), (2, 5, 7), (5, 2, 8), (6, 3, 0)]\n",
    " \n",
    "# printing original list\n",
    "print(\"The original list is : \" + str(test_list))\n",
    " \n",
    "# initialize ele \n",
    "ele = 3\n",
    " \n",
    "# initialize K \n",
    "K = 1\n",
    "res = list(filter(lambda x:x[K] == ele,test_list))\n",
    " \n",
    "# printing result\n",
    "print(\"The tuples of element at Kth position : \" + str(res))"
   ]
  },
  {
   "cell_type": "code",
   "execution_count": 58,
   "id": "a93d4396",
   "metadata": {},
   "outputs": [
    {
     "name": "stdout",
     "output_type": "stream",
     "text": [
      "The original list is : [(3, 1, 5), (1, 3, 6), (2, 5, 7), (5, 2, 8), (6, 3, 0)]\n",
      "The Tuples of element at Kth position: [(1, 3, 6), (6, 3, 0)]\n"
     ]
    }
   ],
   "source": [
    "def filter_by_index(lst,ele,k):\n",
    "    if not lst:\n",
    "        return []\n",
    "    if lst[0][k] == ele:\n",
    "        return [lst[0]] + filter_by_index(lst[1:],ele,k)\n",
    "    else:\n",
    "        return filter_by_index(lst[1:],ele,k)\n",
    "    \n",
    "    \n",
    "test_list = [(3, 1, 5), (1, 3, 6), (2, 5, 7), (5, 2, 8), (6, 3, 0)]\n",
    "   \n",
    "# printing original list\n",
    "print(\"The original list is : \" + str(test_list))\n",
    "ele = 3\n",
    "K = 1\n",
    "result = filter_by_index(test_list,ele,K)\n",
    "print(\"The Tuples of element at Kth position:\",result)"
   ]
  },
  {
   "cell_type": "code",
   "execution_count": 59,
   "id": "df7f9226",
   "metadata": {},
   "outputs": [
    {
     "name": "stdout",
     "output_type": "stream",
     "text": [
      "The Tuples of element at Kth position: [[1 3 6]\n",
      " [6 3 0]]\n"
     ]
    }
   ],
   "source": [
    "import numpy as np\n",
    "# Initialize list\n",
    "test_list = [(3, 1, 5), (1, 3, 6), (2, 5, 7), (5, 2, 8), (6, 3, 0)]\n",
    " \n",
    "# Initialize ele\n",
    "ele = 3\n",
    " \n",
    "# Initialize K\n",
    "K = 1\n",
    "\n",
    "result = np.array(test_list)[np.array(test_list)[:,K]==ele]\n",
    "print(\"The Tuples of element at Kth position:\",result)"
   ]
  },
  {
   "cell_type": "markdown",
   "id": "41a9e019",
   "metadata": {},
   "source": [
    "###  Test if tuple is distinct"
   ]
  },
  {
   "cell_type": "code",
   "execution_count": 60,
   "id": "ba79f999",
   "metadata": {},
   "outputs": [
    {
     "name": "stdout",
     "output_type": "stream",
     "text": [
      "The Original Tuple is: (1, 4, 5, 6, 1, 4)\n",
      "IS tuple Distincit?: False\n"
     ]
    }
   ],
   "source": [
    "test_tup = (1, 4, 5, 6, 1, 4) \n",
    "print(\"The Original Tuple is:\",test_tup)\n",
    "result = True\n",
    "temp = set()\n",
    "for ele in test_tup:\n",
    "    if ele in temp:\n",
    "        result = False\n",
    "    temp.add(ele)\n",
    "print(\"IS tuple Distincit?:\",result)"
   ]
  },
  {
   "cell_type": "code",
   "execution_count": 62,
   "id": "db16b9f2",
   "metadata": {},
   "outputs": [
    {
     "name": "stdout",
     "output_type": "stream",
     "text": [
      "The Original Tuple is: (1, 4, 5, 6)\n",
      "IS tuple Distincit?: True\n"
     ]
    }
   ],
   "source": [
    "test_tup = (1, 4, 5, 6) \n",
    "print(\"The Original Tuple is:\",test_tup)\n",
    "result = len(set(test_tup)) == len(test_tup)\n",
    "print(\"IS tuple Distincit?:\",result)"
   ]
  },
  {
   "cell_type": "code",
   "execution_count": 63,
   "id": "57c6e5c5",
   "metadata": {},
   "outputs": [
    {
     "name": "stdout",
     "output_type": "stream",
     "text": [
      "The Original Tuple is: (1, 4, 5, 6, 1, 4)\n",
      "IS tuple Distincit?: False\n"
     ]
    }
   ],
   "source": [
    "from collections import Counter\n",
    "test_tup = (1, 4, 5, 6, 1, 4) \n",
    "print(\"The Original Tuple is:\",test_tup)\n",
    "result = max(Counter(test_tup).values())==1\n",
    "print(\"IS tuple Distincit?:\",result)"
   ]
  },
  {
   "cell_type": "code",
   "execution_count": 65,
   "id": "a492d27c",
   "metadata": {},
   "outputs": [
    {
     "name": "stdout",
     "output_type": "stream",
     "text": [
      "Is tuple distinct?: False\n"
     ]
    }
   ],
   "source": [
    "test_tup = (1, 4, 5, 6, 1, 4)\n",
    "distinct = True\n",
    "for i in range(len(test_tup)):\n",
    "    if test_tup[i] in test_tup[i+1:]:\n",
    "        distinct = False\n",
    "        break\n",
    "        \n",
    "print(\"Is tuple distinct?:\",distinct)"
   ]
  },
  {
   "cell_type": "markdown",
   "id": "dc75fe90",
   "metadata": {},
   "source": [
    "## List of Tuples Programs\n",
    "### Python program to find tuples which have all elements divisible by K from a list of tuples"
   ]
  },
  {
   "cell_type": "code",
   "execution_count": 67,
   "id": "b67f4337",
   "metadata": {},
   "outputs": [
    {
     "name": "stdout",
     "output_type": "stream",
     "text": [
      "The Original list is: [(6, 24, 12), (7, 9, 6), (12, 18, 21)]\n",
      "K Multiple element tuples : [(6, 24, 12)]\n"
     ]
    }
   ],
   "source": [
    "test_list = [(6, 24, 12), (7, 9, 6), (12, 18, 21)]\n",
    "print(\"The Original list is:\",test_list)\n",
    "K = 6\n",
    "result = [sub for sub in test_list if all(ele %K==0 for ele in sub)]\n",
    "print(\"K Multiple element tuples :\",result)"
   ]
  },
  {
   "cell_type": "code",
   "execution_count": 68,
   "id": "813e0e16",
   "metadata": {},
   "outputs": [
    {
     "name": "stdout",
     "output_type": "stream",
     "text": [
      "The Original list is: [(6, 24, 12), (7, 9, 6), (12, 18, 21)]\n",
      "K Multiple element tuples : [(6, 24, 12)]\n"
     ]
    }
   ],
   "source": [
    "test_list = [(6, 24, 12), (7, 9, 6), (12, 18, 21)]\n",
    "print(\"The Original list is:\",test_list)\n",
    "K = 6\n",
    "result = list(filter(lambda sub:all(ele%K==0 for ele in sub),test_list))\n",
    "print(\"K Multiple element tuples :\",result)"
   ]
  },
  {
   "cell_type": "code",
   "execution_count": 69,
   "id": "357afdb5",
   "metadata": {},
   "outputs": [
    {
     "name": "stdout",
     "output_type": "stream",
     "text": [
      "The Original list is: [(6, 24, 12), (7, 9, 6), (12, 18, 21)]\n",
      "K Multiple element tuples : [(6, 24, 12)]\n"
     ]
    }
   ],
   "source": [
    "test_list = [(6, 24, 12), (7, 9, 6), (12, 18, 21)]\n",
    "print(\"The Original list is:\",test_list)\n",
    "K = 6\n",
    "result = []\n",
    "for i in test_list:\n",
    "    c = 0\n",
    "    for j in i:\n",
    "        if (j%K==0):\n",
    "            c += 1\n",
    "    if (c==len(i)):\n",
    "        result.append(i)\n",
    "print(\"K Multiple element tuples :\",result)"
   ]
  },
  {
   "cell_type": "code",
   "execution_count": 70,
   "id": "d434b72d",
   "metadata": {},
   "outputs": [
    {
     "name": "stdout",
     "output_type": "stream",
     "text": [
      "The original list is : [(6, 24, 12), (7, 9, 6), (12, 18, 21)]\n",
      "K Multiple elements tuples : [(1, 3, 6), (6, 3, 0)]\n"
     ]
    }
   ],
   "source": [
    "def is_multiple_of_K(tup):\n",
    "    return all(ele%K==0 for ele in tup)\n",
    "test_list = [(6, 24, 12), (7, 9, 6), (12, 18, 21)]\n",
    "K = 6\n",
    "result = list(filter(is_multiple_of_K,test_list))\n",
    "print(\"The original list is : \" + str(test_list))\n",
    " \n",
    "print(\"K Multiple elements tuples : \" + str(res))"
   ]
  },
  {
   "cell_type": "code",
   "execution_count": 71,
   "id": "43c418fb",
   "metadata": {},
   "outputs": [
    {
     "name": "stdout",
     "output_type": "stream",
     "text": [
      "The original list is : [(6, 24, 12), (7, 9, 6), (12, 18, 21)]\n",
      "K Multiple elements tuples: [[ 6 24 12]]\n"
     ]
    }
   ],
   "source": [
    "import numpy as np\n",
    "# initializing the list\n",
    "test_list = [(6, 24, 12), (7, 9, 6), (12, 18, 21)]\n",
    " \n",
    "# printing the original list\n",
    "print(\"The original list is : \" + str(test_list))\n",
    " \n",
    "# initializing K\n",
    "K = 6\n",
    "arr = np.array(test_list)\n",
    "result = arr[np.all(arr % K == 0,axis = 1)]\n",
    "print(\"K Multiple elements tuples:\",result)"
   ]
  },
  {
   "cell_type": "markdown",
   "id": "64f85d24",
   "metadata": {},
   "source": [
    "### Python program to find Tuples with positive elements in List of tuples"
   ]
  },
  {
   "cell_type": "code",
   "execution_count": 1,
   "id": "c282a843",
   "metadata": {},
   "outputs": [
    {
     "name": "stdout",
     "output_type": "stream",
     "text": [
      "Original list is : [(4, 5, 9), (-3, 2, 3), (-3, 5, 6), (4, 6)]\n",
      "Positive elements Tuple is: [(4, 5, 9), (4, 6)]\n"
     ]
    }
   ],
   "source": [
    "test_list = [(4, 5, 9), (-3, 2, 3), (-3, 5, 6), (4, 6)]\n",
    "print(\"Original list is :\",test_list)\n",
    "result = [ sub for sub in test_list if all(ele >= 0 for ele in sub)]\n",
    "print(\"Positive elements Tuple is:\",result)"
   ]
  },
  {
   "cell_type": "code",
   "execution_count": 4,
   "id": "9b3d8e7f",
   "metadata": {},
   "outputs": [
    {
     "name": "stdout",
     "output_type": "stream",
     "text": [
      "Original list is : [(4, 5, 9), (-3, 2, 3), (-3, 5, 6), (4, 6)]\n",
      "Positive elements Tuple is: [(4, 5, 9), (4, 6)]\n"
     ]
    }
   ],
   "source": [
    "test_list = [(4, 5, 9), (-3, 2, 3), (-3, 5, 6), (4, 6)]\n",
    "print(\"Original list is :\",test_list)\n",
    "result = list(filter(lambda sub :all(ele >= 0 for ele in sub),test_list))\n",
    "print(\"Positive elements Tuple is:\",result)"
   ]
  },
  {
   "cell_type": "code",
   "execution_count": 6,
   "id": "19e3ac34",
   "metadata": {},
   "outputs": [
    {
     "name": "stdout",
     "output_type": "stream",
     "text": [
      "Original list is : [(4, 5, 9), (-3, 2, 3), (-3, 5, 6), (4, 6)]\n",
      "Positive elements Tuple is: [(4, 5, 9), (4, 6)]\n"
     ]
    }
   ],
   "source": [
    "test_list = [(4, 5, 9), (-3, 2, 3), (-3, 5, 6), (4, 6)]\n",
    "print(\"Original list is :\",test_list)\n",
    "result = []\n",
    "for i in test_list:\n",
    "    x = list(map(str,i))\n",
    "    a = \" \".join(x)\n",
    "    if(a.find(\"-\") == -1):\n",
    "        result.append(i)\n",
    "print(\"Positive elements Tuple is:\",result)"
   ]
  },
  {
   "cell_type": "code",
   "execution_count": 7,
   "id": "7cd709df",
   "metadata": {},
   "outputs": [
    {
     "name": "stdout",
     "output_type": "stream",
     "text": [
      "Original list is : [(4, 5, 9), (-3, 2, 3), (-3, 5, 6), (4, 6)]\n",
      "Positive elements Tuple is: [(4, 5, 9), (4, 6)]\n"
     ]
    }
   ],
   "source": [
    "test_list = [(4, 5, 9), (-3, 2, 3), (-3, 5, 6), (4, 6)]\n",
    "print(\"Original list is :\",test_list)\n",
    "result = []\n",
    "for i in test_list:\n",
    "    x = sorted(i)\n",
    "    x = list(map(str,x))\n",
    "    b = \"\".join(x)\n",
    "    if (not b.startswith(\"-\")):\n",
    "        result.append(i)\n",
    "print(\"Positive elements Tuple is:\",result)"
   ]
  },
  {
   "cell_type": "code",
   "execution_count": 9,
   "id": "34964ef8",
   "metadata": {},
   "outputs": [
    {
     "name": "stdout",
     "output_type": "stream",
     "text": [
      "Original list is : [(4, 5, 9), (-3, 2, 3), (-3, 5, 6), (4, 6)]\n",
      "Positive elements Tuple is: [(4, 5, 9), (4, 6)]\n"
     ]
    }
   ],
   "source": [
    "test_list = [(4, 5, 9), (-3, 2, 3), (-3, 5, 6), (4, 6)]\n",
    "print(\"Original list is :\",test_list)\n",
    "result = []\n",
    "for i in test_list:\n",
    "    positive = True\n",
    "    for ele in i:\n",
    "        if ele<0:\n",
    "            positive = False\n",
    "            break\n",
    "    if positive:\n",
    "        result.append(i)\n",
    "print(\"Positive elements Tuple is:\",result)"
   ]
  },
  {
   "cell_type": "code",
   "execution_count": 10,
   "id": "63e89f37",
   "metadata": {},
   "outputs": [
    {
     "name": "stdout",
     "output_type": "stream",
     "text": [
      "Original list is : [(4, 5, 9), (-3, 2, 3), (-3, 5, 6), (4, 6)]\n",
      "Positive elements Tuple is: [(4, 5, 9), (4, 6)]\n"
     ]
    }
   ],
   "source": [
    "test_list = [(4, 5, 9), (-3, 2, 3), (-3, 5, 6), (4, 6)]\n",
    "print(\"Original list is :\",test_list)\n",
    "result = []\n",
    "for i in test_list:\n",
    "    if all(ele >=0 for ele in i):\n",
    "        result.append(i)\n",
    "print(\"Positive elements Tuple is:\",result)"
   ]
  },
  {
   "cell_type": "code",
   "execution_count": 11,
   "id": "f652835c",
   "metadata": {},
   "outputs": [
    {
     "name": "stdout",
     "output_type": "stream",
     "text": [
      "Original list is : [(4, 5, 9), (-3, 2, 3), (-3, 5, 6), (4, 6)]\n",
      "Positive elements Tuple is: [(4, 5, 9), (4, 6)]\n"
     ]
    }
   ],
   "source": [
    "import re\n",
    "test_list = [(4, 5, 9), (-3, 2, 3), (-3, 5, 6), (4, 6)]\n",
    "print(\"Original list is :\",test_list)\n",
    "result = []\n",
    "for i in test_list:\n",
    "    test_str = str(i)\n",
    "    if not re.search(\"-\",test_str):\n",
    "        result.append(i)\n",
    "        \n",
    "print(\"Positive elements Tuple is:\",result)"
   ]
  },
  {
   "cell_type": "markdown",
   "id": "fc37130d",
   "metadata": {},
   "source": [
    "### Count tuples occurrence in list of tuples"
   ]
  },
  {
   "cell_type": "code",
   "execution_count": 12,
   "id": "9eab0cc1",
   "metadata": {},
   "outputs": [
    {
     "name": "stdout",
     "output_type": "stream",
     "text": [
      "defaultdict(<class 'int'>, {('hi', 'bye'): 2, ('Geeks', 'forGeeks'): 1, ('a', 'b'): 2})\n"
     ]
    }
   ],
   "source": [
    "import collections \n",
    "output = collections.defaultdict(int)\n",
    "\n",
    "# List initialization\n",
    "Input = [[('hi', 'bye')], [('Geeks', 'forGeeks')],\n",
    "         [('a', 'b')], [('hi', 'bye')], [('a', 'b')]]\n",
    "# using initializing\n",
    "for ele in Input:\n",
    "    output[ele[0]] += 1\n",
    "print(output)"
   ]
  },
  {
   "cell_type": "code",
   "execution_count": 15,
   "id": "84bb1860",
   "metadata": {},
   "outputs": [
    {
     "name": "stdout",
     "output_type": "stream",
     "text": [
      "Counter({('hi', 'bye'): 2, ('a', 'b'): 2, ('Geeks', 'forGeeks'): 1})\n"
     ]
    }
   ],
   "source": [
    "from collections import Counter\n",
    "from itertools import chain\n",
    "Input = [[('hi', 'bye')], [('Geeks', 'forGeeks')],\n",
    "         [('a', 'b')], [('hi', 'bye')], [('a', 'b')]]\n",
    "result = Counter(chain(*Input))\n",
    "print(result)"
   ]
  },
  {
   "cell_type": "code",
   "execution_count": 18,
   "id": "6f2bf821",
   "metadata": {},
   "outputs": [
    {
     "name": "stdout",
     "output_type": "stream",
     "text": [
      "tuple ('a', 'b') occurs 2 times\n"
     ]
    }
   ],
   "source": [
    "Input = [('hi', 'bye'),('Geeks', 'forGeeks'),('a', 'b'),('hi', 'bye'),('a', 'b')]\n",
    "check_ele=('a', 'b') \n",
    "x = [i for i in Input if i == check_ele]\n",
    "print(\"tuple ('a', 'b') occurs\",len(x),\"times\")\n"
   ]
  },
  {
   "cell_type": "code",
   "execution_count": 19,
   "id": "3a5663cc",
   "metadata": {},
   "outputs": [
    {
     "name": "stdout",
     "output_type": "stream",
     "text": [
      "tuple ('a', 'b') occurs 2 times\n"
     ]
    }
   ],
   "source": [
    "Input = [('hi', 'bye'),('Geeks', 'forGeeks'),('a', 'b'),('hi', 'bye'),('a', 'b')]\n",
    "check_ele=('a', 'b') \n",
    "result = [val for i,val in enumerate(Input) if val == check_ele]\n",
    "print(\"tuple ('a', 'b') occurs\",len(result),\"times\")\n"
   ]
  },
  {
   "cell_type": "code",
   "execution_count": 20,
   "id": "bdbace9d",
   "metadata": {},
   "outputs": [
    {
     "name": "stdout",
     "output_type": "stream",
     "text": [
      "tuple ('a', 'b') occurs 2 times\n"
     ]
    }
   ],
   "source": [
    "Input = [('hi', 'bye'),('Geeks', 'forGeeks'),('a', 'b'),('hi', 'bye'),('a', 'b')]\n",
    "check_ele=('a', 'b') \n",
    "result = list(filter(lambda i:(i==check_ele),Input))\n",
    "print(\"tuple ('a', 'b') occurs\",len(result),\"times\")\n"
   ]
  },
  {
   "cell_type": "code",
   "execution_count": 21,
   "id": "c9cc982b",
   "metadata": {},
   "outputs": [
    {
     "name": "stdout",
     "output_type": "stream",
     "text": [
      "tuple ('a', 'b') occurs 2 times\n"
     ]
    }
   ],
   "source": [
    "from collections import Counter\n",
    "Input = [('hi', 'bye'),('Geeks', 'forGeeks'),('a', 'b'),('hi', 'bye'),('a', 'b')]\n",
    "check_ele=('a', 'b') \n",
    "x = Counter(Input)\n",
    "print(\"tuple ('a', 'b') occurs\",x[check_ele],\"times\")\n"
   ]
  },
  {
   "cell_type": "code",
   "execution_count": 22,
   "id": "b847255d",
   "metadata": {},
   "outputs": [
    {
     "name": "stdout",
     "output_type": "stream",
     "text": [
      "2\n"
     ]
    }
   ],
   "source": [
    "import operator as op\n",
    "Input = [('hi', 'bye'),('Geeks', 'forGeeks'),('a', 'b'),('hi', 'bye'),('a', 'b')]\n",
    "check_ele=('a', 'b') \n",
    "print(op.countOf(Input,check_ele))"
   ]
  },
  {
   "cell_type": "code",
   "execution_count": 24,
   "id": "6d0d4688",
   "metadata": {},
   "outputs": [
    {
     "name": "stdout",
     "output_type": "stream",
     "text": [
      "{('hi', 'bye'): 2, ('Geeks', 'forGeeks'): 1, ('a', 'b'): 2}\n"
     ]
    }
   ],
   "source": [
    "Input = [('hi', 'bye'),('Geeks', 'forGeeks'),('a', 'b'),('hi', 'bye'),('a', 'b')]\n",
    "count_tup = {}\n",
    "for i in Input:\n",
    "    if i not in count_tup:\n",
    "        count_tup[i] = 1\n",
    "    else:\n",
    "        count_tup[i] += 1\n",
    "        \n",
    "print(count_tup)"
   ]
  },
  {
   "cell_type": "markdown",
   "id": "668a146a",
   "metadata": {},
   "source": [
    "### Removing duplicates from tuple"
   ]
  },
  {
   "cell_type": "code",
   "execution_count": 25,
   "id": "fdc2ac1e",
   "metadata": {},
   "outputs": [
    {
     "name": "stdout",
     "output_type": "stream",
     "text": [
      "Original Tuple is: (1, 3, 5, 2, 3, 5, 1, 1, 3)\n",
      "After removing duplicate: (1, 2, 3, 5)\n"
     ]
    }
   ],
   "source": [
    "test_tup = (1, 3, 5, 2, 3, 5, 1, 1, 3)\n",
    "print(\"Original Tuple is:\",test_tup)\n",
    "result = tuple(set(test_tup))\n",
    "print(\"After removing duplicate:\",result)"
   ]
  },
  {
   "cell_type": "code",
   "execution_count": 26,
   "id": "c75c8654",
   "metadata": {},
   "outputs": [
    {
     "name": "stdout",
     "output_type": "stream",
     "text": [
      "Original Tuple is: (1, 3, 5, 2, 3, 5, 1, 1, 3)\n",
      "After removing duplicate: (1, 3, 5, 2)\n"
     ]
    }
   ],
   "source": [
    "from collections import OrderedDict\n",
    "test_tup = (1, 3, 5, 2, 3, 5, 1, 1, 3)\n",
    "print(\"Original Tuple is:\",test_tup)\n",
    "\n",
    "result = tuple(OrderedDict.fromkeys(test_tup).keys())\n",
    "print(\"After removing duplicate:\",result)"
   ]
  },
  {
   "cell_type": "code",
   "execution_count": 27,
   "id": "a0388bb6",
   "metadata": {},
   "outputs": [
    {
     "name": "stdout",
     "output_type": "stream",
     "text": [
      "Original Tuple is: (1, 3, 5, 2, 3, 5, 1, 1, 3)\n",
      "After removing duplicate: (1, 3, 5, 2)\n"
     ]
    }
   ],
   "source": [
    "test_tup = (1, 3, 5, 2, 3, 5, 1, 1, 3)\n",
    "print(\"Original Tuple is:\",test_tup)\n",
    "x = []\n",
    "for i in test_tup:\n",
    "    if i not in x:\n",
    "        x.append(i)\n",
    "result = tuple(x)\n",
    "print(\"After removing duplicate:\",result)"
   ]
  },
  {
   "cell_type": "code",
   "execution_count": 28,
   "id": "57c7d893",
   "metadata": {},
   "outputs": [
    {
     "name": "stdout",
     "output_type": "stream",
     "text": [
      "Original Tuple is: (1, 3, 5, 2, 3, 5, 1, 1, 3)\n",
      "After removing duplicate: (1, 3, 5, 2)\n"
     ]
    }
   ],
   "source": [
    "test_tup = (1, 3, 5, 2, 3, 5, 1, 1, 3)\n",
    "print(\"Original Tuple is:\",test_tup)\n",
    "result = tuple([val for i,val in enumerate(test_tup) if val not in test_tup[:i]])\n",
    "print(\"After removing duplicate:\",result)"
   ]
  },
  {
   "cell_type": "code",
   "execution_count": 29,
   "id": "70accf26",
   "metadata": {},
   "outputs": [
    {
     "name": "stdout",
     "output_type": "stream",
     "text": [
      "Original Tuple is: (1, 3, 5, 2, 3, 5, 1, 1, 3)\n",
      "After removing duplicate: (1, 3, 5, 2)\n"
     ]
    }
   ],
   "source": [
    "from collections import Counter\n",
    "test_tup = (1, 3, 5, 2, 3, 5, 1, 1, 3)\n",
    "print(\"Original Tuple is:\",test_tup)\n",
    "result = tuple(Counter(test_tup).keys())\n",
    "print(\"After removing duplicate:\",result)"
   ]
  },
  {
   "cell_type": "markdown",
   "id": "05373101",
   "metadata": {},
   "source": [
    "### Remove duplicate lists in tuples (Preserving Order)"
   ]
  },
  {
   "cell_type": "code",
   "execution_count": 31,
   "id": "c9a822a4",
   "metadata": {},
   "outputs": [
    {
     "name": "stdout",
     "output_type": "stream",
     "text": [
      "Original Tuple is: ([4, 7, 8], [1, 2, 3], [4, 7, 8], [9, 10, 11], [1, 2, 3])\n",
      "The unique list tuple is: [[4, 7, 8], [1, 2, 3], [9, 10, 11]]\n"
     ]
    }
   ],
   "source": [
    "test_tup = ([4, 7, 8], [1, 2, 3], [4, 7, 8], [9, 10, 11], [1, 2, 3])\n",
    "print(\"Original Tuple is:\",test_tup)\n",
    "temp = set()\n",
    "result = [ele for ele in test_tup if not(tuple(ele) in temp or temp.add(tuple(ele)))]\n",
    "print(\"The unique list tuple is:\",result)"
   ]
  },
  {
   "cell_type": "code",
   "execution_count": 32,
   "id": "c7ef42bc",
   "metadata": {},
   "outputs": [
    {
     "name": "stdout",
     "output_type": "stream",
     "text": [
      "Original Tuple is: ([4, 7, 8], [1, 2, 3], [4, 7, 8], [9, 10, 11], [1, 2, 3])\n",
      "The unique list tuple is: [[4, 7, 8], [1, 2, 3], [9, 10, 11]]\n"
     ]
    }
   ],
   "source": [
    "from collections import OrderedDict\n",
    "test_tup = ([4, 7, 8], [1, 2, 3], [4, 7, 8], [9, 10, 11], [1, 2, 3])\n",
    "print(\"Original Tuple is:\",test_tup)\n",
    "result = list(OrderedDict((tuple(x),x) for x in test_tup).values())\n",
    "print(\"The unique list tuple is:\",result)"
   ]
  },
  {
   "cell_type": "code",
   "execution_count": 35,
   "id": "4eb7a280",
   "metadata": {},
   "outputs": [
    {
     "name": "stdout",
     "output_type": "stream",
     "text": [
      "Original tuple: ([4, 7, 8], [1, 2, 3], [4, 7, 8], [9, 10, 11], [1, 2, 3])\n",
      "Tuple with duplicate lists removed: ([4, 7, 8], [1, 2, 3], [9, 10, 11])\n"
     ]
    }
   ],
   "source": [
    "def remove_duplicate(test_tup):\n",
    "    result = []\n",
    "    seen = set()\n",
    "    for sublist in test_tup:\n",
    "        t = tuple(sublist)\n",
    "        if t not in seen:\n",
    "            result.append(sublist)\n",
    "            seen.add(t)\n",
    "    return tuple(result)\n",
    "\n",
    "\n",
    "test_tup = ([4, 7, 8], [1, 2, 3], [4, 7, 8], [9, 10, 11], [1, 2, 3])\n",
    "unique_tup = remove_duplicate(test_tup)\n",
    " \n",
    "print(\"Original tuple:\", test_tup)\n",
    "print(\"Tuple with duplicate lists removed:\", unique_tup)"
   ]
  },
  {
   "cell_type": "code",
   "execution_count": 36,
   "id": "70503c26",
   "metadata": {},
   "outputs": [
    {
     "name": "stdout",
     "output_type": "stream",
     "text": [
      "The Unique list tuple is : [[4, 7, 8], [1, 2, 3], [9, 10, 11]]\n"
     ]
    }
   ],
   "source": [
    "test_tup = ([4, 7, 8], [1, 2, 3], [4, 7, 8], [9, 10, 11], [1, 2, 3])\n",
    "res = []\n",
    "for i in test_tup:\n",
    "    if i not in res:\n",
    "        res.append(i)\n",
    "print(\"The Unique list tuple is :\",res)"
   ]
  },
  {
   "cell_type": "markdown",
   "id": "17e63321",
   "metadata": {},
   "source": [
    "### Extract digits from Tuple list"
   ]
  },
  {
   "cell_type": "code",
   "execution_count": 38,
   "id": "f1fe30f5",
   "metadata": {},
   "outputs": [
    {
     "name": "stdout",
     "output_type": "stream",
     "text": [
      "The Original List Is: [(15, 3), (3, 9), (1, 10), (99, 2)]\n",
      "The Extracted Digits: {'1', '2', '5', '9', '3', '0'}\n"
     ]
    }
   ],
   "source": [
    "from itertools import chain\n",
    "test_list = [(15, 3), (3, 9), (1, 10), (99, 2)]\n",
    "print(\"The Original List Is:\",test_list)\n",
    "temp = map(lambda ele:str(ele),chain.from_iterable(test_list))\n",
    "result = set()\n",
    "for sub in temp:\n",
    "    for ele in sub:\n",
    "        result.add(ele)\n",
    "print(\"The Extracted Digits:\",set(result))"
   ]
  },
  {
   "cell_type": "code",
   "execution_count": 39,
   "id": "fea99dac",
   "metadata": {},
   "outputs": [
    {
     "name": "stdout",
     "output_type": "stream",
     "text": [
      "The Original List Is: [(15, 3), (3, 9), (1, 10), (99, 2)]\n",
      "The Extracted Digits: [1, 5, 0, 2, 9, 3]\n"
     ]
    }
   ],
   "source": [
    "test_list = [(15, 3), (3, 9), (1, 10), (99, 2)]\n",
    "print(\"The Original List Is:\",test_list)\n",
    "x = \"\"\n",
    "for i in test_list:\n",
    "    for j in i:\n",
    "        x += str(j)\n",
    "result = list(map(int,set(x)))\n",
    "print(\"The Extracted Digits:\",result)"
   ]
  },
  {
   "cell_type": "code",
   "execution_count": 40,
   "id": "83a619f2",
   "metadata": {},
   "outputs": [
    {
     "name": "stdout",
     "output_type": "stream",
     "text": [
      "The Original List Is: [(15, 3), (3, 9), (1, 10), (99, 2)]\n",
      "The Extracted Digits: [1, 5, 0, 2, 9, 3]\n"
     ]
    }
   ],
   "source": [
    "test_list = [(15, 3), (3, 9), (1, 10), (99, 2)]\n",
    "print(\"The Original List Is:\",test_list)\n",
    "temp = \"\".join([str(i) for sublist in test_list for i in sublist])\n",
    "result = set(temp)\n",
    "result = [int(i) for i in result]\n",
    "print(\"The Extracted Digits:\",result)"
   ]
  },
  {
   "cell_type": "markdown",
   "id": "cb32714d",
   "metadata": {},
   "source": [
    "### Cross Pairing in Tuple List"
   ]
  },
  {
   "cell_type": "code",
   "execution_count": 42,
   "id": "f4964b44",
   "metadata": {},
   "outputs": [
    {
     "name": "stdout",
     "output_type": "stream",
     "text": [
      "The Original List1 Is: [(1, 7), (6, 7), (9, 100), (4, 21)]\n",
      "The Original List2 Is: [(1, 3), (2, 1), (9, 7), (2, 17)]\n",
      "The mapped Tuple is: [(7, 3), (100, 7)]\n"
     ]
    }
   ],
   "source": [
    "test_list1 = [(1, 7), (6, 7), (9, 100), (4, 21)]\n",
    "test_list2 = [(1, 3), (2, 1), (9, 7), (2, 17)]\n",
    "print(\"The Original List1 Is:\",test_list1)\n",
    "print(\"The Original List2 Is:\",test_list2)\n",
    "\n",
    "result = [(sub1[1],sub2[1]) for sub2 in test_list2 for sub1 in test_list1 if sub1[0]==sub2[0]]\n",
    "print(\"The mapped Tuple is:\",result)"
   ]
  },
  {
   "cell_type": "code",
   "execution_count": 43,
   "id": "639592ca",
   "metadata": {},
   "outputs": [
    {
     "name": "stdout",
     "output_type": "stream",
     "text": [
      "The Original List1 Is: [(1, 7), (6, 7), (9, 100), (4, 21)]\n",
      "The Original List2 Is: [(1, 3), (2, 1), (9, 7), (2, 17)]\n",
      "The mapped Tuple is: [(7, 3), (100, 7)]\n"
     ]
    }
   ],
   "source": [
    "test_list1 = [(1, 7), (6, 7), (9, 100), (4, 21)]\n",
    "test_list2 = [(1, 3), (2, 1), (9, 7), (2, 17)]\n",
    "print(\"The Original List1 Is:\",test_list1)\n",
    "print(\"The Original List2 Is:\",test_list2)\n",
    "result = [(a[1],b[1]) for a,b in zip(test_list1,test_list2) if a[0]==b[0]]\n",
    "print(\"The mapped Tuple is:\",result)"
   ]
  },
  {
   "cell_type": "code",
   "execution_count": 44,
   "id": "715fd322",
   "metadata": {},
   "outputs": [
    {
     "name": "stdout",
     "output_type": "stream",
     "text": [
      "The Original List1 Is: [(1, 7), (6, 7), (9, 100), (4, 21)]\n",
      "The Original List2 Is: [(1, 3), (2, 1), (9, 7), (2, 17)]\n",
      "The mapped Tuple is: [(7, 3), (100, 7)]\n"
     ]
    }
   ],
   "source": [
    "def cross_pairing(test_list1,test_list2):\n",
    "    result = [(a[1],b[1]) for a,b in zip(test_list1,test_list2) if a[0]==b[0]]\n",
    "    return result\n",
    "\n",
    "test_list1 = [(1, 7), (6, 7), (9, 100), (4, 21)]\n",
    "test_list2 = [(1, 3), (2, 1), (9, 7), (2, 17)]\n",
    "print(\"The Original List1 Is:\",test_list1)\n",
    "print(\"The Original List2 Is:\",test_list2)\n",
    "result = cross_pairing(test_list1,test_list2)\n",
    "print(\"The mapped Tuple is:\",result)"
   ]
  },
  {
   "cell_type": "markdown",
   "id": "fab607c4",
   "metadata": {},
   "source": [
    "###  Consecutive Kth column Difference in Tuple List"
   ]
  },
  {
   "cell_type": "code",
   "execution_count": 49,
   "id": "8dcd9a55",
   "metadata": {},
   "outputs": [
    {
     "name": "stdout",
     "output_type": "stream",
     "text": [
      "The original list is :  [(5, 4, 2), (1, 3, 4), (5, 7, 8), (7, 4, 3)]\n",
      "Resultent tuple list: [1, 4, 3]\n"
     ]
    }
   ],
   "source": [
    "test_list = [(5, 4, 2), (1, 3, 4), (5, 7, 8), (7, 4, 3)]\n",
    "print(\"The original list is : \" ,test_list)\n",
    "K = 1\n",
    "result = []\n",
    "for i in range(0,len(test_list) - 1):\n",
    "    result.append(abs(test_list[i][K] - test_list[i + 1][K]))\n",
    "print(\"Resultent tuple list:\",result)"
   ]
  },
  {
   "cell_type": "code",
   "execution_count": 50,
   "id": "c4ccb8ee",
   "metadata": {},
   "outputs": [
    {
     "name": "stdout",
     "output_type": "stream",
     "text": [
      "The original list is :  [(5, 4, 2), (1, 3, 4), (5, 7, 8), (7, 4, 3)]\n",
      "Resultent tuple list: [1, 4, 3]\n"
     ]
    }
   ],
   "source": [
    "test_list = [(5, 4, 2), (1, 3, 4), (5, 7, 8), (7, 4, 3)]\n",
    "print(\"The original list is : \" ,test_list)\n",
    "K = 1\n",
    "result = [abs(x[K] - y[K]) for x,y in zip(test_list,test_list[1:])]\n",
    "print(\"Resultent tuple list:\",result)"
   ]
  },
  {
   "cell_type": "code",
   "execution_count": 51,
   "id": "7cf01a32",
   "metadata": {},
   "outputs": [
    {
     "name": "stdout",
     "output_type": "stream",
     "text": [
      "The original list is :  [(5, 4, 2), (1, 3, 4), (5, 7, 8), (7, 4, 3)]\n",
      "Resultent tuple list: [1 4 3]\n"
     ]
    }
   ],
   "source": [
    "import numpy as np\n",
    "test_list = [(5, 4, 2), (1, 3, 4), (5, 7, 8), (7, 4, 3)]\n",
    "print(\"The original list is : \" ,test_list)\n",
    "K = 1\n",
    "arr = np.array(test_list)\n",
    "result = np.abs(np.diff(arr[:,K]))\n",
    "print(\"Resultent tuple list:\",result)"
   ]
  },
  {
   "cell_type": "markdown",
   "id": "29698e04",
   "metadata": {},
   "source": [
    "###  Kth Column Product in Tuple List"
   ]
  },
  {
   "cell_type": "code",
   "execution_count": 52,
   "id": "f56a1ccd",
   "metadata": {},
   "outputs": [
    {
     "name": "stdout",
     "output_type": "stream",
     "text": [
      "The original list is :  [(5, 6, 7), (1, 3, 5), (8, 9, 19)]\n",
      "Product of Kth Column of tuple List: 665\n"
     ]
    }
   ],
   "source": [
    "def prod(test_list):\n",
    "    result = 1\n",
    "    for i in test_list:\n",
    "        result *= i\n",
    "    return result\n",
    "test_list = [(5, 6, 7), (1, 3, 5), (8, 9, 19)]\n",
    "print(\"The original list is : \" ,test_list)\n",
    "K = 2\n",
    "result = prod([sub[K] for sub in test_list])\n",
    "print(\"Product of Kth Column of tuple List:\",result)"
   ]
  },
  {
   "cell_type": "code",
   "execution_count": 56,
   "id": "a0b75a08",
   "metadata": {},
   "outputs": [
    {
     "name": "stdout",
     "output_type": "stream",
     "text": [
      "The original list is :  [(5, 6, 7), (1, 3, 5), (8, 9, 19)]\n",
      "Product of Kth Column of tuple List: 665\n"
     ]
    }
   ],
   "source": [
    "from operator import itemgetter\n",
    "#from itertools import imap\n",
    "\n",
    "def prod(val):\n",
    "    result = 1\n",
    "    for ele in val:\n",
    "        result *= ele\n",
    "    return result\n",
    "test_list = [(5, 6, 7), (1, 3, 5), (8, 9, 19)]\n",
    "print(\"The original list is : \" ,test_list)\n",
    "K = 2\n",
    "idx = itemgetter(K)\n",
    "result = prod(map(idx,test_list))\n",
    "print(\"Product of Kth Column of tuple List:\",result)"
   ]
  },
  {
   "cell_type": "code",
   "execution_count": 57,
   "id": "8c68707b",
   "metadata": {},
   "outputs": [
    {
     "name": "stdout",
     "output_type": "stream",
     "text": [
      "The original list is :  [(5, 6, 7), (1, 3, 5), (8, 9, 19)]\n",
      "Product of Kth Column of tuple List: 665\n"
     ]
    }
   ],
   "source": [
    "test_list = [(5, 6, 7), (1, 3, 5), (8, 9, 19)]\n",
    "print(\"The original list is : \" ,test_list)\n",
    "K = 2\n",
    "x = []\n",
    "for i in test_list:\n",
    "    x.append(i[K])\n",
    "    \n",
    "from functools import reduce\n",
    "import operator as op\n",
    "result = reduce(op.mul,x,1)\n",
    "print(\"Product of Kth Column of tuple List:\",result)"
   ]
  },
  {
   "cell_type": "code",
   "execution_count": 58,
   "id": "3572d901",
   "metadata": {},
   "outputs": [
    {
     "name": "stdout",
     "output_type": "stream",
     "text": [
      "The original list is :  [(5, 6, 7), (1, 3, 5), (8, 9, 19)]\n",
      "Product of Kth Column of tuple List: 665\n"
     ]
    }
   ],
   "source": [
    "import numpy as np\n",
    "test_list = [(5, 6, 7), (1, 3, 5), (8, 9, 19)]\n",
    "print(\"The original list is : \" ,test_list)\n",
    "K = 2\n",
    "column = [i[K] for i in test_list]\n",
    "result = np.prod(column)\n",
    "print(\"Product of Kth Column of tuple List:\",result)"
   ]
  },
  {
   "cell_type": "code",
   "execution_count": 59,
   "id": "7ae73182",
   "metadata": {},
   "outputs": [
    {
     "name": "stdout",
     "output_type": "stream",
     "text": [
      "The original list is :  [(5, 6, 7), (1, 3, 5), (8, 9, 19)]\n",
      "Product of Kth Column of tuple List: 665\n"
     ]
    }
   ],
   "source": [
    "test_list = [(5, 6, 7), (1, 3, 5), (8, 9, 19)]\n",
    "print(\"The original list is : \" ,test_list)\n",
    "K = 2\n",
    "p = 1\n",
    "for i in test_list:\n",
    "    p *= i[K]\n",
    "print(\"Product of Kth Column of tuple List:\",p)"
   ]
  },
  {
   "cell_type": "code",
   "execution_count": 60,
   "id": "95f86f2c",
   "metadata": {},
   "outputs": [
    {
     "name": "stdout",
     "output_type": "stream",
     "text": [
      "The original list is :  [(5, 6, 7), (1, 3, 5), (8, 9, 19)]\n",
      "Product of Kth Column of tuple List: 665\n"
     ]
    }
   ],
   "source": [
    "from functools import reduce\n",
    "test_list = [(5, 6, 7), (1, 3, 5), (8, 9, 19)]\n",
    "print(\"The original list is : \" ,test_list)\n",
    "K = 2\n",
    "result = reduce(lambda x,y:x*y,map(lambda x:x[K],test_list))\n",
    "print(\"Product of Kth Column of tuple List:\",result)"
   ]
  },
  {
   "cell_type": "code",
   "execution_count": 66,
   "id": "9c73cb81",
   "metadata": {},
   "outputs": [
    {
     "name": "stdout",
     "output_type": "stream",
     "text": [
      "The original list is :  [(5, 6, 7), (1, 3, 5), (8, 9, 19)]\n",
      "   0  1   2\n",
      "0  5  6   7\n",
      "1  1  3   5\n",
      "2  8  9  19\n",
      "______________\n",
      "Product of Kth Column of tuple List: 665\n"
     ]
    }
   ],
   "source": [
    "import pandas as pd\n",
    "test_list = [(5, 6, 7), (1, 3, 5), (8, 9, 19)]\n",
    "print(\"The original list is : \" ,test_list)\n",
    "K = 2\n",
    "df = pd.DataFrame(test_list)\n",
    "print(df.head())\n",
    "product = df.iloc[:,K].prod()\n",
    "print(\"______________\")\n",
    "print(\"Product of Kth Column of tuple List:\",product)"
   ]
  },
  {
   "cell_type": "markdown",
   "id": "ba2cf20c",
   "metadata": {},
   "source": [
    "### Flatten tuple of List to tuple"
   ]
  },
  {
   "cell_type": "code",
   "execution_count": 77,
   "id": "000c73ad",
   "metadata": {},
   "outputs": [
    {
     "name": "stdout",
     "output_type": "stream",
     "text": [
      "The original list is :  ([5, 6], [6, 7, 8, 9], [3])\n",
      "The Flatten tuple is: (5, 6, 6, 7, 8, 9, 3)\n"
     ]
    }
   ],
   "source": [
    "test_tuple = ([5, 6], [6, 7, 8, 9], [3])\n",
    "print(\"The original list is : \" ,test_tuple)\n",
    "result = tuple(sum(test_tuple,[]))\n",
    "print(\"The Flatten tuple is:\",result)\n"
   ]
  },
  {
   "cell_type": "code",
   "execution_count": 76,
   "id": "2d8989f4",
   "metadata": {},
   "outputs": [
    {
     "name": "stdout",
     "output_type": "stream",
     "text": [
      "The original list is :  ([5, 6], [6, 7, 8, 9], [3])\n",
      "The flatten tuple: (5, 6, 6, 7, 8, 9, 3)\n"
     ]
    }
   ],
   "source": [
    "from itertools import chain\n",
    "test_tuple = ([5, 6], [6, 7, 8, 9], [3])\n",
    "print(\"The original list is : \" ,test_tuple)\n",
    "result = tuple(chain.from_iterable(test_tuple))\n",
    "print(\"The flatten tuple:\",result)"
   ]
  },
  {
   "cell_type": "code",
   "execution_count": 75,
   "id": "75c82f99",
   "metadata": {},
   "outputs": [
    {
     "name": "stdout",
     "output_type": "stream",
     "text": [
      "The original list is :  ([5, 6], [6, 7, 8, 9], [3])\n",
      "The flatten tuple: (5, 6, 6, 7, 8, 9, 3)\n"
     ]
    }
   ],
   "source": [
    "test_tuple = ([5, 6], [6, 7, 8, 9], [3])\n",
    "print(\"The original list is : \" ,test_tuple)\n",
    "result = []\n",
    "for i in test_tuple:\n",
    "    result.extend(i)\n",
    "result = tuple(result)\n",
    "print(\"The flatten tuple:\",result)"
   ]
  },
  {
   "cell_type": "code",
   "execution_count": 74,
   "id": "c9384d68",
   "metadata": {},
   "outputs": [
    {
     "name": "stdout",
     "output_type": "stream",
     "text": [
      "The original list is :  ([5, 6], [6, 7, 8, 9], [3])\n",
      "The flatten tuple: (5, 6, 6, 7, 8, 9, 3)\n"
     ]
    }
   ],
   "source": [
    "test_tuple = ([5, 6], [6, 7, 8, 9], [3])\n",
    "print(\"The original list is : \" ,test_tuple)\n",
    "result = []\n",
    "[result.extend(sublist) for sublist in test_tuple]\n",
    "result = tuple(result)\n",
    "print(\"The flatten tuple:\",result)"
   ]
  },
  {
   "cell_type": "code",
   "execution_count": 73,
   "id": "dd3f7d33",
   "metadata": {},
   "outputs": [
    {
     "name": "stdout",
     "output_type": "stream",
     "text": [
      "The original list is :  ([5, 6], [6, 7, 8, 9], [3])\n",
      "The flatten tuple: (5, 6, 6, 7, 8, 9, 3)\n"
     ]
    }
   ],
   "source": [
    "from itertools import chain\n",
    "test_tuple = ([5, 6], [6, 7, 8, 9], [3])\n",
    "print(\"The original list is : \" ,test_tuple)\n",
    "result = tuple(chain(*test_tuple))\n",
    "print(\"The flatten tuple:\",result)"
   ]
  },
  {
   "cell_type": "markdown",
   "id": "289e9263",
   "metadata": {},
   "source": [
    "### Flatten Tuples List to String"
   ]
  },
  {
   "cell_type": "code",
   "execution_count": 78,
   "id": "9032ba8b",
   "metadata": {},
   "outputs": [
    {
     "name": "stdout",
     "output_type": "stream",
     "text": [
      "The original list is :  [('1', '4', '6'), ('5', '8'), ('2', '9'), ('1', '10')]\n",
      "Tuple list converted to string is : 1 4 6 5 8 2 9 1 10\n"
     ]
    }
   ],
   "source": [
    "test_list = [('1', '4', '6'), ('5', '8'), ('2', '9'), ('1', '10')]\n",
    "print(\"The original list is : \" ,test_list)\n",
    "result = \" \".join([i for tup in test_list for i in tup ])\n",
    "print(\"Tuple list converted to string is :\",result)"
   ]
  },
  {
   "cell_type": "code",
   "execution_count": 81,
   "id": "bff262d4",
   "metadata": {},
   "outputs": [
    {
     "name": "stdout",
     "output_type": "stream",
     "text": [
      "The original list is :  [('1', '4', '6'), ('5', '8'), ('2', '9'), ('1', '10')]\n",
      "Tuple list converted to string is : 1 4 6 5 8 2 9 1 10\n"
     ]
    }
   ],
   "source": [
    "from itertools import chain\n",
    "test_list = [('1', '4', '6'), ('5', '8'), ('2', '9'), ('1', '10')]\n",
    "print(\"The original list is : \" ,test_list)\n",
    "result = \" \".join(chain(*test_list))\n",
    "print(\"Tuple list converted to string is :\",result)"
   ]
  },
  {
   "cell_type": "code",
   "execution_count": 82,
   "id": "01bd314d",
   "metadata": {},
   "outputs": [
    {
     "name": "stdout",
     "output_type": "stream",
     "text": [
      "The original list is :  [('1', '4', '6'), ('5', '8'), ('2', '9'), ('1', '10')]\n",
      "Tuple list converted to string is : 1 4 6 5 8 2 9 1 10\n"
     ]
    }
   ],
   "source": [
    "test_list = [('1', '4', '6'), ('5', '8'), ('2', '9'), ('1', '10')]\n",
    "print(\"The original list is : \" ,test_list)\n",
    "result = []\n",
    "for i in test_list:\n",
    "    result.extend(list(i))\n",
    "result = \" \".join(result)\n",
    "print(\"Tuple list converted to string is :\",result)"
   ]
  },
  {
   "cell_type": "code",
   "execution_count": 83,
   "id": "a1ce5d09",
   "metadata": {},
   "outputs": [
    {
     "name": "stdout",
     "output_type": "stream",
     "text": [
      "The original list is :  [('1', '4', '6'), ('5', '8'), ('2', '9'), ('1', '10')]\n",
      "Tuple list converted to string is : 1 4 6 5 8 2 9 1 10\n"
     ]
    }
   ],
   "source": [
    "test_list = [('1', '4', '6'), ('5', '8'), ('2', '9'), ('1', '10')]\n",
    "print(\"The original list is : \" ,test_list)\n",
    "result = \" \".join(map(str,sum(test_list,())))\n",
    "print(\"Tuple list converted to string is :\",result)"
   ]
  },
  {
   "cell_type": "code",
   "execution_count": 84,
   "id": "0956bc80",
   "metadata": {},
   "outputs": [
    {
     "name": "stdout",
     "output_type": "stream",
     "text": [
      "The original list is :  [('1', '4', '6'), ('5', '8'), ('2', '9'), ('1', '10')]\n",
      "Tuple list converted to string is : 1 4 6 5 8 2 9 1 10\n"
     ]
    }
   ],
   "source": [
    "test_list = [('1', '4', '6'), ('5', '8'), ('2', '9'), ('1', '10')]\n",
    "print(\"The original list is : \" ,test_list)\n",
    "result = \"\"\n",
    "for tup in test_list:\n",
    "    for ele in tup:\n",
    "        result += ele + \" \"\n",
    "result = result[:-1]\n",
    "print(\"Tuple list converted to string is :\",result)"
   ]
  },
  {
   "cell_type": "markdown",
   "id": "67656987",
   "metadata": {},
   "source": [
    "### Python program to sort a list of tuples alphabetically"
   ]
  },
  {
   "cell_type": "code",
   "execution_count": 85,
   "id": "a1322e61",
   "metadata": {},
   "outputs": [
    {
     "name": "stdout",
     "output_type": "stream",
     "text": [
      "[('Abhishek', 29), ('Amana', 28), ('B', 'C'), ('Nikhil', 21), ('Zenat', 30)]\n"
     ]
    }
   ],
   "source": [
    "def sorttuple(tup):\n",
    "    n =len(tup)\n",
    "    for i in range(n):\n",
    "        for j in range(n-i-1):\n",
    "            if tup[j][0]>tup[j+1][0]:\n",
    "                tup[j],tup[j+1] = tup[j+1],tup[j]\n",
    "    return tup\n",
    " \n",
    "tup = [(\"Amana\", 28), (\"Zenat\", 30), (\"Abhishek\", 29),\n",
    "        (\"Nikhil\", 21), (\"B\", \"C\")]\n",
    "         \n",
    "print(sorttuple(tup))"
   ]
  },
  {
   "cell_type": "code",
   "execution_count": 86,
   "id": "1743d8a6",
   "metadata": {},
   "outputs": [
    {
     "name": "stdout",
     "output_type": "stream",
     "text": [
      "[('Abhishek', 29), ('Amana', 28), ('B', 'C'), ('Nikhil', 21), ('Zenat', 30)]\n"
     ]
    }
   ],
   "source": [
    "def sorttuple(tup):\n",
    "    tup.sort(key=lambda x:x[0])\n",
    "    return tup\n",
    "tup = [(\"Amana\", 28), (\"Zenat\", 30), (\"Abhishek\", 29),\n",
    "        (\"Nikhil\", 21), (\"B\", \"C\")]\n",
    "         \n",
    "print(sorttuple(tup))"
   ]
  },
  {
   "cell_type": "code",
   "execution_count": 87,
   "id": "c9201ca5",
   "metadata": {},
   "outputs": [
    {
     "name": "stdout",
     "output_type": "stream",
     "text": [
      "[('Abhishek', 29), ('Amana', 28), ('B', 'C'), ('Nikhil', 21), ('Zenat', 30)]\n"
     ]
    }
   ],
   "source": [
    "def sorttuple(tup):\n",
    "    return (sorted(tup,key=lambda x:x[0]))\n",
    "tup = [(\"Amana\", 28), (\"Zenat\", 30), (\"Abhishek\", 29),\n",
    "        (\"Nikhil\", 21), (\"B\", \"C\")]\n",
    "         \n",
    "print(sorttuple(tup))"
   ]
  },
  {
   "cell_type": "markdown",
   "id": "0be8efa1",
   "metadata": {},
   "source": [
    "### Combinations of sum with tuples in tuple list"
   ]
  },
  {
   "cell_type": "code",
   "execution_count": 89,
   "id": "3c286c11",
   "metadata": {},
   "outputs": [
    {
     "name": "stdout",
     "output_type": "stream",
     "text": [
      "The original list :  [(2, 4), (6, 7), (5, 1), (6, 10)]\n",
      "The Combinations are: [(8, 11), (7, 5), (8, 14), (11, 8), (12, 17), (11, 11)]\n"
     ]
    }
   ],
   "source": [
    "from itertools import combinations\n",
    "test_list = [(2, 4), (6, 7), (5, 1), (6, 10)]\n",
    "print(\"The original list : \",test_list)\n",
    "result = [(b1 + a1,b2 + a2) for (a1,a2),(b1,b2) in combinations(test_list,2)]\n",
    "print(\"The Combinations are:\",result)"
   ]
  },
  {
   "cell_type": "markdown",
   "id": "716e6e30",
   "metadata": {},
   "source": [
    "### Custom sorting in list of tuples"
   ]
  },
  {
   "cell_type": "code",
   "execution_count": 90,
   "id": "67324df1",
   "metadata": {},
   "outputs": [
    {
     "name": "stdout",
     "output_type": "stream",
     "text": [
      "The original list :  [(7, 8), (5, 6), (7, 5), (10, 4), (10, 1)]\n",
      "The Tuple after custom sorting is: [(10, 1), (10, 4), (7, 5), (7, 8), (5, 6)]\n"
     ]
    }
   ],
   "source": [
    "test_list = [(7, 8), (5, 6), (7, 5), (10, 4), (10, 1)]\n",
    "print(\"The original list : \",test_list)\n",
    "result = sorted(test_list,key=lambda sub:(-sub[0],sub[1]))\n",
    "print(\"The Tuple after custom sorting is:\",result)"
   ]
  },
  {
   "cell_type": "code",
   "execution_count": 91,
   "id": "6c49a734",
   "metadata": {},
   "outputs": [
    {
     "name": "stdout",
     "output_type": "stream",
     "text": [
      "The original list :  [(7, (8, 4)), (5, (6, 1)), (7, (5, 3)), (10, (5, 4)), (10, (1, 3))]\n",
      "The Tuple after custom sorting is: [(10, (1, 3)), (10, (5, 4)), (7, (5, 3)), (7, (8, 4)), (5, (6, 1))]\n"
     ]
    }
   ],
   "source": [
    "test_list = [(7, (8, 4)), (5, (6, 1)), (7, (5, 3)), (10, (5, 4)), (10, (1, 3))]\n",
    "print(\"The original list : \",test_list)\n",
    "result = sorted(test_list,key = lambda sub:(-sub[0],sum(sub[1])))\n",
    "print(\"The Tuple after custom sorting is:\",result)"
   ]
  },
  {
   "cell_type": "markdown",
   "id": "f9202a6e",
   "metadata": {},
   "source": [
    "### Conversion of Tuple Programs\n",
    "### Python program to convert tuple into list by adding the given string after every element"
   ]
  },
  {
   "cell_type": "code",
   "execution_count": 92,
   "id": "e51e0d64",
   "metadata": {},
   "outputs": [
    {
     "name": "stdout",
     "output_type": "stream",
     "text": [
      "The original tuple is :  (5, 6, 7, 4, 9)\n",
      "Converted Tuple with K: [5, 'Gfg', 6, 'Gfg', 7, 'Gfg', 4, 'Gfg', 9, 'Gfg']\n"
     ]
    }
   ],
   "source": [
    "test_tup = (5, 6, 7, 4, 9)\n",
    "print(\"The original tuple is : \", test_tup)\n",
    "K = \"Gfg\"\n",
    "result = [ele for sub in test_tup for ele in (sub,K)]\n",
    "print(\"Converted Tuple with K:\",result)"
   ]
  },
  {
   "cell_type": "code",
   "execution_count": 94,
   "id": "374c235e",
   "metadata": {},
   "outputs": [
    {
     "name": "stdout",
     "output_type": "stream",
     "text": [
      "The original tuple is :  (5, 6, 7, 4, 9)\n",
      "Converted Tuple with K: [5, 'Gfg', 6, 'Gfg', 7, 'Gfg', 4, 'Gfg', 9, 'Gfg']\n"
     ]
    }
   ],
   "source": [
    "from itertools import chain\n",
    "test_tup = (5, 6, 7, 4, 9)\n",
    "print(\"The original tuple is : \", test_tup)\n",
    "K = \"Gfg\"\n",
    "result = list(chain.from_iterable((ele,K) for ele in test_tup))\n",
    "print(\"Converted Tuple with K:\",result)"
   ]
  },
  {
   "cell_type": "code",
   "execution_count": 95,
   "id": "93ce51c8",
   "metadata": {},
   "outputs": [
    {
     "name": "stdout",
     "output_type": "stream",
     "text": [
      "The original tuple is :  (5, 6, 7, 4, 9)\n",
      "Converted Tuple with K: [5, 'Gfg', 6, 'Gfg', 7, 'Gfg', 4, 'Gfg', 9, 'Gfg']\n"
     ]
    }
   ],
   "source": [
    "test_tup = (5, 6, 7, 4, 9)\n",
    "print(\"The original tuple is : \", test_tup)\n",
    "K = \"Gfg\"\n",
    "x = list(map(str,test_tup))\n",
    "b = \"*\" +K+ \"*\"\n",
    "a = b.join(x)\n",
    "c = a.split(\"*\")\n",
    "c.append(K)\n",
    "result = []\n",
    "for i in c:\n",
    "    if (i!= K):\n",
    "        result.append(int(i))\n",
    "    else:\n",
    "        result.append(i)\n",
    "print(\"Converted Tuple with K:\",result)"
   ]
  },
  {
   "cell_type": "code",
   "execution_count": 96,
   "id": "ebaf05ad",
   "metadata": {},
   "outputs": [
    {
     "name": "stdout",
     "output_type": "stream",
     "text": [
      "The original tuple is :  (5, 6, 7, 4, 9)\n",
      "Converted Tuple with K: [5, 'Gfg', 6, 'Gfg', 7, 'Gfg', 4, 'Gfg', 9, 'Gfg']\n"
     ]
    }
   ],
   "source": [
    "test_tup = (5, 6, 7, 4, 9)\n",
    "print(\"The original tuple is : \", test_tup)\n",
    "K = \"Gfg\"\n",
    "result = list(map(lambda x:[x,K],test_tup))\n",
    "result = [j for i in result for j in i]\n",
    "print(\"Converted Tuple with K:\",result)"
   ]
  },
  {
   "cell_type": "code",
   "execution_count": 97,
   "id": "081077df",
   "metadata": {},
   "outputs": [
    {
     "name": "stdout",
     "output_type": "stream",
     "text": [
      "The original tuple is :  (5, 6, 7, 4, 9)\n",
      "Converted Tuple with K: [5, 'Gfg', 6, 'Gfg', 7, 'Gfg', 4, 'Gfg', 9, 'Gfg']\n"
     ]
    }
   ],
   "source": [
    "def tuple_to_list_with_k(tup,K):\n",
    "    if not tup:\n",
    "        return []\n",
    "    else:\n",
    "        return [tup[0],K] + tuple_to_list_with_k(tup[1:],K)\n",
    "test_tup = (5, 6, 7, 4, 9)\n",
    "print(\"The original tuple is : \", test_tup)\n",
    "K = \"Gfg\"\n",
    "result = tuple_to_list_with_k(test_tup,K)\n",
    "print(\"Converted Tuple with K:\",result)"
   ]
  },
  {
   "cell_type": "markdown",
   "id": "6b0fb954",
   "metadata": {},
   "source": [
    "### Python Program to Convert Tuple Matrix to Tuple List"
   ]
  },
  {
   "cell_type": "code",
   "execution_count": 99,
   "id": "037692e0",
   "metadata": {},
   "outputs": [
    {
     "name": "stdout",
     "output_type": "stream",
     "text": [
      "The original tuple is :  [[(4, 5), (7, 8)], [(10, 13), (18, 17)], [(0, 4), (10, 1)]]\n",
      "The converted tuple list is: [(4, 7, 10, 18, 0, 10), (5, 8, 13, 17, 4, 1)]\n"
     ]
    }
   ],
   "source": [
    "test_list = [[(4, 5), (7, 8)], [(10, 13), (18, 17)], [(0, 4), (10, 1)]]\n",
    "print(\"The original tuple is : \", test_list)\n",
    "result = [ele for sub in test_list for ele in sub ]\n",
    "result = list(zip(*result))\n",
    "print(\"The converted tuple list is:\",result)"
   ]
  },
  {
   "cell_type": "code",
   "execution_count": 102,
   "id": "ae9d4c93",
   "metadata": {},
   "outputs": [
    {
     "name": "stdout",
     "output_type": "stream",
     "text": [
      "The original list is : [[(4, 5), (7, 8)], [(10, 13), (18, 17)], [(0, 4), (10, 1)]]\n",
      "The converted tuple list is: [(4, 7, 10, 18, 0, 10), (5, 8, 13, 17, 4, 1)]\n"
     ]
    }
   ],
   "source": [
    "from itertools import chain\n",
    "test_list = [[(4, 5), (7, 8)], [(10, 13), (18, 17)], [(0, 4), (10, 1)]]\n",
    "print(\"The original list is :\",test_list)\n",
    "result = list(zip(*chain.from_iterable(test_list)))\n",
    "print(\"The converted tuple list is:\",result)"
   ]
  },
  {
   "cell_type": "code",
   "execution_count": 103,
   "id": "e9431cde",
   "metadata": {},
   "outputs": [
    {
     "name": "stdout",
     "output_type": "stream",
     "text": [
      "The original list is : [[(4, 5), (7, 8)], [(10, 13), (18, 17)], [(0, 4), (10, 1)]]\n",
      "The converted tuple list is: [(4, 7, 10, 18, 0, 10), (5, 8, 13, 17, 4, 1)]\n"
     ]
    }
   ],
   "source": [
    "from itertools import chain\n",
    "test_list = [[(4, 5), (7, 8)], [(10, 13), (18, 17)], [(0, 4), (10, 1)]]\n",
    "print(\"The original list is :\",test_list)\n",
    "result = list(zip(*chain(*test_list)))\n",
    "print(\"The converted tuple list is:\",result)"
   ]
  },
  {
   "cell_type": "code",
   "execution_count": 104,
   "id": "56149cdf",
   "metadata": {},
   "outputs": [
    {
     "name": "stdout",
     "output_type": "stream",
     "text": [
      "([1, 2, 3], [4, 5, 6], [7, 8, 9])\n"
     ]
    }
   ],
   "source": [
    "matrix = ((1, 2, 3), (4, 5, 6), (7, 8, 9))\n",
    "result = tuple(map(lambda x:list(x),matrix))\n",
    "print(result)"
   ]
  },
  {
   "cell_type": "code",
   "execution_count": 105,
   "id": "faba6f0d",
   "metadata": {},
   "outputs": [
    {
     "name": "stdout",
     "output_type": "stream",
     "text": [
      "((4, 5), (7, 8), (10, 13), (18, 17), (0, 4), (10, 1))\n"
     ]
    }
   ],
   "source": [
    "import numpy as np\n",
    "test_list = [[(4, 5), (7, 8)], [(10, 13), (18, 17)], [(0, 4), (10, 1)]]\n",
    "arr = np.array([col for sub in test_list for col in sub],np.int64)\n",
    "result = tuple(map(tuple,arr))\n",
    "print(result)"
   ]
  },
  {
   "cell_type": "code",
   "execution_count": 106,
   "id": "a132c4ac",
   "metadata": {},
   "outputs": [
    {
     "name": "stdout",
     "output_type": "stream",
     "text": [
      "Original list is: [[(4, 5), (7, 8)], [(10, 13), (18, 17)], [(0, 4), (10, 1)]]\n",
      "The converted tuple list is: [(4, 7, 10, 18, 0, 10), (5, 8, 13, 17, 4, 1)]\n"
     ]
    }
   ],
   "source": [
    "def flatten(lst):\n",
    "    if isinstance(lst,list):\n",
    "        return [ele for sub in lst for ele in flatten(sub)]\n",
    "    else:\n",
    "        return [lst]\n",
    "    \n",
    "test_list = [[(4, 5), (7, 8)], [(10, 13), (18, 17)], [(0, 4), (10, 1)]]\n",
    "print(\"Original list is:\",test_list)\n",
    "temp = flatten(test_list)\n",
    "result = list(zip(*temp))\n",
    "print(\"The converted tuple list is:\",result)"
   ]
  },
  {
   "cell_type": "markdown",
   "id": "19565324",
   "metadata": {},
   "source": [
    "###  Convert Tuple to Tuple Pair"
   ]
  },
  {
   "cell_type": "code",
   "execution_count": 107,
   "id": "30861769",
   "metadata": {},
   "outputs": [
    {
     "name": "stdout",
     "output_type": "stream",
     "text": [
      "The Original Tuple : ('G', 'F', 'G')\n",
      "The paired record : [('G', 'F'), ('G', 'G')]\n"
     ]
    }
   ],
   "source": [
    "from itertools import product\n",
    "test_tuple = (\"G\",\"F\",\"G\")\n",
    "print(\"The Original Tuple :\",test_tuple)\n",
    "test_tuple = iter(test_tuple)\n",
    "result = list(product(next(test_tuple),test_tuple))\n",
    "print(\"The paired record :\",result)"
   ]
  },
  {
   "cell_type": "code",
   "execution_count": 108,
   "id": "88cbafc1",
   "metadata": {},
   "outputs": [
    {
     "name": "stdout",
     "output_type": "stream",
     "text": [
      "The Original Tuple : ('G', 'F', 'G')\n",
      "The paired record : [('G', 'F'), ('G', 'G')]\n"
     ]
    }
   ],
   "source": [
    "from itertools import repeat\n",
    "test_tuple = (\"G\",\"F\",\"G\")\n",
    "print(\"The Original Tuple :\",test_tuple)\n",
    "test_tuple = iter(test_tuple)\n",
    "result = list(zip(repeat(next(test_tuple)),test_tuple))\n",
    "print(\"The paired record :\",result)"
   ]
  },
  {
   "cell_type": "code",
   "execution_count": 111,
   "id": "4a53a55f",
   "metadata": {},
   "outputs": [
    {
     "name": "stdout",
     "output_type": "stream",
     "text": [
      "((1, 2), (2, 3), (3, 4))\n"
     ]
    }
   ],
   "source": [
    "t = (1, 2, 3, 4)\n",
    " \n",
    "pair_tuple = tuple(zip(t[:-1], t[1:]))\n",
    " \n",
    "print(pair_tuple)"
   ]
  },
  {
   "cell_type": "code",
   "execution_count": 115,
   "id": "31852355",
   "metadata": {},
   "outputs": [
    {
     "name": "stdout",
     "output_type": "stream",
     "text": [
      "The paired record : ((1, 2), (2, 3), (3, 4))\n"
     ]
    }
   ],
   "source": [
    "t = (1, 2, 3, 4)\n",
    "result = tuple((t[i],t[i+1]) for i in range(len(t)-1))\n",
    "print(\"The paired record :\",result)"
   ]
  },
  {
   "cell_type": "markdown",
   "id": "d1e2fd71",
   "metadata": {},
   "source": [
    "### Convert List of Lists to Tuple of Tuples"
   ]
  },
  {
   "cell_type": "code",
   "execution_count": 2,
   "id": "2394d3df",
   "metadata": {},
   "outputs": [
    {
     "name": "stdout",
     "output_type": "stream",
     "text": [
      "The Original List is : [['Gfg', 'is', 'Best'], ['Gfg', 'is', 'love'], ['Gfg', 'is', 'for', 'Geeks']]\n",
      "The Converted data is: (('Gfg', 'is', 'Best'), ('Gfg', 'is', 'love'), ('Gfg', 'is', 'for', 'Geeks'))\n"
     ]
    }
   ],
   "source": [
    "test_list = [['Gfg', 'is', 'Best'], ['Gfg', 'is', 'love'],\n",
    "             ['Gfg', 'is', 'for', 'Geeks']]\n",
    "print(\"The Original List is :\",test_list)\n",
    "result = tuple(tuple(i) for i in test_list)\n",
    "print(\"The Converted data is:\",result)"
   ]
  },
  {
   "cell_type": "code",
   "execution_count": 3,
   "id": "0ee8e65b",
   "metadata": {},
   "outputs": [
    {
     "name": "stdout",
     "output_type": "stream",
     "text": [
      "The Original List is : [['Gfg', 'is', 'Best'], ['Gfg', 'is', 'love'], ['Gfg', 'is', 'for', 'Geeks']]\n",
      "The Converted data is: (('Gfg', 'is', 'Best'), ('Gfg', 'is', 'love'), ('Gfg', 'is', 'for', 'Geeks'))\n"
     ]
    }
   ],
   "source": [
    "test_list = [['Gfg', 'is', 'Best'], ['Gfg', 'is', 'love'],\n",
    "             ['Gfg', 'is', 'for', 'Geeks']]\n",
    "print(\"The Original List is :\",test_list)\n",
    "result = tuple(map(tuple,test_list))\n",
    "print(\"The Converted data is:\",result)"
   ]
  },
  {
   "cell_type": "code",
   "execution_count": 5,
   "id": "c8996b52",
   "metadata": {},
   "outputs": [
    {
     "name": "stdout",
     "output_type": "stream",
     "text": [
      "The Original List is : [['Gfg', 'is', 'Best'], ['Gfg', 'is', 'love'], ['Gfg', 'is', 'for', 'Geeks']]\n",
      "The Converted data is: (('Gfg', 'is', 'Best'), ('Gfg', 'is', 'love'), ('Gfg', 'is', 'for', 'Geeks'))\n"
     ]
    }
   ],
   "source": [
    "test_list = [['Gfg', 'is', 'Best'], ['Gfg', 'is', 'love'],\n",
    "             ['Gfg', 'is', 'for', 'Geeks']]\n",
    "print(\"The Original List is :\",test_list)\n",
    "result = tuple(tuple(val) for i,val in enumerate(test_list))\n",
    "print(\"The Converted data is:\",result)"
   ]
  },
  {
   "cell_type": "code",
   "execution_count": 8,
   "id": "476ac821",
   "metadata": {},
   "outputs": [
    {
     "name": "stdout",
     "output_type": "stream",
     "text": [
      "The Original List is : [['Gfg', 'is', 'Best'], ['Gfg', 'is', 'love'], ['Gfg', 'is', 'for', 'Geeks']]\n",
      "The Converted data is: (('Gfg', 'is', 'Best'), ('Gfg', 'is', 'love'), ('Gfg', 'is', 'for', 'Geeks'))\n"
     ]
    }
   ],
   "source": [
    "def list_to_tuple(lst):\n",
    "    if len(lst) == 0:\n",
    "        return ()\n",
    "    else:\n",
    "        return (tuple(lst[0]),) + list_to_tuple(lst[1:]) ### Using recursion\n",
    "test_list = [['Gfg', 'is', 'Best'], ['Gfg', 'is', 'love'],\n",
    "             ['Gfg', 'is', 'for', 'Geeks']]\n",
    "print(\"The Original List is :\",test_list)\n",
    "result = list_to_tuple(test_list)\n",
    "print(\"The Converted data is:\",result) "
   ]
  },
  {
   "cell_type": "code",
   "execution_count": 10,
   "id": "aa939eba",
   "metadata": {},
   "outputs": [
    {
     "name": "stdout",
     "output_type": "stream",
     "text": [
      "The Original List is : [['Gfg', 'is', 'Best'], ['Gfg', 'is', 'love'], ['Gfg', 'is', 'for', 'Geeks']]\n",
      "The Converted data is: (('Gfg', 'is', 'Best'), ('Gfg', 'is', 'love'), ('Gfg', 'is', 'for', 'Geeks'))\n"
     ]
    }
   ],
   "source": [
    "test_list = [['Gfg', 'is', 'Best'], ['Gfg', 'is', 'love'],\n",
    "             ['Gfg', 'is', 'for', 'Geeks']]\n",
    "print(\"The Original List is :\",test_list)\n",
    "result = []\n",
    "for sub in test_list:\n",
    "    tup = ()\n",
    "    for ele in sub:\n",
    "        tup += (ele,)\n",
    "    result.append(tup)\n",
    "result = tuple(result)\n",
    "print(\"The Converted data is:\",result) "
   ]
  },
  {
   "cell_type": "code",
   "execution_count": 14,
   "id": "a4adcd4e",
   "metadata": {},
   "outputs": [
    {
     "name": "stdout",
     "output_type": "stream",
     "text": [
      "The Original List is : [['Gfg', 'is', 'Best'], ['Gfg', 'is', 'love'], ['Gfg', 'is', 'for', 'Geeks']]\n",
      "The Converted data is: (('Gfg', 'is', 'Best'), ('Gfg', 'is', 'love'), ('Gfg', 'is', 'for', 'Geeks'))\n"
     ]
    }
   ],
   "source": [
    "import itertools\n",
    "test_list = [['Gfg', 'is', 'Best'], ['Gfg', 'is', 'love'],\n",
    "             ['Gfg', 'is', 'for', 'Geeks']]\n",
    "print(\"The Original List is :\",test_list)\n",
    "def list_to_tuple(*args):\n",
    "    return tuple(args)\n",
    "\n",
    "result = tuple(itertools.starmap(list_to_tuple,test_list))\n",
    "print(\"The Converted data is:\",result) "
   ]
  },
  {
   "cell_type": "markdown",
   "id": "f4e0aa34",
   "metadata": {},
   "source": [
    "### Convert Matrix to Custom Tuple Matrix"
   ]
  },
  {
   "cell_type": "code",
   "execution_count": 15,
   "id": "ea2cf3f6",
   "metadata": {},
   "outputs": [
    {
     "name": "stdout",
     "output_type": "stream",
     "text": [
      "The Original List is : [[4, 5, 6], [6, 7, 3], [1, 3, 4]]\n",
      "The Matrix after conversion : [('Gfg', 4), ('Gfg', 5), ('Gfg', 6), ('is', 6), ('is', 7), ('is', 3), ('best', 1), ('best', 3), ('best', 4)]\n"
     ]
    }
   ],
   "source": [
    "test_list = [[4, 5, 6], [6, 7, 3], [1, 3, 4]]\n",
    "print(\"The Original List is :\",test_list)\n",
    "add_list = ['Gfg', 'is', 'best']\n",
    "result = []\n",
    "for idx,ele in zip(add_list,test_list):\n",
    "    for e in ele:\n",
    "        result.append((idx,e))\n",
    "print(\"The Matrix after conversion :\",result)         "
   ]
  },
  {
   "cell_type": "code",
   "execution_count": 16,
   "id": "502dfa9a",
   "metadata": {},
   "outputs": [
    {
     "name": "stdout",
     "output_type": "stream",
     "text": [
      "The Original List is : [[4, 5, 6], [6, 7, 3], [1, 3, 4]]\n",
      "The Matrix after conversion : [('Gfg', 4), ('Gfg', 5), ('Gfg', 6), ('is', 6), ('is', 7), ('is', 3), ('best', 1), ('best', 3), ('best', 4)]\n"
     ]
    }
   ],
   "source": [
    "test_list = [[4, 5, 6], [6, 7, 3], [1, 3, 4]]\n",
    "print(\"The Original List is :\",test_list)\n",
    "add_list = ['Gfg', 'is', 'best']\n",
    "result = [(ele1,ele2) for ele1,sub in zip(add_list,test_list) for ele2 in sub]\n",
    "print(\"The Matrix after conversion :\",result)   "
   ]
  },
  {
   "cell_type": "code",
   "execution_count": 17,
   "id": "d6d96896",
   "metadata": {},
   "outputs": [
    {
     "name": "stdout",
     "output_type": "stream",
     "text": [
      "The Original List is : [[4, 5, 6], [6, 7, 3], [1, 3, 4]]\n",
      "The Matrix after conversion : [('Gfg', 4), ('Gfg', 5), ('Gfg', 6), ('is', 6), ('is', 7), ('is', 3), ('best', 1), ('best', 3), ('best', 4)]\n"
     ]
    }
   ],
   "source": [
    "test_list = [[4, 5, 6], [6, 7, 3], [1, 3, 4]]\n",
    "print(\"The Original List is :\",test_list)\n",
    "add_list = ['Gfg', 'is', 'best']\n",
    "result = []\n",
    "for i in range(0,len(add_list)):\n",
    "    for j in range(0,len(test_list[i])):\n",
    "        result.append((add_list[i],test_list[i][j]))\n",
    "print(\"The Matrix after conversion :\",result)   "
   ]
  },
  {
   "cell_type": "code",
   "execution_count": 19,
   "id": "dbdf58bb",
   "metadata": {},
   "outputs": [
    {
     "name": "stdout",
     "output_type": "stream",
     "text": [
      "Result: [('Gfg', 4), ('Gfg', 5), ('Gfg', 6), ('is', 6), ('is', 7), ('is', 3), ('best', 1), ('best', 3), ('best', 4)]\n"
     ]
    }
   ],
   "source": [
    "from itertools import chain\n",
    "def convert_to_tuple(test_list,add_list):\n",
    "    return list(zip(chain.from_iterable([[val] * len(add_list) for val in add_list]),chain.from_iterable(test_list)))\n",
    "\n",
    "def main():\n",
    " \n",
    "    # Input list\n",
    "    test_list = [[4, 5, 6], [6, 7, 3], [1, 3, 4]]\n",
    "    add_list = ['Gfg', 'is', 'best']\n",
    " \n",
    "    result = convert_to_tuple(test_list, add_list)\n",
    "    print(\"Result:\", result)\n",
    " \n",
    " \n",
    "if __name__ == '__main__':\n",
    "    main()"
   ]
  },
  {
   "cell_type": "markdown",
   "id": "b9e46da2",
   "metadata": {},
   "source": [
    "### Convert Nested Tuple to Custom Key Dictionary"
   ]
  },
  {
   "cell_type": "code",
   "execution_count": 20,
   "id": "3ae4f1e8",
   "metadata": {},
   "outputs": [
    {
     "name": "stdout",
     "output_type": "stream",
     "text": [
      "The Original List is : ((4, 'Gfg', 10), (3, 'is', 8), (6, 'Best', 10))\n",
      "The converted dictionary :  [{'key': 4, 'value': 'Gfg', 'id': 10}, {'key': 3, 'value': 'is', 'id': 8}, {'key': 6, 'value': 'Best', 'id': 10}]\n"
     ]
    }
   ],
   "source": [
    "test_tuple = ((4, 'Gfg', 10), (3, 'is', 8), (6, 'Best', 10)) \n",
    "print(\"The Original List is :\",test_tuple)\n",
    "result = [{\"key\":sub[0],\"value\":sub[1],\"id\":sub[2]} for sub in test_tuple]\n",
    "print(\"The converted dictionary : \" ,result) \n"
   ]
  },
  {
   "cell_type": "code",
   "execution_count": 21,
   "id": "8fa2a62a",
   "metadata": {},
   "outputs": [
    {
     "name": "stdout",
     "output_type": "stream",
     "text": [
      "The Original List is : ((4, 'Gfg', 10), (3, 'is', 8), (6, 'Best', 10))\n",
      "The converted dictionary :  [{'key': 4, 'value': 'Gfg', 'id': 10}, {'key': 3, 'value': 'is', 'id': 8}, {'key': 6, 'value': 'Best', 'id': 10}]\n"
     ]
    }
   ],
   "source": [
    "test_tuple = ((4, 'Gfg', 10), (3, 'is', 8), (6, 'Best', 10)) \n",
    "print(\"The Original List is :\",test_tuple)\n",
    "keys = [\"key\",\"value\",\"id\"]\n",
    "result = [{key:val for key,val in zip(keys,sub)} for sub in test_tuple]\n",
    "print(\"The converted dictionary : \" ,result) \n"
   ]
  },
  {
   "cell_type": "code",
   "execution_count": 24,
   "id": "b0212a57",
   "metadata": {},
   "outputs": [
    {
     "name": "stdout",
     "output_type": "stream",
     "text": [
      "The Original List is : ((4, 'Gfg', 10), (3, 'is', 8), (6, 'Best', 10))\n",
      "The Converted dictionary: [{'key': 4, 'value': 'Gfg', 'id': 10}, {'key': 3, 'value': 'is', 'id': 8}, {'key': 6, 'value': 'Best', 'id': 10}]\n"
     ]
    }
   ],
   "source": [
    "test_tuple = ((4, 'Gfg', 10), (3, 'is', 8), (6, 'Best', 10)) \n",
    "print(\"The Original List is :\",test_tuple)\n",
    "keys = [\"key\",\"value\",\"id\"]\n",
    "result = []\n",
    "for sub in test_tuple:\n",
    "    sub_dict = {}\n",
    "    for i in range(len(keys)):\n",
    "        sub_dict[keys[i]] = sub[i]\n",
    "    result.append(sub_dict)\n",
    "print(\"The Converted dictionary:\",result)"
   ]
  },
  {
   "cell_type": "markdown",
   "id": "95d5f8ec",
   "metadata": {},
   "source": [
    "### Convert tuple to float value"
   ]
  },
  {
   "cell_type": "code",
   "execution_count": 25,
   "id": "cd14abbf",
   "metadata": {},
   "outputs": [
    {
     "name": "stdout",
     "output_type": "stream",
     "text": [
      "The Original List is : (4, 56)\n",
      "The float after conversion from tuple is: 4.56\n"
     ]
    }
   ],
   "source": [
    "test_tuple = (4,56)\n",
    "print(\"The Original List is :\",test_tuple)\n",
    "result = float(\".\".join(str(ele) for ele in test_tuple))\n",
    "print(\"The float after conversion from tuple is:\",result)"
   ]
  },
  {
   "cell_type": "code",
   "execution_count": 26,
   "id": "6abac7c5",
   "metadata": {},
   "outputs": [
    {
     "name": "stdout",
     "output_type": "stream",
     "text": [
      "The Original List is : (4, 56)\n",
      "The float after conversion from tuple is: 4.56\n"
     ]
    }
   ],
   "source": [
    "test_tuple = (4,56)\n",
    "print(\"The Original List is :\",test_tuple)\n",
    "result = float(\"{}.{}\".format(*test_tuple))\n",
    "print(\"The float after conversion from tuple is:\",result)"
   ]
  },
  {
   "cell_type": "markdown",
   "id": "e6fc0831",
   "metadata": {},
   "source": [
    "### Advance Tuple Programs\n",
    "### Extract tuples having K digit elements"
   ]
  },
  {
   "cell_type": "code",
   "execution_count": 31,
   "id": "f08f28de",
   "metadata": {},
   "outputs": [
    {
     "name": "stdout",
     "output_type": "stream",
     "text": [
      "The original list is :  [(54, 2), (34, 55), (222, 23), (12, 45), (78,)]\n",
      "The Extracted Tuple is: [(34, 55), (12, 45), (78,)]\n"
     ]
    }
   ],
   "source": [
    "test_list = [(54, 2), (34, 55), (222, 23), (12, 45), (78, )]\n",
    "print(\"The original list is : \" ,test_list)\n",
    "K = 2\n",
    "result = [sub for sub in test_list if all(len(str(ele))==K for ele in sub)]\n",
    "print(\"The Extracted Tuple is:\",result)"
   ]
  },
  {
   "cell_type": "code",
   "execution_count": 32,
   "id": "629be955",
   "metadata": {},
   "outputs": [
    {
     "name": "stdout",
     "output_type": "stream",
     "text": [
      "The original list is :  [(54, 2), (34, 55), (222, 23), (12, 45), (78,)]\n",
      "The Extracted Tuple is: [(34, 55), (12, 45), (78,)]\n"
     ]
    }
   ],
   "source": [
    "test_list = [(54, 2), (34, 55), (222, 23), (12, 45), (78, )]\n",
    "print(\"The original list is : \" ,test_list)\n",
    "K = 2\n",
    "result = list(filter(lambda sub: all(len(str(ele))==K for ele in sub),test_list))\n",
    "print(\"The Extracted Tuple is:\",result)"
   ]
  },
  {
   "cell_type": "code",
   "execution_count": 34,
   "id": "11c5e37e",
   "metadata": {},
   "outputs": [
    {
     "name": "stdout",
     "output_type": "stream",
     "text": [
      "The original list is :  [(54, 2), (34, 55), (222, 23), (12, 45), (78,)]\n",
      "The Extracted Tuple is: [(34, 55), (12, 45), (78,)]\n"
     ]
    }
   ],
   "source": [
    "test_list = [(54, 2), (34, 55), (222, 23), (12, 45), (78, )]\n",
    "print(\"The original list is : \" ,test_list)\n",
    "K = 2\n",
    "result = []\n",
    "for i in test_list:\n",
    "    x = list(map(str,i))\n",
    "    p = []\n",
    "    for j in x:\n",
    "        p.append(len(j))\n",
    "    if(p==[K,K] or p==[K]):\n",
    "        result.append(i)\n",
    "print(\"The Extracted Tuple is:\",result)"
   ]
  },
  {
   "cell_type": "code",
   "execution_count": 36,
   "id": "93b77c78",
   "metadata": {},
   "outputs": [
    {
     "name": "stdout",
     "output_type": "stream",
     "text": [
      "The original list is :  [(54, 2), (34, 55), (222, 23), (12, 45), (78,)]\n",
      "The Extracted Tuple is: ((34, 55), (12, 45), (78,))\n"
     ]
    }
   ],
   "source": [
    "test_list = [(54, 2), (34, 55), (222, 23), (12, 45), (78, )]\n",
    "print(\"The original list is : \" ,test_list)\n",
    "K = 2\n",
    "result = tuple(t for t in test_list if all(len(str(ele))==K for ele in t))\n",
    "print(\"The Extracted Tuple is:\",result)"
   ]
  },
  {
   "cell_type": "markdown",
   "id": "04ce6fea",
   "metadata": {},
   "source": [
    "### Extract Symmetric Tuples"
   ]
  },
  {
   "cell_type": "code",
   "execution_count": 37,
   "id": "eb36b6b6",
   "metadata": {},
   "outputs": [
    {
     "name": "stdout",
     "output_type": "stream",
     "text": [
      "The original list is :  [(6, 7), (2, 3), (7, 6), (9, 8), (10, 2), (8, 9)]\n",
      "The symmetric tuple: {(6, 7), (8, 9)}\n"
     ]
    }
   ],
   "source": [
    "test_list = [(6, 7), (2, 3), (7, 6), (9, 8), (10, 2), (8, 9)]\n",
    "print(\"The original list is : \" ,test_list)\n",
    "temp = set(test_list) & {(b,a) for a,b in test_list}\n",
    "result = {(a,b) for a,b in temp if a<b}\n",
    "print(\"The symmetric tuple:\",result)"
   ]
  },
  {
   "cell_type": "code",
   "execution_count": 38,
   "id": "12d96d86",
   "metadata": {},
   "outputs": [
    {
     "name": "stdout",
     "output_type": "stream",
     "text": [
      "The original list is :  [(6, 7), (2, 3), (7, 6), (9, 8), (10, 2), (8, 9)]\n",
      "The symmetric tuple: [(7, 6), (9, 8)]\n"
     ]
    }
   ],
   "source": [
    "from collections import Counter\n",
    "test_list = [(6, 7), (2, 3), (7, 6), (9, 8), (10, 2), (8, 9)]\n",
    "print(\"The original list is : \" ,test_list)\n",
    "temp = [(sub[1],sub[0]) if sub[0] < sub[1] else sub for sub in test_list]\n",
    "cnt = Counter(temp)\n",
    "result = [key for key,val in cnt.items() if val==2]\n",
    "print(\"The symmetric tuple:\",result)"
   ]
  },
  {
   "cell_type": "markdown",
   "id": "083884b5",
   "metadata": {},
   "source": [
    "### Python program to Sort Tuples by their Maximum element"
   ]
  },
  {
   "cell_type": "code",
   "execution_count": 41,
   "id": "dfb6e39f",
   "metadata": {},
   "outputs": [
    {
     "name": "stdout",
     "output_type": "stream",
     "text": [
      "The original list is :  [(4, 5, 5, 7), (1, 3, 7, 4), (19, 4, 5, 3), (1, 2)]\n",
      "Sorted Tuple: [(19, 4, 5, 3), (4, 5, 5, 7), (1, 3, 7, 4), (1, 2)]\n"
     ]
    }
   ],
   "source": [
    "def get_max(sub):\n",
    "    return max(sub)\n",
    "\n",
    "test_list = [(4, 5, 5, 7), (1, 3, 7, 4), (19, 4, 5, 3), (1, 2)]\n",
    "print(\"The original list is : \" ,test_list)\n",
    "test_list.sort(key = get_max, reverse = True)\n",
    "print(\"Sorted Tuple:\",test_list)"
   ]
  },
  {
   "cell_type": "code",
   "execution_count": 43,
   "id": "2b43dcba",
   "metadata": {},
   "outputs": [
    {
     "name": "stdout",
     "output_type": "stream",
     "text": [
      "The original list is :  [(4, 5, 5, 7), (1, 3, 7, 4), (19, 4, 5, 3), (1, 2)]\n",
      "Sorted Tuple: [(19, 4, 5, 3), (4, 5, 5, 7), (1, 3, 7, 4), (1, 2)]\n"
     ]
    }
   ],
   "source": [
    "test_list = [(4, 5, 5, 7), (1, 3, 7, 4), (19, 4, 5, 3), (1, 2)]\n",
    "print(\"The original list is : \" ,test_list)\n",
    "test_list.sort(key = lambda sub:max(sub),reverse = True)\n",
    "print(\"Sorted Tuple:\",test_list)"
   ]
  },
  {
   "cell_type": "code",
   "execution_count": 44,
   "id": "5eb311f2",
   "metadata": {},
   "outputs": [
    {
     "name": "stdout",
     "output_type": "stream",
     "text": [
      "The original list is :  [(4, 5, 5, 7), (1, 3, 7, 4), (19, 4, 5, 3), (1, 2)]\n",
      "Sorted Tuple: [(19, 4, 5, 3), (4, 5, 5, 7), (1, 3, 7, 4), (1, 2)]\n"
     ]
    }
   ],
   "source": [
    "test_list = [(4, 5, 5, 7), (1, 3, 7, 4), (19, 4, 5, 3), (1, 2)]\n",
    "print(\"The original list is : \" ,test_list)\n",
    "sorted_list = []\n",
    "for tup in test_list:\n",
    "    max_val = max(tup)\n",
    "    sorted_list.append((tup,max_val))\n",
    "sorted_list.sort(key = lambda x:x[1],reverse=True)\n",
    "final_list = [tup[0] for tup in sorted_list]\n",
    "print(\"Sorted Tuple:\",final_list)"
   ]
  },
  {
   "cell_type": "markdown",
   "id": "603e717c",
   "metadata": {},
   "source": [
    "### Remove nested records from tuple"
   ]
  },
  {
   "cell_type": "code",
   "execution_count": 45,
   "id": "3f65170e",
   "metadata": {},
   "outputs": [
    {
     "name": "stdout",
     "output_type": "stream",
     "text": [
      "The Original Tuple: (1, 5, 7, (4, 6), 10)\n",
      "Elements after removal of nested records: (1, 5, 7, 10)\n"
     ]
    }
   ],
   "source": [
    "test_tup = (1, 5, 7, (4, 6), 10)\n",
    "print(\"The Original Tuple:\",test_tup)\n",
    "result = tuple()\n",
    "for cnt,ele in enumerate(test_tup):\n",
    "    if not isinstance(ele,tuple):\n",
    "        result =result + (ele,)\n",
    "print(\"Elements after removal of nested records:\",result)"
   ]
  },
  {
   "cell_type": "code",
   "execution_count": 47,
   "id": "9f530bff",
   "metadata": {},
   "outputs": [
    {
     "name": "stdout",
     "output_type": "stream",
     "text": [
      "The Original Tuple: (1, 5, 7, (4, 6), 10)\n",
      "Elements after removal of nested records: (1, 5, 7, 10)\n"
     ]
    }
   ],
   "source": [
    "test_tup = (1, 5, 7, (4, 6), 10)\n",
    "print(\"The Original Tuple:\",test_tup)\n",
    "result = []\n",
    "for i in test_tup:\n",
    "    if not type(i) is tuple:\n",
    "        result.append(i)\n",
    "result = tuple(result)\n",
    "print(\"Elements after removal of nested records:\",result)"
   ]
  },
  {
   "cell_type": "code",
   "execution_count": 48,
   "id": "bebda569",
   "metadata": {},
   "outputs": [
    {
     "name": "stdout",
     "output_type": "stream",
     "text": [
      "The Original Tuple: (1, 5, 7, (4, 6), 10)\n",
      "Elements after removal of nested records: [1, 5, 7, 10]\n"
     ]
    }
   ],
   "source": [
    "test_tup = (1, 5, 7, (4, 6), 10)\n",
    "print(\"The Original Tuple:\",test_tup)\n",
    "result = list(filter(lambda x:not isinstance(x,tuple),test_tup))\n",
    "print(\"Elements after removal of nested records:\",result)"
   ]
  },
  {
   "cell_type": "code",
   "execution_count": 50,
   "id": "28395c4a",
   "metadata": {},
   "outputs": [
    {
     "name": "stdout",
     "output_type": "stream",
     "text": [
      "The Original Tuple: (1, 5, 7, (4, 6), 10)\n",
      "Elements after removal of nested records: [1, 5, 7, 10]\n"
     ]
    }
   ],
   "source": [
    "test_tup = (1, 5, 7, (4, 6), 10)\n",
    "print(\"The Original Tuple:\",test_tup)\n",
    "result = [x for x in test_tup if not isinstance(x,tuple)]\n",
    "print(\"Elements after removal of nested records:\",result)"
   ]
  },
  {
   "cell_type": "markdown",
   "id": "4b4068c2",
   "metadata": {},
   "source": [
    "### Elements Frequency in Mixed Nested Tuple"
   ]
  },
  {
   "cell_type": "code",
   "execution_count": 51,
   "id": "78632b4d",
   "metadata": {},
   "outputs": [
    {
     "name": "stdout",
     "output_type": "stream",
     "text": [
      "The Original Tuple: (5, 6, (5, 6), 7, (8, 9), 9)\n",
      "The element frequency: {5: 2, 6: 2, 7: 1, 8: 1, 9: 2}\n"
     ]
    }
   ],
   "source": [
    "def flatten(test_tuple):\n",
    "    for tup in test_tuple:\n",
    "        if isinstance(tup,tuple):\n",
    "            yield from flatten(tup)\n",
    "        else:\n",
    "            yield tup\n",
    "test_tuple = (5, 6, (5, 6), 7, (8, 9), 9)\n",
    "print(\"The Original Tuple:\",test_tuple)\n",
    "result = {}\n",
    "for ele in flatten(test_tuple):\n",
    "    if ele not in result:\n",
    "        result[ele] = 0\n",
    "    result[ele] += 1\n",
    "print(\"The element frequency:\",result)"
   ]
  },
  {
   "cell_type": "code",
   "execution_count": 52,
   "id": "4dfd2b92",
   "metadata": {},
   "outputs": [
    {
     "name": "stdout",
     "output_type": "stream",
     "text": [
      "The Original Tuple: (5, 6, (5, 6), 7, (8, 9), 9)\n",
      "The element frequency: {5: 2, 6: 2, 7: 1, 8: 1, 9: 2}\n"
     ]
    }
   ],
   "source": [
    "from collections import Counter\n",
    "def flatten(test_tuple):\n",
    "    for tup in test_tuple:\n",
    "        if isinstance(tup,tuple):\n",
    "            yield from flatten(tup)\n",
    "        else:\n",
    "            yield tup\n",
    "test_tuple = (5, 6, (5, 6), 7, (8, 9), 9)\n",
    "print(\"The Original Tuple:\",test_tuple)\n",
    "result = dict(Counter(flatten(test_tuple)))\n",
    "print(\"The element frequency:\",result)"
   ]
  },
  {
   "cell_type": "code",
   "execution_count": 53,
   "id": "65e3ce4a",
   "metadata": {},
   "outputs": [
    {
     "name": "stdout",
     "output_type": "stream",
     "text": [
      "The Original Tuple: (5, 6, (5, 6), 7, (8, 9), 9)\n",
      "The element frequency: {5: 2, 6: 2, 7: 1, 8: 1, 9: 2}\n"
     ]
    }
   ],
   "source": [
    "test_tuple = (5, 6, (5, 6), 7, (8, 9), 9)\n",
    "print(\"The Original Tuple:\",test_tuple)\n",
    "x = []\n",
    "for i in test_tuple:\n",
    "    if (type(i) is tuple):\n",
    "        x.extend(list(i))\n",
    "    else:\n",
    "        x.append(i)\n",
    "        \n",
    "result = dict()\n",
    "a=list(set(x))\n",
    "for i in a:\n",
    "    result[i] = x.count(i)\n",
    "        \n",
    "print(\"The element frequency:\",result)"
   ]
  },
  {
   "cell_type": "markdown",
   "id": "2d7caaca",
   "metadata": {},
   "source": [
    "###  How to get unique elements in nested tuple"
   ]
  },
  {
   "cell_type": "code",
   "execution_count": 57,
   "id": "936f08f4",
   "metadata": {},
   "outputs": [
    {
     "name": "stdout",
     "output_type": "stream",
     "text": [
      "The Original Tuple: (5, 6, (5, 6), 7, (8, 9), 9)\n",
      "Unique element in nested tuple are: [3, 4, 5, 7, 1]\n"
     ]
    }
   ],
   "source": [
    "test_list = [(3, 4, 5), (4, 5, 7), (1, 4)]\n",
    "print(\"The Original Tuple:\",test_tuple)\n",
    "result = []\n",
    "temp = set()\n",
    "for sub in test_list:\n",
    "    for ele in sub:\n",
    "        if not ele in temp:\n",
    "            temp.add(ele)\n",
    "            result.append(ele)\n",
    "            \n",
    "print(\"Unique element in nested tuple are:\",result)"
   ]
  },
  {
   "cell_type": "code",
   "execution_count": 58,
   "id": "1f0d3d23",
   "metadata": {},
   "outputs": [
    {
     "name": "stdout",
     "output_type": "stream",
     "text": [
      "The Original Tuple: (5, 6, (5, 6), 7, (8, 9), 9)\n",
      "Unique element in nested tuple are: [1, 3, 4, 5, 7]\n"
     ]
    }
   ],
   "source": [
    "from itertools import chain\n",
    "test_list = [(3, 4, 5), (4, 5, 7), (1, 4)]\n",
    "print(\"The Original Tuple:\",test_tuple)\n",
    "result = list(set(chain(*test_list)))\n",
    "print(\"Unique element in nested tuple are:\",result)"
   ]
  },
  {
   "cell_type": "code",
   "execution_count": 62,
   "id": "0defb458",
   "metadata": {},
   "outputs": [
    {
     "name": "stdout",
     "output_type": "stream",
     "text": [
      "The Original Tuple: (5, 6, (5, 6), 7, (8, 9), 9)\n",
      "Unique element in nested tuple are: [1, 3, 4, 5, 7]\n"
     ]
    }
   ],
   "source": [
    "test_list = [(3, 4, 5), (4, 5, 7), (1, 4)]\n",
    "print(\"The Original Tuple:\",test_tuple)\n",
    "\n",
    "x = []\n",
    "for i in test_list:\n",
    "    x.extend(list(i))\n",
    "x = list(set(x))\n",
    "print(\"Unique element in nested tuple are:\",x)"
   ]
  },
  {
   "cell_type": "code",
   "execution_count": 64,
   "id": "cd95b316",
   "metadata": {},
   "outputs": [
    {
     "name": "stdout",
     "output_type": "stream",
     "text": [
      "The Original Tuple: (5, 6, (5, 6), 7, (8, 9), 9)\n",
      "Unique element in nested tuple are: [1, 3, 4, 5, 7]\n"
     ]
    }
   ],
   "source": [
    "from collections import Counter\n",
    "test_list = [(3, 4, 5), (4, 5, 7), (1, 4)]\n",
    "print(\"The Original Tuple:\",test_tuple)\n",
    "x = []\n",
    "for i in test_list:\n",
    "    x.extend(list(i))\n",
    "freq = Counter(x)\n",
    "result = list(freq.keys())\n",
    "result.sort()\n",
    "print(\"Unique element in nested tuple are:\",result)"
   ]
  },
  {
   "cell_type": "code",
   "execution_count": 65,
   "id": "4836b5ca",
   "metadata": {},
   "outputs": [
    {
     "name": "stdout",
     "output_type": "stream",
     "text": [
      "The Original Tuple: (5, 6, (5, 6), 7, (8, 9), 9)\n",
      "Unique element in nested tuple are: [1, 3, 4, 5, 7]\n"
     ]
    }
   ],
   "source": [
    "test_list = [(3, 4, 5), (4, 5, 7), (1, 4)]\n",
    "print(\"The Original Tuple:\",test_tuple)\n",
    "result = sorted(set([ele for sub in test_list for ele in sub]))\n",
    "print(\"Unique element in nested tuple are:\",result)"
   ]
  },
  {
   "cell_type": "code",
   "execution_count": 66,
   "id": "469c00ca",
   "metadata": {},
   "outputs": [
    {
     "name": "stdout",
     "output_type": "stream",
     "text": [
      "The Original Tuple: (5, 6, (5, 6), 7, (8, 9), 9)\n",
      "Unique element in nested tuple are: [1, 3, 4, 5, 7]\n"
     ]
    }
   ],
   "source": [
    "import numpy as np\n",
    "test_list = [(3, 4, 5), (4, 5, 7), (1, 4)]\n",
    "print(\"The Original Tuple:\",test_tuple)\n",
    "result = np.unique(np.concatenate(test_list)).tolist()\n",
    "print(\"Unique element in nested tuple are:\",result)"
   ]
  },
  {
   "cell_type": "markdown",
   "id": "b2b7ea99",
   "metadata": {},
   "source": [
    "### How to Concatenate tuples to nested tuples"
   ]
  },
  {
   "cell_type": "code",
   "execution_count": 69,
   "id": "58e254fa",
   "metadata": {},
   "outputs": [
    {
     "name": "stdout",
     "output_type": "stream",
     "text": [
      "The Original Tuple1: ((3, 4),)\n",
      "The Original Tuple2: ((5, 6),)\n",
      "After Concatenating the tuple: ((3, 4), (5, 6))\n"
     ]
    }
   ],
   "source": [
    "test_tup1 = (3, 4),\n",
    "test_tup2 = (5, 6),\n",
    "print(\"The Original Tuple1:\",test_tup1)\n",
    "print(\"The Original Tuple2:\",test_tup2)\n",
    "result = test_tup1 + test_tup2\n",
    "print(\"After Concatenating the tuple:\",result)"
   ]
  },
  {
   "cell_type": "code",
   "execution_count": 70,
   "id": "195e0afe",
   "metadata": {},
   "outputs": [
    {
     "name": "stdout",
     "output_type": "stream",
     "text": [
      "The Original Tuple1: (3, 4)\n",
      "The Original Tuple2: (5, 6)\n",
      "After Concatenating the tuple: ((3, 4), (5, 6))\n"
     ]
    }
   ],
   "source": [
    "test_tup1 = (3, 4)\n",
    "test_tup2 = (5, 6)\n",
    "print(\"The Original Tuple1:\",test_tup1)\n",
    "print(\"The Original Tuple2:\",test_tup2)\n",
    "result = ((test_tup1),) + ((test_tup2),)\n",
    "print(\"After Concatenating the tuple:\",result)"
   ]
  },
  {
   "cell_type": "code",
   "execution_count": 71,
   "id": "1c03f10a",
   "metadata": {},
   "outputs": [
    {
     "name": "stdout",
     "output_type": "stream",
     "text": [
      "The Original Tuple1: (3, 4)\n",
      "The Original Tuple2: (5, 6)\n",
      "After Concatenating the tuple: [3, 4, 5, 6]\n"
     ]
    }
   ],
   "source": [
    "test_tup1 = (3, 4)\n",
    "test_tup2 = (5, 6)\n",
    "print(\"The Original Tuple1:\",test_tup1)\n",
    "print(\"The Original Tuple2:\",test_tup2)\n",
    "test_tup1 = list(test_tup1)\n",
    "test_tup2 = list(test_tup2)\n",
    "test_tup1.extend(test_tup2)\n",
    "print(\"After Concatenating the tuple:\",test_tup1)"
   ]
  },
  {
   "cell_type": "code",
   "execution_count": 73,
   "id": "4ad0e4a7",
   "metadata": {},
   "outputs": [
    {
     "name": "stdout",
     "output_type": "stream",
     "text": [
      "The Original Tuple1: (3, 4)\n",
      "The Original Tuple2: (5, 6)\n",
      "After Concatenating the tuple: (3, 4, 5, 6)\n"
     ]
    }
   ],
   "source": [
    "import itertools\n",
    "test_tup1 = (3, 4)\n",
    "test_tup2 = (5, 6)\n",
    "print(\"The Original Tuple1:\",test_tup1)\n",
    "print(\"The Original Tuple2:\",test_tup2)\n",
    "result = tuple(itertools.chain(test_tup1,test_tup2))\n",
    "print(\"After Concatenating the tuple:\",result)"
   ]
  },
  {
   "cell_type": "code",
   "execution_count": 74,
   "id": "73d99673",
   "metadata": {},
   "outputs": [
    {
     "name": "stdout",
     "output_type": "stream",
     "text": [
      "The Original Tuple1: (3, 4)\n",
      "The Original Tuple2: (5, 6)\n",
      "After Concatenating the tuple: (3, 4, 5, 6)\n"
     ]
    }
   ],
   "source": [
    "from functools import reduce\n",
    "test_tup1 = (3, 4)\n",
    "test_tup2 = (5, 6)\n",
    "print(\"The Original Tuple1:\",test_tup1)\n",
    "print(\"The Original Tuple2:\",test_tup2)\n",
    "result = reduce(lambda x,y:x+y,(test_tup1,test_tup2))\n",
    "print(\"After Concatenating the tuple:\",result)"
   ]
  },
  {
   "cell_type": "markdown",
   "id": "5eac64e1",
   "metadata": {},
   "source": [
    "### Sort by Frequency of second element in Tuple List"
   ]
  },
  {
   "cell_type": "code",
   "execution_count": 78,
   "id": "c88c87e2",
   "metadata": {},
   "outputs": [
    {
     "name": "stdout",
     "output_type": "stream",
     "text": [
      "The Original list is: [(6, 5), (2, 7), (2, 5), (8, 7), (9, 8), (3, 7)]\n",
      "Sorted List of tuple is: [(2, 7), (8, 7), (3, 7), (6, 5), (2, 5), (9, 8)]\n"
     ]
    }
   ],
   "source": [
    "from collections import defaultdict\n",
    "test_list = [(6, 5), (2, 7), (2, 5), (8, 7), (9, 8), (3, 7)]\n",
    "print(\"The Original list is:\",test_list)\n",
    "\n",
    "freq = defaultdict(int)\n",
    "for idx,val in test_list:\n",
    "    freq[val] += 1\n",
    "result = sorted(test_list,key=lambda ele:freq[ele[1]],reverse=True)\n",
    "print(\"Sorted List of tuple is:\",result)"
   ]
  },
  {
   "cell_type": "code",
   "execution_count": 79,
   "id": "57298a98",
   "metadata": {},
   "outputs": [
    {
     "name": "stdout",
     "output_type": "stream",
     "text": [
      "The Original list is: [(6, 5), (2, 7), (2, 5), (8, 7), (9, 8), (3, 7)]\n",
      "Sorted List of Tuples: [(2, 7), (8, 7), (3, 7), (6, 5), (2, 5), (9, 8)]\n"
     ]
    }
   ],
   "source": [
    "from collections import Counter\n",
    "test_list = [(6, 5), (2, 7), (2, 5), (8, 7), (9, 8), (3, 7)]\n",
    "print(\"The Original list is:\",test_list)\n",
    "freq = Counter(val for key,val in test_list)\n",
    "result = sorted(test_list,key = lambda ele:freq[ele[1]],reverse=True)\n",
    "print(\"Sorted List of Tuples:\",result)"
   ]
  },
  {
   "cell_type": "markdown",
   "id": "2e6b8854",
   "metadata": {},
   "source": [
    "### Sort lists in tuple"
   ]
  },
  {
   "cell_type": "code",
   "execution_count": 82,
   "id": "3be203c0",
   "metadata": {},
   "outputs": [
    {
     "name": "stdout",
     "output_type": "stream",
     "text": [
      "The Original list is: ([7, 5, 4], [8, 2, 4], [0, 7, 5])\n",
      "The tuple after sorting list: ([4, 5, 7], [2, 4, 8], [0, 5, 7])\n"
     ]
    }
   ],
   "source": [
    "test_tup = ([7, 5, 4], [8, 2, 4], [0, 7, 5])\n",
    "print(\"The Original list is:\",test_tup)\n",
    "result = tuple((sorted(sub) for sub in test_tup))\n",
    "print(\"The tuple after sorting list:\",result)"
   ]
  },
  {
   "cell_type": "code",
   "execution_count": 83,
   "id": "52d32631",
   "metadata": {},
   "outputs": [
    {
     "name": "stdout",
     "output_type": "stream",
     "text": [
      "The Original list is: ([7, 5, 4], [8, 2, 4], [0, 7, 5])\n",
      "The tuple after sorting list: ([4, 5, 7], [2, 4, 8], [0, 5, 7])\n"
     ]
    }
   ],
   "source": [
    "test_tup = ([7, 5, 4], [8, 2, 4], [0, 7, 5])\n",
    "print(\"The Original list is:\",test_tup)\n",
    "result = tuple(map(sorted,test_tup))\n",
    "print(\"The tuple after sorting list:\",result)"
   ]
  },
  {
   "cell_type": "code",
   "execution_count": 86,
   "id": "0bdb0aa1",
   "metadata": {},
   "outputs": [
    {
     "name": "stdout",
     "output_type": "stream",
     "text": [
      "The Original list is: ([7, 5, 4], [8, 2, 4], [0, 7, 5])\n",
      "The tuple after sorting list: ([4, 5, 7], [2, 4, 8], [0, 5, 7])\n"
     ]
    }
   ],
   "source": [
    "test_tup = ([7, 5, 4], [8, 2, 4], [0, 7, 5])\n",
    "print(\"The Original list is:\",test_tup)\n",
    "result = ()\n",
    "for lst in test_tup:\n",
    "    results = sorted(lst)\n",
    "    result += (results,)\n",
    "print(\"The tuple after sorting list:\",result)"
   ]
  },
  {
   "cell_type": "code",
   "execution_count": 87,
   "id": "47362661",
   "metadata": {},
   "outputs": [
    {
     "name": "stdout",
     "output_type": "stream",
     "text": [
      "The Original list is: ([7, 5, 4], [8, 2, 4], [0, 7, 5])\n",
      "The tuple after sorting list: ([4, 5, 7], [2, 4, 8], [0, 5, 7])\n"
     ]
    }
   ],
   "source": [
    "test_tup = ([7, 5, 4], [8, 2, 4], [0, 7, 5])\n",
    "print(\"The Original list is:\",test_tup)\n",
    "result_tup = tuple(map(lambda lst:sorted(lst),test_tup))\n",
    "print(\"The tuple after sorting list:\",result)"
   ]
  },
  {
   "cell_type": "markdown",
   "id": "01423e99",
   "metadata": {},
   "source": [
    "### Order Tuples by List"
   ]
  },
  {
   "cell_type": "code",
   "execution_count": 89,
   "id": "e4e57e34",
   "metadata": {},
   "outputs": [
    {
     "name": "stdout",
     "output_type": "stream",
     "text": [
      "The original list is : [('Gfg', 3), ('best', 9), ('CS', 10), ('Geeks', 2)]\n",
      "{'Gfg': 3, 'best': 9, 'CS': 10, 'Geeks': 2}\n",
      "The ordered tuple list is: [('Geeks', 2), ('best', 9), ('CS', 10), ('Gfg', 3)]\n"
     ]
    }
   ],
   "source": [
    "test_list = [('Gfg', 3), ('best', 9), ('CS', 10), ('Geeks', 2)]\n",
    "print(\"The original list is : \" + str(test_list))\n",
    "ord_list = ['Geeks', 'best', 'CS', 'Gfg']\n",
    "temp = dict(test_list)\n",
    "print(temp)\n",
    "result = [(key,temp[key] ) for key in ord_list]\n",
    "print(\"The ordered tuple list is:\",result)"
   ]
  },
  {
   "cell_type": "code",
   "execution_count": 91,
   "id": "ce69d12a",
   "metadata": {},
   "outputs": [
    {
     "name": "stdout",
     "output_type": "stream",
     "text": [
      "[('Geeks', 7), ('best', 3), ('CS', 8), ('Gfg', 10)]\n"
     ]
    }
   ],
   "source": [
    "def order_tuple_by_list(test_list,ord_list):\n",
    "    return sorted(test_list,key=lambda x:ord_list.index(x[0]))\n",
    "test_list = [('Gfg', 10), ('best', 3), ('CS', 8), ('Geeks', 7)]\n",
    "ord_list = ['Geeks', 'best', 'CS', 'Gfg']\n",
    "print(order_tuple_by_list(test_list, ord_list))\n"
   ]
  },
  {
   "cell_type": "code",
   "execution_count": 92,
   "id": "0ed9cb32",
   "metadata": {},
   "outputs": [
    {
     "name": "stdout",
     "output_type": "stream",
     "text": [
      "[('Geeks', 2), ('Gfg', 3), ('best', 9), ('CS', 10)]\n"
     ]
    }
   ],
   "source": [
    "from operator import itemgetter\n",
    "original_list = [('Gfg', 3), ('best', 9), ('CS', 10), ('Geeks', 2)]\n",
    "ordered_list = sorted(original_list,key=itemgetter(1))\n",
    "print(ordered_list)"
   ]
  },
  {
   "cell_type": "markdown",
   "id": "182aa94f",
   "metadata": {},
   "source": [
    "### Filter Tuples by Kth element from List"
   ]
  },
  {
   "cell_type": "code",
   "execution_count": 93,
   "id": "25af38f4",
   "metadata": {},
   "outputs": [
    {
     "name": "stdout",
     "output_type": "stream",
     "text": [
      "The original list is : [('GFg', 5, 9), ('is', 4, 3), ('best', 10, 29)]\n",
      "The filtered tuple is: [('is', 4, 3), ('best', 10, 29)]\n"
     ]
    }
   ],
   "source": [
    "test_list = [(\"GFg\", 5, 9), (\"is\", 4, 3), (\"best\", 10, 29)]\n",
    "print(\"The original list is : \" + str(test_list))\n",
    "check_list = [4, 2, 8, 10]\n",
    "K = 1\n",
    "result = [sub for sub in test_list if sub[K] in check_list]\n",
    "print(\"The filtered tuple is:\",result)"
   ]
  },
  {
   "cell_type": "code",
   "execution_count": 94,
   "id": "960fafe1",
   "metadata": {},
   "outputs": [
    {
     "name": "stdout",
     "output_type": "stream",
     "text": [
      "The original list is : [('GFg', 5, 9), ('is', 4, 3), ('best', 10, 29)]\n",
      "The filtered tuple is: [('is', 4, 3), ('best', 10, 29)]\n"
     ]
    }
   ],
   "source": [
    "test_list = [(\"GFg\", 5, 9), (\"is\", 4, 3), (\"best\", 10, 29)]\n",
    "print(\"The original list is : \" + str(test_list))\n",
    "check_list = [4, 2, 8, 10]\n",
    "K = 1\n",
    "result = list(filter(lambda sub:sub[K] in check_list,test_list))\n",
    "print(\"The filtered tuple is:\",result)"
   ]
  },
  {
   "cell_type": "code",
   "execution_count": 95,
   "id": "e937303b",
   "metadata": {},
   "outputs": [
    {
     "name": "stdout",
     "output_type": "stream",
     "text": [
      "The original list is : [('GFg', 5, 9), ('is', 4, 3), ('best', 10, 29)]\n",
      "The filtered tuple is: [('is', 4, 3), ('best', 10, 29)]\n"
     ]
    }
   ],
   "source": [
    "test_list = [(\"GFg\", 5, 9), (\"is\", 4, 3), (\"best\", 10, 29)]\n",
    "print(\"The original list is : \" + str(test_list))\n",
    "check_list = [4, 2, 8, 10]\n",
    "K = 1\n",
    "result = []\n",
    "for tup in test_list:\n",
    "    if tup[1] in check_list:\n",
    "        result.append(tup)\n",
    "print(\"The filtered tuple is:\",result)"
   ]
  },
  {
   "cell_type": "markdown",
   "id": "353e96e5",
   "metadata": {},
   "source": [
    "### Closest Pair to Kth index element in Tuple"
   ]
  },
  {
   "cell_type": "code",
   "execution_count": 97,
   "id": "70d03259",
   "metadata": {},
   "outputs": [
    {
     "name": "stdout",
     "output_type": "stream",
     "text": [
      "The original list is : [(3, 4), (78, 76), (2, 3), (9, 8), (19, 23)]\n",
      "The nearest tuple to Kth index element is : (19, 23)\n"
     ]
    }
   ],
   "source": [
    "test_list = [(3, 4), (78, 76), (2, 3), (9, 8), (19, 23)]\n",
    "print(\"The original list is : \" + str(test_list))\n",
    "tup = (17, 23)\n",
    "K = 1\n",
    "min_dif,result = 9999999,None\n",
    "for idx,val in enumerate(test_list):\n",
    "    dif = abs(tup[K-1] - val[K-1])\n",
    "    if dif < min_dif:\n",
    "        min_dif,result = dif,idx\n",
    "        \n",
    "        \n",
    "print(\"The nearest tuple to Kth index element is : \" + str(test_list[result])) \n"
   ]
  },
  {
   "cell_type": "code",
   "execution_count": 98,
   "id": "20964e85",
   "metadata": {},
   "outputs": [
    {
     "name": "stdout",
     "output_type": "stream",
     "text": [
      "The original list is : [(3, 4), (78, 76), (2, 3), (9, 8), (19, 23)]\n",
      "The nearest tuple to Kth index element is : (19, 23)\n"
     ]
    }
   ],
   "source": [
    "test_list = [(3, 4), (78, 76), (2, 3), (9, 8), (19, 23)]\n",
    "print(\"The original list is : \" + str(test_list))\n",
    "tup = (17, 23)\n",
    "K = 1\n",
    "result = min(range(len(test_list)),key = lambda sub:abs(test_list[sub][K-1] - tup[K-1]))\n",
    "print(\"The nearest tuple to Kth index element is : \" + str(test_list[result])) \n"
   ]
  },
  {
   "cell_type": "code",
   "execution_count": 100,
   "id": "d1f833d8",
   "metadata": {},
   "outputs": [
    {
     "name": "stdout",
     "output_type": "stream",
     "text": [
      "The original list is : [(3, 4), (78, 76), (2, 3), (9, 8), (19, 23)]\n",
      "The nearest tuple to Kth index element is :  (19, 23)\n"
     ]
    }
   ],
   "source": [
    "test_list = [(3, 4), (78, 76), (2, 3), (9, 8), (19, 23)]\n",
    "print(\"The original list is : \" + str(test_list))\n",
    "tup = (17, 23)\n",
    "K = 1\n",
    "result = min(test_list,key=lambda x:abs(x[K-1] - tup[K-1]))\n",
    "print(\"The nearest tuple to Kth index element is : \" ,result)\n"
   ]
  },
  {
   "cell_type": "markdown",
   "id": "a385e1c5",
   "metadata": {},
   "source": [
    "### Tuple List intersection (Order irrespective)"
   ]
  },
  {
   "cell_type": "code",
   "execution_count": 102,
   "id": "9a14289a",
   "metadata": {},
   "outputs": [
    {
     "name": "stdout",
     "output_type": "stream",
     "text": [
      "The original list 1 is : [(3, 4), (5, 6), (9, 10), (4, 5)]\n",
      "The original list 2 is : [(5, 4), (3, 4), (6, 5), (9, 11)]\n",
      "List after intersection :  {(4, 5), (5, 6), (3, 4)}\n"
     ]
    }
   ],
   "source": [
    "test_list1 = [(3, 4), (5, 6), (9, 10), (4, 5)]\n",
    "test_list2 = [(5, 4), (3, 4), (6, 5), (9, 11)]\n",
    " \n",
    "# printing original list\n",
    "print(\"The original list 1 is : \" + str(test_list1))\n",
    "print(\"The original list 2 is : \" + str(test_list2))\n",
    "result = set([tuple(sorted(ele)) for ele in test_list1]) & set([tuple(sorted(ele)) for ele in test_list2])\n",
    "print(\"List after intersection : \" ,result) \n"
   ]
  },
  {
   "cell_type": "code",
   "execution_count": 103,
   "id": "710cdef3",
   "metadata": {},
   "outputs": [
    {
     "name": "stdout",
     "output_type": "stream",
     "text": [
      "The original list 1 is : [(3, 4), (5, 6), (9, 10), (4, 5)]\n",
      "The original list 2 is : [(5, 4), (3, 4), (6, 5), (9, 11)]\n",
      "List after intersection :  {frozenset({4, 5}), frozenset({5, 6}), frozenset({3, 4})}\n"
     ]
    }
   ],
   "source": [
    "test_list1 = [(3, 4), (5, 6), (9, 10), (4, 5)]\n",
    "test_list2 = [(5, 4), (3, 4), (6, 5), (9, 11)]\n",
    " \n",
    "# printing original list\n",
    "print(\"The original list 1 is : \" + str(test_list1))\n",
    "print(\"The original list 2 is : \" + str(test_list2))\n",
    "result = set(map(frozenset,test_list1)) & set(map(frozenset,test_list2))\n",
    "print(\"List after intersection : \" ,result) \n"
   ]
  },
  {
   "cell_type": "markdown",
   "id": "0653cd2c",
   "metadata": {},
   "source": [
    "### Intersection in Tuple Records Data"
   ]
  },
  {
   "cell_type": "code",
   "execution_count": 104,
   "id": "deb006f2",
   "metadata": {},
   "outputs": [
    {
     "name": "stdout",
     "output_type": "stream",
     "text": [
      "The original list 1 is : [('gfg', 1), ('is', 2), ('best', 3)]\n",
      "The original list 2 is : [('i', 3), ('love', 4), ('gfg', 1)]\n",
      "The Intersection of data records id: [('gfg', 1)]\n"
     ]
    }
   ],
   "source": [
    "test_list1 = [('gfg', 1), ('is', 2), ('best', 3)]\n",
    "test_list2 = [('i', 3), ('love', 4), ('gfg', 1)]\n",
    " \n",
    "# printing original lists\n",
    "print(\"The original list 1 is : \" + str(test_list1))\n",
    "print(\"The original list 2 is : \" + str(test_list2))\n",
    "\n",
    "result = [ele1 for ele1 in test_list1 for ele2 in test_list2 if ele1 == ele2]\n",
    "print(\"The Intersection of data records id:\",result)"
   ]
  },
  {
   "cell_type": "code",
   "execution_count": 105,
   "id": "35fd05f6",
   "metadata": {},
   "outputs": [
    {
     "name": "stdout",
     "output_type": "stream",
     "text": [
      "The original list 1 is : [('gfg', 1), ('is', 2), ('best', 3)]\n",
      "The original list 2 is : [('i', 3), ('love', 4), ('gfg', 1)]\n",
      "The Intersection of data records id: [('gfg', 1)]\n"
     ]
    }
   ],
   "source": [
    "test_list1 = [('gfg', 1), ('is', 2), ('best', 3)]\n",
    "test_list2 = [('i', 3), ('love', 4), ('gfg', 1)]\n",
    " \n",
    "# printing original lists\n",
    "print(\"The original list 1 is : \" + str(test_list1))\n",
    "print(\"The original list 2 is : \" + str(test_list2))\n",
    "\n",
    "result = list(set(test_list1).intersection(set(test_list2)))\n",
    "print(\"The Intersection of data records id:\",result)"
   ]
  },
  {
   "cell_type": "code",
   "execution_count": 106,
   "id": "2482fce0",
   "metadata": {},
   "outputs": [
    {
     "name": "stdout",
     "output_type": "stream",
     "text": [
      "The original list 1 is : [('gfg', 1), ('is', 2), ('best', 3)]\n",
      "The original list 2 is : [('i', 3), ('love', 4), ('gfg', 1)]\n",
      "The Intersection of data records id: [('gfg', 1)]\n"
     ]
    }
   ],
   "source": [
    "test_list1 = [('gfg', 1), ('is', 2), ('best', 3)]\n",
    "test_list2 = [('i', 3), ('love', 4), ('gfg', 1)]\n",
    " \n",
    "# printing original lists\n",
    "print(\"The original list 1 is : \" + str(test_list1))\n",
    "print(\"The original list 2 is : \" + str(test_list2))\n",
    "\n",
    "result = list(filter(lambda t:t in test_list2,test_list1))\n",
    "print(\"The Intersection of data records id:\",result)"
   ]
  },
  {
   "cell_type": "markdown",
   "id": "f903f54f",
   "metadata": {},
   "source": [
    "### Unique Tuple Frequency (Order Irrespective)"
   ]
  },
  {
   "cell_type": "code",
   "execution_count": 108,
   "id": "a566f727",
   "metadata": {},
   "outputs": [
    {
     "name": "stdout",
     "output_type": "stream",
     "text": [
      "The original list is : [(3, 4), (1, 2), (4, 3), (5, 6)]\n",
      "Unique tuple frequency: 3\n"
     ]
    }
   ],
   "source": [
    "test_list = [(3, 4), (1, 2), (4, 3), (5, 6)]\n",
    "print(\"The original list is : \" + str(test_list))\n",
    "result = len(list(set(tuple(sorted(sub)) for sub in test_list)))\n",
    "print(\"Unique tuple frequency:\",result)"
   ]
  },
  {
   "cell_type": "code",
   "execution_count": 109,
   "id": "b40df1de",
   "metadata": {},
   "outputs": [
    {
     "name": "stdout",
     "output_type": "stream",
     "text": [
      "The original list is : [(3, 4), (1, 2), (4, 3), (5, 6)]\n",
      "Unique tuple frequency: 3\n"
     ]
    }
   ],
   "source": [
    "test_list = [(3, 4), (1, 2), (4, 3), (5, 6)]\n",
    "print(\"The original list is : \" + str(test_list))\n",
    "result = len(list(set(map(tuple,map(sorted,test_list)))))\n",
    "print(\"Unique tuple frequency:\",result)"
   ]
  },
  {
   "cell_type": "markdown",
   "id": "1819253a",
   "metadata": {},
   "source": [
    "### Skew Nested Tuple Summation"
   ]
  },
  {
   "cell_type": "code",
   "execution_count": 111,
   "id": "435820be",
   "metadata": {},
   "outputs": [
    {
     "name": "stdout",
     "output_type": "stream",
     "text": [
      "The original tuple is : (5, (6, (1, (9, (10, None)))))\n",
      "Summaion of 1st position: 31\n"
     ]
    }
   ],
   "source": [
    "test_tup = (5, (6, (1, (9, (10, None)))))\n",
    " \n",
    "# printing original tuple\n",
    "print(\"The original tuple is : \" + str(test_tup))\n",
    "result = 0\n",
    "while test_tup:\n",
    "    result += test_tup[0]\n",
    "    test_tup = test_tup[1]\n",
    "    \n",
    "print(\"Summaion of 1st position:\",result)"
   ]
  },
  {
   "cell_type": "code",
   "execution_count": 113,
   "id": "7f9818bc",
   "metadata": {},
   "outputs": [
    {
     "name": "stdout",
     "output_type": "stream",
     "text": [
      "The original tuple is : (5, (6, (1, (9, (10, None)))))\n",
      "Summaion of 1st position: 31\n"
     ]
    }
   ],
   "source": [
    "def tup_sum(test_tup):\n",
    "     \n",
    "    # return on None \n",
    "    if not test_tup:\n",
    "        return 0\n",
    "    else:\n",
    "        return test_tup[0] + tup_sum(test_tup[1])\n",
    "    \n",
    "test_tup = (5, (6, (1, (9, (10, None)))))\n",
    " \n",
    "# printing original tuple\n",
    "print(\"The original tuple is : \" + str(test_tup))\n",
    "result = tup_sum(test_tup)\n",
    "print(\"Summaion of 1st position:\",result)"
   ]
  },
  {
   "cell_type": "code",
   "execution_count": 115,
   "id": "5842d5b2",
   "metadata": {},
   "outputs": [
    {
     "name": "stdout",
     "output_type": "stream",
     "text": [
      "The original tuple is : (5, (6, (1, (9, (10, None)))))\n",
      "Summaion of 1st position: 31\n"
     ]
    }
   ],
   "source": [
    "def get_first_element(tup):\n",
    "    if isinstance(tup,tuple):\n",
    "        yield tup[0]\n",
    "        yield from get_first_element(tup[1])\n",
    "        \n",
    "        \n",
    "test_tup = (5, (6, (1, (9, (10, None)))))\n",
    " \n",
    "# printing original tuple\n",
    "print(\"The original tuple is : \" + str(test_tup))\n",
    "result = sum(get_first_element(test_tup))\n",
    "print(\"Summaion of 1st position:\",result)        "
   ]
  },
  {
   "cell_type": "markdown",
   "id": "eee378f3",
   "metadata": {},
   "source": [
    "### Convert Binary tuple to Integer"
   ]
  },
  {
   "cell_type": "code",
   "execution_count": 116,
   "id": "aa9a8587",
   "metadata": {},
   "outputs": [
    {
     "name": "stdout",
     "output_type": "stream",
     "text": [
      "The original tuple is : (1, 1, 0, 1, 0, 0, 1)\n",
      "Decimal number is: 105\n"
     ]
    }
   ],
   "source": [
    "test_tup = (1, 1, 0, 1, 0, 0, 1)\n",
    "print(\"The original tuple is : \" + str(test_tup))\n",
    "result = int(\"\".join(str(ele) for ele in test_tup),2)\n",
    "print(\"Decimal number is:\",result)"
   ]
  },
  {
   "cell_type": "code",
   "execution_count": 117,
   "id": "b88025ea",
   "metadata": {},
   "outputs": [
    {
     "name": "stdout",
     "output_type": "stream",
     "text": [
      "The original tuple is : (1, 1, 0, 1, 0, 0, 1)\n",
      "Decimal number is: 105\n"
     ]
    }
   ],
   "source": [
    "test_tup = (1, 1, 0, 1, 0, 0, 1)\n",
    "print(\"The original tuple is : \" + str(test_tup))\n",
    "result = 0\n",
    "for ele in test_tup:\n",
    "    result = (result << 1)|ele\n",
    "print(\"Decimal number is:\",result)    "
   ]
  },
  {
   "cell_type": "code",
   "execution_count": 118,
   "id": "026d9760",
   "metadata": {},
   "outputs": [
    {
     "name": "stdout",
     "output_type": "stream",
     "text": [
      "The original tuple is : (1, 1, 0, 1, 0, 0, 1)\n",
      "Decimal number is: 105\n"
     ]
    }
   ],
   "source": [
    "test_tup = (1, 1, 0, 1, 0, 0, 1)\n",
    "print(\"The original tuple is : \" + str(test_tup))\n",
    "x = list(map(str,test_tup))\n",
    "x = \"\".join(x)\n",
    "result = int(x,2)\n",
    "print(\"Decimal number is:\",result)    "
   ]
  },
  {
   "cell_type": "markdown",
   "id": "e7c1bdb1",
   "metadata": {},
   "source": [
    "### Tuple XOR operation"
   ]
  },
  {
   "cell_type": "code",
   "execution_count": 119,
   "id": "3f28e2f9",
   "metadata": {},
   "outputs": [
    {
     "name": "stdout",
     "output_type": "stream",
     "text": [
      "The original tuple 1 : (10, 4, 6, 9)\n",
      "The original tuple 2 : (5, 2, 3, 3)\n",
      "The XOR tuple is: (15, 6, 5, 10)\n"
     ]
    }
   ],
   "source": [
    "test_tup1 = (10, 4, 6, 9) \n",
    "test_tup2 = (5, 2, 3, 3) \n",
    " \n",
    "# printing original tuples \n",
    "print(\"The original tuple 1 : \" + str(test_tup1)) \n",
    "print(\"The original tuple 2 : \" + str(test_tup2)) \n",
    "result = tuple(ele1 ^ ele2 for ele1,ele2 in zip(test_tup1,test_tup2))\n",
    "print(\"The XOR tuple is:\",result)"
   ]
  },
  {
   "cell_type": "code",
   "execution_count": 120,
   "id": "075dd23b",
   "metadata": {},
   "outputs": [
    {
     "name": "stdout",
     "output_type": "stream",
     "text": [
      "The original tuple 1 : (10, 4, 6, 9)\n",
      "The original tuple 2 : (5, 2, 3, 3)\n",
      "The XOR tuple is: (15, 6, 5, 10)\n"
     ]
    }
   ],
   "source": [
    "from operator import xor\n",
    "test_tup1 = (10, 4, 6, 9) \n",
    "test_tup2 = (5, 2, 3, 3) \n",
    " \n",
    "# printing original tuples \n",
    "print(\"The original tuple 1 : \" + str(test_tup1)) \n",
    "print(\"The original tuple 2 : \" + str(test_tup2)) \n",
    "result = tuple(map(xor,test_tup1,test_tup2))\n",
    "print(\"The XOR tuple is:\",result)"
   ]
  },
  {
   "cell_type": "code",
   "execution_count": 122,
   "id": "a9491960",
   "metadata": {},
   "outputs": [
    {
     "name": "stdout",
     "output_type": "stream",
     "text": [
      "The original tuple 1 : (10, 4, 6, 9)\n",
      "The original tuple 2 : (5, 2, 3, 3)\n",
      "The XOR tuple is: (15, 6, 5, 10)\n"
     ]
    }
   ],
   "source": [
    "import numpy as np\n",
    "test_tup1 = (10, 4, 6, 9) \n",
    "test_tup2 = (5, 2, 3, 3) \n",
    " \n",
    "# printing original tuples \n",
    "print(\"The original tuple 1 : \" + str(test_tup1)) \n",
    "print(\"The original tuple 2 : \" + str(test_tup2)) \n",
    "result = np.bitwise_xor(test_tup1,test_tup2)\n",
    "print(\"The XOR tuple is:\",tuple(result))"
   ]
  },
  {
   "cell_type": "code",
   "execution_count": 124,
   "id": "b8cacf83",
   "metadata": {},
   "outputs": [
    {
     "name": "stdout",
     "output_type": "stream",
     "text": [
      "The original tuple 1 : (10, 4, 6, 9)\n",
      "The original tuple 2 : (5, 2, 3, 3)\n",
      "The XOR tuple is: (1, 6, 7, 7)\n"
     ]
    }
   ],
   "source": [
    "test_tup1 = (10, 4, 6, 9) \n",
    "test_tup2 = (5, 2, 3, 3) \n",
    " \n",
    "# printing original tuples \n",
    "print(\"The original tuple 1 : \" + str(test_tup1)) \n",
    "print(\"The original tuple 2 : \" + str(test_tup2))\n",
    "result = []\n",
    "for i in range(0,len(test_tup1)):\n",
    "    result.append(test_tup1[1] ^ test_tup2[i])\n",
    "print(\"The XOR tuple is:\",tuple(result))"
   ]
  },
  {
   "cell_type": "code",
   "execution_count": 125,
   "id": "24b7ae56",
   "metadata": {},
   "outputs": [
    {
     "name": "stdout",
     "output_type": "stream",
     "text": [
      "The original tuple 1 : (10, 4, 6, 9)\n",
      "The original tuple 2 : (5, 2, 3, 3)\n",
      "The XOR tuple is: (1, 6, 7, 7)\n"
     ]
    }
   ],
   "source": [
    "test_tup1 = (10, 4, 6, 9) \n",
    "test_tup2 = (5, 2, 3, 3) \n",
    " \n",
    "# printing original tuples \n",
    "print(\"The original tuple 1 : \" + str(test_tup1)) \n",
    "print(\"The original tuple 2 : \" + str(test_tup2))\n",
    "result = tuple([test_tup1[1] ^ test_tup2[i] for i in range(0,len(test_tup1))])\n",
    "print(\"The XOR tuple is:\",tuple(result))"
   ]
  },
  {
   "cell_type": "code",
   "execution_count": 126,
   "id": "12ef2094",
   "metadata": {},
   "outputs": [
    {
     "name": "stdout",
     "output_type": "stream",
     "text": [
      "The original tuple 1 : (10, 4, 6, 9)\n",
      "The original tuple 2 : (5, 2, 3, 3)\n",
      "The XOR tuple is: (15, 6, 5, 10)\n"
     ]
    }
   ],
   "source": [
    "import operator as op\n",
    "import itertools\n",
    "test_tup1 = (10, 4, 6, 9) \n",
    "test_tup2 = (5, 2, 3, 3) \n",
    " \n",
    "# printing original tuples \n",
    "print(\"The original tuple 1 : \" + str(test_tup1)) \n",
    "print(\"The original tuple 2 : \" + str(test_tup2))\n",
    "result = tuple(itertools.starmap(op.xor,zip(test_tup1,test_tup2)))\n",
    "print(\"The XOR tuple is:\",tuple(result))"
   ]
  },
  {
   "cell_type": "markdown",
   "id": "a8562492",
   "metadata": {},
   "source": [
    "### AND operation between Tuples"
   ]
  },
  {
   "cell_type": "code",
   "execution_count": 127,
   "id": "d7ec44af",
   "metadata": {},
   "outputs": [
    {
     "name": "stdout",
     "output_type": "stream",
     "text": [
      "The original tuple 1 : (10, 4, 5)\n",
      "The original tuple 2 : (2, 5, 18)\n",
      "Resultant tuple after AND operation :  (2, 4, 0)\n"
     ]
    }
   ],
   "source": [
    "test_tup1 = (10, 4, 5)\n",
    "test_tup2 = (2, 5, 18)\n",
    " \n",
    "# printing original tuples \n",
    "print(\"The original tuple 1 : \" + str(test_tup1))\n",
    "print(\"The original tuple 2 : \" + str(test_tup2))\n",
    "result = tuple(map(lambda a,b:a&b,test_tup1,test_tup2))\n",
    "print(\"Resultant tuple after AND operation : \",result)\n"
   ]
  },
  {
   "cell_type": "code",
   "execution_count": 128,
   "id": "7f1d7815",
   "metadata": {},
   "outputs": [
    {
     "name": "stdout",
     "output_type": "stream",
     "text": [
      "The original tuple 1 : (10, 4, 5)\n",
      "The original tuple 2 : (2, 5, 18)\n",
      "Resultant tuple after AND operation :  (2, 4, 0)\n"
     ]
    }
   ],
   "source": [
    "from operator import iand\n",
    "test_tup1 = (10, 4, 5)\n",
    "test_tup2 = (2, 5, 18)\n",
    " \n",
    "# printing original tuples \n",
    "print(\"The original tuple 1 : \" + str(test_tup1))\n",
    "print(\"The original tuple 2 : \" + str(test_tup2))\n",
    "result = tuple(map(iand,test_tup1,test_tup2))\n",
    "print(\"Resultant tuple after AND operation : \",result)\n"
   ]
  },
  {
   "cell_type": "code",
   "execution_count": 129,
   "id": "b9acb3b5",
   "metadata": {},
   "outputs": [
    {
     "name": "stdout",
     "output_type": "stream",
     "text": [
      "The original tuple 1 : (10, 4, 5)\n",
      "The original tuple 2 : (2, 5, 18)\n",
      "Resultant tuple after AND operation :  (2, 4, 0)\n"
     ]
    }
   ],
   "source": [
    "test_tup1 = (10, 4, 5)\n",
    "test_tup2 = (2, 5, 18)\n",
    " \n",
    "# printing original tuples \n",
    "print(\"The original tuple 1 : \" + str(test_tup1))\n",
    "print(\"The original tuple 2 : \" + str(test_tup2))\n",
    "result = tuple([a&b for a,b in zip(test_tup1,test_tup2)])\n",
    "print(\"Resultant tuple after AND operation : \",result)\n"
   ]
  },
  {
   "cell_type": "markdown",
   "id": "3515ab05",
   "metadata": {},
   "source": [
    "### Elementwise AND in tuples"
   ]
  },
  {
   "cell_type": "code",
   "execution_count": 130,
   "id": "799b7a29",
   "metadata": {},
   "outputs": [
    {
     "name": "stdout",
     "output_type": "stream",
     "text": [
      "The original tuple 1 : (10, 4, 6, 9)\n",
      "The original tuple 2 : (5, 2, 3, 3)\n",
      "The AND Tuple: (0, 0, 2, 1)\n"
     ]
    }
   ],
   "source": [
    "test_tup1 = (10, 4, 6, 9) \n",
    "test_tup2 = (5, 2, 3, 3) \n",
    " \n",
    "# printing original tuples \n",
    "print(\"The original tuple 1 : \" + str(test_tup1)) \n",
    "print(\"The original tuple 2 : \" + str(test_tup2))\n",
    "result = tuple(a & b for a,b in zip(test_tup1,test_tup2))\n",
    "print(\"The AND Tuple:\",result)"
   ]
  },
  {
   "cell_type": "code",
   "execution_count": 131,
   "id": "9ba57c91",
   "metadata": {},
   "outputs": [
    {
     "name": "stdout",
     "output_type": "stream",
     "text": [
      "The original tuple 1 : (10, 4, 6, 9)\n",
      "The original tuple 2 : (5, 2, 3, 3)\n",
      "The AND Tuple: (0, 0, 2, 1)\n"
     ]
    }
   ],
   "source": [
    "from operator import iand\n",
    "test_tup1 = (10, 4, 6, 9) \n",
    "test_tup2 = (5, 2, 3, 3) \n",
    " \n",
    "# printing original tuples \n",
    "print(\"The original tuple 1 : \" + str(test_tup1)) \n",
    "print(\"The original tuple 2 : \" + str(test_tup2)) \n",
    "result = tuple(map(iand,test_tup1,test_tup2))\n",
    "print(\"The AND Tuple:\",result)"
   ]
  },
  {
   "cell_type": "code",
   "execution_count": 132,
   "id": "3e9fadb3",
   "metadata": {},
   "outputs": [
    {
     "name": "stdout",
     "output_type": "stream",
     "text": [
      "The original tuple 1 : (10, 4, 6, 9)\n",
      "The original tuple 2 : (5, 2, 3, 3)\n",
      "The AND Tuple: (0, 0, 2, 1)\n"
     ]
    }
   ],
   "source": [
    "import numpy as np\n",
    "test_tup1 = (10, 4, 6, 9) \n",
    "test_tup2 = (5, 2, 3, 3) \n",
    " \n",
    "# printing original tuples \n",
    "print(\"The original tuple 1 : \" + str(test_tup1)) \n",
    "print(\"The original tuple 2 : \" + str(test_tup2))\n",
    "result = tuple(np.bitwise_and(np.array(test_tup1),np.array(test_tup2)))\n",
    "print(\"The AND Tuple:\",result)"
   ]
  },
  {
   "cell_type": "code",
   "execution_count": null,
   "id": "90445f44",
   "metadata": {},
   "outputs": [],
   "source": []
  }
 ],
 "metadata": {
  "kernelspec": {
   "display_name": "Python 3 (ipykernel)",
   "language": "python",
   "name": "python3"
  },
  "language_info": {
   "codemirror_mode": {
    "name": "ipython",
    "version": 3
   },
   "file_extension": ".py",
   "mimetype": "text/x-python",
   "name": "python",
   "nbconvert_exporter": "python",
   "pygments_lexer": "ipython3",
   "version": "3.11.5"
  }
 },
 "nbformat": 4,
 "nbformat_minor": 5
}
