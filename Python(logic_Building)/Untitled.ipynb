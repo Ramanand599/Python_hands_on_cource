{
 "cells": [
  {
   "cell_type": "markdown",
   "metadata": {},
   "source": [
    "### 1. Number Guessing Game using Python\n",
    "To create a guessing game, we need to write a program to select a random number between 1 and 10. To give hints to the user, we can use conditional statements to tell the user if the guessed number is smaller, greater than or equal to the randomly selected number."
   ]
  },
  {
   "cell_type": "code",
   "execution_count": 12,
   "metadata": {},
   "outputs": [
    {
     "name": "stdout",
     "output_type": "stream",
     "text": [
      "Enter the Number:5\n",
      "Number is Too Low\n",
      "Enter the Number Again:9\n",
      "you guessed it right!!\n"
     ]
    }
   ],
   "source": [
    "import random\n",
    "n=random.randrange(1,10)\n",
    "guess=int(input(\"Enter the Number:\"))\n",
    "while n!=guess:\n",
    "    if guess<n:\n",
    "        print(\"Number is Too Low\")\n",
    "        guess=int(input(\"Enter the Number Again:\"))\n",
    "    elif guess>n:\n",
    "        print(\"Number is Too high\")\n",
    "        guess=int(input(\"Enter the Number Again:\"))\n",
    "    else:\n",
    "        break\n",
    "print('you guessed it right!!')\n",
    "    "
   ]
  },
  {
   "cell_type": "markdown",
   "metadata": {},
   "source": [
    "### 2.Calculating Mean Median and Mode"
   ]
  },
  {
   "cell_type": "markdown",
   "metadata": {},
   "source": [
    "#### Mean\n",
    "The mean is the average value of all the values in a dataset. To calculate the mean value of a dataset, we first need to find the sum of all the values and then divide the sum of all the values by the total number of values. So here’s how to calculate the mean using Python:"
   ]
  },
  {
   "cell_type": "code",
   "execution_count": 27,
   "metadata": {},
   "outputs": [
    {
     "name": "stdout",
     "output_type": "stream",
     "text": [
      "5\n"
     ]
    }
   ],
   "source": [
    "lst=[1,2,3,4,5,6,7,8,9]\n",
    "mean=sum(lst)/len(lst)\n",
    "print(int(mean))"
   ]
  },
  {
   "cell_type": "code",
   "execution_count": 28,
   "metadata": {},
   "outputs": [
    {
     "data": {
      "text/plain": [
       "5.0"
      ]
     },
     "execution_count": 28,
     "metadata": {},
     "output_type": "execute_result"
    }
   ],
   "source": [
    "np.mean(lst)"
   ]
  },
  {
   "cell_type": "markdown",
   "metadata": {},
   "source": [
    "#### Median\n",
    "The Median is the middle value among all the values in sorted order. Here we need to calculate the mid-value of all the values in a dataset. But before calculating the Median, we need to arrange all the values in sorted order. There are two different ways of calculating the median value:\n",
    "\n",
    "when the total number of values is even: Median  = [(n/2)th term + {(n/2)+1}th]/2\n",
    "\n",
    "when the total number of values is odd: Median = {(n+1)/2}thterm"
   ]
  },
  {
   "cell_type": "code",
   "execution_count": 33,
   "metadata": {},
   "outputs": [],
   "source": [
    "lst=[1,56,7,8,9,5,8,9,84,78,65,84,3,595,85,25,65,75,35,7]\n",
    "lst.sort()"
   ]
  },
  {
   "cell_type": "code",
   "execution_count": 34,
   "metadata": {},
   "outputs": [
    {
     "data": {
      "text/plain": [
       "[1, 3, 5, 7, 7, 8, 8, 9, 9, 25, 35, 56, 65, 65, 75, 78, 84, 84, 85, 595]"
      ]
     },
     "execution_count": 34,
     "metadata": {},
     "output_type": "execute_result"
    }
   ],
   "source": [
    "lst"
   ]
  },
  {
   "cell_type": "code",
   "execution_count": 37,
   "metadata": {},
   "outputs": [
    {
     "name": "stdout",
     "output_type": "stream",
     "text": [
      "30.0\n"
     ]
    }
   ],
   "source": [
    "if len(lst) % 2 == 0:\n",
    "    m1 = lst[len(lst)//2]\n",
    "    m2 = lst[len(lst)//2 - 1]\n",
    "    median = (m1 + m2)/2\n",
    "else:\n",
    "    median = lst[len(lst)//2]\n",
    "print(median)"
   ]
  },
  {
   "cell_type": "code",
   "execution_count": 38,
   "metadata": {},
   "outputs": [],
   "source": [
    "import numpy as np\n",
    "median=np.median(lst)"
   ]
  },
  {
   "cell_type": "code",
   "execution_count": 39,
   "metadata": {},
   "outputs": [
    {
     "data": {
      "text/plain": [
       "30.0"
      ]
     },
     "execution_count": 39,
     "metadata": {},
     "output_type": "execute_result"
    }
   ],
   "source": [
    "median"
   ]
  },
  {
   "cell_type": "code",
   "execution_count": null,
   "metadata": {},
   "outputs": [],
   "source": []
  },
  {
   "cell_type": "markdown",
   "metadata": {},
   "source": [
    "#### Mode\n",
    "Mode is the most frequently occurring value among all the values. Below is how we can calculate the mode value of a dataset using Python:"
   ]
  },
  {
   "cell_type": "code",
   "execution_count": 40,
   "metadata": {},
   "outputs": [
    {
     "name": "stdout",
     "output_type": "stream",
     "text": [
      "20\n"
     ]
    }
   ],
   "source": [
    "list1 = [12, 16, 20, 20, 12, 30, 25, 23, 24, 20]\n",
    "frequency = {}\n",
    "for i in list1:\n",
    "    frequency.setdefault(i, 0)\n",
    "    frequency[i]+=1\n",
    "\n",
    "frequent = max(frequency.values())\n",
    "for i, j in frequency.items():\n",
    "    if j == frequent:\n",
    "        mode = i\n",
    "print(mode)"
   ]
  },
  {
   "cell_type": "code",
   "execution_count": null,
   "metadata": {},
   "outputs": [],
   "source": []
  },
  {
   "cell_type": "markdown",
   "metadata": {},
   "source": [
    "## 3. Password Authentication using Python\n",
    "To create a password authentication system using Python you have to follow the steps mentioned below:\n",
    "\n",
    "- Create a dictionary of usernames with their passwords.\n",
    "- Then you have to ask for user input as the username by using the input function in Python.\n",
    "- Then you have to use the getpass module in Python to ask for user input as the password. Here we are using the getpass module instead of the input function to make sure that the user doesn’t get to see what he/she write in the password field."
   ]
  },
  {
   "cell_type": "code",
   "execution_count": 13,
   "metadata": {},
   "outputs": [
    {
     "name": "stdout",
     "output_type": "stream",
     "text": [
      "Enter Your Username: Ramanand\n",
      "Enter Your Password: ········\n",
      "Verified!!\n"
     ]
    }
   ],
   "source": [
    "import getpass\n",
    "\n",
    "database = {\"Ramanand\": \"123456\", \"Shivanand\": \"234567\"}\n",
    "username = input(\"Enter Your Username: \")\n",
    "password = getpass.getpass(\"Enter Your Password: \")\n",
    "\n",
    "while username not in database or password != database[username]:\n",
    "    print(\"Wrong Username or Password!!!!!!!\")\n",
    "    username = input(\"Enter Your Username: \")\n",
    "    password = getpass.getpass(\"Enter Your Password Again: \")\n",
    "\n",
    "print(\"Verified!!\")"
   ]
  },
  {
   "cell_type": "markdown",
   "metadata": {},
   "source": [
    "#### 4.Send Automatic Emails using Python\n",
    "It is very important to generate a Google app password for your Gmail account, as you will be sending automatic emails using Python through your Gmail account. Once you’ve generated your Google app password, here’s how you can start the task of sending emails using Python:"
   ]
  },
  {
   "cell_type": "code",
   "execution_count": 14,
   "metadata": {},
   "outputs": [],
   "source": [
    "import os\n",
    "import random\n",
    "import smtplib"
   ]
  },
  {
   "cell_type": "code",
   "execution_count": 19,
   "metadata": {},
   "outputs": [
    {
     "name": "stdout",
     "output_type": "stream",
     "text": [
      "Enter your Name: Ramanand Chouhan\n",
      "Enter your Email: ramanandchauhan5999@gmail.com\n",
      "SMTP Authentication Error: Check your Gmail account and app password.\n"
     ]
    }
   ],
   "source": [
    "import smtplib\n",
    "\n",
    "def automatic_email():\n",
    "    user = input(\"Enter your Name: \")\n",
    "    email = input(\"Enter your Email: \")\n",
    "    message = f\"Dear {user}, Welcome to the Cleverprogrammer\"\n",
    "    \n",
    "    # Replace with your Gmail account and app password\n",
    "    gmail_account = \"ramanandchauhan599@gmail.com\"\n",
    "    app_password = \"Ram@#1234\"\n",
    "    \n",
    "    try:\n",
    "        s = smtplib.SMTP(\"smtp.gmail.com\", 587)\n",
    "        s.starttls()\n",
    "        s.login(gmail_account, app_password)\n",
    "        s.sendmail(gmail_account, email, message)\n",
    "        print(\"Email Sent!\")\n",
    "    except smtplib.SMTPAuthenticationError:\n",
    "        print(\"SMTP Authentication Error: Check your Gmail account and app password.\")\n",
    "    except Exception as e:\n",
    "        print(f\"An error occurred: {e}\")\n",
    "    finally:\n",
    "        s.quit()  # Make sure to quit the SMTP connection when done.\n",
    "\n",
    "automatic_email()\n"
   ]
  },
  {
   "cell_type": "code",
   "execution_count": null,
   "metadata": {},
   "outputs": [],
   "source": []
  }
 ],
 "metadata": {
  "kernelspec": {
   "display_name": "Python 3",
   "language": "python",
   "name": "python3"
  },
  "language_info": {
   "codemirror_mode": {
    "name": "ipython",
    "version": 3
   },
   "file_extension": ".py",
   "mimetype": "text/x-python",
   "name": "python",
   "nbconvert_exporter": "python",
   "pygments_lexer": "ipython3",
   "version": "3.7.6"
  }
 },
 "nbformat": 4,
 "nbformat_minor": 4
}
