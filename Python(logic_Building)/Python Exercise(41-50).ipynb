{
 "cells": [
  {
   "cell_type": "markdown",
   "metadata": {},
   "source": [
    "## Python Exercise"
   ]
  },
  {
   "cell_type": "markdown",
   "metadata": {},
   "source": [
    "### Question 41\n",
    "Write a program which can map() to make a list whose elements are square of elements in [1,2,3,4,5,6,7,8,9,10]."
   ]
  },
  {
   "cell_type": "code",
   "execution_count": 1,
   "metadata": {},
   "outputs": [
    {
     "name": "stdout",
     "output_type": "stream",
     "text": [
      "Original List [1, 2, 3, 4, 5, 6, 7, 8, 9, 10]\n",
      "[1, 4, 9, 16, 25, 36, 49, 64, 81, 100]\n"
     ]
    }
   ],
   "source": [
    "lst=[i for i in range(1,11)]\n",
    "lst_square=list(map(lambda x:x*x,lst))\n",
    "print(\"Original List\",lst)\n",
    "print(lst_square)"
   ]
  },
  {
   "cell_type": "code",
   "execution_count": 8,
   "metadata": {},
   "outputs": [
    {
     "name": "stdout",
     "output_type": "stream",
     "text": [
      "Original List: [1, 2, 3, 4, 5, 6, 7, 8, 9, 10]\n",
      "[1, 4, 9, 16, 25, 36, 49, 64, 81, 100]\n"
     ]
    }
   ],
   "source": [
    "lst_square=list(map(lambda x:x*x,range(1,11)))\n",
    "print(\"Original List:\",list(range(1,11)))\n",
    "print(lst_square)"
   ]
  },
  {
   "cell_type": "markdown",
   "metadata": {},
   "source": [
    "### Question 42\n",
    "Write a program which can map() and filter() to make a list whose elements are square of even number in [1,2,3,4,5,6,7,8,9,10]."
   ]
  },
  {
   "cell_type": "code",
   "execution_count": 7,
   "metadata": {},
   "outputs": [
    {
     "name": "stdout",
     "output_type": "stream",
     "text": [
      "Original List [1, 2, 3, 4, 5, 6, 7, 8, 9, 10]\n",
      "[4, 16, 36, 64, 100]\n"
     ]
    }
   ],
   "source": [
    "lst_square=list(map(lambda x:x**2,filter(lambda x:x%2==0,range(1,11))))\n",
    "print(\"Original List:\",list(range(1,11)))\n",
    "print(lst_square)"
   ]
  },
  {
   "cell_type": "code",
   "execution_count": 12,
   "metadata": {},
   "outputs": [
    {
     "name": "stdout",
     "output_type": "stream",
     "text": [
      "Original_list: [1, 2, 3, 4, 5, 6, 7, 8, 9, 10]\n",
      "[4, 16, 36, 64, 100]\n"
     ]
    }
   ],
   "source": [
    "def even(x):\n",
    "    return x%2==0\n",
    "def square(x):\n",
    "    return x**2\n",
    "even_square=list(map(square,filter(even,range(1,11))))\n",
    "print(\"Original_list:\",list(range(1,11)))\n",
    "print(even_square)"
   ]
  },
  {
   "cell_type": "markdown",
   "metadata": {},
   "source": [
    "### Question 43\n",
    "Write a program which can filter() to make a list whose elements are even number between 1 and 20 (both included)."
   ]
  },
  {
   "cell_type": "code",
   "execution_count": 15,
   "metadata": {},
   "outputs": [
    {
     "name": "stdout",
     "output_type": "stream",
     "text": [
      "Original List [1, 2, 3, 4, 5, 6, 7, 8, 9, 10, 11, 12, 13, 14, 15, 16, 17, 18, 19, 20]\n",
      "[2, 4, 6, 8, 10, 12, 14, 16, 18, 20]\n"
     ]
    }
   ],
   "source": [
    "even=list(filter(lambda x:x%2==0,range(1,21)))\n",
    "print(\"Original List\",list(range(1,21)))\n",
    "print(even)"
   ]
  },
  {
   "cell_type": "markdown",
   "metadata": {},
   "source": [
    "### Question 44\n",
    "Write a program which can map() to make a list whose elements are square of numbers between 1 and 20 (both included)."
   ]
  },
  {
   "cell_type": "code",
   "execution_count": 18,
   "metadata": {},
   "outputs": [
    {
     "name": "stdout",
     "output_type": "stream",
     "text": [
      "Original_list: [1, 2, 3, 4, 5, 6, 7, 8, 9, 10, 11, 12, 13, 14, 15, 16, 17, 18, 19, 20]\n",
      "[1, 4, 9, 16, 25, 36, 49, 64, 81, 100, 121, 144, 169, 196, 225, 256, 289, 324, 361, 400]\n"
     ]
    }
   ],
   "source": [
    "square=list(map(lambda x:x**2,range(1,21)))\n",
    "print(\"Original_list:\",list(range(1,21)))\n",
    "print(square)"
   ]
  },
  {
   "cell_type": "markdown",
   "metadata": {},
   "source": [
    "### Question 45\n",
    "Define a class named American which has a static method called printNationality."
   ]
  },
  {
   "cell_type": "code",
   "execution_count": 23,
   "metadata": {},
   "outputs": [],
   "source": [
    "class American():\n",
    "    @staticmethod # Decorator\n",
    "    def printNationality():\n",
    "        print(\"I am American\")"
   ]
  },
  {
   "cell_type": "code",
   "execution_count": 26,
   "metadata": {},
   "outputs": [
    {
     "name": "stdout",
     "output_type": "stream",
     "text": [
      "I am American\n"
     ]
    }
   ],
   "source": [
    "american=American()\n",
    "american.printNationality() # this will not run if @staticmethod does not decorate the function"
   ]
  },
  {
   "cell_type": "code",
   "execution_count": 27,
   "metadata": {},
   "outputs": [
    {
     "name": "stdout",
     "output_type": "stream",
     "text": [
      "I am American\n"
     ]
    }
   ],
   "source": [
    "American.printNationality() ## this will run if @staticmethod does not decorate the function"
   ]
  },
  {
   "cell_type": "markdown",
   "metadata": {},
   "source": [
    "### Question 46\n",
    "Define a class named American and its subclass NewYorker."
   ]
  },
  {
   "cell_type": "code",
   "execution_count": 31,
   "metadata": {},
   "outputs": [],
   "source": [
    "class American():\n",
    "    pass\n",
    "class NewYorker():\n",
    "    pass\n",
    "american=American()\n",
    "newyorker=NewYorker()"
   ]
  },
  {
   "cell_type": "code",
   "execution_count": 29,
   "metadata": {},
   "outputs": [
    {
     "name": "stdout",
     "output_type": "stream",
     "text": [
      "<__main__.American object at 0x000001FFF7CED988>\n",
      "<__main__.NewYorker object at 0x000001FFF7CEDC08>\n"
     ]
    }
   ],
   "source": [
    "print(american)\n",
    "print(newyorker)"
   ]
  },
  {
   "cell_type": "code",
   "execution_count": 37,
   "metadata": {},
   "outputs": [
    {
     "name": "stdout",
     "output_type": "stream",
     "text": [
      "Nationality: American\n",
      "City: New york\n"
     ]
    }
   ],
   "source": [
    "class American():\n",
    "    def __init__(self,nationality):\n",
    "        self.nationlity=nationality\n",
    "        \n",
    "class NewYorker():\n",
    "    def __init__(self,nationality,city):\n",
    "        self.nationality=nationality\n",
    "        self.city=city\n",
    "        \n",
    "#creating an instance of Newyorker\n",
    "my_person=NewYorker(\"American\",\"New york\")\n",
    "\n",
    "#Accessing Attributes\n",
    "print(\"Nationality:\",my_person.nationality)\n",
    "print(\"City:\",my_person.city)\n",
    "  "
   ]
  },
  {
   "cell_type": "code",
   "execution_count": 46,
   "metadata": {},
   "outputs": [
    {
     "name": "stdout",
     "output_type": "stream",
     "text": [
      "Nationality: American\n",
      "City: New York\n"
     ]
    }
   ],
   "source": [
    "class American():\n",
    "    def __init__(self, nationality):\n",
    "        self.nationality = nationality\n",
    "\n",
    "class NewYorker(American):\n",
    "    def __init__(self, nationality, city):\n",
    "        super().__init__(nationality)\n",
    "        self.city = city\n",
    "\n",
    "# Create an instance of NewYorker\n",
    "my_person = NewYorker(\"American\", \"New York\")\n",
    "\n",
    "# Accessing Attributes\n",
    "print(\"Nationality:\", my_person.nationality)\n",
    "print(\"City:\", my_person.city)\n"
   ]
  },
  {
   "cell_type": "markdown",
   "metadata": {},
   "source": [
    "### Question 47\n",
    "Define a class named Circle which can be constructed by a radius. The Circle class has a method which can compute the area."
   ]
  },
  {
   "cell_type": "code",
   "execution_count": 44,
   "metadata": {},
   "outputs": [],
   "source": [
    "class circle():\n",
    "    def __init__(self,radius): #constructor\n",
    "        self.radius=radius\n",
    "    def area(self): #method\n",
    "        return (self.radius**2*3.14)"
   ]
  },
  {
   "cell_type": "code",
   "execution_count": 45,
   "metadata": {},
   "outputs": [
    {
     "name": "stdout",
     "output_type": "stream",
     "text": [
      "78.5\n"
     ]
    }
   ],
   "source": [
    "Circle=circle(5)\n",
    "print(Circle.area())"
   ]
  },
  {
   "cell_type": "markdown",
   "metadata": {},
   "source": [
    "### Question 48\n",
    "Define a class named Rectangle which can be constructed by a length and width. The Rectangle class has a method which can compute the area."
   ]
  },
  {
   "cell_type": "code",
   "execution_count": 53,
   "metadata": {},
   "outputs": [],
   "source": [
    "class ractangle():\n",
    "    def __init__(self,l,b): #Constructor\n",
    "        self.length=l\n",
    "        self.width=b\n",
    "        \n",
    "    def area(self):#method\n",
    "        return self.length*self.width"
   ]
  },
  {
   "cell_type": "code",
   "execution_count": 54,
   "metadata": {},
   "outputs": [
    {
     "name": "stdout",
     "output_type": "stream",
     "text": [
      "50\n"
     ]
    }
   ],
   "source": [
    "Ract=ractangle(5,10)\n",
    "print(Ract.area())"
   ]
  },
  {
   "cell_type": "markdown",
   "metadata": {},
   "source": [
    "### Question 49\n",
    "Define a class named Shape and its subclass Square. The Square class has an init function which takes a length as argument. Both classes have a area function which can print the area of the shape where Shape's area is 0 by default."
   ]
  },
  {
   "cell_type": "code",
   "execution_count": 67,
   "metadata": {},
   "outputs": [
    {
     "name": "stdout",
     "output_type": "stream",
     "text": [
      "25\n",
      "0\n"
     ]
    }
   ],
   "source": [
    "class Shape():\n",
    "    def __init__(self):\n",
    "        pass\n",
    "\n",
    "    def area(self):\n",
    "        return 0\n",
    "\n",
    "class Square(Shape):\n",
    "    def __init__(self,length = 0):\n",
    "        super().__init__()\n",
    "        self.length = length\n",
    "\n",
    "    def area(self):\n",
    "        return self.length**2\n",
    "    \n",
    "Asqr = Square(5)\n",
    "print(Asqr.area())      # prints 25 as given argument\n",
    "\n",
    "print(Shape().area())  # prints zero as default area"
   ]
  },
  {
   "cell_type": "markdown",
   "metadata": {},
   "source": [
    "### Question 50\n",
    "Please raise a RuntimeError exception."
   ]
  },
  {
   "cell_type": "code",
   "execution_count": 68,
   "metadata": {},
   "outputs": [
    {
     "ename": "RuntimeError",
     "evalue": "Something Wrong",
     "output_type": "error",
     "traceback": [
      "\u001b[1;31m---------------------------------------------------------------------------\u001b[0m",
      "\u001b[1;31mRuntimeError\u001b[0m                              Traceback (most recent call last)",
      "\u001b[1;32m<ipython-input-68-8fcd25f01f39>\u001b[0m in \u001b[0;36m<module>\u001b[1;34m\u001b[0m\n\u001b[1;32m----> 1\u001b[1;33m \u001b[1;32mraise\u001b[0m \u001b[0mRuntimeError\u001b[0m\u001b[1;33m(\u001b[0m\u001b[1;34m\"Something Wrong\"\u001b[0m\u001b[1;33m)\u001b[0m\u001b[1;33m\u001b[0m\u001b[1;33m\u001b[0m\u001b[0m\n\u001b[0m",
      "\u001b[1;31mRuntimeError\u001b[0m: Something Wrong"
     ]
    }
   ],
   "source": [
    "raise RuntimeError(\"Something Wrong\")"
   ]
  },
  {
   "cell_type": "code",
   "execution_count": null,
   "metadata": {},
   "outputs": [],
   "source": []
  }
 ],
 "metadata": {
  "kernelspec": {
   "display_name": "Python 3",
   "language": "python",
   "name": "python3"
  },
  "language_info": {
   "codemirror_mode": {
    "name": "ipython",
    "version": 3
   },
   "file_extension": ".py",
   "mimetype": "text/x-python",
   "name": "python",
   "nbconvert_exporter": "python",
   "pygments_lexer": "ipython3",
   "version": "3.7.6"
  }
 },
 "nbformat": 4,
 "nbformat_minor": 4
}
