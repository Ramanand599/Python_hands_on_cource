{
 "cells": [
  {
   "cell_type": "markdown",
   "id": "b6025c88",
   "metadata": {},
   "source": [
    "### Lambda Function to Check if value is in a List"
   ]
  },
  {
   "cell_type": "code",
   "execution_count": 1,
   "id": "a463c603",
   "metadata": {},
   "outputs": [
    {
     "name": "stdout",
     "output_type": "stream",
     "text": [
      "Element is present in the list\n"
     ]
    }
   ],
   "source": [
    "arr = [1,2,3,4]\n",
    "v = 4\n",
    "def info(arr,v): return arr.count(v)\n",
    "if info(arr,v):\n",
    "    print(\"Element is present in the list\")\n",
    "else:\n",
    "    print(\"Element is not present in the list\")"
   ]
  },
  {
   "cell_type": "code",
   "execution_count": 2,
   "id": "06877145",
   "metadata": {},
   "outputs": [
    {
     "name": "stdout",
     "output_type": "stream",
     "text": [
      "Element is present in the list\n"
     ]
    }
   ],
   "source": [
    "arr = [1,2,3,4]\n",
    "v = 4\n",
    "x = lambda arr,v:True if v in arr else False\n",
    "if x(arr,v):\n",
    "    print(\"Element is present in the list\")\n",
    "else:\n",
    "    print(\"Element is not present in the list\")"
   ]
  },
  {
   "cell_type": "markdown",
   "id": "9bc86879",
   "metadata": {},
   "source": [
    "### Difference between Normal def defined function and Lambda"
   ]
  },
  {
   "cell_type": "code",
   "execution_count": 1,
   "id": "6860ce3d",
   "metadata": {},
   "outputs": [
    {
     "name": "stdout",
     "output_type": "stream",
     "text": [
      "3.0\n"
     ]
    }
   ],
   "source": [
    "def calculate_cube_root(x):\n",
    "    return x**(1/3)\n",
    "print(calculate_cube_root(27))\n"
   ]
  },
  {
   "cell_type": "code",
   "execution_count": 7,
   "id": "8da651da",
   "metadata": {},
   "outputs": [
    {
     "name": "stdout",
     "output_type": "stream",
     "text": [
      "True\n"
     ]
    }
   ],
   "source": [
    "languages = ['Sanskrut', 'English', 'French', 'German'] \n",
    "def check_lan(x):\n",
    "    if x.lower() in [language.lower() for language in languages]:\n",
    "        return True\n",
    "    return False\n",
    "print(check_lan(\"English\"))"
   ]
  },
  {
   "cell_type": "code",
   "execution_count": 8,
   "id": "ba5b0e9c",
   "metadata": {},
   "outputs": [
    {
     "name": "stdout",
     "output_type": "stream",
     "text": [
      "5.026525695313479\n"
     ]
    }
   ],
   "source": [
    "cube_root = lambda x: x**(1/3)\n",
    "print(cube_root(127))"
   ]
  },
  {
   "cell_type": "code",
   "execution_count": 12,
   "id": "d384fb27",
   "metadata": {},
   "outputs": [
    {
     "name": "stdout",
     "output_type": "stream",
     "text": [
      "True\n"
     ]
    }
   ],
   "source": [
    "languages = ['Sanskrut', 'English', 'French', 'German'] \n",
    "check_str = lambda x : True if x in (language.lower() for language in languages) else False\n",
    "print(check_str(\"english\"))"
   ]
  },
  {
   "cell_type": "markdown",
   "id": "abedd38c",
   "metadata": {},
   "source": [
    "### Iterating With Python Lambda"
   ]
  },
  {
   "cell_type": "code",
   "execution_count": 18,
   "id": "86e8537d",
   "metadata": {},
   "outputs": [
    {
     "name": "stdout",
     "output_type": "stream",
     "text": [
      "[16, 4, 169, 441, 25]\n"
     ]
    }
   ],
   "source": [
    "l1 = [4, 2, 13, 21, 5] \n",
    "  \n",
    "l2 = [] \n",
    "for i in l1:\n",
    "    temp = lambda i:i**2\n",
    "    l2.append(temp(i))\n",
    "print(l2)"
   ]
  },
  {
   "cell_type": "code",
   "execution_count": 19,
   "id": "027a3357",
   "metadata": {},
   "outputs": [
    {
     "name": "stdout",
     "output_type": "stream",
     "text": [
      "[16, 4, 169, 441, 25]\n"
     ]
    }
   ],
   "source": [
    "l1 = [4, 2, 13, 21, 5]\n",
    "l2 = list(map(lambda x:x**2,l1))\n",
    "print(l2)"
   ]
  },
  {
   "cell_type": "code",
   "execution_count": 20,
   "id": "a90d0d57",
   "metadata": {},
   "outputs": [
    {
     "name": "stdout",
     "output_type": "stream",
     "text": [
      "[169, 441, 25]\n"
     ]
    }
   ],
   "source": [
    "l1 = [4, 2, 13, 21, 5]\n",
    "l2 = list(map(lambda x:x**2,filter(lambda y:y%2,l1)))\n",
    "print(l2)"
   ]
  },
  {
   "cell_type": "markdown",
   "id": "e04213f8",
   "metadata": {},
   "source": [
    "### How to use if, else & elif in Python Lambda Functions"
   ]
  },
  {
   "cell_type": "code",
   "execution_count": 21,
   "id": "7e6cf9bf",
   "metadata": {},
   "outputs": [
    {
     "name": "stdout",
     "output_type": "stream",
     "text": [
      "12 is even\n",
      "11 is odd\n"
     ]
    }
   ],
   "source": [
    "result = lambda x:f\"{x} is even\" if x%2==0 else f\"{x} is odd\"\n",
    "print(result(12))\n",
    "print(result(11))"
   ]
  },
  {
   "cell_type": "code",
   "execution_count": 24,
   "id": "6e73fc22",
   "metadata": {},
   "outputs": [
    {
     "name": "stdout",
     "output_type": "stream",
     "text": [
      "12 is greater then 11\n",
      "12 is equal to 12\n",
      "12 is less then 13\n"
     ]
    }
   ],
   "source": [
    "result = lambda x,y:f\"{x} is greater then {y}\" if x > y else (f\"{x} is less then {y}\" if x < y else f\"{x} is equal to {y}\")\n",
    "print(result(12,11))\n",
    "print(result(12,12))\n",
    "print(result(12,13))"
   ]
  },
  {
   "cell_type": "markdown",
   "id": "a7ea5099",
   "metadata": {},
   "source": [
    "### Lambda function to find the smaller value between two elements"
   ]
  },
  {
   "cell_type": "code",
   "execution_count": 25,
   "id": "0428760b",
   "metadata": {},
   "outputs": [
    {
     "name": "stdout",
     "output_type": "stream",
     "text": [
      "5\n"
     ]
    }
   ],
   "source": [
    "get_min = lambda x,y:min(x,y)\n",
    "print(get_min(5,9))"
   ]
  },
  {
   "cell_type": "code",
   "execution_count": 26,
   "id": "544305b8",
   "metadata": {},
   "outputs": [
    {
     "name": "stdout",
     "output_type": "stream",
     "text": [
      "1\n"
     ]
    }
   ],
   "source": [
    "get_min = lambda x,y:x if x<y else y\n",
    "print(get_min(45,1))"
   ]
  },
  {
   "cell_type": "code",
   "execution_count": 27,
   "id": "0b23b307",
   "metadata": {},
   "outputs": [
    {
     "name": "stdout",
     "output_type": "stream",
     "text": [
      "5\n"
     ]
    }
   ],
   "source": [
    "a = 5\n",
    "b = 8\n",
    "print((lambda :b,lambda :a)[a<b]())"
   ]
  },
  {
   "cell_type": "markdown",
   "id": "69a39563",
   "metadata": {},
   "source": [
    "### Lambda with if but without else in Python"
   ]
  },
  {
   "cell_type": "code",
   "execution_count": 33,
   "id": "2a60db54",
   "metadata": {},
   "outputs": [
    {
     "ename": "SyntaxError",
     "evalue": "expected 'else' after 'if' expression (941499093.py, line 1)",
     "output_type": "error",
     "traceback": [
      "\u001b[1;36m  Cell \u001b[1;32mIn[33], line 1\u001b[1;36m\u001b[0m\n\u001b[1;33m    square = lambda x : x*x if(x > 0)\u001b[0m\n\u001b[1;37m                        ^\u001b[0m\n\u001b[1;31mSyntaxError\u001b[0m\u001b[1;31m:\u001b[0m expected 'else' after 'if' expression\n"
     ]
    }
   ],
   "source": [
    "square = lambda x : x*x if(x > 0)\n",
    "print(square(5)) #it return invalid syntex"
   ]
  },
  {
   "cell_type": "code",
   "execution_count": 34,
   "id": "d18732fb",
   "metadata": {},
   "outputs": [
    {
     "name": "stdout",
     "output_type": "stream",
     "text": [
      "16\n"
     ]
    }
   ],
   "source": [
    "square = lambda x:x*x if (x>0) else None\n",
    "print(square(4))"
   ]
  },
  {
   "cell_type": "code",
   "execution_count": 35,
   "id": "bcfd8768",
   "metadata": {},
   "outputs": [
    {
     "ename": "SyntaxError",
     "evalue": "expected 'else' after 'if' expression (2828863085.py, line 1)",
     "output_type": "error",
     "traceback": [
      "\u001b[1;36m  Cell \u001b[1;32mIn[35], line 1\u001b[1;36m\u001b[0m\n\u001b[1;33m    mode = lambda x:x if (x>=0)\u001b[0m\n\u001b[1;37m                    ^\u001b[0m\n\u001b[1;31mSyntaxError\u001b[0m\u001b[1;31m:\u001b[0m expected 'else' after 'if' expression\n"
     ]
    }
   ],
   "source": [
    "mode = lambda x:x if (x>=0)\n",
    "print(mod(-1))"
   ]
  },
  {
   "cell_type": "code",
   "execution_count": 36,
   "id": "388d73ba",
   "metadata": {},
   "outputs": [
    {
     "name": "stdout",
     "output_type": "stream",
     "text": [
      "1\n"
     ]
    }
   ],
   "source": [
    "mod = lambda x:x if(x>=0) else -x\n",
    "print(mod(-1))"
   ]
  },
  {
   "cell_type": "code",
   "execution_count": 37,
   "id": "e8684113",
   "metadata": {},
   "outputs": [
    {
     "name": "stdout",
     "output_type": "stream",
     "text": [
      "2\n",
      "10\n"
     ]
    }
   ],
   "source": [
    "max = lambda a, b : a if(a > b) else b\n",
    " \n",
    "print(max(1, 2))\n",
    "print(max(10, 2))"
   ]
  },
  {
   "cell_type": "markdown",
   "id": "7c558a02",
   "metadata": {},
   "source": [
    "### Python Lambda with underscore as an argument"
   ]
  },
  {
   "cell_type": "code",
   "execution_count": 38,
   "id": "ce11919a",
   "metadata": {},
   "outputs": [
    {
     "name": "stdout",
     "output_type": "stream",
     "text": [
      "1\n"
     ]
    }
   ],
   "source": [
    "reminder = lambda x:x%2\n",
    "print(reminder(5))"
   ]
  },
  {
   "cell_type": "code",
   "execution_count": 40,
   "id": "9ae00da8",
   "metadata": {},
   "outputs": [
    {
     "name": "stdout",
     "output_type": "stream",
     "text": [
      "True\n"
     ]
    }
   ],
   "source": [
    "l = lambda _:True\n",
    "print(l(2))"
   ]
  },
  {
   "cell_type": "markdown",
   "id": "38377cda",
   "metadata": {},
   "source": [
    "### Difference between List comprehension and Lambda in Python"
   ]
  },
  {
   "cell_type": "markdown",
   "id": "198b5adc",
   "metadata": {},
   "source": [
    "Syntax of list comprehension\n",
    "List = [expression(i) for i in another_list if filter(i)]"
   ]
  },
  {
   "cell_type": "code",
   "execution_count": 42,
   "id": "545768fb",
   "metadata": {},
   "outputs": [
    {
     "name": "stdout",
     "output_type": "stream",
     "text": [
      "[4, 16, 36, 64, 100]\n"
     ]
    }
   ],
   "source": [
    "lst = [i**2 for i in range(1,11) if i%2 == 0]\n",
    "print(lst)"
   ]
  },
  {
   "cell_type": "code",
   "execution_count": 46,
   "id": "7fed1cc8",
   "metadata": {},
   "outputs": [
    {
     "name": "stdout",
     "output_type": "stream",
     "text": [
      "[None, 4, None, 16, None, 36, None, 64, None]\n"
     ]
    }
   ],
   "source": [
    "lst = [1,2,3,4,5,6,7,8,9]\n",
    "lst = list(map(lambda x :x**2 if x%2 ==0 else None,lst))\n",
    "print(lst)"
   ]
  },
  {
   "cell_type": "code",
   "execution_count": 47,
   "id": "e8358185",
   "metadata": {},
   "outputs": [
    {
     "name": "stdout",
     "output_type": "stream",
     "text": [
      "[0, 1, 2, 3, 4, 5, 6, 7, 8, 9]\n",
      "[0, 2, 4, 6, 8, 10, 12, 14, 16, 18]\n",
      "\r\n",
      "[0, 2, 4, 6, 8, 10, 12, 14, 16, 18]\n"
     ]
    }
   ],
   "source": [
    "list_ = [0, 1, 2, 3, 4, 5, 6, 7, 8, 9]\n",
    "print(list_)\n",
    "lambda_list = list(map(lambda x:x*2,list_))\n",
    "print(lambda_list)\n",
    "print(\"\\r\")\n",
    "list_com = [i*2 for i in list_]\n",
    "print(list_com)"
   ]
  },
  {
   "cell_type": "markdown",
   "id": "ab924795",
   "metadata": {},
   "source": [
    "### Nested Lambda Function in Python"
   ]
  },
  {
   "cell_type": "code",
   "execution_count": 50,
   "id": "3d03da45",
   "metadata": {},
   "outputs": [
    {
     "name": "stdout",
     "output_type": "stream",
     "text": [
      "9\n"
     ]
    }
   ],
   "source": [
    "f = lambda a=2,b=3:lambda c:a+b+c\n",
    "f=f()\n",
    "print(f(4))"
   ]
  },
  {
   "cell_type": "code",
   "execution_count": 51,
   "id": "3ed4985c",
   "metadata": {},
   "outputs": [
    {
     "name": "stdout",
     "output_type": "stream",
     "text": [
      "200\n"
     ]
    }
   ],
   "source": [
    "square = lambda x:x**2\n",
    "product = lambda f,n:lambda x:f(x)*n\n",
    "ans = product(square,2)(10)\n",
    "print(ans)"
   ]
  },
  {
   "cell_type": "markdown",
   "id": "b953ff13",
   "metadata": {},
   "source": [
    "### Python lambda"
   ]
  },
  {
   "cell_type": "markdown",
   "id": "8669e620",
   "metadata": {},
   "source": [
    "Python lambda Syntax:   lambda arguments : expression"
   ]
  },
  {
   "cell_type": "code",
   "execution_count": 52,
   "id": "509d5359",
   "metadata": {},
   "outputs": [
    {
     "name": "stdout",
     "output_type": "stream",
     "text": [
      "Even number\n"
     ]
    }
   ],
   "source": [
    "calc = lambda num: \"Even number\" if num % 2 == 0 else \"Odd number\"\n",
    " \n",
    "print(calc(20))"
   ]
  },
  {
   "cell_type": "code",
   "execution_count": 53,
   "id": "fb46fd36",
   "metadata": {},
   "outputs": [
    {
     "name": "stdout",
     "output_type": "stream",
     "text": [
      "<function <lambda> at 0x000001D99770EF20>\n"
     ]
    }
   ],
   "source": [
    "string = \"dfghjk\"\n",
    "print(lambda string:string)"
   ]
  },
  {
   "cell_type": "code",
   "execution_count": 56,
   "id": "79ec810b",
   "metadata": {},
   "outputs": [
    {
     "name": "stdout",
     "output_type": "stream",
     "text": [
      "filter_num(): Geeks\n",
      "do_exclaim(): I am tired!\n",
      "find_sum(): 2\n"
     ]
    }
   ],
   "source": [
    "filter_num = lambda s:\"\".join([ch for ch in s if not ch.isdigit()])\n",
    "print(\"filter_num():\",filter_num(\"Geeks101\"))\n",
    "\n",
    "do_exclaim = lambda s:s+\"!\"\n",
    "print(\"do_exclaim():\",do_exclaim(\"I am tired\"))\n",
    "\n",
    "find_sum = lambda n:sum([int(x) for x in str(n)])\n",
    "print(\"find_sum():\",find_sum(101))"
   ]
  },
  {
   "cell_type": "code",
   "execution_count": 57,
   "id": "de1a0fa8",
   "metadata": {},
   "outputs": [
    {
     "name": "stdout",
     "output_type": "stream",
     "text": [
      "Invoking function define with def keyword:\n",
      "findind cube of number:40\n",
      "64000\n",
      "invoking lambda function: 27000\n"
     ]
    }
   ],
   "source": [
    "def cube(y):\n",
    "    print(f\"findind cube of number:{y}\")\n",
    "    return y**3\n",
    "lambda_cube = lambda x:x**3\n",
    "print(\"Invoking function define with def keyword:\")\n",
    "print(cube(40))\n",
    "print(\"invoking lambda function:\",lambda_cube(30))"
   ]
  },
  {
   "cell_type": "code",
   "execution_count": 65,
   "id": "c36e8843",
   "metadata": {},
   "outputs": [
    {
     "name": "stdout",
     "output_type": "stream",
     "text": [
      "Sorted numerically: ['-2', '-1', '0', '1', '2', '9']\n",
      "Filter positive even number: ['1', '9', '0', '-1', '-2']\n",
      "Operation on each item using lambda and map(): ['11', '12', '19', '10', '9', '8']\n"
     ]
    }
   ],
   "source": [
    "l = [\"1\", \"2\", \"9\", \"0\", \"-1\", \"-2\"]\n",
    "print(\"Sorted numerically:\",sorted(l,key=lambda x:int(x)))\n",
    "print(\"Filter positive even number:\",list(filter(lambda x:not (int(x)%2==0 and int(x)>0),l)))\n",
    "print(\"Operation on each item using lambda and map():\",list(map(lambda x:str(int(x) + 10),l)))"
   ]
  },
  {
   "cell_type": "code",
   "execution_count": 66,
   "id": "9c706716",
   "metadata": {},
   "outputs": [
    {
     "name": "stdout",
     "output_type": "stream",
     "text": [
      "[1, 3, 5]\n"
     ]
    }
   ],
   "source": [
    "my_list = [1, 2, 3, 4, 5]\n",
    "new_list = list(filter(lambda x:x%2 != 0,my_list))\n",
    "print(new_list)"
   ]
  },
  {
   "cell_type": "markdown",
   "id": "abce712d",
   "metadata": {},
   "source": [
    "### Global and Local Variables in Python"
   ]
  },
  {
   "cell_type": "code",
   "execution_count": 67,
   "id": "e2c1c62d",
   "metadata": {},
   "outputs": [
    {
     "name": "stdout",
     "output_type": "stream",
     "text": [
      "asdfghjk0\n"
     ]
    }
   ],
   "source": [
    "def info():\n",
    "    s = \"asdfghjk0\"\n",
    "    print(s)\n",
    "    \n",
    "info()"
   ]
  },
  {
   "cell_type": "code",
   "execution_count": 69,
   "id": "1b0f4007",
   "metadata": {},
   "outputs": [
    {
     "name": "stdout",
     "output_type": "stream",
     "text": [
      "asdfghjk0\n"
     ]
    },
    {
     "ename": "NameError",
     "evalue": "name 's' is not defined",
     "output_type": "error",
     "traceback": [
      "\u001b[1;31m---------------------------------------------------------------------------\u001b[0m",
      "\u001b[1;31mNameError\u001b[0m                                 Traceback (most recent call last)",
      "Cell \u001b[1;32mIn[69], line 6\u001b[0m\n\u001b[0;32m      3\u001b[0m     \u001b[38;5;28mprint\u001b[39m(s)\n\u001b[0;32m      5\u001b[0m info()\n\u001b[1;32m----> 6\u001b[0m \u001b[38;5;28mprint\u001b[39m(s)\n",
      "\u001b[1;31mNameError\u001b[0m: name 's' is not defined"
     ]
    }
   ],
   "source": [
    "def info():\n",
    "    s = \"asdfghjk0\"\n",
    "    print(s)\n",
    "    \n",
    "info()\n",
    "print(s) #It returns NameError: name 's' is not defined becase variable s is defines locally so we cannot use"
   ]
  },
  {
   "cell_type": "code",
   "execution_count": 72,
   "id": "67b76fe7",
   "metadata": {},
   "outputs": [
    {
     "name": "stdout",
     "output_type": "stream",
     "text": [
      "Inside Function sdfghjk0\n",
      "Outside function: sdfghjk0\n"
     ]
    }
   ],
   "source": [
    "def f():\n",
    "    print(\"Inside Function\", s)\n",
    "s = \"sdfghjk0\"\n",
    "f()\n",
    "print(\"Outside function:\",s)"
   ]
  },
  {
   "cell_type": "code",
   "execution_count": 73,
   "id": "f36a658b",
   "metadata": {},
   "outputs": [
    {
     "name": "stdout",
     "output_type": "stream",
     "text": [
      "Me too.\n",
      "I love Geeksforgeeks\n"
     ]
    }
   ],
   "source": [
    "# This function has a variable with\n",
    "# name same as s.\n",
    "def f():\n",
    "    s = \"Me too.\"\n",
    "    print(s)\n",
    " \n",
    "# Global scope\n",
    "s = \"I love Geeksforgeeks\"\n",
    "f()\n",
    "print(s)"
   ]
  },
  {
   "cell_type": "code",
   "execution_count": 78,
   "id": "8f5b8d45",
   "metadata": {},
   "outputs": [
    {
     "ename": "UnboundLocalError",
     "evalue": "cannot access local variable 's' where it is not associated with a value",
     "output_type": "error",
     "traceback": [
      "\u001b[1;31m---------------------------------------------------------------------------\u001b[0m",
      "\u001b[1;31mUnboundLocalError\u001b[0m                         Traceback (most recent call last)",
      "Cell \u001b[1;32mIn[78], line 9\u001b[0m\n\u001b[0;32m      7\u001b[0m \u001b[38;5;66;03m# Global scope\u001b[39;00m\n\u001b[0;32m      8\u001b[0m s \u001b[38;5;241m=\u001b[39m \u001b[38;5;124m\"\u001b[39m\u001b[38;5;124mI love Geeksforgeeks\u001b[39m\u001b[38;5;124m\"\u001b[39m\n\u001b[1;32m----> 9\u001b[0m f()\n",
      "Cell \u001b[1;32mIn[78], line 3\u001b[0m, in \u001b[0;36mf\u001b[1;34m()\u001b[0m\n\u001b[0;32m      2\u001b[0m \u001b[38;5;28;01mdef\u001b[39;00m \u001b[38;5;21mf\u001b[39m():\n\u001b[1;32m----> 3\u001b[0m     s \u001b[38;5;241m+\u001b[39m\u001b[38;5;241m=\u001b[39m \u001b[38;5;124m'\u001b[39m\u001b[38;5;124mGFG\u001b[39m\u001b[38;5;124m'\u001b[39m\n\u001b[0;32m      4\u001b[0m     \u001b[38;5;28mprint\u001b[39m(\u001b[38;5;124m\"\u001b[39m\u001b[38;5;124mInside Function\u001b[39m\u001b[38;5;124m\"\u001b[39m, s)\n",
      "\u001b[1;31mUnboundLocalError\u001b[0m: cannot access local variable 's' where it is not associated with a value"
     ]
    }
   ],
   "source": [
    "# This function uses global variable s\n",
    "def f():\n",
    "    s += 'GFG'\n",
    "    print(\"Inside Function\", s)\n",
    " \n",
    " \n",
    "# Global scope\n",
    "s = \"I love Geeksforgeeks\"\n",
    "f()"
   ]
  },
  {
   "cell_type": "code",
   "execution_count": 77,
   "id": "8de87207",
   "metadata": {},
   "outputs": [
    {
     "name": "stdout",
     "output_type": "stream",
     "text": [
      "Inside Function jhgfdGFG\n"
     ]
    }
   ],
   "source": [
    "def f(s):\n",
    "    s += 'GFG'\n",
    "    print(\"Inside Function\", s)\n",
    "s=\"jhgfd\"    \n",
    "f(s)"
   ]
  },
  {
   "cell_type": "code",
   "execution_count": 79,
   "id": "e6276ffd",
   "metadata": {},
   "outputs": [
    {
     "name": "stdout",
     "output_type": "stream",
     "text": [
      "Python is great! GFG\n",
      "Look for Geeksforgeeks Python Section\n",
      "Look for Geeksforgeeks Python Section\n"
     ]
    }
   ],
   "source": [
    "# This function modifies the global variable 's'\n",
    "def f():\n",
    "    global s\n",
    "    s += ' GFG'\n",
    "    print(s)\n",
    "    s = \"Look for Geeksforgeeks Python Section\"\n",
    "    print(s) \n",
    " \n",
    "# Global Scope\n",
    "s = \"Python is great!\"\n",
    "f()\n",
    "print(s)"
   ]
  },
  {
   "cell_type": "code",
   "execution_count": 82,
   "id": "d324f2cb",
   "metadata": {},
   "outputs": [
    {
     "name": "stdout",
     "output_type": "stream",
     "text": [
      "global :  1\n",
      "Inside f() :  1\n",
      "global :  1\n",
      "Inside g() :  2\n",
      "global :  1\n",
      "Inside h() :  3\n",
      "global :  3\n"
     ]
    }
   ],
   "source": [
    "a = 1\n",
    " \n",
    "# Uses global because there is no local 'a'\n",
    "def f():\n",
    "    print('Inside f() : ', a)\n",
    " \n",
    " # Variable 'a' is redefined as a local\n",
    "def g():\n",
    "    a = 2\n",
    "    print('Inside g() : ', a)\n",
    "# Uses global keyword to modify global 'a'\n",
    "def h():\n",
    "    global a\n",
    "    a = 3\n",
    "    print('Inside h() : ', a)\n",
    " \n",
    " \n",
    "# Global scope\n",
    "print('global : ', a)\n",
    "f()\n",
    "print('global : ', a)\n",
    "g()\n",
    "print('global : ', a)\n",
    "h()\n",
    "print('global : ', a)"
   ]
  },
  {
   "cell_type": "markdown",
   "id": "00053e2c",
   "metadata": {},
   "source": [
    "### Global keyword in Python"
   ]
  },
  {
   "cell_type": "code",
   "execution_count": 85,
   "id": "0304c782",
   "metadata": {},
   "outputs": [
    {
     "name": "stdout",
     "output_type": "stream",
     "text": [
      "25\n"
     ]
    }
   ],
   "source": [
    "a = 15\n",
    "b = 10\n",
    "def add():\n",
    "    c = a+b\n",
    "    print(c)\n",
    "    \n",
    "\n",
    "add()"
   ]
  },
  {
   "cell_type": "code",
   "execution_count": 86,
   "id": "20e9b070",
   "metadata": {},
   "outputs": [
    {
     "ename": "UnboundLocalError",
     "evalue": "cannot access local variable 'a' where it is not associated with a value",
     "output_type": "error",
     "traceback": [
      "\u001b[1;31m---------------------------------------------------------------------------\u001b[0m",
      "\u001b[1;31mUnboundLocalError\u001b[0m                         Traceback (most recent call last)",
      "Cell \u001b[1;32mIn[86], line 6\u001b[0m\n\u001b[0;32m      4\u001b[0m     a \u001b[38;5;241m=\u001b[39m b\n\u001b[0;32m      5\u001b[0m     \u001b[38;5;28mprint\u001b[39m(a)\n\u001b[1;32m----> 6\u001b[0m change()\n",
      "Cell \u001b[1;32mIn[86], line 3\u001b[0m, in \u001b[0;36mchange\u001b[1;34m()\u001b[0m\n\u001b[0;32m      2\u001b[0m \u001b[38;5;28;01mdef\u001b[39;00m \u001b[38;5;21mchange\u001b[39m():\n\u001b[1;32m----> 3\u001b[0m     b \u001b[38;5;241m=\u001b[39m a\u001b[38;5;241m+\u001b[39m\u001b[38;5;241m5\u001b[39m\n\u001b[0;32m      4\u001b[0m     a \u001b[38;5;241m=\u001b[39m b\n\u001b[0;32m      5\u001b[0m     \u001b[38;5;28mprint\u001b[39m(a)\n",
      "\u001b[1;31mUnboundLocalError\u001b[0m: cannot access local variable 'a' where it is not associated with a value"
     ]
    }
   ],
   "source": [
    "a=15\n",
    "def change():\n",
    "    b = a+5\n",
    "    a = b\n",
    "    print(a)\n",
    "change()    "
   ]
  },
  {
   "cell_type": "code",
   "execution_count": 89,
   "id": "cbf29564",
   "metadata": {},
   "outputs": [
    {
     "name": "stdout",
     "output_type": "stream",
     "text": [
      "Value of x in side a function: 20\n",
      "value of x outside a function: 20\n"
     ]
    }
   ],
   "source": [
    "x = 15\n",
    "def change():\n",
    "    global x\n",
    "    x = x + 5\n",
    "    print(\"Value of x in side a function:\",x)\n",
    "    \n",
    "change()\n",
    "print(\"value of x outside a function:\",x)"
   ]
  },
  {
   "cell_type": "code",
   "execution_count": 92,
   "id": "1807d4d7",
   "metadata": {},
   "outputs": [
    {
     "name": "stdout",
     "output_type": "stream",
     "text": [
      "array list before executing fun(): [10, 20, 30]\n",
      "array list after executing fun() [20, 30, 40]\n"
     ]
    }
   ],
   "source": [
    "arr = [10, 20, 30]\n",
    "def fun():\n",
    "    for i in range(len(arr)):\n",
    "        arr[i] += 10\n",
    "print(\"array list before executing fun():\",arr)\n",
    "fun()\n",
    "print(\"array list after executing fun()\",arr)"
   ]
  },
  {
   "cell_type": "code",
   "execution_count": 94,
   "id": "fe938e55",
   "metadata": {},
   "outputs": [
    {
     "name": "stdout",
     "output_type": "stream",
     "text": [
      "'arr' list before executing fun(): [10, 20, 30]\n",
      "'arr' list after executing fun(): [20, 30, 40]\n"
     ]
    }
   ],
   "source": [
    "arr = [10, 20, 30]\n",
    " \n",
    "def fun():\n",
    "    global arr\n",
    "    arr = [20, 30, 40]\n",
    " \n",
    " \n",
    "print(\"'arr' list before executing fun():\", arr)\n",
    "fun()\n",
    "print(\"'arr' list after executing fun():\", arr)"
   ]
  },
  {
   "cell_type": "code",
   "execution_count": 96,
   "id": "1285493a",
   "metadata": {},
   "outputs": [
    {
     "name": "stdout",
     "output_type": "stream",
     "text": [
      "Before making changing: 15\n",
      "Making Change\n",
      "After making change: 15\n",
      "value of x: 20\n"
     ]
    }
   ],
   "source": [
    "def add():\n",
    "    x = 15\n",
    "    def change():\n",
    "        global x\n",
    "        x = 20\n",
    "    print(\"Before making changing:\",x)\n",
    "    print(\"Making Change\")\n",
    "    change()\n",
    "    print(\"After making change:\",x)\n",
    "add()\n",
    "print(\"value of x:\",x)"
   ]
  },
  {
   "cell_type": "markdown",
   "id": "ab61bd98",
   "metadata": {},
   "source": [
    "### First Class functions in Python"
   ]
  },
  {
   "cell_type": "code",
   "execution_count": 100,
   "id": "81c4dbfa",
   "metadata": {},
   "outputs": [
    {
     "name": "stdout",
     "output_type": "stream",
     "text": [
      "HI, I AM CREATED BY A FUNCTION PASSED AS AN ARGUMENT.\n",
      "hi, i am created by a function passed as an argument.\n"
     ]
    }
   ],
   "source": [
    "def shout(text):\n",
    "    return text.upper()\n",
    "def whisper(text):\n",
    "    return text.lower()\n",
    "def greet(func):\n",
    "    greeting = func(\"Hi, I am created by a function passed as an argument.\")\n",
    "    print(greeting)\n",
    "    \n",
    "greet(shout)\n",
    "greet(whisper)"
   ]
  },
  {
   "cell_type": "code",
   "execution_count": 101,
   "id": "952edd40",
   "metadata": {},
   "outputs": [
    {
     "name": "stdout",
     "output_type": "stream",
     "text": [
      "25\n"
     ]
    }
   ],
   "source": [
    "def create_adder(x):\n",
    "    def adder(y):\n",
    "        return x+y\n",
    "    return adder\n",
    "add_15 = create_adder(15)\n",
    "print(add_15(10))"
   ]
  },
  {
   "cell_type": "markdown",
   "id": "7300d69c",
   "metadata": {},
   "source": [
    "### Python | Sorting string using order defined by another string"
   ]
  },
  {
   "cell_type": "code",
   "execution_count": 105,
   "id": "988331e0",
   "metadata": {},
   "outputs": [
    {
     "name": "stdout",
     "output_type": "stream",
     "text": [
      "geeks\n"
     ]
    }
   ],
   "source": [
    "def sortbypattern(pat,str):\n",
    "    priority = list(pat)\n",
    "    myDict = {priority[i]:i for i in range(len(priority))}\n",
    "    str = list(str)\n",
    "    str.sort( key=lambda ele:myDict[ele])\n",
    "    str.reverse()\n",
    "    new_str = \"\".join(str)\n",
    "    return new_str\n",
    "pat = \"asbcklfdmegnot\"\n",
    "str =  \"eksge\"\n",
    "new_str = sortbypattern(pat,str)\n",
    "print(new_str)"
   ]
  },
  {
   "cell_type": "markdown",
   "id": "71839651",
   "metadata": {},
   "source": [
    "### Python | Find fibonacci series upto n using lambda"
   ]
  },
  {
   "cell_type": "code",
   "execution_count": 106,
   "id": "468135b8",
   "metadata": {},
   "outputs": [
    {
     "name": "stdout",
     "output_type": "stream",
     "text": [
      "[0, 1, 1, 2, 3]\n"
     ]
    }
   ],
   "source": [
    "from functools import reduce\n",
    "fib = lambda n:reduce(lambda x,_:x+[x[-1]+x[-2]],range(n-2),[0,1])\n",
    "print(fib(5))"
   ]
  },
  {
   "cell_type": "markdown",
   "id": "996abca0",
   "metadata": {},
   "source": [
    "### Overuse of lambda expressions in Python"
   ]
  },
  {
   "cell_type": "code",
   "execution_count": 108,
   "id": "891dfc54",
   "metadata": {},
   "outputs": [
    {
     "name": "stdout",
     "output_type": "stream",
     "text": [
      "9\n",
      "2\n"
     ]
    }
   ],
   "source": [
    "x1 = (lambda x,y,z:(x+y)*z)(1,2,3)\n",
    "print(x1)\n",
    "\n",
    "x2 = (lambda x,y,z:(x+y) if (z==0) else (x*y))(1,2,3)\n",
    "print(x2)"
   ]
  },
  {
   "cell_type": "code",
   "execution_count": 109,
   "id": "d51e96be",
   "metadata": {},
   "outputs": [
    {
     "name": "stdout",
     "output_type": "stream",
     "text": [
      "<class 'function'>\n",
      "\r\n",
      "11\n"
     ]
    }
   ],
   "source": [
    "sum = lambda x,y:x+y\n",
    "print(type(sum))\n",
    "print(\"\\r\")\n",
    "x1 = sum(4,7)\n",
    "print(x1)"
   ]
  },
  {
   "cell_type": "code",
   "execution_count": 113,
   "id": "8dcbd872",
   "metadata": {},
   "outputs": [
    {
     "name": "stdout",
     "output_type": "stream",
     "text": [
      "[1, 3, 5, 7, 9, 0, 2, 4, 6, 8]\n"
     ]
    }
   ],
   "source": [
    "def key(x):\n",
    "    return x%2==0\n",
    "nums = [0, 1, 2, 3, 4, 5, 6, 7, 8, 9]\n",
    "sort = sorted(nums,key=key)\n",
    "print(sort)"
   ]
  },
  {
   "cell_type": "code",
   "execution_count": 116,
   "id": "57700319",
   "metadata": {},
   "outputs": [
    {
     "name": "stdout",
     "output_type": "stream",
     "text": [
      "[1, 4, 9, 16, 25, 36, 49, 64, 81, 0]\n",
      "[2, 4, 6, 8, 0]\n"
     ]
    }
   ],
   "source": [
    "nums = [1, 2, 3, 4, 5, 6, 7, 8, 9, 0]\n",
    "square = map(lambda x:x**2,nums)\n",
    "print(list(square))\n",
    "even = list(filter(lambda x:True if x%2 ==0 else False,nums))\n",
    "print(even)"
   ]
  },
  {
   "cell_type": "markdown",
   "id": "b65750e9",
   "metadata": {},
   "source": [
    "### Python program to count Even and Odd numbers in a List"
   ]
  },
  {
   "cell_type": "code",
   "execution_count": 117,
   "id": "bccf962e",
   "metadata": {},
   "outputs": [
    {
     "name": "stdout",
     "output_type": "stream",
     "text": [
      "Even number in the list : 3\n",
      "Odd number in the list: 4\n"
     ]
    }
   ],
   "source": [
    "list1 = [10, 21, 4, 45, 66, 93, 1]\n",
    " \n",
    "even_count, odd_count = 0, 0\n",
    "for num in list1:\n",
    "    if num%2 == 0:\n",
    "        even_count += 1\n",
    "    else:\n",
    "        odd_count += 1\n",
    "print(\"Even number in the list :\",even_count)\n",
    "print(\"Odd number in the list:\",odd_count)"
   ]
  },
  {
   "cell_type": "code",
   "execution_count": 118,
   "id": "7c6160eb",
   "metadata": {},
   "outputs": [
    {
     "name": "stdout",
     "output_type": "stream",
     "text": [
      "Even numbers in the list:  3\n",
      "Odd numbers in the list:  4\n",
      "7\n"
     ]
    }
   ],
   "source": [
    "list1 = [10, 21, 4, 45, 66, 93, 11]\n",
    " \n",
    "even_count, odd_count = 0, 0\n",
    "num = 0\n",
    " \n",
    "# using while loop     \n",
    "while(num < len(list1)):\n",
    "     \n",
    "    # checking condition\n",
    "    if list1[num] % 2 == 0:\n",
    "        even_count += 1\n",
    "    else:\n",
    "        odd_count += 1\n",
    "     \n",
    "    # increment num \n",
    "    num += 1\n",
    "     \n",
    "print(\"Even numbers in the list: \", even_count)\n",
    "print(\"Odd numbers in the list: \", odd_count)\n",
    "print(num)"
   ]
  },
  {
   "cell_type": "code",
   "execution_count": 119,
   "id": "c50c0da6",
   "metadata": {},
   "outputs": [
    {
     "name": "stdout",
     "output_type": "stream",
     "text": [
      "Even numbers in the list:  3\n",
      "Odd numbers in the list:  4\n"
     ]
    }
   ],
   "source": [
    "# list of numbers\n",
    "list1 = [10, 21, 4, 45, 66, 93, 11]\n",
    " \n",
    "odd_count = len(list(filter(lambda x: (x%2 != 0) , list1)))\n",
    " \n",
    "# we can also do len(list1) - odd_count\n",
    "even_count = len(list(filter(lambda x: (x%2 == 0) , list1)))\n",
    " \n",
    "print(\"Even numbers in the list: \", even_count)\n",
    "print(\"Odd numbers in the list: \", odd_count)"
   ]
  },
  {
   "cell_type": "code",
   "execution_count": 121,
   "id": "a63683b9",
   "metadata": {},
   "outputs": [
    {
     "name": "stdout",
     "output_type": "stream",
     "text": [
      "Intersection: [3, 5]\n"
     ]
    }
   ],
   "source": [
    "def intersection(arr1,arr2):\n",
    "    result = list(filter(lambda x:x in arr1,arr2))\n",
    "    print(\"Intersection:\",result)\n",
    "    \n",
    "arr1 = [1, 3, 4, 5, 7]\n",
    "arr2 = [2, 3, 5, 6]\n",
    "intersection(arr1,arr2)"
   ]
  },
  {
   "cell_type": "code",
   "execution_count": null,
   "id": "c7fc9911",
   "metadata": {},
   "outputs": [],
   "source": []
  }
 ],
 "metadata": {
  "kernelspec": {
   "display_name": "Python 3 (ipykernel)",
   "language": "python",
   "name": "python3"
  },
  "language_info": {
   "codemirror_mode": {
    "name": "ipython",
    "version": 3
   },
   "file_extension": ".py",
   "mimetype": "text/x-python",
   "name": "python",
   "nbconvert_exporter": "python",
   "pygments_lexer": "ipython3",
   "version": "3.11.5"
  }
 },
 "nbformat": 4,
 "nbformat_minor": 5
}
