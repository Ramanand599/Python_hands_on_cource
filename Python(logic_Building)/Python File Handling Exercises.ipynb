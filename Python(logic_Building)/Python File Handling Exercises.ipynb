{
 "cells": [
  {
   "cell_type": "markdown",
   "id": "0972c17b",
   "metadata": {},
   "source": [
    "### Python Program to Count Words in Text File"
   ]
  },
  {
   "cell_type": "code",
   "execution_count": 10,
   "id": "0a239042",
   "metadata": {},
   "outputs": [
    {
     "data": {
      "text/plain": [
       "11"
      ]
     },
     "execution_count": 10,
     "metadata": {},
     "output_type": "execute_result"
    }
   ],
   "source": [
    "no_of_word = 0\n",
    "with open(r\"SampleFile.txt\",\"r\") as file:\n",
    "    data = file.read()\n",
    "    lines = data.split()\n",
    "    no_of_word += len(lines)\n",
    "no_of_word"
   ]
  },
  {
   "cell_type": "code",
   "execution_count": 11,
   "id": "39029d94",
   "metadata": {},
   "outputs": [
    {
     "data": {
      "text/plain": [
       "['Welcome',\n",
       " 'to',\n",
       " 'KingForKings.',\n",
       " 'hello',\n",
       " 'kings.',\n",
       " 'hello',\n",
       " 'world!',\n",
       " 'Number:123',\n",
       " 'Number',\n",
       " '2:',\n",
       " '234']"
      ]
     },
     "execution_count": 11,
     "metadata": {},
     "output_type": "execute_result"
    }
   ],
   "source": [
    "lines"
   ]
  },
  {
   "cell_type": "code",
   "execution_count": 20,
   "id": "a1e2f2a1",
   "metadata": {},
   "outputs": [
    {
     "data": {
      "text/plain": [
       "10"
      ]
     },
     "execution_count": 20,
     "metadata": {},
     "output_type": "execute_result"
    }
   ],
   "source": [
    "num_of_words = 0\n",
    "with open(r\"SampleFile.txt\",\"r\") as file:\n",
    "    data = file.read()\n",
    "    lines = data.split()\n",
    "    for word in lines:\n",
    "        if  not word.isnumeric():\n",
    "            num_of_words += 1\n",
    "            \n",
    "num_of_words"
   ]
  },
  {
   "cell_type": "code",
   "execution_count": 14,
   "id": "da5ca90c",
   "metadata": {},
   "outputs": [
    {
     "data": {
      "text/plain": [
       "'Welcome to KingForKings.\\nhello kings.\\nhello world!\\nNumber:123\\nNumber 2: 234'"
      ]
     },
     "execution_count": 14,
     "metadata": {},
     "output_type": "execute_result"
    }
   ],
   "source": [
    "data"
   ]
  },
  {
   "cell_type": "code",
   "execution_count": 24,
   "id": "b95aed83",
   "metadata": {},
   "outputs": [
    {
     "name": "stdout",
     "output_type": "stream",
     "text": [
      "Deleted\n"
     ]
    }
   ],
   "source": [
    "try:\n",
    "    with open(\"month.txt\", \"r\") as fr:\n",
    "        lines = fr.readlines()\n",
    "        ptr = 1\n",
    "        with open(\"month.txt\", \"w\") as fw:\n",
    "            for line in lines:\n",
    "                if ptr != 5:\n",
    "                    fw.write(line)\n",
    "                ptr += 1\n",
    "    print(\"Deleted\")\n",
    "except Exception as e:\n",
    "    print(f\"Oops! Something went wrong: {e}\")"
   ]
  },
  {
   "cell_type": "markdown",
   "id": "6e38a170",
   "metadata": {},
   "source": [
    "### Python Program to Replace Specific Line in File"
   ]
  },
  {
   "cell_type": "code",
   "execution_count": 4,
   "id": "7d1d62bf",
   "metadata": {},
   "outputs": [
    {
     "name": "stdout",
     "output_type": "stream",
     "text": [
      "['Original Line 1\\n', 'HEre is my modified line 2\\n', 'Original Line 1\\n']\n"
     ]
    }
   ],
   "source": [
    "with open(\"example.txt\",\"r\",encoding=\"utf-8\") as file:\n",
    "    data = file.readlines()\n",
    "print(data)\n",
    "data[1] = \"HEre is my modified line 2\\n\"\n",
    "with open(\"example.txt\",\"w\",encoding=\"utf-8\") as file:\n",
    "    file.writelines(data)"
   ]
  },
  {
   "cell_type": "markdown",
   "id": "e659d3da",
   "metadata": {},
   "source": [
    "### Python Program to Print Lines Containing Given String in File"
   ]
  },
  {
   "cell_type": "code",
   "execution_count": 7,
   "id": "d49168b4",
   "metadata": {},
   "outputs": [
    {
     "name": "stdout",
     "output_type": "stream",
     "text": [
      "Enter the file name:example.txt\n",
      "Enter the String:today\n",
      "\n",
      "**** Lines containing \"today\" ****\n",
      "\n",
      "They are going to the store with me today.\n",
      "The sun is shining bright in the morning today.\n",
      "He is wearing a white shirt and black pants today.\n",
      "\n"
     ]
    }
   ],
   "source": [
    "file_name = input(\"Enter the file name:\")\n",
    "try:\n",
    "    file_read = open(file_name,\"r\")\n",
    "    text = input(\"Enter the String:\")\n",
    "    lines = file_read.readlines()\n",
    "    new_lst = []\n",
    "    idx = 0\n",
    "    for line in lines:\n",
    "        if text in line:\n",
    "            new_lst.insert(idx,line)\n",
    "            idx += 1\n",
    "            \n",
    "    file_read.close()\n",
    "    if len(new_lst) == 0:\n",
    "        print(\"\\n\\\"\"+text+\"\\\" is not found in \\\"\"+file_name+\"\\\"!\")\n",
    "    else:\n",
    "        lineLen = len(new_lst)\n",
    "        print(\"\\n**** Lines containing \\\"\" +text+ \"\\\" ****\\n\")\n",
    "        for i in range(lineLen):\n",
    "            print(end = new_lst[i])\n",
    "        print()\n",
    "        \n",
    "except:\n",
    "    print(\"\\nThe File dosen't exis!\")"
   ]
  },
  {
   "cell_type": "markdown",
   "id": "5701df70",
   "metadata": {},
   "source": [
    "### Python – Loop through files of certain extensions"
   ]
  },
  {
   "cell_type": "code",
   "execution_count": 8,
   "id": "57ea08fd",
   "metadata": {},
   "outputs": [
    {
     "name": "stdout",
     "output_type": "stream",
     "text": [
      "10 Teacup Dog Breeds for Tiny Canine Lovers.jpg\n",
      "100_ Dogs Pictures _ Download Free....jpg\n",
      "11 Things Humans Do That Dogs Hate.jpg\n",
      "15 Amazing Facts About Dogs That Will....jpg\n",
      "20 must-have products for new dog owners.jpg\n",
      "25 Best Small Dog Breeds — Cute and....jpg\n",
      "25 Low-Maintenance Dog Breeds for....jpg\n",
      "2nd pet dog tests positive for COVID-19....jpg\n",
      "356 Free Dog Stock Photos - CC0 Images.jpg\n",
      "45 Best Large Dog Breeds - Top Big Dogs_yyth....jpg\n",
      "50 Cutest Dog Breeds as Puppies....jpg\n",
      "50 dog breeds and their history that....jpg\n",
      "66 gifts for dogs or dog lovers to get_yythk....jpg\n",
      "7 Tips on Canine Body Language _ ASPCApro.jpg\n",
      "9 Reasons to Own a Dog.jpg\n",
      "Aggression in dogs _ Animal Humane Society.jpg\n",
      "Ancient dog DNA reveals 11_000 years of....jpg\n",
      "Are Dogs Really Color-Blind_ _ Britannica.jpg\n",
      "been calculating dog years wrong....jpg\n",
      "Best Dog & Puppy Health Insurance Plans....jpg\n",
      "best dog treats_ according to veterinarians.jpg\n",
      "Best Hypoallergenic Dogs [Updated....jpg\n",
      "Body Condition Score....jpg\n",
      "Calculate Your Dog_s Age With This New....jpg\n",
      "Canine Mind....jpg\n",
      "Carolina Dog Dog Breed Information....jpg\n",
      "Cats and Dogs.jpg\n",
      "Colitis in Dogs _ VCA Animal Hospital.jpg\n",
      "Common Dog Breeds and Their Health Issues.jpg\n",
      "convert dog years to human years....jpg\n",
      "Dog - Role in human societies _ Britannica.jpg\n",
      "Dog Breeds Banned By Home Insurance....jpg\n",
      "Dog collars _ The Humane Society of the....jpg\n",
      "dog existed at the end of the Ice Age_yythkg....jpg\n",
      "Dogs caught coronavirus from their....jpg\n",
      "Dogs _ Healthy Pets_ Healthy People _ CDC.jpg\n",
      "First dog Major back at White House....jpg\n",
      "Genes contribute to dog breeds_ iconic....jpg\n",
      "Germany_ Dogs must be walked twice a....jpg\n",
      "Great Dane - Wikipedia.jpg\n",
      "Haunted Victorian Child_ Dog....jpg\n",
      "Hong Kong dog causes panic – but here_s... (1).jpg\n",
      "Hong Kong dog causes panic – but here_s....jpg\n",
      "Hot dogs_ what soaring puppy thefts....jpg\n",
      "How dogs contribute to your health and....jpg\n",
      "How Many Dog Breeds Are There_ _ Hill_s Pet.jpg\n",
      "How My Dog Knows When I_m Sick - The....jpg\n",
      "How to make your dog feel comfortable....jpg\n",
      "Important Things Every Dog Owner Should....jpg\n",
      "Largest Dog Breeds – American Kennel Club.jpg\n",
      "List of dog breeds - Wikipedia.jpg\n",
      "List of Dog Breeds _ Petfinder.jpg\n",
      "Maltese Dog Breed Information_ Pictures....jpg\n",
      "Modern Dog magazine _ the best dog....jpg\n",
      "Mood-Boosting Benefits of Pets....jpg\n",
      "Most Popular Breeds – American Kennel Club.jpg\n",
      "Most Popular Dog Breeds According....jpg\n",
      "Most Popular Dog Names of 2020....jpg\n",
      "Puppy Dog Pictures _ Download Free....jpg\n",
      "real_ age_ you_ll need a calculator... (1).jpg\n",
      "real_ age_ you_ll need a calculator....jpg\n",
      "Rescue turns dog with untreatable tumor....jpg\n",
      "Rottweiler Dog Breed Information....jpg\n",
      "Science_ Talking to Your Dog Means You....jpg\n",
      "scientists explain puppy dog eyes....jpg\n",
      "Service Dogs from Southeastern Guide Dogs.jpg\n",
      "Soi Dog Foundation _ Ending The... (1).jpg\n",
      "Soi Dog Foundation _ Ending The....jpg\n",
      "Southeastern Guide Dogs - YouTube.jpg\n",
      "Subaru Shows Love for Dogs Through the....jpg\n",
      "The 20 Best Dog Breeds for Runners....jpg\n",
      "The 25 Cutest Dog Breeds - Most....jpg\n",
      "The Best Dogs of BBC Earth _ Top 5....jpg\n",
      "The Black Dog Tavern Company _ Life off....jpg\n",
      "The Cost of Owning a Dog.jpg\n",
      "The History of Dogs as Pets - ABC News.jpg\n",
      "The Importance of Walking Your Dog....jpg\n",
      "The US Army is testing augmented....jpg\n",
      "Those Puppy Dog Eyes You Can_t Resist....jpg\n",
      "Top 10 Smartest Dog Breeds - Most....jpg\n",
      "Trained dogs can smell coronavirus in....jpg\n",
      "Welcoming Your Adopted Dog Into Your....jpg\n",
      "What makes dogs so special and....jpg\n",
      "Which Pop Culture Dog Is Best in Show....jpg\n",
      "why dogs understand our body language....jpg\n",
      "Why Grumpy Dogs Outperform Friendly....jpg\n"
     ]
    }
   ],
   "source": [
    "import os\n",
    "dir_name = r\"E:\\Dogs\"\n",
    "ext = (\".exe\",\"jpg\")\n",
    "for files in os.listdir(dir_name):\n",
    "    if files.endswith(ext):\n",
    "        print(files)\n",
    "    else:\n",
    "        continue"
   ]
  },
  {
   "cell_type": "code",
   "execution_count": 9,
   "id": "965505df",
   "metadata": {},
   "outputs": [
    {
     "name": "stdout",
     "output_type": "stream",
     "text": [
      "<DirEntry '10 Teacup Dog Breeds for Tiny Canine Lovers.jpg'>\n",
      "<DirEntry '100_ Dogs Pictures _ Download Free....jpg'>\n",
      "<DirEntry '11 Things Humans Do That Dogs Hate.jpg'>\n",
      "<DirEntry '15 Amazing Facts About Dogs That Will....jpg'>\n",
      "<DirEntry '20 must-have products for new dog owners.jpg'>\n",
      "<DirEntry '25 Best Small Dog Breeds — Cute and....jpg'>\n",
      "<DirEntry '25 Low-Maintenance Dog Breeds for....jpg'>\n",
      "<DirEntry '2nd pet dog tests positive for COVID-19....jpg'>\n",
      "<DirEntry '356 Free Dog Stock Photos - CC0 Images.jpg'>\n",
      "<DirEntry '45 Best Large Dog Breeds - Top Big Dogs_yyth....jpg'>\n",
      "<DirEntry '50 Cutest Dog Breeds as Puppies....jpg'>\n",
      "<DirEntry '50 dog breeds and their history that....jpg'>\n",
      "<DirEntry '66 gifts for dogs or dog lovers to get_yythk....jpg'>\n",
      "<DirEntry '7 Tips on Canine Body Language _ ASPCApro.jpg'>\n",
      "<DirEntry '9 Reasons to Own a Dog.jpg'>\n",
      "<DirEntry 'Aggression in dogs _ Animal Humane Society.jpg'>\n",
      "<DirEntry 'Ancient dog DNA reveals 11_000 years of....jpg'>\n",
      "<DirEntry 'Are Dogs Really Color-Blind_ _ Britannica.jpg'>\n",
      "<DirEntry 'been calculating dog years wrong....jpg'>\n",
      "<DirEntry 'Best Dog & Puppy Health Insurance Plans....jpg'>\n",
      "<DirEntry 'best dog treats_ according to veterinarians.jpg'>\n",
      "<DirEntry 'Best Hypoallergenic Dogs [Updated....jpg'>\n",
      "<DirEntry 'Body Condition Score....jpg'>\n",
      "<DirEntry 'Calculate Your Dog_s Age With This New....jpg'>\n",
      "<DirEntry 'Canine Mind....jpg'>\n",
      "<DirEntry 'Carolina Dog Dog Breed Information....jpg'>\n",
      "<DirEntry 'Cats and Dogs.jpg'>\n",
      "<DirEntry 'Colitis in Dogs _ VCA Animal Hospital.jpg'>\n",
      "<DirEntry 'Common Dog Breeds and Their Health Issues.jpg'>\n",
      "<DirEntry 'convert dog years to human years....jpg'>\n",
      "<DirEntry 'Dog - Role in human societies _ Britannica.jpg'>\n",
      "<DirEntry 'Dog Breeds Banned By Home Insurance....jpg'>\n",
      "<DirEntry 'Dog collars _ The Humane Society of the....jpg'>\n",
      "<DirEntry 'dog existed at the end of the Ice Age_yythkg....jpg'>\n",
      "<DirEntry 'Dogs caught coronavirus from their....jpg'>\n",
      "<DirEntry 'Dogs _ Healthy Pets_ Healthy People _ CDC.jpg'>\n",
      "<DirEntry 'First dog Major back at White House....jpg'>\n",
      "<DirEntry 'Genes contribute to dog breeds_ iconic....jpg'>\n",
      "<DirEntry 'Germany_ Dogs must be walked twice a....jpg'>\n",
      "<DirEntry 'Great Dane - Wikipedia.jpg'>\n",
      "<DirEntry 'Haunted Victorian Child_ Dog....jpg'>\n",
      "<DirEntry 'Hong Kong dog causes panic – but here_s... (1).jpg'>\n",
      "<DirEntry 'Hong Kong dog causes panic – but here_s....jpg'>\n",
      "<DirEntry 'Hot dogs_ what soaring puppy thefts....jpg'>\n",
      "<DirEntry 'How dogs contribute to your health and....jpg'>\n",
      "<DirEntry 'How Many Dog Breeds Are There_ _ Hill_s Pet.jpg'>\n",
      "<DirEntry 'How My Dog Knows When I_m Sick - The....jpg'>\n",
      "<DirEntry 'How to make your dog feel comfortable....jpg'>\n",
      "<DirEntry 'Important Things Every Dog Owner Should....jpg'>\n",
      "<DirEntry 'Largest Dog Breeds – American Kennel Club.jpg'>\n",
      "<DirEntry 'List of dog breeds - Wikipedia.jpg'>\n",
      "<DirEntry 'List of Dog Breeds _ Petfinder.jpg'>\n",
      "<DirEntry 'Maltese Dog Breed Information_ Pictures....jpg'>\n",
      "<DirEntry 'Modern Dog magazine _ the best dog....jpg'>\n",
      "<DirEntry 'Mood-Boosting Benefits of Pets....jpg'>\n",
      "<DirEntry 'Most Popular Breeds – American Kennel Club.jpg'>\n",
      "<DirEntry 'Most Popular Dog Breeds According....jpg'>\n",
      "<DirEntry 'Most Popular Dog Names of 2020....jpg'>\n",
      "<DirEntry 'Puppy Dog Pictures _ Download Free....jpg'>\n",
      "<DirEntry 'real_ age_ you_ll need a calculator... (1).jpg'>\n",
      "<DirEntry 'real_ age_ you_ll need a calculator....jpg'>\n",
      "<DirEntry 'Rescue turns dog with untreatable tumor....jpg'>\n",
      "<DirEntry 'Rottweiler Dog Breed Information....jpg'>\n",
      "<DirEntry 'Science_ Talking to Your Dog Means You....jpg'>\n",
      "<DirEntry 'scientists explain puppy dog eyes....jpg'>\n",
      "<DirEntry 'Service Dogs from Southeastern Guide Dogs.jpg'>\n",
      "<DirEntry 'Soi Dog Foundation _ Ending The... (1).jpg'>\n",
      "<DirEntry 'Soi Dog Foundation _ Ending The....jpg'>\n",
      "<DirEntry 'Southeastern Guide Dogs - YouTube.jpg'>\n",
      "<DirEntry 'Subaru Shows Love for Dogs Through the....jpg'>\n",
      "<DirEntry 'The 20 Best Dog Breeds for Runners....jpg'>\n",
      "<DirEntry 'The 25 Cutest Dog Breeds - Most....jpg'>\n",
      "<DirEntry 'The Best Dogs of BBC Earth _ Top 5....jpg'>\n",
      "<DirEntry 'The Black Dog Tavern Company _ Life off....jpg'>\n",
      "<DirEntry 'The Cost of Owning a Dog.jpg'>\n",
      "<DirEntry 'The History of Dogs as Pets - ABC News.jpg'>\n",
      "<DirEntry 'The Importance of Walking Your Dog....jpg'>\n",
      "<DirEntry 'The US Army is testing augmented....jpg'>\n",
      "<DirEntry 'Those Puppy Dog Eyes You Can_t Resist....jpg'>\n",
      "<DirEntry 'Top 10 Smartest Dog Breeds - Most....jpg'>\n",
      "<DirEntry 'Trained dogs can smell coronavirus in....jpg'>\n",
      "<DirEntry 'Welcoming Your Adopted Dog Into Your....jpg'>\n",
      "<DirEntry 'What makes dogs so special and....jpg'>\n",
      "<DirEntry 'Which Pop Culture Dog Is Best in Show....jpg'>\n",
      "<DirEntry 'why dogs understand our body language....jpg'>\n",
      "<DirEntry 'Why Grumpy Dogs Outperform Friendly....jpg'>\n"
     ]
    }
   ],
   "source": [
    "import os\n",
    "dirname = r\"E:\\Dogs\"\n",
    "ext = (\".exe\",\"jpg\")\n",
    "for files in os.scandir(dirname):\n",
    "    if files.path.endswith(ext):\n",
    "        print(files\n",
    "             )"
   ]
  },
  {
   "cell_type": "code",
   "execution_count": 10,
   "id": "a6af5787",
   "metadata": {},
   "outputs": [
    {
     "name": "stdout",
     "output_type": "stream",
     "text": [
      "10 Teacup Dog Breeds for Tiny Canine Lovers.jpg\n",
      "100_ Dogs Pictures _ Download Free....jpg\n",
      "11 Things Humans Do That Dogs Hate.jpg\n",
      "15 Amazing Facts About Dogs That Will....jpg\n",
      "20 must-have products for new dog owners.jpg\n",
      "25 Best Small Dog Breeds — Cute and....jpg\n",
      "25 Low-Maintenance Dog Breeds for....jpg\n",
      "2nd pet dog tests positive for COVID-19....jpg\n",
      "356 Free Dog Stock Photos - CC0 Images.jpg\n",
      "45 Best Large Dog Breeds - Top Big Dogs_yyth....jpg\n",
      "50 Cutest Dog Breeds as Puppies....jpg\n",
      "50 dog breeds and their history that....jpg\n",
      "66 gifts for dogs or dog lovers to get_yythk....jpg\n",
      "7 Tips on Canine Body Language _ ASPCApro.jpg\n",
      "9 Reasons to Own a Dog.jpg\n",
      "Aggression in dogs _ Animal Humane Society.jpg\n",
      "Ancient dog DNA reveals 11_000 years of....jpg\n",
      "Are Dogs Really Color-Blind_ _ Britannica.jpg\n",
      "been calculating dog years wrong....jpg\n",
      "Best Dog & Puppy Health Insurance Plans....jpg\n",
      "best dog treats_ according to veterinarians.jpg\n",
      "Best Hypoallergenic Dogs [Updated....jpg\n",
      "Body Condition Score....jpg\n",
      "Calculate Your Dog_s Age With This New....jpg\n",
      "Canine Mind....jpg\n",
      "Carolina Dog Dog Breed Information....jpg\n",
      "Cats and Dogs.jpg\n",
      "Colitis in Dogs _ VCA Animal Hospital.jpg\n",
      "Common Dog Breeds and Their Health Issues.jpg\n",
      "convert dog years to human years....jpg\n",
      "Dog - Role in human societies _ Britannica.jpg\n",
      "Dog Breeds Banned By Home Insurance....jpg\n",
      "Dog collars _ The Humane Society of the....jpg\n",
      "dog existed at the end of the Ice Age_yythkg....jpg\n",
      "Dogs caught coronavirus from their....jpg\n",
      "Dogs _ Healthy Pets_ Healthy People _ CDC.jpg\n",
      "First dog Major back at White House....jpg\n",
      "Genes contribute to dog breeds_ iconic....jpg\n",
      "Germany_ Dogs must be walked twice a....jpg\n",
      "Great Dane - Wikipedia.jpg\n",
      "Haunted Victorian Child_ Dog....jpg\n",
      "Hong Kong dog causes panic – but here_s... (1).jpg\n",
      "Hong Kong dog causes panic – but here_s....jpg\n",
      "Hot dogs_ what soaring puppy thefts....jpg\n",
      "How dogs contribute to your health and....jpg\n",
      "How Many Dog Breeds Are There_ _ Hill_s Pet.jpg\n",
      "How My Dog Knows When I_m Sick - The....jpg\n",
      "How to make your dog feel comfortable....jpg\n",
      "Important Things Every Dog Owner Should....jpg\n",
      "Largest Dog Breeds – American Kennel Club.jpg\n",
      "List of dog breeds - Wikipedia.jpg\n",
      "List of Dog Breeds _ Petfinder.jpg\n",
      "Maltese Dog Breed Information_ Pictures....jpg\n",
      "Modern Dog magazine _ the best dog....jpg\n",
      "Mood-Boosting Benefits of Pets....jpg\n",
      "Most Popular Breeds – American Kennel Club.jpg\n",
      "Most Popular Dog Breeds According....jpg\n",
      "Most Popular Dog Names of 2020....jpg\n",
      "Puppy Dog Pictures _ Download Free....jpg\n",
      "real_ age_ you_ll need a calculator... (1).jpg\n",
      "real_ age_ you_ll need a calculator....jpg\n",
      "Rescue turns dog with untreatable tumor....jpg\n",
      "Rottweiler Dog Breed Information....jpg\n",
      "Science_ Talking to Your Dog Means You....jpg\n",
      "scientists explain puppy dog eyes....jpg\n",
      "Service Dogs from Southeastern Guide Dogs.jpg\n",
      "Soi Dog Foundation _ Ending The... (1).jpg\n",
      "Soi Dog Foundation _ Ending The....jpg\n",
      "Southeastern Guide Dogs - YouTube.jpg\n",
      "Subaru Shows Love for Dogs Through the....jpg\n",
      "The 20 Best Dog Breeds for Runners....jpg\n",
      "The 25 Cutest Dog Breeds - Most....jpg\n",
      "The Best Dogs of BBC Earth _ Top 5....jpg\n",
      "The Black Dog Tavern Company _ Life off....jpg\n",
      "The Cost of Owning a Dog.jpg\n",
      "The History of Dogs as Pets - ABC News.jpg\n",
      "The Importance of Walking Your Dog....jpg\n",
      "The US Army is testing augmented....jpg\n",
      "Those Puppy Dog Eyes You Can_t Resist....jpg\n",
      "Top 10 Smartest Dog Breeds - Most....jpg\n",
      "Trained dogs can smell coronavirus in....jpg\n",
      "Welcoming Your Adopted Dog Into Your....jpg\n",
      "What makes dogs so special and....jpg\n",
      "Which Pop Culture Dog Is Best in Show....jpg\n",
      "why dogs understand our body language....jpg\n",
      "Why Grumpy Dogs Outperform Friendly....jpg\n"
     ]
    }
   ],
   "source": [
    "import os\n",
    "dirname = r\"E:\\Dogs\"\n",
    "ext = (\".exe\",\"jpg\")\n",
    "for path,dirc,files in os.walk(dirname):\n",
    "    for name in files:\n",
    "        if name.endswith(ext):\n",
    "            print(name)"
   ]
  },
  {
   "cell_type": "code",
   "execution_count": 20,
   "id": "81fab7e8",
   "metadata": {},
   "outputs": [],
   "source": [
    "import glob\n",
    "\n",
    "try:\n",
    "    for file_name in glob.glob(\"E:/Dogs/**/*.exe\", recursive=True):\n",
    "        print(file_name)\n",
    "except Exception as e:\n",
    "    print(\"An error occurred:\", e)\n"
   ]
  },
  {
   "cell_type": "code",
   "execution_count": 22,
   "id": "5ba53c28",
   "metadata": {},
   "outputs": [],
   "source": [
    "from pathlib import Path\n",
    "dirname = r\"E:\\Dogs\"\n",
    "paths = Path(dirname).glob(\"**/*.exe\",)\n",
    "for path in paths:\n",
    "    print(path)"
   ]
  },
  {
   "cell_type": "markdown",
   "id": "193ec7b8",
   "metadata": {},
   "source": [
    "### Compare two Files line by line in Python"
   ]
  },
  {
   "cell_type": "code",
   "execution_count": 28,
   "id": "f1f6fa06",
   "metadata": {},
   "outputs": [
    {
     "name": "stdout",
     "output_type": "stream",
     "text": [
      "--- file1.txt\n",
      "+++ file2.txt\n",
      "@@ -1,5 +1,5 @@\n",
      " Learning\n",
      "\n",
      " Python\n",
      "\n",
      " is\n",
      "\n",
      "-so\n",
      "\n",
      "-easy.\n",
      "\n",
      "+too\n",
      "\n",
      "+simple.\n",
      "\n"
     ]
    }
   ],
   "source": [
    "import difflib\n",
    " \n",
    "with open('file1.txt') as file_1:\n",
    "    file_1_text = file_1.readlines() \n",
    "with open('file2.txt') as file_2:\n",
    "    file_2_text = file_2.readlines()\n",
    "\n",
    "for line in difflib.unified_diff(\n",
    "        file_1_text, file_2_text, fromfile='file1.txt', \n",
    "        tofile='file2.txt', lineterm=''):\n",
    "    print(line)"
   ]
  },
  {
   "cell_type": "code",
   "execution_count": 30,
   "id": "bd3e909b",
   "metadata": {},
   "outputs": [
    {
     "name": "stdout",
     "output_type": "stream",
     "text": [
      "  Learning\n",
      "\n",
      "  Python\n",
      "\n",
      "  is\n",
      "\n",
      "- so\n",
      "\n",
      "- easy.\n",
      "\n",
      "+ too\n",
      "\n",
      "+ simple.\n",
      "\n"
     ]
    }
   ],
   "source": [
    "from difflib import Differ\n",
    "\n",
    "with open(\"file1.txt\") as file1, open(\"file2.txt\") as file2:\n",
    "    differ = Differ()\n",
    "    \n",
    "    lines1 = file1.readlines()\n",
    "    lines2 = file2.readlines()\n",
    "\n",
    "    for line in differ.compare(lines1, lines2):\n",
    "        print(line)\n"
   ]
  },
  {
   "cell_type": "markdown",
   "id": "6771dff5",
   "metadata": {},
   "source": [
    "### How to keep old content when Writing to Files in Python?"
   ]
  },
  {
   "cell_type": "code",
   "execution_count": 31,
   "id": "e5eab872",
   "metadata": {},
   "outputs": [],
   "source": [
    "file = open(\"file1.txt\",\"a\")\n",
    "content = \"\\n\\n# This content is added trough the program #\"\n",
    "file.write(content)\n",
    "file.close()"
   ]
  },
  {
   "cell_type": "code",
   "execution_count": 32,
   "id": "cbe96559",
   "metadata": {},
   "outputs": [
    {
     "name": "stdout",
     "output_type": "stream",
     "text": [
      "Learning\n",
      "Python\n",
      "is\n",
      "too\n",
      "simple\n",
      "\n",
      "# This content is added trough the program #\n"
     ]
    }
   ],
   "source": [
    "file = open(\"file1.txt\", \"a+\") \n",
    "  \n",
    "# reach at first \n",
    "file.seek(0) \n",
    "  \n",
    "# Reading the file \n",
    "content = file.read() \n",
    "  \n",
    "# view file content \n",
    "print(content) \n",
    "  \n",
    "# Content to be added \n",
    "content = \"\\n\\n# This Content is added through the program #\"\n",
    "  \n",
    "# Writing the file \n",
    "file.write(content) \n",
    "  \n",
    "# Closing the opened file \n",
    "file.close() "
   ]
  },
  {
   "cell_type": "markdown",
   "id": "5b1b6f32",
   "metadata": {},
   "source": [
    "### How to get size of folder using Python?"
   ]
  },
  {
   "cell_type": "code",
   "execution_count": 34,
   "id": "fbb9853b",
   "metadata": {},
   "outputs": [
    {
     "name": "stdout",
     "output_type": "stream",
     "text": [
      "Folder size: 0\n"
     ]
    }
   ],
   "source": [
    "import os\n",
    "size = 0\n",
    "folderpath = r\"E:\\ML PROJECT\\Student\\logs.logs\"\n",
    "for path,dirs,files in os.walk(folderpath):\n",
    "    for file in files:\n",
    "        filepath = os.path.join(path,f)\n",
    "        size += os.path.getsize(filepath)\n",
    "        \n",
    "print(\"Folder size:\",size)"
   ]
  },
  {
   "cell_type": "code",
   "execution_count": 35,
   "id": "4f813ae2",
   "metadata": {},
   "outputs": [
    {
     "name": "stdout",
     "output_type": "stream",
     "text": [
      "Folder size: 0\n"
     ]
    }
   ],
   "source": [
    "import os\n",
    "size = 0\n",
    "folderpath = r\"E:\\ML PROJECT\\Student\\logs.logs\"\n",
    "for path,dirs,files in os.walk(folderpath):\n",
    "    for file in files:\n",
    "        filepath = os.path.join(path,f)\n",
    "        size += os.start(filepath).st_size\n",
    "        \n",
    "print(\"Folder size:\",size)"
   ]
  },
  {
   "cell_type": "code",
   "execution_count": 40,
   "id": "081dbd70",
   "metadata": {},
   "outputs": [
    {
     "name": "stdout",
     "output_type": "stream",
     "text": [
      "3795\n"
     ]
    }
   ],
   "source": [
    "import os\n",
    "size = 0\n",
    "folderpath = r\"E:\\ML PROJECT\\Student\\logs\"\n",
    "for ele in os.scandir(folderpath):\n",
    "    size+=os.path.getsize(ele)\n",
    "     \n",
    "print(size)"
   ]
  },
  {
   "cell_type": "code",
   "execution_count": 42,
   "id": "2e43229f",
   "metadata": {},
   "outputs": [
    {
     "name": "stdout",
     "output_type": "stream",
     "text": [
      "3795\n"
     ]
    }
   ],
   "source": [
    "import os\n",
    "size = 0\n",
    "folderpath = r\"E:\\ML PROJECT\\Student\\logs\"\n",
    "for ele in os.scandir(folderpath):\n",
    "    size+=os.stat(ele).st_size\n",
    "     \n",
    "print(size)"
   ]
  },
  {
   "cell_type": "markdown",
   "id": "4ed029c1",
   "metadata": {},
   "source": [
    "### How to read multiple text files from folder in Python?"
   ]
  },
  {
   "cell_type": "code",
   "execution_count": 47,
   "id": "c191fbc3",
   "metadata": {},
   "outputs": [
    {
     "name": "stdout",
     "output_type": "stream",
     "text": [
      "[['gender', 'race_ethnicity', 'parental_level_of_education', 'lunch', 'test_preparation_course', 'math_score', 'reading_score', 'writing_score'], ['female', 'group B', \"bachelor's degree\", 'standard', 'none', '72', '72', '74'], ['female', 'group C', 'some college', 'standard', 'completed', '69', '90', '88'], ['female', 'group B', \"master's degree\", 'standard', 'none', '90', '95', '93'], ['male', 'group A', \"associate's degree\", 'free/reduced', 'none', '47', '57', '44'], ['male', 'group C', 'some college', 'standard', 'none', '76', '78', '75'], ['female', 'group B', \"associate's degree\", 'standard', 'none', '71', '83', '78'], ['female', 'group B', 'some college', 'standard', 'completed', '88', '95', '92'], ['male', 'group B', 'some college', 'free/reduced', 'none', '40', '43', '39'], ['male', 'group D', 'high school', 'free/reduced', 'completed', '64', '64', '67'], ['female', 'group B', 'high school', 'free/reduced', 'none', '38', '60', '50'], ['male', 'group C', \"associate's degree\", 'standard', 'none', '58', '54', '52'], ['male', 'group D', \"associate's degree\", 'standard', 'none', '40', '52', '43'], ['female', 'group B', 'high school', 'standard', 'none', '65', '81', '73'], ['male', 'group A', 'some college', 'standard', 'completed', '78', '72', '70'], ['female', 'group A', \"master's degree\", 'standard', 'none', '50', '53', '58'], ['female', 'group C', 'some high school', 'standard', 'none', '69', '75', '78'], ['male', 'group C', 'high school', 'standard', 'none', '88', '89', '86'], ['female', 'group B', 'some high school', 'free/reduced', 'none', '18', '32', '28'], ['male', 'group C', \"master's degree\", 'free/reduced', 'completed', '46', '42', '46'], ['female', 'group C', \"associate's degree\", 'free/reduced', 'none', '54', '58', '61'], ['male', 'group D', 'high school', 'standard', 'none', '66', '69', '63'], ['female', 'group B', 'some college', 'free/reduced', 'completed', '65', '75', '70'], ['male', 'group D', 'some college', 'standard', 'none', '44', '54', '53'], ['female', 'group C', 'some high school', 'standard', 'none', '69', '73', '73'], ['male', 'group D', \"bachelor's degree\", 'free/reduced', 'completed', '74', '71', '80'], ['male', 'group A', \"master's degree\", 'free/reduced', 'none', '73', '74', '72'], ['male', 'group B', 'some college', 'standard', 'none', '69', '54', '55'], ['female', 'group C', \"bachelor's degree\", 'standard', 'none', '67', '69', '75'], ['male', 'group C', 'high school', 'standard', 'none', '70', '70', '65'], ['female', 'group D', \"master's degree\", 'standard', 'none', '62', '70', '75'], ['female', 'group D', 'some college', 'standard', 'none', '69', '74', '74'], ['female', 'group B', 'some college', 'standard', 'none', '63', '65', '61'], ['female', 'group E', \"master's degree\", 'free/reduced', 'none', '56', '72', '65'], ['male', 'group D', 'some college', 'standard', 'none', '40', '42', '38'], ['male', 'group E', 'some college', 'standard', 'none', '97', '87', '82'], ['male', 'group E', \"associate's degree\", 'standard', 'completed', '81', '81', '79'], ['female', 'group D', \"associate's degree\", 'standard', 'none', '74', '81', '83'], ['female', 'group D', 'some high school', 'free/reduced', 'none', '50', '64', '59'], ['female', 'group D', \"associate's degree\", 'free/reduced', 'completed', '75', '90', '88'], ['male', 'group B', \"associate's degree\", 'free/reduced', 'none', '57', '56', '57'], ['male', 'group C', \"associate's degree\", 'free/reduced', 'none', '55', '61', '54'], ['female', 'group C', \"associate's degree\", 'standard', 'none', '58', '73', '68'], ['female', 'group B', \"associate's degree\", 'standard', 'none', '53', '58', '65'], ['male', 'group B', 'some college', 'free/reduced', 'completed', '59', '65', '66'], ['female', 'group E', \"associate's degree\", 'free/reduced', 'none', '50', '56', '54'], ['male', 'group B', \"associate's degree\", 'standard', 'none', '65', '54', '57'], ['female', 'group A', \"associate's degree\", 'standard', 'completed', '55', '65', '62'], ['female', 'group C', 'high school', 'standard', 'none', '66', '71', '76'], ['female', 'group D', \"associate's degree\", 'free/reduced', 'completed', '57', '74', '76'], ['male', 'group C', 'high school', 'standard', 'completed', '82', '84', '82'], ['male', 'group E', 'some college', 'standard', 'none', '53', '55', '48'], ['male', 'group E', \"associate's degree\", 'free/reduced', 'completed', '77', '69', '68'], ['male', 'group C', 'some college', 'standard', 'none', '53', '44', '42'], ['male', 'group D', 'high school', 'standard', 'none', '88', '78', '75'], ['female', 'group C', 'some high school', 'free/reduced', 'completed', '71', '84', '87'], ['female', 'group C', 'high school', 'free/reduced', 'none', '33', '41', '43'], ['female', 'group E', \"associate's degree\", 'standard', 'completed', '82', '85', '86'], ['male', 'group D', \"associate's degree\", 'standard', 'none', '52', '55', '49'], ['male', 'group D', 'some college', 'standard', 'completed', '58', '59', '58'], ['female', 'group C', 'some high school', 'free/reduced', 'none', '0', '17', '10'], ['male', 'group E', \"bachelor's degree\", 'free/reduced', 'completed', '79', '74', '72'], ['male', 'group A', 'some high school', 'free/reduced', 'none', '39', '39', '34'], ['male', 'group A', \"associate's degree\", 'free/reduced', 'none', '62', '61', '55'], ['female', 'group C', \"associate's degree\", 'standard', 'none', '69', '80', '71'], ['female', 'group D', 'some high school', 'standard', 'none', '59', '58', '59'], ['male', 'group B', 'some high school', 'standard', 'none', '67', '64', '61'], ['male', 'group D', 'some high school', 'free/reduced', 'none', '45', '37', '37'], ['female', 'group C', 'some college', 'standard', 'none', '60', '72', '74'], ['male', 'group B', \"associate's degree\", 'free/reduced', 'none', '61', '58', '56'], ['female', 'group C', \"associate's degree\", 'standard', 'none', '39', '64', '57'], ['female', 'group D', 'some college', 'free/reduced', 'completed', '58', '63', '73'], ['male', 'group D', 'some college', 'standard', 'completed', '63', '55', '63'], ['female', 'group A', \"associate's degree\", 'free/reduced', 'none', '41', '51', '48'], ['male', 'group C', 'some high school', 'free/reduced', 'none', '61', '57', '56'], ['male', 'group C', 'some high school', 'standard', 'none', '49', '49', '41'], ['male', 'group B', \"associate's degree\", 'free/reduced', 'none', '44', '41', '38'], ['male', 'group E', 'some high school', 'standard', 'none', '30', '26', '22'], ['male', 'group A', \"bachelor's degree\", 'standard', 'completed', '80', '78', '81'], ['female', 'group D', 'some high school', 'standard', 'completed', '61', '74', '72'], ['female', 'group E', \"master's degree\", 'standard', 'none', '62', '68', '68'], ['female', 'group B', \"associate's degree\", 'standard', 'none', '47', '49', '50'], ['male', 'group B', 'high school', 'free/reduced', 'none', '49', '45', '45'], ['male', 'group A', 'some college', 'free/reduced', 'completed', '50', '47', '54'], ['male', 'group E', \"associate's degree\", 'standard', 'none', '72', '64', '63'], ['male', 'group D', 'high school', 'free/reduced', 'none', '42', '39', '34'], ['female', 'group C', 'some college', 'standard', 'none', '73', '80', '82'], ['female', 'group C', 'some college', 'free/reduced', 'none', '76', '83', '88'], ['female', 'group D', \"associate's degree\", 'standard', 'none', '71', '71', '74'], ['female', 'group A', 'some college', 'standard', 'none', '58', '70', '67'], ['female', 'group D', 'some high school', 'standard', 'none', '73', '86', '82'], ['female', 'group C', \"bachelor's degree\", 'standard', 'none', '65', '72', '74'], ['male', 'group C', 'high school', 'free/reduced', 'none', '27', '34', '36'], ['male', 'group C', 'high school', 'standard', 'none', '71', '79', '71'], ['male', 'group C', \"associate's degree\", 'free/reduced', 'completed', '43', '45', '50'], ['female', 'group B', 'some college', 'standard', 'none', '79', '86', '92'], ['male', 'group C', \"associate's degree\", 'free/reduced', 'completed', '78', '81', '82'], ['male', 'group B', 'some high school', 'standard', 'completed', '65', '66', '62'], ['female', 'group E', 'some college', 'standard', 'completed', '63', '72', '70'], ['female', 'group D', 'some college', 'free/reduced', 'none', '58', '67', '62'], ['female', 'group D', \"bachelor's degree\", 'standard', 'none', '65', '67', '62'], ['male', 'group B', 'some college', 'standard', 'none', '79', '67', '67'], ['male', 'group D', \"bachelor's degree\", 'standard', 'completed', '68', '74', '74'], ['female', 'group D', \"associate's degree\", 'standard', 'none', '85', '91', '89'], ['male', 'group B', 'high school', 'standard', 'completed', '60', '44', '47'], ['male', 'group C', 'some college', 'standard', 'completed', '98', '86', '90'], ['female', 'group C', 'some college', 'standard', 'none', '58', '67', '72'], ['female', 'group D', \"master's degree\", 'standard', 'none', '87', '100', '100'], ['male', 'group E', \"associate's degree\", 'standard', 'completed', '66', '63', '64'], ['female', 'group B', \"associate's degree\", 'free/reduced', 'none', '52', '76', '70'], ['female', 'group B', 'some high school', 'standard', 'none', '70', '64', '72'], ['female', 'group D', \"associate's degree\", 'free/reduced', 'completed', '77', '89', '98'], ['male', 'group C', 'high school', 'standard', 'none', '62', '55', '49'], ['male', 'group A', \"associate's degree\", 'standard', 'none', '54', '53', '47'], ['female', 'group D', 'some college', 'standard', 'none', '51', '58', '54'], ['female', 'group E', \"bachelor's degree\", 'standard', 'completed', '99', '100', '100'], ['male', 'group C', 'high school', 'standard', 'none', '84', '77', '74'], ['female', 'group B', \"bachelor's degree\", 'free/reduced', 'none', '75', '85', '82'], ['female', 'group D', \"bachelor's degree\", 'standard', 'none', '78', '82', '79'], ['female', 'group D', 'some high school', 'standard', 'none', '51', '63', '61'], ['female', 'group C', 'some college', 'standard', 'none', '55', '69', '65'], ['female', 'group C', \"bachelor's degree\", 'standard', 'completed', '79', '92', '89'], ['male', 'group B', \"associate's degree\", 'standard', 'completed', '91', '89', '92'], ['female', 'group C', 'some college', 'standard', 'completed', '88', '93', '93'], ['male', 'group D', 'high school', 'free/reduced', 'none', '63', '57', '56'], ['male', 'group E', 'some college', 'standard', 'none', '83', '80', '73'], ['female', 'group B', 'high school', 'standard', 'none', '87', '95', '86'], ['male', 'group B', 'some high school', 'standard', 'none', '72', '68', '67'], ['male', 'group D', 'some college', 'standard', 'completed', '65', '77', '74'], ['male', 'group D', \"master's degree\", 'standard', 'none', '82', '82', '74'], ['female', 'group A', \"bachelor's degree\", 'standard', 'none', '51', '49', '51'], ['male', 'group D', \"master's degree\", 'standard', 'none', '89', '84', '82'], ['male', 'group C', 'some high school', 'free/reduced', 'completed', '53', '37', '40'], ['male', 'group E', 'some college', 'free/reduced', 'completed', '87', '74', '70'], ['female', 'group C', 'some college', 'standard', 'completed', '75', '81', '84'], ['male', 'group D', \"bachelor's degree\", 'free/reduced', 'completed', '74', '79', '75'], ['male', 'group C', \"bachelor's degree\", 'standard', 'none', '58', '55', '48'], ['male', 'group B', 'some high school', 'standard', 'completed', '51', '54', '41'], ['male', 'group E', 'high school', 'standard', 'none', '70', '55', '56'], ['female', 'group C', \"associate's degree\", 'standard', 'none', '59', '66', '67'], ['male', 'group D', 'some college', 'standard', 'completed', '71', '61', '69'], ['female', 'group D', 'some high school', 'standard', 'none', '76', '72', '71'], ['female', 'group C', 'some college', 'free/reduced', 'none', '59', '62', '64'], ['female', 'group E', 'some college', 'free/reduced', 'completed', '42', '55', '54'], ['male', 'group A', 'high school', 'standard', 'none', '57', '43', '47'], ['male', 'group D', 'some college', 'standard', 'none', '88', '73', '78'], ['female', 'group C', 'some college', 'free/reduced', 'none', '22', '39', '33'], ['male', 'group B', 'some high school', 'standard', 'none', '88', '84', '75'], ['male', 'group C', \"associate's degree\", 'free/reduced', 'none', '73', '68', '66'], ['female', 'group D', \"bachelor's degree\", 'standard', 'completed', '68', '75', '81'], ['male', 'group E', \"associate's degree\", 'free/reduced', 'completed', '100', '100', '93'], ['male', 'group A', 'some high school', 'standard', 'completed', '62', '67', '69'], ['male', 'group A', \"bachelor's degree\", 'standard', 'none', '77', '67', '68'], ['female', 'group B', \"associate's degree\", 'standard', 'completed', '59', '70', '66'], ['male', 'group D', \"bachelor's degree\", 'standard', 'none', '54', '49', '47'], ['male', 'group D', 'some high school', 'standard', 'none', '62', '67', '61'], ['female', 'group C', 'some college', 'standard', 'completed', '70', '89', '88'], ['female', 'group E', 'high school', 'free/reduced', 'completed', '66', '74', '78'], ['male', 'group B', 'some college', 'free/reduced', 'none', '60', '60', '60'], ['female', 'group B', \"associate's degree\", 'standard', 'completed', '61', '86', '87'], ['male', 'group D', \"associate's degree\", 'free/reduced', 'none', '66', '62', '64'], ['male', 'group B', \"associate's degree\", 'free/reduced', 'completed', '82', '78', '74'], ['female', 'group E', 'some college', 'free/reduced', 'completed', '75', '88', '85'], ['male', 'group B', \"master's degree\", 'free/reduced', 'none', '49', '53', '52'], ['male', 'group C', 'high school', 'standard', 'none', '52', '53', '49'], ['female', 'group E', \"master's degree\", 'standard', 'none', '81', '92', '91'], ['female', 'group C', \"bachelor's degree\", 'standard', 'completed', '96', '100', '100'], ['male', 'group C', 'high school', 'free/reduced', 'completed', '53', '51', '51'], ['female', 'group B', \"master's degree\", 'free/reduced', 'completed', '58', '76', '78'], ['female', 'group B', 'high school', 'standard', 'completed', '68', '83', '78'], ['female', 'group C', 'some college', 'free/reduced', 'completed', '67', '75', '70'], ['male', 'group A', 'high school', 'standard', 'completed', '72', '73', '74'], ['male', 'group E', 'some high school', 'standard', 'none', '94', '88', '78'], ['female', 'group D', 'some college', 'standard', 'none', '79', '86', '81'], ['female', 'group C', \"associate's degree\", 'standard', 'none', '63', '67', '70'], ['female', 'group C', \"bachelor's degree\", 'free/reduced', 'completed', '43', '51', '54'], ['female', 'group C', \"master's degree\", 'standard', 'completed', '81', '91', '87'], ['female', 'group B', 'high school', 'free/reduced', 'completed', '46', '54', '58'], ['female', 'group C', \"associate's degree\", 'standard', 'completed', '71', '77', '77'], ['female', 'group B', \"master's degree\", 'free/reduced', 'completed', '52', '70', '62'], ['female', 'group D', 'some high school', 'standard', 'completed', '97', '100', '100'], ['male', 'group C', \"master's degree\", 'free/reduced', 'completed', '62', '68', '75'], ['female', 'group C', 'some college', 'free/reduced', 'none', '46', '64', '66'], ['female', 'group E', 'high school', 'standard', 'none', '50', '50', '47'], ['female', 'group D', \"associate's degree\", 'standard', 'none', '65', '69', '70'], ['male', 'group C', 'some high school', 'free/reduced', 'completed', '45', '52', '49'], ['male', 'group C', \"associate's degree\", 'free/reduced', 'completed', '65', '67', '65'], ['male', 'group E', 'high school', 'standard', 'none', '80', '76', '65'], ['male', 'group D', 'some high school', 'standard', 'completed', '62', '66', '68'], ['male', 'group B', 'some high school', 'free/reduced', 'none', '48', '52', '45'], ['female', 'group C', \"bachelor's degree\", 'standard', 'none', '77', '88', '87'], ['female', 'group E', \"associate's degree\", 'standard', 'none', '66', '65', '69'], ['male', 'group D', 'some college', 'standard', 'completed', '76', '83', '79'], ['female', 'group B', 'some high school', 'standard', 'none', '62', '64', '66'], ['male', 'group D', 'some college', 'standard', 'completed', '77', '62', '62'], ['female', 'group C', \"master's degree\", 'standard', 'completed', '69', '84', '85'], ['male', 'group D', \"associate's degree\", 'standard', 'none', '61', '55', '52'], ['male', 'group C', 'some high school', 'free/reduced', 'completed', '59', '69', '65'], ['male', 'group E', 'high school', 'free/reduced', 'none', '55', '56', '51'], ['female', 'group B', 'some college', 'free/reduced', 'none', '45', '53', '55'], ['female', 'group B', \"bachelor's degree\", 'free/reduced', 'none', '78', '79', '76'], ['female', 'group C', \"associate's degree\", 'standard', 'completed', '67', '84', '86'], ['female', 'group D', 'some college', 'free/reduced', 'none', '65', '81', '77'], ['male', 'group C', \"associate's degree\", 'standard', 'none', '69', '77', '69'], ['female', 'group B', \"associate's degree\", 'standard', 'none', '57', '69', '68'], ['male', 'group C', 'some college', 'standard', 'none', '59', '41', '42'], ['male', 'group D', 'some high school', 'standard', 'completed', '74', '71', '78'], ['male', 'group E', \"bachelor's degree\", 'standard', 'none', '82', '62', '62'], ['male', 'group E', 'high school', 'standard', 'completed', '81', '80', '76'], ['female', 'group B', 'some college', 'free/reduced', 'none', '74', '81', '76'], ['female', 'group B', 'some college', 'free/reduced', 'none', '58', '61', '66'], ['male', 'group D', 'some high school', 'free/reduced', 'completed', '80', '79', '79'], ['male', 'group C', 'some college', 'free/reduced', 'none', '35', '28', '27'], ['female', 'group C', 'high school', 'free/reduced', 'none', '42', '62', '60'], ['male', 'group C', \"associate's degree\", 'free/reduced', 'completed', '60', '51', '56'], ['male', 'group E', 'high school', 'standard', 'completed', '87', '91', '81'], ['male', 'group B', 'some high school', 'standard', 'completed', '84', '83', '75'], ['female', 'group E', \"associate's degree\", 'free/reduced', 'completed', '83', '86', '88'], ['female', 'group C', 'high school', 'free/reduced', 'none', '34', '42', '39'], ['male', 'group B', 'high school', 'free/reduced', 'none', '66', '77', '70'], ['male', 'group B', 'some high school', 'standard', 'completed', '61', '56', '56'], ['female', 'group D', 'high school', 'standard', 'completed', '56', '68', '74'], ['male', 'group B', \"associate's degree\", 'standard', 'none', '87', '85', '73'], ['female', 'group C', 'some high school', 'free/reduced', 'none', '55', '65', '62'], ['male', 'group D', 'some high school', 'standard', 'none', '86', '80', '75'], ['female', 'group B', \"associate's degree\", 'standard', 'completed', '52', '66', '73'], ['female', 'group E', \"master's degree\", 'free/reduced', 'none', '45', '56', '54'], ['female', 'group C', 'some college', 'standard', 'none', '72', '72', '71'], ['male', 'group D', 'high school', 'standard', 'none', '57', '50', '54'], ['male', 'group A', 'some high school', 'free/reduced', 'none', '68', '72', '64'], ['female', 'group C', 'some college', 'standard', 'completed', '88', '95', '94'], ['male', 'group D', 'some college', 'standard', 'none', '76', '64', '66'], ['male', 'group C', \"associate's degree\", 'standard', 'none', '46', '43', '42'], ['female', 'group B', \"bachelor's degree\", 'standard', 'none', '67', '86', '83'], ['male', 'group E', 'some high school', 'standard', 'none', '92', '87', '78'], ['male', 'group C', \"bachelor's degree\", 'standard', 'completed', '83', '82', '84'], ['male', 'group D', \"associate's degree\", 'standard', 'none', '80', '75', '77'], ['male', 'group D', \"bachelor's degree\", 'free/reduced', 'none', '63', '66', '67'], ['female', 'group D', 'some high school', 'standard', 'completed', '64', '60', '74'], ['male', 'group B', 'some college', 'standard', 'none', '54', '52', '51'], ['male', 'group C', \"associate's degree\", 'standard', 'none', '84', '80', '80'], ['male', 'group D', 'high school', 'free/reduced', 'completed', '73', '68', '66'], ['female', 'group E', \"bachelor's degree\", 'standard', 'none', '80', '83', '83'], ['female', 'group D', 'high school', 'standard', 'none', '56', '52', '55'], ['male', 'group E', 'some college', 'standard', 'none', '59', '51', '43'], ['male', 'group D', 'some high school', 'standard', 'none', '75', '74', '69'], ['male', 'group C', \"associate's degree\", 'standard', 'none', '85', '76', '71'], ['male', 'group E', \"associate's degree\", 'standard', 'none', '89', '76', '74'], ['female', 'group B', 'high school', 'standard', 'completed', '58', '70', '68'], ['female', 'group B', 'high school', 'standard', 'none', '65', '64', '62'], ['male', 'group C', 'high school', 'standard', 'none', '68', '60', '53'], ['male', 'group A', 'some high school', 'standard', 'completed', '47', '49', '49'], ['female', 'group D', 'some college', 'free/reduced', 'none', '71', '83', '83'], ['female', 'group B', 'some high school', 'standard', 'completed', '60', '70', '70'], ['male', 'group D', \"master's degree\", 'standard', 'none', '80', '80', '72'], ['male', 'group D', 'high school', 'standard', 'none', '54', '52', '52'], ['female', 'group E', 'some college', 'standard', 'none', '62', '73', '70'], ['female', 'group C', \"associate's degree\", 'free/reduced', 'none', '64', '73', '68'], ['male', 'group C', \"associate's degree\", 'standard', 'completed', '78', '77', '77'], ['female', 'group B', 'some college', 'standard', 'none', '70', '75', '78'], ['female', 'group C', \"master's degree\", 'free/reduced', 'completed', '65', '81', '81'], ['female', 'group C', 'some high school', 'free/reduced', 'completed', '64', '79', '77'], ['male', 'group C', 'some college', 'standard', 'completed', '79', '79', '78'], ['female', 'group C', 'some high school', 'free/reduced', 'none', '44', '50', '51'], ['female', 'group E', 'high school', 'standard', 'none', '99', '93', '90'], ['male', 'group D', 'high school', 'standard', 'none', '76', '73', '68'], ['male', 'group D', 'some high school', 'free/reduced', 'none', '59', '42', '41'], ['female', 'group C', \"bachelor's degree\", 'standard', 'none', '63', '75', '81'], ['female', 'group D', 'high school', 'standard', 'none', '69', '72', '77'], ['female', 'group D', \"associate's degree\", 'standard', 'completed', '88', '92', '95'], ['female', 'group E', 'some college', 'free/reduced', 'none', '71', '76', '70'], ['male', 'group C', \"bachelor's degree\", 'standard', 'none', '69', '63', '61'], ['male', 'group C', 'some college', 'standard', 'none', '58', '49', '42'], ['female', 'group D', \"associate's degree\", 'free/reduced', 'none', '47', '53', '58'], ['female', 'group D', 'some college', 'standard', 'none', '65', '70', '71'], ['male', 'group B', 'some college', 'standard', 'completed', '88', '85', '76'], ['male', 'group C', \"bachelor's degree\", 'standard', 'none', '83', '78', '73'], ['female', 'group C', 'some high school', 'standard', 'completed', '85', '92', '93'], ['female', 'group E', 'high school', 'standard', 'completed', '59', '63', '75'], ['female', 'group C', 'some high school', 'free/reduced', 'none', '65', '86', '80'], ['male', 'group B', \"bachelor's degree\", 'free/reduced', 'none', '73', '56', '57'], ['male', 'group D', 'high school', 'standard', 'none', '53', '52', '42'], ['male', 'group D', 'high school', 'standard', 'none', '45', '48', '46'], ['female', 'group D', \"bachelor's degree\", 'free/reduced', 'none', '73', '79', '84'], ['female', 'group D', 'some college', 'free/reduced', 'completed', '70', '78', '78'], ['female', 'group B', 'some high school', 'standard', 'none', '37', '46', '46'], ['male', 'group B', \"associate's degree\", 'standard', 'completed', '81', '82', '82'], ['male', 'group E', \"associate's degree\", 'standard', 'completed', '97', '82', '88'], ['female', 'group B', 'some high school', 'standard', 'none', '67', '89', '82'], ['male', 'group B', \"bachelor's degree\", 'free/reduced', 'none', '88', '75', '76'], ['male', 'group E', 'some high school', 'standard', 'completed', '77', '76', '77'], ['male', 'group C', \"associate's degree\", 'standard', 'none', '76', '70', '68'], ['male', 'group D', 'some high school', 'standard', 'none', '86', '73', '70'], ['male', 'group C', 'some high school', 'standard', 'completed', '63', '60', '57'], ['female', 'group E', \"bachelor's degree\", 'standard', 'none', '65', '73', '75'], ['male', 'group D', 'high school', 'free/reduced', 'completed', '78', '77', '80'], ['male', 'group B', \"associate's degree\", 'free/reduced', 'none', '67', '62', '60'], ['male', 'group A', 'some high school', 'standard', 'completed', '46', '41', '43'], ['male', 'group E', \"associate's degree\", 'standard', 'completed', '71', '74', '68'], ['male', 'group C', 'high school', 'free/reduced', 'completed', '40', '46', '50'], ['male', 'group D', \"associate's degree\", 'free/reduced', 'none', '90', '87', '75'], ['male', 'group A', 'some college', 'free/reduced', 'completed', '81', '78', '81'], ['male', 'group D', 'some high school', 'free/reduced', 'none', '56', '54', '52'], ['female', 'group C', \"associate's degree\", 'standard', 'completed', '67', '84', '81'], ['male', 'group B', \"associate's degree\", 'standard', 'none', '80', '76', '64'], ['female', 'group C', \"associate's degree\", 'standard', 'completed', '74', '75', '83'], ['male', 'group A', 'some college', 'standard', 'none', '69', '67', '69'], ['male', 'group E', 'some college', 'standard', 'completed', '99', '87', '81'], ['male', 'group C', 'some high school', 'standard', 'none', '51', '52', '44'], ['female', 'group B', \"associate's degree\", 'free/reduced', 'none', '53', '71', '67'], ['female', 'group D', 'high school', 'free/reduced', 'none', '49', '57', '52'], ['female', 'group B', \"associate's degree\", 'standard', 'none', '73', '76', '80'], ['male', 'group B', \"bachelor's degree\", 'standard', 'none', '66', '60', '57'], ['male', 'group D', \"bachelor's degree\", 'standard', 'completed', '67', '61', '68'], ['female', 'group C', \"associate's degree\", 'free/reduced', 'completed', '68', '67', '69'], ['female', 'group C', \"bachelor's degree\", 'standard', 'completed', '59', '64', '75'], ['male', 'group C', 'high school', 'standard', 'none', '71', '66', '65'], ['female', 'group D', \"master's degree\", 'standard', 'completed', '77', '82', '91'], ['male', 'group C', \"associate's degree\", 'standard', 'none', '83', '72', '78'], ['male', 'group B', \"bachelor's degree\", 'standard', 'none', '63', '71', '69'], ['female', 'group D', \"associate's degree\", 'free/reduced', 'none', '56', '65', '63'], ['female', 'group C', 'high school', 'free/reduced', 'completed', '67', '79', '84'], ['female', 'group E', 'high school', 'standard', 'none', '75', '86', '79'], ['female', 'group C', 'some college', 'standard', 'none', '71', '81', '80'], ['female', 'group C', 'some high school', 'free/reduced', 'none', '43', '53', '53'], ['female', 'group C', 'high school', 'free/reduced', 'none', '41', '46', '43'], ['female', 'group C', 'some college', 'standard', 'none', '82', '90', '94'], ['male', 'group C', 'some college', 'standard', 'none', '61', '61', '62'], ['male', 'group A', 'some college', 'free/reduced', 'none', '28', '23', '19'], ['male', 'group C', \"associate's degree\", 'standard', 'completed', '82', '75', '77'], ['female', 'group B', 'some high school', 'standard', 'none', '41', '55', '51'], ['male', 'group C', 'high school', 'standard', 'none', '71', '60', '61'], ['male', 'group C', \"associate's degree\", 'standard', 'none', '47', '37', '35'], ['male', 'group E', \"associate's degree\", 'standard', 'completed', '62', '56', '53'], ['male', 'group B', \"associate's degree\", 'standard', 'none', '90', '78', '81'], ['female', 'group C', \"bachelor's degree\", 'standard', 'none', '83', '93', '95'], ['female', 'group B', 'some college', 'free/reduced', 'none', '61', '68', '66'], ['male', 'group D', 'some high school', 'standard', 'completed', '76', '70', '69'], ['male', 'group C', \"associate's degree\", 'standard', 'none', '49', '51', '43'], ['female', 'group B', 'some high school', 'free/reduced', 'none', '24', '38', '27'], ['female', 'group D', 'some high school', 'free/reduced', 'completed', '35', '55', '60'], ['male', 'group C', 'high school', 'free/reduced', 'none', '58', '61', '52'], ['female', 'group C', 'high school', 'standard', 'none', '61', '73', '63'], ['female', 'group B', 'high school', 'standard', 'completed', '69', '76', '74'], ['male', 'group D', \"associate's degree\", 'standard', 'completed', '67', '72', '67'], ['male', 'group D', 'some college', 'standard', 'none', '79', '73', '67'], ['female', 'group C', 'high school', 'standard', 'none', '72', '80', '75'], ['male', 'group B', 'some college', 'standard', 'none', '62', '61', '57'], ['female', 'group C', \"bachelor's degree\", 'standard', 'completed', '77', '94', '95'], ['male', 'group D', 'high school', 'free/reduced', 'none', '75', '74', '66'], ['male', 'group E', \"associate's degree\", 'standard', 'none', '87', '74', '76'], ['female', 'group B', \"bachelor's degree\", 'standard', 'none', '52', '65', '69'], ['male', 'group E', 'some college', 'standard', 'none', '66', '57', '52'], ['female', 'group C', 'some college', 'standard', 'completed', '63', '78', '80'], ['female', 'group C', \"associate's degree\", 'standard', 'none', '46', '58', '57'], ['female', 'group C', 'some college', 'standard', 'none', '59', '71', '70'], ['female', 'group B', \"bachelor's degree\", 'standard', 'none', '61', '72', '70'], ['male', 'group A', \"associate's degree\", 'standard', 'none', '63', '61', '61'], ['female', 'group C', 'some college', 'free/reduced', 'completed', '42', '66', '69'], ['male', 'group D', 'some college', 'free/reduced', 'none', '59', '62', '61'], ['female', 'group D', 'some college', 'standard', 'none', '80', '90', '89'], ['female', 'group B', 'high school', 'standard', 'none', '58', '62', '59'], ['male', 'group B', 'some high school', 'standard', 'completed', '85', '84', '78'], ['female', 'group C', 'some college', 'standard', 'none', '52', '58', '58'], ['female', 'group D', 'some high school', 'free/reduced', 'none', '27', '34', '32'], ['male', 'group C', 'some college', 'standard', 'none', '59', '60', '58'], ['male', 'group A', \"bachelor's degree\", 'free/reduced', 'completed', '49', '58', '60'], ['male', 'group C', 'high school', 'standard', 'completed', '69', '58', '53'], ['male', 'group C', \"bachelor's degree\", 'free/reduced', 'none', '61', '66', '61'], ['female', 'group A', 'some high school', 'free/reduced', 'none', '44', '64', '58'], ['female', 'group D', 'some high school', 'standard', 'none', '73', '84', '85'], ['male', 'group E', 'some college', 'standard', 'none', '84', '77', '71'], ['female', 'group C', 'some college', 'free/reduced', 'completed', '45', '73', '70'], ['male', 'group D', 'some high school', 'standard', 'none', '74', '74', '72'], ['female', 'group D', 'some college', 'standard', 'completed', '82', '97', '96'], ['female', 'group D', \"bachelor's degree\", 'standard', 'none', '59', '70', '73'], ['male', 'group E', \"associate's degree\", 'free/reduced', 'none', '46', '43', '41'], ['female', 'group D', 'some high school', 'standard', 'none', '80', '90', '82'], ['female', 'group D', \"master's degree\", 'free/reduced', 'completed', '85', '95', '100'], ['female', 'group A', 'some high school', 'standard', 'none', '71', '83', '77'], ['male', 'group A', \"bachelor's degree\", 'standard', 'none', '66', '64', '62'], ['female', 'group B', \"associate's degree\", 'standard', 'none', '80', '86', '83'], ['male', 'group C', \"associate's degree\", 'standard', 'completed', '87', '100', '95'], ['male', 'group C', \"master's degree\", 'free/reduced', 'none', '79', '81', '71'], ['female', 'group E', 'some high school', 'free/reduced', 'none', '38', '49', '45'], ['female', 'group A', 'some high school', 'free/reduced', 'none', '38', '43', '43'], ['female', 'group E', 'some college', 'standard', 'none', '67', '76', '75'], ['female', 'group E', \"bachelor's degree\", 'standard', 'none', '64', '73', '70'], ['female', 'group C', \"associate's degree\", 'free/reduced', 'none', '57', '78', '67'], ['female', 'group D', 'high school', 'standard', 'none', '62', '64', '64'], ['male', 'group D', \"master's degree\", 'standard', 'none', '73', '70', '75'], ['male', 'group E', 'some high school', 'free/reduced', 'completed', '73', '67', '59'], ['female', 'group D', 'some college', 'standard', 'none', '77', '68', '77'], ['male', 'group E', 'some college', 'standard', 'none', '76', '67', '67'], ['male', 'group C', \"associate's degree\", 'standard', 'completed', '57', '54', '56'], ['female', 'group C', 'some high school', 'standard', 'completed', '65', '74', '77'], ['male', 'group A', 'high school', 'free/reduced', 'none', '48', '45', '41'], ['female', 'group B', 'high school', 'free/reduced', 'none', '50', '67', '63'], ['female', 'group C', \"associate's degree\", 'standard', 'none', '85', '89', '95'], ['male', 'group B', 'some high school', 'standard', 'none', '74', '63', '57'], ['male', 'group D', 'some high school', 'standard', 'none', '60', '59', '54'], ['female', 'group C', 'some high school', 'standard', 'completed', '59', '54', '67'], ['male', 'group A', 'some college', 'standard', 'none', '53', '43', '43'], ['female', 'group A', 'some college', 'free/reduced', 'none', '49', '65', '55'], ['female', 'group D', 'high school', 'standard', 'completed', '88', '99', '100'], ['female', 'group C', 'high school', 'standard', 'none', '54', '59', '62'], ['female', 'group C', 'some high school', 'standard', 'none', '63', '73', '68'], ['male', 'group B', \"associate's degree\", 'standard', 'completed', '65', '65', '63'], ['female', 'group B', \"associate's degree\", 'standard', 'none', '82', '80', '77'], ['female', 'group D', 'high school', 'free/reduced', 'completed', '52', '57', '56'], ['male', 'group D', \"associate's degree\", 'standard', 'completed', '87', '84', '85'], ['female', 'group D', \"master's degree\", 'standard', 'completed', '70', '71', '74'], ['male', 'group E', 'some college', 'standard', 'completed', '84', '83', '78'], ['male', 'group D', \"associate's degree\", 'standard', 'none', '71', '66', '60'], ['male', 'group B', 'some high school', 'standard', 'completed', '63', '67', '67'], ['female', 'group C', \"bachelor's degree\", 'free/reduced', 'completed', '51', '72', '79'], ['male', 'group E', 'high school', 'standard', 'none', '84', '73', '69'], ['male', 'group C', \"bachelor's degree\", 'standard', 'completed', '71', '74', '68'], ['male', 'group C', \"associate's degree\", 'standard', 'none', '74', '73', '67'], ['male', 'group D', 'some college', 'standard', 'none', '68', '59', '62'], ['male', 'group E', 'high school', 'free/reduced', 'completed', '57', '56', '54'], ['female', 'group C', \"associate's degree\", 'free/reduced', 'completed', '82', '93', '93'], ['female', 'group D', 'high school', 'standard', 'completed', '57', '58', '64'], ['female', 'group D', \"master's degree\", 'free/reduced', 'completed', '47', '58', '67'], ['female', 'group A', 'some high school', 'standard', 'completed', '59', '85', '80'], ['male', 'group B', 'some college', 'free/reduced', 'none', '41', '39', '34'], ['female', 'group C', 'some college', 'free/reduced', 'none', '62', '67', '62'], ['male', 'group C', \"bachelor's degree\", 'standard', 'none', '86', '83', '86'], ['male', 'group C', 'some high school', 'free/reduced', 'none', '69', '71', '65'], ['male', 'group A', 'some high school', 'free/reduced', 'none', '65', '59', '53'], ['male', 'group C', 'some high school', 'free/reduced', 'none', '68', '63', '54'], ['male', 'group C', \"associate's degree\", 'free/reduced', 'none', '64', '66', '59'], ['female', 'group C', 'high school', 'standard', 'none', '61', '72', '70'], ['male', 'group C', 'high school', 'standard', 'none', '61', '56', '55'], ['female', 'group A', 'some high school', 'free/reduced', 'none', '47', '59', '50'], ['male', 'group C', 'some high school', 'standard', 'none', '73', '66', '66'], ['male', 'group C', 'some college', 'free/reduced', 'completed', '50', '48', '53'], ['male', 'group D', \"associate's degree\", 'standard', 'none', '75', '68', '64'], ['male', 'group D', \"associate's degree\", 'free/reduced', 'none', '75', '66', '73'], ['male', 'group C', 'high school', 'standard', 'none', '70', '56', '51'], ['male', 'group D', 'some high school', 'standard', 'completed', '89', '88', '82'], ['female', 'group C', 'some college', 'standard', 'completed', '67', '81', '79'], ['female', 'group D', 'high school', 'standard', 'none', '78', '81', '80'], ['female', 'group A', 'some high school', 'free/reduced', 'none', '59', '73', '69'], ['female', 'group B', \"associate's degree\", 'standard', 'none', '73', '83', '76'], ['male', 'group A', 'some high school', 'free/reduced', 'none', '79', '82', '73'], ['female', 'group C', 'some high school', 'standard', 'completed', '67', '74', '77'], ['male', 'group D', 'some college', 'free/reduced', 'none', '69', '66', '60'], ['male', 'group C', 'high school', 'standard', 'completed', '86', '81', '80'], ['male', 'group B', 'high school', 'standard', 'none', '47', '46', '42'], ['male', 'group B', \"associate's degree\", 'standard', 'none', '81', '73', '72'], ['female', 'group C', 'some college', 'free/reduced', 'completed', '64', '85', '85'], ['female', 'group E', 'some college', 'standard', 'none', '100', '92', '97'], ['female', 'group C', \"associate's degree\", 'free/reduced', 'none', '65', '77', '74'], ['male', 'group C', 'some college', 'free/reduced', 'none', '65', '58', '49'], ['female', 'group C', \"associate's degree\", 'free/reduced', 'none', '53', '61', '62'], ['male', 'group C', \"bachelor's degree\", 'free/reduced', 'none', '37', '56', '47'], ['female', 'group D', \"bachelor's degree\", 'standard', 'none', '79', '89', '89'], ['male', 'group D', \"associate's degree\", 'free/reduced', 'none', '53', '54', '48'], ['female', 'group E', \"bachelor's degree\", 'standard', 'none', '100', '100', '100'], ['male', 'group B', 'high school', 'standard', 'completed', '72', '65', '68'], ['male', 'group C', \"bachelor's degree\", 'free/reduced', 'none', '53', '58', '55'], ['male', 'group B', 'some college', 'free/reduced', 'none', '54', '54', '45'], ['female', 'group E', 'some college', 'standard', 'none', '71', '70', '76'], ['female', 'group C', 'some college', 'free/reduced', 'none', '77', '90', '91'], ['male', 'group A', \"bachelor's degree\", 'standard', 'completed', '75', '58', '62'], ['female', 'group C', 'some college', 'standard', 'none', '84', '87', '91'], ['female', 'group D', \"associate's degree\", 'free/reduced', 'none', '26', '31', '38'], ['male', 'group A', 'high school', 'free/reduced', 'completed', '72', '67', '65'], ['female', 'group A', 'high school', 'free/reduced', 'completed', '77', '88', '85'], ['male', 'group C', 'some college', 'standard', 'none', '91', '74', '76'], ['female', 'group C', \"associate's degree\", 'standard', 'completed', '83', '85', '90'], ['female', 'group C', 'high school', 'standard', 'none', '63', '69', '74'], ['female', 'group C', \"associate's degree\", 'standard', 'completed', '68', '86', '84'], ['female', 'group D', 'some high school', 'standard', 'none', '59', '67', '61'], ['female', 'group B', \"associate's degree\", 'standard', 'completed', '90', '90', '91'], ['female', 'group D', \"bachelor's degree\", 'standard', 'completed', '71', '76', '83'], ['male', 'group E', \"bachelor's degree\", 'standard', 'completed', '76', '62', '66'], ['male', 'group D', \"associate's degree\", 'standard', 'none', '80', '68', '72'], ['female', 'group D', \"master's degree\", 'standard', 'none', '55', '64', '70'], ['male', 'group E', \"associate's degree\", 'standard', 'none', '76', '71', '67'], ['male', 'group B', 'high school', 'standard', 'completed', '73', '71', '68'], ['female', 'group D', \"associate's degree\", 'free/reduced', 'none', '52', '59', '56'], ['male', 'group C', 'some college', 'free/reduced', 'none', '68', '68', '61'], ['male', 'group A', 'high school', 'standard', 'none', '59', '52', '46'], ['female', 'group B', \"associate's degree\", 'standard', 'none', '49', '52', '54'], ['male', 'group C', 'high school', 'standard', 'none', '70', '74', '71'], ['male', 'group D', 'some college', 'free/reduced', 'none', '61', '47', '56'], ['female', 'group C', \"associate's degree\", 'free/reduced', 'none', '60', '75', '74'], ['male', 'group B', 'some high school', 'standard', 'completed', '64', '53', '57'], ['male', 'group A', \"associate's degree\", 'free/reduced', 'completed', '79', '82', '82'], ['female', 'group A', \"associate's degree\", 'free/reduced', 'none', '65', '85', '76'], ['female', 'group C', \"associate's degree\", 'standard', 'none', '64', '64', '70'], ['female', 'group C', 'some college', 'standard', 'none', '83', '83', '90'], ['female', 'group C', \"bachelor's degree\", 'standard', 'none', '81', '88', '90'], ['female', 'group B', 'high school', 'standard', 'none', '54', '64', '68'], ['male', 'group D', 'high school', 'standard', 'completed', '68', '64', '66'], ['female', 'group C', 'some college', 'standard', 'none', '54', '48', '52'], ['female', 'group D', 'some college', 'free/reduced', 'completed', '59', '78', '76'], ['female', 'group B', 'some high school', 'standard', 'none', '66', '69', '68'], ['male', 'group E', 'some college', 'standard', 'none', '76', '71', '72'], ['female', 'group D', \"master's degree\", 'standard', 'none', '74', '79', '82'], ['female', 'group B', \"associate's degree\", 'standard', 'completed', '94', '87', '92'], ['male', 'group C', 'some college', 'free/reduced', 'none', '63', '61', '54'], ['female', 'group E', \"associate's degree\", 'standard', 'completed', '95', '89', '92'], ['female', 'group D', \"master's degree\", 'free/reduced', 'none', '40', '59', '54'], ['female', 'group B', 'some high school', 'standard', 'none', '82', '82', '80'], ['male', 'group A', 'high school', 'standard', 'none', '68', '70', '66'], ['male', 'group B', \"bachelor's degree\", 'free/reduced', 'none', '55', '59', '54'], ['male', 'group C', \"master's degree\", 'standard', 'none', '79', '78', '77'], ['female', 'group C', \"bachelor's degree\", 'standard', 'none', '86', '92', '87'], ['male', 'group D', 'some college', 'standard', 'none', '76', '71', '73'], ['male', 'group A', 'some high school', 'standard', 'none', '64', '50', '43'], ['male', 'group D', 'some high school', 'free/reduced', 'none', '62', '49', '52'], ['female', 'group B', 'some high school', 'standard', 'completed', '54', '61', '62'], ['female', 'group B', \"master's degree\", 'free/reduced', 'completed', '77', '97', '94'], ['female', 'group C', 'some high school', 'standard', 'completed', '76', '87', '85'], ['female', 'group D', 'some college', 'standard', 'none', '74', '89', '84'], ['female', 'group E', 'some college', 'standard', 'completed', '66', '74', '73'], ['female', 'group D', 'some high school', 'standard', 'completed', '66', '78', '78'], ['female', 'group B', 'high school', 'free/reduced', 'completed', '67', '78', '79'], ['male', 'group D', 'some college', 'standard', 'none', '71', '49', '52'], ['female', 'group C', \"associate's degree\", 'standard', 'none', '91', '86', '84'], ['male', 'group D', \"bachelor's degree\", 'standard', 'none', '69', '58', '57'], ['male', 'group C', \"master's degree\", 'free/reduced', 'none', '54', '59', '50'], ['male', 'group C', 'high school', 'standard', 'completed', '53', '52', '49'], ['male', 'group E', 'some college', 'standard', 'none', '68', '60', '59'], ['male', 'group C', 'some high school', 'free/reduced', 'completed', '56', '61', '60'], ['female', 'group C', 'high school', 'free/reduced', 'none', '36', '53', '43'], ['female', 'group D', \"bachelor's degree\", 'free/reduced', 'none', '29', '41', '47'], ['female', 'group C', \"associate's degree\", 'standard', 'none', '62', '74', '70'], ['female', 'group C', \"associate's degree\", 'standard', 'completed', '68', '67', '73'], ['female', 'group C', 'some high school', 'standard', 'none', '47', '54', '53'], ['male', 'group E', \"associate's degree\", 'standard', 'completed', '62', '61', '58'], ['female', 'group E', \"associate's degree\", 'standard', 'completed', '79', '88', '94'], ['male', 'group B', 'high school', 'standard', 'completed', '73', '69', '68'], ['female', 'group C', \"bachelor's degree\", 'free/reduced', 'completed', '66', '83', '83'], ['male', 'group C', \"associate's degree\", 'standard', 'completed', '51', '60', '58'], ['female', 'group D', 'high school', 'standard', 'none', '51', '66', '62'], ['male', 'group E', \"bachelor's degree\", 'standard', 'completed', '85', '66', '71'], ['male', 'group A', \"associate's degree\", 'standard', 'completed', '97', '92', '86'], ['male', 'group C', 'high school', 'standard', 'completed', '75', '69', '68'], ['male', 'group D', \"associate's degree\", 'free/reduced', 'completed', '79', '82', '80'], ['female', 'group C', \"associate's degree\", 'standard', 'none', '81', '77', '79'], ['female', 'group D', \"associate's degree\", 'standard', 'none', '82', '95', '89'], ['female', 'group D', \"master's degree\", 'standard', 'none', '64', '63', '66'], ['male', 'group E', 'some high school', 'free/reduced', 'completed', '78', '83', '80'], ['female', 'group A', 'some high school', 'standard', 'completed', '92', '100', '97'], ['male', 'group C', 'high school', 'standard', 'completed', '72', '67', '64'], ['female', 'group C', 'high school', 'free/reduced', 'none', '62', '67', '64'], ['male', 'group C', \"master's degree\", 'standard', 'none', '79', '72', '69'], ['male', 'group C', 'some high school', 'free/reduced', 'none', '79', '76', '65'], ['male', 'group B', \"bachelor's degree\", 'free/reduced', 'completed', '87', '90', '88'], ['female', 'group B', \"associate's degree\", 'standard', 'none', '40', '48', '50'], ['male', 'group D', 'some college', 'free/reduced', 'none', '77', '62', '64'], ['male', 'group E', \"associate's degree\", 'standard', 'none', '53', '45', '40'], ['female', 'group C', 'some college', 'free/reduced', 'none', '32', '39', '33'], ['female', 'group C', \"associate's degree\", 'standard', 'completed', '55', '72', '79'], ['male', 'group C', \"master's degree\", 'free/reduced', 'none', '61', '67', '66'], ['female', 'group B', \"associate's degree\", 'free/reduced', 'none', '53', '70', '70'], ['male', 'group D', 'some high school', 'standard', 'none', '73', '66', '62'], ['female', 'group D', 'some college', 'standard', 'completed', '74', '75', '79'], ['female', 'group C', 'some college', 'standard', 'none', '63', '74', '74'], ['male', 'group C', \"bachelor's degree\", 'standard', 'completed', '96', '90', '92'], ['female', 'group D', 'some college', 'free/reduced', 'completed', '63', '80', '80'], ['male', 'group B', \"bachelor's degree\", 'free/reduced', 'none', '48', '51', '46'], ['male', 'group B', \"associate's degree\", 'standard', 'none', '48', '43', '45'], ['female', 'group E', \"bachelor's degree\", 'free/reduced', 'completed', '92', '100', '100'], ['female', 'group D', \"master's degree\", 'free/reduced', 'completed', '61', '71', '78'], ['male', 'group B', 'high school', 'free/reduced', 'none', '63', '48', '47'], ['male', 'group D', \"bachelor's degree\", 'free/reduced', 'none', '68', '68', '67'], ['male', 'group B', 'some college', 'standard', 'completed', '71', '75', '70'], ['male', 'group A', \"bachelor's degree\", 'standard', 'none', '91', '96', '92'], ['female', 'group C', 'some college', 'standard', 'none', '53', '62', '56'], ['female', 'group C', 'high school', 'free/reduced', 'completed', '50', '66', '64'], ['female', 'group E', 'high school', 'standard', 'none', '74', '81', '71'], ['male', 'group A', \"associate's degree\", 'free/reduced', 'completed', '40', '55', '53'], ['male', 'group A', 'some college', 'standard', 'completed', '61', '51', '52'], ['female', 'group B', 'high school', 'standard', 'none', '81', '91', '89'], ['female', 'group B', 'some college', 'free/reduced', 'completed', '48', '56', '58'], ['female', 'group D', \"master's degree\", 'standard', 'none', '53', '61', '68'], ['female', 'group D', 'some high school', 'standard', 'none', '81', '97', '96'], ['female', 'group E', 'some high school', 'standard', 'none', '77', '79', '80'], ['female', 'group D', \"bachelor's degree\", 'free/reduced', 'none', '63', '73', '78'], ['female', 'group D', \"associate's degree\", 'standard', 'completed', '73', '75', '80'], ['female', 'group D', 'some college', 'standard', 'none', '69', '77', '77'], ['female', 'group C', \"associate's degree\", 'standard', 'none', '65', '76', '76'], ['female', 'group A', 'high school', 'standard', 'none', '55', '73', '73'], ['female', 'group C', \"bachelor's degree\", 'free/reduced', 'none', '44', '63', '62'], ['female', 'group C', 'some college', 'standard', 'none', '54', '64', '65'], ['female', 'group A', 'some high school', 'standard', 'none', '48', '66', '65'], ['male', 'group C', 'some college', 'free/reduced', 'none', '58', '57', '54'], ['male', 'group A', 'some high school', 'standard', 'none', '71', '62', '50'], ['male', 'group E', \"bachelor's degree\", 'standard', 'none', '68', '68', '64'], ['female', 'group E', 'high school', 'standard', 'none', '74', '76', '73'], ['female', 'group C', \"bachelor's degree\", 'standard', 'completed', '92', '100', '99'], ['female', 'group C', \"bachelor's degree\", 'standard', 'completed', '56', '79', '72'], ['male', 'group B', 'high school', 'free/reduced', 'none', '30', '24', '15'], ['male', 'group A', 'some high school', 'standard', 'none', '53', '54', '48'], ['female', 'group D', 'high school', 'standard', 'none', '69', '77', '73'], ['female', 'group D', 'some high school', 'standard', 'none', '65', '82', '81'], ['female', 'group D', \"master's degree\", 'standard', 'none', '54', '60', '63'], ['female', 'group C', 'high school', 'standard', 'none', '29', '29', '30'], ['female', 'group E', 'some college', 'standard', 'none', '76', '78', '80'], ['male', 'group D', 'high school', 'free/reduced', 'none', '60', '57', '51'], ['male', 'group D', \"master's degree\", 'free/reduced', 'completed', '84', '89', '90'], ['male', 'group C', 'some high school', 'standard', 'none', '75', '72', '62'], ['female', 'group C', \"associate's degree\", 'standard', 'none', '85', '84', '82'], ['female', 'group C', \"master's degree\", 'free/reduced', 'none', '40', '58', '54'], ['female', 'group E', 'some college', 'standard', 'none', '61', '64', '62'], ['female', 'group B', \"associate's degree\", 'standard', 'none', '58', '63', '65'], ['male', 'group D', 'some college', 'free/reduced', 'completed', '69', '60', '63'], ['female', 'group C', 'some college', 'standard', 'none', '58', '59', '66'], ['male', 'group C', \"bachelor's degree\", 'standard', 'completed', '94', '90', '91'], ['female', 'group C', \"associate's degree\", 'standard', 'none', '65', '77', '74'], ['female', 'group A', \"associate's degree\", 'standard', 'none', '82', '93', '93'], ['female', 'group C', 'high school', 'standard', 'none', '60', '68', '72'], ['female', 'group E', \"bachelor's degree\", 'standard', 'none', '37', '45', '38'], ['male', 'group D', \"bachelor's degree\", 'standard', 'none', '88', '78', '83'], ['male', 'group D', \"master's degree\", 'standard', 'none', '95', '81', '84'], ['male', 'group C', \"associate's degree\", 'free/reduced', 'completed', '65', '73', '68'], ['female', 'group C', 'high school', 'free/reduced', 'none', '35', '61', '54'], ['male', 'group B', \"bachelor's degree\", 'free/reduced', 'none', '62', '63', '56'], ['male', 'group C', 'high school', 'free/reduced', 'completed', '58', '51', '52'], ['male', 'group A', 'some college', 'standard', 'completed', '100', '96', '86'], ['female', 'group E', \"bachelor's degree\", 'free/reduced', 'none', '61', '58', '62'], ['male', 'group D', 'some college', 'standard', 'completed', '100', '97', '99'], ['male', 'group B', \"associate's degree\", 'free/reduced', 'completed', '69', '70', '63'], ['male', 'group D', \"associate's degree\", 'standard', 'none', '61', '48', '46'], ['male', 'group D', 'some college', 'free/reduced', 'none', '49', '57', '46'], ['female', 'group C', 'some high school', 'standard', 'completed', '44', '51', '55'], ['male', 'group D', 'some college', 'standard', 'none', '67', '64', '70'], ['male', 'group B', 'high school', 'standard', 'none', '79', '60', '65'], ['female', 'group B', \"bachelor's degree\", 'standard', 'completed', '66', '74', '81'], ['female', 'group C', 'high school', 'standard', 'none', '75', '88', '85'], ['male', 'group D', 'some high school', 'standard', 'none', '84', '84', '80'], ['male', 'group A', 'high school', 'standard', 'none', '71', '74', '64'], ['female', 'group B', 'high school', 'free/reduced', 'completed', '67', '80', '81'], ['female', 'group D', 'some high school', 'standard', 'completed', '80', '92', '88'], ['male', 'group E', 'some college', 'standard', 'none', '86', '76', '74'], ['female', 'group D', \"associate's degree\", 'standard', 'none', '76', '74', '73'], ['male', 'group D', 'high school', 'standard', 'none', '41', '52', '51'], ['female', 'group D', \"associate's degree\", 'free/reduced', 'completed', '74', '88', '90'], ['female', 'group B', 'some high school', 'free/reduced', 'none', '72', '81', '79'], ['female', 'group E', 'high school', 'standard', 'completed', '74', '79', '80'], ['male', 'group B', 'high school', 'standard', 'none', '70', '65', '60'], ['female', 'group B', \"bachelor's degree\", 'standard', 'completed', '65', '81', '81'], ['female', 'group D', \"associate's degree\", 'standard', 'none', '59', '70', '65'], ['female', 'group E', 'high school', 'free/reduced', 'none', '64', '62', '68'], ['female', 'group B', 'high school', 'standard', 'none', '50', '53', '55'], ['female', 'group D', 'some college', 'standard', 'completed', '69', '79', '81'], ['male', 'group C', 'some high school', 'free/reduced', 'completed', '51', '56', '53'], ['female', 'group A', 'high school', 'standard', 'completed', '68', '80', '76'], ['female', 'group D', 'some college', 'standard', 'completed', '85', '86', '98'], ['female', 'group A', \"associate's degree\", 'standard', 'completed', '65', '70', '74'], ['female', 'group B', 'some high school', 'standard', 'none', '73', '79', '79'], ['female', 'group B', 'some college', 'standard', 'none', '62', '67', '67'], ['male', 'group C', \"associate's degree\", 'free/reduced', 'none', '77', '67', '64'], ['male', 'group D', 'some high school', 'standard', 'none', '69', '66', '61'], ['female', 'group D', \"associate's degree\", 'free/reduced', 'none', '43', '60', '58'], ['male', 'group D', \"associate's degree\", 'standard', 'none', '90', '87', '85'], ['male', 'group C', 'some college', 'free/reduced', 'none', '74', '77', '73'], ['male', 'group C', 'some high school', 'standard', 'none', '73', '66', '63'], ['female', 'group D', 'some college', 'free/reduced', 'none', '55', '71', '69'], ['female', 'group C', 'high school', 'standard', 'none', '65', '69', '67'], ['male', 'group D', \"associate's degree\", 'standard', 'none', '80', '63', '63'], ['female', 'group C', 'some high school', 'free/reduced', 'completed', '50', '60', '60'], ['female', 'group C', 'some college', 'free/reduced', 'completed', '63', '73', '71'], ['female', 'group B', \"bachelor's degree\", 'free/reduced', 'none', '77', '85', '87'], ['male', 'group C', 'some college', 'standard', 'none', '73', '74', '61'], ['male', 'group D', \"associate's degree\", 'standard', 'completed', '81', '72', '77'], ['female', 'group C', 'high school', 'free/reduced', 'none', '66', '76', '68'], ['male', 'group D', \"associate's degree\", 'free/reduced', 'none', '52', '57', '50'], ['female', 'group C', 'some college', 'standard', 'none', '69', '78', '76'], ['female', 'group C', \"associate's degree\", 'standard', 'completed', '65', '84', '84'], ['female', 'group D', 'high school', 'standard', 'completed', '69', '77', '78'], ['female', 'group B', 'some college', 'standard', 'completed', '50', '64', '66'], ['female', 'group E', 'some college', 'standard', 'completed', '73', '78', '76'], ['female', 'group C', 'some high school', 'standard', 'completed', '70', '82', '76'], ['male', 'group D', \"associate's degree\", 'free/reduced', 'none', '81', '75', '78'], ['male', 'group D', 'some college', 'free/reduced', 'none', '63', '61', '60'], ['female', 'group D', 'high school', 'standard', 'none', '67', '72', '74'], ['male', 'group B', 'high school', 'standard', 'none', '60', '68', '60'], ['male', 'group B', 'high school', 'standard', 'none', '62', '55', '54'], ['female', 'group C', 'some high school', 'free/reduced', 'completed', '29', '40', '44'], ['male', 'group B', 'some college', 'standard', 'completed', '62', '66', '68'], ['female', 'group E', \"master's degree\", 'standard', 'completed', '94', '99', '100'], ['male', 'group E', 'some college', 'standard', 'completed', '85', '75', '68'], ['male', 'group D', \"associate's degree\", 'free/reduced', 'none', '77', '78', '73'], ['male', 'group A', 'high school', 'free/reduced', 'none', '53', '58', '44'], ['male', 'group E', 'some college', 'free/reduced', 'none', '93', '90', '83'], ['female', 'group C', \"associate's degree\", 'standard', 'none', '49', '53', '53'], ['female', 'group E', \"associate's degree\", 'free/reduced', 'none', '73', '76', '78'], ['female', 'group C', \"bachelor's degree\", 'free/reduced', 'completed', '66', '74', '81'], ['female', 'group D', \"associate's degree\", 'standard', 'none', '77', '77', '73'], ['female', 'group C', 'some high school', 'standard', 'none', '49', '63', '56'], ['female', 'group D', 'some college', 'free/reduced', 'none', '79', '89', '86'], ['female', 'group C', \"associate's degree\", 'standard', 'completed', '75', '82', '90'], ['female', 'group A', \"bachelor's degree\", 'standard', 'none', '59', '72', '70'], ['female', 'group D', \"associate's degree\", 'standard', 'completed', '57', '78', '79'], ['male', 'group C', 'high school', 'free/reduced', 'none', '66', '66', '59'], ['female', 'group E', \"bachelor's degree\", 'standard', 'completed', '79', '81', '82'], ['female', 'group B', 'some high school', 'standard', 'none', '57', '67', '72'], ['male', 'group A', \"bachelor's degree\", 'standard', 'completed', '87', '84', '87'], ['female', 'group D', 'some college', 'standard', 'none', '63', '64', '67'], ['female', 'group B', 'some high school', 'free/reduced', 'completed', '59', '63', '64'], ['male', 'group A', \"bachelor's degree\", 'free/reduced', 'none', '62', '72', '65'], ['male', 'group D', 'high school', 'standard', 'none', '46', '34', '36'], ['male', 'group C', 'some college', 'standard', 'none', '66', '59', '52'], ['male', 'group D', 'high school', 'standard', 'none', '89', '87', '79'], ['female', 'group D', \"associate's degree\", 'free/reduced', 'completed', '42', '61', '58'], ['male', 'group C', 'some college', 'standard', 'completed', '93', '84', '90'], ['female', 'group E', 'some high school', 'standard', 'completed', '80', '85', '85'], ['female', 'group D', 'some college', 'standard', 'none', '98', '100', '99'], ['male', 'group D', \"master's degree\", 'standard', 'none', '81', '81', '84'], ['female', 'group B', 'some high school', 'standard', 'completed', '60', '70', '74'], ['female', 'group B', \"associate's degree\", 'free/reduced', 'completed', '76', '94', '87'], ['male', 'group C', \"associate's degree\", 'standard', 'completed', '73', '78', '72'], ['female', 'group C', \"associate's degree\", 'standard', 'completed', '96', '96', '99'], ['female', 'group C', 'high school', 'standard', 'none', '76', '76', '74'], ['male', 'group E', \"associate's degree\", 'free/reduced', 'completed', '91', '73', '80'], ['female', 'group C', 'some college', 'free/reduced', 'none', '62', '72', '70'], ['male', 'group D', 'some high school', 'free/reduced', 'completed', '55', '59', '59'], ['female', 'group B', 'some high school', 'free/reduced', 'completed', '74', '90', '88'], ['male', 'group C', 'high school', 'standard', 'none', '50', '48', '42'], ['male', 'group B', 'some college', 'standard', 'none', '47', '43', '41'], ['male', 'group E', 'some college', 'standard', 'completed', '81', '74', '71'], ['female', 'group E', \"associate's degree\", 'standard', 'completed', '65', '75', '77'], ['male', 'group E', 'some high school', 'standard', 'completed', '68', '51', '57'], ['female', 'group D', 'high school', 'free/reduced', 'none', '73', '92', '84'], ['male', 'group C', 'some college', 'standard', 'none', '53', '39', '37'], ['female', 'group B', \"associate's degree\", 'free/reduced', 'completed', '68', '77', '80'], ['male', 'group A', 'some high school', 'free/reduced', 'none', '55', '46', '43'], ['female', 'group C', 'some college', 'standard', 'completed', '87', '89', '94'], ['male', 'group D', 'some high school', 'standard', 'none', '55', '47', '44'], ['female', 'group E', 'some college', 'free/reduced', 'none', '53', '58', '57'], ['male', 'group C', \"master's degree\", 'standard', 'none', '67', '57', '59'], ['male', 'group C', \"associate's degree\", 'standard', 'none', '92', '79', '84'], ['female', 'group B', 'some college', 'free/reduced', 'completed', '53', '66', '73'], ['male', 'group D', \"associate's degree\", 'standard', 'none', '81', '71', '73'], ['male', 'group C', 'high school', 'free/reduced', 'none', '61', '60', '55'], ['male', 'group D', \"bachelor's degree\", 'standard', 'none', '80', '73', '72'], ['female', 'group A', \"associate's degree\", 'free/reduced', 'none', '37', '57', '56'], ['female', 'group C', 'high school', 'standard', 'none', '81', '84', '82'], ['female', 'group C', \"associate's degree\", 'standard', 'completed', '59', '73', '72'], ['male', 'group B', 'some college', 'free/reduced', 'none', '55', '55', '47'], ['male', 'group D', \"associate's degree\", 'standard', 'none', '72', '79', '74'], ['male', 'group D', 'high school', 'standard', 'none', '69', '75', '71'], ['male', 'group C', 'some college', 'standard', 'none', '69', '64', '68'], ['female', 'group C', \"bachelor's degree\", 'free/reduced', 'none', '50', '60', '59'], ['male', 'group B', 'some college', 'standard', 'completed', '87', '84', '86'], ['male', 'group D', 'some high school', 'standard', 'completed', '71', '69', '68'], ['male', 'group E', 'some college', 'standard', 'none', '68', '72', '65'], ['male', 'group C', \"master's degree\", 'free/reduced', 'completed', '79', '77', '75'], ['female', 'group C', 'some high school', 'standard', 'completed', '77', '90', '85'], ['male', 'group C', \"associate's degree\", 'free/reduced', 'none', '58', '55', '53'], ['female', 'group E', \"associate's degree\", 'standard', 'none', '84', '95', '92'], ['male', 'group D', 'some college', 'standard', 'none', '55', '58', '52'], ['male', 'group E', \"bachelor's degree\", 'free/reduced', 'completed', '70', '68', '72'], ['female', 'group D', 'some college', 'free/reduced', 'completed', '52', '59', '65'], ['male', 'group B', 'some college', 'standard', 'completed', '69', '77', '77'], ['female', 'group C', 'high school', 'free/reduced', 'none', '53', '72', '64'], ['female', 'group D', 'some high school', 'standard', 'none', '48', '58', '54'], ['male', 'group D', 'some high school', 'standard', 'completed', '78', '81', '86'], ['female', 'group B', 'high school', 'standard', 'none', '62', '62', '63'], ['male', 'group D', 'some college', 'standard', 'none', '60', '63', '59'], ['female', 'group B', 'high school', 'standard', 'none', '74', '72', '72'], ['female', 'group C', 'high school', 'standard', 'completed', '58', '75', '77'], ['male', 'group B', 'high school', 'standard', 'completed', '76', '62', '60'], ['female', 'group D', 'some high school', 'standard', 'none', '68', '71', '75'], ['male', 'group A', 'some college', 'free/reduced', 'none', '58', '60', '57'], ['male', 'group B', 'high school', 'standard', 'none', '52', '48', '49'], ['male', 'group D', \"bachelor's degree\", 'standard', 'none', '75', '73', '74'], ['female', 'group B', 'some high school', 'free/reduced', 'completed', '52', '67', '72'], ['female', 'group C', \"bachelor's degree\", 'free/reduced', 'none', '62', '78', '79'], ['male', 'group B', 'some college', 'standard', 'none', '66', '65', '60'], ['female', 'group B', 'some high school', 'free/reduced', 'none', '49', '58', '55'], ['female', 'group B', 'high school', 'standard', 'none', '66', '72', '70'], ['female', 'group C', 'some college', 'free/reduced', 'none', '35', '44', '43'], ['female', 'group A', 'some college', 'standard', 'completed', '72', '79', '82'], ['male', 'group E', \"associate's degree\", 'standard', 'completed', '94', '85', '82'], ['female', 'group D', \"associate's degree\", 'free/reduced', 'none', '46', '56', '57'], ['female', 'group B', \"master's degree\", 'standard', 'none', '77', '90', '84'], ['female', 'group B', 'high school', 'free/reduced', 'completed', '76', '85', '82'], ['female', 'group C', \"associate's degree\", 'standard', 'completed', '52', '59', '62'], ['male', 'group C', \"bachelor's degree\", 'standard', 'completed', '91', '81', '79'], ['female', 'group B', 'some high school', 'standard', 'completed', '32', '51', '44'], ['female', 'group E', 'some high school', 'free/reduced', 'none', '72', '79', '77'], ['female', 'group B', 'some college', 'standard', 'none', '19', '38', '32'], ['male', 'group C', \"associate's degree\", 'free/reduced', 'none', '68', '65', '61'], ['female', 'group C', \"master's degree\", 'free/reduced', 'none', '52', '65', '61'], ['female', 'group B', 'high school', 'standard', 'none', '48', '62', '60'], ['female', 'group D', 'some college', 'free/reduced', 'none', '60', '66', '70'], ['male', 'group D', 'high school', 'free/reduced', 'none', '66', '74', '69'], ['male', 'group E', 'some high school', 'standard', 'completed', '89', '84', '77'], ['female', 'group B', 'high school', 'standard', 'none', '42', '52', '51'], ['female', 'group E', \"associate's degree\", 'free/reduced', 'completed', '57', '68', '73'], ['male', 'group D', 'high school', 'standard', 'none', '70', '70', '70'], ['female', 'group E', \"associate's degree\", 'free/reduced', 'none', '70', '84', '81'], ['male', 'group E', 'some college', 'standard', 'none', '69', '60', '54'], ['female', 'group C', \"associate's degree\", 'standard', 'none', '52', '55', '57'], ['male', 'group C', 'some high school', 'standard', 'completed', '67', '73', '68'], ['male', 'group C', 'some high school', 'standard', 'completed', '76', '80', '73'], ['female', 'group E', \"associate's degree\", 'standard', 'none', '87', '94', '95'], ['female', 'group B', 'some college', 'standard', 'none', '82', '85', '87'], ['female', 'group C', 'some college', 'standard', 'none', '73', '76', '78'], ['male', 'group A', 'some college', 'free/reduced', 'none', '75', '81', '74'], ['female', 'group D', 'some college', 'free/reduced', 'none', '64', '74', '75'], ['female', 'group E', 'high school', 'free/reduced', 'none', '41', '45', '40'], ['male', 'group C', 'high school', 'standard', 'none', '90', '75', '69'], ['male', 'group B', \"bachelor's degree\", 'standard', 'none', '59', '54', '51'], ['male', 'group A', 'some high school', 'standard', 'none', '51', '31', '36'], ['male', 'group A', 'high school', 'free/reduced', 'none', '45', '47', '49'], ['female', 'group C', \"master's degree\", 'standard', 'completed', '54', '64', '67'], ['male', 'group E', 'some high school', 'standard', 'completed', '87', '84', '76'], ['female', 'group C', 'high school', 'standard', 'none', '72', '80', '83'], ['male', 'group B', 'some high school', 'standard', 'completed', '94', '86', '87'], ['female', 'group A', \"bachelor's degree\", 'standard', 'none', '45', '59', '64'], ['male', 'group D', \"bachelor's degree\", 'free/reduced', 'completed', '61', '70', '76'], ['female', 'group B', 'high school', 'free/reduced', 'none', '60', '72', '68'], ['female', 'group C', 'some high school', 'standard', 'none', '77', '91', '88'], ['female', 'group A', 'some high school', 'standard', 'completed', '85', '90', '92'], ['female', 'group D', \"bachelor's degree\", 'free/reduced', 'none', '78', '90', '93'], ['male', 'group E', 'some college', 'free/reduced', 'completed', '49', '52', '51'], ['female', 'group B', 'high school', 'free/reduced', 'none', '71', '87', '82'], ['female', 'group C', 'some high school', 'free/reduced', 'none', '48', '58', '52'], ['male', 'group C', 'high school', 'standard', 'none', '62', '67', '58'], ['female', 'group C', \"associate's degree\", 'free/reduced', 'completed', '56', '68', '70'], ['female', 'group C', 'some high school', 'standard', 'none', '65', '69', '76'], ['female', 'group D', 'some high school', 'free/reduced', 'completed', '69', '86', '81'], ['male', 'group B', 'some high school', 'standard', 'none', '68', '54', '53'], ['female', 'group A', 'some college', 'free/reduced', 'none', '61', '60', '57'], ['female', 'group C', \"bachelor's degree\", 'free/reduced', 'completed', '74', '86', '89'], ['male', 'group A', \"bachelor's degree\", 'standard', 'none', '64', '60', '58'], ['female', 'group B', 'high school', 'standard', 'completed', '77', '82', '89'], ['male', 'group B', 'some college', 'standard', 'none', '58', '50', '45'], ['female', 'group C', 'high school', 'standard', 'completed', '60', '64', '74'], ['male', 'group E', 'high school', 'standard', 'none', '73', '64', '57'], ['female', 'group A', 'high school', 'standard', 'completed', '75', '82', '79'], ['male', 'group B', \"associate's degree\", 'free/reduced', 'completed', '58', '57', '53'], ['female', 'group C', \"associate's degree\", 'standard', 'none', '66', '77', '73'], ['female', 'group D', 'high school', 'free/reduced', 'none', '39', '52', '46'], ['male', 'group C', 'some high school', 'standard', 'none', '64', '58', '51'], ['female', 'group B', 'high school', 'free/reduced', 'completed', '23', '44', '36'], ['male', 'group B', 'some college', 'free/reduced', 'completed', '74', '77', '76'], ['female', 'group D', 'some high school', 'free/reduced', 'completed', '40', '65', '64'], ['male', 'group E', \"master's degree\", 'standard', 'none', '90', '85', '84'], ['male', 'group C', \"master's degree\", 'standard', 'completed', '91', '85', '85'], ['male', 'group D', 'high school', 'standard', 'none', '64', '54', '50'], ['female', 'group C', 'high school', 'standard', 'none', '59', '72', '68'], ['male', 'group D', \"associate's degree\", 'standard', 'none', '80', '75', '69'], ['male', 'group C', \"master's degree\", 'standard', 'none', '71', '67', '67'], ['female', 'group A', 'high school', 'standard', 'none', '61', '68', '63'], ['female', 'group E', 'some college', 'standard', 'none', '87', '85', '93'], ['male', 'group E', 'some high school', 'standard', 'none', '82', '67', '61'], ['male', 'group C', 'some high school', 'standard', 'none', '62', '64', '55'], ['female', 'group B', \"bachelor's degree\", 'standard', 'none', '97', '97', '96'], ['male', 'group B', 'some college', 'free/reduced', 'none', '75', '68', '65'], ['female', 'group C', \"bachelor's degree\", 'standard', 'none', '65', '79', '81'], ['male', 'group B', 'high school', 'standard', 'completed', '52', '49', '46'], ['male', 'group C', \"associate's degree\", 'free/reduced', 'none', '87', '73', '72'], ['female', 'group C', \"associate's degree\", 'standard', 'none', '53', '62', '53'], ['female', 'group E', \"master's degree\", 'free/reduced', 'none', '81', '86', '87'], ['male', 'group D', \"bachelor's degree\", 'free/reduced', 'completed', '39', '42', '38'], ['female', 'group C', 'some college', 'standard', 'completed', '71', '71', '80'], ['male', 'group C', \"associate's degree\", 'standard', 'none', '97', '93', '91'], ['male', 'group D', 'some college', 'standard', 'completed', '82', '82', '88'], ['male', 'group C', 'high school', 'free/reduced', 'none', '59', '53', '52'], ['male', 'group B', \"associate's degree\", 'standard', 'none', '61', '42', '41'], ['male', 'group E', \"associate's degree\", 'free/reduced', 'completed', '78', '74', '72'], ['male', 'group C', \"associate's degree\", 'free/reduced', 'none', '49', '51', '51'], ['male', 'group B', 'high school', 'standard', 'none', '59', '58', '47'], ['female', 'group C', 'some college', 'standard', 'completed', '70', '72', '76'], ['male', 'group B', \"associate's degree\", 'standard', 'completed', '82', '84', '78'], ['male', 'group E', \"associate's degree\", 'free/reduced', 'none', '90', '90', '82'], ['female', 'group C', \"bachelor's degree\", 'free/reduced', 'none', '43', '62', '61'], ['male', 'group C', 'some college', 'free/reduced', 'none', '80', '64', '66'], ['male', 'group D', 'some college', 'standard', 'none', '81', '82', '84'], ['male', 'group C', 'some high school', 'standard', 'none', '57', '61', '54'], ['female', 'group D', 'some high school', 'standard', 'none', '59', '72', '80'], ['female', 'group D', \"associate's degree\", 'standard', 'none', '64', '76', '74'], ['male', 'group C', \"bachelor's degree\", 'standard', 'completed', '63', '64', '66'], ['female', 'group E', \"bachelor's degree\", 'standard', 'completed', '71', '70', '70'], ['female', 'group B', 'high school', 'free/reduced', 'none', '64', '73', '71'], ['male', 'group D', \"bachelor's degree\", 'free/reduced', 'none', '55', '46', '44'], ['female', 'group E', \"associate's degree\", 'standard', 'none', '51', '51', '54'], ['female', 'group C', \"associate's degree\", 'standard', 'completed', '62', '76', '80'], ['female', 'group E', \"associate's degree\", 'standard', 'completed', '93', '100', '95'], ['male', 'group C', 'high school', 'free/reduced', 'none', '54', '72', '59'], ['female', 'group D', 'some college', 'free/reduced', 'none', '69', '65', '74'], ['male', 'group D', 'high school', 'free/reduced', 'none', '44', '51', '48'], ['female', 'group E', 'some college', 'standard', 'completed', '86', '85', '91'], ['female', 'group E', \"associate's degree\", 'standard', 'none', '85', '92', '85'], ['female', 'group A', \"master's degree\", 'free/reduced', 'none', '50', '67', '73'], ['male', 'group D', 'some high school', 'standard', 'completed', '88', '74', '75'], ['female', 'group E', \"associate's degree\", 'standard', 'none', '59', '62', '69'], ['female', 'group E', 'some high school', 'free/reduced', 'none', '32', '34', '38'], ['male', 'group B', 'high school', 'free/reduced', 'none', '36', '29', '27'], ['female', 'group B', 'some high school', 'free/reduced', 'completed', '63', '78', '79'], ['male', 'group D', \"associate's degree\", 'standard', 'completed', '67', '54', '63'], ['female', 'group D', 'some high school', 'standard', 'completed', '65', '78', '82'], ['male', 'group D', \"master's degree\", 'standard', 'none', '85', '84', '89'], ['female', 'group C', \"master's degree\", 'standard', 'none', '73', '78', '74'], ['female', 'group A', 'high school', 'free/reduced', 'completed', '34', '48', '41'], ['female', 'group D', \"bachelor's degree\", 'free/reduced', 'completed', '93', '100', '100'], ['female', 'group D', 'some high school', 'free/reduced', 'none', '67', '84', '84'], ['male', 'group D', 'some college', 'standard', 'none', '88', '77', '77'], ['male', 'group B', 'high school', 'standard', 'none', '57', '48', '51'], ['female', 'group D', 'some college', 'standard', 'completed', '79', '84', '91'], ['female', 'group C', \"bachelor's degree\", 'free/reduced', 'none', '67', '75', '72'], ['male', 'group E', \"bachelor's degree\", 'standard', 'completed', '70', '64', '70'], ['male', 'group D', \"bachelor's degree\", 'free/reduced', 'none', '50', '42', '48'], ['female', 'group A', 'some college', 'standard', 'none', '69', '84', '82'], ['female', 'group C', \"bachelor's degree\", 'standard', 'completed', '52', '61', '66'], ['female', 'group C', \"bachelor's degree\", 'free/reduced', 'completed', '47', '62', '66'], ['female', 'group B', \"associate's degree\", 'free/reduced', 'none', '46', '61', '55'], ['female', 'group E', 'some college', 'standard', 'none', '68', '70', '66'], ['male', 'group E', \"bachelor's degree\", 'standard', 'completed', '100', '100', '100'], ['female', 'group C', 'high school', 'standard', 'none', '44', '61', '52'], ['female', 'group C', \"associate's degree\", 'standard', 'completed', '57', '77', '80'], ['male', 'group B', 'some college', 'standard', 'completed', '91', '96', '91'], ['male', 'group D', 'high school', 'free/reduced', 'none', '69', '70', '67'], ['female', 'group C', 'high school', 'free/reduced', 'none', '35', '53', '46'], ['male', 'group D', 'high school', 'standard', 'none', '72', '66', '66'], ['female', 'group B', \"associate's degree\", 'free/reduced', 'none', '54', '65', '65'], ['male', 'group D', 'high school', 'free/reduced', 'none', '74', '70', '69'], ['male', 'group E', 'some high school', 'standard', 'completed', '74', '64', '60'], ['male', 'group E', \"associate's degree\", 'free/reduced', 'none', '64', '56', '52'], ['female', 'group D', 'high school', 'free/reduced', 'completed', '65', '61', '71'], ['male', 'group E', \"associate's degree\", 'free/reduced', 'completed', '46', '43', '44'], ['female', 'group C', 'some high school', 'free/reduced', 'none', '48', '56', '51'], ['male', 'group C', 'some college', 'free/reduced', 'completed', '67', '74', '70'], ['male', 'group D', 'some college', 'free/reduced', 'none', '62', '57', '62'], ['male', 'group D', \"associate's degree\", 'free/reduced', 'completed', '61', '71', '73'], ['male', 'group C', \"bachelor's degree\", 'free/reduced', 'completed', '70', '75', '74'], ['male', 'group C', \"associate's degree\", 'standard', 'completed', '98', '87', '90'], ['male', 'group D', 'some college', 'free/reduced', 'none', '70', '63', '58'], ['male', 'group A', \"associate's degree\", 'standard', 'none', '67', '57', '53'], ['female', 'group E', 'high school', 'free/reduced', 'none', '57', '58', '57'], ['male', 'group D', 'some college', 'standard', 'completed', '85', '81', '85'], ['male', 'group D', 'some high school', 'standard', 'completed', '77', '68', '69'], ['male', 'group C', \"master's degree\", 'free/reduced', 'completed', '72', '66', '72'], ['female', 'group D', \"master's degree\", 'standard', 'none', '78', '91', '96'], ['male', 'group C', 'high school', 'standard', 'none', '81', '66', '64'], ['male', 'group A', 'some high school', 'free/reduced', 'completed', '61', '62', '61'], ['female', 'group B', 'high school', 'standard', 'none', '58', '68', '61'], ['female', 'group C', \"associate's degree\", 'standard', 'none', '54', '61', '58'], ['male', 'group B', 'high school', 'standard', 'none', '82', '82', '80'], ['female', 'group D', 'some college', 'free/reduced', 'none', '49', '58', '60'], ['male', 'group B', 'some high school', 'free/reduced', 'completed', '49', '50', '52'], ['female', 'group E', 'high school', 'free/reduced', 'completed', '57', '75', '73'], ['male', 'group E', 'high school', 'standard', 'none', '94', '73', '71'], ['female', 'group D', 'some college', 'standard', 'completed', '75', '77', '83'], ['female', 'group E', 'some high school', 'free/reduced', 'none', '74', '74', '72'], ['male', 'group C', 'high school', 'standard', 'completed', '58', '52', '54'], ['female', 'group C', 'some college', 'standard', 'none', '62', '69', '69'], ['male', 'group E', \"associate's degree\", 'standard', 'none', '72', '57', '62'], ['male', 'group C', 'some college', 'standard', 'none', '84', '87', '81'], ['female', 'group D', \"master's degree\", 'standard', 'none', '92', '100', '100'], ['female', 'group D', 'high school', 'standard', 'none', '45', '63', '59'], ['male', 'group C', 'high school', 'standard', 'none', '75', '81', '71'], ['female', 'group A', 'some college', 'standard', 'none', '56', '58', '64'], ['female', 'group D', 'some high school', 'free/reduced', 'none', '48', '54', '53'], ['female', 'group E', \"associate's degree\", 'standard', 'none', '100', '100', '100'], ['female', 'group C', 'some high school', 'free/reduced', 'completed', '65', '76', '75'], ['male', 'group D', 'some college', 'standard', 'none', '72', '57', '58'], ['female', 'group D', 'some college', 'standard', 'none', '62', '70', '72'], ['male', 'group A', 'some high school', 'standard', 'completed', '66', '68', '64'], ['male', 'group C', 'some college', 'standard', 'none', '63', '63', '60'], ['female', 'group E', \"associate's degree\", 'standard', 'none', '68', '76', '67'], ['female', 'group B', \"bachelor's degree\", 'standard', 'none', '75', '84', '80'], ['female', 'group D', \"bachelor's degree\", 'standard', 'none', '89', '100', '100'], ['male', 'group C', 'some high school', 'standard', 'completed', '78', '72', '69'], ['female', 'group A', 'high school', 'free/reduced', 'completed', '53', '50', '60'], ['female', 'group D', 'some college', 'free/reduced', 'none', '49', '65', '61'], ['female', 'group A', 'some college', 'standard', 'none', '54', '63', '67'], ['female', 'group C', 'some college', 'standard', 'completed', '64', '82', '77'], ['male', 'group B', 'some college', 'free/reduced', 'completed', '60', '62', '60'], ['male', 'group C', \"associate's degree\", 'standard', 'none', '62', '65', '58'], ['male', 'group D', 'high school', 'standard', 'completed', '55', '41', '48'], ['female', 'group C', \"associate's degree\", 'standard', 'none', '91', '95', '94'], ['female', 'group B', 'high school', 'free/reduced', 'none', '8', '24', '23'], ['male', 'group D', 'some high school', 'standard', 'none', '81', '78', '78'], ['male', 'group B', 'some high school', 'standard', 'completed', '79', '85', '86'], ['female', 'group A', 'some college', 'standard', 'completed', '78', '87', '91'], ['female', 'group C', 'some high school', 'standard', 'none', '74', '75', '82'], ['male', 'group A', 'high school', 'standard', 'none', '57', '51', '54'], ['female', 'group C', \"associate's degree\", 'standard', 'none', '40', '59', '51'], ['male', 'group E', 'some high school', 'standard', 'completed', '81', '75', '76'], ['female', 'group A', 'some high school', 'free/reduced', 'none', '44', '45', '45'], ['female', 'group D', 'some college', 'free/reduced', 'completed', '67', '86', '83'], ['male', 'group E', 'high school', 'free/reduced', 'completed', '86', '81', '75'], ['female', 'group B', 'some high school', 'standard', 'completed', '65', '82', '78'], ['female', 'group D', \"associate's degree\", 'free/reduced', 'none', '55', '76', '76'], ['female', 'group D', \"bachelor's degree\", 'free/reduced', 'none', '62', '72', '74'], ['male', 'group A', 'high school', 'standard', 'none', '63', '63', '62'], ['female', 'group E', \"master's degree\", 'standard', 'completed', '88', '99', '95'], ['male', 'group C', 'high school', 'free/reduced', 'none', '62', '55', '55'], ['female', 'group C', 'high school', 'free/reduced', 'completed', '59', '71', '65'], ['female', 'group D', 'some college', 'standard', 'completed', '68', '78', '77'], ['female', 'group D', 'some college', 'free/reduced', 'none', '77', '86', '86']]\n"
     ]
    }
   ],
   "source": [
    "import csv\n",
    "file = r\"E:\\My Downloads\\stud.csv\"\n",
    "with open(file,\"r\") as read_obj:\n",
    "    csv_reader = csv.reader(read_obj)\n",
    "    list_of_csv = list(csv_reader)\n",
    "    print(list_of_csv)"
   ]
  },
  {
   "cell_type": "markdown",
   "id": "6f680ee7",
   "metadata": {},
   "source": [
    "### Python – Write dictionary of list to CSV"
   ]
  },
  {
   "cell_type": "code",
   "execution_count": 49,
   "id": "fc8d8089",
   "metadata": {},
   "outputs": [],
   "source": [
    "import csv\n",
    "\n",
    "with open(\"test.csv\", \"w\", newline='') as testfile:\n",
    "    fieldnames = [\"first_field\", \"second_field\", \"third_field\"]\n",
    "    writer = csv.DictWriter(testfile, fieldnames=fieldnames)\n",
    "    writer.writeheader()\n"
   ]
  },
  {
   "cell_type": "code",
   "execution_count": 50,
   "id": "a4221ac8",
   "metadata": {},
   "outputs": [],
   "source": [
    "test = {'Age': [52, 24, 31, 47, 51, 61],\n",
    "        'Sex': ['F', 'M', 'M', 'F', 'F', 'M'],\n",
    "        'height': [143, 163, 144, 154, 174, 177],\n",
    "        'weight': [77, 66, 59, 53, 71, 63], }\n",
    "with open(\"test.csv\",\"w\") as outfile:\n",
    "    writer = csv.writer(outfile)\n",
    "    key_lst = list(test.keys())\n",
    "    limit = len(key_lst)\n",
    "    writer.writerow(test.keys())\n",
    "    for i in range(limit):\n",
    "        writer.writerow([test[x][i] for x in key_lst])"
   ]
  },
  {
   "cell_type": "code",
   "execution_count": 51,
   "id": "8161c30f",
   "metadata": {},
   "outputs": [],
   "source": [
    "import csv\n",
    "with open(\"test.csv\",\"w\") as testfile:\n",
    "    csvwriter = csv.writer(testfile)\n",
    "    csvwriter.writerows([['row1'], ['row2'], ['row3'],\n",
    "                         ['row4'], ['row5'], ['row6']])"
   ]
  },
  {
   "cell_type": "code",
   "execution_count": 52,
   "id": "9b45ac21",
   "metadata": {},
   "outputs": [],
   "source": [
    "test = {'Age': [52, 24, 31, 47, 51, 61],\n",
    "        'Sex': ['F', 'M', 'M', 'F', 'F', 'M'],\n",
    "        'height': [143, 163, 144, 154, 174, 177],\n",
    "        'weight': [77, 66, 59, 53, 71, 63], }\n",
    "with open(\"test.csv\",\"w\") as outfile:\n",
    "    writer = csv.writer(outfile)\n",
    "    writer.writerow(test.keys())\n",
    "    writer.writerow(zip(*test.values()))"
   ]
  },
  {
   "cell_type": "code",
   "execution_count": 54,
   "id": "37c60684",
   "metadata": {},
   "outputs": [],
   "source": [
    "import csv\n",
    "with open(\"test.csv\",\"w\") as testfile:\n",
    "    ieldnames = ['first_field', 'second_field', 'third_field']\n",
    "    writer = csv.DictWriter(testfile,fieldnames=fieldnames)\n",
    "    writer.writeheader()"
   ]
  },
  {
   "cell_type": "markdown",
   "id": "a7a17a08",
   "metadata": {},
   "source": [
    "### Convert nested JSON to CSV in Python"
   ]
  },
  {
   "cell_type": "code",
   "execution_count": 58,
   "id": "325481b3",
   "metadata": {},
   "outputs": [
    {
     "name": "stdout",
     "output_type": "stream",
     "text": [
      "New dict: {'article_id': 3214507, 'article_link': 'http://sample.link', 'published_on': '17-Sep-2020', 'source': 'moneycontrol', 'article_title': 'IT stocks to see a jump this month', 'article_category': 'finance', 'article_image': 'http://sample.img', 'article_sentiment': 'neutral'}\n"
     ]
    }
   ],
   "source": [
    "import json \n",
    "  \n",
    "  \n",
    "def read_json(filename: str) -> dict: \n",
    "  \n",
    "    try: \n",
    "        with open(filename, \"r\") as f: \n",
    "            data = json.loads(f.read()) \n",
    "    except: \n",
    "        raise Exception(f\"Reading {filename} file encountered an error\") \n",
    "  \n",
    "    return data \n",
    "  \n",
    "  \n",
    "def normalize_json(data: dict) -> dict: \n",
    "  \n",
    "    new_data = dict() \n",
    "    for key, value in data.items(): \n",
    "        if not isinstance(value, dict): \n",
    "            new_data[key] = value \n",
    "        else: \n",
    "            for k, v in value.items(): \n",
    "                new_data[key + \"_\" + k] = v \n",
    "  \n",
    "    return new_data \n",
    "  \n",
    "  \n",
    "def generate_csv_data(data: dict) -> str: \n",
    "  \n",
    "    # Defining CSV columns in a list to maintain \n",
    "    # the order \n",
    "    csv_columns = data.keys() \n",
    "  \n",
    "    # Generate the first row of CSV  \n",
    "    csv_data = \",\".join(csv_columns) + \"\\n\"\n",
    "  \n",
    "    # Generate the single record present \n",
    "    new_row = list() \n",
    "    for col in csv_columns: \n",
    "        new_row.append(str(data[col])) \n",
    "  \n",
    "    # Concatenate the record with the column information  \n",
    "    # in CSV format \n",
    "    csv_data += \",\".join(new_row) + \"\\n\"\n",
    "  \n",
    "    return csv_data \n",
    "  \n",
    "def write_to_file(data: str, filepath: str) -> bool: \n",
    "  \n",
    "    try: \n",
    "        with open(filepath, \"w+\") as f: \n",
    "            f.write(data) \n",
    "    except: \n",
    "        raise Exception(f\"Saving data to {filepath} encountered an error\") \n",
    "  \n",
    "  \n",
    "def main(): \n",
    "    # Read the JSON file as python dictionary \n",
    "    data = read_json(filename=\"sample.json\") \n",
    "  \n",
    "    # Normalize the nested python dict \n",
    "    new_data = normalize_json(data=data) \n",
    "  \n",
    "    # Pretty print the new dict object \n",
    "    print(\"New dict:\", new_data) \n",
    "  \n",
    "    # Generate the desired CSV data  \n",
    "    csv_data = generate_csv_data(data=new_data) \n",
    "  \n",
    "    # Save the generated CSV data to a CSV file \n",
    "    write_to_file(data=csv_data, filepath=\"data.csv\") \n",
    "  \n",
    "  \n",
    "if __name__ == '__main__': \n",
    "    main() "
   ]
  },
  {
   "cell_type": "code",
   "execution_count": 60,
   "id": "c578fff3",
   "metadata": {},
   "outputs": [
    {
     "name": "stdout",
     "output_type": "stream",
     "text": [
      "New dict: {'article_id': 3214507, 'article_link': 'http://sample.link', 'published_on': '17-Sep-2020', 'source': 'moneycontrol', 'article_title': 'IT stocks to see a jump this month', 'article_category': 'finance', 'article_image': 'http://sample.img', 'article_sentiment': 'neutral'} \n",
      "\n"
     ]
    }
   ],
   "source": [
    "import json \n",
    "import pandas \n",
    "  \n",
    "def read_json(filename: str) -> dict: \n",
    "  \n",
    "    try: \n",
    "        with open(filename, \"r\") as f: \n",
    "            data = json.loads(f.read()) \n",
    "    except: \n",
    "        raise Exception(f\"Reading {filename} file encountered an error\") \n",
    "  \n",
    "    return data \n",
    "   \n",
    "def normalize_json(data: dict) -> dict: \n",
    "  \n",
    "    new_data = dict() \n",
    "    for key, value in data.items(): \n",
    "        if not isinstance(value, dict): \n",
    "            new_data[key] = value \n",
    "        else: \n",
    "            for k, v in value.items(): \n",
    "                new_data[key + \"_\" + k] = v \n",
    "      \n",
    "    return new_data \n",
    "    \n",
    "def main(): \n",
    "    # Read the JSON file as python dictionary \n",
    "    data = read_json(filename=\"sample.json\") \n",
    "  \n",
    "    # Normalize the nested python dict  \n",
    "    new_data = normalize_json(data=data) \n",
    "  \n",
    "    print(\"New dict:\", new_data, \"\\n\") \n",
    "  \n",
    "    # Create a pandas dataframe  \n",
    "    dataframe = pandas.DataFrame(new_data, index=[0]) \n",
    "  \n",
    "    # Write to a CSV file \n",
    "    dataframe.to_csv(\"article.csv\") \n",
    "  \n",
    "  \n",
    "if __name__ == '__main__': \n",
    "    main() "
   ]
  },
  {
   "cell_type": "code",
   "execution_count": 61,
   "id": "eb6673ee",
   "metadata": {},
   "outputs": [],
   "source": [
    "import csv\n",
    "from datetime import datetime\n",
    "rows = [['GeeksforGeeks1', 'GeeksforGeeks2'], \n",
    "        ['GeeksforGeeks3', 'GeeksforGeeks4'], \n",
    "        ['GeeksforGeeks5', 'GeeksforGeeks6']] \n",
    "with open(r\"E:\\My Downloads\\stud.csv\",\"r+\",newline=\"\") as file:\n",
    "    file_write = csv.writer(file)\n",
    "    current_date_time = datetime.now()\n",
    "    for val in rows:\n",
    "        val.insert(0,current_date_time)\n",
    "        file_write.writerow(val)"
   ]
  },
  {
   "cell_type": "code",
   "execution_count": null,
   "id": "28b49ee7",
   "metadata": {},
   "outputs": [],
   "source": []
  },
  {
   "cell_type": "code",
   "execution_count": null,
   "id": "7891bd48",
   "metadata": {},
   "outputs": [],
   "source": []
  },
  {
   "cell_type": "code",
   "execution_count": null,
   "id": "6ff8d153",
   "metadata": {},
   "outputs": [],
   "source": []
  },
  {
   "cell_type": "code",
   "execution_count": null,
   "id": "51b31adf",
   "metadata": {},
   "outputs": [],
   "source": []
  },
  {
   "cell_type": "code",
   "execution_count": null,
   "id": "5be3d3e4",
   "metadata": {},
   "outputs": [],
   "source": []
  },
  {
   "cell_type": "code",
   "execution_count": null,
   "id": "9996f8f9",
   "metadata": {},
   "outputs": [],
   "source": []
  },
  {
   "cell_type": "code",
   "execution_count": null,
   "id": "fee59c54",
   "metadata": {},
   "outputs": [],
   "source": []
  }
 ],
 "metadata": {
  "kernelspec": {
   "display_name": "Python 3 (ipykernel)",
   "language": "python",
   "name": "python3"
  },
  "language_info": {
   "codemirror_mode": {
    "name": "ipython",
    "version": 3
   },
   "file_extension": ".py",
   "mimetype": "text/x-python",
   "name": "python",
   "nbconvert_exporter": "python",
   "pygments_lexer": "ipython3",
   "version": "3.11.5"
  }
 },
 "nbformat": 4,
 "nbformat_minor": 5
}
