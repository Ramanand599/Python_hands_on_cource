{
 "cells": [
  {
   "cell_type": "markdown",
   "metadata": {},
   "source": [
    "### 1.  Check if a number is positive, negative, or zero."
   ]
  },
  {
   "cell_type": "code",
   "execution_count": 4,
   "metadata": {},
   "outputs": [
    {
     "name": "stdout",
     "output_type": "stream",
     "text": [
      "Number is positive. And the numer is:10\n"
     ]
    }
   ],
   "source": [
    "num=10\n",
    "if num>0:\n",
    "    print(f\"Number is positive. And the numer is:{num}\")\n",
    "elif num<0:\n",
    "    print(f\"Number is Negative. And the number :{num}\")\n",
    "else:\n",
    "    print(f\"Number is Zero :{num}\")"
   ]
  },
  {
   "cell_type": "code",
   "execution_count": 5,
   "metadata": {},
   "outputs": [
    {
     "name": "stdout",
     "output_type": "stream",
     "text": [
      "-2\n",
      "Number is Negative. And the number :-2\n"
     ]
    }
   ],
   "source": [
    "num=int(input())\n",
    "if num>0:\n",
    "    print(f\"Number is positive. And the numer is:{num}\")\n",
    "elif num<0:\n",
    "    print(f\"Number is Negative. And the number :{num}\")\n",
    "else:\n",
    "    print(f\"Number is Zero :{num}\")"
   ]
  },
  {
   "cell_type": "code",
   "execution_count": 7,
   "metadata": {},
   "outputs": [
    {
     "name": "stdout",
     "output_type": "stream",
     "text": [
      "40\n",
      "Number is positive. And the numer is:40\n"
     ]
    }
   ],
   "source": [
    "num=int(input())\n",
    "if num>0:\n",
    "    print(\"Number is positive. And the numer is:{num}\".format(num=num))\n",
    "elif num<0:\n",
    "    print(\"Number is Negative. And the number :{num}\".format(num=num))\n",
    "else:\n",
    "    print(\"Number is Zero :{num}\".format(num=num))"
   ]
  },
  {
   "cell_type": "markdown",
   "metadata": {},
   "source": [
    "### 2. Determine if a number is even or odd."
   ]
  },
  {
   "cell_type": "code",
   "execution_count": 8,
   "metadata": {},
   "outputs": [
    {
     "name": "stdout",
     "output_type": "stream",
     "text": [
      "15\n",
      "15 is odd\n"
     ]
    }
   ],
   "source": [
    "num=int(input())\n",
    "if num%2==0:\n",
    "    print(f\"{num} is even\")\n",
    "else:\n",
    "    print(f\"{num} is odd\")"
   ]
  },
  {
   "cell_type": "markdown",
   "metadata": {},
   "source": [
    "### 3.Find the largest of three numbers."
   ]
  },
  {
   "cell_type": "code",
   "execution_count": 10,
   "metadata": {},
   "outputs": [
    {
     "name": "stdout",
     "output_type": "stream",
     "text": [
      "4\n",
      "5\n",
      "6\n",
      "6\n"
     ]
    }
   ],
   "source": [
    "a,b,c=int(input()),int(input()),int(input())\n",
    "if a>b and a>c:\n",
    "    print(a)\n",
    "elif b>a and b>c:\n",
    "    print(b)\n",
    "else:\n",
    "    print(c)\n",
    "    "
   ]
  },
  {
   "cell_type": "markdown",
   "metadata": {},
   "source": [
    "### 4.Check if a year is a leap year.\n"
   ]
  },
  {
   "cell_type": "code",
   "execution_count": 68,
   "metadata": {},
   "outputs": [
    {
     "name": "stdout",
     "output_type": "stream",
     "text": [
      "2000\n",
      "Leap Year\n"
     ]
    }
   ],
   "source": [
    "year=int(input())\n",
    "if (year%4==0 and year%100!=0) or year%400==0:\n",
    "    print(\"Leap Year\")\n",
    "else:\n",
    "    print(\"Not a leap Year\")"
   ]
  },
  {
   "cell_type": "markdown",
   "metadata": {},
   "source": [
    "### 5.Determine the grade based on a score."
   ]
  },
  {
   "cell_type": "code",
   "execution_count": 12,
   "metadata": {},
   "outputs": [
    {
     "name": "stdout",
     "output_type": "stream",
     "text": [
      "40\n",
      "FAIL\n"
     ]
    }
   ],
   "source": [
    "score=int(input())\n",
    "if score>90:\n",
    "    print(\"Grade O\")\n",
    "elif score>80:\n",
    "    print(\"Grade A+\")\n",
    "elif score>70:\n",
    "    print(\"Grade A\")\n",
    "elif score>60:\n",
    "    print(\"Grade B+\")\n",
    "elif score>50:\n",
    "    print(\"Grade B\")\n",
    "else :\n",
    "    print(\"FAIL\")"
   ]
  },
  {
   "cell_type": "markdown",
   "metadata": {},
   "source": [
    "### 6. Check if a string is a palindrome (reads the same forwards and backwards)."
   ]
  },
  {
   "cell_type": "code",
   "execution_count": 26,
   "metadata": {},
   "outputs": [
    {
     "name": "stdout",
     "output_type": "stream",
     "text": [
      "rar\n",
      "Palindrom\n"
     ]
    }
   ],
   "source": [
    "str1=input()\n",
    "if str1==str1[::-1]: #backword indexing \n",
    "    print(\"Palindrom\")\n",
    "else:\n",
    "    print(\"Not a palindrom\")"
   ]
  },
  {
   "cell_type": "markdown",
   "metadata": {},
   "source": [
    "### 7.  Determine if a number is a prime number."
   ]
  },
  {
   "cell_type": "code",
   "execution_count": 38,
   "metadata": {},
   "outputs": [
    {
     "name": "stdout",
     "output_type": "stream",
     "text": [
      "3\n",
      "3 is a prime number\n"
     ]
    }
   ],
   "source": [
    "num = int(input())\n",
    "\n",
    "if num > 1:\n",
    "    is_prime = True\n",
    "    for i in range(2, int(num/2) + 1):\n",
    "        if num % i == 0:\n",
    "            is_prime = False\n",
    "            break\n",
    "    if is_prime:\n",
    "        print(f\"{num} is a prime number\")\n",
    "    else:\n",
    "        print(f\"{num} is not a prime number\")\n",
    "else:\n",
    "    print(f\"{num} is not a prime number\")\n",
    "          "
   ]
  },
  {
   "cell_type": "markdown",
   "metadata": {},
   "source": [
    "### 8.Check if a string is a valid email address."
   ]
  },
  {
   "cell_type": "code",
   "execution_count": 41,
   "metadata": {},
   "outputs": [
    {
     "name": "stdout",
     "output_type": "stream",
     "text": [
      "ram@gmail.com\n",
      "ram@gmail.com is valid\n"
     ]
    }
   ],
   "source": [
    "\n",
    "email=input()\n",
    "if \"@\" in email and \".\" in email:\n",
    "    print(f\"{email} is valid\")\n",
    "else:\n",
    "    print(f\"{email} not valid\")"
   ]
  },
  {
   "cell_type": "code",
   "execution_count": 42,
   "metadata": {},
   "outputs": [
    {
     "name": "stdout",
     "output_type": "stream",
     "text": [
      "ram@gmail.com\n",
      "valid\n"
     ]
    }
   ],
   "source": [
    "import re # import regular Expression\n",
    "email=input()\n",
    "pattern=r'^[\\w\\.-]+@[\\w\\.-]+\\.\\w+$'\n",
    "if re.match(pattern,email):\n",
    "    print(\"valid\")\n",
    "else:\n",
    "    print(\"invalid\")"
   ]
  },
  {
   "cell_type": "markdown",
   "metadata": {},
   "source": [
    "### 9. Determine the season based on a month."
   ]
  },
  {
   "cell_type": "code",
   "execution_count": 43,
   "metadata": {},
   "outputs": [
    {
     "name": "stdout",
     "output_type": "stream",
     "text": [
      "March\n",
      "Summer\n"
     ]
    }
   ],
   "source": [
    "month=input()\n",
    "month = \"July\"\n",
    "if month in [\"December\", \"January\", \"February\"]:\n",
    "    print(\"Winter\")\n",
    "elif month in [\"March\", \"April\", \"May\"]:\n",
    "    print(\"Spring\")\n",
    "elif month in [\"June\", \"July\", \"August\"]:\n",
    "    print(\"Summer\")\n",
    "else:\n",
    "    print(\"Fall\")\n"
   ]
  },
  {
   "cell_type": "markdown",
   "metadata": {},
   "source": [
    "### 10. Check if a number is a perfect square."
   ]
  },
  {
   "cell_type": "code",
   "execution_count": 56,
   "metadata": {},
   "outputs": [
    {
     "name": "stdout",
     "output_type": "stream",
     "text": [
      "25\n",
      "perfect squre\n"
     ]
    }
   ],
   "source": [
    "number=int(input())\n",
    "if (number**0.5).is_integer():\n",
    "    print(\"perfect squre\")\n",
    "else:\n",
    "    print(\"Not a perfect Squre\")"
   ]
  },
  {
   "cell_type": "code",
   "execution_count": 55,
   "metadata": {},
   "outputs": [
    {
     "name": "stdout",
     "output_type": "stream",
     "text": [
      "8\n",
      "Not a perfect Squre\n"
     ]
    }
   ],
   "source": [
    "import numpy as np\n",
    "number=int(input())\n",
    "if np.sqrt(number).is_integer():\n",
    "    print(\"perfect squre\")\n",
    "else:\n",
    "    print(\"Not a perfect Squre\")"
   ]
  },
  {
   "cell_type": "markdown",
   "metadata": {},
   "source": [
    "### 11. Determine if a number is a Fibonacci number."
   ]
  },
  {
   "cell_type": "code",
   "execution_count": 57,
   "metadata": {},
   "outputs": [
    {
     "name": "stdout",
     "output_type": "stream",
     "text": [
      "9\n",
      "Not a fibonacci number\n"
     ]
    }
   ],
   "source": [
    "num=int(input())\n",
    "a,b=0,1\n",
    "while b<num:\n",
    "    a,b=b,a+b\n",
    "if b==num:\n",
    "    print(\"Fibonacci Number\")\n",
    "else:\n",
    "    print(\"Not a fibonacci number\")"
   ]
  },
  {
   "cell_type": "code",
   "execution_count": 65,
   "metadata": {},
   "outputs": [
    {
     "name": "stdout",
     "output_type": "stream",
     "text": [
      "Enter a number: 9\n",
      "Fibonacci(9) = 34\n"
     ]
    }
   ],
   "source": [
    "def fibonacci(num):\n",
    "    if num < 0:\n",
    "        return \"Incorrect Input\"\n",
    "    elif num == 0:\n",
    "        return 0\n",
    "    elif num == 1 or num == 2:\n",
    "        return 1\n",
    "    else:\n",
    "        return fibonacci(num - 1) + fibonacci(num - 2)\n",
    "\n",
    "num = int(input(\"Enter a number: \"))\n",
    "result = fibonacci(num)\n",
    "print(f\"Fibonacci({num}) = {result}\")\n"
   ]
  },
  {
   "cell_type": "markdown",
   "metadata": {},
   "source": [
    "### 12.Check if a point (x, y) is in a given rectangle defined by its corners (x1, y1) and (x2, y2)."
   ]
  },
  {
   "cell_type": "code",
   "execution_count": 66,
   "metadata": {},
   "outputs": [
    {
     "name": "stdout",
     "output_type": "stream",
     "text": [
      "Inside the ractangle\n"
     ]
    }
   ],
   "source": [
    "x,y=3,4\n",
    "x1,y1,x2,y2=1,2,5,6\n",
    "if x1<= x <=x2 and y1<= y <=y2:\n",
    "    print(\"Inside the ractangle\")\n",
    "else:\n",
    "    print(\"Outside the ractangle\")"
   ]
  },
  {
   "cell_type": "markdown",
   "metadata": {},
   "source": [
    "### 13. Check if a given string is a valid URL."
   ]
  },
  {
   "cell_type": "code",
   "execution_count": 67,
   "metadata": {},
   "outputs": [
    {
     "name": "stdout",
     "output_type": "stream",
     "text": [
      "Valid URL\n"
     ]
    }
   ],
   "source": [
    "url = \"https://www.example.com\"\n",
    "pattern=r\"^https?://(www\\.)?([a-zA-Z0-9-]+)\\.([a-zA-Z]{2,})$\"\n",
    "import re\n",
    "if re.match(pattern,url):\n",
    "    print(\"Valid URL\")\n",
    "else:\n",
    "    print(\"Not valid\")"
   ]
  },
  {
   "cell_type": "markdown",
   "metadata": {},
   "source": [
    "### 14. Determine if a given year is a century year (ending with 00) and if it's a leap year."
   ]
  },
  {
   "cell_type": "code",
   "execution_count": 71,
   "metadata": {},
   "outputs": [
    {
     "name": "stdout",
     "output_type": "stream",
     "text": [
      "4000\n",
      "Leap Year\n"
     ]
    }
   ],
   "source": [
    "year=int(input())\n",
    "if (year%4==0 or year%100==0) and year%400==0:\n",
    "    print(\"Leap Year\")\n",
    "else:\n",
    "    print(\"Not Leap year\")"
   ]
  },
  {
   "cell_type": "markdown",
   "metadata": {},
   "source": [
    "### 15. Check if a number is a strong number. (A strong number is a number whose sum of factorial of digits is equal to the number itself)."
   ]
  },
  {
   "cell_type": "code",
   "execution_count": 76,
   "metadata": {},
   "outputs": [
    {
     "name": "stdout",
     "output_type": "stream",
     "text": [
      "145\n",
      "Strong Number\n"
     ]
    }
   ],
   "source": [
    "num=int(input())\n",
    "def factorial(num):\n",
    "    if num==0:\n",
    "        return 1\n",
    "    else:\n",
    "        return num * factorial(num-1)\n",
    "sum_of_factorial=sum(factorial(int(digit)) for digit in str(num))\n",
    "if sum_of_factorial==num:\n",
    "    print(\"Strong Number\")\n",
    "else:\n",
    "    print(\"Weak Number\")"
   ]
  },
  {
   "cell_type": "markdown",
   "metadata": {},
   "source": [
    "### 16.  Determine if a given string is a valid IPv4 address."
   ]
  },
  {
   "cell_type": "code",
   "execution_count": 79,
   "metadata": {},
   "outputs": [
    {
     "name": "stdout",
     "output_type": "stream",
     "text": [
      "Invalid IP address\n"
     ]
    }
   ],
   "source": [
    "import ipaddress\n",
    "ip=\"192.168.0\"\n",
    "try:\n",
    "    ipaddress.IPv4Address(ip)\n",
    "    print(\"Valid IP Address\")\n",
    "except ipaddress.AddressValueError:\n",
    "    print(\"Invalid IP address\")"
   ]
  },
  {
   "cell_type": "markdown",
   "metadata": {},
   "source": [
    "### 17. Check if a number is a narcissistic number (also known as Armstrong number). (A narcissistic number is a number that is the sum of its own digits each raised to the power of the number of digits)."
   ]
  },
  {
   "cell_type": "code",
   "execution_count": 84,
   "metadata": {},
   "outputs": [
    {
     "name": "stdout",
     "output_type": "stream",
     "text": [
      "153\n",
      "Not a Armstrong Number\n"
     ]
    }
   ],
   "source": [
    "num=input()\n",
    "num_digit=len(num)\n",
    "sum_of_power=sum(int(digit)**num_digit for digit in num)\n",
    "\n",
    "if sum_of_power==num:\n",
    "    print(\"Armstrong Number\")\n",
    "else:\n",
    "    print(\"Not a Armstrong Number\")\n"
   ]
  },
  {
   "cell_type": "markdown",
   "metadata": {},
   "source": [
    "### 18. Determine if a string is a valid JSON.\n"
   ]
  },
  {
   "cell_type": "code",
   "execution_count": 86,
   "metadata": {},
   "outputs": [
    {
     "name": "stdout",
     "output_type": "stream",
     "text": [
      "Valid Json\n"
     ]
    }
   ],
   "source": [
    "import json\n",
    "json_str = '{\"name\": \"John\", \"age\": 30}'\n",
    "try:\n",
    "    json.loads(json_str)\n",
    "    print(\"Valid Json\")\n",
    "except json.JSONDecodeError:\n",
    "    print(\"invalid\")"
   ]
  },
  {
   "cell_type": "markdown",
   "metadata": {},
   "source": [
    "### 19.  Check if a given year is a \"humpback\" year. (A humpback year is a year whose digits are in a humpback pattern, e.g., 12321)."
   ]
  },
  {
   "cell_type": "code",
   "execution_count": 87,
   "metadata": {},
   "outputs": [
    {
     "name": "stdout",
     "output_type": "stream",
     "text": [
      "12321\n",
      "Humpback Year\n"
     ]
    }
   ],
   "source": [
    "year=input()\n",
    "if year==year[::-1] and len(year)==5:\n",
    "    print(\"Humpback Year\")\n",
    "else:\n",
    "    print(\"Not a Humpback Year\")"
   ]
  },
  {
   "cell_type": "markdown",
   "metadata": {},
   "source": [
    "### 20.  Determine the type of a triangle based on its sides (a, b, c). (Types: equilateral, isosceles, or scalene)."
   ]
  },
  {
   "cell_type": "code",
   "execution_count": 88,
   "metadata": {},
   "outputs": [
    {
     "name": "stdout",
     "output_type": "stream",
     "text": [
      "Isoscles triengle\n"
     ]
    }
   ],
   "source": [
    "a,b,c=5,5,6\n",
    "if a==b==c:\n",
    "    print(\"Equilatreral Triengle\")\n",
    "elif a==b or b==c or a==c:\n",
    "    print(\"Isoscles triengle\")\n",
    "else:\n",
    "    print(\"Scalene triangle\")"
   ]
  },
  {
   "cell_type": "markdown",
   "metadata": {},
   "source": [
    "### 21 Determine if a given string is a valid palindrome sentence. (Ignoring spaces, punctuation, and case).\n"
   ]
  },
  {
   "cell_type": "code",
   "execution_count": 89,
   "metadata": {},
   "outputs": [
    {
     "name": "stdout",
     "output_type": "stream",
     "text": [
      "Valid palindrome Sentence\n"
     ]
    }
   ],
   "source": [
    "import re\n",
    "sentence = \"A man, a plan, a canal: Panama\"\n",
    "clean_sentence=re.sub(r'[^a-zA-z0-9]','',sentence).lower()\n",
    "\n",
    "if clean_sentence==clean_sentence[::-1]:\n",
    "    print(\"Valid palindrome Sentence\")\n",
    "else:\n",
    "    print(\"Not a valid Palindrom Sentence\")"
   ]
  },
  {
   "cell_type": "markdown",
   "metadata": {},
   "source": [
    "### 22.Check if a number is a \"disarium\" number. (A disarium number is a number that is the sum of its digits each raised to the power of its respective position)."
   ]
  },
  {
   "cell_type": "code",
   "execution_count": 91,
   "metadata": {},
   "outputs": [
    {
     "name": "stdout",
     "output_type": "stream",
     "text": [
      "89\n",
      "not a disarium number\n"
     ]
    }
   ],
   "source": [
    "num=input()\n",
    "num_len=len(num)\n",
    "sum_of_power=sum(int(digit)**(i+1) for i,digit in enumerate(num))\n",
    "\n",
    "if sum_of_power==num:\n",
    "    print(\"Dissarium number\")\n",
    "else:\n",
    "    print(\"not a disarium number\")"
   ]
  },
  {
   "cell_type": "markdown",
   "metadata": {},
   "source": [
    "### 23.Determine if a given string is a valid hexadecimal color code (e.g., \"#FFA500\")."
   ]
  },
  {
   "cell_type": "code",
   "execution_count": 92,
   "metadata": {},
   "outputs": [
    {
     "name": "stdout",
     "output_type": "stream",
     "text": [
      "valid Hexadecimal color code\n"
     ]
    }
   ],
   "source": [
    "import re \n",
    "color_code = \"#FFA500\"\n",
    "pattern=r\"^#[a-zA-Z0-9]{6}\"\n",
    "if re.match(pattern,color_code):\n",
    "    print(\"valid Hexadecimal color code\")\n",
    "else:\n",
    "    print(\"Invalid Hexadecimal color code\")"
   ]
  },
  {
   "cell_type": "markdown",
   "metadata": {},
   "source": [
    "### 24. Check if a string is a valid ISBN-10 number (International Standard Book Number).\n"
   ]
  },
  {
   "cell_type": "code",
   "execution_count": 93,
   "metadata": {},
   "outputs": [
    {
     "name": "stdout",
     "output_type": "stream",
     "text": [
      "valid IBSN-10\n"
     ]
    }
   ],
   "source": [
    "import re\n",
    "isbn = \"0471958697\"\n",
    "pattern=r\"^\\d{9}(\\d|X)$\"\n",
    "if re.match(pattern,isbn):\n",
    "    print(\"valid IBSN-10\")\n",
    "else:\n",
    "    print(\"Invalid\")"
   ]
  },
  {
   "cell_type": "markdown",
   "metadata": {},
   "source": [
    "### 25.Determine if a given number is a Harshad number (Niven number). (A Harshad number is a number that is divisible by the sum of its digits)."
   ]
  },
  {
   "cell_type": "code",
   "execution_count": 101,
   "metadata": {},
   "outputs": [
    {
     "name": "stdout",
     "output_type": "stream",
     "text": [
      "18\n",
      "Harshad number\n"
     ]
    }
   ],
   "source": [
    "num=int(input())\n",
    "sum_of_digits = sum(int(digit) for digit in str(num))\n",
    "\n",
    "if num % sum_of_digits == 0:\n",
    "    print(\"Harshad number\")\n",
    "else:\n",
    "    print(\"Not a Harshad number\")\n"
   ]
  },
  {
   "cell_type": "code",
   "execution_count": null,
   "metadata": {},
   "outputs": [],
   "source": []
  }
 ],
 "metadata": {
  "kernelspec": {
   "display_name": "Python 3",
   "language": "python",
   "name": "python3"
  },
  "language_info": {
   "codemirror_mode": {
    "name": "ipython",
    "version": 3
   },
   "file_extension": ".py",
   "mimetype": "text/x-python",
   "name": "python",
   "nbconvert_exporter": "python",
   "pygments_lexer": "ipython3",
   "version": "3.7.6"
  }
 },
 "nbformat": 4,
 "nbformat_minor": 4
}
