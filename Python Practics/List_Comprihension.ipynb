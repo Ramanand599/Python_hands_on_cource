{
 "cells": [
  {
   "cell_type": "code",
   "execution_count": 2,
   "metadata": {},
   "outputs": [
    {
     "name": "stdout",
     "output_type": "stream",
     "text": [
      "[1, 4, 9, 16, 25, 36, 49, 64, 81, 100]\n"
     ]
    }
   ],
   "source": [
    "#Create a list of squares for numbers from 1 to 10:\n",
    "square=[i**2 for i in range(1,11)]\n",
    "print(square)"
   ]
  },
  {
   "cell_type": "code",
   "execution_count": 3,
   "metadata": {},
   "outputs": [
    {
     "name": "stdout",
     "output_type": "stream",
     "text": [
      "[2, 4, 6, 8, 10]\n"
     ]
    }
   ],
   "source": [
    "# Create a list of even numbers from 1 to 20:\n",
    "even=[i for i in range(1,11) if i%2==0]\n",
    "print(even)"
   ]
  },
  {
   "cell_type": "code",
   "execution_count": 4,
   "metadata": {},
   "outputs": [
    {
     "name": "stdout",
     "output_type": "stream",
     "text": [
      "['J', 'A', 'M']\n"
     ]
    }
   ],
   "source": [
    "#Extract the first letter from a list of names:\n",
    "name=[\"Jon\",\"Alice\",\"Mendy\"]\n",
    "first_latter=[i[0] for i in name]\n",
    "print(first_latter)"
   ]
  },
  {
   "cell_type": "code",
   "execution_count": 6,
   "metadata": {},
   "outputs": [
    {
     "name": "stdout",
     "output_type": "stream",
     "text": [
      "[-9, -6, -1]\n"
     ]
    }
   ],
   "source": [
    "#Filter out negative numbers from a list:\n",
    "lst=[1,2,-9,-6,5,-1,5,7]\n",
    "negative_number=[x for x in lst if x<0]\n",
    "print(negative_number)"
   ]
  },
  {
   "cell_type": "code",
   "execution_count": 7,
   "metadata": {},
   "outputs": [
    {
     "name": "stdout",
     "output_type": "stream",
     "text": [
      "[32.0, 50.0, 68.0, 86.0, 104.0]\n"
     ]
    }
   ],
   "source": [
    "# Convert a list of temperatures from Celsius to Fahrenheit:\n",
    "celsius_temperatures = [0, 10, 20, 30, 40]\n",
    "f=[(x*9/5)+32 for x in celsius_temperatures]\n",
    "print(f)"
   ]
  },
  {
   "cell_type": "code",
   "execution_count": 8,
   "metadata": {},
   "outputs": [
    {
     "name": "stdout",
     "output_type": "stream",
     "text": [
      "['banana', 'cherry', 'elderberry']\n"
     ]
    }
   ],
   "source": [
    "#Create a list of words with a length greater than 5:\n",
    "words = [\"apple\", \"banana\", \"cherry\", \"date\", \"elderberry\"]\n",
    "greater=[x for x in words if len(x)>5]\n",
    "print(greater)"
   ]
  },
  {
   "cell_type": "code",
   "execution_count": 13,
   "metadata": {},
   "outputs": [
    {
     "name": "stdout",
     "output_type": "stream",
     "text": [
      "[(1, 1), (2, 4), (3, 9), (4, 16), (5, 25)]\n"
     ]
    }
   ],
   "source": [
    "#Create a list of tuples containing numbers and their squares from 1 to 5:\n",
    "square=[(x,x**2) for x in range(1,6)]\n",
    "print(square)"
   ]
  },
  {
   "cell_type": "code",
   "execution_count": 14,
   "metadata": {},
   "outputs": [
    {
     "name": "stdout",
     "output_type": "stream",
     "text": [
      "[1, 2, 3, 4, 5, 6, 7, 8, 9]\n"
     ]
    }
   ],
   "source": [
    "# Flatten a list of lists:\n",
    "matrix = [[1, 2, 3], [4, 5, 6], [7, 8, 9]]\n",
    "flat_lst=[col for row in matrix for col in row]\n",
    "print(flat_lst)"
   ]
  },
  {
   "cell_type": "code",
   "execution_count": 15,
   "metadata": {},
   "outputs": [
    {
     "name": "stdout",
     "output_type": "stream",
     "text": [
      "['H', 'l', 'l', 'w', 'r', 'l', 'd']\n"
     ]
    }
   ],
   "source": [
    "#Filter out vowels from a string:\n",
    "text = \"Hello, world!\"\n",
    "consonents=[char for char in text if char.isalpha() and char.lower() not in \"aeiou\"]\n",
    "print(consonents)"
   ]
  },
  {
   "cell_type": "code",
   "execution_count": 19,
   "metadata": {},
   "outputs": [
    {
     "name": "stdout",
     "output_type": "stream",
     "text": [
      "[2, 3, 5, 7, 11, 13, 17, 19, 23, 29, 31, 37, 41, 43, 47]\n"
     ]
    }
   ],
   "source": [
    "# Create a list of prime numbers from 1 to 50:\n",
    "def prime(n):\n",
    "    if n <= 1:\n",
    "        return False\n",
    "    for i in range(2, int(n**0.5) + 1):\n",
    "        if n % i == 0:\n",
    "            return False\n",
    "    return True\n",
    "    \n",
    "primes=[x for x in range(1,51) if prime(x)]\n",
    "print(primes)"
   ]
  },
  {
   "cell_type": "code",
   "execution_count": 20,
   "metadata": {},
   "outputs": [
    {
     "name": "stdout",
     "output_type": "stream",
     "text": [
      "['1 is odd', '2 is Even', '3 is odd', '4 is Even', '5 is odd', '6 is Even', '7 is odd', '8 is Even', '9 is odd', '10 is Even']\n"
     ]
    }
   ],
   "source": [
    "# Generate a list of strings representing even and odd numbers from 1 to 10:\n",
    "even_odd=[f\"{x} is Even\" if x%2==0 else f\"{x} is odd\" for x in range(1,11)]\n",
    "print(even_odd)"
   ]
  },
  {
   "cell_type": "code",
   "execution_count": 22,
   "metadata": {},
   "outputs": [
    {
     "name": "stdout",
     "output_type": "stream",
     "text": [
      "['APPLE', 'ELDERBERRY']\n"
     ]
    }
   ],
   "source": [
    "# Filter and capitalize words starting with a vowel:\n",
    "words = [\"apple\", \"banana\", \"cherry\", \"date\", \"elderberry\"]\n",
    "vowel=[x.upper() for x in words if x[0].lower() in \"aeiou\"]\n",
    "print(vowel)"
   ]
  },
  {
   "cell_type": "code",
   "execution_count": 23,
   "metadata": {},
   "outputs": [
    {
     "name": "stdout",
     "output_type": "stream",
     "text": [
      "[15, 30, 45]\n"
     ]
    }
   ],
   "source": [
    "# Generate a list of multiples of 3 and 5 from 1 to 50:\n",
    "multiple=[x for x in range(1,51) if x%15==0]\n",
    "print(multiple)"
   ]
  },
  {
   "cell_type": "code",
   "execution_count": 25,
   "metadata": {},
   "outputs": [
    {
     "name": "stdout",
     "output_type": "stream",
     "text": [
      "[3, 5, 6, 9, 10, 12, 15, 18, 20, 21, 24, 25, 27, 30, 33, 35, 36, 39, 40, 42, 45, 48, 50]\n"
     ]
    }
   ],
   "source": [
    "multiple=[x for x in range(1,51) if x%3==0 or x%5==0]\n",
    "print(multiple)"
   ]
  },
  {
   "cell_type": "code",
   "execution_count": 28,
   "metadata": {},
   "outputs": [
    {
     "name": "stdout",
     "output_type": "stream",
     "text": [
      "[(1, 10), (1, 20), (1, 30), (2, 10), (2, 20), (2, 30), (3, 10), (3, 20), (3, 30)]\n"
     ]
    }
   ],
   "source": [
    "# Create a list of all pairs of numbers from two different lists:\n",
    "list1 = [1, 2, 3]\n",
    "list2 = [10, 20, 30]\n",
    "pairs = [(x, y) for x in list1 for y in list2]\n",
    "print(pairs)"
   ]
  },
  {
   "cell_type": "code",
   "execution_count": 30,
   "metadata": {},
   "outputs": [
    {
     "name": "stdout",
     "output_type": "stream",
     "text": [
      "['the', 'dog', 'fox', 'over', 'quick', 'lazy', 'jumps', 'brown']\n"
     ]
    }
   ],
   "source": [
    "# Extract unique words from a sentence:\n",
    "sentence = \"The quick brown fox jumps over the lazy dog\"\n",
    "unique_words=list(set(word.lower() for word in sentence.split()))\n",
    "print(unique_words)"
   ]
  },
  {
   "cell_type": "code",
   "execution_count": 33,
   "metadata": {},
   "outputs": [
    {
     "name": "stdout",
     "output_type": "stream",
     "text": [
      "['the', 'dog', 'fox', 'over', 'quick', 'lazy', 'jumps', 'brown']\n"
     ]
    }
   ],
   "source": [
    "print(list(set(word.lower() for word in sentence.split())))"
   ]
  },
  {
   "cell_type": "code",
   "execution_count": 35,
   "metadata": {},
   "outputs": [
    {
     "name": "stdout",
     "output_type": "stream",
     "text": [
      "[1, 2, 3, 4, 5]\n"
     ]
    }
   ],
   "source": [
    "#Flatten a list of lists and remove duplicates:\n",
    "nested_list = [[1, 2, 3], [2, 3, 4], [3, 4, 5]]\n",
    "print(list(set(col for row in nested_list for col in row)))"
   ]
  },
  {
   "cell_type": "code",
   "execution_count": 41,
   "metadata": {},
   "outputs": [
    {
     "name": "stdout",
     "output_type": "stream",
     "text": [
      "[datetime.date(2023, 10, 1), datetime.date(2023, 10, 2), datetime.date(2023, 10, 3), datetime.date(2023, 10, 4), datetime.date(2023, 10, 5), datetime.date(2023, 10, 6), datetime.date(2023, 10, 7), datetime.date(2023, 10, 8), datetime.date(2023, 10, 9), datetime.date(2023, 10, 10), datetime.date(2023, 10, 11), datetime.date(2023, 10, 12), datetime.date(2023, 10, 13), datetime.date(2023, 10, 14), datetime.date(2023, 10, 15), datetime.date(2023, 10, 16), datetime.date(2023, 10, 17), datetime.date(2023, 10, 18), datetime.date(2023, 10, 19), datetime.date(2023, 10, 20), datetime.date(2023, 10, 21), datetime.date(2023, 10, 22), datetime.date(2023, 10, 23), datetime.date(2023, 10, 24), datetime.date(2023, 10, 25), datetime.date(2023, 10, 26), datetime.date(2023, 10, 27), datetime.date(2023, 10, 28), datetime.date(2023, 10, 29), datetime.date(2023, 10, 30), datetime.date(2023, 10, 31)]\n"
     ]
    }
   ],
   "source": [
    "# Create a list of dates for a month, given the number of days:\n",
    "import datetime\n",
    "\n",
    "num_days = 31\n",
    "start_date = datetime.date(2023, 10, 1)\n",
    "dates = [start_date + datetime.timedelta(days=i) for i in range(num_days)]\n",
    "print(dates)"
   ]
  },
  {
   "cell_type": "code",
   "execution_count": 45,
   "metadata": {},
   "outputs": [
    {
     "name": "stdout",
     "output_type": "stream",
     "text": [
      "[72, 101, 108, 108, 111, 44, 32, 119, 111, 114, 108, 100, 33]\n"
     ]
    }
   ],
   "source": [
    "# Generate a list of ASCII values for characters in a string:\n",
    "text = \"Hello, world!\"\n",
    "ascii_values = [ord(char) for char in text]\n",
    "print(ascii_values)"
   ]
  },
  {
   "cell_type": "code",
   "execution_count": 50,
   "metadata": {},
   "outputs": [
    {
     "name": "stdout",
     "output_type": "stream",
     "text": [
      "nohtyP si emosewa\n"
     ]
    }
   ],
   "source": [
    "#Create a list of strings, reversing each word in a sentence:\n",
    "sentence = \"Python is awesome\"\n",
    "reverce=[i[::-1] for i in sentence.split()]\n",
    "print(\" \".join(reverce))"
   ]
  },
  {
   "cell_type": "code",
   "execution_count": 51,
   "metadata": {},
   "outputs": [
    {
     "name": "stdout",
     "output_type": "stream",
     "text": [
      "[(1, 'A'), (2, 'B'), (3, 'C')]\n"
     ]
    }
   ],
   "source": [
    "# Combine two lists into a list of tuples:\n",
    "list1 = [1, 2, 3]\n",
    "list2 = ['A', 'B', 'C']\n",
    "combine=[(x,y) for x,y in zip(list1,list2)]\n",
    "print(combine)"
   ]
  },
  {
   "cell_type": "code",
   "execution_count": null,
   "metadata": {},
   "outputs": [],
   "source": []
  }
 ],
 "metadata": {
  "kernelspec": {
   "display_name": "Python 3",
   "language": "python",
   "name": "python3"
  },
  "language_info": {
   "codemirror_mode": {
    "name": "ipython",
    "version": 3
   },
   "file_extension": ".py",
   "mimetype": "text/x-python",
   "name": "python",
   "nbconvert_exporter": "python",
   "pygments_lexer": "ipython3",
   "version": "3.7.6"
  }
 },
 "nbformat": 4,
 "nbformat_minor": 4
}
