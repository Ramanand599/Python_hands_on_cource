{
 "cells": [
  {
   "cell_type": "markdown",
   "id": "bbdcdcfd",
   "metadata": {},
   "source": [
    "### Python splitfields() Method"
   ]
  },
  {
   "cell_type": "code",
   "execution_count": 2,
   "id": "4c15f513",
   "metadata": {},
   "outputs": [
    {
     "ename": "AttributeError",
     "evalue": "'int' object has no attribute 'splitfields'",
     "output_type": "error",
     "traceback": [
      "\u001b[1;31m---------------------------------------------------------------------------\u001b[0m",
      "\u001b[1;31mAttributeError\u001b[0m                            Traceback (most recent call last)",
      "Cell \u001b[1;32mIn[2], line 2\u001b[0m\n\u001b[0;32m      1\u001b[0m num \u001b[38;5;241m=\u001b[39m \u001b[38;5;241m123\u001b[39m\n\u001b[1;32m----> 2\u001b[0m fields \u001b[38;5;241m=\u001b[39m num\u001b[38;5;241m.\u001b[39msplitfields(\u001b[38;5;124m\"\u001b[39m\u001b[38;5;124m,\u001b[39m\u001b[38;5;124m\"\u001b[39m)\n",
      "\u001b[1;31mAttributeError\u001b[0m: 'int' object has no attribute 'splitfields'"
     ]
    }
   ],
   "source": [
    "num = 123\n",
    "fields = num.splitfields(\",\") ## It give me AttributeError: 'int' object has no attribute 'splitfields'"
   ]
  },
  {
   "cell_type": "code",
   "execution_count": 16,
   "id": "3fe1ebe6",
   "metadata": {},
   "outputs": [
    {
     "name": "stdout",
     "output_type": "stream",
     "text": [
      "['The', 'quick', 'brown', 'fox']\n"
     ]
    }
   ],
   "source": [
    "class MyString(str):\n",
    "    def splitfields(self,sep=None):\n",
    "        if sep is None:\n",
    "            return self.split()\n",
    "        return self.split(sep)\n",
    "string = \"The quick brown fox\"\n",
    "print(MyString(string).splitfields())"
   ]
  },
  {
   "cell_type": "code",
   "execution_count": 19,
   "id": "ad4f477a",
   "metadata": {},
   "outputs": [
    {
     "name": "stdout",
     "output_type": "stream",
     "text": [
      "['123']\n"
     ]
    }
   ],
   "source": [
    "str2 = 123\n",
    "print(MyString(str2).splitfields())"
   ]
  },
  {
   "cell_type": "code",
   "execution_count": 8,
   "id": "9ed7aa67",
   "metadata": {},
   "outputs": [
    {
     "name": "stdout",
     "output_type": "stream",
     "text": [
      "[1, 2, 3]\n"
     ]
    }
   ],
   "source": [
    "num = 123\n",
    "fields = [int(sub) for sub in str(num)]\n",
    "print(fields)"
   ]
  },
  {
   "cell_type": "code",
   "execution_count": 11,
   "id": "55c76270",
   "metadata": {},
   "outputs": [
    {
     "name": "stdout",
     "output_type": "stream",
     "text": [
      "['The', 'quick', 'brown', 'fox']\n"
     ]
    }
   ],
   "source": [
    "class MyString(str):\n",
    "    def splitfields(self,sep=None):\n",
    "        if sep is None:\n",
    "            return self.split()\n",
    "        return self.split(sep)\n",
    "string = \"The quick brown fox\"\n",
    "print(MyString(string).splitfields())    "
   ]
  },
  {
   "cell_type": "code",
   "execution_count": 14,
   "id": "a7c0812a",
   "metadata": {},
   "outputs": [
    {
     "name": "stdout",
     "output_type": "stream",
     "text": [
      "['The', 'quick', 'brown', 'fox']\n"
     ]
    }
   ],
   "source": [
    "lst1= [\"The\", \"quick\", \"brown\", \"fox\"] \n",
    "print(MyString(\" \".join(lst1)).splitfields())"
   ]
  },
  {
   "cell_type": "code",
   "execution_count": 15,
   "id": "f93a516a",
   "metadata": {},
   "outputs": [
    {
     "name": "stdout",
     "output_type": "stream",
     "text": [
      "['apple', 'banana', 'orange']\n"
     ]
    }
   ],
   "source": [
    "lst2 = [\"apple\", \"banana\", \"orange\"] \n",
    "print(MyString(\",\".join(lst2)).splitfields(\",\"))"
   ]
  },
  {
   "cell_type": "code",
   "execution_count": 22,
   "id": "55110e3b",
   "metadata": {},
   "outputs": [
    {
     "name": "stdout",
     "output_type": "stream",
     "text": [
      "['fox', 'brown', 'quick', 'The']\n"
     ]
    }
   ],
   "source": [
    "class MyString(str):\n",
    "    def splitfields(self,sep=None):\n",
    "        if sep is None:\n",
    "            return self.split()\n",
    "        return self.split(sep)\n",
    "class MySet(set):\n",
    "    def splitfields(self,sep=None):\n",
    "        str_set = \" \".join(self)\n",
    "        return MyString(str_set).splitfields(sep)\n",
    "set1 = {\"The\", \"quick\", \"brown\", \"fox\"} \n",
    "print(MySet(set1).splitfields())"
   ]
  },
  {
   "cell_type": "markdown",
   "id": "35773347",
   "metadata": {},
   "source": [
    "### How to get list of parameters name from a function in Python?"
   ]
  },
  {
   "cell_type": "code",
   "execution_count": 25,
   "id": "eeefe7eb",
   "metadata": {},
   "outputs": [
    {
     "name": "stdout",
     "output_type": "stream",
     "text": [
      "(iterable=None, /, **kwds)\n"
     ]
    }
   ],
   "source": [
    "# import required modules \n",
    "import inspect \n",
    "import collections \n",
    "  \n",
    "# use signature() \n",
    "print(inspect.signature(collections.Counter)) "
   ]
  },
  {
   "cell_type": "code",
   "execution_count": 26,
   "id": "f3f7f3ec",
   "metadata": {},
   "outputs": [
    {
     "name": "stdout",
     "output_type": "stream",
     "text": [
      "(a, b)\n"
     ]
    }
   ],
   "source": [
    "def fun(a,b):\n",
    "    return a ** b\n",
    "import inspect\n",
    "print(inspect.signature(fun))"
   ]
  },
  {
   "cell_type": "code",
   "execution_count": 27,
   "id": "1d02ca6d",
   "metadata": {},
   "outputs": [
    {
     "name": "stdout",
     "output_type": "stream",
     "text": [
      "(obj, /)\n"
     ]
    }
   ],
   "source": [
    "import inspect\n",
    "print(inspect.signature(len))"
   ]
  },
  {
   "cell_type": "code",
   "execution_count": 29,
   "id": "71627181",
   "metadata": {},
   "outputs": [
    {
     "name": "stdout",
     "output_type": "stream",
     "text": [
      "(iterable=None, /, **kwds)\n"
     ]
    }
   ],
   "source": [
    "import collections\n",
    "from inspect import signature\n",
    "print(signature(collections.Counter))"
   ]
  },
  {
   "cell_type": "code",
   "execution_count": 31,
   "id": "52938895",
   "metadata": {},
   "outputs": [
    {
     "name": "stdout",
     "output_type": "stream",
     "text": [
      "['iterable', 'kwds']\n"
     ]
    }
   ],
   "source": [
    "import collections\n",
    "import inspect\n",
    "\n",
    "# Use signature()\n",
    "signature = inspect.signature(collections.Counter)\n",
    "parameters = signature.parameters\n",
    "\n",
    "# Get the names of the parameters\n",
    "parameter_names = list(parameters.keys())\n",
    "print(parameter_names)\n"
   ]
  },
  {
   "cell_type": "markdown",
   "id": "65f4b9a5",
   "metadata": {},
   "source": [
    "### How to Print Multiple Arguments in Python?"
   ]
  },
  {
   "cell_type": "code",
   "execution_count": 2,
   "id": "bdbfe526",
   "metadata": {},
   "outputs": [
    {
     "name": "stdout",
     "output_type": "stream",
     "text": [
      "Hello from geeks for geeks, 25\n"
     ]
    }
   ],
   "source": [
    "def info(name,num):\n",
    "    print(\"Hello from\",name+\", \"+num)\n",
    "info(\"geeks for geeks\",\"25\")"
   ]
  },
  {
   "cell_type": "code",
   "execution_count": 4,
   "id": "3d33da1b",
   "metadata": {},
   "outputs": [
    {
     "name": "stdout",
     "output_type": "stream",
     "text": [
      "Hello from rahul, 24\n",
      "Hello from geeks for geeks, 25\n"
     ]
    }
   ],
   "source": [
    "def info(name,num=\"24\"):\n",
    "    print(\"Hello from\",name+\", \"+num)\n",
    "info(\"rahul\")\n",
    "info(\"geeks for geeks\",\"25\")"
   ]
  },
  {
   "cell_type": "code",
   "execution_count": 5,
   "id": "bb08a616",
   "metadata": {},
   "outputs": [
    {
     "name": "stdout",
     "output_type": "stream",
     "text": [
      "Hello from Rahul , 25\n"
     ]
    }
   ],
   "source": [
    "def info(name,num):\n",
    "    print(\"Hello from %s , %s\" %(name,num))\n",
    "info(\"Rahul\",\"25\")"
   ]
  },
  {
   "cell_type": "code",
   "execution_count": 6,
   "id": "9ea8a491",
   "metadata": {},
   "outputs": [
    {
     "name": "stdout",
     "output_type": "stream",
     "text": [
      "Hello from Rahul , 25\n"
     ]
    }
   ],
   "source": [
    "def info(name,num):\n",
    "    print(\"Hello from %(n)s , %(s)s\" %{\"n\":name,\"s\":num})\n",
    "info(\"Rahul\",\"25\")"
   ]
  },
  {
   "cell_type": "code",
   "execution_count": 7,
   "id": "92de4a67",
   "metadata": {},
   "outputs": [
    {
     "name": "stdout",
     "output_type": "stream",
     "text": [
      "hello from rahul,25\n"
     ]
    }
   ],
   "source": [
    "def info(name,num):\n",
    "    print(\"hello from {},{}\".format(name,num))\n",
    "info(\"rahul\",25)"
   ]
  },
  {
   "cell_type": "code",
   "execution_count": 8,
   "id": "f795b9eb",
   "metadata": {},
   "outputs": [
    {
     "name": "stdout",
     "output_type": "stream",
     "text": [
      "hello from rahul,25\n"
     ]
    }
   ],
   "source": [
    "def info(name,num):\n",
    "    print(f\"hello from {name},{num}\")\n",
    "info(\"rahul\",25)"
   ]
  },
  {
   "cell_type": "code",
   "execution_count": 9,
   "id": "311fca62",
   "metadata": {},
   "outputs": [
    {
     "name": "stdout",
     "output_type": "stream",
     "text": [
      "['hello from', 'gfg', 23]\n",
      "['hello', 'krc', 56]\n"
     ]
    }
   ],
   "source": [
    "### using *args:\n",
    "def info(*args):\n",
    "    for info in args:\n",
    "        print(info)\n",
    "info([\"hello from\",\"gfg\",23],[\"hello\",\"krc\",56])"
   ]
  },
  {
   "cell_type": "code",
   "execution_count": 10,
   "id": "c542c100",
   "metadata": {},
   "outputs": [
    {
     "name": "stdout",
     "output_type": "stream",
     "text": [
      "name ram\n",
      "num 45\n",
      "name sham\n",
      "num 78\n"
     ]
    }
   ],
   "source": [
    "## using **kwards\n",
    "def info(**kwards):\n",
    "    for key,val in kwards.items():\n",
    "        print(key,val)\n",
    "        \n",
    "info(name=\"ram\",num=45)\n",
    "info(name=\"sham\",num=78)"
   ]
  },
  {
   "cell_type": "markdown",
   "id": "9bf2e0fd",
   "metadata": {},
   "source": [
    "### Python program to find the power of a number using recursion"
   ]
  },
  {
   "cell_type": "code",
   "execution_count": 15,
   "id": "5cf7a49a",
   "metadata": {},
   "outputs": [
    {
     "name": "stdout",
     "output_type": "stream",
     "text": [
      "25\n",
      "125\n",
      "625\n"
     ]
    }
   ],
   "source": [
    "def power(n,p):\n",
    "    if p==0:\n",
    "        return 1\n",
    "    return (n*power(n,p-1))\n",
    "print(power(5,2))\n",
    "print(power(5,3))\n",
    "print(power(5,4))"
   ]
  },
  {
   "cell_type": "code",
   "execution_count": 17,
   "id": "9b2bc60d",
   "metadata": {},
   "outputs": [
    {
     "data": {
      "text/plain": [
       "625"
      ]
     },
     "execution_count": 17,
     "metadata": {},
     "output_type": "execute_result"
    }
   ],
   "source": [
    "def power(N,P):\n",
    "    if P==0:\n",
    "        return 1\n",
    "    if P%2 == 0:\n",
    "        result = power(N,P//2)\n",
    "        return result*result\n",
    "    else:\n",
    "        result = power(N,(P-1)//2)\n",
    "        return N*result*result\n",
    "power(5,4)"
   ]
  },
  {
   "cell_type": "markdown",
   "id": "b6b9e4e7",
   "metadata": {},
   "source": [
    "### Sorting objects of user defined class in Python"
   ]
  },
  {
   "cell_type": "code",
   "execution_count": 23,
   "id": "dd78c7e1",
   "metadata": {},
   "outputs": [
    {
     "name": "stdout",
     "output_type": "stream",
     "text": [
      "[1, 3, 9, 26]\n",
      "['for', 'Geeks', 'gEEks']\n"
     ]
    }
   ],
   "source": [
    "print(sorted([1,26,3,9]))\n",
    "print(sorted(\"Geeks for gEEks\".split(),key=str.lower))"
   ]
  },
  {
   "cell_type": "code",
   "execution_count": 26,
   "id": "7a13443f",
   "metadata": {},
   "outputs": [
    {
     "name": "stdout",
     "output_type": "stream",
     "text": [
      "[('geeks', 1), ('for', 2), ('computer', 3), ('science', 3), ('geeks', 4)]\n"
     ]
    }
   ],
   "source": [
    "class info:\n",
    "    def __init__(self,a,b):\n",
    "        self.a = a\n",
    "        self.b = b\n",
    "    def __repr__(self):\n",
    "        return str((self.a,self.b))\n",
    "    \n",
    "info = [info(\"geeks\", 1), \n",
    "       info(\"computer\", 3), \n",
    "       info(\"for\", 2), \n",
    "       info(\"geeks\", 4), \n",
    "       info(\"science\", 3)]\n",
    "print(sorted(info,key=lambda x:x.b))"
   ]
  },
  {
   "cell_type": "code",
   "execution_count": 25,
   "id": "cf1b75e0",
   "metadata": {},
   "outputs": [
    {
     "data": {
      "text/plain": [
       "['__new__',\n",
       " '__repr__',\n",
       " '__call__',\n",
       " '__get__',\n",
       " '__closure__',\n",
       " '__doc__',\n",
       " '__globals__',\n",
       " '__module__',\n",
       " '__builtins__',\n",
       " '__code__',\n",
       " '__defaults__',\n",
       " '__kwdefaults__',\n",
       " '__annotations__',\n",
       " '__dict__',\n",
       " '__name__',\n",
       " '__qualname__',\n",
       " '__hash__',\n",
       " '__str__',\n",
       " '__getattribute__',\n",
       " '__setattr__',\n",
       " '__delattr__',\n",
       " '__lt__',\n",
       " '__le__',\n",
       " '__eq__',\n",
       " '__ne__',\n",
       " '__gt__',\n",
       " '__ge__',\n",
       " '__init__',\n",
       " '__reduce_ex__',\n",
       " '__reduce__',\n",
       " '__getstate__',\n",
       " '__subclasshook__',\n",
       " '__init_subclass__',\n",
       " '__format__',\n",
       " '__sizeof__',\n",
       " '__dir__',\n",
       " '__class__']"
      ]
     },
     "execution_count": 25,
     "metadata": {},
     "output_type": "execute_result"
    }
   ],
   "source": [
    "info.__dir__()"
   ]
  },
  {
   "cell_type": "code",
   "execution_count": 27,
   "id": "5f5da148",
   "metadata": {},
   "outputs": [
    {
     "name": "stdout",
     "output_type": "stream",
     "text": [
      "[('computer', 3), ('for', 2), ('geeks', 1), ('geeks', 4), ('science', 3)]\n"
     ]
    }
   ],
   "source": [
    "class info:\n",
    "    def __init__(self,a,b):\n",
    "        self.a = a\n",
    "        self.b = b\n",
    "    def __repr__(self):\n",
    "        return str((self.a,self.b))\n",
    "info = [info(\"geeks\", 1), \n",
    "       info(\"computer\", 3), \n",
    "       info(\"for\", 2), \n",
    "       info(\"geeks\", 4), \n",
    "       info(\"science\", 3)]\n",
    "print(sorted(info,key=lambda x:x.a.lower()))"
   ]
  },
  {
   "cell_type": "code",
   "execution_count": 33,
   "id": "ad3749f6",
   "metadata": {},
   "outputs": [
    {
     "name": "stdout",
     "output_type": "stream",
     "text": [
      "Inside class:\n",
      "[('geeks', 1), ('computer', 3), ('for', 2), ('geeks', 4), ('science', 3)]\n",
      "[('geeks', 1), ('for', 2), ('computer', 3), ('science', 3), ('geeks', 4)]\n"
     ]
    }
   ],
   "source": [
    "from functools import total_ordering\n",
    "@total_ordering\n",
    "class info:\n",
    "    print(\"Inside class:\")\n",
    "    def __init__(self,a,b):\n",
    "        self.a = a\n",
    "        self.b = b\n",
    "    def __lt__(self,obj):\n",
    "        return ((self.b) < (obj.b))\n",
    "    def __gt__(self,obj):\n",
    "        return ((self.b) > (obj.b))\n",
    "    def __le__(self,obj):\n",
    "        return ((self.b) <= (obj.b))\n",
    "    def __ge__(self,obj):\n",
    "        return ((self.b) >= (obj.b))\n",
    "    def __eq__(self,obj):\n",
    "        return (self.b == obj.b)\n",
    "    def __repr__(self):\n",
    "        return str((self.a,self.b))\n",
    "    \n",
    "info = [info(\"geeks\", 1), \n",
    "       info(\"computer\", 3), \n",
    "       info(\"for\", 2), \n",
    "       info(\"geeks\", 4), \n",
    "       info(\"science\", 3)]\n",
    "print(info)\n",
    "print(sorted(info))"
   ]
  },
  {
   "cell_type": "markdown",
   "id": "de0813ea",
   "metadata": {},
   "source": [
    "### Assign Function to a Variable in Python"
   ]
  },
  {
   "cell_type": "code",
   "execution_count": 38,
   "id": "3551bfd0",
   "metadata": {},
   "outputs": [
    {
     "name": "stdout",
     "output_type": "stream",
     "text": [
      "GFG\n"
     ]
    }
   ],
   "source": [
    "def a():\n",
    "    print(\"GFG\")\n",
    "var=a\n",
    "var()"
   ]
  },
  {
   "cell_type": "code",
   "execution_count": 44,
   "id": "6bb43610",
   "metadata": {},
   "outputs": [
    {
     "name": "stdout",
     "output_type": "stream",
     "text": [
      "98\n",
      "123\n",
      "98\n",
      "123\n",
      "98\n",
      "123\n"
     ]
    }
   ],
   "source": [
    "x = 123\n",
    "def sum():\n",
    "    x = 98\n",
    "    print(x)\n",
    "    print(globals()[\"x\"])\n",
    "#print(x)\n",
    "z = sum\n",
    "z()\n",
    "z()\n",
    "z()"
   ]
  },
  {
   "cell_type": "code",
   "execution_count": 46,
   "id": "1dc13ddd",
   "metadata": {},
   "outputs": [
    {
     "data": {
      "text/plain": [
       "'even number'"
      ]
     },
     "execution_count": 46,
     "metadata": {},
     "output_type": "execute_result"
    }
   ],
   "source": [
    "def even_odd(a):\n",
    "    if a%2 == 0:\n",
    "        return \"even number\"\n",
    "    return \"odd number\"\n",
    "z = even_odd\n",
    "z(7)\n",
    "z(10)"
   ]
  },
  {
   "cell_type": "markdown",
   "id": "c3a019d1",
   "metadata": {},
   "source": [
    "### Returning a function from a function – Python"
   ]
  },
  {
   "cell_type": "code",
   "execution_count": 51,
   "id": "42c06408",
   "metadata": {},
   "outputs": [
    {
     "name": "stdout",
     "output_type": "stream",
     "text": [
      "Inside the method A.\n",
      "Inside the method B.\n"
     ]
    }
   ],
   "source": [
    "def b():\n",
    "    print(\"Inside the method B.\")\n",
    "def a():\n",
    "    print(\"Inside the method A.\")\n",
    "    return b\n",
    "returned_function = a()\n",
    "returned_function()"
   ]
  },
  {
   "cell_type": "code",
   "execution_count": 57,
   "id": "aa7c769d",
   "metadata": {},
   "outputs": [
    {
     "name": "stdout",
     "output_type": "stream",
     "text": [
      "hello and Good morning.\n"
     ]
    }
   ],
   "source": [
    "def b(st2):\n",
    "    print(\"Good \"+ st2 +\".\")\n",
    "def a(st1,st2):\n",
    "    print(st1 + \" and \",end=\"\")\n",
    "    return b(st2)\n",
    "a(\"hello\",\"morning\")"
   ]
  },
  {
   "cell_type": "code",
   "execution_count": 58,
   "id": "99f21d3f",
   "metadata": {},
   "outputs": [
    {
     "name": "stdout",
     "output_type": "stream",
     "text": [
      "<function a.<locals>.<lambda> at 0x000002670E5AECA0>\n",
      "21\n"
     ]
    }
   ],
   "source": [
    "def a(u,v):\n",
    "    w = u+v\n",
    "    z = u-v\n",
    "    return lambda:print(w*z)\n",
    "re_fun = a(5,2)\n",
    "print(re_fun)\n",
    "re_fun()"
   ]
  },
  {
   "cell_type": "markdown",
   "id": "adee7315",
   "metadata": {},
   "source": [
    "### What are the allowed characters in Python function names?"
   ]
  },
  {
   "cell_type": "code",
   "execution_count": 67,
   "id": "c9d331ed",
   "metadata": {},
   "outputs": [
    {
     "ename": "SyntaxError",
     "evalue": "invalid syntax (3950678369.py, line 11)",
     "output_type": "error",
     "traceback": [
      "\u001b[1;36m  Cell \u001b[1;32mIn[67], line 11\u001b[1;36m\u001b[0m\n\u001b[1;33m    def =12\u001b[0m\n\u001b[1;37m        ^\u001b[0m\n\u001b[1;31mSyntaxError\u001b[0m\u001b[1;31m:\u001b[0m invalid syntax\n"
     ]
    }
   ],
   "source": [
    "def calculate_sum(a,b):\n",
    "    return a + b\n",
    "x = 2\n",
    "y = 5\n",
    "print(calculate_sum(x,y))\n",
    "\n",
    "\n",
    "# Python code to demonstrate \n",
    "# that we can't use special\n",
    "# character like !,@,#,$,%.etc\n",
    "def =12\n",
    "if = 2\n",
    "print(catculate_sum(def,if))"
   ]
  },
  {
   "cell_type": "code",
   "execution_count": 62,
   "id": "899e00f4",
   "metadata": {},
   "outputs": [
    {
     "name": "stdout",
     "output_type": "stream",
     "text": [
      "1058\n"
     ]
    }
   ],
   "source": [
    "var1 = 46 \n",
    "var2 = 23 \n",
    "print(var1 * var2)"
   ]
  },
  {
   "cell_type": "code",
   "execution_count": 66,
   "id": "355bbbcd",
   "metadata": {},
   "outputs": [
    {
     "ename": "SyntaxError",
     "evalue": "invalid syntax (1123007832.py, line 3)",
     "output_type": "error",
     "traceback": [
      "\u001b[1;36m  Cell \u001b[1;32mIn[66], line 3\u001b[1;36m\u001b[0m\n\u001b[1;33m    var@ = 12 #special charecter has it's own meaning that is way we can not use as a identifier\u001b[0m\n\u001b[1;37m         ^\u001b[0m\n\u001b[1;31mSyntaxError\u001b[0m\u001b[1;31m:\u001b[0m invalid syntax\n"
     ]
    }
   ],
   "source": [
    "# invalid identifier, \n",
    "# will give invalid syntax error\n",
    "var@ = 12 #special charecter has it's own meaning that is way we can not use as a identifier\n",
    "$var = 55 \n",
    "print(var@ * $var)"
   ]
  },
  {
   "cell_type": "code",
   "execution_count": 65,
   "id": "4e539019",
   "metadata": {},
   "outputs": [
    {
     "ename": "SyntaxError",
     "evalue": "expected '(' (733128275.py, line 3)",
     "output_type": "error",
     "traceback": [
      "\u001b[1;36m  Cell \u001b[1;32mIn[65], line 3\u001b[1;36m\u001b[0m\n\u001b[1;33m    def my_function%():\u001b[0m\n\u001b[1;37m                   ^\u001b[0m\n\u001b[1;31mSyntaxError\u001b[0m\u001b[1;31m:\u001b[0m expected '('\n"
     ]
    }
   ],
   "source": [
    " \n",
    "# even function names can't\n",
    "# have special characters\n",
    "def my_function%():\n",
    "  print('This is a function with invalid identifier')\n",
    "   \n",
    "my_function%()"
   ]
  },
  {
   "cell_type": "code",
   "execution_count": 68,
   "id": "d39ccefa",
   "metadata": {},
   "outputs": [
    {
     "name": "stdout",
     "output_type": "stream",
     "text": [
      "2020\n",
      "This is a string QWERTY\n"
     ]
    }
   ],
   "source": [
    "# Python program to demonstrate \n",
    "# some examples of valid identifiers\n",
    " \n",
    "var1 = 101\n",
    "ABC = \"This is a string\"\n",
    "fr12 = 20\n",
    "x_y = 'GfG'\n",
    "slp__72 = ' QWERTY'\n",
    " \n",
    "print(var1 * fr12)\n",
    " \n",
    "print(ABC + slp__72)"
   ]
  },
  {
   "cell_type": "markdown",
   "id": "1afa24af",
   "metadata": {},
   "source": [
    "### Defining a Python function at runtime"
   ]
  },
  {
   "cell_type": "code",
   "execution_count": 74,
   "id": "36ea1155",
   "metadata": {},
   "outputs": [
    {
     "name": "stdout",
     "output_type": "stream",
     "text": [
      "None\n"
     ]
    }
   ],
   "source": [
    "from types import FunctionType\n",
    "f_code = compile('def info():return \"Hello,Welcome to python Excercise\"',\"<string>\",\"exec\")\n",
    "f_func = FunctionType(f_code,globals(),\"info\")\n",
    "print(f_func())"
   ]
  },
  {
   "cell_type": "code",
   "execution_count": 78,
   "id": "e76b6069",
   "metadata": {},
   "outputs": [
    {
     "name": "stdout",
     "output_type": "stream",
     "text": [
      "Hello, Welcome to Python Exercise\n"
     ]
    }
   ],
   "source": [
    "from types import FunctionType\n",
    "\n",
    "from types import FunctionType\n",
    "\n",
    "code = 'def info(): return \"Hello, Welcome to Python Exercise\"'\n",
    "f_code = compile(code, \"<string>\", \"exec\")\n",
    "namespace = {}\n",
    "exec(f_code, globals(), namespace)\n",
    "f_func = namespace['info']\n",
    "\n",
    "print(f_func())\n"
   ]
  },
  {
   "cell_type": "markdown",
   "id": "fd96f8f0",
   "metadata": {},
   "source": [
    "### Explicitly define datatype in a Python function"
   ]
  },
  {
   "cell_type": "code",
   "execution_count": 80,
   "id": "cf665f56",
   "metadata": {},
   "outputs": [
    {
     "name": "stdout",
     "output_type": "stream",
     "text": [
      "Datatype of num1 is: <class 'int'>\n",
      "Datatype of num2 is: <class 'int'>\n",
      "211\n",
      "Datatype of num1 is: <class 'str'>\n",
      "Datatype of num2 is: <class 'str'>\n",
      "111100\n"
     ]
    }
   ],
   "source": [
    "def concatenate(num1,num2):\n",
    "    print(\"Datatype of num1 is:\",type(num1))\n",
    "    print(\"Datatype of num2 is:\",type(num2))\n",
    "    return num1 + num2\n",
    "print(concatenate(111,100))\n",
    "print(concatenate(str(111),str(100)))"
   ]
  },
  {
   "cell_type": "markdown",
   "id": "0d0fbff0",
   "metadata": {},
   "source": [
    "### Functions that accept variable length key value pair as arguments"
   ]
  },
  {
   "cell_type": "code",
   "execution_count": 82,
   "id": "00449524",
   "metadata": {},
   "outputs": [
    {
     "name": "stdout",
     "output_type": "stream",
     "text": [
      "{'arg_1': 'ram', 'arg_2': 'sham'}\n"
     ]
    }
   ],
   "source": [
    "def printkwargs(**kwargs):\n",
    "    print(kwargs)\n",
    "    \n",
    "printkwargs(arg_1=\"ram\",arg_2=\"sham\")"
   ]
  },
  {
   "cell_type": "code",
   "execution_count": 84,
   "id": "f171c7a2",
   "metadata": {},
   "outputs": [
    {
     "name": "stdout",
     "output_type": "stream",
     "text": [
      "The value of abb is : ram\n",
      "The value of full_name is : sham\n"
     ]
    }
   ],
   "source": [
    "def printvalues(**kwargs):\n",
    "    for key,val in kwargs.items():\n",
    "        print(f\"The value of {key} is : {val}\")\n",
    "printvalues(abb=\"ram\",full_name=\"sham\")"
   ]
  },
  {
   "cell_type": "code",
   "execution_count": 90,
   "id": "2d3b68b8",
   "metadata": {},
   "outputs": [
    {
     "name": "stdout",
     "output_type": "stream",
     "text": [
      "240\n"
     ]
    }
   ],
   "source": [
    "def multiply(**kwargs):\n",
    "    final_val = 1\n",
    "    for val in kwargs.values():\n",
    "        final_val *= val\n",
    "    return final_val\n",
    "print(multiply(a=2,b=4,c=5,d=6))"
   ]
  },
  {
   "cell_type": "markdown",
   "id": "9565c940",
   "metadata": {},
   "source": [
    "### How to find the number of arguments in a Python function?"
   ]
  },
  {
   "cell_type": "code",
   "execution_count": 91,
   "id": "0e4c6044",
   "metadata": {},
   "outputs": [
    {
     "name": "stdout",
     "output_type": "stream",
     "text": [
      "The number of arguments are: 4\n"
     ]
    }
   ],
   "source": [
    "def no_of_arg(*arg):\n",
    "    return (len(arg))\n",
    "a=1\n",
    "n=no_of_arg(1,2,3,a)\n",
    "print(\"The number of arguments are:\",n)"
   ]
  },
  {
   "cell_type": "markdown",
   "id": "4946c16c",
   "metadata": {},
   "source": [
    "### How to check if a Python variable exists?"
   ]
  },
  {
   "cell_type": "code",
   "execution_count": 94,
   "id": "71fffe69",
   "metadata": {},
   "outputs": [
    {
     "data": {
      "text/plain": [
       "True"
      ]
     },
     "execution_count": 94,
     "metadata": {},
     "output_type": "execute_result"
    }
   ],
   "source": [
    "def info():\n",
    "    a_val = 0\n",
    "    if \"a_val\" in locals():\n",
    "        return True\n",
    "info()"
   ]
  },
  {
   "cell_type": "code",
   "execution_count": 96,
   "id": "4845521e",
   "metadata": {},
   "outputs": [
    {
     "name": "stdout",
     "output_type": "stream",
     "text": [
      "True\n"
     ]
    }
   ],
   "source": [
    "a_val = 0\n",
    "\n",
    "def info():\n",
    "    return \"a_val\" in globals()\n",
    "\n",
    "result = info()\n",
    "print(result)\n"
   ]
  },
  {
   "cell_type": "code",
   "execution_count": 97,
   "id": "99b77565",
   "metadata": {},
   "outputs": [
    {
     "name": "stdout",
     "output_type": "stream",
     "text": [
      "Error: No Value detected\n"
     ]
    }
   ],
   "source": [
    "try:\n",
    "    a_var\n",
    "    print(\"Yes\")\n",
    "except NameError:\n",
    "    print(\"Error: No Value detected\")"
   ]
  },
  {
   "cell_type": "markdown",
   "id": "eeba17d8",
   "metadata": {},
   "source": [
    "### Get Function Signature"
   ]
  },
  {
   "cell_type": "code",
   "execution_count": 102,
   "id": "0ced3322",
   "metadata": {},
   "outputs": [
    {
     "name": "stdout",
     "output_type": "stream",
     "text": [
      "(x: str, y: int)\n",
      "x: str\n",
      "<class 'int'>\n"
     ]
    }
   ],
   "source": [
    "from inspect import signature\n",
    "def info(x:str,y:int):\n",
    "    pass\n",
    "t = signature(info)\n",
    "print(t)\n",
    "print(t.parameters[\"x\"])\n",
    "print(t.parameters[\"y\"].annotation)"
   ]
  },
  {
   "cell_type": "markdown",
   "id": "b4f986e9",
   "metadata": {},
   "source": [
    "### Python program to convert any base to decimal by using int() method"
   ]
  },
  {
   "cell_type": "code",
   "execution_count": 104,
   "id": "f1e0538c",
   "metadata": {},
   "outputs": [
    {
     "name": "stdout",
     "output_type": "stream",
     "text": [
      "26\n"
     ]
    }
   ],
   "source": [
    "def any_base_to_decimal(number,base):\n",
    "    temp = int(number,base)\n",
    "    print(temp)\n",
    "\n",
    "hex_num = \"1A\"\n",
    "base = 16\n",
    "any_base_to_decimal(hex_num,base)"
   ]
  },
  {
   "cell_type": "code",
   "execution_count": null,
   "id": "edb3e453",
   "metadata": {},
   "outputs": [],
   "source": []
  }
 ],
 "metadata": {
  "kernelspec": {
   "display_name": "Python 3 (ipykernel)",
   "language": "python",
   "name": "python3"
  },
  "language_info": {
   "codemirror_mode": {
    "name": "ipython",
    "version": 3
   },
   "file_extension": ".py",
   "mimetype": "text/x-python",
   "name": "python",
   "nbconvert_exporter": "python",
   "pygments_lexer": "ipython3",
   "version": "3.11.5"
  }
 },
 "nbformat": 4,
 "nbformat_minor": 5
}
