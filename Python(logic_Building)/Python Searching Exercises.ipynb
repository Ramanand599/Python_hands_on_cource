{
 "cells": [
  {
   "cell_type": "markdown",
   "id": "7b282fa0",
   "metadata": {},
   "source": [
    "### Binary Search (bisect) in Python"
   ]
  },
  {
   "cell_type": "code",
   "execution_count": 4,
   "id": "9d232bb1",
   "metadata": {},
   "outputs": [
    {
     "name": "stdout",
     "output_type": "stream",
     "text": [
      "First occurrence of 4 is present at 3\n"
     ]
    }
   ],
   "source": [
    "from bisect import bisect_left\n",
    "def BinarySearch(a,x):\n",
    "    i = bisect_left(a,x)\n",
    "    if i != len(a) and a[i] == x:\n",
    "        return i\n",
    "    return -1\n",
    "a = [1,2,3,4,8]\n",
    "x = int(4)\n",
    "result = BinarySearch(a,x)\n",
    "if result == -1:\n",
    "    print(x,\"is absent\")\n",
    "else:\n",
    "    print(\"First occurrence of\",x,\"is present at\",result)"
   ]
  },
  {
   "cell_type": "code",
   "execution_count": 9,
   "id": "a4b1618a",
   "metadata": {},
   "outputs": [
    {
     "name": "stdout",
     "output_type": "stream",
     "text": [
      "First occurence of 1 is present at: 0\n"
     ]
    }
   ],
   "source": [
    "a = [1,2,3,4,8]\n",
    "x = int(1)\n",
    "i = bisect_left(a,x)\n",
    "print(\"First occurence of\",x,\"is present at:\",i)"
   ]
  },
  {
   "cell_type": "code",
   "execution_count": 13,
   "id": "776d590f",
   "metadata": {},
   "outputs": [
    {
     "name": "stdout",
     "output_type": "stream",
     "text": [
      "Largest value smaller then 7 is at index: 3\n"
     ]
    }
   ],
   "source": [
    "from bisect import bisect_left\n",
    "def BinarySearch(a,x):\n",
    "    i = bisect_left(a,x)\n",
    "    if i:\n",
    "        return (i-1)\n",
    "    return -1\n",
    "a = [1,2,3,4,8]\n",
    "x = int(7)\n",
    "result = BinarySearch(a,x)\n",
    "if result == -1:\n",
    "    print(\"No value smaller then\",x)\n",
    "else:\n",
    "    print(\"Largest value smaller then\",x,\"is at index:\",result)"
   ]
  },
  {
   "cell_type": "markdown",
   "id": "ffb7731d",
   "metadata": {},
   "source": [
    "### Python Program for Bubble Sort"
   ]
  },
  {
   "cell_type": "code",
   "execution_count": 15,
   "id": "88cc1a53",
   "metadata": {},
   "outputs": [
    {
     "name": "stdout",
     "output_type": "stream",
     "text": [
      "Sorted array is:\n",
      " 64  34  25  12  22  11  90 "
     ]
    }
   ],
   "source": [
    "def bubbleshort(arr):\n",
    "    n = len(arr)\n",
    "    swapped = False\n",
    "    for i in range(n-1):\n",
    "        for j in range(0):\n",
    "            if arr[j] > arr[j + 1]:\n",
    "                swapped = True\n",
    "                arr[j],arr[j+1] = arr[j+1],arr[j]\n",
    "        if not swapped:\n",
    "            return\n",
    "arr = [64, 34, 25, 12, 22, 11, 90]\n",
    " \n",
    "bubbleshort(arr)\n",
    " \n",
    "print(\"Sorted array is:\")\n",
    "for i in range(len(arr)):\n",
    "    print(\"% d\" % arr[i], end=\" \")        "
   ]
  },
  {
   "cell_type": "markdown",
   "id": "501a511c",
   "metadata": {},
   "source": [
    "### Python Program for Selection Sort"
   ]
  },
  {
   "cell_type": "code",
   "execution_count": 18,
   "id": "94ae0d78",
   "metadata": {},
   "outputs": [
    {
     "name": "stdout",
     "output_type": "stream",
     "text": [
      "The Array after sorting in ascending order by selection sort is:\n",
      "[-202, -97, -9, -2, 0, 11, 45, 88, 747]\n"
     ]
    }
   ],
   "source": [
    "def selectionSort(arr,size):\n",
    "    for idx in range(size):\n",
    "        min_idx = idx\n",
    "        for j in range(idx+1,size):\n",
    "            if arr[j] < arr[min_idx]:\n",
    "                min_idx = j\n",
    "        (arr[idx],arr[min_idx]) = (arr[min_idx],arr[idx])\n",
    "        \n",
    "        \n",
    "arr = [-2, 45, 0, 11, -9,88,-97,-202,747]\n",
    "size = len(arr)\n",
    "selectionSort(arr,size)\n",
    "print(\"The Array after sorting in ascending order by selection sort is:\")\n",
    "print(arr)"
   ]
  },
  {
   "cell_type": "markdown",
   "id": "69b12c56",
   "metadata": {},
   "source": [
    "### Python Program for Insertion Sort"
   ]
  },
  {
   "cell_type": "code",
   "execution_count": 19,
   "id": "670730dd",
   "metadata": {},
   "outputs": [
    {
     "name": "stdout",
     "output_type": "stream",
     "text": [
      "[5, 6, 11, 12, 13]\n"
     ]
    }
   ],
   "source": [
    "def intersection(arr):\n",
    "    n = len(arr)\n",
    "    if n <= 1:\n",
    "        return \n",
    "    for i in range(1,n):\n",
    "        key = arr[i]\n",
    "        j = i-1\n",
    "        while j>=0 and key < arr[j]:\n",
    "            arr[j+1] = arr[j]\n",
    "            j -= 1\n",
    "        arr[j+1] = key\n",
    "arr = [12, 11, 13, 5, 6]\n",
    "intersection(arr)\n",
    "print(arr)"
   ]
  },
  {
   "cell_type": "markdown",
   "id": "2b6ec991",
   "metadata": {},
   "source": [
    "### Python Program for Recursive Insertion Sort"
   ]
  },
  {
   "cell_type": "code",
   "execution_count": 20,
   "id": "f76ff87f",
   "metadata": {},
   "outputs": [
    {
     "name": "stdout",
     "output_type": "stream",
     "text": [
      "[-7, -3, 0, 2, 5, 6, 10, 11]\n"
     ]
    }
   ],
   "source": [
    "def insertionSortRecursive(arr,n):\n",
    "    if n<=1:\n",
    "        return\n",
    "    insertionSortRecursive(arr,n-1)\n",
    "    last = arr[n-1]\n",
    "    j = n-2\n",
    "    while (j >= 0 and arr[j] > last):\n",
    "        arr[j + 1] = arr[j]\n",
    "        j = j-1\n",
    "    arr[j + 1] = last\n",
    "A = [-7, 11, 6, 0, -3, 5, 10, 2]\n",
    "n = len(A)\n",
    "insertionSortRecursive(A, n)\n",
    "print(A)"
   ]
  },
  {
   "cell_type": "markdown",
   "id": "0658f748",
   "metadata": {},
   "source": [
    "### Python Program for Binary Search (Recursive and Iterative)"
   ]
  },
  {
   "cell_type": "code",
   "execution_count": 21,
   "id": "9d3b8e8a",
   "metadata": {},
   "outputs": [
    {
     "name": "stdout",
     "output_type": "stream",
     "text": [
      "Element is present at index 3\n"
     ]
    }
   ],
   "source": [
    "def binary_search(arr, low, high, x):\n",
    " \n",
    "    # Check base case\n",
    "    if high >= low:\n",
    " \n",
    "        mid = (high + low) // 2\n",
    " \n",
    "        # If element is present at the middle itself\n",
    "        if arr[mid] == x:\n",
    "            return mid\n",
    " \n",
    "        # If element is smaller than mid, then it can only\n",
    "        # be present in left subarray\n",
    "        elif arr[mid] > x:\n",
    "            return binary_search(arr, low, mid - 1, x)\n",
    " \n",
    "        # Else the element can only be present in right subarray\n",
    "        else:\n",
    "            return binary_search(arr, mid + 1, high, x)\n",
    " \n",
    "    else:\n",
    "        # Element is not present in the array\n",
    "        return -1\n",
    "\n",
    "# Test array\n",
    "arr = [ 2, 3, 4, 10, 40 ]\n",
    "x = 10\n",
    " \n",
    "# Function call\n",
    "result = binary_search(arr, 0, len(arr)-1, x)\n",
    " \n",
    "if result != -1:\n",
    "    print(\"Element is present at index\", str(result))\n",
    "else:\n",
    "    print(\"Element is not present in array\")"
   ]
  },
  {
   "cell_type": "code",
   "execution_count": 22,
   "id": "bd451b6f",
   "metadata": {},
   "outputs": [
    {
     "name": "stdout",
     "output_type": "stream",
     "text": [
      "Element is present at index 3\n"
     ]
    }
   ],
   "source": [
    "import bisect\n",
    "def binary_search_bisect(arr,x):\n",
    "    i = bisect.bisect_left(arr,x)\n",
    "    if i != len(arr) and arr[i] == x:\n",
    "        return i\n",
    "    return -1\n",
    "arr = [2, 3, 4, 10, 40]\n",
    "x = 10\n",
    "result = binary_search_bisect(arr,x)\n",
    "if result != -1:\n",
    "    print(\"Element is present at index\",result)\n",
    "else:\n",
    "    print(\"Element is not present in array\")"
   ]
  },
  {
   "cell_type": "code",
   "execution_count": null,
   "id": "fba80d59",
   "metadata": {},
   "outputs": [],
   "source": []
  },
  {
   "cell_type": "code",
   "execution_count": null,
   "id": "eaa61aea",
   "metadata": {},
   "outputs": [],
   "source": []
  },
  {
   "cell_type": "code",
   "execution_count": null,
   "id": "18f1cfd4",
   "metadata": {},
   "outputs": [],
   "source": []
  }
 ],
 "metadata": {
  "kernelspec": {
   "display_name": "Python 3 (ipykernel)",
   "language": "python",
   "name": "python3"
  },
  "language_info": {
   "codemirror_mode": {
    "name": "ipython",
    "version": 3
   },
   "file_extension": ".py",
   "mimetype": "text/x-python",
   "name": "python",
   "nbconvert_exporter": "python",
   "pygments_lexer": "ipython3",
   "version": "3.11.5"
  }
 },
 "nbformat": 4,
 "nbformat_minor": 5
}
