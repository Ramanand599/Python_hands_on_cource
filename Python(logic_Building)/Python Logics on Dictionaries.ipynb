{
 "cells": [
  {
   "cell_type": "markdown",
   "id": "a99c6973",
   "metadata": {},
   "source": [
    "###  Sort Python Dictionaries by Key or Value"
   ]
  },
  {
   "cell_type": "code",
   "execution_count": 1,
   "id": "41329de0",
   "metadata": {},
   "outputs": [
    {
     "name": "stdout",
     "output_type": "stream",
     "text": [
      "{'rajnish': 9, 'ravi': 10, 'sanjeev': 15, 'suraj': 32, 'yash': 2}\n"
     ]
    }
   ],
   "source": [
    "myDict = {'ravi': 10, 'rajnish': 9,\n",
    "        'sanjeev': 15, 'yash': 2, 'suraj': 32}\n",
    "mykeys = list(myDict.keys())\n",
    "mykeys.sort()\n",
    "sorted_dict = {i:myDict[i] for i in mykeys}\n",
    "print(sorted_dict)"
   ]
  },
  {
   "cell_type": "code",
   "execution_count": 5,
   "id": "5ae77a96",
   "metadata": {},
   "outputs": [
    {
     "name": "stdout",
     "output_type": "stream",
     "text": [
      "Task 1:\n",
      "\n",
      "Key-value: {2: 56, 1: 2, 5: 12, 4: 24, 6: 18, 3: 323}\n",
      "1 2 3 4 5 6 "
     ]
    }
   ],
   "source": [
    "def dictionary():\n",
    "    key_value = {}\n",
    "    key_value[2] = 56\n",
    "    key_value[1] = 2\n",
    "    key_value[5] = 12\n",
    "    key_value[4] = 24\n",
    "    key_value[6] = 18\n",
    "    key_value[3] = 323\n",
    "    print(\"Task 1:\\n\")\n",
    "    print(\"Key-value:\",key_value)\n",
    "    \n",
    "    for i in sorted(key_value.keys()):\n",
    "        print(i,end=\" \")\n",
    "def main():\n",
    "    dictionary()\n",
    "\n",
    "if __name__==\"__main__\":\n",
    "    main()"
   ]
  },
  {
   "cell_type": "code",
   "execution_count": 6,
   "id": "8102e045",
   "metadata": {},
   "outputs": [
    {
     "name": "stdout",
     "output_type": "stream",
     "text": [
      "{'ravi': '10', 'rajnish': '9', 'sanjeev': '15', 'yash': '2', 'suraj': '32'}\n"
     ]
    }
   ],
   "source": [
    "from collections import OrderedDict\n",
    "dict = {'ravi': '10', 'rajnish': '9',\n",
    "        'sanjeev': '15', 'yash': '2', 'suraj': '32'}\n",
    "dict1 = OrderedDict(sorted(dict.items()))\n",
    "print(dict)"
   ]
  },
  {
   "cell_type": "code",
   "execution_count": 8,
   "id": "88a04dc6",
   "metadata": {},
   "outputs": [
    {
     "name": "stdout",
     "output_type": "stream",
     "text": [
      "Key-value: {2: 56, 1: 2, 5: 12, 4: 24, 6: 18, 3: 323}\n",
      "Task 2:\n",
      "Keys and values sorted in Alphabetical order by the key:\n",
      "(1, 2) (2, 56) (3, 323) (4, 24) (5, 12) (6, 18) "
     ]
    }
   ],
   "source": [
    "def dictionary():\n",
    "    key_value = {}\n",
    "    key_value[2] = 56\n",
    "    key_value[1] = 2\n",
    "    key_value[5] = 12\n",
    "    key_value[4] = 24\n",
    "    key_value[6] = 18\n",
    "    key_value[3] = 323\n",
    "    \n",
    "    print(\"Key-value:\",key_value)\n",
    "    print(\"Task 2:\\nKeys and values sorted in\",\"Alphabetical order by the key:\")\n",
    "    \n",
    "    for i in sorted(key_value):\n",
    "        print((i,key_value[i]),end=\" \")\n",
    "def main():\n",
    "    dictionary()\n",
    "\n",
    "if __name__==\"__main__\":\n",
    "    main()"
   ]
  },
  {
   "cell_type": "code",
   "execution_count": 9,
   "id": "b1ce5483",
   "metadata": {},
   "outputs": [
    {
     "name": "stdout",
     "output_type": "stream",
     "text": [
      "{'ravi': 10, 'rajnish': 9, 'sanjeev': 15, 'yash': 2, 'suraj': 32}\n",
      "{'yash': 2, 'rajnish': 9, 'ravi': 10, 'sanjeev': 15, 'suraj': 32}\n"
     ]
    }
   ],
   "source": [
    "from collections import OrderedDict\n",
    "import numpy as np\n",
    "dict = {'ravi': 10, 'rajnish': 9,\n",
    "        'sanjeev': 15, 'yash': 2, 'suraj': 32}\n",
    "print(dict)\n",
    "keys = list(dict.keys())\n",
    "values = list(dict.values())\n",
    "sorted_value = np.argsort(values)\n",
    "sorted_dict = {keys[i]:values[i] for i in sorted_value}\n",
    "print(sorted_dict)"
   ]
  },
  {
   "cell_type": "markdown",
   "id": "18285ac6",
   "metadata": {},
   "source": [
    "### Handling missing keys in Python dictionaries"
   ]
  },
  {
   "cell_type": "code",
   "execution_count": 11,
   "id": "87602f18",
   "metadata": {},
   "outputs": [
    {
     "ename": "KeyError",
     "evalue": "'c'",
     "output_type": "error",
     "traceback": [
      "\u001b[1;31m---------------------------------------------------------------------------\u001b[0m",
      "\u001b[1;31mKeyError\u001b[0m                                  Traceback (most recent call last)",
      "Cell \u001b[1;32mIn[11], line 2\u001b[0m\n\u001b[0;32m      1\u001b[0m d \u001b[38;5;241m=\u001b[39m { \u001b[38;5;124m'\u001b[39m\u001b[38;5;124ma\u001b[39m\u001b[38;5;124m'\u001b[39m : \u001b[38;5;241m1\u001b[39m , \u001b[38;5;124m'\u001b[39m\u001b[38;5;124mb\u001b[39m\u001b[38;5;124m'\u001b[39m : \u001b[38;5;241m2\u001b[39m }\n\u001b[1;32m----> 2\u001b[0m \u001b[38;5;28mprint\u001b[39m(\u001b[38;5;124m\"\u001b[39m\u001b[38;5;124mThe value associated with c is :\u001b[39m\u001b[38;5;124m\"\u001b[39m,d[\u001b[38;5;124m\"\u001b[39m\u001b[38;5;124mc\u001b[39m\u001b[38;5;124m\"\u001b[39m])\n",
      "\u001b[1;31mKeyError\u001b[0m: 'c'"
     ]
    }
   ],
   "source": [
    "d = { 'a' : 1 , 'b' : 2 }\n",
    "print(\"The value associated with c is :\",d[\"c\"])  # It return a key error because in my dict we don't have c"
   ]
  },
  {
   "cell_type": "code",
   "execution_count": 12,
   "id": "deb92f13",
   "metadata": {},
   "outputs": [
    {
     "name": "stdout",
     "output_type": "stream",
     "text": [
      "Key is Not Found\n"
     ]
    }
   ],
   "source": [
    "ele = {'a': 5, 'c': 8, 'e': 2}\n",
    "if \"q\" in ele:\n",
    "    print(ele[\"d\"])\n",
    "else:\n",
    "    print(\"Key is Not Found\")"
   ]
  },
  {
   "cell_type": "code",
   "execution_count": 13,
   "id": "3a53b7dd",
   "metadata": {},
   "outputs": [
    {
     "name": "stdout",
     "output_type": "stream",
     "text": [
      "0091\n",
      "Not Found\n"
     ]
    }
   ],
   "source": [
    "country_code = {'India' : '0091',\n",
    "                'Australia' : '0025',\n",
    "                'Nepal' : '00977'}\n",
    "print(country_code.get(\"India\",\"Not Found\"))\n",
    "print(country_code.get(\"japan\",\"Not Found\"))"
   ]
  },
  {
   "cell_type": "code",
   "execution_count": 16,
   "id": "6ca047f7",
   "metadata": {},
   "outputs": [
    {
     "name": "stdout",
     "output_type": "stream",
     "text": [
      "0091\n",
      "Not Present\n"
     ]
    }
   ],
   "source": [
    "country_code = {'India' : '0091',\n",
    "                'Australia' : '0025',\n",
    "                'Nepal' : '00977'}\n",
    "country_code.setdefault(\"Japan\",\"Not Present\")\n",
    "print(country_code[\"India\"])\n",
    "print(country_code[\"Japan\"])"
   ]
  },
  {
   "cell_type": "code",
   "execution_count": 22,
   "id": "3c7c7f3e",
   "metadata": {},
   "outputs": [
    {
     "name": "stdout",
     "output_type": "stream",
     "text": [
      "defaultdict(<function <lambda> at 0x000002BE402FB7E0>, {'a': 1, 'b': 2})\n",
      "The value is associated witha is: 1\n",
      "The value is associated witha is: Key not found\n"
     ]
    }
   ],
   "source": [
    "import collections\n",
    "dfd = collections.defaultdict(lambda :\"Key not found\")\n",
    "dfd[\"a\"] = 1\n",
    "dfd[\"b\"] = 2\n",
    "print(dfd)\n",
    "print(\"The value is associated witha is:\",dfd[\"a\"])\n",
    "print(\"The value is associated witha is:\",dfd[\"c\"])\n"
   ]
  },
  {
   "cell_type": "code",
   "execution_count": 23,
   "id": "8bd567c1",
   "metadata": {},
   "outputs": [
    {
     "name": "stdout",
     "output_type": "stream",
     "text": [
      "0091\n",
      "Not Found\n"
     ]
    }
   ],
   "source": [
    "country_code = {'India': '0091',\n",
    "                'Australia': '0025',\n",
    "                'Nepal': '00977'}\n",
    "try:\n",
    "    print(country_code[\"India\"])\n",
    "    print(country_code[\"USA\"])\n",
    "except:\n",
    "    print(\"Not Found\")"
   ]
  },
  {
   "cell_type": "markdown",
   "id": "b8f1cb3c",
   "metadata": {},
   "source": [
    "### Python dictionary with keys having multiple inputs"
   ]
  },
  {
   "cell_type": "code",
   "execution_count": 24,
   "id": "92941944",
   "metadata": {},
   "outputs": [
    {
     "name": "stdout",
     "output_type": "stream",
     "text": [
      "{(10, 20, 30): 0, (5, 2, 4): 3}\n"
     ]
    }
   ],
   "source": [
    "import random\n",
    "dict = {}\n",
    "x,y,z = 10,20,30\n",
    "dict[x,y,z] = x+y-z\n",
    "\n",
    "x,y,z = 5,2,4\n",
    "dict[x,y,z] = x+y-z\n",
    "print(dict)"
   ]
  },
  {
   "cell_type": "code",
   "execution_count": 27,
   "id": "40d96a82",
   "metadata": {},
   "outputs": [
    {
     "name": "stdout",
     "output_type": "stream",
     "text": [
      "{(\"19.07'53.2\", \"72.54'51.0\"): 'Mumbai', (\"28.33'34.1\", \"77.06'16.6\"): 'Delhi'}\n",
      "[\"19.07'53.2\", \"28.33'34.1\"]\n",
      "[\"72.54'51.0\", \"77.06'16.6\"]\n",
      "['Mumbai', 'Delhi']\n"
     ]
    }
   ],
   "source": [
    "places = {(\"19.07'53.2\", \"72.54'51.0\"):\"Mumbai\",\n",
    "          (\"28.33'34.1\", \"77.06'16.6\"):\"Delhi\"}\n",
    "print(places)\n",
    "lat = []\n",
    "long = []\n",
    "plc = []\n",
    "for i in places:\n",
    "    lat.append(i[0])\n",
    "    long.append(i[1])\n",
    "    plc.append(places[i[0],i[1]])\n",
    "print(lat)\n",
    "print(long)\n",
    "print(plc)"
   ]
  },
  {
   "cell_type": "markdown",
   "id": "755f10ab",
   "metadata": {},
   "source": [
    "### Python program to find the sum of all items in a dictionary"
   ]
  },
  {
   "cell_type": "code",
   "execution_count": 32,
   "id": "7dc0aea7",
   "metadata": {},
   "outputs": [
    {
     "name": "stdout",
     "output_type": "stream",
     "text": [
      "a\n",
      "b\n",
      "c\n",
      "Sum : 600\n"
     ]
    }
   ],
   "source": [
    "def returnsum(mydict):\n",
    "    lst = []\n",
    "    for i in mydict:\n",
    "        print(i)\n",
    "        lst.append(mydict[i])\n",
    "    final = sum(lst)\n",
    "    return final\n",
    "dict = {'a': 100, 'b': 200, 'c': 300}\n",
    "print(\"Sum :\", returnsum(dict))"
   ]
  },
  {
   "cell_type": "code",
   "execution_count": 34,
   "id": "494d2a45",
   "metadata": {},
   "outputs": [
    {
     "name": "stdout",
     "output_type": "stream",
     "text": [
      "100\n",
      "200\n",
      "300\n",
      "Sum : 600\n"
     ]
    }
   ],
   "source": [
    "def returnsum(mydict):\n",
    "    lst = []\n",
    "    for i,val in mydict.items():\n",
    "        print(val)\n",
    "        lst.append(val)\n",
    "    final = sum(lst)\n",
    "    return final\n",
    "dict = {'a': 100, 'b': 200, 'c': 300}\n",
    "print(\"Sum :\", returnsum(dict))"
   ]
  },
  {
   "cell_type": "code",
   "execution_count": 36,
   "id": "cfddcc81",
   "metadata": {},
   "outputs": [
    {
     "name": "stdout",
     "output_type": "stream",
     "text": [
      "100\n",
      "200\n",
      "300\n",
      "Sum : 600\n"
     ]
    }
   ],
   "source": [
    "def returnsum(mydict):\n",
    "    sum = 0\n",
    "    for val in mydict.values():\n",
    "        print(val)\n",
    "        sum += val\n",
    "    return sum\n",
    "dict = {'a': 100, 'b': 200, 'c': 300}\n",
    "print(\"Sum :\", returnsum(dict))"
   ]
  },
  {
   "cell_type": "code",
   "execution_count": 39,
   "id": "ee3915b5",
   "metadata": {},
   "outputs": [
    {
     "name": "stdout",
     "output_type": "stream",
     "text": [
      "a\n",
      "b\n",
      "c\n",
      "Sum : 600\n"
     ]
    }
   ],
   "source": [
    "def returnsum(mydict):\n",
    "    sum = 0\n",
    "    for val in mydict:\n",
    "        print(val)\n",
    "        sum += mydict[val]\n",
    "    return sum\n",
    "\n",
    "dict = {'a': 100, 'b': 200, 'c': 300}\n",
    "print(\"Sum :\", returnsum(dict))"
   ]
  },
  {
   "cell_type": "code",
   "execution_count": 40,
   "id": "c7dd229a",
   "metadata": {},
   "outputs": [
    {
     "name": "stdout",
     "output_type": "stream",
     "text": [
      "Sum : 600\n"
     ]
    }
   ],
   "source": [
    "def returnsum(mydict):\n",
    "    return sum(mydict.values())\n",
    "dict = {'a': 100, 'b': 200, 'c': 300}\n",
    "print(\"Sum :\", returnsum(dict))"
   ]
  },
  {
   "cell_type": "code",
   "execution_count": 43,
   "id": "e67029e9",
   "metadata": {},
   "outputs": [
    {
     "name": "stdout",
     "output_type": "stream",
     "text": [
      "sum: 600\n"
     ]
    }
   ],
   "source": [
    "from functools import reduce\n",
    "dict = {'a': 100, 'b': 200, 'c': 300}\n",
    "sum_dict = reduce(lambda k,v:k+dict[v],dict,0)\n",
    "print(\"sum:\",sum_dict)"
   ]
  },
  {
   "cell_type": "code",
   "execution_count": 44,
   "id": "176a3ce3",
   "metadata": {},
   "outputs": [
    {
     "name": "stdout",
     "output_type": "stream",
     "text": [
      "Sum : 600\n"
     ]
    }
   ],
   "source": [
    "def returnsum(mydict):\n",
    "    return sum(mydict[key] for key in mydict)\n",
    "dict = {'a': 100, 'b': 200, 'c': 300}\n",
    "print(\"Sum :\", returnsum(dict))"
   ]
  },
  {
   "cell_type": "code",
   "execution_count": 46,
   "id": "313c46ca",
   "metadata": {},
   "outputs": [
    {
     "name": "stdout",
     "output_type": "stream",
     "text": [
      "Sum : 600\n"
     ]
    }
   ],
   "source": [
    "import numpy as np\n",
    "def returnsum(mydict):\n",
    "    val = np.array(list(mydict.values()))\n",
    "    return np.sum(val)\n",
    "dict = {'a': 100, 'b': 200, 'c': 300}\n",
    "print(\"Sum :\", returnsum(dict))"
   ]
  },
  {
   "cell_type": "markdown",
   "id": "bfe11d06",
   "metadata": {},
   "source": [
    "### Get size of a Dictionary in Python"
   ]
  },
  {
   "cell_type": "code",
   "execution_count": 50,
   "id": "1ec25da3",
   "metadata": {},
   "outputs": [
    {
     "name": "stdout",
     "output_type": "stream",
     "text": [
      "Size of dict1: 184 bytes\n",
      "Size of dict2: 184 bytes\n",
      "Size of dict3: 224 bytes\n"
     ]
    }
   ],
   "source": [
    "import sys\n",
    "dict1 = {\"A\": 1, \"B\": 2, \"C\": 3}\n",
    "dict2 = {\"Geek1\": \"Raju\", \"Geek2\": \"Nikhil\", \"Geek3\": \"Deepanshu\"}\n",
    "dict3 = {1: \"Lion\", 2: \"Tiger\", 3: \"Fox\", 4: \"Wolf\"}\n",
    "print(\"Size of dict1:\",sys.getsizeof(dict1),\"bytes\")\n",
    "print(\"Size of dict2:\",sys.getsizeof(dict2),\"bytes\")\n",
    "print(\"Size of dict3:\",sys.getsizeof(dict3),\"bytes\")"
   ]
  },
  {
   "cell_type": "code",
   "execution_count": 51,
   "id": "90e263e4",
   "metadata": {},
   "outputs": [
    {
     "name": "stdout",
     "output_type": "stream",
     "text": [
      "Size of dict1: 168 bytes\n",
      "Size of dict2: 168 bytes\n",
      "Size of dict3: 208 bytes\n"
     ]
    }
   ],
   "source": [
    "dict1 = {\"A\": 1, \"B\": 2, \"C\": 3}\n",
    "dict2 = {\"Geek1\": \"Raju\", \"Geek2\": \"Nikhil\", \"Geek3\": \"Deepanshu\"}\n",
    "dict3 = {1: \"Lion\", 2: \"Tiger\", 3: \"Fox\", 4: \"Wolf\"}\n",
    "print(\"Size of dict1:\",dict1.__sizeof__(),\"bytes\")\n",
    "print(\"Size of dict2:\",dict2.__sizeof__(),\"bytes\")\n",
    "print(\"Size of dict3:\",dict3.__sizeof__(),\"bytes\")"
   ]
  },
  {
   "cell_type": "markdown",
   "id": "787c9c37",
   "metadata": {},
   "source": [
    "### Ways to sort list of dictionaries by values in Python – Using itemgetter"
   ]
  },
  {
   "cell_type": "code",
   "execution_count": 56,
   "id": "1db6e284",
   "metadata": {},
   "outputs": [
    {
     "name": "stdout",
     "output_type": "stream",
     "text": [
      "The List Printed sorting by age:\n",
      "[{'name': 'Nikhil', 'age': 19}, {'name': 'Nandini', 'age': 20}, {'name': 'Manjeet', 'age': 20}]\n",
      "\r\n",
      "The list printed sorting name and age:\n",
      "[{'name': 'Nikhil', 'age': 19}, {'name': 'Manjeet', 'age': 20}, {'name': 'Nandini', 'age': 20}]\n",
      "\r\n",
      "The list printed sorting  age in desending order:\n",
      "[{'name': 'Nandini', 'age': 20}, {'name': 'Manjeet', 'age': 20}, {'name': 'Nikhil', 'age': 19}]\n"
     ]
    }
   ],
   "source": [
    "from operator import itemgetter\n",
    "list = [{\"name\": \"Nandini\", \"age\": 20},\n",
    "       {\"name\": \"Manjeet\", \"age\": 20},\n",
    "       {\"name\": \"Nikhil\", \"age\": 19}]\n",
    "print(\"The List Printed sorting by age:\")\n",
    "print(sorted(list,key=itemgetter(\"age\")))\n",
    "\n",
    "print(\"\\r\")\n",
    "print(\"The list printed sorting name and age:\")\n",
    "print(sorted(list,key=itemgetter(\"age\",\"name\")))\n",
    "\n",
    "\n",
    "print(\"\\r\")\n",
    "print(\"The list printed sorting  age in desending order:\")\n",
    "print(sorted(list,key=itemgetter(\"age\"),reverse = True))"
   ]
  },
  {
   "cell_type": "markdown",
   "id": "2520279c",
   "metadata": {},
   "source": [
    "### Ways to sort list of dictionaries by values in Python – Using lambda function"
   ]
  },
  {
   "cell_type": "code",
   "execution_count": 57,
   "id": "c39c62c9",
   "metadata": {},
   "outputs": [
    {
     "name": "stdout",
     "output_type": "stream",
     "text": [
      "The List Printed sorting by age:\n",
      "[{'name': 'Nikhil', 'age': 19}, {'name': 'Nandini', 'age': 20}, {'name': 'Manjeet', 'age': 20}]\n",
      "\r\n",
      "The list printed sorting name and age:\n",
      "[{'name': 'Nikhil', 'age': 19}, {'name': 'Manjeet', 'age': 20}, {'name': 'Nandini', 'age': 20}]\n",
      "\r\n",
      "The list printed sorting  age in desending order:\n",
      "[{'name': 'Nandini', 'age': 20}, {'name': 'Manjeet', 'age': 20}, {'name': 'Nikhil', 'age': 19}]\n"
     ]
    }
   ],
   "source": [
    "list = [{\"name\": \"Nandini\", \"age\": 20},\n",
    "       {\"name\": \"Manjeet\", \"age\": 20},\n",
    "       {\"name\": \"Nikhil\", \"age\": 19}]\n",
    "print(\"The List Printed sorting by age:\")\n",
    "print(sorted(list,key=lambda i:i[\"age\"]))\n",
    "\n",
    "print(\"\\r\")\n",
    "print(\"The list printed sorting name and age:\")\n",
    "print(sorted(list,key=lambda i:(i[\"age\"],i[\"name\"])))\n",
    "\n",
    "\n",
    "print(\"\\r\")\n",
    "print(\"The list printed sorting  age in desending order:\")\n",
    "print(sorted(list,key=lambda i:i[\"age\"],reverse = True))"
   ]
  },
  {
   "cell_type": "code",
   "execution_count": 59,
   "id": "9b9d2420",
   "metadata": {},
   "outputs": [
    {
     "name": "stdout",
     "output_type": "stream",
     "text": [
      "None\n",
      "{'a': 10, 'b': 8, 'd': 6, 'c': 4}\n"
     ]
    }
   ],
   "source": [
    "def merge(dict1,dict2):\n",
    "    return (dict1.update(dict2))\n",
    "# Driver code\n",
    "dict1 = {'a': 10, 'b': 8}\n",
    "dict2 = {'d': 6, 'c': 4}\n",
    "print(merge(dict1,dict2))\n",
    "print(dict1)"
   ]
  },
  {
   "cell_type": "code",
   "execution_count": 60,
   "id": "ea2e7c9c",
   "metadata": {},
   "outputs": [
    {
     "name": "stdout",
     "output_type": "stream",
     "text": [
      "{'a': 10, 'b': 8, 'd': 6, 'c': 4}\n"
     ]
    }
   ],
   "source": [
    "def merge(dict1,dict2):\n",
    "    result = {**dict1,**dict2}\n",
    "    return result\n",
    "dict1 = {'a': 10, 'b': 8}\n",
    "dict2 = {'d': 6, 'c': 4}\n",
    "dict3 = merge(dict1,dict2)\n",
    "print(dict3)"
   ]
  },
  {
   "cell_type": "code",
   "execution_count": 62,
   "id": "5d1b3131",
   "metadata": {},
   "outputs": [
    {
     "name": "stdout",
     "output_type": "stream",
     "text": [
      "{'x': 10, 'y': 8, 'a': 6, 'b': 4}\n"
     ]
    }
   ],
   "source": [
    "def merge(dict1,dict2):\n",
    "    result = dict1 | dict2\n",
    "    return result\n",
    "dict1 = {'x': 10, 'y': 8} \n",
    "dict2 = {'a': 6, 'b': 4} \n",
    "dict3 = merge(dict1, dict2) \n",
    "print(dict3)"
   ]
  },
  {
   "cell_type": "code",
   "execution_count": 63,
   "id": "a14a4961",
   "metadata": {},
   "outputs": [
    {
     "name": "stdout",
     "output_type": "stream",
     "text": [
      "{'x': 10, 'y': 8, 'a': 6, 'b': 4}\n"
     ]
    }
   ],
   "source": [
    "def merge(dict1,dict2):\n",
    "    for i in dict2.keys():\n",
    "        dict1[i] = dict2[i]\n",
    "    return dict1\n",
    "dict1 = {'x': 10, 'y': 8} \n",
    "dict2 = {'a': 6, 'b': 4} \n",
    "dict3 = merge(dict1, dict2) \n",
    "print(dict3)"
   ]
  },
  {
   "cell_type": "code",
   "execution_count": 70,
   "id": "d96e8c76",
   "metadata": {},
   "outputs": [
    {
     "name": "stdout",
     "output_type": "stream",
     "text": [
      "{'x': 10, 'y': 8, 'a': 6, 'b': 4}\n"
     ]
    }
   ],
   "source": [
    "def merge_dict(dict1,dict2):\n",
    "    merge = dict1.copy()\n",
    "\n",
    "    merge.update(dict2)\n",
    "    return merge\n",
    "dict1 = {'x': 10, 'y': 8}\n",
    "dict2 = {'a': 6, 'b': 4}\n",
    "print(merge_dict(dict1,dict2))"
   ]
  },
  {
   "cell_type": "code",
   "execution_count": 72,
   "id": "7b363fdd",
   "metadata": {},
   "outputs": [
    {
     "name": "stdout",
     "output_type": "stream",
     "text": [
      "{('d', 6), ('c', 4), ('a', 10), ('b', 8)}\n"
     ]
    }
   ],
   "source": [
    "def merge(dict1,dict2):\n",
    "    result = dict1.items() | dict2.items()\n",
    "    return result\n",
    "dict1 = {'a': 10, 'b': 8}\n",
    "dict2 = {'d': 6, 'c': 4}\n",
    "dict3 = merge(dict1,dict2)\n",
    "print(dict3)"
   ]
  },
  {
   "cell_type": "markdown",
   "id": "17ed4892",
   "metadata": {},
   "source": [
    "### Program to create grade calculator in Python"
   ]
  },
  {
   "cell_type": "code",
   "execution_count": 73,
   "id": "f8b06bc9",
   "metadata": {},
   "outputs": [
    {
     "name": "stdout",
     "output_type": "stream",
     "text": [
      "Enter Marks Obtained in 5 Subjects: \n",
      "Your Grade is B1\n"
     ]
    }
   ],
   "source": [
    "print(\"Enter Marks Obtained in 5 Subjects: \")\n",
    "total1 = 44\n",
    "total2 = 67\n",
    "total3 = 76\n",
    "total4 = 99\n",
    "total5 = 58\n",
    " \n",
    "tot = total1 + total2 + total3 + total4 + total4\n",
    "avg = tot / 5\n",
    "if avg >= 91 and avg <= 100:\n",
    "    print(\"Your Grade is A1\")\n",
    "elif avg >= 81 and avg < 91:\n",
    "    print(\"Your Grade is A2\")\n",
    "elif avg >= 71 and avg < 81:\n",
    "    print(\"Your Grade is B1\")\n",
    "elif avg >= 61 and avg < 71:\n",
    "    print(\"Your Grade is B2\")\n",
    "elif avg >= 51 and avg < 61:\n",
    "    print(\"Your Grade is C1\")\n",
    "elif avg >= 41 and avg < 51:\n",
    "    print(\"Your Grade is C2\")\n",
    "elif avg >= 33 and avg < 41:\n",
    "    print(\"Your Grade is D\")\n",
    "elif avg >= 21 and avg < 33:\n",
    "    print(\"Your Grade is E1\")\n",
    "elif avg >= 0 and avg < 21:\n",
    "    print(\"Your Grade is E2\")\n",
    "else:\n",
    "    print(\"Invalid Input!\")"
   ]
  },
  {
   "cell_type": "markdown",
   "id": "c7d6e31f",
   "metadata": {},
   "source": [
    "###  Insertion at the beginning in OrderedDict"
   ]
  },
  {
   "cell_type": "code",
   "execution_count": 75,
   "id": "93418d2f",
   "metadata": {},
   "outputs": [
    {
     "name": "stdout",
     "output_type": "stream",
     "text": [
      "Resultent Dictionary: OrderedDict([('mangeet', '3'), ('akshat', '1'), ('nikhil', '2')])\n"
     ]
    }
   ],
   "source": [
    "from collections import OrderedDict\n",
    "inorder_dict = OrderedDict([(\"akshat\",\"1\"),(\"nikhil\",\"2\")])\n",
    "inorder_dict.update({\"mangeet\":\"3\"})\n",
    "inorder_dict.move_to_end(\"mangeet\",last=False)\n",
    "print(\"Resultent Dictionary:\",inorder_dict)"
   ]
  },
  {
   "cell_type": "markdown",
   "id": "4a80807d",
   "metadata": {},
   "source": [
    "###  Check order of character in string using OrderedDict( )"
   ]
  },
  {
   "cell_type": "code",
   "execution_count": 80,
   "id": "c63c7c14",
   "metadata": {},
   "outputs": [
    {
     "name": "stdout",
     "output_type": "stream",
     "text": [
      "true\n"
     ]
    }
   ],
   "source": [
    "from collections import OrderedDict\n",
    "def checkorder(input,pattern):\n",
    "    dict = OrderedDict.fromkeys(input)\n",
    "    plen = 0\n",
    "    for key,val in dict.items():\n",
    "        if(key == pattern[plen]):\n",
    "            plen = plen + 1\n",
    "            \n",
    "        if (plen == (len(pattern))):\n",
    "            return \"true\"\n",
    "    return \"False\"\n",
    "input = 'engineers rock'\n",
    "pattern = 'er'\n",
    "print(checkorder(input,pattern))"
   ]
  },
  {
   "cell_type": "code",
   "execution_count": 81,
   "id": "591a62a4",
   "metadata": {},
   "outputs": [
    {
     "name": "stdout",
     "output_type": "stream",
     "text": [
      "True\n"
     ]
    }
   ],
   "source": [
    "def checkorder(string,pattern):\n",
    "    i,j=0,0\n",
    "    for char in string:\n",
    "        if char == pattern[j]:\n",
    "            j += 1\n",
    "        if j == len(pattern):\n",
    "            return True\n",
    "        i += 1\n",
    "    return False\n",
    "string = 'engineers rock'\n",
    "pattern = 'er'\n",
    "print(checkorder(string, pattern))"
   ]
  },
  {
   "cell_type": "markdown",
   "id": "ace66c90",
   "metadata": {},
   "source": [
    "### Find common elements in three sorted arrays by dictionary intersection"
   ]
  },
  {
   "cell_type": "code",
   "execution_count": 87,
   "id": "f2a3bab4",
   "metadata": {},
   "outputs": [
    {
     "name": "stdout",
     "output_type": "stream",
     "text": [
      "[20, 80]\n"
     ]
    }
   ],
   "source": [
    "from collections import Counter\n",
    "def commonelement(arr1,arr2,arr3):\n",
    "    arr1 = Counter(arr1)\n",
    "    arr2 = Counter(arr2)\n",
    "    arr3 = Counter(arr3)\n",
    "    resultdict = dict(arr1.items() & arr2.items() & arr3.items())\n",
    "    common = []\n",
    "    for (key,val) in resultdict.items():\n",
    "        for i in range(0,val):\n",
    "            common.append(key)\n",
    "    print(common)\n",
    "    \n",
    "ar1 = [1, 5, 10, 20, 40, 80]\n",
    "ar2 = [6, 7, 20, 80, 100]\n",
    "ar3 = [3, 4, 15, 20, 30, 70, 80, 120]\n",
    "commonelement(ar1,ar2,ar3)    "
   ]
  },
  {
   "cell_type": "code",
   "execution_count": 92,
   "id": "62104256",
   "metadata": {},
   "outputs": [
    {
     "name": "stdout",
     "output_type": "stream",
     "text": [
      "List With common element: [20, 80]\n"
     ]
    }
   ],
   "source": [
    "from collections import OrderedDict\n",
    " \n",
    "ar1 = [1, 5, 10, 20, 40, 80]\n",
    "ar2 = [6, 7, 20, 80, 100]\n",
    "ar3 = [3, 4, 15, 20, 30, 70, 80, 120]\n",
    "dict1 = OrderedDict.fromkeys(ar1)\n",
    "dict2 = OrderedDict.fromkeys(ar2)\n",
    "dict3 = OrderedDict.fromkeys(ar3)\n",
    "lst = []\n",
    "for values1, keys1 in dict1.items():\n",
    "    for values2, keys2 in dict2.items():\n",
    "        for values3, keys3 in dict3.items():\n",
    "            if values1 == values2 == values3:\n",
    "                lst.append(values1)\n",
    "print(\"List With common element:\",lst)"
   ]
  },
  {
   "cell_type": "code",
   "execution_count": 95,
   "id": "bf79c117",
   "metadata": {},
   "outputs": [
    {
     "name": "stdout",
     "output_type": "stream",
     "text": [
      "List With common element: [80, 20]\n"
     ]
    }
   ],
   "source": [
    "from collections import OrderedDict\n",
    " \n",
    "ar1 = [1, 5, 10, 20, 40, 80]\n",
    "ar2 = [6, 7, 20, 80, 100]\n",
    "ar3 = [3, 4, 15, 20, 30, 70, 80, 120]\n",
    "dict1 = set(OrderedDict.fromkeys(ar1))\n",
    "dict2 = set(OrderedDict.fromkeys(ar2))\n",
    "dict3 = set(OrderedDict.fromkeys(ar3))\n",
    "lst = list(dict1 & dict2 & dict3)\n",
    "print(\"List With common element:\",lst)"
   ]
  },
  {
   "cell_type": "markdown",
   "id": "fc5ddcd4",
   "metadata": {},
   "source": [
    "### Dictionary and counter in Python to find winner of election"
   ]
  },
  {
   "cell_type": "code",
   "execution_count": 100,
   "id": "8e29ae32",
   "metadata": {},
   "outputs": [
    {
     "name": "stdout",
     "output_type": "stream",
     "text": [
      "Maximum No. of votes: 4\n",
      "Persion Who got maximum no of votes: john\n"
     ]
    }
   ],
   "source": [
    "from collections import Counter\n",
    "\n",
    "votes =['john','johnny','jackie','johnny','john','jackie',\n",
    "    'jamie','jamie','john','johnny','jamie','johnny','john'] \n",
    "vote_count = Counter(votes)\n",
    "max_vote = max(vote_count.values())\n",
    "print(\"Maximum No. of votes:\",max_vote)\n",
    "lst = [i for i in vote_count.keys() if vote_count[i] == max_vote]\n",
    "print(\"Persion Who got maximum no of votes:\",lst[0])"
   ]
  },
  {
   "cell_type": "markdown",
   "id": "ba9f613b",
   "metadata": {},
   "source": [
    "### Key with maximum unique values"
   ]
  },
  {
   "cell_type": "code",
   "execution_count": 102,
   "id": "8ed165e0",
   "metadata": {},
   "outputs": [
    {
     "name": "stdout",
     "output_type": "stream",
     "text": [
      "Original dict: {'Gfg': [5, 7, 5, 4, 5], 'is': [6, 7, 4, 3, 3], 'Best': [9, 9, 6, 5, 5]}\n",
      "Key with maximum unique value: is\n"
     ]
    }
   ],
   "source": [
    "test_dict = {\"Gfg\": [5, 7, 5, 4, 5],\n",
    "             \"is\": [6, 7, 4, 3, 3],\n",
    "             \"Best\": [9, 9, 6, 5, 5]}\n",
    "print(\"Original dict:\",test_dict)\n",
    "max_val = 0\n",
    "max_key = None\n",
    "for sub in test_dict:\n",
    "    if len(set(test_dict[sub])) > max_val:\n",
    "        max_val = len(set(test_dict[sub]))\n",
    "        max_key = sub\n",
    "print(\"Key with maximum unique value:\",max_key)"
   ]
  },
  {
   "cell_type": "code",
   "execution_count": 103,
   "id": "95347e74",
   "metadata": {},
   "outputs": [
    {
     "name": "stdout",
     "output_type": "stream",
     "text": [
      "Original dict: {'Gfg': [5, 7, 5, 4, 5], 'is': [6, 7, 4, 3, 3], 'Best': [9, 9, 6, 5, 5]}\n",
      "Key with maximum unique value: is\n"
     ]
    }
   ],
   "source": [
    "test_dict = {\"Gfg\": [5, 7, 5, 4, 5],\n",
    "             \"is\": [6, 7, 4, 3, 3],\n",
    "             \"Best\": [9, 9, 6, 5, 5]}\n",
    "print(\"Original dict:\",test_dict)\n",
    "max_key = sorted(test_dict,key = lambda ele:len(set(test_dict[ele])),reverse=True)[0]\n",
    "print(\"Key with maximum unique value:\",max_key)"
   ]
  },
  {
   "cell_type": "code",
   "execution_count": 104,
   "id": "a5bc7fff",
   "metadata": {},
   "outputs": [
    {
     "name": "stdout",
     "output_type": "stream",
     "text": [
      "Original dict: {'Gfg': [5, 7, 5, 4, 5], 'is': [6, 7, 4, 3, 3], 'Best': [9, 9, 6, 5, 5]}\n",
      "Key With Maximum Unique values: is\n"
     ]
    }
   ],
   "source": [
    "test_dict = {\"Gfg\": [5, 7, 5, 4, 5],\n",
    "             \"is\": [6, 7, 4, 3, 3],\n",
    "             \"Best\": [9, 9, 6, 5, 5]}\n",
    "print(\"Original dict:\",test_dict)\n",
    "unique_count = [(key,len(set(values))) for key,values in test_dict.items()]\n",
    "max_key = max(unique_count,key=lambda x:x[1])[0]\n",
    "print(\"Key With Maximum Unique values:\",max_key)"
   ]
  },
  {
   "cell_type": "markdown",
   "id": "92a567a3",
   "metadata": {},
   "source": [
    "###  Group Similar items to Dictionary Values List"
   ]
  },
  {
   "cell_type": "code",
   "execution_count": 111,
   "id": "bea34d91",
   "metadata": {},
   "outputs": [
    {
     "name": "stdout",
     "output_type": "stream",
     "text": [
      "The Original list: [4, 6, 6, 4, 2, 2, 4, 4, 8, 5, 8]\n",
      "defaultdict(<class 'list'>, {})\n",
      "Similar grouped dictionary: defaultdict(<class 'list'>, {4: [4, 4, 4, 4], 6: [6, 6], 2: [2, 2], 8: [8, 8], 5: [5]})\n"
     ]
    }
   ],
   "source": [
    "from collections import defaultdict\n",
    "test_list = [4, 6, 6, 4, 2, 2, 4, 4, 8, 5, 8]\n",
    "print(\"The Original list:\",test_list)\n",
    "result = defaultdict(list)\n",
    "print(result)\n",
    "for ele in test_list:\n",
    "    result[ele].append(ele)\n",
    "print(\"Similar grouped dictionary:\",result)"
   ]
  },
  {
   "cell_type": "code",
   "execution_count": 113,
   "id": "50c66757",
   "metadata": {},
   "outputs": [
    {
     "name": "stdout",
     "output_type": "stream",
     "text": [
      "The Original list: [4, 6, 6, 4, 2, 2, 4, 4, 8, 5, 8]\n",
      "Similar grouped dictionary: {4: [4, 4, 4, 4], 6: [6, 6], 2: [2, 2], 8: [8, 8], 5: [5]}\n"
     ]
    }
   ],
   "source": [
    "from collections import Counter\n",
    "test_list = [4, 6, 6, 4, 2, 2, 4, 4, 8, 5, 8]\n",
    "print(\"The Original list:\",test_list)\n",
    "result = {key:[key]*val for key,val in Counter(test_list).items()}\n",
    "print(\"Similar grouped dictionary:\",result)"
   ]
  },
  {
   "cell_type": "code",
   "execution_count": 117,
   "id": "ddc2076f",
   "metadata": {},
   "outputs": [
    {
     "name": "stdout",
     "output_type": "stream",
     "text": [
      "Similar grouped dictionary : {2: [2, 2], 4: [4, 4, 4, 4], 5: [5], 6: [6, 6], 8: [8, 8]}\n"
     ]
    }
   ],
   "source": [
    "import itertools\n",
    " \n",
    "# initializing list\n",
    "test_list = [4, 6, 6, 4, 2, 2, 4, 4, 8, 5, 8]\n",
    " \n",
    "# Step 2\n",
    "test_list.sort()\n",
    " \n",
    "# Step 3\n",
    "groups = itertools.groupby(test_list)\n",
    " \n",
    "# Step 4\n",
    "res = {k: list(v) for k, v in groups}\n",
    " \n",
    "# Step 5\n",
    "print(\"Similar grouped dictionary : \" + str(res))"
   ]
  },
  {
   "cell_type": "markdown",
   "id": "005c801d",
   "metadata": {},
   "source": [
    "### K’th Non-repeating Character in Python using List Comprehension and OrderedDict"
   ]
  },
  {
   "cell_type": "code",
   "execution_count": 120,
   "id": "ab47865e",
   "metadata": {},
   "outputs": [
    {
     "name": "stdout",
     "output_type": "stream",
     "text": [
      "r\n"
     ]
    }
   ],
   "source": [
    "def kthRepeating(input,k):\n",
    " \n",
    "    # OrderedDict returns a dictionary data\n",
    "        # structure having characters of input\n",
    "    # string as keys in the same order they\n",
    "        # were inserted and 0 as their default value\n",
    "    dict=OrderedDict.fromkeys(input,0)\n",
    " \n",
    "    # now traverse input string to calculate\n",
    "        # frequency of each character\n",
    "    for ch in input:\n",
    "        dict[ch]+=1\n",
    " \n",
    "    # now extract list of all keys whose value\n",
    "        # is 1 from dict Ordered Dictionary\n",
    "    nonRepeatDict = [key for (key,value) in dict.items() if value==1]\n",
    "     \n",
    "    # now return (k-1)th character from above list\n",
    "    if len(nonRepeatDict) < k:\n",
    "        return 'Less than k non-repeating characters in input.'\n",
    "    else:\n",
    "        return nonRepeatDict[k-1]\n",
    "input = \"geeksforgeeks\"\n",
    "k = 3\n",
    "print (kthRepeating(input, k))    "
   ]
  },
  {
   "cell_type": "markdown",
   "id": "37262fcd",
   "metadata": {},
   "source": [
    "### Replace String by Kth Dictionary value"
   ]
  },
  {
   "cell_type": "code",
   "execution_count": 123,
   "id": "ccc3ccec",
   "metadata": {},
   "outputs": [
    {
     "name": "stdout",
     "output_type": "stream",
     "text": [
      "The original list : ['Gfg', 'is', 'Best']\n",
      "The List After Substitution: [7, 2, 'Best']\n"
     ]
    }
   ],
   "source": [
    "test_list = [\"Gfg\", \"is\", \"Best\"]\n",
    "print(\"The original list : \" + str(test_list))\n",
    "subs_dict = {\n",
    "    \"Gfg\" : [5, 6, 7], \n",
    "    \"is\" : [7, 4, 2], \n",
    "}\n",
    "K = 2\n",
    "result = [ele if ele not in subs_dict else subs_dict[ele][K] for ele in test_list]\n",
    "print(\"The List After Substitution:\",result)"
   ]
  },
  {
   "cell_type": "markdown",
   "id": "4726fd1c",
   "metadata": {},
   "source": [
    "### Ways to remove a key from dictionary"
   ]
  },
  {
   "cell_type": "code",
   "execution_count": 124,
   "id": "8fbf02e7",
   "metadata": {},
   "outputs": [
    {
     "name": "stdout",
     "output_type": "stream",
     "text": [
      "The dictionary before performing remove is :  {'Arushi': 22, 'Mani': 21, 'Haritha': 21}\n",
      "The dictionary after remove is :  {'Arushi': 22, 'Haritha': 21}\n"
     ]
    }
   ],
   "source": [
    "test_dict = {\"Arushi\": 22, \"Mani\": 21, \"Haritha\": 21}\n",
    "print(\"The dictionary before performing remove is : \", test_dict)\n",
    "del test_dict[\"Mani\"]\n",
    "print(\"The dictionary after remove is : \", test_dict)\n"
   ]
  },
  {
   "cell_type": "code",
   "execution_count": 125,
   "id": "fd205284",
   "metadata": {},
   "outputs": [
    {
     "name": "stdout",
     "output_type": "stream",
     "text": [
      "The dictionary before performing remove is :  {'Arushi': 22, 'Mani': 21, 'Haritha': 21}\n",
      "The dictionary after remove is : {'Arushi': 22, 'Haritha': 21}\n",
      "The removed key's value is : 21\n",
      "\r\n",
      "The dictionary after remove is : {'Arushi': 22, 'Haritha': 21}\n",
      "The removed key's value is : No Key found\n"
     ]
    }
   ],
   "source": [
    "test_dict = {\"Arushi\": 22, \"Mani\": 21, \"Haritha\": 21}\n",
    "print(\"The dictionary before performing remove is : \", test_dict)\n",
    "removed_value = test_dict.pop(\"Mani\")\n",
    "print(\"The dictionary after remove is : \" + str(test_dict))\n",
    "print(\"The removed key's value is : \" + str(removed_value))\n",
    "\n",
    "print(\"\\r\")\n",
    "removed_value = test_dict.pop('Manjeet', 'No Key found')\n",
    "print(\"The dictionary after remove is : \" + str(test_dict))\n",
    "print(\"The removed key's value is : \" + str(removed_value))"
   ]
  },
  {
   "cell_type": "code",
   "execution_count": 128,
   "id": "3b00eeb5",
   "metadata": {},
   "outputs": [
    {
     "name": "stdout",
     "output_type": "stream",
     "text": [
      "The dictionary before performing remove is :  {'Arushi': 22, 'Mani': 21, 'Haritha': 21}\n",
      "The dictionary after remove is: {'Arushi': 22, 'Haritha': 21}\n"
     ]
    }
   ],
   "source": [
    "test_dict = {\"Arushi\": 22, \"Mani\": 21, \"Haritha\": 21}\n",
    "print(\"The dictionary before performing remove is : \", test_dict)\n",
    "new_dict = {key:val for key,val in test_dict.items() if key!=\"Mani\"}\n",
    "print(\"The dictionary after remove is:\",new_dict)"
   ]
  },
  {
   "cell_type": "code",
   "execution_count": 129,
   "id": "c0d08b7b",
   "metadata": {},
   "outputs": [
    {
     "name": "stdout",
     "output_type": "stream",
     "text": [
      "The dictionary before performing remove is :  {'Arushi': 22, 'Anuradha': 21, 'Mani': 21, 'Haritha': 21}\n",
      "The dictionary after remove is: {'Arushi': 22, 'Anuradha': 21, 'Haritha': 21}\n"
     ]
    }
   ],
   "source": [
    "test_dict = {\"Arushi\": 22, \"Anuradha\": 21, \"Mani\": 21, \"Haritha\": 21}\n",
    "print(\"The dictionary before performing remove is : \", test_dict)\n",
    "y = {}\n",
    "for key,val in test_dict.items():\n",
    "    if key != \"Mani\":\n",
    "        y[key] = val\n",
    "print(\"The dictionary after remove is:\",y)  "
   ]
  },
  {
   "cell_type": "code",
   "execution_count": 130,
   "id": "4f90e8d2",
   "metadata": {},
   "outputs": [
    {
     "name": "stdout",
     "output_type": "stream",
     "text": [
      "The dictionary before performing remove is :  {'Arushi': 22, 'Anuradha': 21, 'Mani': 21, 'Haritha': 21}\n",
      "Deleted!\n"
     ]
    }
   ],
   "source": [
    "test_dict = {\"Arushi\": 22, \"Anuradha\": 21, \"Mani\": 21, \"Haritha\": 21}\n",
    "print(\"The dictionary before performing remove is : \", test_dict)\n",
    "del test_dict\n",
    "try:\n",
    "    print(test_dict)\n",
    "except:\n",
    "    print(\"Deleted!\")"
   ]
  },
  {
   "cell_type": "code",
   "execution_count": 131,
   "id": "9e7d7919",
   "metadata": {},
   "outputs": [
    {
     "name": "stdout",
     "output_type": "stream",
     "text": [
      "The dictionary before performing remove is :  {'Arushi': 22, 'Anuradha': 21, 'Mani': 21, 'Haritha': 21}\n",
      "Length 0\n",
      "{}\n"
     ]
    }
   ],
   "source": [
    "test_dict = {\"Arushi\": 22, \"Anuradha\": 21, \"Mani\": 21, \"Haritha\": 21}\n",
    "print(\"The dictionary before performing remove is : \", test_dict)\n",
    "test_dict.clear()\n",
    "print(\"Length\",len(test_dict))\n",
    "print(test_dict)"
   ]
  },
  {
   "cell_type": "markdown",
   "id": "d0c46896",
   "metadata": {},
   "source": [
    "### Replace words from Dictionary"
   ]
  },
  {
   "cell_type": "code",
   "execution_count": 133,
   "id": "10b05418",
   "metadata": {},
   "outputs": [
    {
     "name": "stdout",
     "output_type": "stream",
     "text": [
      "The original string is :  geekforgeeks best for geeks\n",
      "Replaced String: geekforgeeks good and better for all CS aspirants\n"
     ]
    }
   ],
   "source": [
    "test_str = 'geekforgeeks best for geeks'\n",
    "print(\"The original string is : \",test_str)\n",
    "lookp_dict = {\"best\" : \"good and better\", \"geeks\" : \"all CS aspirants\"}\n",
    "temp = test_str.split()\n",
    "result = []\n",
    "for word in temp:\n",
    "    result.append(lookp_dict.get(word,word))\n",
    "result = \" \".join(result)\n",
    "print(\"Replaced String:\",result)"
   ]
  },
  {
   "cell_type": "code",
   "execution_count": 134,
   "id": "57e002df",
   "metadata": {},
   "outputs": [
    {
     "name": "stdout",
     "output_type": "stream",
     "text": [
      "The original string is :  geekforgeeks best for geeks\n",
      "Replaced String: geekforgeeks good and better for all CS aspirants\n"
     ]
    }
   ],
   "source": [
    "test_str = 'geekforgeeks best for geeks'\n",
    "print(\"The original string is : \",test_str)\n",
    "lookp_dict = {\"best\" : \"good and better\", \"geeks\" : \"all CS aspirants\"}\n",
    "result = \" \".join(lookp_dict.get(ele,ele) for ele in test_str.split())\n",
    "print(\"Replaced String:\",result)"
   ]
  },
  {
   "cell_type": "markdown",
   "id": "6d21a06f",
   "metadata": {},
   "source": [
    "### Remove Dictionary Key Words"
   ]
  },
  {
   "cell_type": "code",
   "execution_count": 135,
   "id": "2be16415",
   "metadata": {},
   "outputs": [
    {
     "name": "stdout",
     "output_type": "stream",
     "text": [
      "The original string is :  gfg is best for geeks\n",
      "The string after replace: gfg is  for \n"
     ]
    }
   ],
   "source": [
    "test_str = 'gfg is best for geeks'\n",
    "print(\"The original string is : \",test_str)\n",
    "test_dict = {'geeks': 1, 'best': 6}\n",
    "for key in test_dict:\n",
    "    if key in test_str.split(\" \"):\n",
    "        test_str = test_str.replace(key,\"\")\n",
    "print(\"The string after replace:\",test_str)"
   ]
  },
  {
   "cell_type": "code",
   "execution_count": 137,
   "id": "d47f8f9e",
   "metadata": {},
   "outputs": [
    {
     "name": "stdout",
     "output_type": "stream",
     "text": [
      "The original string is :  gfg is best for geeks\n",
      "The string after replace: gfg is for\n"
     ]
    }
   ],
   "source": [
    "test_str = 'gfg is best for geeks'\n",
    "print(\"The original string is : \",test_str)\n",
    "test_dict = {'geeks': 1, 'best': 6}\n",
    "temp = test_str.split(\" \")\n",
    "temp1 = [word for word in temp if word.lower() not in test_dict]\n",
    "result = \" \".join(temp1)\n",
    "print(\"The string after replace:\",result)"
   ]
  },
  {
   "cell_type": "code",
   "execution_count": 138,
   "id": "144359aa",
   "metadata": {},
   "outputs": [
    {
     "name": "stdout",
     "output_type": "stream",
     "text": [
      "The original string is :  gfg is best for geeks\n",
      "The string after replace: gfg is for\n"
     ]
    }
   ],
   "source": [
    "test_str = 'gfg is best for geeks'\n",
    "print(\"The original string is : \",test_str)\n",
    "test_dict = {'geeks': 1, 'best': 6}\n",
    "result = \" \".join(list(filter(lambda ele:ele not in test_dict.keys(),test_str.split())))\n",
    "print(\"The string after replace:\",result)"
   ]
  },
  {
   "cell_type": "code",
   "execution_count": null,
   "id": "782be48a",
   "metadata": {},
   "outputs": [],
   "source": [
    "import re\n",
    "test_str = 'gfg is best for geeks'\n",
    "print(\"The original string is : \",test_str)\n",
    "test_dict = {'geeks': 1, 'best': 6}\n",
    "pattern = \"|\".join(test_str)"
   ]
  },
  {
   "cell_type": "markdown",
   "id": "f61fe203",
   "metadata": {},
   "source": [
    "###  Remove duplicate values across Dictionary Values"
   ]
  },
  {
   "cell_type": "code",
   "execution_count": 7,
   "id": "e71cf7bc",
   "metadata": {},
   "outputs": [
    {
     "name": "stdout",
     "output_type": "stream",
     "text": [
      "Original Dictionary: {'Manjeet': [1, 4, 5, 6], 'Akash': [1, 8, 9], 'Nikhil': [10, 22, 4], 'Akshat': [5, 11, 22]}\n",
      "Counter({1: 1, 4: 1, 5: 1, 6: 1})\n",
      "Counter({1: 2, 4: 1, 5: 1, 6: 1, 8: 1, 9: 1})\n",
      "Counter({1: 2, 4: 2, 5: 1, 6: 1, 8: 1, 9: 1, 10: 1, 22: 1})\n",
      "Counter({1: 2, 4: 2, 5: 2, 22: 2, 6: 1, 8: 1, 9: 1, 10: 1, 11: 1})\n",
      "Uncommon element records: {'Manjeet': [6], 'Akash': [8, 9], 'Nikhil': [10], 'Akshat': [11]}\n"
     ]
    }
   ],
   "source": [
    "from collections import Counter\n",
    "test_dict = {'Manjeet': [1, 4, 5, 6],\n",
    "             'Akash': [1, 8, 9],\n",
    "             'Nikhil': [10, 22, 4],\n",
    "             'Akshat': [5, 11, 22]}\n",
    "print(\"Original Dictionary:\",test_dict)\n",
    "cnt = Counter()\n",
    "for val in test_dict.values():\n",
    "    cnt.update(val)\n",
    "    print(cnt)\n",
    "result = {val:[key for key in j if cnt[key]==1] for val,j in test_dict.items()}\n",
    "print(\"Uncommon element records:\",result)"
   ]
  },
  {
   "cell_type": "code",
   "execution_count": 15,
   "id": "22414572",
   "metadata": {},
   "outputs": [
    {
     "name": "stdout",
     "output_type": "stream",
     "text": [
      "Original Dictionary: {'Manjeet': [1, 4, 5, 6], 'Akash': [1, 8, 9], 'Nikhil': [10, 22, 4], 'Akshat': [5, 11, 22]}\n",
      "Uncommon element records: {'Manjeet': [6], 'Akash': [8, 9], 'Nikhil': [10], 'Akshat': [11]}\n"
     ]
    }
   ],
   "source": [
    "test_dict = {'Manjeet': [1, 4, 5, 6],\n",
    "             'Akash': [1, 8, 9],\n",
    "             'Nikhil': [10, 22, 4],\n",
    "             'Akshat': [5, 11, 22]}\n",
    "print(\"Original Dictionary:\",test_dict)\n",
    "x = []\n",
    "for i in test_dict.keys():\n",
    "    x.extend(test_dict[i])\n",
    "y = []\n",
    "for i in x:\n",
    "    if(x.count(i) == 1):\n",
    "        y.append(i)\n",
    "result = dict()\n",
    " \n",
    "for i in test_dict.keys():\n",
    "    a = []\n",
    "    for j in test_dict[i]:\n",
    "        if j in y:\n",
    "            a.append(j)\n",
    "        result[i] = a\n",
    "print(\"Uncommon element records:\",result)"
   ]
  },
  {
   "cell_type": "markdown",
   "id": "45298fe9",
   "metadata": {},
   "source": [
    "### Python Dictionary to find mirror characters in a string"
   ]
  },
  {
   "cell_type": "code",
   "execution_count": 16,
   "id": "079a8ba6",
   "metadata": {},
   "outputs": [
    {
     "name": "stdout",
     "output_type": "stream",
     "text": [
      "paizwlc\n"
     ]
    }
   ],
   "source": [
    "def mirrorChar(string,k):\n",
    "    original = 'abcdefghijklmnopqrstuvwxyz'\n",
    "    reverse = 'zyxwvutsrqponmlkjihgfedcba'\n",
    "    dictChar = dict(zip(original,reverse))\n",
    "    \n",
    "    prefix = string[0:k-1]\n",
    "    suffix = string[k-1:]\n",
    "    mirror = \"\"\n",
    "    \n",
    "    for i in range(0,len(suffix)):\n",
    "        mirror += dictChar[suffix[i]]\n",
    "    print(prefix + mirror)\n",
    "input = \"paradox\"\n",
    "k = 3\n",
    "mirrorChar(input,k)\n"
   ]
  },
  {
   "cell_type": "markdown",
   "id": "aa42229d",
   "metadata": {},
   "source": [
    "### Counting the frequencies in a list using dictionary in Python"
   ]
  },
  {
   "cell_type": "code",
   "execution_count": 17,
   "id": "68577032",
   "metadata": {},
   "outputs": [
    {
     "name": "stdout",
     "output_type": "stream",
     "text": [
      "1 : 5\n",
      "5 : 2\n",
      "3 : 3\n",
      "4 : 3\n",
      "2 : 4\n"
     ]
    }
   ],
   "source": [
    "def countfrequency(my_list):\n",
    "    freq = {}\n",
    "    for ele in my_list:\n",
    "        if (ele in freq):\n",
    "            freq[ele] += 1\n",
    "        else:\n",
    "            freq[ele] = 1\n",
    "    for key,val in freq.items():\n",
    "        print(\"%d : %d\"%(key,val))\n",
    "        \n",
    "my_list = [1, 1, 1, 5, 5, 3, 1, 3, 3, 1, 4, 4, 4, 2, 2, 2, 2]\n",
    "countfrequency(my_list)"
   ]
  },
  {
   "cell_type": "code",
   "execution_count": 18,
   "id": "bf882dfe",
   "metadata": {},
   "outputs": [
    {
     "name": "stdout",
     "output_type": "stream",
     "text": [
      "1 : 5\n",
      "5 : 2\n",
      "3 : 3\n",
      "4 : 3\n",
      "2 : 4\n"
     ]
    }
   ],
   "source": [
    "def countfrequency(my_list):\n",
    "    freq = {}\n",
    "    for ele in my_list:\n",
    "        freq[ele] = my_list.count(ele)\n",
    "\n",
    "    for key,val in freq.items():\n",
    "        print(\"%d : %d\"%(key,val))\n",
    "        \n",
    "my_list = [1, 1, 1, 5, 5, 3, 1, 3, 3, 1, 4, 4, 4, 2, 2, 2, 2]\n",
    "countfrequency(my_list)"
   ]
  },
  {
   "cell_type": "code",
   "execution_count": 19,
   "id": "69fa97b2",
   "metadata": {},
   "outputs": [
    {
     "name": "stdout",
     "output_type": "stream",
     "text": [
      "1 : 5\n",
      "5 : 2\n",
      "3 : 3\n",
      "4 : 3\n",
      "2 : 4\n"
     ]
    }
   ],
   "source": [
    "import operator as op\n",
    "def countfrequency(my_list):\n",
    "    freq = {}\n",
    "    for ele in my_list:\n",
    "        freq[ele] = op.countOf(my_list,ele)\n",
    "\n",
    "    for key,val in freq.items():\n",
    "        print(\"%d : %d\"%(key,val))\n",
    "        \n",
    "my_list = [1, 1, 1, 5, 5, 3, 1, 3, 3, 1, 4, 4, 4, 2, 2, 2, 2]\n",
    "countfrequency(my_list)"
   ]
  },
  {
   "cell_type": "markdown",
   "id": "8ca79a3f",
   "metadata": {},
   "source": [
    "### Dictionary Values Mean"
   ]
  },
  {
   "cell_type": "code",
   "execution_count": 25,
   "id": "61556169",
   "metadata": {},
   "outputs": [
    {
     "name": "stdout",
     "output_type": "stream",
     "text": [
      "Original Dictionary: {'Gfg': 4, 'is': 7, 'Best': 8, 'for': 6, 'Geeks': 10}\n",
      "4,11,19,25,35,The computed mean is: 7.0\n"
     ]
    }
   ],
   "source": [
    "test_dict = {\"Gfg\" : 4, \"is\" : 7, \"Best\" : 8, \"for\" : 6, \"Geeks\" : 10} \n",
    "print(\"Original Dictionary:\",test_dict)\n",
    "result = 0\n",
    "for val in test_dict.values():\n",
    "    result += val\n",
    "    print(result,end = \",\")\n",
    "result = result/len(test_dict)\n",
    "print(\"The computed mean is:\",result)"
   ]
  },
  {
   "cell_type": "code",
   "execution_count": 27,
   "id": "ac507b2b",
   "metadata": {},
   "outputs": [
    {
     "name": "stdout",
     "output_type": "stream",
     "text": [
      "Original Dictionary: {'Gfg': 4, 'is': 7, 'Best': 8, 'for': 6, 'Geeks': 10}\n",
      "The computed mean is: 7.0\n"
     ]
    }
   ],
   "source": [
    "test_dict = {\"Gfg\" : 4, \"is\" : 7, \"Best\" : 8, \"for\" : 6, \"Geeks\" : 10} \n",
    "print(\"Original Dictionary:\",test_dict)\n",
    "result = sum(test_dict.values())/len(test_dict)\n",
    "print(\"The computed mean is:\",result)"
   ]
  },
  {
   "cell_type": "code",
   "execution_count": 29,
   "id": "047a2033",
   "metadata": {},
   "outputs": [
    {
     "name": "stdout",
     "output_type": "stream",
     "text": [
      "Original Dictionary: {'Gfg': 4, 'is': 7, 'Best': 8, 'for': 6, 'Geeks': 10}\n",
      "The computed mean is: 7.0\n"
     ]
    }
   ],
   "source": [
    "import statistics\n",
    "test_dict = {\"Gfg\" : 4, \"is\" : 7, \"Best\" : 8, \"for\" : 6, \"Geeks\" : 10} \n",
    "print(\"Original Dictionary:\",test_dict)\n",
    "result = float(statistics.mean(list(test_dict.values())))\n",
    "print(\"The computed mean is:\",result)"
   ]
  },
  {
   "cell_type": "code",
   "execution_count": 30,
   "id": "9c1ea999",
   "metadata": {},
   "outputs": [
    {
     "name": "stdout",
     "output_type": "stream",
     "text": [
      "Mean: 7.0\n"
     ]
    }
   ],
   "source": [
    "from functools import reduce\n",
    "def accumulate(x,y):\n",
    "    return x+y\n",
    "def dict_mean(d):\n",
    "    value_sum = reduce(accumulate,d.values())\n",
    "    mean = value_sum / len(d)\n",
    "    return mean\n",
    "\n",
    "d = {'Gfg': 4, 'is': 7, 'Best': 8, 'for': 6, 'Geeks': 10} \n",
    "print(\"Mean:\", dict_mean(d)) "
   ]
  },
  {
   "cell_type": "code",
   "execution_count": 31,
   "id": "a5fb3786",
   "metadata": {},
   "outputs": [
    {
     "name": "stdout",
     "output_type": "stream",
     "text": [
      "Original Dictionary: {'Gfg': 4, 'is': 7, 'Best': 8, 'for': 6, 'Geeks': 10}\n",
      "The computed mean is: 7.0\n"
     ]
    }
   ],
   "source": [
    "import numpy as np\n",
    "d = {'Gfg': 4, 'is': 7, 'Best': 8, 'for': 6, 'Geeks': 10} \n",
    "print(\"Original Dictionary:\",test_dict)\n",
    "result = np.mean(list(d.values()))\n",
    "print(\"The computed mean is:\",result)"
   ]
  },
  {
   "cell_type": "markdown",
   "id": "323108ca",
   "metadata": {},
   "source": [
    "### Python counter and dictionary intersection example (Make a string using deletion and rearrangement)"
   ]
  },
  {
   "cell_type": "code",
   "execution_count": 32,
   "id": "ad7d83af",
   "metadata": {},
   "outputs": [
    {
     "name": "stdout",
     "output_type": "stream",
     "text": [
      "Possible\n"
     ]
    }
   ],
   "source": [
    "from collections import Counter\n",
    "def makestring(str1,str2):\n",
    "    dict1 = Counter(str1)\n",
    "    dict2 = Counter(str2)\n",
    "    result = dict1 & dict2\n",
    "    return result == dict1\n",
    "\n",
    "str1 = 'ABHISHEKsinGH'\n",
    "str2 = 'gfhfBHkooIHnfndSHEKsiAnG'\n",
    "if makestring(str1,str2) == True:\n",
    "    print(\"Possible\")\n",
    "else:\n",
    "    print(\"Not Possible\")"
   ]
  },
  {
   "cell_type": "markdown",
   "id": "fac2b732",
   "metadata": {},
   "source": [
    "### Python dictionary, set and counter to check if frequencies can become same"
   ]
  },
  {
   "cell_type": "code",
   "execution_count": 33,
   "id": "4148ce0b",
   "metadata": {},
   "outputs": [
    {
     "name": "stdout",
     "output_type": "stream",
     "text": [
      "No\n"
     ]
    }
   ],
   "source": [
    "from collections import Counter\n",
    "def allsame(input):\n",
    "    dict1 = Counter(input)\n",
    "    same = list(set(dict1.values()))\n",
    "    if len(same)>2:\n",
    "        print(\"No\")\n",
    "    elif len(same) == 2 and same[-1] - same[0] > 1:\n",
    "        print(\"No\")\n",
    "    else:\n",
    "        print(\"Yes\")\n",
    "input = 'xxxyyzzt'\n",
    "allsame(input)"
   ]
  },
  {
   "cell_type": "markdown",
   "id": "78bacc7e",
   "metadata": {},
   "source": [
    "### Scraping And Finding Ordered Words In A Dictionary using Python"
   ]
  },
  {
   "cell_type": "code",
   "execution_count": 34,
   "id": "4a001442",
   "metadata": {},
   "outputs": [
    {
     "name": "stdout",
     "output_type": "stream",
     "text": [
      "Defaulting to user installation because normal site-packages is not writeable\n",
      "Requirement already satisfied: requests in e:\\anaconda\\lib\\site-packages (2.31.0)\n",
      "Requirement already satisfied: charset-normalizer<4,>=2 in e:\\anaconda\\lib\\site-packages (from requests) (2.0.4)\n",
      "Requirement already satisfied: idna<4,>=2.5 in e:\\anaconda\\lib\\site-packages (from requests) (3.4)\n",
      "Requirement already satisfied: urllib3<3,>=1.21.1 in e:\\anaconda\\lib\\site-packages (from requests) (1.26.16)\n",
      "Requirement already satisfied: certifi>=2017.4.17 in e:\\anaconda\\lib\\site-packages (from requests) (2023.7.22)\n"
     ]
    }
   ],
   "source": [
    "!pip install requests"
   ]
  },
  {
   "cell_type": "code",
   "execution_count": 38,
   "id": "77d6c7ca",
   "metadata": {},
   "outputs": [],
   "source": [
    "import requests \n",
    "  \n",
    "# Scrapes the words from the URL below and stores  \n",
    "# them in a list \n",
    "def getWords(): \n",
    "  \n",
    "    # contains about 2500 words \n",
    "    url = \"http://www.puzzlers.org/pub/wordlists/unixdict.txt\"\n",
    "    fetchData = requests.get(url) \n",
    "  \n",
    "    # extracts the content of the webpage \n",
    "    wordList = fetchData.content \n",
    "  \n",
    "    # decodes the UTF-8 encoded text and splits the  \n",
    "    # string to turn it into a list of words \n",
    "    wordList = wordList.decode(\"utf-8\").split() \n",
    "  \n",
    "    return wordList \n",
    "  \n",
    "    \n",
    "  \n",
    "def isOrdered(): \n",
    "  \n",
    "    # fetching the wordList \n",
    "    collection = getWords() \n",
    "  \n",
    "    # since the first few of the elements of the  \n",
    "    # dictionary are numbers, getting rid of those \n",
    "    # numbers by slicing off the first 17 elements \n",
    "    collection = collection[16:] \n",
    "    word = '' \n",
    "  \n",
    "    for word in collection: \n",
    "        result = 'Word is ordered'\n",
    "        i = 0\n",
    "        l = len(word) - 1\n",
    "  \n",
    "        if (len(word) < 3): # skips the 1 and 2 lettered strings \n",
    "            continue\n",
    "  \n",
    "        # traverses through all characters of the word in pairs \n",
    "        while i < l:          \n",
    "            if (ord(word[i]) > ord(word[i+1])): \n",
    "                result = 'Word is not ordered'\n",
    "                break\n",
    "            else: \n",
    "                i += 1\n",
    "  \n",
    "        # only printing the ordered words \n",
    "        if (result == 'Word is ordered'): \n",
    "            print(word,': ',result) \n",
    "  \n",
    "  \n",
    "# execute isOrdered() function \n",
    "if __name__ == '__main__': \n",
    "    isOrdered() "
   ]
  },
  {
   "cell_type": "markdown",
   "id": "3824bf2d",
   "metadata": {},
   "source": [
    "### Possible Words using given characters in Python"
   ]
  },
  {
   "cell_type": "code",
   "execution_count": 39,
   "id": "cfca0f22",
   "metadata": {},
   "outputs": [
    {
     "name": "stdout",
     "output_type": "stream",
     "text": [
      "me\n",
      "goal\n"
     ]
    }
   ],
   "source": [
    "def charcount(word):\n",
    "    dict = {}\n",
    "    for i in word:\n",
    "        dict[i] = dict.get(i,0) + 1\n",
    "    return dict\n",
    "\n",
    "def possible_words(lwords,charset):\n",
    "    for word in lwords:\n",
    "        flag = 1\n",
    "        chars = charcount(word)\n",
    "        for key in chars:\n",
    "            if key not in charset:\n",
    "                flag = 0\n",
    "            else:\n",
    "                if charset.count(key)!=chars[key]:\n",
    "                    flag = 0\n",
    "        if flag == 1:\n",
    "            print(word)\n",
    "            \n",
    "input = ['goo', 'bat', 'me', 'eat', 'goal', 'boy', 'run'] \n",
    "charSet = ['e', 'o', 'b', 'a', 'm', 'g', 'l']\n",
    "possible_words(input, charSet)"
   ]
  },
  {
   "cell_type": "code",
   "execution_count": 42,
   "id": "9a73c5d9",
   "metadata": {},
   "outputs": [
    {
     "name": "stdout",
     "output_type": "stream",
     "text": [
      "me\n",
      "go\n",
      "goal\n"
     ]
    }
   ],
   "source": [
    "def find_words(dictionary,charecters,word = \"\"):\n",
    "    if word in dictionary:\n",
    "        print(word)\n",
    "        \n",
    "    for char in charecters:\n",
    "        new_charecters = charecters.copy()\n",
    "        new_charecters.remove(char)\n",
    "        find_words(dictionary,new_charecters,word+char)\n",
    "        \n",
    "dictionary = [\"go\",\"bat\",\"me\",\"eat\",\"goal\",\"boy\", \"run\"]\n",
    "characters = ['e','o','b', 'a','m','g', 'l']\n",
    "find_words(dictionary, characters)        "
   ]
  },
  {
   "cell_type": "code",
   "execution_count": 44,
   "id": "4fbe9a8f",
   "metadata": {},
   "outputs": [
    {
     "data": {
      "text/plain": [
       "['go', 'me', 'goal']"
      ]
     },
     "execution_count": 44,
     "metadata": {},
     "output_type": "execute_result"
    }
   ],
   "source": [
    "def possible_words(Dict, arr):\n",
    "    arr_set = set(arr)\n",
    "    result = []\n",
    "    for word in Dict:\n",
    "        if set(word).issubset(arr_set):\n",
    "            result.append(word)\n",
    "    return result\n",
    "dictionary = [\"go\",\"bat\",\"me\",\"eat\",\"goal\",\"boy\", \"run\"]\n",
    "characters = ['e','o','b', 'a','m','g', 'l']\n",
    "possible_words(dictionary, characters)  "
   ]
  },
  {
   "cell_type": "markdown",
   "id": "6d3df313",
   "metadata": {},
   "source": [
    "### Maximum record value key in dictionary"
   ]
  },
  {
   "cell_type": "code",
   "execution_count": 47,
   "id": "9bdde7e4",
   "metadata": {},
   "outputs": [
    {
     "name": "stdout",
     "output_type": "stream",
     "text": [
      "Original Dict: {'gfg': {'Manjeet': 5, 'Himani': 10}, 'is': {'Manjeet': 8, 'Himani': 9}, 'best': {'Manjeet': 10, 'Himani': 15}}\n",
      "The Required key is: best\n"
     ]
    }
   ],
   "source": [
    "test_dict = {'gfg' : {'Manjeet' : 5, 'Himani' : 10},\n",
    "             'is' : {'Manjeet' : 8, 'Himani' : 9},\n",
    "             'best' : {'Manjeet' : 10, 'Himani' : 15}}\n",
    "print(\"Original Dict:\",test_dict)\n",
    "key = \"Himani\"\n",
    "result = None\n",
    "result_max = 0\n",
    "for sub in test_dict:\n",
    "    if test_dict[sub][key] > result_max:\n",
    "        result_max = test_dict[sub][key]\n",
    "        result = sub\n",
    "        \n",
    "print(\"The Required key is:\",result)"
   ]
  },
  {
   "cell_type": "code",
   "execution_count": 48,
   "id": "6bcf6a4e",
   "metadata": {},
   "outputs": [
    {
     "name": "stdout",
     "output_type": "stream",
     "text": [
      "Original Dict: {'gfg': {'Manjeet': 5, 'Himani': 10}, 'is': {'Manjeet': 8, 'Himani': 9}, 'best': {'Manjeet': 10, 'Himani': 15}}\n",
      "The Required key is: best\n"
     ]
    }
   ],
   "source": [
    "test_dict = {'gfg' : {'Manjeet' : 5, 'Himani' : 10},\n",
    "             'is' : {'Manjeet' : 8, 'Himani' : 9},\n",
    "             'best' : {'Manjeet' : 10, 'Himani' : 15}}\n",
    "print(\"Original Dict:\",test_dict)\n",
    "key = \"Himani\"\n",
    "result = max(test_dict,key = lambda sub:test_dict[sub][key])\n",
    "print(\"The Required key is:\",result)"
   ]
  },
  {
   "cell_type": "code",
   "execution_count": 49,
   "id": "83743ea1",
   "metadata": {},
   "outputs": [
    {
     "name": "stdout",
     "output_type": "stream",
     "text": [
      "Original Dict: {'gfg': {'Manjeet': 5, 'Himani': 10}, 'is': {'Manjeet': 8, 'Himani': 9}, 'best': {'Manjeet': 10, 'Himani': 15}}\n",
      "The Required key is: best\n"
     ]
    }
   ],
   "source": [
    "from functools import reduce\n",
    "test_dict = {'gfg' : {'Manjeet' : 5, 'Himani' : 10},\n",
    "             'is' : {'Manjeet' : 8, 'Himani' : 9},\n",
    "             'best' : {'Manjeet' : 10, 'Himani' : 15}}\n",
    "print(\"Original Dict:\",test_dict)\n",
    "key = \"Himani\"\n",
    "def find_max_key(x,y):\n",
    "    return x if x[1][key] > y[1][key] else y\n",
    "max_key = reduce(find_max_key,test_dict.items())[0]\n",
    "print(\"The Required key is:\",max_key)"
   ]
  },
  {
   "cell_type": "code",
   "execution_count": 51,
   "id": "b54f49b4",
   "metadata": {},
   "outputs": [
    {
     "name": "stdout",
     "output_type": "stream",
     "text": [
      "Original Dict: {'gfg': {'Manjeet': 5, 'Himani': 10}, 'is': {'Manjeet': 8, 'Himani': 9}, 'best': {'Manjeet': 10, 'Himani': 15}}\n",
      "[10, 9, 15]\n",
      "2\n",
      "The Required key is: best\n"
     ]
    }
   ],
   "source": [
    "test_dict = {'gfg' : {'Manjeet' : 5, 'Himani' : 10},\n",
    "             'is' : {'Manjeet' : 8, 'Himani' : 9},\n",
    "             'best' : {'Manjeet' : 10, 'Himani' : 15}}\n",
    "print(\"Original Dict:\",test_dict)\n",
    "key = \"Himani\"\n",
    "val = [sub[key] for sub in test_dict.values()]\n",
    "print(val)\n",
    "max_val = max(val)\n",
    "idx = val.index(max_val)\n",
    "print(idx)\n",
    "result = list(test_dict.keys())[idx]\n",
    "print(\"The Required key is:\",result)"
   ]
  },
  {
   "cell_type": "markdown",
   "id": "bd0e328c",
   "metadata": {},
   "source": [
    "### Python – Extract values of Particular Key in Nested Values"
   ]
  },
  {
   "cell_type": "code",
   "execution_count": 52,
   "id": "287cec38",
   "metadata": {},
   "outputs": [
    {
     "name": "stdout",
     "output_type": "stream",
     "text": [
      "Original Dict: {'Gfg': {'a': 7, 'b': 9, 'c': 12}, 'is': {'a': 15, 'b': 19, 'c': 20}, 'best': {'a': 5, 'b': 10, 'c': 2}}\n",
      "The Extracted values is: [12, 20, 2]\n"
     ]
    }
   ],
   "source": [
    "test_dict = {'Gfg' : {\"a\" : 7, \"b\" : 9, \"c\" : 12},\n",
    "             'is' : {\"a\" : 15, \"b\" : 19, \"c\" : 20}, \n",
    "             'best' :{\"a\" : 5, \"b\" : 10, \"c\" : 2}}\n",
    "print(\"Original Dict:\",test_dict)\n",
    "key = \"c\"\n",
    "result = [sub[key] for sub in test_dict.values()]\n",
    "print(\"The Extracted values is:\",result)"
   ]
  },
  {
   "cell_type": "code",
   "execution_count": 56,
   "id": "5f1ab9ba",
   "metadata": {},
   "outputs": [
    {
     "name": "stdout",
     "output_type": "stream",
     "text": [
      "Original Dict: {'Gfg': {'a': 7, 'b': 9, 'c': 12}, 'is': {'a': 15, 'b': 19, 'c': 20}, 'best': {'a': 5, 'b': 10, 'c': 2}}\n",
      "The Extracted values is: [12, 20, 2]\n"
     ]
    }
   ],
   "source": [
    "test_dict = {'Gfg' : {\"a\" : 7, \"b\" : 9, \"c\" : 12},\n",
    "             'is' : {\"a\" : 15, \"b\" : 19, \"c\" : 20}, \n",
    "             'best' :{\"a\" : 5, \"b\" : 10, \"c\" : 2}}\n",
    "print(\"Original Dict:\",test_dict)\n",
    "keys = \"c\"\n",
    "result = [val[keys] for key,val in test_dict.items() if keys in val]\n",
    "print(\"The Extracted values is:\",result)"
   ]
  },
  {
   "cell_type": "code",
   "execution_count": 57,
   "id": "3714e80d",
   "metadata": {},
   "outputs": [
    {
     "name": "stdout",
     "output_type": "stream",
     "text": [
      "Original Dict: {'Gfg': {'a': 7, 'b': 9, 'c': 12}, 'is': {'a': 15, 'b': 19, 'c': 20}, 'best': {'a': 5, 'b': 10, 'c': 2}}\n",
      "The Extracted values is: [12, 20, 2]\n"
     ]
    }
   ],
   "source": [
    "test_dict = {'Gfg' : {\"a\" : 7, \"b\" : 9, \"c\" : 12},\n",
    "             'is' : {\"a\" : 15, \"b\" : 19, \"c\" : 20}, \n",
    "             'best' :{\"a\" : 5, \"b\" : 10, \"c\" : 2}}\n",
    "print(\"Original Dict:\",test_dict)\n",
    "keys = \"c\"\n",
    "result = [sub[keys] for sub in test_dict.values() if keys in sub.keys()]\n",
    "print(\"The Extracted values is:\",result)"
   ]
  },
  {
   "cell_type": "code",
   "execution_count": 58,
   "id": "843f623f",
   "metadata": {},
   "outputs": [
    {
     "name": "stdout",
     "output_type": "stream",
     "text": [
      "Original Dict: {'Gfg': {'a': 7, 'b': 9, 'c': 12}, 'is': {'a': 15, 'b': 19, 'c': 20}, 'best': {'a': 5, 'b': 10, 'c': 2}}\n",
      "The Extracted values is: [12, 20, 2]\n"
     ]
    }
   ],
   "source": [
    "test_dict = {'Gfg' : {\"a\" : 7, \"b\" : 9, \"c\" : 12},\n",
    "             'is' : {\"a\" : 15, \"b\" : 19, \"c\" : 20}, \n",
    "             'best' :{\"a\" : 5, \"b\" : 10, \"c\" : 2}}\n",
    "print(\"Original Dict:\",test_dict)\n",
    "keys = \"c\"\n",
    "result = []\n",
    "for sub in test_dict.values():\n",
    "    if keys in sub:\n",
    "        result.append(sub[keys])\n",
    "print(\"The Extracted values is:\",result)"
   ]
  },
  {
   "cell_type": "markdown",
   "id": "165b6f5f",
   "metadata": {},
   "source": [
    "### Conversion of dictionary\n",
    "### Convert Key-Value list Dictionary to List of Lists\n"
   ]
  },
  {
   "cell_type": "code",
   "execution_count": 59,
   "id": "753d479b",
   "metadata": {},
   "outputs": [
    {
     "name": "stdout",
     "output_type": "stream",
     "text": [
      "Original Dict: {'gfg': [1, 3, 4], 'is': [7, 6], 'best': [4, 5]}\n",
      "The converted list is: [['gfg', 1, 3, 4], ['is', 7, 6], ['best', 4, 5]]\n"
     ]
    }
   ],
   "source": [
    "test_dict = {'gfg': [1, 3, 4], 'is': [7, 6], 'best': [4, 5]}\n",
    "print(\"Original Dict:\",test_dict)\n",
    "result = []\n",
    "for key,val in test_dict.items():\n",
    "    result.append([key] + val)\n",
    "print(\"The converted list is:\",result)"
   ]
  },
  {
   "cell_type": "code",
   "execution_count": 60,
   "id": "f913a306",
   "metadata": {},
   "outputs": [
    {
     "name": "stdout",
     "output_type": "stream",
     "text": [
      "Original Dict: {'gfg': [1, 3, 4], 'is': [7, 6], 'best': [4, 5]}\n",
      "The converted list is: [['gfg', 1, 3, 4], ['is', 7, 6], ['best', 4, 5]]\n"
     ]
    }
   ],
   "source": [
    "test_dict = {'gfg': [1, 3, 4], 'is': [7, 6], 'best': [4, 5]}\n",
    "print(\"Original Dict:\",test_dict)\n",
    "result = [[key]+val for key,val in test_dict.items()]\n",
    "print(\"The converted list is:\",result)"
   ]
  },
  {
   "cell_type": "markdown",
   "id": "f7a5e51f",
   "metadata": {},
   "source": [
    "### Convert List to List of dictionaries"
   ]
  },
  {
   "cell_type": "code",
   "execution_count": 61,
   "id": "a700d6f7",
   "metadata": {},
   "outputs": [
    {
     "name": "stdout",
     "output_type": "stream",
     "text": [
      "Original list: ['Gfg', 3, 'is', 8, 'Best', 10, 'for', 18, 'Geeks', 33]\n",
      "The Constructed dictionary list: [{'name': 'Gfg', 'number': 3}, {'name': 'is', 'number': 8}, {'name': 'Best', 'number': 10}, {'name': 'for', 'number': 18}, {'name': 'Geeks', 'number': 33}]\n"
     ]
    }
   ],
   "source": [
    "test_list = [\"Gfg\", 3, \"is\", 8, \"Best\", 10, \"for\", 18, \"Geeks\", 33]\n",
    "print(\"Original list:\",test_list)\n",
    "key_list = [\"name\", \"number\"]\n",
    "n = len(test_list)\n",
    "result = len(test_list)\n",
    "result = []\n",
    "for idx in range(0,n,2):\n",
    "    result.append({key_list[0]:test_list[idx],key_list[1]:test_list[idx + 1]})\n",
    "print(\"The Constructed dictionary list:\",result)"
   ]
  },
  {
   "cell_type": "code",
   "execution_count": 63,
   "id": "4dfbddd1",
   "metadata": {},
   "outputs": [
    {
     "name": "stdout",
     "output_type": "stream",
     "text": [
      "Original list: ['Gfg', 3, 'is', 8, 'Best', 10, 'for', 18, 'Geeks', 33]\n",
      "The Constructed dictionary list: [{'name': 'Gfg', 'number': 3}, {'name': 'is', 'number': 8}, {'name': 'Best', 'number': 10}, {'name': 'for', 'number': 18}, {'name': 'Geeks', 'number': 33}]\n"
     ]
    }
   ],
   "source": [
    "test_list = [\"Gfg\", 3, \"is\", 8, \"Best\", 10, \"for\", 18, \"Geeks\", 33]\n",
    "print(\"Original list:\",test_list)\n",
    "key_list = [\"name\", \"number\"]\n",
    "result = [{key_list[i]:val for i,val in enumerate(pairs)} for pairs in zip(test_list[::2],test_list[1::2])]\n",
    "print(\"The Constructed dictionary list:\",result)"
   ]
  },
  {
   "cell_type": "markdown",
   "id": "1fd965c4",
   "metadata": {},
   "source": [
    "### Convert Lists of List to Dictionary"
   ]
  },
  {
   "cell_type": "code",
   "execution_count": 64,
   "id": "b381fcc2",
   "metadata": {},
   "outputs": [
    {
     "name": "stdout",
     "output_type": "stream",
     "text": [
      "The original list is : [['a', 'b', 1, 2], ['c', 'd', 3, 4], ['e', 'f', 5, 6]]\n",
      "The mapped Dictionary: {('a', 'b'): (1, 2), ('c', 'd'): (3, 4), ('e', 'f'): (5, 6)}\n"
     ]
    }
   ],
   "source": [
    "test_list = [['a', 'b', 1, 2], ['c', 'd', 3, 4], ['e', 'f', 5, 6]]\n",
    "print(\"The original list is : \" + str(test_list))\n",
    "result = dict()\n",
    "for sub in test_list:\n",
    "    result[tuple(sub[:2])] = tuple(sub[2:])\n",
    "print(\"The mapped Dictionary:\",result)"
   ]
  },
  {
   "cell_type": "code",
   "execution_count": 65,
   "id": "88165e4f",
   "metadata": {},
   "outputs": [
    {
     "name": "stdout",
     "output_type": "stream",
     "text": [
      "The original list is : [['a', 'b', 1, 2], ['c', 'd', 3, 4], ['e', 'f', 5, 6]]\n",
      "The mapped Dictionary: {('a', 'b'): (1, 2), ('c', 'd'): (3, 4), ('e', 'f'): (5, 6)}\n"
     ]
    }
   ],
   "source": [
    "test_list = [['a', 'b', 1, 2], ['c', 'd', 3, 4], ['e', 'f', 5, 6]]\n",
    "print(\"The original list is : \" + str(test_list))\n",
    "result = {tuple(sub[:2]):tuple(sub[2:]) for sub in test_list}\n",
    "print(\"The mapped Dictionary:\",result)"
   ]
  },
  {
   "cell_type": "code",
   "execution_count": 66,
   "id": "d738ac07",
   "metadata": {},
   "outputs": [
    {
     "name": "stdout",
     "output_type": "stream",
     "text": [
      "The original list is : [['a', 'b', 1, 2], ['c', 'd', 3, 4], ['e', 'f', 5, 6]]\n",
      "The mapped Dictionary: {('a', 'b'): (1, 2), ('c', 'd'): (3, 4), ('e', 'f'): (5, 6)}\n"
     ]
    }
   ],
   "source": [
    "test_list = [['a', 'b', 1, 2], ['c', 'd', 3, 4], ['e', 'f', 5, 6]]\n",
    "print(\"The original list is : \" + str(test_list))\n",
    "result = {(lst[0],lst[1]):tuple(lst[2:]) for lst in test_list}\n",
    "print(\"The mapped Dictionary:\",result)"
   ]
  },
  {
   "cell_type": "markdown",
   "id": "610e418c",
   "metadata": {},
   "source": [
    "### Convert List of Dictionaries to List of Lists"
   ]
  },
  {
   "cell_type": "code",
   "execution_count": 68,
   "id": "cda18d3d",
   "metadata": {},
   "outputs": [
    {
     "name": "stdout",
     "output_type": "stream",
     "text": [
      "The original list is : [{'Nikhil': 17, 'Akash': 18, 'Akshat': 20}, {'Nikhil': 21, 'Akash': 30, 'Akshat': 10}, {'Nikhil': 31, 'Akash': 12, 'Akshat': 19}]\n",
      "0\n",
      "{'Nikhil': 17, 'Akash': 18, 'Akshat': 20}\n",
      "1\n",
      "{'Nikhil': 21, 'Akash': 30, 'Akshat': 10}\n",
      "2\n",
      "{'Nikhil': 31, 'Akash': 12, 'Akshat': 19}\n",
      "The converted list is: [['Nikhil', 'Akash', 'Akshat'], [17, 18, 20], [21, 30, 10], [31, 12, 19]]\n"
     ]
    }
   ],
   "source": [
    "test_list = [{'Nikhil' : 17, 'Akash' : 18, 'Akshat' : 20},\n",
    "             {'Nikhil' : 21, 'Akash' : 30, 'Akshat' : 10},\n",
    "             {'Nikhil' : 31, 'Akash' : 12, 'Akshat' : 19}]\n",
    "print(\"The original list is :\",test_list)\n",
    "result = []\n",
    "for i,val in enumerate(test_list,start=0):\n",
    "    print(i)\n",
    "    print(val)\n",
    "    if i == 0:\n",
    "        result.append(list(val.keys()))\n",
    "        result.append(list(val.values()))\n",
    "    else:\n",
    "        result.append(list(val.values()))\n",
    "print(\"The converted list is:\",result)"
   ]
  },
  {
   "cell_type": "code",
   "execution_count": 70,
   "id": "484f2133",
   "metadata": {},
   "outputs": [
    {
     "name": "stdout",
     "output_type": "stream",
     "text": [
      "The original list is : [{'Nikhil': 17, 'Akash': 18, 'Akshat': 20}, {'Nikhil': 21, 'Akash': 30, 'Akshat': 10}, {'Nikhil': 31, 'Akash': 12, 'Akshat': 19}]\n",
      "The converted list is: [['Nikhil', 'Akash', 'Akshat'], [[17, 18, 20], [21, 30, 10], [31, 12, 19]]]\n"
     ]
    }
   ],
   "source": [
    "test_list = [{'Nikhil' : 17, 'Akash' : 18, 'Akshat' : 20},\n",
    "             {'Nikhil' : 21, 'Akash' : 30, 'Akshat' : 10},\n",
    "             {'Nikhil' : 31, 'Akash' : 12, 'Akshat' : 19}]\n",
    "print(\"The original list is :\",test_list)\n",
    "result = [[key for key in test_list[0].keys()],[list(idx.values()) for idx in test_list]]\n",
    "\n",
    "print(\"The converted list is:\",result)"
   ]
  },
  {
   "cell_type": "code",
   "execution_count": 74,
   "id": "3da03bc0",
   "metadata": {},
   "outputs": [
    {
     "name": "stdout",
     "output_type": "stream",
     "text": [
      "The original list is : [{'Nikhil': 17, 'Akash': 18, 'Akshat': 20}, {'Nikhil': 21, 'Akash': 30, 'Akshat': 10}, {'Nikhil': 31, 'Akash': 12, 'Akshat': 19}]\n",
      "The converted list is: [['Nikhil', 'Akash', 'Akshat'], [17, 18, 20], [21, 30, 10], [31, 12, 19]]\n"
     ]
    }
   ],
   "source": [
    "test_list = [{'Nikhil' : 17, 'Akash' : 18, 'Akshat' : 20},\n",
    "             {'Nikhil' : 21, 'Akash' : 30, 'Akshat' : 10},\n",
    "             {'Nikhil' : 31, 'Akash' : 12, 'Akshat' : 19}]\n",
    "print(\"The original list is :\",test_list)\n",
    "result = list(map(lambda x:list(x.values()),test_list))\n",
    "result.insert(0,list(test_list[0].keys()))\n",
    "print(\"The converted list is:\",result)"
   ]
  },
  {
   "cell_type": "code",
   "execution_count": 85,
   "id": "25004c50",
   "metadata": {},
   "outputs": [
    {
     "name": "stdout",
     "output_type": "stream",
     "text": [
      "The original list is : [{'Nikhil': 17, 'Akash': 18, 'Akshat': 20}, {'Nikhil': 21, 'Akash': 30, 'Akshat': 10}, {'Nikhil': 31, 'Akash': 12, 'Akshat': 19}]\n",
      "The converted list is: [['Nikhil', 'Akash', 'Akshat'], [17, 18, 20], [21, 30, 10], [31, 12, 19]]\n"
     ]
    }
   ],
   "source": [
    "import pandas as pd\n",
    "test_list = [{'Nikhil' : 17, 'Akash' : 18, 'Akshat' : 20},\n",
    "             {'Nikhil' : 21, 'Akash' : 30, 'Akshat' : 10},\n",
    "             {'Nikhil' : 31, 'Akash' : 12, 'Akshat' : 19}]\n",
    "print(\"The original list is :\",test_list)\n",
    "df = pd.DataFrame(test_list)\n",
    "result = df.values.tolist()\n",
    "result.insert(0,list(df.columns))\n",
    "print(\"The converted list is:\",result)"
   ]
  },
  {
   "cell_type": "markdown",
   "id": "e44a2f17",
   "metadata": {},
   "source": [
    "###  Convert key-values list to flat dictionary"
   ]
  },
  {
   "cell_type": "code",
   "execution_count": 87,
   "id": "e3312c89",
   "metadata": {},
   "outputs": [
    {
     "name": "stdout",
     "output_type": "stream",
     "text": [
      "The oringinal dictionary: {'month': [1, 2, 3], 'name': ['Jan', 'Feb', 'March']}\n",
      "Flattened Dictionary: {1: 'Jan', 2: 'Feb', 3: 'March'}\n"
     ]
    }
   ],
   "source": [
    "from itertools import product\n",
    "test_dict = {'month' : [1, 2, 3],\n",
    "             'name' : ['Jan', 'Feb', 'March']}\n",
    "print(\"The oringinal dictionary:\",test_dict)\n",
    "result = dict(zip(test_dict[\"month\"],test_dict[\"name\"]))\n",
    "print(\"Flattened Dictionary:\",result)"
   ]
  },
  {
   "cell_type": "code",
   "execution_count": 93,
   "id": "504a252f",
   "metadata": {},
   "outputs": [
    {
     "name": "stdout",
     "output_type": "stream",
     "text": [
      "The oringinal dictionary: {'month': [1, 2, 3], 'name': ['Jan', 'Feb', 'March']}\n",
      "Flattened Dictionary: {1: 'Jan', 2: 'Feb', 3: 'March'}\n"
     ]
    }
   ],
   "source": [
    "test_dict = {'month': [1, 2, 3], 'name': ['Jan', 'Feb', 'March']}\n",
    "print(\"The oringinal dictionary:\",test_dict)\n",
    "result = {test_dict[\"month\"][i]:test_dict[\"name\"][i] for i in range(len(test_dict[\"month\"]))}\n",
    "print(\"Flattened Dictionary:\",result)"
   ]
  },
  {
   "cell_type": "markdown",
   "id": "9e1f8ca2",
   "metadata": {},
   "source": [
    "### Convert a list of Tuples into Dictionary"
   ]
  },
  {
   "cell_type": "code",
   "execution_count": 98,
   "id": "ab09fad0",
   "metadata": {},
   "outputs": [
    {
     "name": "stdout",
     "output_type": "stream",
     "text": [
      "akash 10\n",
      "gaurav 12\n",
      "anand 14\n",
      "suraj 20\n",
      "akhil 25\n",
      "ashish 30\n",
      "{'akash': [10], 'gaurav': [12], 'anand': [14], 'suraj': [20], 'akhil': [25], 'ashish': [30]}\n"
     ]
    }
   ],
   "source": [
    "def convert(tup,di):\n",
    "    for a,b in tup:\n",
    "        print(a,b)\n",
    "        di.setdefault(a,[]).append(b)\n",
    "    return di\n",
    "tups = [(\"akash\", 10), (\"gaurav\", 12), (\"anand\", 14),\n",
    "        (\"suraj\", 20), (\"akhil\", 25), (\"ashish\", 30)]\n",
    "dictionary = {}\n",
    "print(convert(tups, dictionary))"
   ]
  },
  {
   "cell_type": "code",
   "execution_count": 99,
   "id": "93d88fd6",
   "metadata": {},
   "outputs": [
    {
     "name": "stdout",
     "output_type": "stream",
     "text": [
      "akash 10\n",
      "gaurav 12\n",
      "anand 14\n",
      "suraj 20\n",
      "akhil 25\n",
      "ashish 30\n",
      "{'akash': [10], 'gaurav': [12], 'anand': [14], 'suraj': [20], 'akhil': [25], 'ashish': [30]}\n"
     ]
    }
   ],
   "source": [
    "def convert(tup,di):\n",
    "    for a,b in tup:\n",
    "        print(a,b)\n",
    "        di.setdefault(a,[b])\n",
    "    return di\n",
    "tups = [(\"akash\", 10), (\"gaurav\", 12), (\"anand\", 14),\n",
    "        (\"suraj\", 20), (\"akhil\", 25), (\"ashish\", 30)]\n",
    "dictionary = {}\n",
    "print(convert(tups, dictionary))"
   ]
  },
  {
   "cell_type": "code",
   "execution_count": 100,
   "id": "d2587f79",
   "metadata": {},
   "outputs": [
    {
     "name": "stdout",
     "output_type": "stream",
     "text": [
      "{'Nakul': [93], 'Shivansh': [45], 'Samved': [65], 'Yash': [88], 'Vidit': [70], 'Pradeep': [52]}\n"
     ]
    }
   ],
   "source": [
    "list_1 = [(\"Nakul\", 93), (\"Shivansh\", 45), (\"Samved\", 65),\n",
    "          (\"Yash\", 88), (\"Vidit\", 70), (\"Pradeep\", 52)]\n",
    "dict1 = dict()\n",
    "for stu,score in list_1:\n",
    "    dict1.setdefault(stu,[score])\n",
    "print(dict1)"
   ]
  },
  {
   "cell_type": "code",
   "execution_count": 101,
   "id": "96422903",
   "metadata": {},
   "outputs": [
    {
     "name": "stdout",
     "output_type": "stream",
     "text": [
      "{'Nakul': [93], 'Shivansh': [45], 'Samved': [65], 'Yash': [88], 'Vidit': [70], 'Pradeep': [52]}\n"
     ]
    }
   ],
   "source": [
    "list_1 = [(\"Nakul\", 93), (\"Shivansh\", 45), (\"Samved\", 65),\n",
    "          (\"Yash\", 88), (\"Vidit\", 70), (\"Pradeep\", 52)]\n",
    "dict1 = dict()\n",
    "for stu,score in list_1:\n",
    "    dict1.setdefault(stu,[]).append(score)\n",
    "print(dict1)"
   ]
  },
  {
   "cell_type": "code",
   "execution_count": 103,
   "id": "01ac66a3",
   "metadata": {},
   "outputs": [
    {
     "name": "stdout",
     "output_type": "stream",
     "text": [
      "{'akash': 10, 'gaurav': 12, 'anand': 14, 'suraj': 20, 'akhil': 25, 'ashish': 30}\n"
     ]
    }
   ],
   "source": [
    "def convert(tup,di):\n",
    "    di = dict(tup)\n",
    "    return di\n",
    "tups = [(\"akash\", 10), (\"gaurav\", 12), (\"anand\", 14), \n",
    "    (\"suraj\", 20), (\"akhil\", 25), (\"ashish\", 30)]\n",
    "dictionary = {}\n",
    "print (convert(tups, dictionary))"
   ]
  },
  {
   "cell_type": "code",
   "execution_count": 104,
   "id": "8e812db2",
   "metadata": {},
   "outputs": [
    {
     "name": "stdout",
     "output_type": "stream",
     "text": [
      "{'akash': 10, 'gaurav': 12, 'anand': 14, 'suraj': 20, 'akhil': 25, 'ashish': 30}\n"
     ]
    }
   ],
   "source": [
    "tups = [(\"akash\", 10), (\"gaurav\", 12), (\"anand\", 14), \n",
    "    (\"suraj\", 20), (\"akhil\", 25), (\"ashish\", 30)]\n",
    "print(dict(tups))"
   ]
  },
  {
   "cell_type": "markdown",
   "id": "ae53f942",
   "metadata": {},
   "source": [
    "### Convert Nested dictionary to Mapped Tuple"
   ]
  },
  {
   "cell_type": "code",
   "execution_count": 110,
   "id": "bce4bb6c",
   "metadata": {},
   "outputs": [
    {
     "name": "stdout",
     "output_type": "stream",
     "text": [
      "The original dictionary is : {'gfg': {'x': 5, 'y': 6}, 'is': {'x': 1, 'y': 4}, 'best': {'x': 8, 'y': 3}}\n",
      "The group dictionary: [('gfg', {'x': 5, 'y': 6}), ('is', {'x': 1, 'y': 4}), ('best', {'x': 8, 'y': 3})]\n"
     ]
    }
   ],
   "source": [
    "test_dict = {'gfg' : {'x' : 5, 'y' : 6}, 'is' : {'x' : 1, 'y' : 4},\n",
    "                                      'best' : {'x' : 8, 'y' : 3}}\n",
    "print(\"The original dictionary is : \" + str(test_dict))\n",
    "result = [(key,val) for key,val in test_dict.items()]\n",
    "print(\"The group dictionary:\",result)"
   ]
  },
  {
   "cell_type": "markdown",
   "id": "df717fcb",
   "metadata": {},
   "source": [
    "### Ways to convert string to dictionary"
   ]
  },
  {
   "cell_type": "code",
   "execution_count": 112,
   "id": "65121c90",
   "metadata": {},
   "outputs": [
    {
     "name": "stdout",
     "output_type": "stream",
     "text": [
      "{'Jan ': ' January', 'Feb ': ' February', 'Mar ': ' March'}\n"
     ]
    }
   ],
   "source": [
    "str = \" Jan = January; Feb = February; Mar = March\"\n",
    "dictionary = dict(substring.strip().split(\"=\") for substring in str.split(\";\"))\n",
    "print(dictionary)"
   ]
  },
  {
   "cell_type": "code",
   "execution_count": 114,
   "id": "2532fe21",
   "metadata": {},
   "outputs": [
    {
     "name": "stdout",
     "output_type": "stream",
     "text": [
      "{'Jan': 'January ', 'Feb': ' February ', 'March': ' March'}\n"
     ]
    }
   ],
   "source": [
    "str1 = \"Jan, Feb, March\"\n",
    "str2 = \"January | February | March\"\n",
    "keys = str1.split(\", \")\n",
    "values = str2.split(\"|\")\n",
    "dictionary = {}\n",
    "for i in range(len(keys)):\n",
    "    dictionary[keys[i]]=values[i]\n",
    "    \n",
    "print(dictionary)"
   ]
  },
  {
   "cell_type": "code",
   "execution_count": 115,
   "id": "3c72629f",
   "metadata": {},
   "outputs": [
    {
     "name": "stdout",
     "output_type": "stream",
     "text": [
      "{'Jan': 'January ', 'Feb': ' February ', 'March': ' March'}\n"
     ]
    }
   ],
   "source": [
    "str1 = \"Jan, Feb, March\"\n",
    "str2 = \"January | February | March\"\n",
    "keys = str1.split(\", \")\n",
    "values = str2.split(\"|\")\n",
    "#dictionary = {}\n",
    "dictionary = dict(zip(keys,values))\n",
    "    \n",
    "print(dictionary)"
   ]
  },
  {
   "cell_type": "code",
   "execution_count": 116,
   "id": "06de5874",
   "metadata": {},
   "outputs": [
    {
     "name": "stdout",
     "output_type": "stream",
     "text": [
      "{'Jan': 'January', 'Feb': 'February', 'Mar': 'March'}\n"
     ]
    }
   ],
   "source": [
    "import ast\n",
    "str = '{\"Jan\" : \"January\", \"Feb\" : \"February\", \"Mar\" : \"March\"}'\n",
    "dictionary = ast.literal_eval(str)\n",
    "print(dictionary)"
   ]
  },
  {
   "cell_type": "markdown",
   "id": "a847f56f",
   "metadata": {},
   "source": [
    "###  Convert dictionary to K sized dictionaries"
   ]
  },
  {
   "cell_type": "code",
   "execution_count": 122,
   "id": "e50a3ecf",
   "metadata": {},
   "outputs": [
    {
     "name": "stdout",
     "output_type": "stream",
     "text": [
      "The original dictionary is :  {'Gfg': 1, 'is': 2, 'best': 3, 'for': 4, 'geeks': 5, 'CS': 6}\n",
      "[{'Gfg': 1, 'is': 2}, {'best': 3, 'for': 4}, {'geeks': 5, 'CS': 6}]\n"
     ]
    }
   ],
   "source": [
    "test_dict = {'Gfg' : 1, 'is' : 2, 'best' : 3, 'for' : 4, 'geeks' : 5, 'CS' : 6}\n",
    "print(\"The original dictionary is : \",test_dict)\n",
    "K = 2\n",
    "result = [{key:val for key,val in list(test_dict.items())[i:i+K]} for i in range(0,len(test_dict),K)]\n",
    "print(result)"
   ]
  },
  {
   "cell_type": "code",
   "execution_count": 123,
   "id": "2235a922",
   "metadata": {},
   "outputs": [
    {
     "name": "stdout",
     "output_type": "stream",
     "text": [
      "The original dictionary is :  {'Gfg': 1, 'is': 2, 'best': 3, 'for': 4, 'geeks': 5, 'CS': 6}\n",
      "[{'Gfg': 1, 'is': 2}, {'best': 3, 'for': 4}, {'geeks': 5, 'CS': 6}]\n"
     ]
    }
   ],
   "source": [
    "test_dict = {'Gfg' : 1, 'is' : 2, 'best' : 3, 'for' : 4, 'geeks' : 5, 'CS' : 6}\n",
    "print(\"The original dictionary is : \",test_dict)\n",
    "K = 2\n",
    "result = [dict(list(test_dict.items())[i:i+K]) for i in range(0,len(test_dict),K)]\n",
    "print(result)"
   ]
  },
  {
   "cell_type": "markdown",
   "id": "2df11be0",
   "metadata": {},
   "source": [
    "### Convert Matrix to dictionary"
   ]
  },
  {
   "cell_type": "code",
   "execution_count": 126,
   "id": "88eb6de3",
   "metadata": {},
   "outputs": [
    {
     "name": "stdout",
     "output_type": "stream",
     "text": [
      "The original list is :  [[5, 6, 7], [8, 3, 2], [8, 2, 1]]\n",
      "{1: [5, 6, 7], 2: [8, 3, 2], 3: [8, 2, 1]}\n"
     ]
    }
   ],
   "source": [
    "test_list = [[5, 6, 7], [8, 3, 2], [8, 2, 1]] \n",
    "print(\"The original list is : \",test_list)\n",
    "result = {i+1:val for i,val in enumerate(test_list)}\n",
    "print(result)"
   ]
  },
  {
   "cell_type": "code",
   "execution_count": 127,
   "id": "709e29e5",
   "metadata": {},
   "outputs": [
    {
     "name": "stdout",
     "output_type": "stream",
     "text": [
      "The original list is :  [[5, 6, 7], [8, 3, 2], [8, 2, 1]]\n",
      "{1: [5, 6, 7], 2: [8, 3, 2], 3: [8, 2, 1]}\n"
     ]
    }
   ],
   "source": [
    "test_list = [[5, 6, 7], [8, 3, 2], [8, 2, 1]] \n",
    "print(\"The original list is : \",test_list)\n",
    "result = {idx+1:test_list[idx] for idx in range(len(test_list))}\n",
    "print(result)"
   ]
  },
  {
   "cell_type": "code",
   "execution_count": 128,
   "id": "4e6335d8",
   "metadata": {},
   "outputs": [
    {
     "name": "stdout",
     "output_type": "stream",
     "text": [
      "The original list is :  [[5, 6, 7], [8, 3, 2], [8, 2, 1]]\n",
      "{1: [5, 6, 7], 2: [8, 3, 2], 3: [8, 2, 1]}\n"
     ]
    }
   ],
   "source": [
    "test_list = [[5, 6, 7], [8, 3, 2], [8, 2, 1]] \n",
    "print(\"The original list is : \",test_list)\n",
    "result = {i:val for i,val in enumerate(test_list,start=1)}\n",
    "print(result)"
   ]
  },
  {
   "cell_type": "markdown",
   "id": "f9079379",
   "metadata": {},
   "source": [
    "### Advance Dictionary Programs\n",
    "### Create Nested Dictionary using given List"
   ]
  },
  {
   "cell_type": "code",
   "execution_count": 134,
   "id": "781ac964",
   "metadata": {},
   "outputs": [
    {
     "name": "stdout",
     "output_type": "stream",
     "text": [
      "The original dictionary is :  {'Gfg': 4, 'is': 5, 'best': 9}\n",
      "The original list is :  [8, 3, 2]\n",
      "8 ('Gfg', 4)\n",
      "3 ('is', 5)\n",
      "2 ('best', 9)\n",
      "The mapped dictionary is: {8: {'Gfg': 4}, 3: {'is': 5}, 2: {'best': 9}}\n"
     ]
    }
   ],
   "source": [
    "test_dict = {'Gfg' : 4, 'is' : 5, 'best' : 9} \n",
    "test_list = [8, 3, 2]\n",
    "print(\"The original dictionary is : \" ,test_dict)\n",
    "print(\"The original list is : \" ,test_list)\n",
    "result = {}\n",
    "for key,ele in zip(test_list,test_dict.items()):\n",
    "    print(key,ele)\n",
    "    result[key] = dict([ele])\n",
    "    \n",
    "print(\"The mapped dictionary is:\",result)"
   ]
  },
  {
   "cell_type": "code",
   "execution_count": 138,
   "id": "2e0b02bb",
   "metadata": {},
   "outputs": [
    {
     "name": "stdout",
     "output_type": "stream",
     "text": [
      "The original dictionary is :  {'Gfg': 4, 'is': 5, 'best': 9}\n",
      "The original list is :  [8, 3, 2]\n",
      "The mapped dictionary is: {8: {'Gfg': 4}, 3: {'is': 5}, 2: {'best': 9}}\n"
     ]
    }
   ],
   "source": [
    "test_dict = {'Gfg' : 4, 'is' : 5, 'best' : 9} \n",
    "test_list = [8, 3, 2]\n",
    "print(\"The original dictionary is : \" ,test_dict)\n",
    "print(\"The original list is : \" ,test_list)\n",
    "result = {key:{val:test_dict[val]} for key,val in zip(test_list,test_dict)}\n",
    "print(\"The mapped dictionary is:\",result)"
   ]
  },
  {
   "cell_type": "markdown",
   "id": "473fdae7",
   "metadata": {},
   "source": [
    "### Swapping Hierarchy in Nested Dictionaries"
   ]
  },
  {
   "cell_type": "code",
   "execution_count": 10,
   "id": "94b20c2b",
   "metadata": {},
   "outputs": [
    {
     "name": "stdout",
     "output_type": "stream",
     "text": [
      "Original Dict: {'Gfg': {'a': [1, 3], 'b': [3, 6], 'c': [6, 7, 8]}, 'Best': {'a': [7, 9], 'b': [5, 3, 2], 'd': [0, 1, 0]}}\n",
      "\r\n",
      "The rearranged dictionary is: {'a': {'Gfg': [1, 3], 'Best': [7, 9]}, 'b': {'Gfg': [3, 6], 'Best': [5, 3, 2]}, 'c': {'Gfg': [6, 7, 8]}, 'd': {'Best': [0, 1, 0]}}\n"
     ]
    }
   ],
   "source": [
    "test_dict = {'Gfg': { 'a' : [1, 3], 'b' : [3, 6], 'c' : [6, 7, 8]},\n",
    "             'Best': { 'a' : [7, 9], 'b' : [5, 3, 2], 'd' : [0, 1, 0]}}\n",
    "print(\"Original Dict:\",test_dict)\n",
    "print(\"\\r\")\n",
    "res = dict()\n",
    "for key, val in test_dict.items():\n",
    "    for key_in, val_in in val.items():\n",
    "        if key_in not in res:\n",
    "            temp = dict()\n",
    "        else:\n",
    "            temp = res[key_in]\n",
    "        temp[key] = val_in\n",
    "        res[key_in] = temp\n",
    "            \n",
    "print(\"The rearranged dictionary is:\",res)"
   ]
  },
  {
   "cell_type": "code",
   "execution_count": 11,
   "id": "9bc241d3",
   "metadata": {},
   "outputs": [
    {
     "name": "stdout",
     "output_type": "stream",
     "text": [
      "Original Dict: {'Gfg': {'a': [1, 3], 'b': [3, 6], 'c': [6, 7, 8]}, 'Best': {'a': [7, 9], 'b': [5, 3, 2], 'd': [0, 1, 0]}}\n",
      "\r\n",
      "The rearranged dictionary is: defaultdict(<class 'dict'>, {'a': {'Gfg': [1, 3], 'Best': [7, 9]}, 'b': {'Gfg': [3, 6], 'Best': [5, 3, 2]}, 'c': {'Gfg': [6, 7, 8]}, 'd': {'Best': [0, 1, 0]}})\n"
     ]
    }
   ],
   "source": [
    "from collections import defaultdict\n",
    "test_dict = {'Gfg': { 'a' : [1, 3], 'b' : [3, 6], 'c' : [6, 7, 8]},\n",
    "             'Best': { 'a' : [7, 9], 'b' : [5, 3, 2], 'd' : [0, 1, 0]}}\n",
    "print(\"Original Dict:\",test_dict)\n",
    "print(\"\\r\")\n",
    "result = defaultdict(dict)\n",
    "for key,val in test_dict.items():\n",
    "    for key_in,val_in in val.items():\n",
    "        result[key_in][key]=val_in\n",
    "\n",
    "print(\"The rearranged dictionary is:\",result)"
   ]
  },
  {
   "cell_type": "code",
   "execution_count": 15,
   "id": "eb82f486",
   "metadata": {},
   "outputs": [
    {
     "name": "stdout",
     "output_type": "stream",
     "text": [
      "{'a': {'Gfg': [1, 3, 7, 8]}, 'b': {'Gfg': [4, 9]}, 'c': {'Gfg': [0, 7]}}\n",
      "\r\n",
      "{'best': {'Gfg': [1, 3, 4]}}\n"
     ]
    }
   ],
   "source": [
    "def swap_hierarchy(test_dict):\n",
    "    new_dict = {key2:{key1:test_dict[key1][key2] for key1 in test_dict} for key2 in test_dict[next(iter(test_dict))]}\n",
    "    return new_dict\n",
    "test_dict1 = {'Gfg': {'a': [1, 3, 7, 8], 'b': [4, 9], 'c': [0, 7]}}\n",
    "output1 = swap_hierarchy(test_dict1)\n",
    "print(output1)\n",
    "\n",
    "print(\"\\r\")\n",
    "\n",
    "test_dict2 = {'Gfg': {'best': [1, 3, 4]}}\n",
    "output2 = swap_hierarchy(test_dict2)\n",
    "print(output2)"
   ]
  },
  {
   "cell_type": "markdown",
   "id": "6bcaec0a",
   "metadata": {},
   "source": [
    "### Inversion in nested dictionary"
   ]
  },
  {
   "cell_type": "code",
   "execution_count": 17,
   "id": "4dcb9438",
   "metadata": {},
   "outputs": [
    {
     "name": "stdout",
     "output_type": "stream",
     "text": [
      "The original dictionary is : {'a': {'b': {'c': {}}}, 'd': {'e': {}}, 'f': {'g': {'h': {}}}}\n",
      "The inverted dictionary : {'c': {'b': {'a': {}}}, 'e': {'d': {}}, 'h': {'g': {'f': {}}}}\n"
     ]
    }
   ],
   "source": [
    "def extract_path(test_dict,path_way):\n",
    "    if not test_dict:\n",
    "        return [path_way]\n",
    "    temp = []\n",
    "    for key in test_dict:\n",
    "        temp.extend(extract_path(test_dict[key],path_way + [key]))\n",
    "    return temp\n",
    "\n",
    "def hlper_fnc(test_dict):\n",
    "    all_paths = extract_path(test_dict,[])\n",
    "    result = {}\n",
    "    for path in all_paths:\n",
    "        front = result\n",
    "        for ele in path[::-1]:\n",
    "            if ele not in front:\n",
    "                front[ele] = {}\n",
    "            front = front[ele]\n",
    "    return result\n",
    "test_dict = {\"a\" : {\"b\" : {\"c\" : {}}},\n",
    "             \"d\" : {\"e\" : {}},\n",
    "             \"f\" : {\"g\" : {\"h\" : {}}}}\n",
    "print(\"The original dictionary is : \" + str(test_dict))\n",
    "res = hlper_fnc(test_dict)\n",
    "print(\"The inverted dictionary : \" + str(res)) \n"
   ]
  },
  {
   "cell_type": "code",
   "execution_count": 24,
   "id": "8e0c8cc8",
   "metadata": {},
   "outputs": [
    {
     "name": "stdout",
     "output_type": "stream",
     "text": [
      "Original dict: {'a': {'b': {}}, 'd': {'e': {}}, 'f': {'g': {}}}\n",
      "Invert the nested dictionary using a stack: [({'a': {'b': {}}, 'd': {'e': {}}, 'f': {'g': {}}}, None)]\n",
      "{'g': {'f': {}}, 'e': {'d': {}}, 'b': {'a': {}}}\n"
     ]
    }
   ],
   "source": [
    "test_dict = {\"a\": {\"b\": {}}, \"d\": {\"e\": {}}, \"f\": {\"g\": {}}}\n",
    "print(\"Original dict:\",test_dict)\n",
    "stack = [(test_dict,None)]\n",
    "print(\"Invert the nested dictionary using a stack:\",stack)\n",
    "inverted_dict = {}\n",
    "while stack:\n",
    "    d,parent_key = stack.pop()\n",
    "    for key,val in d.items():\n",
    "        if parent_key is not None:\n",
    "            inverted_dict.setdefault(key,{}).update({parent_key:{}})\n",
    "        if isinstance(val,dict):\n",
    "            stack.append((val,key))\n",
    "print(inverted_dict)"
   ]
  },
  {
   "cell_type": "markdown",
   "id": "0e9e82c8",
   "metadata": {},
   "source": [
    "### Reverse Dictionary Keys Order"
   ]
  },
  {
   "cell_type": "code",
   "execution_count": 25,
   "id": "1316c87b",
   "metadata": {},
   "outputs": [
    {
     "name": "stdout",
     "output_type": "stream",
     "text": [
      "Original dict: {'gfg': 4, 'is': 2, 'best': 5}\n",
      "The reversed order dictionary: OrderedDict([('best', 5), ('is', 2), ('gfg', 4)])\n"
     ]
    }
   ],
   "source": [
    "from collections import OrderedDict\n",
    "test_dict = {'gfg' : 4, 'is' : 2, 'best' : 5}\n",
    "print(\"Original dict:\",test_dict)\n",
    "result = OrderedDict(reversed(list(test_dict.items())))\n",
    "print(\"The reversed order dictionary:\",result)"
   ]
  },
  {
   "cell_type": "code",
   "execution_count": 26,
   "id": "b2422705",
   "metadata": {},
   "outputs": [
    {
     "name": "stdout",
     "output_type": "stream",
     "text": [
      "Original dict: {'gfg': 4, 'is': 2, 'best': 5}\n",
      "The reversed order dictionary: {'best': 5, 'is': 2, 'gfg': 4}\n"
     ]
    }
   ],
   "source": [
    "test_dict = {'gfg' : 4, 'is' : 2, 'best' : 5}\n",
    "print(\"Original dict:\",test_dict)\n",
    "result = dict(reversed(list(test_dict.items())))\n",
    "print(\"The reversed order dictionary:\",result)"
   ]
  },
  {
   "cell_type": "code",
   "execution_count": 31,
   "id": "a55b5b9f",
   "metadata": {},
   "outputs": [
    {
     "name": "stdout",
     "output_type": "stream",
     "text": [
      "Original dict: {'gfg': 4, 'is': 2, 'best': 5}\n",
      "The reversed order dictionary: {'best': 5, 'is': 2, 'gfg': 4}\n"
     ]
    }
   ],
   "source": [
    "test_dict = {'gfg' : 4, 'is' : 2, 'best' : 5}\n",
    "print(\"Original dict:\",test_dict)\n",
    "reversed_dict = {}\n",
    "while test_dict:\n",
    "    key,val = test_dict.popitem()\n",
    "    reversed_dict[key] = val\n",
    "    \n",
    "print(\"The reversed order dictionary:\",reversed_dict)"
   ]
  },
  {
   "cell_type": "code",
   "execution_count": 32,
   "id": "e16e49f6",
   "metadata": {},
   "outputs": [
    {
     "name": "stdout",
     "output_type": "stream",
     "text": [
      "Original dict: {'gfg': 4, 'is': 2, 'best': 5}\n",
      "The reversed order dictionary: {'best': 5, 'is': 2, 'gfg': 4}\n"
     ]
    }
   ],
   "source": [
    "test_dict = {'gfg' : 4, 'is' : 2, 'best' : 5}\n",
    "print(\"Original dict:\",test_dict)\n",
    "result = {k:test_dict[k] for k in sorted(test_dict,key=lambda x:list(test_dict.keys()).index(x),reverse = True)}\n",
    "print(\"The reversed order dictionary:\",result)"
   ]
  },
  {
   "cell_type": "markdown",
   "id": "fa990657",
   "metadata": {},
   "source": [
    "###  Extract Key’s Value, if Key Present in List and Dictionary"
   ]
  },
  {
   "cell_type": "code",
   "execution_count": 34,
   "id": "a877be29",
   "metadata": {},
   "outputs": [
    {
     "name": "stdout",
     "output_type": "stream",
     "text": [
      "Original list: ['Gfg', 'is', 'Good', 'for', 'Geeks']\n",
      "Original dict: {'Gfg': 2, 'is': 4, 'Best': 6}\n",
      "Extracted Value: 2\n"
     ]
    }
   ],
   "source": [
    "test_list = [\"Gfg\", \"is\", \"Good\", \"for\", \"Geeks\"]\n",
    "print(\"Original list:\",test_list)\n",
    "test_dict = {\"Gfg\" : 2, \"is\" : 4, \"Best\" : 6}\n",
    "print(\"Original dict:\",test_dict)\n",
    "K = \"Gfg\"\n",
    "result = None\n",
    "if all(K in sub for sub in [test_dict,test_list]):\n",
    "    result = test_dict[K]\n",
    "print(\"Extracted Value:\",result)"
   ]
  },
  {
   "cell_type": "code",
   "execution_count": 35,
   "id": "cc973acd",
   "metadata": {},
   "outputs": [
    {
     "name": "stdout",
     "output_type": "stream",
     "text": [
      "Original list: ['Gfg', 'is', 'Good', 'for', 'Geeks']\n",
      "Original dict: {'Gfg': 2, 'is': 4, 'Best': 6}\n",
      "Extracted Value: 2\n"
     ]
    }
   ],
   "source": [
    "test_list = [\"Gfg\", \"is\", \"Good\", \"for\", \"Geeks\"]\n",
    "print(\"Original list:\",test_list)\n",
    "test_dict = {\"Gfg\" : 2, \"is\" : 4, \"Best\" : 6}\n",
    "print(\"Original dict:\",test_dict)\n",
    "K = \"Gfg\"\n",
    "result = None\n",
    "if K in set(test_list).intersection(test_dict):\n",
    "    result = test_dict[K]\n",
    "print(\"Extracted Value:\",result)"
   ]
  },
  {
   "cell_type": "code",
   "execution_count": 36,
   "id": "852e34b2",
   "metadata": {},
   "outputs": [
    {
     "name": "stdout",
     "output_type": "stream",
     "text": [
      "Original list: ['Gfg', 'is', 'Good', 'for', 'Geeks']\n",
      "Original dict: {'Gfg': 2, 'is': 4, 'Best': 6}\n",
      "Extracted Value: 2\n"
     ]
    }
   ],
   "source": [
    "test_list = [\"Gfg\", \"is\", \"Good\", \"for\", \"Geeks\"]\n",
    "print(\"Original list:\",test_list)\n",
    "test_dict = {\"Gfg\" : 2, \"is\" : 4, \"Best\" : 6}\n",
    "print(\"Original dict:\",test_dict)\n",
    "K = \"Gfg\"\n",
    "if K in test_list and K in test_dict.keys():\n",
    "    result = test_dict[K]\n",
    "print(\"Extracted Value:\",result)    "
   ]
  },
  {
   "cell_type": "code",
   "execution_count": 38,
   "id": "7c70dde8",
   "metadata": {},
   "outputs": [
    {
     "name": "stdout",
     "output_type": "stream",
     "text": [
      "Original list: ['Gfg', 'is', 'Good', 'for', 'Geeks']\n",
      "Original dict: {'Gfg': 2, 'is': 4, 'Best': 6}\n",
      "Extracted Value: 2\n"
     ]
    }
   ],
   "source": [
    "test_list = [\"Gfg\", \"is\", \"Good\", \"for\", \"Geeks\"]\n",
    "print(\"Original list:\",test_list)\n",
    "test_dict = {\"Gfg\" : 2, \"is\" : 4, \"Best\" : 6}\n",
    "print(\"Original dict:\",test_dict)\n",
    "K = \"Gfg\"\n",
    "if K in test_list and K in test_dict:\n",
    "    result = test_dict.get(K)\n",
    "print(\"Extracted Value:\",result)    "
   ]
  },
  {
   "cell_type": "code",
   "execution_count": 39,
   "id": "48ca0cd0",
   "metadata": {},
   "outputs": [
    {
     "name": "stdout",
     "output_type": "stream",
     "text": [
      "Original list: ['Gfg', 'is', 'Good', 'for', 'Geeks']\n",
      "Original dict: {'Gfg': 2, 'is': 4, 'Best': 6}\n",
      "Extracted Value: 2\n"
     ]
    }
   ],
   "source": [
    "test_list = [\"Gfg\", \"is\", \"Good\", \"for\", \"Geeks\"]\n",
    "print(\"Original list:\",test_list)\n",
    "test_dict = {\"Gfg\" : 2, \"is\" : 4, \"Best\" : 6}\n",
    "print(\"Original dict:\",test_dict)\n",
    "K = \"Gfg\"\n",
    "try:\n",
    "    if K in test_list and K in test_dict.keys():\n",
    "        result = test_dict.get(K)\n",
    "    else:\n",
    "        result = None\n",
    "except KeyError:\n",
    "    result = None\n",
    "    \n",
    "print(\"Extracted Value:\",result)    "
   ]
  },
  {
   "cell_type": "markdown",
   "id": "a9238419",
   "metadata": {},
   "source": [
    "### Remove keys with Values Greater than K ( Including mixed values )"
   ]
  },
  {
   "cell_type": "code",
   "execution_count": 42,
   "id": "3f242eec",
   "metadata": {},
   "outputs": [
    {
     "name": "stdout",
     "output_type": "stream",
     "text": [
      "Original dict: {'Gfg': 3, 'is': 7, 'best': 10, 'for': 6, 'geeks': 'CS'}\n",
      "The Constructed dictionary: {'Gfg': 3, 'for': 6, 'geeks': 'CS'}\n"
     ]
    }
   ],
   "source": [
    "test_dict = {'Gfg' : 3, 'is' : 7, 'best' : 10, 'for' : 6, 'geeks' : 'CS'} \n",
    "print(\"Original dict:\",test_dict)\n",
    "K = 6\n",
    "result = dict()\n",
    "for key in test_dict:\n",
    "    if not (isinstance(test_dict[key],int) and test_dict[key] > K):\n",
    "        result[key] = test_dict[key]\n",
    "print(\"The Constructed dictionary:\",result)"
   ]
  },
  {
   "cell_type": "code",
   "execution_count": 49,
   "id": "ddabdc0c",
   "metadata": {},
   "outputs": [
    {
     "name": "stdout",
     "output_type": "stream",
     "text": [
      "Original dict: {'Gfg': 3, 'is': 7, 'best': 10, 'for': 6, 'geeks': 'CS'}\n",
      "The Constructed dictionary: {'Gfg': 3, 'for': 6, 'geeks': 'CS'}\n"
     ]
    }
   ],
   "source": [
    "test_dict = {'Gfg' : 3, 'is' : 7, 'best' : 10, 'for' : 6, 'geeks' : 'CS'} \n",
    "print(\"Original dict:\",test_dict)\n",
    "K = 6\n",
    "result = {key:val for key,val in test_dict.items() if not (isinstance(val,int) and (val>K))}\n",
    "print(\"The Constructed dictionary:\",result)"
   ]
  },
  {
   "cell_type": "code",
   "execution_count": 54,
   "id": "1f9c1618",
   "metadata": {},
   "outputs": [
    {
     "name": "stdout",
     "output_type": "stream",
     "text": [
      "Original dict: {'Gfg': 3, 'is': 7, 'best': 10, 'for': 6, 'geeks': 'CS'}\n",
      "The Constructed dictionary: {'Gfg': 3, 'for': 6, 'geeks': 'CS'}\n"
     ]
    }
   ],
   "source": [
    "test_dict = {'Gfg' : 3, 'is' : 7, 'best' : 10, 'for' : 6, 'geeks' : 'CS'} \n",
    "print(\"Original dict:\",test_dict)\n",
    "K = 6\n",
    "result = dict(filter(lambda item:not (isinstance(item[1],int) and item[1] > K),test_dict.items()))\n",
    "print(\"The Constructed dictionary:\",result)"
   ]
  },
  {
   "cell_type": "markdown",
   "id": "87de8d20",
   "metadata": {},
   "source": [
    "### Remove keys with substring values"
   ]
  },
  {
   "cell_type": "code",
   "execution_count": 58,
   "id": "aa80ddca",
   "metadata": {},
   "outputs": [
    {
     "name": "stdout",
     "output_type": "stream",
     "text": [
      "Original dict: {1: 'Gfg is best for geeks', 2: 'Gfg is good', 3: 'I love Gfg'}\n",
      "The Filtered Dictionary is : {1: 'Gfg is best for geeks'}\n"
     ]
    }
   ],
   "source": [
    "test_dict = {1 : 'Gfg is best for geeks', 2 : 'Gfg is good', 3 : 'I love Gfg'}\n",
    "print(\"Original dict:\",test_dict)\n",
    "sub_list = ['love', 'good']\n",
    "result = dict()\n",
    "for key,val in test_dict.items():\n",
    "    if not any(ele in val for ele in sub_list):\n",
    "        result[key] = val\n",
    "print(\"The Filtered Dictionary is :\",result)"
   ]
  },
  {
   "cell_type": "code",
   "execution_count": 59,
   "id": "88a2c8c7",
   "metadata": {},
   "outputs": [
    {
     "name": "stdout",
     "output_type": "stream",
     "text": [
      "Original dict: {1: 'Gfg is best for geeks', 2: 'Gfg is good', 3: 'I love Gfg'}\n",
      "The Filtered Dictionary is : {1: 'Gfg is best for geeks'}\n"
     ]
    }
   ],
   "source": [
    "test_dict = {1 : 'Gfg is best for geeks', 2 : 'Gfg is good', 3 : 'I love Gfg'}\n",
    "print(\"Original dict:\",test_dict)\n",
    "sub_list = ['love', 'good']\n",
    "result = {key:val for key,val in test_dict.items() if not any(ele in val for ele in sub_list)}\n",
    "print(\"The Filtered Dictionary is :\",result)"
   ]
  },
  {
   "cell_type": "code",
   "execution_count": 64,
   "id": "25e7c5e2",
   "metadata": {},
   "outputs": [
    {
     "name": "stdout",
     "output_type": "stream",
     "text": [
      "{}\n"
     ]
    }
   ],
   "source": [
    "test_dict = {1: 'Gfg is love', 2: 'Gfg is good'}\n",
    "sub_list = ['love', 'good']\n",
    "for key,val in list(test_dict.items()):\n",
    "    for sub in sub_list:\n",
    "        if sub in val:\n",
    "            test_dict.pop(key)\n",
    "print(test_dict)"
   ]
  },
  {
   "cell_type": "code",
   "execution_count": 67,
   "id": "486332e5",
   "metadata": {},
   "outputs": [
    {
     "name": "stdout",
     "output_type": "stream",
     "text": [
      "Original dict: {1: 'Gfg is best for geeks', 2: 'Gfg is good', 3: 'I love Gfg'}\n",
      "The Filtered dictionary is: {1: 'Gfg is best for geeks'}\n"
     ]
    }
   ],
   "source": [
    "test_dict = {1 : 'Gfg is best for geeks', 2 : 'Gfg is good', 3 : 'I love Gfg'}\n",
    "print(\"Original dict:\",test_dict)\n",
    "sub_list = ['love', 'good']\n",
    "condition = (lambda ele: not any(sub in ele[1] for sub in sub_list))\n",
    "result = dict(filter(condition,test_dict.items()))\n",
    "print(\"The Filtered dictionary is:\",result)"
   ]
  },
  {
   "cell_type": "markdown",
   "id": "d9ae8aed",
   "metadata": {},
   "source": [
    "### Dictionary with maximum count of pairs"
   ]
  },
  {
   "cell_type": "code",
   "execution_count": 72,
   "id": "d1d50f09",
   "metadata": {},
   "outputs": [
    {
     "name": "stdout",
     "output_type": "stream",
     "text": [
      "The original list is: [{'gfg': 2, 'best': 4}, {'gfg': 2, 'is': 3, 'best': 4}, {'gfg': 2}]\n",
      "\r\n",
      "{'gfg': 2, 'best': 4}\n",
      "{'gfg': 2, 'is': 3, 'best': 4}\n",
      "{'gfg': 2}\n",
      "3\n",
      "Maximum keys Dictionary: {'gfg': 2, 'is': 3, 'best': 4}\n"
     ]
    }
   ],
   "source": [
    "test_list = [{\"gfg\": 2, \"best\" : 4},  \n",
    "             {\"gfg\": 2, \"is\" : 3, \"best\" : 4},  \n",
    "             {\"gfg\": 2}] \n",
    "print(\"The original list is:\",test_list)\n",
    "print(\"\\r\")\n",
    "result = dict()\n",
    "max_len = 0\n",
    "for ele in test_list:\n",
    "    print(ele)\n",
    "    if len(ele) > max_len:\n",
    "        result = ele\n",
    "        max_len = len(ele)\n",
    "        \n",
    "print(max_len)\n",
    "print(\"Maximum keys Dictionary:\",result)"
   ]
  },
  {
   "cell_type": "code",
   "execution_count": 73,
   "id": "9b0659e7",
   "metadata": {},
   "outputs": [
    {
     "name": "stdout",
     "output_type": "stream",
     "text": [
      "The original list is: [{'gfg': 2, 'best': 4}, {'gfg': 2, 'is': 3, 'best': 4}, {'gfg': 2}]\n",
      "\r\n",
      "Maximum keys Dictionary: {'gfg': 2, 'is': 3, 'best': 4}\n"
     ]
    }
   ],
   "source": [
    "test_list = [{\"gfg\": 2, \"best\" : 4},  \n",
    "             {\"gfg\": 2, \"is\" : 3, \"best\" : 4},  \n",
    "             {\"gfg\": 2}] \n",
    "print(\"The original list is:\",test_list)\n",
    "print(\"\\r\")\n",
    "result = max(test_list,key=len)\n",
    "print(\"Maximum keys Dictionary:\",result)"
   ]
  },
  {
   "cell_type": "markdown",
   "id": "94371e88",
   "metadata": {},
   "source": [
    "### Append Dictionary Keys and Values ( In order ) in dictionary"
   ]
  },
  {
   "cell_type": "code",
   "execution_count": 74,
   "id": "829c41fa",
   "metadata": {},
   "outputs": [
    {
     "name": "stdout",
     "output_type": "stream",
     "text": [
      "The original Dictionary is: {'Gfg': 1, 'is': 3, 'Best': 2}\n",
      "The ordered key,values is: ['Gfg', 'is', 'Best', 1, 3, 2]\n"
     ]
    }
   ],
   "source": [
    "test_dict = {\"Gfg\" : 1, \"is\" :  3, \"Best\" : 2}\n",
    "print(\"The original Dictionary is:\",test_dict)\n",
    "result = list(test_dict.keys()) + list(test_dict.values())\n",
    "print(\"The ordered key,values is:\",result)\n"
   ]
  },
  {
   "cell_type": "code",
   "execution_count": 75,
   "id": "bcabe787",
   "metadata": {},
   "outputs": [
    {
     "name": "stdout",
     "output_type": "stream",
     "text": [
      "The original Dictionary is: {'Gfg': 1, 'is': 3, 'Best': 2}\n",
      "The ordered key,values is: ['Gfg', 'is', 'Best', 1, 3, 2]\n"
     ]
    }
   ],
   "source": [
    "from itertools import chain\n",
    "test_dict = {\"Gfg\" : 1, \"is\" :  3, \"Best\" : 2}\n",
    "print(\"The original Dictionary is:\",test_dict)\n",
    "result = list(chain(test_dict.keys(),test_dict.values()))\n",
    "print(\"The ordered key,values is:\",result)\n"
   ]
  },
  {
   "cell_type": "code",
   "execution_count": 76,
   "id": "838d7c18",
   "metadata": {},
   "outputs": [
    {
     "name": "stdout",
     "output_type": "stream",
     "text": [
      "The original Dictionary is: {'Gfg': 1, 'is': 3, 'Best': 2}\n",
      "The ordered key,values is: ['Gfg', 'is', 'Best', 1, 3, 2]\n"
     ]
    }
   ],
   "source": [
    "from itertools import chain\n",
    "test_dict = {\"Gfg\" : 1, \"is\" :  3, \"Best\" : 2}\n",
    "print(\"The original Dictionary is:\",test_dict)\n",
    "a=list(test_dict.keys())\n",
    "b=list(test_dict.values())\n",
    "a.extend(b)\n",
    "result = a\n",
    "print(\"The ordered key,values is:\",result)"
   ]
  },
  {
   "cell_type": "code",
   "execution_count": 77,
   "id": "483e48a2",
   "metadata": {},
   "outputs": [
    {
     "name": "stdout",
     "output_type": "stream",
     "text": [
      "The original Dictionary is: {'Gfg': 1, 'is': 3, 'Best': 2}\n",
      "The ordered key,values is: [(1, 'Gfg'), (3, 'is'), (2, 'Best')]\n"
     ]
    }
   ],
   "source": [
    "test_dict = {\"Gfg\" : 1, \"is\" :  3, \"Best\" : 2}\n",
    "print(\"The original Dictionary is:\",test_dict)\n",
    "result = [val for val in zip(test_dict.values(),test_dict.keys())]\n",
    "print(\"The ordered key,values is:\",result)"
   ]
  },
  {
   "cell_type": "code",
   "execution_count": 79,
   "id": "5d7d93d3",
   "metadata": {},
   "outputs": [
    {
     "name": "stdout",
     "output_type": "stream",
     "text": [
      "The original Dictionary is: {'Gfg': 1, 'is': 3, 'Best': 2}\n",
      "['Best', 'Gfg', 'is']\n",
      "The ordered key,values is: ['Best', 'Gfg', 'is', 2, 1, 3]\n"
     ]
    }
   ],
   "source": [
    "test_dict = {\"Gfg\" : 1, \"is\" :  3, \"Best\" : 2}\n",
    "print(\"The original Dictionary is:\",test_dict)\n",
    "keys = sorted(test_dict.keys())\n",
    "print(keys)\n",
    "values = [test_dict[key] for key in keys]\n",
    "result = keys + values\n",
    "print(\"The ordered key,values is:\",result)"
   ]
  },
  {
   "cell_type": "markdown",
   "id": "8393e26a",
   "metadata": {},
   "source": [
    "### Extract Unique values dictionary values"
   ]
  },
  {
   "cell_type": "code",
   "execution_count": 80,
   "id": "92095a5c",
   "metadata": {},
   "outputs": [
    {
     "name": "stdout",
     "output_type": "stream",
     "text": [
      "The original Dictionary is: {'gfg': [5, 6, 7, 8], 'is': [10, 11, 7, 5], 'best': [6, 12, 10, 8], 'for': [1, 2, 5]}\n",
      "The unique values list is :  [1, 2, 5, 6, 7, 8, 10, 11, 12]\n"
     ]
    }
   ],
   "source": [
    "test_dict = {'gfg': [5, 6, 7, 8],\n",
    "             'is': [10, 11, 7, 5],\n",
    "             'best': [6, 12, 10, 8],\n",
    "             'for': [1, 2, 5]}\n",
    "print(\"The original Dictionary is:\",test_dict)\n",
    "\n",
    "result = list(sorted({ele for val in test_dict.values() for ele in val}))\n",
    "print(\"The unique values list is : \",result)\n"
   ]
  },
  {
   "cell_type": "code",
   "execution_count": 81,
   "id": "20e1d4c7",
   "metadata": {},
   "outputs": [
    {
     "name": "stdout",
     "output_type": "stream",
     "text": [
      "The original Dictionary is: {'gfg': [5, 6, 7, 8], 'is': [10, 11, 7, 5], 'best': [6, 12, 10, 8], 'for': [1, 2, 5]}\n",
      "The unique values list is :  [1, 2, 5, 6, 7, 8, 10, 11, 12]\n"
     ]
    }
   ],
   "source": [
    "from itertools import chain\n",
    "test_dict = {'gfg': [5, 6, 7, 8],\n",
    "             'is': [10, 11, 7, 5],\n",
    "             'best': [6, 12, 10, 8],\n",
    "             'for': [1, 2, 5]}\n",
    "print(\"The original Dictionary is:\",test_dict)\n",
    "result = list(sorted(set(chain(*test_dict.values()))))\n",
    "print(\"The unique values list is : \",result)\n"
   ]
  },
  {
   "cell_type": "code",
   "execution_count": 92,
   "id": "b0ec15ab",
   "metadata": {},
   "outputs": [
    {
     "name": "stdout",
     "output_type": "stream",
     "text": [
      "The original Dictionary is: {'gfg': [5, 6, 7, 8], 'is': [10, 11, 7, 5], 'best': [6, 12, 10, 8], 'for': [1, 2, 5]}\n",
      "[[5, 6, 7, 8], [10, 11, 7, 5], [6, 12, 10, 8], [1, 2, 5]]\n",
      "[5, 6, 7, 8]\n",
      "[5, 6, 7, 8, 10, 11, 7, 5]\n",
      "[5, 6, 7, 8, 10, 11, 7, 5, 6, 12, 10, 8]\n",
      "[5, 6, 7, 8, 10, 11, 7, 5, 6, 12, 10, 8, 1, 2, 5]\n",
      "The unique values list is :  [1, 2, 5, 6, 7, 8, 10, 11, 12]\n"
     ]
    }
   ],
   "source": [
    "test_dict = {'gfg': [5, 6, 7, 8],\n",
    "             'is': [10, 11, 7, 5],\n",
    "             'best': [6, 12, 10, 8],\n",
    "             'for': [1, 2, 5]}\n",
    "print(\"The original Dictionary is:\",test_dict)\n",
    "x=list(test_dict.values())\n",
    "print(x)\n",
    "y = []\n",
    "result = []\n",
    "for i in x:\n",
    "    y.extend(i)\n",
    "    print(y)\n",
    "for i in y:\n",
    "    if i not in result:\n",
    "        result.append(i)\n",
    "result.sort()\n",
    "print(\"The unique values list is : \",result)"
   ]
  },
  {
   "cell_type": "markdown",
   "id": "5bca3e64",
   "metadata": {},
   "source": [
    "### Keys associated with Values in Dictionary"
   ]
  },
  {
   "cell_type": "code",
   "execution_count": 93,
   "id": "505b6d3c",
   "metadata": {},
   "outputs": [
    {
     "name": "stdout",
     "output_type": "stream",
     "text": [
      "The Original Dictionary is: {'gfg': [1, 2, 3], 'is': [1, 4], 'best': [4, 2]}\n",
      "The values associated dictionary: {1: ['gfg', 'is'], 2: ['gfg', 'best'], 3: ['gfg'], 4: ['is', 'best']}\n"
     ]
    }
   ],
   "source": [
    "from collections import defaultdict\n",
    "test_dict = {'gfg' : [1, 2, 3], 'is' : [1, 4], 'best' : [4, 2]} \n",
    "print(\"The Original Dictionary is:\",test_dict)\n",
    "result = defaultdict(list)\n",
    "for key,val in test_dict.items():\n",
    "    for ele in val:\n",
    "        result[ele].append(key)\n",
    "        \n",
    "print(\"The values associated dictionary:\",dict(result))"
   ]
  },
  {
   "cell_type": "code",
   "execution_count": 96,
   "id": "f3e54f4e",
   "metadata": {},
   "outputs": [
    {
     "name": "stdout",
     "output_type": "stream",
     "text": [
      "The Original Dictionary is: {'gfg': [1, 2, 3], 'is': [1, 4], 'best': [4, 2]}\n",
      "The values associated dictionary: {1: ['gfg', 'is'], 2: ['gfg', 'best'], 3: ['gfg'], 4: ['is', 'best']}\n"
     ]
    }
   ],
   "source": [
    "test_dict = {'gfg': [1, 2, 3], 'is': [1, 4], 'best': [4, 2]} \n",
    "print(\"The Original Dictionary is:\", test_dict)\n",
    "\n",
    "result = {}\n",
    "for key, val in test_dict.items():\n",
    "    for ele in val:\n",
    "        if ele in result:\n",
    "            result[ele].append(key)\n",
    "        else:\n",
    "            result[ele] = [key]\n",
    "\n",
    "print(\"The values associated dictionary:\", result)\n"
   ]
  },
  {
   "cell_type": "code",
   "execution_count": 97,
   "id": "d6e1a5f2",
   "metadata": {},
   "outputs": [
    {
     "name": "stdout",
     "output_type": "stream",
     "text": [
      "The Original Dictionary is: {'gfg': [1, 2, 3], 'is': [1, 4], 'best': [4, 2]}\n",
      "The values associated dictionary: {1: ['gfg', 'is'], 2: ['gfg', 'best'], 3: ['gfg'], 4: ['is', 'best']}\n"
     ]
    }
   ],
   "source": [
    "test_dict = {'gfg' : [1, 2, 3], 'is' : [1, 4], 'best' : [4, 2]} \n",
    "print(\"The Original Dictionary is:\",test_dict)\n",
    "result = {}\n",
    "for key,val in test_dict.items():\n",
    "    for ele in val:\n",
    "        result.setdefault(ele,[]).append(key)\n",
    "        \n",
    "print(\"The values associated dictionary:\",dict(result))"
   ]
  },
  {
   "cell_type": "markdown",
   "id": "53b6f2a4",
   "metadata": {},
   "source": [
    "### Filter dictionary values in heterogeneous dictionary"
   ]
  },
  {
   "cell_type": "code",
   "execution_count": 98,
   "id": "7b912436",
   "metadata": {},
   "outputs": [
    {
     "name": "stdout",
     "output_type": "stream",
     "text": [
      "The Original Dictionary is: {'Gfg': 4, 'is': 2, 'best': 3, 'for': 'geeks'}\n",
      "{'Gfg': 4, 'for': 'geeks'}\n"
     ]
    }
   ],
   "source": [
    "test_dict = {'Gfg' : 4, 'is' : 2, 'best' : 3, 'for' : 'geeks'}\n",
    "print(\"The Original Dictionary is:\",test_dict)\n",
    "K = 3\n",
    "result = {key:val for key,val in test_dict.items() if type(val)!=int or val > K}\n",
    "print(result)"
   ]
  },
  {
   "cell_type": "code",
   "execution_count": 99,
   "id": "75d2197a",
   "metadata": {},
   "outputs": [
    {
     "name": "stdout",
     "output_type": "stream",
     "text": [
      "The Original Dictionary is: {'Gfg': 4, 'is': 2, 'best': 3, 'for': 'geeks'}\n",
      "{'Gfg': 4, 'for': 'geeks'}\n"
     ]
    }
   ],
   "source": [
    "test_dict = {'Gfg' : 4, 'is' : 2, 'best' : 3, 'for' : 'geeks'}\n",
    "print(\"The Original Dictionary is:\",test_dict)\n",
    "K = 3\n",
    "result = {key:val for key,val in test_dict.items() if not isinstance(val,int) or val > K}\n",
    "print(result)"
   ]
  },
  {
   "cell_type": "markdown",
   "id": "897440c9",
   "metadata": {},
   "source": [
    "### Print anagrams together in Python using List and Dictionary"
   ]
  },
  {
   "cell_type": "code",
   "execution_count": 101,
   "id": "4608e660",
   "metadata": {},
   "outputs": [
    {
     "name": "stdout",
     "output_type": "stream",
     "text": [
      "cat tac act dog god \n"
     ]
    }
   ],
   "source": [
    "def allAnagram(input):\n",
    "    dict={}\n",
    "    for strval in input:\n",
    "        key = \"\".join(sorted(strval))\n",
    "        if key in dict.keys():\n",
    "            dict[key].append(strval)\n",
    "        else:\n",
    "            dict[key] = []\n",
    "            dict[key].append(strval)\n",
    "            \n",
    "        output = \"\"\n",
    "    for key,value in dict.items():\n",
    "        output = output + ' '.join(value) + ' '\n",
    " \n",
    "    return output\n",
    " \n",
    "# Driver function\n",
    "if __name__ == \"__main__\":\n",
    "    input=['cat', 'dog', 'tac', 'god', 'act']\n",
    "    print (allAnagram(input))"
   ]
  },
  {
   "cell_type": "markdown",
   "id": "44262c08",
   "metadata": {},
   "source": [
    "### Sort Dictionary key and values List"
   ]
  },
  {
   "cell_type": "code",
   "execution_count": 103,
   "id": "a7dcfa59",
   "metadata": {},
   "outputs": [
    {
     "name": "stdout",
     "output_type": "stream",
     "text": [
      "The Original Dictionary is: {'gfg': [7, 6, 3], 'is': [2, 10, 3], 'best': [19, 4]}\n",
      "The Sorted dictionary is: {'best': [4, 19], 'gfg': [3, 6, 7], 'is': [2, 3, 10]}\n"
     ]
    }
   ],
   "source": [
    "test_dict = {'gfg': [7, 6, 3], \n",
    "             'is': [2, 10, 3], \n",
    "             'best': [19, 4]}\n",
    "print(\"The Original Dictionary is:\",test_dict)\n",
    "result = dict()\n",
    "for key in sorted(test_dict):\n",
    "    result[key] = sorted(test_dict[key])\n",
    "print(\"The Sorted dictionary is:\",result)"
   ]
  },
  {
   "cell_type": "code",
   "execution_count": 104,
   "id": "b1cd3435",
   "metadata": {},
   "outputs": [
    {
     "name": "stdout",
     "output_type": "stream",
     "text": [
      "The Original Dictionary is: {'gfg': [7, 6, 3], 'is': [2, 10, 3], 'best': [19, 4]}\n",
      "The Sorted dictionary is: {'best': [4, 19], 'gfg': [3, 6, 7], 'is': [2, 3, 10]}\n"
     ]
    }
   ],
   "source": [
    "test_dict = {'gfg': [7, 6, 3], \n",
    "             'is': [2, 10, 3], \n",
    "             'best': [19, 4]}\n",
    "print(\"The Original Dictionary is:\",test_dict)\n",
    "result = {key:sorted(test_dict[key]) for key in sorted(test_dict)}\n",
    "print(\"The Sorted dictionary is:\",result)"
   ]
  },
  {
   "cell_type": "markdown",
   "id": "4103ba1d",
   "metadata": {},
   "source": [
    "### Sort Dictionary by Values Summation"
   ]
  },
  {
   "cell_type": "code",
   "execution_count": 106,
   "id": "ae71c55f",
   "metadata": {},
   "outputs": [
    {
     "name": "stdout",
     "output_type": "stream",
     "text": [
      "The Original Dictionary is: {'Gfg': [6, 7, 4], 'is': [4, 3, 2], 'best': [7, 6, 5]}\n",
      "The sorted dictionary is: {'is': 9, 'Gfg': 17, 'best': 18}\n"
     ]
    }
   ],
   "source": [
    "test_dict = {'Gfg' : [6, 7, 4], 'is' : [4, 3, 2], 'best' : [7, 6, 5]} \n",
    "print(\"The Original Dictionary is:\",test_dict)\n",
    "temp1 = {key:sum(int(ele) for ele in val) for key,val in test_dict.items()}\n",
    "temp2 = sorted(temp1.items(),key = lambda ele:temp1[ele[0]])\n",
    "result = {key:val for key,val in temp2}\n",
    "print(\"The sorted dictionary is:\",result)"
   ]
  },
  {
   "cell_type": "code",
   "execution_count": 116,
   "id": "ac2dca8e",
   "metadata": {},
   "outputs": [
    {
     "name": "stdout",
     "output_type": "stream",
     "text": [
      "The Original Dictionary is: {'Gfg': [6, 7, 4], 'is': [4, 3, 2], 'best': [7, 6, 5]}\n",
      "The sorted dictionary is: {'is': 9, 'best': 18, 'Gfg': 17}\n"
     ]
    }
   ],
   "source": [
    "test_dict = {'Gfg' : [6, 7, 4], 'is' : [4, 3, 2], 'best' : [7, 6, 5]} \n",
    "print(\"The Original Dictionary is:\",test_dict)\n",
    "\n",
    "temp_dict = defaultdict(int)\n",
    "for key,val in test_dict.items():\n",
    "    temp_dict[key] = sum(val)\n",
    "sorted_dict = dict(sorted(temp_dict.items(),reverse =True))\n",
    "\n",
    "print(\"The sorted dictionary is:\",sorted_dict)"
   ]
  },
  {
   "cell_type": "markdown",
   "id": "24fbb3d6",
   "metadata": {},
   "source": [
    "### Sort dictionaries list by Key’s Value list index"
   ]
  },
  {
   "cell_type": "code",
   "execution_count": 117,
   "id": "64e8f3ff",
   "metadata": {},
   "outputs": [
    {
     "name": "stdout",
     "output_type": "stream",
     "text": [
      "The Original list is: [{'Gfg': [6, 7, 8], 'is': 9, 'best': 10}, {'Gfg': [2, 0, 3], 'is': 11, 'best': 19}, {'Gfg': [4, 6, 9], 'is': 16, 'best': 1}]\n",
      "The Required sort order: [{'Gfg': [2, 0, 3], 'is': 11, 'best': 19}, {'Gfg': [6, 7, 8], 'is': 9, 'best': 10}, {'Gfg': [4, 6, 9], 'is': 16, 'best': 1}]\n"
     ]
    }
   ],
   "source": [
    "test_list = [{\"Gfg\" : [6, 7, 8], \"is\" : 9, \"best\" : 10}, \n",
    "             {\"Gfg\" : [2, 0, 3], \"is\" : 11, \"best\" : 19},\n",
    "             {\"Gfg\" : [4, 6, 9], \"is\" : 16, \"best\" : 1}]\n",
    "print(\"The Original list is:\",test_list)\n",
    "K = \"Gfg\"\n",
    "idx = 2\n",
    "result = sorted(test_list,key = lambda ele : ele[K][idx])\n",
    "print(\"The Required sort order:\",result)"
   ]
  },
  {
   "cell_type": "code",
   "execution_count": 118,
   "id": "879140e5",
   "metadata": {},
   "outputs": [
    {
     "name": "stdout",
     "output_type": "stream",
     "text": [
      "The Original list is: [{'Gfg': [6, 7, 8], 'is': 9, 'best': 10}, {'Gfg': [2, 0, 3], 'is': 11, 'best': 19}, {'Gfg': [4, 6, 9], 'is': 16, 'best': 1}]\n",
      "The Required sort order: [{'Gfg': [2, 0, 3], 'is': 11, 'best': 19}, {'Gfg': [6, 7, 8], 'is': 9, 'best': 10}, {'Gfg': [4, 6, 9], 'is': 16, 'best': 1}]\n"
     ]
    }
   ],
   "source": [
    "test_list = [{\"Gfg\" : [6, 7, 8], \"is\" : 9, \"best\" : 10}, \n",
    "             {\"Gfg\" : [2, 0, 3], \"is\" : 11, \"best\" : 19},\n",
    "             {\"Gfg\" : [4, 6, 9], \"is\" : 16, \"best\" : 1}]\n",
    "print(\"The Original list is:\",test_list)\n",
    "K = \"Gfg\"\n",
    "idx = 2\n",
    "result = [d for d in sorted(test_list,key=lambda x:x[K][idx])]\n",
    "print(\"The Required sort order:\",result)"
   ]
  },
  {
   "cell_type": "code",
   "execution_count": 122,
   "id": "8ed78905",
   "metadata": {},
   "outputs": [
    {
     "name": "stdout",
     "output_type": "stream",
     "text": [
      "The Original list is: [{'Gfg': [6, 7, 8], 'is': 9, 'best': 10}, {'Gfg': [2, 0, 3], 'is': 11, 'best': 19}, {'Gfg': [4, 6, 9], 'is': 16, 'best': 1}]\n",
      "The Required sort order: [{'Gfg': [2, 0, 3], 'is': 11, 'best': 19}, {'Gfg': [6, 7, 8], 'is': 9, 'best': 10}, {'Gfg': [4, 6, 9], 'is': 16, 'best': 1}]\n"
     ]
    }
   ],
   "source": [
    "from operator import itemgetter\n",
    "test_list = [{\"Gfg\" : [6, 7, 8], \"is\" : 9, \"best\" : 10}, \n",
    "             {\"Gfg\" : [2, 0, 3], \"is\" : 11, \"best\" : 19},\n",
    "             {\"Gfg\" : [4, 6, 9], \"is\" : 16, \"best\" : 1}]\n",
    "print(\"The Original list is:\",test_list)\n",
    "K = \"Gfg\"\n",
    "idx = 2\n",
    "result = sorted(test_list, key=lambda x:itemgetter(idx)(x[K]))\n",
    "print(\"The Required sort order:\",result)"
   ]
  },
  {
   "cell_type": "markdown",
   "id": "4bf30d83",
   "metadata": {},
   "source": [
    "### Sort Nested keys by Value"
   ]
  },
  {
   "cell_type": "code",
   "execution_count": 127,
   "id": "bcb7afed",
   "metadata": {},
   "outputs": [
    {
     "name": "stdout",
     "output_type": "stream",
     "text": [
      "The Original Dictionary is: {'Nikhil': {'English': 5, 'Maths': 2, 'Science': 14}, 'Akash': {'English': 15, 'Maths': 7, 'Science': 2}, 'Akshat': {'English': 5, 'Maths': 50, 'Science': 20}}\n",
      "The sorted Dictionary is : {'Nikhil': {'Maths': 2, 'English': 5, 'Science': 14}, 'Akash': {'Science': 2, 'Maths': 7, 'English': 15}, 'Akshat': {'English': 5, 'Science': 20, 'Maths': 50}}\n"
     ]
    }
   ],
   "source": [
    "test_dict = {'Nikhil' : {'English' : 5, 'Maths' :  2, 'Science' : 14},\n",
    "             'Akash' : {'English' : 15, 'Maths' :  7, 'Science' : 2},\n",
    "             'Akshat' : {'English' : 5, 'Maths' :  50, 'Science' : 20}}\n",
    "print(\"The Original Dictionary is:\",test_dict)\n",
    "result = {key:dict(sorted(val.items(),key = lambda ele:ele[1])) for key,val in test_dict.items()}\n",
    "print(\"The sorted Dictionary is :\",result)"
   ]
  },
  {
   "cell_type": "code",
   "execution_count": 130,
   "id": "fa26e36e",
   "metadata": {},
   "outputs": [
    {
     "name": "stdout",
     "output_type": "stream",
     "text": [
      "The Original Dictionary is: {'Nikhil': {'English': 5, 'Maths': 2, 'Science': 14}, 'Akash': {'English': 15, 'Maths': 7, 'Science': 2}, 'Akshat': {'English': 5, 'Maths': 50, 'Science': 20}}\n",
      "The sorted Dictionary is : {'Nikhil': {'Maths': 2, 'English': 5, 'Science': 14}, 'Akash': {'Science': 2, 'Maths': 7, 'English': 15}, 'Akshat': {'English': 5, 'Science': 20, 'Maths': 50}}\n"
     ]
    }
   ],
   "source": [
    "from operator import itemgetter\n",
    "test_dict = {'Nikhil' : {'English' : 5, 'Maths' :  2, 'Science' : 14},\n",
    "             'Akash' : {'English' : 15, 'Maths' :  7, 'Science' : 2},\n",
    "             'Akshat' : {'English' : 5, 'Maths' :  50, 'Science' : 20}}\n",
    "print(\"The Original Dictionary is:\",test_dict)\n",
    "result = {key : dict(sorted(val.items(), key=itemgetter(1)))\n",
    "       for key, val in test_dict.items()}\n",
    "print(\"The sorted Dictionary is :\",result)"
   ]
  },
  {
   "cell_type": "markdown",
   "id": "853b21b3",
   "metadata": {},
   "source": [
    "### Scoring Matrix using Dictionary"
   ]
  },
  {
   "cell_type": "code",
   "execution_count": 133,
   "id": "1ccd3078",
   "metadata": {},
   "outputs": [
    {
     "name": "stdout",
     "output_type": "stream",
     "text": [
      "The Original list is: [['gfg', 'is', 'best'], ['gfg', 'is', 'for', 'geeks']]\n",
      "The Original Dictionary is: {'gfg': 5, 'is': 10, 'best': 13, 'for': 2, 'geeks': 15}\n",
      "The Row scores: [5, 10, 13, 5, 10, 2, 15]\n"
     ]
    }
   ],
   "source": [
    "test_list = [['gfg', 'is', 'best'], ['gfg', 'is', 'for', 'geeks']]\n",
    "print(\"The Original list is:\",test_list)\n",
    "test_dict = {'gfg' : 5, 'is' : 10, 'best' : 13, 'for' : 2, 'geeks' : 15}\n",
    "print(\"The Original Dictionary is:\",test_dict)\n",
    "result = []\n",
    "for sub in test_list:\n",
    "    sum = 0\n",
    "    for val in sub:\n",
    "        if val in test_dict:\n",
    "            sum = test_dict[val]\n",
    "        result.append(sum)\n",
    "print(\"The Row scores:\",result)"
   ]
  },
  {
   "cell_type": "code",
   "execution_count": 137,
   "id": "b34d9864",
   "metadata": {},
   "outputs": [
    {
     "name": "stdout",
     "output_type": "stream",
     "text": [
      "The Original list is: [['gfg', 'is', 'best'], ['gfg', 'is', 'for', 'geeks']]\n",
      "The Original Dictionary is: {'gfg': 5, 'is': 10, 'best': 13, 'for': 2, 'geeks': 15}\n",
      "The Row scores: [28, 32]\n"
     ]
    }
   ],
   "source": [
    "test_list = [['gfg', 'is', 'best'], ['gfg', 'is', 'for', 'geeks']]\n",
    "print(\"The Original list is:\",test_list)\n",
    "test_dict = {'gfg' : 5, 'is' : 10, 'best' : 13, 'for' : 2, 'geeks' : 15}\n",
    "print(\"The Original Dictionary is:\",test_dict)\n",
    "result = [sum(test_dict[word] if word.lower() in test_dict else 0 for word in sub) for sub in test_list]\n",
    "\n",
    "print(\"The Row scores:\",result)"
   ]
  },
  {
   "cell_type": "markdown",
   "id": "fba649d6",
   "metadata": {},
   "source": [
    "### Factors Frequency Dictionary"
   ]
  },
  {
   "cell_type": "code",
   "execution_count": 144,
   "id": "3b96a0cf",
   "metadata": {},
   "outputs": [
    {
     "name": "stdout",
     "output_type": "stream",
     "text": [
      "The Original list is: [2, 4, 6, 8, 3, 9, 12, 15, 16, 18]\n",
      "The Constructed dictionary is: {1: 10, 2: 7, 3: 6, 4: 4, 5: 1, 6: 3, 7: 0, 8: 2, 9: 2, 10: 0, 11: 0, 12: 1, 13: 0, 14: 0, 15: 1, 16: 1, 17: 0}\n"
     ]
    }
   ],
   "source": [
    "test_list = [2, 4, 6, 8, 3, 9, 12, 15, 16, 18]\n",
    "print(\"The Original list is:\",test_list)\n",
    "result = dict()\n",
    "for i in range(1,max(test_list)):\n",
    "    result[i] = 0\n",
    "    for key in test_list:\n",
    "        if key%i == 0:\n",
    "            result[i] += 1\n",
    "print(\"The Constructed dictionary is:\",result)"
   ]
  },
  {
   "cell_type": "code",
   "execution_count": 145,
   "id": "40747c2f",
   "metadata": {},
   "outputs": [
    {
     "name": "stdout",
     "output_type": "stream",
     "text": [
      "The Original list is: [2, 4, 6, 8, 3, 9, 12, 15, 16, 18]\n",
      "The Constructed dictionary is: {1: 10, 2: 7, 3: 6, 4: 4, 5: 1, 6: 3, 7: 0, 8: 2, 9: 2, 10: 0, 11: 0, 12: 1, 13: 0, 14: 0, 15: 1, 16: 1, 17: 0}\n"
     ]
    }
   ],
   "source": [
    "test_list = [2, 4, 6, 8, 3, 9, 12, 15, 16, 18]\n",
    "print(\"The Original list is:\",test_list)\n",
    "result = dict()\n",
    "for i in range(1,max(test_list)):\n",
    "    result[i] = sum(key%i == 0 for key in test_list)\n",
    "print(\"The Constructed dictionary is:\",result)"
   ]
  },
  {
   "cell_type": "code",
   "execution_count": null,
   "id": "a0abc981",
   "metadata": {},
   "outputs": [],
   "source": []
  }
 ],
 "metadata": {
  "kernelspec": {
   "display_name": "Python 3 (ipykernel)",
   "language": "python",
   "name": "python3"
  },
  "language_info": {
   "codemirror_mode": {
    "name": "ipython",
    "version": 3
   },
   "file_extension": ".py",
   "mimetype": "text/x-python",
   "name": "python",
   "nbconvert_exporter": "python",
   "pygments_lexer": "ipython3",
   "version": "3.11.5"
  }
 },
 "nbformat": 4,
 "nbformat_minor": 5
}
