{
 "cells": [
  {
   "cell_type": "code",
   "execution_count": 1,
   "metadata": {},
   "outputs": [],
   "source": [
    "## Creating a basic class:\n",
    "class person:\n",
    "    def __init__(self,name,age):\n",
    "        self.name=name\n",
    "        self.age=age\n",
    "        \n",
    "    def greet(self):\n",
    "        return f\"Hello! My name is {self.name}.And my age is {self.age} .\""
   ]
  },
  {
   "cell_type": "code",
   "execution_count": 2,
   "metadata": {},
   "outputs": [],
   "source": [
    "### Creating objects from the class:\n",
    "person1=person(\"Jon\",25)\n",
    "person2=person(\"Alice\",56)"
   ]
  },
  {
   "cell_type": "code",
   "execution_count": 3,
   "metadata": {},
   "outputs": [
    {
     "name": "stdout",
     "output_type": "stream",
     "text": [
      "Jon\n",
      "56\n"
     ]
    }
   ],
   "source": [
    "# Accessing object attributes:\n",
    "print(person1.name)\n",
    "print(person2.age)"
   ]
  },
  {
   "cell_type": "code",
   "execution_count": 4,
   "metadata": {},
   "outputs": [
    {
     "name": "stdout",
     "output_type": "stream",
     "text": [
      "Hello! My name is Jon.And my age is 25 .\n",
      "Hello! My name is Alice.And my age is 56 .\n"
     ]
    }
   ],
   "source": [
    "# Calling object methods:\n",
    "print(person1.greet())\n",
    "print(person2.greet())"
   ]
  },
  {
   "cell_type": "code",
   "execution_count": 5,
   "metadata": {},
   "outputs": [
    {
     "name": "stdout",
     "output_type": "stream",
     "text": [
      "Alice\n",
      "45\n",
      "Hello Alice and the marks is 28.\n",
      "Hello Jon and the marks is 45.\n"
     ]
    }
   ],
   "source": [
    "# Example 2\n",
    "#creating a class\n",
    "class student:\n",
    "    def __init__(self,name,marks):\n",
    "        self.name=name\n",
    "        self.marks=marks\n",
    "        \n",
    "    def mark(self):\n",
    "        return f\"Hello {self.name} and the marks is {self.marks}.\"\n",
    "    \n",
    "#creating the object\n",
    "student1=student(\"Alice\",28)\n",
    "student2=student(\"Jon\",45)\n",
    "\n",
    "#Accessing the object\n",
    "print(student1.name)\n",
    "print(student2.marks)\n",
    "\n",
    "#calling the object\n",
    "print(student1.mark())\n",
    "print(student2.mark())"
   ]
  },
  {
   "cell_type": "code",
   "execution_count": 6,
   "metadata": {},
   "outputs": [],
   "source": [
    "# Inheritance\n",
    "class student(person):\n",
    "    def __init__(self,name,age,stu_id):\n",
    "        super().__init__(name,age)\n",
    "        self.stu_id=stu_id\n",
    "        \n",
    "    def study(self,subject):\n",
    "        return f\"{self.name} is studying {subject}.\""
   ]
  },
  {
   "cell_type": "code",
   "execution_count": 7,
   "metadata": {},
   "outputs": [],
   "source": [
    "# creating a subject object\n",
    "student1=student(\"Jon\",20,\"S12345\")"
   ]
  },
  {
   "cell_type": "code",
   "execution_count": 8,
   "metadata": {},
   "outputs": [
    {
     "name": "stdout",
     "output_type": "stream",
     "text": [
      "Jon is studying math.\n"
     ]
    }
   ],
   "source": [
    "# Using the subclass method\n",
    "print(student1.study(\"math\"))"
   ]
  },
  {
   "cell_type": "code",
   "execution_count": 9,
   "metadata": {},
   "outputs": [],
   "source": [
    "# Encapsulation\n",
    "class BankAccount:\n",
    "    def __init__(self,acc_number,balance):\n",
    "        self._acc_number=acc_number\n",
    "        self._balance=balance\n",
    "        \n",
    "    def deposite(self,amount):\n",
    "        self._balance += amount\n",
    "        \n",
    "    def withdraw(self,amount):\n",
    "        if amount<=self._balance:\n",
    "            self._balance -= amount\n",
    "        else:\n",
    "            print(\"Insufficient Funds\")\n",
    "            \n",
    "    def get_balance(self):\n",
    "        return self._balance"
   ]
  },
  {
   "cell_type": "code",
   "execution_count": 10,
   "metadata": {},
   "outputs": [
    {
     "name": "stdout",
     "output_type": "stream",
     "text": [
      "1300\n"
     ]
    }
   ],
   "source": [
    "# Using Encapsulation\n",
    "account=BankAccount(\"123456789\",1000)\n",
    "account.deposite(500)\n",
    "account.withdraw(200)\n",
    "print(account.get_balance())"
   ]
  },
  {
   "cell_type": "code",
   "execution_count": 1,
   "metadata": {},
   "outputs": [],
   "source": [
    "# Property methods (getter and setter):\n",
    "class ractangle:\n",
    "    def __init__(self,width,height):\n",
    "        self._width=width\n",
    "        self._height=height\n",
    "        \n",
    "    @property\n",
    "    def width(self):\n",
    "        return self._width\n",
    "    \n",
    "    @width.setter\n",
    "    def width(self,value):\n",
    "        if value>0:\n",
    "            self._width=value\n",
    "        else:\n",
    "            print(\"Width must be greater then 0\")\n",
    "            \n",
    "            \n",
    "    @property\n",
    "    def height(self):\n",
    "        return self.height\n",
    "    \n",
    "    @height.setter\n",
    "    def height(self,value):\n",
    "        if value>0:\n",
    "            self._height=value\n",
    "        else:\n",
    "            print(\"Height must be greater then 0\")\n",
    "            \n",
    "            \n",
    "    def area(self):\n",
    "        return self._width * self._height\n",
    "        "
   ]
  },
  {
   "cell_type": "code",
   "execution_count": null,
   "metadata": {},
   "outputs": [],
   "source": [
    "# using property method\n",
    "ract=ractangle(5,7)\n",
    "ract.width=10\n",
    "ract.height=8\n",
    "print(ract.width)\n",
    "print(ract.height())"
   ]
  },
  {
   "cell_type": "code",
   "execution_count": 5,
   "metadata": {},
   "outputs": [],
   "source": [
    "# Static method\n",
    "class MathUtils:\n",
    "    @staticmethod\n",
    "    def add(x,y):\n",
    "        return x+y\n",
    "    @staticmethod\n",
    "    def sub(x,y):\n",
    "        return x-y"
   ]
  },
  {
   "cell_type": "code",
   "execution_count": 6,
   "metadata": {},
   "outputs": [],
   "source": [
    "result=MathUtils.add(4,5)\n",
    "diff=MathUtils.sub(5,1)"
   ]
  },
  {
   "cell_type": "code",
   "execution_count": 7,
   "metadata": {},
   "outputs": [
    {
     "name": "stdout",
     "output_type": "stream",
     "text": [
      "9\n",
      "4\n"
     ]
    }
   ],
   "source": [
    "print(result)\n",
    "print(diff)"
   ]
  },
  {
   "cell_type": "code",
   "execution_count": 11,
   "metadata": {},
   "outputs": [],
   "source": [
    "# Class methods:\n",
    "class MyClass:\n",
    "    class_variable = 0\n",
    "\n",
    "    def __init__(self, value):\n",
    "        self.instance_variable = value\n",
    "\n",
    "    @classmethod\n",
    "    def increment_class_variable(cls):\n",
    "        cls.class_variable += 1"
   ]
  },
  {
   "cell_type": "code",
   "execution_count": 14,
   "metadata": {},
   "outputs": [
    {
     "name": "stdout",
     "output_type": "stream",
     "text": [
      "3\n"
     ]
    }
   ],
   "source": [
    "#using class method\n",
    "obj1 = MyClass(10)\n",
    "obj2 = MyClass(20)\n",
    "MyClass.increment_class_variable()\n",
    "print(MyClass.class_variable)"
   ]
  },
  {
   "cell_type": "code",
   "execution_count": 15,
   "metadata": {},
   "outputs": [],
   "source": [
    "#Magic methods (e.g., __str__):\n",
    "class Point:\n",
    "    def __init__(self, x, y):\n",
    "        self.x = x\n",
    "        self.y = y\n",
    "\n",
    "    def __str__(self):\n",
    "        return f\"({self.x}, {self.y})\"\n"
   ]
  },
  {
   "cell_type": "code",
   "execution_count": 16,
   "metadata": {},
   "outputs": [
    {
     "name": "stdout",
     "output_type": "stream",
     "text": [
      "(3, 4)\n"
     ]
    }
   ],
   "source": [
    "# Using the __str__ magic method:\n",
    "point = Point(3, 4)\n",
    "print(point)\n"
   ]
  },
  {
   "cell_type": "code",
   "execution_count": 17,
   "metadata": {},
   "outputs": [],
   "source": [
    "# Magic methods (e.g., __add__ for operator overloading):\n",
    "class ComplexNumber:\n",
    "    def __init__(self, real, imag):\n",
    "        self.real = real\n",
    "        self.imag = imag\n",
    "\n",
    "    def __add__(self, other):\n",
    "        real_sum = self.real + other.real\n",
    "        imag_sum = self.imag + other.imag\n",
    "        return ComplexNumber(real_sum, imag_sum)\n",
    "\n",
    "    def __str__(self):\n",
    "        return f\"{self.real} + {self.imag}i\"\n"
   ]
  },
  {
   "cell_type": "code",
   "execution_count": 18,
   "metadata": {},
   "outputs": [
    {
     "name": "stdout",
     "output_type": "stream",
     "text": [
      "4 + 9i\n"
     ]
    }
   ],
   "source": [
    "#Using the __add__ magic method:\n",
    "c1 = ComplexNumber(3, 2)\n",
    "c2 = ComplexNumber(1, 7)\n",
    "result = c1 + c2\n",
    "print(result)\n"
   ]
  },
  {
   "cell_type": "code",
   "execution_count": 19,
   "metadata": {},
   "outputs": [],
   "source": [
    "# Magic methods (e.g., __eq__ for custom equality comparison):\n",
    "class Book:\n",
    "    def __init__(self, title, author):\n",
    "        self.title = title\n",
    "        self.author = author\n",
    "\n",
    "    def __eq__(self, other):\n",
    "        return self.title == other.title and self.author == other.author\n"
   ]
  },
  {
   "cell_type": "code",
   "execution_count": 20,
   "metadata": {},
   "outputs": [
    {
     "name": "stdout",
     "output_type": "stream",
     "text": [
      "True\n"
     ]
    }
   ],
   "source": [
    "# Using the __eq__ magic method:\n",
    "book1 = Book(\"Python 101\", \"John Smith\")\n",
    "book2 = Book(\"Python 101\", \"John Smith\")\n",
    "print(book1 == book2)\n"
   ]
  },
  {
   "cell_type": "code",
   "execution_count": 21,
   "metadata": {},
   "outputs": [],
   "source": [
    "#Composition:\n",
    "class Engine:\n",
    "    def start(self):\n",
    "        return \"Engine started.\"\n",
    "\n",
    "class Car:\n",
    "    def __init__(self):\n",
    "        self.engine = Engine()\n",
    "\n",
    "    def start(self):\n",
    "        return f\"Car started. {self.engine.start()}\"\n"
   ]
  },
  {
   "cell_type": "code",
   "execution_count": 22,
   "metadata": {},
   "outputs": [
    {
     "name": "stdout",
     "output_type": "stream",
     "text": [
      "Car started. Engine started.\n"
     ]
    }
   ],
   "source": [
    "#Using composition:\n",
    "my_car = Car()\n",
    "print(my_car.start())\n"
   ]
  },
  {
   "cell_type": "code",
   "execution_count": 23,
   "metadata": {},
   "outputs": [],
   "source": [
    "# Aggregation:\n",
    "class Student:\n",
    "    def __init__(self, name, courses):\n",
    "        self.name = name\n",
    "        self.courses = courses\n",
    "\n",
    "class Course:\n",
    "    def __init__(self, name):\n",
    "        self.name = name\n"
   ]
  },
  {
   "cell_type": "code",
   "execution_count": 25,
   "metadata": {},
   "outputs": [],
   "source": [
    "#Using aggregation:\n",
    "math_course = Course(\"Math\")\n",
    "physics_course = Course(\"Physics\")\n",
    "student1 = Student(\"Alice\", [math_course, physics_course])\n"
   ]
  },
  {
   "cell_type": "code",
   "execution_count": 26,
   "metadata": {},
   "outputs": [],
   "source": [
    "# Decorators on methods:\n",
    "def log_method_call(func):\n",
    "    def wrapper(*args, **kwargs):\n",
    "        print(f\"Calling method: {func.__name__}\")\n",
    "        result = func(*args, **kwargs)\n",
    "        print(f\"{func.__name__} returned: {result}\")\n",
    "        return result\n",
    "    return wrapper\n",
    "\n",
    "class Calculator:\n",
    "    @log_method_call\n",
    "    def add(self, x, y):\n",
    "        return x + y\n",
    "\n",
    "    @log_method_call\n",
    "    def subtract(self, x, y):\n",
    "        return x - y\n"
   ]
  },
  {
   "cell_type": "code",
   "execution_count": 27,
   "metadata": {},
   "outputs": [
    {
     "name": "stdout",
     "output_type": "stream",
     "text": [
      "Calling method: add\n",
      "add returned: 8\n",
      "Calling method: subtract\n",
      "subtract returned: 6\n"
     ]
    }
   ],
   "source": [
    "# Using method decorators:\n",
    "calc = Calculator()\n",
    "result = calc.add(5, 3)\n",
    "difference = calc.subtract(10, 4)\n"
   ]
  },
  {
   "cell_type": "code",
   "execution_count": null,
   "metadata": {},
   "outputs": [],
   "source": []
  }
 ],
 "metadata": {
  "kernelspec": {
   "display_name": "Python 3",
   "language": "python",
   "name": "python3"
  },
  "language_info": {
   "codemirror_mode": {
    "name": "ipython",
    "version": 3
   },
   "file_extension": ".py",
   "mimetype": "text/x-python",
   "name": "python",
   "nbconvert_exporter": "python",
   "pygments_lexer": "ipython3",
   "version": "3.7.6"
  }
 },
 "nbformat": 4,
 "nbformat_minor": 4
}
